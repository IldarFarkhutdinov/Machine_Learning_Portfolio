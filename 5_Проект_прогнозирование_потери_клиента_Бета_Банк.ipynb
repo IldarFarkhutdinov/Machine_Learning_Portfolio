{
  "cells": [
    {
      "cell_type": "markdown",
      "metadata": {
        "toc": true,
        "id": "Q6NKhRAInJBq"
      },
      "source": [
        "<h1>Содержание<span class=\"tocSkip\"></span></h1>\n",
        "<div class=\"toc\"><ul class=\"toc-item\"><li><span><a href=\"#Подготовка-данных\" data-toc-modified-id=\"Подготовка-данных-1\"><span class=\"toc-item-num\">1&nbsp;&nbsp;</span>Подготовка данных</a></span></li><li><span><a href=\"#Исследование-задачи\" data-toc-modified-id=\"Исследование-задачи-2\"><span class=\"toc-item-num\">2&nbsp;&nbsp;</span>Исследование задачи</a></span></li><li><span><a href=\"#Борьба-с-дисбалансом\" data-toc-modified-id=\"Борьба-с-дисбалансом-3\"><span class=\"toc-item-num\">3&nbsp;&nbsp;</span>Борьба с дисбалансом</a></span></li><li><span><a href=\"#Тестирование-модели\" data-toc-modified-id=\"Тестирование-модели-4\"><span class=\"toc-item-num\">4&nbsp;&nbsp;</span>Тестирование модели</a></span></li><li><span><a href=\"#Чек-лист-готовности-проекта\" data-toc-modified-id=\"Чек-лист-готовности-проекта-5\"><span class=\"toc-item-num\">5&nbsp;&nbsp;</span>Чек-лист готовности проекта</a></span></li></ul></div>"
      ]
    },
    {
      "cell_type": "markdown",
      "metadata": {
        "id": "cCMuioNpnJBs"
      },
      "source": [
        "<div style=\"border:2px solid Black; padding:20px;\">\n",
        "\n",
        "<h1>Отток клиентов</h1>\n",
        "\n",
        "Из «Бета-Банка» стали уходить клиенты. Каждый месяц. Немного, но заметно. Банковские маркетологи посчитали: сохранять текущих клиентов дешевле, чем привлекать новых.\n",
        "\n",
        "Нужно спрогнозировать, уйдёт клиент из банка в ближайшее время или нет. Предоставлены исторические данные о поведении клиентов и расторжении договоров с банком.\n",
        "\n",
        "Построим модель с предельно большим значением *F1*-меры.\n",
        "\n",
        "Дополнительно измерим *AUC-ROC*, сравнивая её значение с *F1*-мерой.\n",
        "\n",
        "Источник данных: [https://www.kaggle.com/barelydedicated/bank-customer-churn-modeling](https://www.kaggle.com/barelydedicated/bank-customer-churn-modeling)\n",
        "\n",
        "</div>"
      ]
    },
    {
      "cell_type": "markdown",
      "metadata": {
        "id": "HzPjAvMcnJBt"
      },
      "source": [
        "## Подготовка данных"
      ]
    },
    {
      "cell_type": "markdown",
      "metadata": {
        "id": "fRDv50yJnJB4"
      },
      "source": [
        "План работы над проектом:\n",
        "- Изучить данные.\n",
        "- Разбить данные на тренировочную, валидационную и тестовую выборку.\n",
        "- Исследовать задачу.\n",
        "- Проверить модели на данных без изменений.\n",
        "- Скоректировать балланс класса.\n",
        "- Изменить вес класса, урезать 0 или добавить 1.\n",
        "- Получить улученную модель.\n",
        "- Провести поиск гиперпараметров.\n",
        "- Провести финальный тест.\n",
        "- Написать вывод и оформить проект."
      ]
    },
    {
      "cell_type": "code",
      "execution_count": null,
      "metadata": {
        "id": "g1mJWe91nJB5"
      },
      "outputs": [],
      "source": [
        "import matplotlib.pyplot as plt\n",
        "import numpy as np\n",
        "import pandas as pd\n",
        "from sklearn.model_selection import train_test_split\n",
        "from sklearn.linear_model import LogisticRegression\n",
        "from sklearn.tree import DecisionTreeClassifier\n",
        "from sklearn.ensemble import RandomForestClassifier\n",
        "from sklearn.naive_bayes import GaussianNB\n",
        "from sklearn.metrics import f1_score, precision_score, recall_score, accuracy_score, roc_auc_score, roc_curve\n",
        "from sklearn.utils import shuffle\n",
        "from sklearn.preprocessing import StandardScaler"
      ]
    },
    {
      "cell_type": "code",
      "execution_count": null,
      "metadata": {
        "colab": {
          "base_uri": "https://localhost:8080/",
          "height": 676
        },
        "id": "EKL9JToknJCA",
        "outputId": "707f50fa-df19-4c05-bfe0-0edd535bebd2"
      },
      "outputs": [
        {
          "output_type": "stream",
          "name": "stdout",
          "text": [
            "<class 'pandas.core.frame.DataFrame'>\n",
            "RangeIndex: 10000 entries, 0 to 9999\n",
            "Data columns (total 14 columns):\n",
            " #   Column           Non-Null Count  Dtype  \n",
            "---  ------           --------------  -----  \n",
            " 0   RowNumber        10000 non-null  int64  \n",
            " 1   CustomerId       10000 non-null  int64  \n",
            " 2   Surname          10000 non-null  object \n",
            " 3   CreditScore      10000 non-null  int64  \n",
            " 4   Geography        10000 non-null  object \n",
            " 5   Gender           10000 non-null  object \n",
            " 6   Age              10000 non-null  int64  \n",
            " 7   Tenure           9091 non-null   float64\n",
            " 8   Balance          10000 non-null  float64\n",
            " 9   NumOfProducts    10000 non-null  int64  \n",
            " 10  HasCrCard        10000 non-null  int64  \n",
            " 11  IsActiveMember   10000 non-null  int64  \n",
            " 12  EstimatedSalary  10000 non-null  float64\n",
            " 13  Exited           10000 non-null  int64  \n",
            "dtypes: float64(3), int64(8), object(3)\n",
            "memory usage: 1.1+ MB\n",
            "\n"
          ]
        },
        {
          "output_type": "display_data",
          "data": {
            "text/plain": [
              "   RowNumber  CustomerId   Surname  CreditScore Geography  Gender  Age  \\\n",
              "0          1    15634602  Hargrave          619    France  Female   42   \n",
              "1          2    15647311      Hill          608     Spain  Female   41   \n",
              "2          3    15619304      Onio          502    France  Female   42   \n",
              "3          4    15701354      Boni          699    France  Female   39   \n",
              "4          5    15737888  Mitchell          850     Spain  Female   43   \n",
              "\n",
              "   Tenure    Balance  NumOfProducts  HasCrCard  IsActiveMember  \\\n",
              "0     2.0       0.00              1          1               1   \n",
              "1     1.0   83807.86              1          0               1   \n",
              "2     8.0  159660.80              3          1               0   \n",
              "3     1.0       0.00              2          0               0   \n",
              "4     2.0  125510.82              1          1               1   \n",
              "\n",
              "   EstimatedSalary  Exited  \n",
              "0        101348.88       1  \n",
              "1        112542.58       0  \n",
              "2        113931.57       1  \n",
              "3         93826.63       0  \n",
              "4         79084.10       0  "
            ],
            "text/html": [
              "\n",
              "\n",
              "  <div id=\"df-63659cb8-d6da-48ad-acdd-175ced806fc0\">\n",
              "    <div class=\"colab-df-container\">\n",
              "      <div>\n",
              "<style scoped>\n",
              "    .dataframe tbody tr th:only-of-type {\n",
              "        vertical-align: middle;\n",
              "    }\n",
              "\n",
              "    .dataframe tbody tr th {\n",
              "        vertical-align: top;\n",
              "    }\n",
              "\n",
              "    .dataframe thead th {\n",
              "        text-align: right;\n",
              "    }\n",
              "</style>\n",
              "<table border=\"1\" class=\"dataframe\">\n",
              "  <thead>\n",
              "    <tr style=\"text-align: right;\">\n",
              "      <th></th>\n",
              "      <th>RowNumber</th>\n",
              "      <th>CustomerId</th>\n",
              "      <th>Surname</th>\n",
              "      <th>CreditScore</th>\n",
              "      <th>Geography</th>\n",
              "      <th>Gender</th>\n",
              "      <th>Age</th>\n",
              "      <th>Tenure</th>\n",
              "      <th>Balance</th>\n",
              "      <th>NumOfProducts</th>\n",
              "      <th>HasCrCard</th>\n",
              "      <th>IsActiveMember</th>\n",
              "      <th>EstimatedSalary</th>\n",
              "      <th>Exited</th>\n",
              "    </tr>\n",
              "  </thead>\n",
              "  <tbody>\n",
              "    <tr>\n",
              "      <th>0</th>\n",
              "      <td>1</td>\n",
              "      <td>15634602</td>\n",
              "      <td>Hargrave</td>\n",
              "      <td>619</td>\n",
              "      <td>France</td>\n",
              "      <td>Female</td>\n",
              "      <td>42</td>\n",
              "      <td>2.0</td>\n",
              "      <td>0.00</td>\n",
              "      <td>1</td>\n",
              "      <td>1</td>\n",
              "      <td>1</td>\n",
              "      <td>101348.88</td>\n",
              "      <td>1</td>\n",
              "    </tr>\n",
              "    <tr>\n",
              "      <th>1</th>\n",
              "      <td>2</td>\n",
              "      <td>15647311</td>\n",
              "      <td>Hill</td>\n",
              "      <td>608</td>\n",
              "      <td>Spain</td>\n",
              "      <td>Female</td>\n",
              "      <td>41</td>\n",
              "      <td>1.0</td>\n",
              "      <td>83807.86</td>\n",
              "      <td>1</td>\n",
              "      <td>0</td>\n",
              "      <td>1</td>\n",
              "      <td>112542.58</td>\n",
              "      <td>0</td>\n",
              "    </tr>\n",
              "    <tr>\n",
              "      <th>2</th>\n",
              "      <td>3</td>\n",
              "      <td>15619304</td>\n",
              "      <td>Onio</td>\n",
              "      <td>502</td>\n",
              "      <td>France</td>\n",
              "      <td>Female</td>\n",
              "      <td>42</td>\n",
              "      <td>8.0</td>\n",
              "      <td>159660.80</td>\n",
              "      <td>3</td>\n",
              "      <td>1</td>\n",
              "      <td>0</td>\n",
              "      <td>113931.57</td>\n",
              "      <td>1</td>\n",
              "    </tr>\n",
              "    <tr>\n",
              "      <th>3</th>\n",
              "      <td>4</td>\n",
              "      <td>15701354</td>\n",
              "      <td>Boni</td>\n",
              "      <td>699</td>\n",
              "      <td>France</td>\n",
              "      <td>Female</td>\n",
              "      <td>39</td>\n",
              "      <td>1.0</td>\n",
              "      <td>0.00</td>\n",
              "      <td>2</td>\n",
              "      <td>0</td>\n",
              "      <td>0</td>\n",
              "      <td>93826.63</td>\n",
              "      <td>0</td>\n",
              "    </tr>\n",
              "    <tr>\n",
              "      <th>4</th>\n",
              "      <td>5</td>\n",
              "      <td>15737888</td>\n",
              "      <td>Mitchell</td>\n",
              "      <td>850</td>\n",
              "      <td>Spain</td>\n",
              "      <td>Female</td>\n",
              "      <td>43</td>\n",
              "      <td>2.0</td>\n",
              "      <td>125510.82</td>\n",
              "      <td>1</td>\n",
              "      <td>1</td>\n",
              "      <td>1</td>\n",
              "      <td>79084.10</td>\n",
              "      <td>0</td>\n",
              "    </tr>\n",
              "  </tbody>\n",
              "</table>\n",
              "</div>\n",
              "      <button class=\"colab-df-convert\" onclick=\"convertToInteractive('df-63659cb8-d6da-48ad-acdd-175ced806fc0')\"\n",
              "              title=\"Convert this dataframe to an interactive table.\"\n",
              "              style=\"display:none;\">\n",
              "\n",
              "  <svg xmlns=\"http://www.w3.org/2000/svg\" height=\"24px\"viewBox=\"0 0 24 24\"\n",
              "       width=\"24px\">\n",
              "    <path d=\"M0 0h24v24H0V0z\" fill=\"none\"/>\n",
              "    <path d=\"M18.56 5.44l.94 2.06.94-2.06 2.06-.94-2.06-.94-.94-2.06-.94 2.06-2.06.94zm-11 1L8.5 8.5l.94-2.06 2.06-.94-2.06-.94L8.5 2.5l-.94 2.06-2.06.94zm10 10l.94 2.06.94-2.06 2.06-.94-2.06-.94-.94-2.06-.94 2.06-2.06.94z\"/><path d=\"M17.41 7.96l-1.37-1.37c-.4-.4-.92-.59-1.43-.59-.52 0-1.04.2-1.43.59L10.3 9.45l-7.72 7.72c-.78.78-.78 2.05 0 2.83L4 21.41c.39.39.9.59 1.41.59.51 0 1.02-.2 1.41-.59l7.78-7.78 2.81-2.81c.8-.78.8-2.07 0-2.86zM5.41 20L4 18.59l7.72-7.72 1.47 1.35L5.41 20z\"/>\n",
              "  </svg>\n",
              "      </button>\n",
              "\n",
              "\n",
              "\n",
              "    <div id=\"df-1175434e-e94a-4a69-846c-33d2633d416a\">\n",
              "      <button class=\"colab-df-quickchart\" onclick=\"quickchart('df-1175434e-e94a-4a69-846c-33d2633d416a')\"\n",
              "              title=\"Suggest charts.\"\n",
              "              style=\"display:none;\">\n",
              "\n",
              "<svg xmlns=\"http://www.w3.org/2000/svg\" height=\"24px\"viewBox=\"0 0 24 24\"\n",
              "     width=\"24px\">\n",
              "    <g>\n",
              "        <path d=\"M19 3H5c-1.1 0-2 .9-2 2v14c0 1.1.9 2 2 2h14c1.1 0 2-.9 2-2V5c0-1.1-.9-2-2-2zM9 17H7v-7h2v7zm4 0h-2V7h2v10zm4 0h-2v-4h2v4z\"/>\n",
              "    </g>\n",
              "</svg>\n",
              "      </button>\n",
              "    </div>\n",
              "\n",
              "<style>\n",
              "  .colab-df-quickchart {\n",
              "    background-color: #E8F0FE;\n",
              "    border: none;\n",
              "    border-radius: 50%;\n",
              "    cursor: pointer;\n",
              "    display: none;\n",
              "    fill: #1967D2;\n",
              "    height: 32px;\n",
              "    padding: 0 0 0 0;\n",
              "    width: 32px;\n",
              "  }\n",
              "\n",
              "  .colab-df-quickchart:hover {\n",
              "    background-color: #E2EBFA;\n",
              "    box-shadow: 0px 1px 2px rgba(60, 64, 67, 0.3), 0px 1px 3px 1px rgba(60, 64, 67, 0.15);\n",
              "    fill: #174EA6;\n",
              "  }\n",
              "\n",
              "  [theme=dark] .colab-df-quickchart {\n",
              "    background-color: #3B4455;\n",
              "    fill: #D2E3FC;\n",
              "  }\n",
              "\n",
              "  [theme=dark] .colab-df-quickchart:hover {\n",
              "    background-color: #434B5C;\n",
              "    box-shadow: 0px 1px 3px 1px rgba(0, 0, 0, 0.15);\n",
              "    filter: drop-shadow(0px 1px 2px rgba(0, 0, 0, 0.3));\n",
              "    fill: #FFFFFF;\n",
              "  }\n",
              "</style>\n",
              "\n",
              "    <script>\n",
              "      async function quickchart(key) {\n",
              "        const containerElement = document.querySelector('#' + key);\n",
              "        const charts = await google.colab.kernel.invokeFunction(\n",
              "            'suggestCharts', [key], {});\n",
              "      }\n",
              "    </script>\n",
              "\n",
              "      <script>\n",
              "\n",
              "function displayQuickchartButton(domScope) {\n",
              "  let quickchartButtonEl =\n",
              "    domScope.querySelector('#df-1175434e-e94a-4a69-846c-33d2633d416a button.colab-df-quickchart');\n",
              "  quickchartButtonEl.style.display =\n",
              "    google.colab.kernel.accessAllowed ? 'block' : 'none';\n",
              "}\n",
              "\n",
              "        displayQuickchartButton(document);\n",
              "      </script>\n",
              "      <style>\n",
              "    .colab-df-container {\n",
              "      display:flex;\n",
              "      flex-wrap:wrap;\n",
              "      gap: 12px;\n",
              "    }\n",
              "\n",
              "    .colab-df-convert {\n",
              "      background-color: #E8F0FE;\n",
              "      border: none;\n",
              "      border-radius: 50%;\n",
              "      cursor: pointer;\n",
              "      display: none;\n",
              "      fill: #1967D2;\n",
              "      height: 32px;\n",
              "      padding: 0 0 0 0;\n",
              "      width: 32px;\n",
              "    }\n",
              "\n",
              "    .colab-df-convert:hover {\n",
              "      background-color: #E2EBFA;\n",
              "      box-shadow: 0px 1px 2px rgba(60, 64, 67, 0.3), 0px 1px 3px 1px rgba(60, 64, 67, 0.15);\n",
              "      fill: #174EA6;\n",
              "    }\n",
              "\n",
              "    [theme=dark] .colab-df-convert {\n",
              "      background-color: #3B4455;\n",
              "      fill: #D2E3FC;\n",
              "    }\n",
              "\n",
              "    [theme=dark] .colab-df-convert:hover {\n",
              "      background-color: #434B5C;\n",
              "      box-shadow: 0px 1px 3px 1px rgba(0, 0, 0, 0.15);\n",
              "      filter: drop-shadow(0px 1px 2px rgba(0, 0, 0, 0.3));\n",
              "      fill: #FFFFFF;\n",
              "    }\n",
              "  </style>\n",
              "\n",
              "      <script>\n",
              "        const buttonEl =\n",
              "          document.querySelector('#df-63659cb8-d6da-48ad-acdd-175ced806fc0 button.colab-df-convert');\n",
              "        buttonEl.style.display =\n",
              "          google.colab.kernel.accessAllowed ? 'block' : 'none';\n",
              "\n",
              "        async function convertToInteractive(key) {\n",
              "          const element = document.querySelector('#df-63659cb8-d6da-48ad-acdd-175ced806fc0');\n",
              "          const dataTable =\n",
              "            await google.colab.kernel.invokeFunction('convertToInteractive',\n",
              "                                                     [key], {});\n",
              "          if (!dataTable) return;\n",
              "\n",
              "          const docLinkHtml = 'Like what you see? Visit the ' +\n",
              "            '<a target=\"_blank\" href=https://colab.research.google.com/notebooks/data_table.ipynb>data table notebook</a>'\n",
              "            + ' to learn more about interactive tables.';\n",
              "          element.innerHTML = '';\n",
              "          dataTable['output_type'] = 'display_data';\n",
              "          await google.colab.output.renderOutput(dataTable, element);\n",
              "          const docLink = document.createElement('div');\n",
              "          docLink.innerHTML = docLinkHtml;\n",
              "          element.appendChild(docLink);\n",
              "        }\n",
              "      </script>\n",
              "    </div>\n",
              "  </div>\n"
            ]
          },
          "metadata": {}
        }
      ],
      "source": [
        "churn_data = pd.read_csv('datasets/Churn.csv');\n",
        "churn_data.info();\n",
        "print()\n",
        "display(churn_data.head());"
      ]
    },
    {
      "cell_type": "code",
      "execution_count": null,
      "metadata": {
        "scrolled": false,
        "colab": {
          "base_uri": "https://localhost:8080/",
          "height": 620
        },
        "id": "vumtIH4FnJCD",
        "outputId": "4e12811d-4c76-41c3-851e-0254af538760"
      },
      "outputs": [
        {
          "output_type": "display_data",
          "data": {
            "text/plain": [
              "<Figure size 1500x1000 with 12 Axes>"
            ],
            "image/png": "[encoded data removed]"
          },
          "metadata": {}
        }
      ],
      "source": [
        "churn_data.hist(figsize = (15,10));"
      ]
    },
    {
      "cell_type": "code",
      "execution_count": null,
      "metadata": {
        "colab": {
          "base_uri": "https://localhost:8080/"
        },
        "id": "oquxM4JlnJCE",
        "outputId": "a0a14652-35e8-4907-8a50-175a75006290"
      },
      "outputs": [
        {
          "output_type": "stream",
          "name": "stdout",
          "text": [
            "Уникальные значения столбца RowNumber :\n",
            "[    1     2     3 ...  9998  9999 10000]\n",
            "\n",
            "Уникальные значения столбца CustomerId :\n",
            "[15634602 15647311 15619304 ... 15584532 15682355 15628319]\n",
            "\n",
            "Уникальные значения столбца Surname :\n",
            "['Hargrave' 'Hill' 'Onio' ... 'Kashiwagi' 'Aldridge' 'Burbidge']\n",
            "\n",
            "Уникальные значения столбца CreditScore :\n",
            "[619 608 502 699 850 645 822 376 501 684 528 497 476 549 635 616 653 587\n",
            " 726 732 636 510 669 846 577 756 571 574 411 591 533 553 520 722 475 490\n",
            " 804 582 472 465 556 834 660 776 829 637 550 698 585 788 655 601 656 725\n",
            " 511 614 742 687 555 603 751 581 735 661 675 738 813 657 604 519 664 678\n",
            " 757 416 665 777 543 506 493 652 750 729 646 647 808 524 769 730 515 773\n",
            " 814 710 413 623 670 622 785 605 479 685 538 562 721 628 668 828 674 625\n",
            " 432 770 758 795 686 789 589 461 584 579 663 682 793 691 485 650 754 535\n",
            " 716 539 706 586 631 717 800 683 704 615 667 484 480 578 512 606 597 778\n",
            " 514 525 715 580 807 521 759 516 711 618 643 671 689 620 676 572 695 592\n",
            " 567 694 547 594 673 610 767 763 712 703 662 659 523 772 545 634 739 771\n",
            " 681 544 696 766 727 693 557 531 498 651 791 733 811 707 714 782 775 799\n",
            " 602 744 588 747 583 627 731 629 438 642 806 474 559 429 680 749 734 644\n",
            " 626 649 805 718 840 630 654 762 568 613 522 737 648 443 640 540 460 593\n",
            " 801 611 802 745 483 690 492 709 705 560 752 701 537 487 596 702 486 724\n",
            " 548 464 790 534 748 494 590 468 509 818 816 536 753 774 621 569 658 798\n",
            " 641 542 692 639 765 570 638 599 632 779 527 564 833 504 842 508 417 598\n",
            " 741 607 761 848 546 439 755 760 526 713 700 666 566 495 688 612 477 427\n",
            " 839 819 720 459 503 624 529 563 482 796 445 746 786 554 672 787 499 844\n",
            " 450 815 838 803 736 633 600 679 517 792 743 488 421 841 708 507 505 456\n",
            " 435 561 518 565 728 784 552 609 764 697 723 551 444 719 496 541 830 812\n",
            " 677 420 595 617 809 500 826 434 513 478 797 363 399 463 780 452 575 837\n",
            " 794 824 428 823 781 849 489 431 457 768 831 359 820 573 576 558 817 449\n",
            " 440 415 821 530 350 446 425 740 481 783 358 845 451 458 469 423 404 836\n",
            " 473 835 466 491 351 827 843 365 532 414 453 471 401 810 832 470 447 422\n",
            " 825 430 436 426 408 847 418 437 410 454 407 455 462 386 405 383 395 467\n",
            " 433 442 424 448 441 367 412 382 373 419]\n",
            "\n",
            "Уникальные значения столбца Geography :\n",
            "['France' 'Spain' 'Germany']\n",
            "\n",
            "Уникальные значения столбца Gender :\n",
            "['Female' 'Male']\n",
            "\n",
            "Уникальные значения столбца Age :\n",
            "[42 41 39 43 44 50 29 27 31 24 34 25 35 45 58 32 38 46 36 33 40 51 61 49\n",
            " 37 19 66 56 26 21 55 75 22 30 28 65 48 52 57 73 47 54 72 20 67 79 62 53\n",
            " 80 59 68 23 60 70 63 64 18 82 69 74 71 76 77 88 85 84 78 81 92 83]\n",
            "\n",
            "Уникальные значения столбца Tenure :\n",
            "[ 2.  1.  8.  7.  4.  6.  3. 10.  5.  9.  0. nan]\n",
            "\n",
            "Уникальные значения столбца Balance :\n",
            "[     0.    83807.86 159660.8  ...  57369.61  75075.31 130142.79]\n",
            "\n",
            "Уникальные значения столбца NumOfProducts :\n",
            "[1 3 2 4]\n",
            "\n",
            "Уникальные значения столбца HasCrCard :\n",
            "[1 0]\n",
            "\n",
            "Уникальные значения столбца IsActiveMember :\n",
            "[1 0]\n",
            "\n",
            "Уникальные значения столбца EstimatedSalary :\n",
            "[101348.88 112542.58 113931.57 ...  42085.58  92888.52  38190.78]\n",
            "\n",
            "Уникальные значения столбца Exited :\n",
            "[1 0]\n",
            "\n"
          ]
        }
      ],
      "source": [
        "def check_columns(data_frame):\n",
        "    for column in data_frame.columns:\n",
        "        print('Уникальные значения столбца', column ,':')\n",
        "        print(data_frame[column].unique())\n",
        "        print()\n",
        "\n",
        "check_columns(churn_data)"
      ]
    },
    {
      "cell_type": "markdown",
      "metadata": {
        "id": "lJ9raWERnJCH"
      },
      "source": [
        "Заменим все NaN из столбца Tenure на медианные значения."
      ]
    },
    {
      "cell_type": "code",
      "execution_count": null,
      "metadata": {
        "colab": {
          "base_uri": "https://localhost:8080/"
        },
        "id": "wGTqqojKnJCI",
        "outputId": "0cc8de2c-ff28-4f2b-b3d2-282fdcb90f9b"
      },
      "outputs": [
        {
          "output_type": "execute_result",
          "data": {
            "text/plain": [
              "array([ 2.,  1.,  8.,  7.,  4.,  6.,  3., 10.,  5.,  9.,  0.])"
            ]
          },
          "metadata": {},
          "execution_count": 7
        }
      ],
      "source": [
        "churn_data['Tenure'] = churn_data['Tenure'].fillna(churn_data['Tenure'].median())\n",
        "churn_data['Tenure'].unique()"
      ]
    },
    {
      "cell_type": "code",
      "execution_count": null,
      "metadata": {
        "colab": {
          "base_uri": "https://localhost:8080/"
        },
        "id": "K5h_94wMnJCK",
        "outputId": "043ac98b-1e0e-427e-ec40-22078d537420"
      },
      "outputs": [
        {
          "output_type": "execute_result",
          "data": {
            "text/plain": [
              "5.0     1836\n",
              "1.0      952\n",
              "2.0      950\n",
              "8.0      933\n",
              "3.0      928\n",
              "7.0      925\n",
              "4.0      885\n",
              "9.0      882\n",
              "6.0      881\n",
              "10.0     446\n",
              "0.0      382\n",
              "Name: Tenure, dtype: int64"
            ]
          },
          "metadata": {},
          "execution_count": 8
        }
      ],
      "source": [
        "churn_data['Tenure'].value_counts()"
      ]
    },
    {
      "cell_type": "markdown",
      "metadata": {
        "id": "KOktzyVbnJCN"
      },
      "source": [
        "Удалим столбецы RowNumber, CustomerId и Surname. Они не нужны при исследовании модели.\n",
        "\n",
        "RowNumber повторяет индекс датафрейма, CustomerId - случайный или последовательный номер, который никак не зависит от действий пользователя. Surname - признак, который отличается от человека к человеку и является именем в обществе. Это не гарант того, что клиент останется или уйдет."
      ]
    },
    {
      "cell_type": "code",
      "execution_count": null,
      "metadata": {
        "colab": {
          "base_uri": "https://localhost:8080/"
        },
        "id": "4zZTsHd9nJCO",
        "outputId": "f5a7998e-50a5-4c8c-df6e-bfd2da1f6d34"
      },
      "outputs": [
        {
          "output_type": "execute_result",
          "data": {
            "text/plain": [
              "(10000, 11)"
            ]
          },
          "metadata": {},
          "execution_count": 9
        }
      ],
      "source": [
        "churn_data = churn_data.drop(['RowNumber','CustomerId','Surname'], axis=1)\n",
        "churn_data.shape"
      ]
    },
    {
      "cell_type": "markdown",
      "metadata": {
        "id": "rw46giFVnJCP"
      },
      "source": [
        "Создадим датафрейм, созданный по методу прямого кодирования с защитой от дамми-ловушки."
      ]
    },
    {
      "cell_type": "code",
      "execution_count": null,
      "metadata": {
        "colab": {
          "base_uri": "https://localhost:8080/"
        },
        "id": "TP9ddxSjnJCS",
        "outputId": "cf51e6e2-a13c-4a68-de64-de08b0f456df"
      },
      "outputs": [
        {
          "output_type": "stream",
          "name": "stdout",
          "text": [
            "<class 'pandas.core.frame.DataFrame'>\n",
            "RangeIndex: 10000 entries, 0 to 9999\n",
            "Data columns (total 12 columns):\n",
            " #   Column             Non-Null Count  Dtype  \n",
            "---  ------             --------------  -----  \n",
            " 0   CreditScore        10000 non-null  int64  \n",
            " 1   Age                10000 non-null  int64  \n",
            " 2   Tenure             10000 non-null  float64\n",
            " 3   Balance            10000 non-null  float64\n",
            " 4   NumOfProducts      10000 non-null  int64  \n",
            " 5   HasCrCard          10000 non-null  int64  \n",
            " 6   IsActiveMember     10000 non-null  int64  \n",
            " 7   EstimatedSalary    10000 non-null  float64\n",
            " 8   Exited             10000 non-null  int64  \n",
            " 9   Geography_Germany  10000 non-null  uint8  \n",
            " 10  Geography_Spain    10000 non-null  uint8  \n",
            " 11  Gender_Male        10000 non-null  uint8  \n",
            "dtypes: float64(3), int64(6), uint8(3)\n",
            "memory usage: 732.5 KB\n"
          ]
        }
      ],
      "source": [
        "ohe_churn_data = pd.get_dummies(churn_data, drop_first=True);\n",
        "ohe_churn_data.info();"
      ]
    },
    {
      "cell_type": "markdown",
      "metadata": {
        "id": "nmZCBb2OnJCV"
      },
      "source": [
        "Вывод по шагу 1\n",
        "Данные готовы к исследованию.\n",
        "\n",
        "Были удалены не влияющие на конечный фактор данные. Мы создаем модель классификации, который нужно отдать признаки, реально влияющие на суть дела."
      ]
    },
    {
      "cell_type": "markdown",
      "metadata": {
        "id": "FI2iMtkknJCW"
      },
      "source": [
        "## Исследование задачи"
      ]
    },
    {
      "cell_type": "markdown",
      "metadata": {
        "id": "zuExEoHenJCW"
      },
      "source": [
        "Будем использовать следующие модели:\n",
        "\n",
        "- Логистическая регрессия\n",
        "- Случайный лес\n",
        "- Решающее дерево\n",
        "- GaussianNB\n",
        "\n",
        "Разобъем данные по принципу 60/20/20."
      ]
    },
    {
      "cell_type": "code",
      "execution_count": null,
      "metadata": {
        "colab": {
          "base_uri": "https://localhost:8080/"
        },
        "id": "GE9--HldnJCW",
        "outputId": "28b6a176-d4ae-4f6f-b685-9c93151a422b"
      },
      "outputs": [
        {
          "output_type": "stream",
          "name": "stdout",
          "text": [
            "(6000, 11) (2000, 11) (2000, 11)\n",
            "(6000,) (2000,) (2000,)\n"
          ]
        }
      ],
      "source": [
        "target = ohe_churn_data['Exited']\n",
        "features = ohe_churn_data.drop('Exited', axis=1)\n",
        "\n",
        "features_train, features_valid, target_train, target_valid = train_test_split(features, target, test_size=0.4,\n",
        "                                                                              random_state=12345)\n",
        "features_valid, features_test, target_valid, target_test = train_test_split(features_valid, target_valid, test_size=0.5,\n",
        "                                                                              random_state=12345)\n",
        "print(features_train.shape, features_valid.shape, features_test.shape)\n",
        "print(target_train.shape, target_valid.shape, target_test.shape)"
      ]
    },
    {
      "cell_type": "code",
      "execution_count": null,
      "metadata": {
        "scrolled": false,
        "colab": {
          "base_uri": "https://localhost:8080/"
        },
        "id": "wmDdih55nJCY",
        "outputId": "e638f069-acd2-46d0-c03d-199528510e3e"
      },
      "outputs": [
        {
          "output_type": "execute_result",
          "data": {
            "text/plain": [
              "(      CreditScore  Age  Tenure    Balance  NumOfProducts  HasCrCard  \\\n",
              " 7479          567   35     8.0  153137.74              1          1   \n",
              " 3411          711   37     8.0  113899.92              1          0   \n",
              " 6027          850   44     3.0  140393.65              2          0   \n",
              " 1247          512   24     6.0       0.00              2          1   \n",
              " 3716          665   27     2.0  147435.96              1          0   \n",
              " ...           ...  ...     ...        ...            ...        ...   \n",
              " 4478          549   31     4.0       0.00              2          0   \n",
              " 4094          513   29    10.0       0.00              2          0   \n",
              " 3492          655   45     5.0   57327.04              1          0   \n",
              " 2177          667   24     4.0       0.00              2          0   \n",
              " 4578          691   38     1.0       0.00              2          0   \n",
              " \n",
              "       IsActiveMember  EstimatedSalary  Geography_Germany  Geography_Spain  \\\n",
              " 7479               0         88659.07                  0                1   \n",
              " 3411               0         80215.20                  0                0   \n",
              " 6027               1        186285.52                  1                0   \n",
              " 1247               0         37654.31                  0                0   \n",
              " 3716               0        187508.06                  1                0   \n",
              " ...              ...              ...                ...              ...   \n",
              " 4478               1         25684.85                  0                0   \n",
              " 4094               1         25514.77                  0                0   \n",
              " 3492               1         47349.00                  0                0   \n",
              " 2177               1         34335.55                  0                0   \n",
              " 4578               0         44653.50                  0                0   \n",
              " \n",
              "       Gender_Male  \n",
              " 7479            1  \n",
              " 3411            0  \n",
              " 6027            1  \n",
              " 1247            1  \n",
              " 3716            0  \n",
              " ...           ...  \n",
              " 4478            1  \n",
              " 4094            1  \n",
              " 3492            0  \n",
              " 2177            0  \n",
              " 4578            1  \n",
              " \n",
              " [6000 rows x 11 columns],\n",
              "       CreditScore  Age  Tenure    Balance  NumOfProducts  HasCrCard  \\\n",
              " 8532          585   35     2.0       0.00              2          1   \n",
              " 5799          625   45     3.0       0.00              1          1   \n",
              " 5511          667   32     0.0  103846.65              1          1   \n",
              " 7365          568   36    10.0  153610.61              1          1   \n",
              " 7367          606   42    10.0       0.00              2          1   \n",
              " ...           ...  ...     ...        ...            ...        ...   \n",
              " 6480          679   24     6.0  114948.76              2          0   \n",
              " 8194          632   42     4.0  126115.60              1          1   \n",
              " 1279          521   39     6.0       0.00              2          0   \n",
              " 6532          756   67     4.0       0.00              3          1   \n",
              " 6895          610   49     6.0  113882.33              1          1   \n",
              " \n",
              "       IsActiveMember  EstimatedSalary  Geography_Germany  Geography_Spain  \\\n",
              " 8532               0         98621.04                  0                0   \n",
              " 5799               1        184474.15                  0                0   \n",
              " 5511               0         20560.69                  1                0   \n",
              " 7365               1         54083.80                  0                1   \n",
              " 7367               0        177938.52                  0                1   \n",
              " ...              ...              ...                ...              ...   \n",
              " 6480               1        135768.25                  0                0   \n",
              " 8194               0        100998.50                  0                0   \n",
              " 1279               1         27375.15                  0                0   \n",
              " 6532               1         93081.87                  0                0   \n",
              " 6895               0        195813.81                  1                0   \n",
              " \n",
              "       Gender_Male  \n",
              " 8532            0  \n",
              " 5799            0  \n",
              " 5511            1  \n",
              " 7365            0  \n",
              " 7367            1  \n",
              " ...           ...  \n",
              " 6480            0  \n",
              " 8194            1  \n",
              " 1279            0  \n",
              " 6532            1  \n",
              " 6895            1  \n",
              " \n",
              " [2000 rows x 11 columns],\n",
              "       CreditScore  Age  Tenure    Balance  NumOfProducts  HasCrCard  \\\n",
              " 7041          438   38     2.0       0.00              2          1   \n",
              " 5709          644   39     9.0       0.00              1          1   \n",
              " 7117          564   31     5.0  121461.87              1          1   \n",
              " 7775          628   40    10.0       0.00              2          1   \n",
              " 8735          728   30    10.0  114835.43              1          0   \n",
              " ...           ...  ...     ...        ...            ...        ...   \n",
              " 9335          737   50     4.0  127552.85              2          1   \n",
              " 7999          826   26     5.0  142662.68              1          0   \n",
              " 6139          652   37     4.0       0.00              2          1   \n",
              " 9473          608   45     4.0       0.00              2          0   \n",
              " 3366          640   74     2.0  116800.25              1          1   \n",
              " \n",
              "       IsActiveMember  EstimatedSalary  Geography_Germany  Geography_Spain  \\\n",
              " 7041               0        136859.55                  0                0   \n",
              " 5709               0          3740.93                  0                0   \n",
              " 7117               1         20432.09                  0                1   \n",
              " 7775               0        103832.58                  0                1   \n",
              " 8735               1         37662.49                  0                0   \n",
              " ...              ...              ...                ...              ...   \n",
              " 9335               0          4225.11                  1                0   \n",
              " 7999               0         60285.30                  0                0   \n",
              " 6139               0        143393.24                  0                0   \n",
              " 9473               0         36697.48                  0                1   \n",
              " 3366               1         34130.43                  1                0   \n",
              " \n",
              "       Gender_Male  \n",
              " 7041            1  \n",
              " 5709            0  \n",
              " 7117            1  \n",
              " 7775            1  \n",
              " 8735            1  \n",
              " ...           ...  \n",
              " 9335            1  \n",
              " 7999            1  \n",
              " 6139            0  \n",
              " 9473            1  \n",
              " 3366            0  \n",
              " \n",
              " [2000 rows x 11 columns])"
            ]
          },
          "metadata": {},
          "execution_count": 12
        }
      ],
      "source": [
        "features_train, features_valid, features_test"
      ]
    },
    {
      "cell_type": "code",
      "execution_count": null,
      "metadata": {
        "id": "9Jc1r9VTnJCa"
      },
      "outputs": [],
      "source": [
        "scaler = StandardScaler()\n",
        "scaler.fit(features_train)\n",
        "\n",
        "features_train= scaler.transform(features_train)\n",
        "features_valid= scaler.transform(features_valid)\n",
        "features_test= scaler.transform(features_test)\n",
        "\n",
        "pd.options.mode.chained_assignment = None\n"
      ]
    },
    {
      "cell_type": "code",
      "execution_count": null,
      "metadata": {
        "colab": {
          "base_uri": "https://localhost:8080/"
        },
        "id": "-3mo2byWnJCb",
        "outputId": "bcdfad45-6662-48c5-9234-b66f5f3eab9b"
      },
      "outputs": [
        {
          "output_type": "execute_result",
          "data": {
            "text/plain": [
              "(array([[-0.88675067, -0.37319167,  1.08227723, ..., -0.57247478,\n",
              "          1.72897707,  0.90727838],\n",
              "        [ 0.60866264, -0.18338494,  1.08227723, ..., -0.57247478,\n",
              "         -0.57837667, -1.10219754],\n",
              "        [ 2.05215189,  0.48093862, -0.73769569, ...,  1.74680184,\n",
              "         -0.57837667,  0.90727838],\n",
              "        ...,\n",
              "        [ 0.02711302,  0.57584199, -0.00970652, ..., -0.57247478,\n",
              "         -0.57837667, -1.10219754],\n",
              "        [ 0.1517308 , -1.41712869, -0.37370111, ..., -0.57247478,\n",
              "         -0.57837667, -1.10219754],\n",
              "        [ 0.40096635, -0.08848157, -1.46568486, ..., -0.57247478,\n",
              "         -0.57837667,  0.90727838]]),\n",
              " array([[-0.69982401, -0.37319167, -1.10169028, ..., -0.57247478,\n",
              "         -0.57837667, -1.10219754],\n",
              "        [-0.28443142,  0.57584199, -0.73769569, ..., -0.57247478,\n",
              "         -0.57837667, -1.10219754],\n",
              "        [ 0.1517308 , -0.65790176, -1.82967945, ...,  1.74680184,\n",
              "         -0.57837667,  0.90727838],\n",
              "        ...,\n",
              "        [-1.36445215,  0.00642179,  0.35428806, ..., -0.57247478,\n",
              "         -0.57837667, -1.10219754],\n",
              "        [ 1.07597931,  2.66371603, -0.37370111, ..., -0.57247478,\n",
              "         -0.57837667,  0.90727838],\n",
              "        [-0.44020364,  0.95545545,  0.35428806, ...,  1.74680184,\n",
              "         -0.57837667,  0.90727838]]),\n",
              " array([[-2.22639177, -0.08848157, -1.10169028, ..., -0.57247478,\n",
              "         -0.57837667,  0.90727838],\n",
              "        [-0.08711994,  0.00642179,  1.44627182, ..., -0.57247478,\n",
              "         -0.57837667, -1.10219754],\n",
              "        [-0.91790512, -0.75280513, -0.00970652, ..., -0.57247478,\n",
              "          1.72897707,  0.90727838],\n",
              "        ...,\n",
              "        [-0.00404142, -0.18338494, -0.37370111, ..., -0.57247478,\n",
              "         -0.57837667, -1.10219754],\n",
              "        [-0.46097327,  0.57584199, -0.37370111, ..., -0.57247478,\n",
              "          1.72897707,  0.90727838],\n",
              "        [-0.1286592 ,  3.32803959, -1.10169028, ...,  1.74680184,\n",
              "         -0.57837667, -1.10219754]]))"
            ]
          },
          "metadata": {},
          "execution_count": 14
        }
      ],
      "source": [
        "features_train, features_valid, features_test"
      ]
    },
    {
      "cell_type": "markdown",
      "metadata": {
        "id": "b6Hv_mnpnJCc"
      },
      "source": [
        "Посмотрим, какой существует дисбаланс классов."
      ]
    },
    {
      "cell_type": "code",
      "execution_count": null,
      "metadata": {
        "colab": {
          "base_uri": "https://localhost:8080/"
        },
        "id": "eo5Uhet4nJCd",
        "outputId": "62c47e4c-0715-4b5e-cb66-c164fd62891a"
      },
      "outputs": [
        {
          "output_type": "execute_result",
          "data": {
            "text/plain": [
              "0    7963\n",
              "1    2037\n",
              "Name: Exited, dtype: int64"
            ]
          },
          "metadata": {},
          "execution_count": 15
        }
      ],
      "source": [
        "target.value_counts()"
      ]
    },
    {
      "cell_type": "markdown",
      "metadata": {
        "id": "2qWVvgzcnJCd"
      },
      "source": [
        "Соотношение классов 1:4. Изучим модели без исправление баланса."
      ]
    },
    {
      "cell_type": "markdown",
      "metadata": {
        "id": "LV5uo-v0nJCe"
      },
      "source": [
        "Начнем с решающего дерева. Проведем исследование при разном значении max_depth."
      ]
    },
    {
      "cell_type": "code",
      "execution_count": null,
      "metadata": {
        "colab": {
          "base_uri": "https://localhost:8080/"
        },
        "id": "vAg_QR1WnJCf",
        "outputId": "26a7c8c4-8671-4d78-f9cd-84d6bd2e4fda"
      },
      "outputs": [
        {
          "output_type": "stream",
          "name": "stdout",
          "text": [
            "Max depth 2 F1-score 0.5217391304347825\n",
            "Max depth 3 F1-score 0.4234875444839857\n",
            "Max depth 4 F1-score 0.5528700906344411\n",
            "Max depth 5 F1-score 0.5406249999999999\n",
            "Max depth 6 F1-score 0.5696969696969697\n",
            "Max depth 7 F1-score 0.5320813771517998\n",
            "Max depth 8 F1-score 0.5454545454545454\n",
            "Max depth 9 F1-score 0.5633802816901409\n",
            "Max depth 10 F1-score 0.5385694249649369\n",
            "Max depth 11 F1-score 0.5059920106524634\n",
            "Max depth 12 F1-score 0.521072796934866\n",
            "Max depth 13 F1-score 0.5038961038961038\n",
            "Max depth 14 F1-score 0.48675914249684743\n",
            "Max depth 15 F1-score 0.4975124378109453\n",
            "Max depth 16 F1-score 0.4987654320987654\n",
            "Max depth 17 F1-score 0.4767726161369193\n",
            "Max depth 18 F1-score 0.48522167487684725\n",
            "Max depth 19 F1-score 0.49521531100478466\n",
            "Max depth 20 F1-score 0.5006075334143378\n",
            "Max depth 21 F1-score 0.4981949458483754\n",
            "Max depth 22 F1-score 0.5006045949214026\n",
            "Max depth 23 F1-score 0.5006045949214026\n",
            "Max depth 24 F1-score 0.5006045949214026\n",
            "Max depth 25 F1-score 0.5006045949214026\n",
            "Max depth 26 F1-score 0.5006045949214026\n",
            "Max depth 27 F1-score 0.5006045949214026\n",
            "Max depth 28 F1-score 0.5006045949214026\n",
            "Max depth 29 F1-score 0.5006045949214026\n",
            "CPU times: user 987 ms, sys: 6.92 ms, total: 994 ms\n",
            "Wall time: 999 ms\n"
          ]
        }
      ],
      "source": [
        "%%time\n",
        "\n",
        "for depth in range(2, 30):\n",
        "    model = DecisionTreeClassifier(random_state=12345, max_depth=depth)\n",
        "    model.fit(features_train, target_train)\n",
        "    predicted_valid = model.predict(features_valid)\n",
        "    print('Max depth', depth,'F1-score', f1_score(target_valid, predicted_valid))"
      ]
    },
    {
      "cell_type": "markdown",
      "metadata": {
        "id": "zs-ZgoW7nJCg"
      },
      "source": [
        "Лучший реультат был достигнут на глубине 6.\n",
        "\n",
        "Рассмотрим, как себя ведет случайный лес. И проведем исследование на разное количество деревьев."
      ]
    },
    {
      "cell_type": "code",
      "execution_count": null,
      "metadata": {
        "colab": {
          "base_uri": "https://localhost:8080/"
        },
        "id": "iv6oxN7bnJCh",
        "outputId": "97d78884-5c56-41c0-d558-c9f11568fe71"
      },
      "outputs": [
        {
          "output_type": "stream",
          "name": "stdout",
          "text": [
            "10 1 0.0 0\n",
            "0\n",
            "10 2 0.2 0\n",
            "0.2\n",
            "10 3 0.25102880658436216 0.2\n",
            "0.25102880658436216\n",
            "10 4 0.49578414839797635 0.25102880658436216\n",
            "0.49578414839797635\n",
            "10 5 0.5170731707317073 0.49578414839797635\n",
            "0.5170731707317073\n",
            "10 6 0.5475409836065573 0.5170731707317073\n",
            "0.5475409836065573\n",
            "10 7 0.5625965996908809 0.5475409836065573\n",
            "0.5625965996908809\n",
            "10 8 0.550314465408805 0.5625965996908809\n",
            "0.5625965996908809\n",
            "10 9 0.5809379727685325 0.5625965996908809\n",
            "0.5809379727685325\n",
            "10 10 0.5891238670694864 0.5809379727685325\n",
            "0.5891238670694864\n",
            "10 11 0.5773195876288659 0.5891238670694864\n",
            "0.5891238670694864\n",
            "10 12 0.5731166912850812 0.5891238670694864\n",
            "0.5891238670694864\n",
            "10 13 0.5638766519823789 0.5891238670694864\n",
            "0.5891238670694864\n",
            "10 14 0.5834542815674891 0.5891238670694864\n",
            "0.5891238670694864\n",
            "10 15 0.5688888888888889 0.5891238670694864\n",
            "0.5891238670694864\n",
            "Best N estimators : 10 Best max_depth: 10 Best F1: 0.5891238670694864\n",
            "20 1 0.0 0.5891238670694864\n",
            "0.5891238670694864\n",
            "20 2 0.15789473684210525 0.5891238670694864\n",
            "0.5891238670694864\n",
            "20 3 0.23284823284823286 0.5891238670694864\n",
            "0.5891238670694864\n",
            "20 4 0.42369838420107714 0.5891238670694864\n",
            "0.5891238670694864\n",
            "20 5 0.5188834154351396 0.5891238670694864\n",
            "0.5891238670694864\n",
            "20 6 0.5333333333333333 0.5891238670694864\n",
            "0.5891238670694864\n",
            "20 7 0.5625000000000001 0.5891238670694864\n",
            "0.5891238670694864\n",
            "20 8 0.5641838351822503 0.5891238670694864\n",
            "0.5891238670694864\n",
            "20 9 0.5763239875389408 0.5891238670694864\n",
            "0.5891238670694864\n",
            "20 10 0.581039755351682 0.5891238670694864\n",
            "0.5891238670694864\n",
            "20 11 0.582701062215478 0.5891238670694864\n",
            "0.5891238670694864\n",
            "20 12 0.5701357466063349 0.5891238670694864\n",
            "0.5891238670694864\n",
            "20 13 0.562406015037594 0.5891238670694864\n",
            "0.5891238670694864\n",
            "20 14 0.5727136431784108 0.5891238670694864\n",
            "0.5891238670694864\n",
            "20 15 0.5752608047690015 0.5891238670694864\n",
            "0.5891238670694864\n",
            "Best N estimators : 10 Best max_depth: 10 Best F1: 0.5891238670694864\n",
            "30 1 0.0 0.5891238670694864\n",
            "0.5891238670694864\n",
            "30 2 0.14222222222222222 0.5891238670694864\n",
            "0.5891238670694864\n",
            "30 3 0.22268907563025211 0.5891238670694864\n",
            "0.5891238670694864\n",
            "30 4 0.36158192090395475 0.5891238670694864\n",
            "0.5891238670694864\n",
            "30 5 0.49749582637729545 0.5891238670694864\n",
            "0.5891238670694864\n",
            "30 6 0.5306799336650083 0.5891238670694864\n",
            "0.5891238670694864\n",
            "30 7 0.5414012738853503 0.5891238670694864\n",
            "0.5891238670694864\n",
            "30 8 0.5627980922098569 0.5891238670694864\n",
            "0.5891238670694864\n",
            "30 9 0.5709828393135726 0.5891238670694864\n",
            "0.5891238670694864\n",
            "30 10 0.563944530046225 0.5891238670694864\n",
            "0.5891238670694864\n",
            "30 11 0.5731895223420647 0.5891238670694864\n",
            "0.5891238670694864\n",
            "30 12 0.5757575757575758 0.5891238670694864\n",
            "0.5891238670694864\n",
            "30 13 0.582701062215478 0.5891238670694864\n",
            "0.5891238670694864\n",
            "30 14 0.5714285714285714 0.5891238670694864\n",
            "0.5891238670694864\n",
            "30 15 0.5602409638554217 0.5891238670694864\n",
            "0.5891238670694864\n",
            "Best N estimators : 10 Best max_depth: 10 Best F1: 0.5891238670694864\n",
            "40 1 0.0 0.5891238670694864\n",
            "0.5891238670694864\n",
            "40 2 0.17391304347826086 0.5891238670694864\n",
            "0.5891238670694864\n",
            "40 3 0.22315789473684208 0.5891238670694864\n",
            "0.5891238670694864\n",
            "40 4 0.3866171003717472 0.5891238670694864\n",
            "0.5891238670694864\n",
            "40 5 0.4745762711864407 0.5891238670694864\n",
            "0.5891238670694864\n",
            "40 6 0.53 0.5891238670694864\n",
            "0.5891238670694864\n",
            "40 7 0.5500794912559619 0.5891238670694864\n",
            "0.5891238670694864\n",
            "40 8 0.5654952076677316 0.5891238670694864\n",
            "0.5891238670694864\n",
            "40 9 0.5736677115987461 0.5891238670694864\n",
            "0.5891238670694864\n",
            "40 10 0.562111801242236 0.5891238670694864\n",
            "0.5891238670694864\n",
            "40 11 0.5793528505392913 0.5891238670694864\n",
            "0.5891238670694864\n",
            "40 12 0.5869894099848714 0.5891238670694864\n",
            "0.5891238670694864\n",
            "40 13 0.583206106870229 0.5891238670694864\n",
            "0.5891238670694864\n",
            "40 14 0.5658093797276854 0.5891238670694864\n",
            "0.5891238670694864\n",
            "40 15 0.5670731707317073 0.5891238670694864\n",
            "0.5891238670694864\n",
            "Best N estimators : 10 Best max_depth: 10 Best F1: 0.5891238670694864\n",
            "50 1 0.0 0.5891238670694864\n",
            "0.5891238670694864\n",
            "50 2 0.1853448275862069 0.5891238670694864\n",
            "0.5891238670694864\n",
            "50 3 0.26993865030674846 0.5891238670694864\n",
            "0.5891238670694864\n",
            "50 4 0.40293040293040294 0.5891238670694864\n",
            "0.5891238670694864\n",
            "50 5 0.46735395189003437 0.5891238670694864\n",
            "0.5891238670694864\n",
            "50 6 0.5348837209302326 0.5891238670694864\n",
            "0.5891238670694864\n",
            "50 7 0.560126582278481 0.5891238670694864\n",
            "0.5891238670694864\n",
            "50 8 0.5705229793977813 0.5891238670694864\n",
            "0.5891238670694864\n",
            "50 9 0.5709779179810726 0.5891238670694864\n",
            "0.5891238670694864\n",
            "50 10 0.5510835913312693 0.5891238670694864\n",
            "0.5891238670694864\n",
            "50 11 0.5696594427244582 0.5891238670694864\n",
            "0.5891238670694864\n",
            "50 12 0.5779816513761468 0.5891238670694864\n",
            "0.5891238670694864\n",
            "50 13 0.5709969788519637 0.5891238670694864\n",
            "0.5891238670694864\n",
            "50 14 0.5705705705705705 0.5891238670694864\n",
            "0.5891238670694864\n",
            "50 15 0.5731523378582202 0.5891238670694864\n",
            "0.5891238670694864\n",
            "Best N estimators : 10 Best max_depth: 10 Best F1: 0.5891238670694864\n",
            "60 1 0.0 0.5891238670694864\n",
            "0.5891238670694864\n",
            "60 2 0.15418502202643172 0.5891238670694864\n",
            "0.5891238670694864\n",
            "60 3 0.2520661157024794 0.5891238670694864\n",
            "0.5891238670694864\n",
            "60 4 0.40293040293040294 0.5891238670694864\n",
            "0.5891238670694864\n",
            "60 5 0.4802744425385935 0.5891238670694864\n",
            "0.5891238670694864\n",
            "60 6 0.5460526315789473 0.5891238670694864\n",
            "0.5891238670694864\n",
            "60 7 0.5615141955835962 0.5891238670694864\n",
            "0.5891238670694864\n",
            "60 8 0.5709728867623605 0.5891238670694864\n",
            "0.5891238670694864\n",
            "60 9 0.5611285266457681 0.5891238670694864\n",
            "0.5891238670694864\n",
            "60 10 0.5696594427244582 0.5891238670694864\n",
            "0.5891238670694864\n",
            "60 11 0.5648148148148148 0.5891238670694864\n",
            "0.5891238670694864\n",
            "60 12 0.5753424657534246 0.5891238670694864\n",
            "0.5891238670694864\n",
            "60 13 0.5722983257229833 0.5891238670694864\n",
            "0.5891238670694864\n",
            "60 14 0.5727272727272728 0.5891238670694864\n",
            "0.5891238670694864\n",
            "60 15 0.5813253012048193 0.5891238670694864\n",
            "0.5891238670694864\n",
            "Best N estimators : 10 Best max_depth: 10 Best F1: 0.5891238670694864\n",
            "70 1 0.0 0.5891238670694864\n",
            "0.5891238670694864\n",
            "70 2 0.11286681715575622 0.5891238670694864\n",
            "0.5891238670694864\n",
            "70 3 0.24166666666666667 0.5891238670694864\n",
            "0.5891238670694864\n",
            "70 4 0.3836126629422719 0.5891238670694864\n",
            "0.5891238670694864\n",
            "70 5 0.4766839378238343 0.5891238670694864\n",
            "0.5891238670694864\n",
            "70 6 0.5339966832504146 0.5891238670694864\n",
            "0.5891238670694864\n",
            "70 7 0.5619047619047619 0.5891238670694864\n",
            "0.5891238670694864\n",
            "70 8 0.5632 0.5891238670694864\n",
            "0.5891238670694864\n",
            "70 9 0.5529225908372828 0.5891238670694864\n",
            "0.5891238670694864\n",
            "70 10 0.5674418604651162 0.5891238670694864\n",
            "0.5891238670694864\n",
            "70 11 0.5599999999999999 0.5891238670694864\n",
            "0.5891238670694864\n",
            "70 12 0.5887708649468891 0.5891238670694864\n",
            "0.5891238670694864\n",
            "70 13 0.582701062215478 0.5891238670694864\n",
            "0.5891238670694864\n",
            "70 14 0.5632530120481928 0.5891238670694864\n",
            "0.5891238670694864\n",
            "70 15 0.5804511278195489 0.5891238670694864\n",
            "0.5891238670694864\n",
            "Best N estimators : 10 Best max_depth: 10 Best F1: 0.5891238670694864\n",
            "80 1 0.0 0.5891238670694864\n",
            "0.5891238670694864\n",
            "80 2 0.12975391498881433 0.5891238670694864\n",
            "0.5891238670694864\n",
            "80 3 0.23060796645702306 0.5891238670694864\n",
            "0.5891238670694864\n",
            "80 4 0.38733705772811916 0.5891238670694864\n",
            "0.5891238670694864\n",
            "80 5 0.48370497427101194 0.5891238670694864\n",
            "0.5891238670694864\n",
            "80 6 0.533112582781457 0.5891238670694864\n",
            "0.5891238670694864\n",
            "80 7 0.5650793650793651 0.5891238670694864\n",
            "0.5891238670694864\n",
            "80 8 0.5632 0.5891238670694864\n",
            "0.5891238670694864\n",
            "80 9 0.5578446909667195 0.5891238670694864\n",
            "0.5891238670694864\n",
            "80 10 0.5771604938271605 0.5891238670694864\n",
            "0.5891238670694864\n",
            "80 11 0.5648148148148148 0.5891238670694864\n",
            "0.5891238670694864\n",
            "80 12 0.5844748858447488 0.5891238670694864\n",
            "0.5891238670694864\n",
            "80 13 0.5848484848484847 0.5891238670694864\n",
            "0.5891238670694864\n",
            "80 14 0.5744680851063829 0.5891238670694864\n",
            "0.5891238670694864\n",
            "80 15 0.5864661654135339 0.5891238670694864\n",
            "0.5891238670694864\n",
            "Best N estimators : 10 Best max_depth: 10 Best F1: 0.5891238670694864\n",
            "90 1 0.0 0.5891238670694864\n",
            "0.5891238670694864\n",
            "90 2 0.11286681715575622 0.5891238670694864\n",
            "0.5891238670694864\n",
            "90 3 0.22315789473684208 0.5891238670694864\n",
            "0.5891238670694864\n",
            "90 4 0.37523452157598497 0.5891238670694864\n",
            "0.5891238670694864\n",
            "90 5 0.4766839378238343 0.5891238670694864\n",
            "0.5891238670694864\n",
            "90 6 0.5257903494176372 0.5891238670694864\n",
            "0.5891238670694864\n",
            "90 7 0.5605095541401274 0.5891238670694864\n",
            "0.5891238670694864\n",
            "90 8 0.5608974358974359 0.5891238670694864\n",
            "0.5891238670694864\n",
            "90 9 0.5615141955835962 0.5891238670694864\n",
            "0.5891238670694864\n",
            "90 10 0.5740740740740741 0.5891238670694864\n",
            "0.5891238670694864\n",
            "90 11 0.56656346749226 0.5891238670694864\n",
            "0.5891238670694864\n",
            "90 12 0.5896656534954408 0.5891238670694864\n",
            "0.5896656534954408\n",
            "90 13 0.582701062215478 0.5896656534954408\n",
            "0.5896656534954408\n",
            "90 14 0.5735963581183612 0.5896656534954408\n",
            "0.5896656534954408\n",
            "90 15 0.5825825825825826 0.5896656534954408\n",
            "0.5896656534954408\n",
            "Best N estimators : 90 Best max_depth: 12 Best F1: 0.5896656534954408\n",
            "100 1 0.0 0.5896656534954408\n",
            "0.5896656534954408\n",
            "100 2 0.1294642857142857 0.5896656534954408\n",
            "0.5896656534954408\n",
            "100 3 0.23382045929018794 0.5896656534954408\n",
            "0.5896656534954408\n",
            "100 4 0.3805970149253731 0.5896656534954408\n",
            "0.5896656534954408\n",
            "100 5 0.4660869565217391 0.5896656534954408\n",
            "0.5896656534954408\n",
            "100 6 0.5266666666666666 0.5896656534954408\n",
            "0.5896656534954408\n",
            "100 7 0.5596184419713831 0.5896656534954408\n",
            "0.5896656534954408\n",
            "100 8 0.5641025641025641 0.5896656534954408\n",
            "0.5896656534954408\n",
            "100 9 0.5606299212598426 0.5896656534954408\n",
            "0.5896656534954408\n",
            "100 10 0.5692068429237946 0.5896656534954408\n",
            "0.5896656534954408\n",
            "100 11 0.5701078582434514 0.5896656534954408\n",
            "0.5896656534954408\n",
            "100 12 0.5878787878787878 0.5896656534954408\n",
            "0.5896656534954408\n",
            "100 13 0.5731707317073171 0.5896656534954408\n",
            "0.5896656534954408\n",
            "100 14 0.5787106446776611 0.5896656534954408\n",
            "0.5896656534954408\n",
            "100 15 0.5838323353293413 0.5896656534954408\n",
            "0.5896656534954408\n",
            "Best N estimators : 90 Best max_depth: 12 Best F1: 0.5896656534954408\n",
            "110 1 0.0 0.5896656534954408\n",
            "0.5896656534954408\n",
            "110 2 0.1377777777777778 0.5896656534954408\n",
            "0.5896656534954408\n",
            "110 3 0.2453222453222453 0.5896656534954408\n",
            "0.5896656534954408\n",
            "110 4 0.37383177570093457 0.5896656534954408\n",
            "0.5896656534954408\n",
            "110 5 0.4660869565217391 0.5896656534954408\n",
            "0.5896656534954408\n",
            "110 6 0.5224625623960067 0.5896656534954408\n",
            "0.5896656534954408\n",
            "110 7 0.5591054313099042 0.5896656534954408\n",
            "0.5896656534954408\n",
            "110 8 0.5641025641025641 0.5896656534954408\n",
            "0.5896656534954408\n",
            "110 9 0.5611285266457681 0.5896656534954408\n",
            "0.5896656534954408\n",
            "110 10 0.5811437403400309 0.5896656534954408\n",
            "0.5896656534954408\n",
            "110 11 0.5696594427244582 0.5896656534954408\n",
            "0.5896656534954408\n",
            "110 12 0.5875190258751902 0.5896656534954408\n",
            "0.5896656534954408\n",
            "110 13 0.5861027190332326 0.5896656534954408\n",
            "0.5896656534954408\n",
            "110 14 0.572289156626506 0.5896656534954408\n",
            "0.5896656534954408\n",
            "110 15 0.585949177877429 0.5896656534954408\n",
            "0.5896656534954408\n",
            "Best N estimators : 90 Best max_depth: 12 Best F1: 0.5896656534954408\n",
            "120 1 0.0 0.5896656534954408\n",
            "0.5896656534954408\n",
            "120 2 0.1415929203539823 0.5896656534954408\n",
            "0.5896656534954408\n",
            "120 3 0.24844720496894407 0.5896656534954408\n",
            "0.5896656534954408\n",
            "120 4 0.37453183520599254 0.5896656534954408\n",
            "0.5896656534954408\n",
            "120 5 0.4660869565217391 0.5896656534954408\n",
            "0.5896656534954408\n",
            "120 6 0.5306799336650083 0.5896656534954408\n",
            "0.5896656534954408\n",
            "120 7 0.5530546623794212 0.5896656534954408\n",
            "0.5896656534954408\n",
            "120 8 0.5654952076677316 0.5896656534954408\n",
            "0.5896656534954408\n",
            "120 9 0.5597484276729561 0.5896656534954408\n",
            "0.5896656534954408\n",
            "120 10 0.5842349304482226 0.5896656534954408\n",
            "0.5896656534954408\n",
            "120 11 0.5731895223420647 0.5896656534954408\n",
            "0.5896656534954408\n",
            "120 12 0.5801526717557252 0.5896656534954408\n",
            "0.5896656534954408\n",
            "120 13 0.5787878787878789 0.5896656534954408\n",
            "0.5896656534954408\n",
            "120 14 0.575712143928036 0.5896656534954408\n",
            "0.5896656534954408\n",
            "120 15 0.5877061469265367 0.5896656534954408\n",
            "0.5896656534954408\n",
            "Best N estimators : 90 Best max_depth: 12 Best F1: 0.5896656534954408\n",
            "130 1 0.0 0.5896656534954408\n",
            "0.5896656534954408\n",
            "130 2 0.14601769911504425 0.5896656534954408\n",
            "0.5896656534954408\n",
            "130 3 0.2453222453222453 0.5896656534954408\n",
            "0.5896656534954408\n",
            "130 4 0.3714821763602251 0.5896656534954408\n",
            "0.5896656534954408\n",
            "130 5 0.46689895470383275 0.5896656534954408\n",
            "0.5896656534954408\n",
            "130 6 0.5355371900826447 0.5896656534954408\n",
            "0.5896656534954408\n",
            "130 7 0.5530546623794212 0.5896656534954408\n",
            "0.5896656534954408\n",
            "130 8 0.5632 0.5896656534954408\n",
            "0.5896656534954408\n",
            "130 9 0.5597484276729561 0.5896656534954408\n",
            "0.5896656534954408\n",
            "130 10 0.5785381026438569 0.5896656534954408\n",
            "0.5896656534954408\n",
            "130 11 0.5745007680491552 0.5896656534954408\n",
            "0.5896656534954408\n",
            "130 12 0.5801526717557252 0.5896656534954408\n",
            "0.5896656534954408\n",
            "130 13 0.5791855203619909 0.5896656534954408\n",
            "0.5896656534954408\n",
            "130 14 0.5692771084337349 0.5896656534954408\n",
            "0.5896656534954408\n",
            "130 15 0.5834586466165413 0.5896656534954408\n",
            "0.5896656534954408\n",
            "Best N estimators : 90 Best max_depth: 12 Best F1: 0.5896656534954408\n",
            "140 1 0.0 0.5896656534954408\n",
            "0.5896656534954408\n",
            "140 2 0.1419068736141907 0.5896656534954408\n",
            "0.5896656534954408\n",
            "140 3 0.26337448559670784 0.5896656534954408\n",
            "0.5896656534954408\n",
            "140 4 0.368421052631579 0.5896656534954408\n",
            "0.5896656534954408\n",
            "140 5 0.46234676007005243 0.5896656534954408\n",
            "0.5896656534954408\n",
            "140 6 0.5346534653465346 0.5896656534954408\n",
            "0.5896656534954408\n",
            "140 7 0.5530546623794212 0.5896656534954408\n",
            "0.5896656534954408\n",
            "140 8 0.5608974358974359 0.5896656534954408\n",
            "0.5896656534954408\n",
            "140 9 0.5611285266457681 0.5896656534954408\n",
            "0.5896656534954408\n",
            "140 10 0.5789473684210527 0.5896656534954408\n",
            "0.5896656534954408\n",
            "140 11 0.5749613601236476 0.5896656534954408\n",
            "0.5896656534954408\n",
            "140 12 0.5753846153846154 0.5896656534954408\n",
            "0.5896656534954408\n",
            "140 13 0.5766312594840668 0.5896656534954408\n",
            "0.5896656534954408\n",
            "140 14 0.5688350983358548 0.5896656534954408\n",
            "0.5896656534954408\n",
            "140 15 0.5825825825825826 0.5896656534954408\n",
            "0.5896656534954408\n",
            "Best N estimators : 90 Best max_depth: 12 Best F1: 0.5896656534954408\n",
            "150 1 0.0 0.5896656534954408\n",
            "0.5896656534954408\n",
            "150 2 0.14601769911504425 0.5896656534954408\n",
            "0.5896656534954408\n",
            "150 3 0.24430641821946172 0.5896656534954408\n",
            "0.5896656534954408\n",
            "150 4 0.3721804511278195 0.5896656534954408\n",
            "0.5896656534954408\n",
            "150 5 0.4658493870402802 0.5896656534954408\n",
            "0.5896656534954408\n",
            "150 6 0.5353037766830869 0.5896656534954408\n",
            "0.5896656534954408\n",
            "150 7 0.5553772070626003 0.5896656534954408\n",
            "0.5896656534954408\n",
            "150 8 0.5645933014354068 0.5896656534954408\n",
            "0.5896656534954408\n",
            "150 9 0.5678627145085803 0.5896656534954408\n",
            "0.5896656534954408\n",
            "150 10 0.57984496124031 0.5896656534954408\n",
            "0.5896656534954408\n",
            "150 11 0.5723076923076923 0.5896656534954408\n",
            "0.5896656534954408\n",
            "150 12 0.5723076923076923 0.5896656534954408\n",
            "0.5896656534954408\n",
            "150 13 0.5740458015267176 0.5896656534954408\n",
            "0.5896656534954408\n",
            "150 14 0.5705614567526556 0.5896656534954408\n",
            "0.5896656534954408\n",
            "150 15 0.5834586466165413 0.5896656534954408\n",
            "0.5896656534954408\n",
            "Best N estimators : 90 Best max_depth: 12 Best F1: 0.5896656534954408\n",
            "160 1 0.0 0.5896656534954408\n",
            "0.5896656534954408\n",
            "160 2 0.1419068736141907 0.5896656534954408\n",
            "0.5896656534954408\n",
            "160 3 0.2556701030927835 0.5896656534954408\n",
            "0.5896656534954408\n",
            "160 4 0.37523452157598497 0.5896656534954408\n",
            "0.5896656534954408\n",
            "160 5 0.4677137870855148 0.5896656534954408\n",
            "0.5896656534954408\n",
            "160 6 0.5361842105263157 0.5896656534954408\n",
            "0.5896656534954408\n",
            "160 7 0.552166934189406 0.5896656534954408\n",
            "0.5896656534954408\n",
            "160 8 0.5599999999999999 0.5896656534954408\n",
            "0.5896656534954408\n",
            "160 9 0.5700934579439253 0.5896656534954408\n",
            "0.5896656534954408\n",
            "160 10 0.5807453416149069 0.5896656534954408\n",
            "0.5896656534954408\n",
            "160 11 0.5731895223420647 0.5896656534954408\n",
            "0.5896656534954408\n",
            "160 12 0.5749235474006116 0.5896656534954408\n",
            "0.5896656534954408\n",
            "160 13 0.5718654434250765 0.5896656534954408\n",
            "0.5896656534954408\n",
            "160 14 0.5709969788519637 0.5896656534954408\n",
            "0.5896656534954408\n",
            "160 15 0.5770392749244713 0.5896656534954408\n",
            "0.5896656534954408\n",
            "Best N estimators : 90 Best max_depth: 12 Best F1: 0.5896656534954408\n",
            "170 1 0.0 0.5896656534954408\n",
            "0.5896656534954408\n",
            "170 2 0.15011037527593818 0.5896656534954408\n",
            "0.5896656534954408\n",
            "170 3 0.2622950819672131 0.5896656534954408\n",
            "0.5896656534954408\n",
            "170 4 0.37523452157598497 0.5896656534954408\n",
            "0.5896656534954408\n",
            "170 5 0.47469458987783597 0.5896656534954408\n",
            "0.5896656534954408\n",
            "170 6 0.5346534653465346 0.5896656534954408\n",
            "0.5896656534954408\n",
            "170 7 0.5489566613162119 0.5896656534954408\n",
            "0.5896656534954408\n",
            "170 8 0.5645933014354068 0.5896656534954408\n",
            "0.5896656534954408\n",
            "170 9 0.5656249999999999 0.5896656534954408\n",
            "0.5896656534954408\n",
            "170 10 0.5820433436532508 0.5896656534954408\n",
            "0.5896656534954408\n",
            "170 11 0.5740740740740741 0.5896656534954408\n",
            "0.5896656534954408\n",
            "170 12 0.5758039816232772 0.5896656534954408\n",
            "0.5896656534954408\n",
            "170 13 0.5688073394495413 0.5896656534954408\n",
            "0.5896656534954408\n",
            "170 14 0.56752655538695 0.5896656534954408\n",
            "0.5896656534954408\n",
            "170 15 0.5804511278195489 0.5896656534954408\n",
            "0.5896656534954408\n",
            "Best N estimators : 90 Best max_depth: 12 Best F1: 0.5896656534954408\n",
            "180 1 0.0 0.5896656534954408\n",
            "0.5896656534954408\n",
            "180 2 0.15011037527593818 0.5896656534954408\n",
            "0.5896656534954408\n",
            "180 3 0.24793388429752067 0.5896656534954408\n",
            "0.5896656534954408\n",
            "180 4 0.37523452157598497 0.5896656534954408\n",
            "0.5896656534954408\n",
            "180 5 0.4593639575971732 0.5896656534954408\n",
            "0.5896656534954408\n",
            "180 6 0.533112582781457 0.5896656534954408\n",
            "0.5896656534954408\n",
            "180 7 0.5507246376811594 0.5896656534954408\n",
            "0.5896656534954408\n",
            "180 8 0.5673534072900158 0.5896656534954408\n",
            "0.5896656534954408\n",
            "180 9 0.5669781931464175 0.5896656534954408\n",
            "0.5896656534954408\n",
            "180 10 0.5820433436532508 0.5896656534954408\n",
            "0.5896656534954408\n",
            "180 11 0.5749613601236476 0.5896656534954408\n",
            "0.5896656534954408\n",
            "180 12 0.5788667687595712 0.5896656534954408\n",
            "0.5896656534954408\n",
            "180 13 0.5762195121951219 0.5896656534954408\n",
            "0.5896656534954408\n",
            "180 14 0.5740181268882175 0.5896656534954408\n",
            "0.5896656534954408\n",
            "180 15 0.5783132530120483 0.5896656534954408\n",
            "0.5896656534954408\n",
            "Best N estimators : 90 Best max_depth: 12 Best F1: 0.5896656534954408\n",
            "190 1 0.0 0.5896656534954408\n",
            "0.5896656534954408\n",
            "190 2 0.16630196936542668 0.5896656534954408\n",
            "0.5896656534954408\n",
            "190 3 0.24793388429752067 0.5896656534954408\n",
            "0.5896656534954408\n",
            "190 4 0.37453183520599254 0.5896656534954408\n",
            "0.5896656534954408\n",
            "190 5 0.4566371681415929 0.5896656534954408\n",
            "0.5896656534954408\n",
            "190 6 0.5322314049586777 0.5896656534954408\n",
            "0.5896656534954408\n",
            "190 7 0.5483870967741936 0.5896656534954408\n",
            "0.5896656534954408\n",
            "190 8 0.5650793650793651 0.5896656534954408\n",
            "0.5896656534954408\n",
            "190 9 0.5700934579439253 0.5896656534954408\n",
            "0.5896656534954408\n",
            "190 10 0.5838509316770187 0.5896656534954408\n",
            "0.5896656534954408\n",
            "190 11 0.5745341614906833 0.5896656534954408\n",
            "0.5896656534954408\n",
            "190 12 0.5793528505392913 0.5896656534954408\n",
            "0.5896656534954408\n",
            "190 13 0.5762195121951219 0.5896656534954408\n",
            "0.5896656534954408\n",
            "190 14 0.5666666666666667 0.5896656534954408\n",
            "0.5896656534954408\n",
            "190 15 0.5889387144992525 0.5896656534954408\n",
            "0.5896656534954408\n",
            "Best N estimators : 90 Best max_depth: 12 Best F1: 0.5896656534954408\n",
            "200 1 0.0 0.5896656534954408\n",
            "0.5896656534954408\n",
            "200 2 0.16993464052287582 0.5896656534954408\n",
            "0.5896656534954408\n",
            "200 3 0.24793388429752067 0.5896656534954408\n",
            "0.5896656534954408\n",
            "200 4 0.3714821763602251 0.5896656534954408\n",
            "0.5896656534954408\n",
            "200 5 0.44285714285714284 0.5896656534954408\n",
            "0.5896656534954408\n",
            "200 6 0.5322314049586777 0.5896656534954408\n",
            "0.5896656534954408\n",
            "200 7 0.5475040257648953 0.5896656534954408\n",
            "0.5896656534954408\n",
            "200 8 0.5636942675159237 0.5896656534954408\n",
            "0.5896656534954408\n",
            "200 9 0.573208722741433 0.5896656534954408\n",
            "0.5896656534954408\n",
            "200 10 0.5829457364341085 0.5896656534954408\n",
            "0.5896656534954408\n",
            "200 11 0.5754276827371695 0.5896656534954408\n",
            "0.5896656534954408\n",
            "200 12 0.5802469135802469 0.5896656534954408\n",
            "0.5896656534954408\n",
            "200 13 0.5749235474006116 0.5896656534954408\n",
            "0.5896656534954408\n",
            "200 14 0.5670731707317073 0.5896656534954408\n",
            "0.5896656534954408\n",
            "200 15 0.5817091454272864 0.5896656534954408\n",
            "0.5896656534954408\n",
            "Best N estimators : 90 Best max_depth: 12 Best F1: 0.5896656534954408\n",
            "210 1 0.0 0.5896656534954408\n",
            "0.5896656534954408\n",
            "210 2 0.15418502202643172 0.5896656534954408\n",
            "0.5896656534954408\n",
            "210 3 0.24430641821946172 0.5896656534954408\n",
            "0.5896656534954408\n",
            "210 4 0.36534839924670437 0.5896656534954408\n",
            "0.5896656534954408\n",
            "210 5 0.4400715563506261 0.5896656534954408\n",
            "0.5896656534954408\n",
            "210 6 0.5322314049586777 0.5896656534954408\n",
            "0.5896656534954408\n",
            "210 7 0.5483870967741936 0.5896656534954408\n",
            "0.5896656534954408\n",
            "210 8 0.5636942675159237 0.5896656534954408\n",
            "0.5896656534954408\n",
            "210 9 0.565149136577708 0.5896656534954408\n",
            "0.5896656534954408\n",
            "210 10 0.5825545171339563 0.5896656534954408\n",
            "0.5896656534954408\n",
            "210 11 0.5745341614906833 0.5896656534954408\n",
            "0.5896656534954408\n",
            "210 12 0.5802469135802469 0.5896656534954408\n",
            "0.5896656534954408\n",
            "210 13 0.5727411944869832 0.5896656534954408\n",
            "0.5896656534954408\n",
            "210 14 0.5653495440729482 0.5896656534954408\n",
            "0.5896656534954408\n",
            "210 15 0.5804511278195489 0.5896656534954408\n",
            "0.5896656534954408\n",
            "Best N estimators : 90 Best max_depth: 12 Best F1: 0.5896656534954408\n",
            "220 1 0.0 0.5896656534954408\n",
            "0.5896656534954408\n",
            "220 2 0.16228070175438597 0.5896656534954408\n",
            "0.5896656534954408\n",
            "220 3 0.24430641821946172 0.5896656534954408\n",
            "0.5896656534954408\n",
            "220 4 0.368421052631579 0.5896656534954408\n",
            "0.5896656534954408\n",
            "220 5 0.43727598566308246 0.5896656534954408\n",
            "0.5896656534954408\n",
            "220 6 0.5306799336650083 0.5896656534954408\n",
            "0.5896656534954408\n",
            "220 7 0.5460420032310178 0.5896656534954408\n",
            "0.5896656534954408\n",
            "220 8 0.5645933014354068 0.5896656534954408\n",
            "0.5896656534954408\n",
            "220 9 0.5628930817610063 0.5896656534954408\n",
            "0.5896656534954408\n",
            "220 10 0.5794392523364486 0.5896656534954408\n",
            "0.5896656534954408\n",
            "220 11 0.5767441860465117 0.5896656534954408\n",
            "0.5896656534954408\n",
            "220 12 0.5780525502318393 0.5896656534954408\n",
            "0.5896656534954408\n",
            "220 13 0.5770992366412214 0.5896656534954408\n",
            "0.5896656534954408\n",
            "220 14 0.5683890577507599 0.5896656534954408\n",
            "0.5896656534954408\n",
            "220 15 0.5813253012048193 0.5896656534954408\n",
            "0.5896656534954408\n",
            "Best N estimators : 90 Best max_depth: 12 Best F1: 0.5896656534954408\n",
            "230 1 0.0 0.5896656534954408\n",
            "0.5896656534954408\n",
            "230 2 0.15824175824175826 0.5896656534954408\n",
            "0.5896656534954408\n",
            "230 3 0.24430641821946172 0.5896656534954408\n",
            "0.5896656534954408\n",
            "230 4 0.36603773584905663 0.5896656534954408\n",
            "0.5896656534954408\n",
            "230 5 0.44206773618538325 0.5896656534954408\n",
            "0.5896656534954408\n",
            "230 6 0.5289256198347106 0.5896656534954408\n",
            "0.5896656534954408\n",
            "230 7 0.54281098546042 0.5896656534954408\n",
            "0.5896656534954408\n",
            "230 8 0.5668789808917197 0.5896656534954408\n",
            "0.5896656534954408\n",
            "230 9 0.5642633228840126 0.5896656534954408\n",
            "0.5896656534954408\n",
            "230 10 0.5847589424572318 0.5896656534954408\n",
            "0.5896656534954408\n",
            "230 11 0.5736434108527132 0.5896656534954408\n",
            "0.5896656534954408\n",
            "230 12 0.5811437403400309 0.5896656534954408\n",
            "0.5896656534954408\n",
            "230 13 0.5762195121951219 0.5896656534954408\n",
            "0.5896656534954408\n",
            "230 14 0.5705614567526556 0.5896656534954408\n",
            "0.5896656534954408\n",
            "230 15 0.5864661654135339 0.5896656534954408\n",
            "0.5896656534954408\n",
            "Best N estimators : 90 Best max_depth: 12 Best F1: 0.5896656534954408\n",
            "240 1 0.0 0.5896656534954408\n",
            "0.5896656534954408\n",
            "240 2 0.15824175824175826 0.5896656534954408\n",
            "0.5896656534954408\n",
            "240 3 0.24430641821946172 0.5896656534954408\n",
            "0.5896656534954408\n",
            "240 4 0.3691148775894539 0.5896656534954408\n",
            "0.5896656534954408\n",
            "240 5 0.43971631205673767 0.5896656534954408\n",
            "0.5896656534954408\n",
            "240 6 0.5313531353135313 0.5896656534954408\n",
            "0.5896656534954408\n",
            "240 7 0.5451612903225805 0.5896656534954408\n",
            "0.5896656534954408\n",
            "240 8 0.5645933014354068 0.5896656534954408\n",
            "0.5896656534954408\n",
            "240 9 0.5665101721439749 0.5896656534954408\n",
            "0.5896656534954408\n",
            "240 10 0.5785381026438569 0.5896656534954408\n",
            "0.5896656534954408\n",
            "240 11 0.5736434108527132 0.5896656534954408\n",
            "0.5896656534954408\n",
            "240 12 0.5802469135802469 0.5896656534954408\n",
            "0.5896656534954408\n",
            "240 13 0.5740458015267176 0.5896656534954408\n",
            "0.5896656534954408\n",
            "240 14 0.5748865355521936 0.5896656534954408\n",
            "0.5896656534954408\n",
            "240 15 0.5864661654135339 0.5896656534954408\n",
            "0.5896656534954408\n",
            "Best N estimators : 90 Best max_depth: 12 Best F1: 0.5896656534954408\n",
            "250 1 0.0 0.5896656534954408\n",
            "0.5896656534954408\n",
            "250 2 0.15824175824175826 0.5896656534954408\n",
            "0.5896656534954408\n",
            "250 3 0.24430641821946172 0.5896656534954408\n",
            "0.5896656534954408\n",
            "250 4 0.3691148775894539 0.5896656534954408\n",
            "0.5896656534954408\n",
            "250 5 0.44128113879003555 0.5896656534954408\n",
            "0.5896656534954408\n",
            "250 6 0.5313531353135313 0.5896656534954408\n",
            "0.5896656534954408\n",
            "250 7 0.54281098546042 0.5896656534954408\n",
            "0.5896656534954408\n",
            "250 8 0.5623003194888179 0.5896656534954408\n",
            "0.5896656534954408\n",
            "250 9 0.565149136577708 0.5896656534954408\n",
            "0.5896656534954408\n",
            "250 10 0.5763239875389408 0.5896656534954408\n",
            "0.5896656534954408\n",
            "250 11 0.5767441860465117 0.5896656534954408\n",
            "0.5896656534954408\n",
            "250 12 0.5780525502318393 0.5896656534954408\n",
            "0.5896656534954408\n",
            "250 13 0.5779816513761468 0.5896656534954408\n",
            "0.5896656534954408\n",
            "250 14 0.5770392749244713 0.5896656534954408\n",
            "0.5896656534954408\n",
            "250 15 0.5937031484257871 0.5896656534954408\n",
            "0.5937031484257871\n",
            "Best N estimators : 250 Best max_depth: 15 Best F1: 0.5937031484257871\n",
            "CPU times: user 5min 56s, sys: 1.46 s, total: 5min 57s\n",
            "Wall time: 6min 1s\n"
          ]
        }
      ],
      "source": [
        "%%time\n",
        "\n",
        "Max_f1 = 0\n",
        "nE = 0\n",
        "for estimator in range(10, 251, 10):\n",
        "    nE += 10\n",
        "    nD = 0\n",
        "    for depth in range(1, 16):\n",
        "        nD += 1\n",
        "        model = RandomForestClassifier(random_state=12345, n_estimators=estimator, max_depth=depth)\n",
        "        model.fit(features_train, target_train)\n",
        "        predicted_valid = model.predict(features_valid)\n",
        "        F1 = f1_score(target_valid, predicted_valid)\n",
        "        print (nE, nD, F1, Max_f1)\n",
        "        if F1 > Max_f1:\n",
        "            Max_f1 = F1\n",
        "            Best_estimators = estimator\n",
        "            Best_max_depth = depth\n",
        "        print (Max_f1)\n",
        "\n",
        "    print('Best N estimators :', Best_estimators,'Best max_depth:', Best_max_depth,'Best F1:', Max_f1)\n"
      ]
    },
    {
      "cell_type": "markdown",
      "metadata": {
        "id": "NaWKCGFZnJCi"
      },
      "source": [
        "Лучший результат по F1: 0.5937 достигнут при гиперпараметрах равных n_estimators = 250  и max_depth = 15 .\n",
        "Второй лучший результат по F1: 0.5896 достигается при гиперпараметрах равных n_estimators = 90  и max_depth = 12.\n",
        "При этом самый быстрый лучший результат по F1: 0.5891 достигается уже при гиперпараметрах равных n_estimators = 10  и max_depth = 10.\n",
        "\n",
        "По условию задания метрику F1 нужно довести до 0.59 поэтому для дальнейших расчетов будем использовать результат с 250 деревьями с глубиной 15.\n",
        "При этом надо отметить если бы не стояло такое жесткое условие, то могли для экономии времени использовать немного отстающий от наилучшего результата показатель (F1: 0.589)  достигнутый уже при 10 деревьях и глубине 10.\n",
        "\n",
        "\n",
        "Исследуем, как работает Логистическая регрессия на этих данных."
      ]
    },
    {
      "cell_type": "code",
      "execution_count": null,
      "metadata": {
        "colab": {
          "base_uri": "https://localhost:8080/"
        },
        "id": "S3vQv-UHnJCl",
        "outputId": "be3b2782-6fc7-4228-a00e-5a1643ef2d0a"
      },
      "outputs": [
        {
          "output_type": "stream",
          "name": "stdout",
          "text": [
            "F1 0.33108108108108103\n",
            "CPU times: user 22.3 ms, sys: 12 ms, total: 34.3 ms\n",
            "Wall time: 29.7 ms\n"
          ]
        }
      ],
      "source": [
        "%%time\n",
        "\n",
        "model =  LogisticRegression(random_state=12345, solver='liblinear')\n",
        "model.fit(features_train, target_train)\n",
        "predicted_valid = model.predict(features_valid)\n",
        "print('F1', f1_score(target_valid, predicted_valid))"
      ]
    },
    {
      "cell_type": "markdown",
      "metadata": {
        "id": "A1QUr8xsnJCm"
      },
      "source": [
        "Результаты довольно низкие. Возможно precision или recall низкий и близок к 0.\n",
        "\n",
        "Рассмотрим как работает Гаусовская байсовая модель.\n",
        "\n"
      ]
    },
    {
      "cell_type": "code",
      "execution_count": null,
      "metadata": {
        "colab": {
          "base_uri": "https://localhost:8080/"
        },
        "id": "dORR1H4vnJCn",
        "outputId": "0dfaf8f3-b569-46cd-aa59-3f7b9cbd6f77"
      },
      "outputs": [
        {
          "output_type": "stream",
          "name": "stdout",
          "text": [
            "F1 0.4268656716417911\n",
            "CPU times: user 9.95 ms, sys: 0 ns, total: 9.95 ms\n",
            "Wall time: 15.5 ms\n"
          ]
        }
      ],
      "source": [
        "%%time\n",
        "\n",
        "model =  GaussianNB()\n",
        "model.fit(features_train, target_train)\n",
        "predicted_valid = model.predict(features_valid)\n",
        "print('F1', f1_score(target_valid, predicted_valid))"
      ]
    },
    {
      "cell_type": "markdown",
      "metadata": {
        "id": "oUWrcVfYnJCo"
      },
      "source": [
        "Похожий результат, как и логистической регресии.\n",
        "\n",
        "Проведем оценку accuracy, precision и recall, также покажем F-метрику."
      ]
    },
    {
      "cell_type": "code",
      "execution_count": null,
      "metadata": {
        "scrolled": false,
        "colab": {
          "base_uri": "https://localhost:8080/"
        },
        "id": "H4NWXQ5znJCo",
        "outputId": "916d130f-e2e6-4698-d9b5-1a8971dd2795"
      },
      "outputs": [
        {
          "output_type": "stream",
          "name": "stdout",
          "text": [
            "Решающее дерево\n",
            "Точность попадания по классам 0.858\n",
            "Precision 0.7768595041322314\n",
            "Recall 0.44976076555023925\n",
            "F1 0.5696969696969697\n",
            "\n",
            "Случайный лес\n",
            "Точность попадания по классам 0.8645\n",
            "Precision 0.7951807228915663\n",
            "Recall 0.47368421052631576\n",
            "F1 0.5937031484257871\n",
            "\n",
            "Логистическая регрессия\n",
            "Точность попадания по классам 0.802\n",
            "Precision 0.5632183908045977\n",
            "Recall 0.23444976076555024\n",
            "F1 0.33108108108108103\n",
            "\n",
            "Гаусовская байсовая модель\n",
            "Точность попадания по классам 0.808\n",
            "Precision 0.5674603174603174\n",
            "Recall 0.34210526315789475\n",
            "F1 0.4268656716417911\n",
            "\n",
            "CPU times: user 2.41 s, sys: 58.9 ms, total: 2.46 s\n",
            "Wall time: 2.44 s\n"
          ]
        }
      ],
      "source": [
        "%%time\n",
        "\n",
        "model = DecisionTreeClassifier(random_state=12345, max_depth=6)\n",
        "model.fit(features_train, target_train)\n",
        "predicted_valid = model.predict(features_valid)\n",
        "print('Решающее дерево')\n",
        "print('Точность попадания по классам', accuracy_score(target_valid, predicted_valid))\n",
        "print('Precision', precision_score(target_valid, predicted_valid))\n",
        "print('Recall', recall_score(target_valid, predicted_valid))\n",
        "print('F1', f1_score(target_valid, predicted_valid))\n",
        "print()\n",
        "\n",
        "model = RandomForestClassifier(random_state=12345, n_estimators=250, max_depth=15)\n",
        "model.fit(features_train, target_train)\n",
        "predicted_valid = model.predict(features_valid)\n",
        "print('Случайный лес')\n",
        "print('Точность попадания по классам', accuracy_score(target_valid, predicted_valid))\n",
        "print('Precision', precision_score(target_valid, predicted_valid))\n",
        "print('Recall', recall_score(target_valid, predicted_valid))\n",
        "print('F1', f1_score(target_valid, predicted_valid))\n",
        "print()\n",
        "\n",
        "model = LogisticRegression(random_state=12345, solver='liblinear')\n",
        "model.fit(features_train, target_train)\n",
        "predicted_valid = model.predict(features_valid)\n",
        "print('Логистическая регрессия')\n",
        "print('Точность попадания по классам', accuracy_score(target_valid, predicted_valid))\n",
        "print('Precision', precision_score(target_valid, predicted_valid))\n",
        "print('Recall', recall_score(target_valid, predicted_valid))\n",
        "print('F1', f1_score(target_valid, predicted_valid))\n",
        "print()\n",
        "\n",
        "model = GaussianNB()\n",
        "model.fit(features_train, target_train)\n",
        "predicted_valid = model.predict(features_valid)\n",
        "print('Гаусовская байсовая модель')\n",
        "print('Точность попадания по классам', accuracy_score(target_valid, predicted_valid))\n",
        "print('Precision', precision_score(target_valid, predicted_valid))\n",
        "print('Recall', recall_score(target_valid, predicted_valid))\n",
        "print('F1', f1_score(target_valid, predicted_valid))\n",
        "print()"
      ]
    },
    {
      "cell_type": "markdown",
      "metadata": {
        "id": "7d767qf6nJCp"
      },
      "source": [
        "Проведем построение ROC-кривой для каждой модели. И выведем показатель AUC-ROC."
      ]
    },
    {
      "cell_type": "code",
      "execution_count": null,
      "metadata": {
        "scrolled": false,
        "colab": {
          "base_uri": "https://localhost:8080/",
          "height": 776
        },
        "id": "B52sEgOtnJCq",
        "outputId": "2d6da902-b145-496f-cd18-ec5541f9999d"
      },
      "outputs": [
        {
          "output_type": "stream",
          "name": "stdout",
          "text": [
            "AUC-ROC DecisionTreeClassifier 0.8164631712023421\n",
            "AUC-ROC RandomForestClassifier 0.8520315269267296\n",
            "AUC-ROC LogisticRegression 0.7586363333918061\n",
            "AUC-ROC GaussianNB 0.7849430494982429\n"
          ]
        },
        {
          "output_type": "display_data",
          "data": {
            "text/plain": [
              "<Figure size 1200x900 with 1 Axes>"
            ],
            "image/png": "[encoded data removed]"
          },
          "metadata": {}
        }
      ],
      "source": [
        "plt.figure(figsize=[12,9])\n",
        "\n",
        "plt.plot([0, 1], [0, 1], linestyle='--', label='RandomModel')\n",
        "\n",
        "\n",
        "model = DecisionTreeClassifier(random_state=12345, max_depth=6)\n",
        "model.fit(features_train, target_train)\n",
        "probabilities_valid = model.predict_proba(features_valid)\n",
        "probabilities_one_valid = probabilities_valid[:, 1]\n",
        "fpr, tpr, thresholds = roc_curve(target_valid, probabilities_one_valid)\n",
        "auc_roc = roc_auc_score(target_valid, probabilities_one_valid)\n",
        "print('AUC-ROC DecisionTreeClassifier',auc_roc)\n",
        "plt.plot(fpr, tpr, label='DecisionTreeClassifier')\n",
        "\n",
        "model = RandomForestClassifier(random_state=12345, n_estimators=250, max_depth=6)\n",
        "model.fit(features_train, target_train)\n",
        "probabilities_valid = model.predict_proba(features_valid)\n",
        "probabilities_one_valid = probabilities_valid[:, 1]\n",
        "fpr, tpr, thresholds = roc_curve(target_valid, probabilities_one_valid)\n",
        "auc_roc = roc_auc_score(target_valid, probabilities_one_valid)\n",
        "print('AUC-ROC RandomForestClassifier',auc_roc)\n",
        "plt.plot(fpr, tpr, label='RandomForestClassifier')\n",
        "\n",
        "model = LogisticRegression(random_state=12345, solver='liblinear')\n",
        "model.fit(features_train, target_train)\n",
        "probabilities_valid = model.predict_proba(features_valid)\n",
        "probabilities_one_valid = probabilities_valid[:, 1]\n",
        "fpr, tpr, thresholds = roc_curve(target_valid, probabilities_one_valid)\n",
        "auc_roc = roc_auc_score(target_valid, probabilities_one_valid)\n",
        "print('AUC-ROC LogisticRegression',auc_roc)\n",
        "plt.plot(fpr, tpr, label='LogisticRegression')\n",
        "\n",
        "model = GaussianNB()\n",
        "model.fit(features_train, target_train)\n",
        "probabilities_valid = model.predict_proba(features_valid)\n",
        "probabilities_one_valid = probabilities_valid[:, 1]\n",
        "fpr, tpr, thresholds = roc_curve(target_valid, probabilities_one_valid)\n",
        "auc_roc = roc_auc_score(target_valid, probabilities_one_valid)\n",
        "print('AUC-ROC GaussianNB',auc_roc)\n",
        "plt.plot(fpr, tpr, label='GaussianNB')\n",
        "\n",
        "plt.xlim([0,1])\n",
        "plt.ylim([0,1])\n",
        "\n",
        "plt.xlabel(\"False Positive Rate\")\n",
        "plt.ylabel(\"True Positive Rate\")\n",
        "\n",
        "plt.legend(loc='lower right', fontsize='x-large')\n",
        "\n",
        "plt.title(\"ROC-кривая\")\n",
        "plt.show()"
      ]
    },
    {
      "cell_type": "markdown",
      "metadata": {
        "id": "6TEx1R6XnJCr"
      },
      "source": [
        "По полученным реззультатам можно заменить, что метрика f1 и AUC-ROC лучшая на случаном лесе.\n",
        "\n",
        "Вывод по шагу 2:\n",
        "\n",
        "- В данных сущестует дисбаланс классов в отношении 1:4.\n",
        "\n",
        "- Возможно он влияет на качество изучаемых моделей.\n",
        "\n",
        "- Все модели имеют recall ниже, чем percision, из-за перекоса данных, что влияет на F-меру."
      ]
    },
    {
      "cell_type": "markdown",
      "metadata": {
        "id": "K5vGUA0FnJCs"
      },
      "source": [
        "## Борьба с дисбалансом"
      ]
    },
    {
      "cell_type": "markdown",
      "metadata": {
        "id": "zKL2M-yDnJCt"
      },
      "source": [
        "Для борьбы с дисбалансом выполним сравнение моделей:\n",
        "\n",
        "- С взвешенными классами\n",
        "- С уменьшенной выборкой\n",
        "- С увеличенной выборкой\n",
        "\n",
        "Изучим возможности моделей по взвешиванию классов."
      ]
    },
    {
      "cell_type": "code",
      "execution_count": null,
      "metadata": {
        "scrolled": false,
        "colab": {
          "base_uri": "https://localhost:8080/"
        },
        "id": "HlfCZqjunJCv",
        "outputId": "30e06e8f-049a-43ad-e8e7-71769872067f"
      },
      "outputs": [
        {
          "output_type": "stream",
          "name": "stdout",
          "text": [
            "Max depth 2 F1-score 0.541015625\n",
            "Max depth 3 F1-score 0.541015625\n",
            "Max depth 4 F1-score 0.5277777777777778\n",
            "Max depth 5 F1-score 0.5963791267305644\n",
            "Max depth 6 F1-score 0.5581835383159887\n",
            "Max depth 7 F1-score 0.5508390918065154\n",
            "Max depth 8 F1-score 0.5398058252427185\n",
            "Max depth 9 F1-score 0.5431119920713577\n",
            "Max depth 10 F1-score 0.5081495685522531\n",
            "Max depth 11 F1-score 0.533748701973001\n",
            "Max depth 12 F1-score 0.5035677879714576\n",
            "Max depth 13 F1-score 0.5151515151515152\n",
            "Max depth 14 F1-score 0.4872080088987764\n",
            "Max depth 15 F1-score 0.47861271676300576\n",
            "Max depth 16 F1-score 0.49114521841794573\n",
            "Max depth 17 F1-score 0.4940617577197149\n",
            "Max depth 18 F1-score 0.47971360381861583\n",
            "Max depth 19 F1-score 0.47961630695443647\n",
            "Max depth 20 F1-score 0.4852941176470588\n",
            "Max depth 21 F1-score 0.4852941176470588\n",
            "Max depth 22 F1-score 0.48674698795180726\n",
            "Max depth 23 F1-score 0.4736196319018405\n",
            "Max depth 24 F1-score 0.4736196319018405\n",
            "Max depth 25 F1-score 0.4736196319018405\n",
            "Max depth 26 F1-score 0.4736196319018405\n",
            "Max depth 27 F1-score 0.4736196319018405\n",
            "Max depth 28 F1-score 0.4736196319018405\n",
            "Max depth 29 F1-score 0.4736196319018405\n",
            "CPU times: user 1 s, sys: 11.7 ms, total: 1.02 s\n",
            "Wall time: 1.03 s\n"
          ]
        }
      ],
      "source": [
        "%%time\n",
        "\n",
        "# Решающее дерево: подбор оптимальных гиперпараметров после взвешивания.\n",
        "\n",
        "for depth in range(2, 30):\n",
        "    model = DecisionTreeClassifier(random_state=12345, max_depth=depth,class_weight='balanced')\n",
        "    model.fit(features_train, target_train)\n",
        "    predicted_valid = model.predict(features_valid)\n",
        "    print('Max depth', depth,'F1-score', f1_score(target_valid, predicted_valid))"
      ]
    },
    {
      "cell_type": "markdown",
      "metadata": {
        "id": "7bMgqpffnJCv"
      },
      "source": [
        "Наилучший показатель F1 в методе Решающее дерево  достигается при глубине 5"
      ]
    },
    {
      "cell_type": "code",
      "execution_count": null,
      "metadata": {
        "scrolled": true,
        "colab": {
          "base_uri": "https://localhost:8080/"
        },
        "id": "-4a0U8lZnJCx",
        "outputId": "9b5cfa87-dab6-41a6-d97c-ce7803c847ac"
      },
      "outputs": [
        {
          "output_type": "stream",
          "name": "stdout",
          "text": [
            "10 1 0.5159165751920967 0\n",
            "0.5159165751920967\n",
            "10 2 0.569620253164557 0.5159165751920967\n",
            "0.569620253164557\n",
            "10 3 0.5668849391955099 0.569620253164557\n",
            "0.569620253164557\n",
            "10 4 0.5989637305699482 0.569620253164557\n",
            "0.5989637305699482\n",
            "10 5 0.5916334661354582 0.5989637305699482\n",
            "0.5989637305699482\n",
            "10 6 0.6071428571428573 0.5989637305699482\n",
            "0.6071428571428573\n",
            "10 7 0.6078838174273858 0.6071428571428573\n",
            "0.6078838174273858\n",
            "10 8 0.6225596529284164 0.6078838174273858\n",
            "0.6225596529284164\n",
            "10 9 0.6087912087912088 0.6225596529284164\n",
            "0.6225596529284164\n",
            "10 10 0.6060606060606061 0.6225596529284164\n",
            "0.6225596529284164\n",
            "10 11 0.5895522388059701 0.6225596529284164\n",
            "0.6225596529284164\n",
            "10 12 0.5802310654685494 0.6225596529284164\n",
            "0.6225596529284164\n",
            "10 13 0.5782493368700264 0.6225596529284164\n",
            "0.6225596529284164\n",
            "10 14 0.5798319327731092 0.6225596529284164\n",
            "0.6225596529284164\n",
            "10 15 0.5684830633284241 0.6225596529284164\n",
            "0.6225596529284164\n",
            "Best N estimators : 10 Best max_depth: 8 Best F1: 0.6225596529284164\n",
            "20 1 0.5280898876404494 0.6225596529284164\n",
            "0.6225596529284164\n",
            "20 2 0.5714285714285714 0.6225596529284164\n",
            "0.6225596529284164\n",
            "20 3 0.5727525486561632 0.6225596529284164\n",
            "0.6225596529284164\n",
            "20 4 0.5991902834008097 0.6225596529284164\n",
            "0.6225596529284164\n",
            "20 5 0.6054490413723512 0.6225596529284164\n",
            "0.6225596529284164\n",
            "20 6 0.6052104208416834 0.6225596529284164\n",
            "0.6225596529284164\n",
            "20 7 0.608324439701174 0.6225596529284164\n",
            "0.6225596529284164\n",
            "20 8 0.616557734204793 0.6225596529284164\n",
            "0.6225596529284164\n",
            "20 9 0.6098654708520179 0.6225596529284164\n",
            "0.6225596529284164\n",
            "20 10 0.60381861575179 0.6225596529284164\n",
            "0.6225596529284164\n",
            "20 11 0.5956907477820025 0.6225596529284164\n",
            "0.6225596529284164\n",
            "20 12 0.6023778071334214 0.6225596529284164\n",
            "0.6225596529284164\n",
            "20 13 0.6027397260273972 0.6225596529284164\n",
            "0.6225596529284164\n",
            "20 14 0.5857142857142856 0.6225596529284164\n",
            "0.6225596529284164\n",
            "20 15 0.5755813953488371 0.6225596529284164\n",
            "0.6225596529284164\n",
            "Best N estimators : 10 Best max_depth: 8 Best F1: 0.6225596529284164\n",
            "30 1 0.5327354260089686 0.6225596529284164\n",
            "0.6225596529284164\n",
            "30 2 0.5694849368318756 0.6225596529284164\n",
            "0.6225596529284164\n",
            "30 3 0.5646196150320806 0.6225596529284164\n",
            "0.6225596529284164\n",
            "30 4 0.5949119373776908 0.6225596529284164\n",
            "0.6225596529284164\n",
            "30 5 0.6077457795431976 0.6225596529284164\n",
            "0.6225596529284164\n",
            "30 6 0.6027944111776445 0.6225596529284164\n",
            "0.6225596529284164\n",
            "30 7 0.6107030430220356 0.6225596529284164\n",
            "0.6225596529284164\n",
            "30 8 0.6163793103448275 0.6225596529284164\n",
            "0.6225596529284164\n",
            "30 9 0.6086956521739131 0.6225596529284164\n",
            "0.6225596529284164\n",
            "30 10 0.606280193236715 0.6225596529284164\n",
            "0.6225596529284164\n",
            "30 11 0.6065989847715736 0.6225596529284164\n",
            "0.6225596529284164\n",
            "30 12 0.6058201058201058 0.6225596529284164\n",
            "0.6225596529284164\n",
            "30 13 0.5942228335625859 0.6225596529284164\n",
            "0.6225596529284164\n",
            "30 14 0.6002844950213371 0.6225596529284164\n",
            "0.6225596529284164\n",
            "30 15 0.5909752547307133 0.6225596529284164\n",
            "0.6225596529284164\n",
            "Best N estimators : 10 Best max_depth: 8 Best F1: 0.6225596529284164\n",
            "40 1 0.5433962264150943 0.6225596529284164\n",
            "0.6225596529284164\n",
            "40 2 0.5694305694305694 0.6225596529284164\n",
            "0.6225596529284164\n",
            "40 3 0.5648994515539305 0.6225596529284164\n",
            "0.6225596529284164\n",
            "40 4 0.596078431372549 0.6225596529284164\n",
            "0.6225596529284164\n",
            "40 5 0.6118811881188119 0.6225596529284164\n",
            "0.6225596529284164\n",
            "40 6 0.6161616161616161 0.6225596529284164\n",
            "0.6225596529284164\n",
            "40 7 0.6124604012671594 0.6225596529284164\n",
            "0.6225596529284164\n",
            "40 8 0.6270270270270271 0.6225596529284164\n",
            "0.6270270270270271\n",
            "40 9 0.6130884041331801 0.6270270270270271\n",
            "0.6270270270270271\n",
            "40 10 0.6208530805687204 0.6270270270270271\n",
            "0.6270270270270271\n",
            "40 11 0.6035353535353536 0.6270270270270271\n",
            "0.6270270270270271\n",
            "40 12 0.6086956521739131 0.6270270270270271\n",
            "0.6270270270270271\n",
            "40 13 0.6002766251728906 0.6270270270270271\n",
            "0.6270270270270271\n",
            "40 14 0.5960451977401131 0.6270270270270271\n",
            "0.6270270270270271\n",
            "40 15 0.5939741750358679 0.6270270270270271\n",
            "0.6270270270270271\n",
            "Best N estimators : 40 Best max_depth: 8 Best F1: 0.6270270270270271\n",
            "50 1 0.5430954587581093 0.6270270270270271\n",
            "0.6270270270270271\n",
            "50 2 0.5616045845272206 0.6270270270270271\n",
            "0.6270270270270271\n",
            "50 3 0.5775301764159704 0.6270270270270271\n",
            "0.6270270270270271\n",
            "50 4 0.5953757225433527 0.6270270270270271\n",
            "0.6270270270270271\n",
            "50 5 0.6114398422090729 0.6270270270270271\n",
            "0.6270270270270271\n",
            "50 6 0.6138211382113822 0.6270270270270271\n",
            "0.6270270270270271\n",
            "50 7 0.6182965299684542 0.6270270270270271\n",
            "0.6270270270270271\n",
            "50 8 0.62582056892779 0.6270270270270271\n",
            "0.6270270270270271\n",
            "50 9 0.6227272727272727 0.6270270270270271\n",
            "0.6270270270270271\n",
            "50 10 0.6124401913875598 0.6270270270270271\n",
            "0.6270270270270271\n",
            "50 11 0.6129032258064517 0.6270270270270271\n",
            "0.6270270270270271\n",
            "50 12 0.5941644562334217 0.6270270270270271\n",
            "0.6270270270270271\n",
            "50 13 0.598079561042524 0.6270270270270271\n",
            "0.6270270270270271\n",
            "50 14 0.5965909090909091 0.6270270270270271\n",
            "0.6270270270270271\n",
            "50 15 0.5950653120464442 0.6270270270270271\n",
            "0.6270270270270271\n",
            "Best N estimators : 40 Best max_depth: 8 Best F1: 0.6270270270270271\n",
            "60 1 0.5427782888684453 0.6270270270270271\n",
            "0.6270270270270271\n",
            "60 2 0.5614678899082569 0.6270270270270271\n",
            "0.6270270270270271\n",
            "60 3 0.5806451612903226 0.6270270270270271\n",
            "0.6270270270270271\n",
            "60 4 0.6009661835748793 0.6270270270270271\n",
            "0.6270270270270271\n",
            "60 5 0.6086105675146771 0.6270270270270271\n",
            "0.6270270270270271\n",
            "60 6 0.616326530612245 0.6270270270270271\n",
            "0.6270270270270271\n",
            "60 7 0.6271186440677966 0.6270270270270271\n",
            "0.6271186440677966\n",
            "60 8 0.6142076502732241 0.6271186440677966\n",
            "0.6271186440677966\n",
            "60 9 0.6245694603903559 0.6271186440677966\n",
            "0.6271186440677966\n",
            "60 10 0.6183574879227053 0.6271186440677966\n",
            "0.6271186440677966\n",
            "60 11 0.6120906801007556 0.6271186440677966\n",
            "0.6271186440677966\n",
            "60 12 0.5986754966887416 0.6271186440677966\n",
            "0.6271186440677966\n",
            "60 13 0.5871056241426611 0.6271186440677966\n",
            "0.6271186440677966\n",
            "60 14 0.6036671368124119 0.6271186440677966\n",
            "0.6271186440677966\n",
            "60 15 0.5964912280701754 0.6271186440677966\n",
            "0.6271186440677966\n",
            "Best N estimators : 60 Best max_depth: 7 Best F1: 0.6271186440677966\n",
            "70 1 0.5427312775330396 0.6271186440677966\n",
            "0.6271186440677966\n",
            "70 2 0.5683257918552035 0.6271186440677966\n",
            "0.6271186440677966\n",
            "70 3 0.5803489439853076 0.6271186440677966\n",
            "0.6271186440677966\n",
            "70 4 0.6061776061776061 0.6271186440677966\n",
            "0.6271186440677966\n",
            "70 5 0.6029268292682926 0.6271186440677966\n",
            "0.6271186440677966\n",
            "70 6 0.6108870967741935 0.6271186440677966\n",
            "0.6271186440677966\n",
            "70 7 0.6200417536534447 0.6271186440677966\n",
            "0.6271186440677966\n",
            "70 8 0.6150490730643402 0.6271186440677966\n",
            "0.6271186440677966\n",
            "70 9 0.624 0.6271186440677966\n",
            "0.6271186440677966\n",
            "70 10 0.6086956521739132 0.6271186440677966\n",
            "0.6271186440677966\n",
            "70 11 0.6034912718204488 0.6271186440677966\n",
            "0.6271186440677966\n",
            "70 12 0.610079575596817 0.6271186440677966\n",
            "0.6271186440677966\n",
            "70 13 0.5942228335625859 0.6271186440677966\n",
            "0.6271186440677966\n",
            "70 14 0.5971830985915493 0.6271186440677966\n",
            "0.6271186440677966\n",
            "70 15 0.5976676384839651 0.6271186440677966\n",
            "0.6271186440677966\n",
            "Best N estimators : 60 Best max_depth: 7 Best F1: 0.6271186440677966\n",
            "80 1 0.5387453874538745 0.6271186440677966\n",
            "0.6271186440677966\n",
            "80 2 0.5753931544865866 0.6271186440677966\n",
            "0.6271186440677966\n",
            "80 3 0.5835641735918744 0.6271186440677966\n",
            "0.6271186440677966\n",
            "80 4 0.6063522617901829 0.6271186440677966\n",
            "0.6271186440677966\n",
            "80 5 0.6110019646365422 0.6271186440677966\n",
            "0.6271186440677966\n",
            "80 6 0.6156982670744139 0.6271186440677966\n",
            "0.6271186440677966\n",
            "80 7 0.6176470588235294 0.6271186440677966\n",
            "0.6271186440677966\n",
            "80 8 0.6172300981461287 0.6271186440677966\n",
            "0.6271186440677966\n",
            "80 9 0.6229885057471264 0.6271186440677966\n",
            "0.6271186440677966\n",
            "80 10 0.6137184115523466 0.6271186440677966\n",
            "0.6271186440677966\n",
            "80 11 0.602258469259724 0.6271186440677966\n",
            "0.6271186440677966\n",
            "80 12 0.6045272969374168 0.6271186440677966\n",
            "0.6271186440677966\n",
            "80 13 0.5933147632311978 0.6271186440677966\n",
            "0.6271186440677966\n",
            "80 14 0.6047819971870605 0.6271186440677966\n",
            "0.6271186440677966\n",
            "80 15 0.5830903790087464 0.6271186440677966\n",
            "0.6271186440677966\n",
            "Best N estimators : 60 Best max_depth: 7 Best F1: 0.6271186440677966\n",
            "90 1 0.5442684063373718 0.6271186440677966\n",
            "0.6271186440677966\n",
            "90 2 0.5767441860465116 0.6271186440677966\n",
            "0.6271186440677966\n",
            "90 3 0.5868152274837511 0.6271186440677966\n",
            "0.6271186440677966\n",
            "90 4 0.6050096339113681 0.6271186440677966\n",
            "0.6271186440677966\n",
            "90 5 0.6104023552502453 0.6271186440677966\n",
            "0.6271186440677966\n",
            "90 6 0.618705035971223 0.6271186440677966\n",
            "0.6271186440677966\n",
            "90 7 0.6230200633579726 0.6271186440677966\n",
            "0.6271186440677966\n",
            "90 8 0.615553121577218 0.6271186440677966\n",
            "0.6271186440677966\n",
            "90 9 0.6284403669724771 0.6271186440677966\n",
            "0.6284403669724771\n",
            "90 10 0.6153846153846154 0.6284403669724771\n",
            "0.6284403669724771\n",
            "90 11 0.6032540675844805 0.6284403669724771\n",
            "0.6284403669724771\n",
            "90 12 0.6117021276595744 0.6284403669724771\n",
            "0.6284403669724771\n",
            "90 13 0.5919778699861687 0.6284403669724771\n",
            "0.6284403669724771\n",
            "90 14 0.5949008498583569 0.6284403669724771\n",
            "0.6284403669724771\n",
            "90 15 0.5852941176470587 0.6284403669724771\n",
            "0.6284403669724771\n",
            "Best N estimators : 90 Best max_depth: 9 Best F1: 0.6284403669724771\n",
            "100 1 0.5446096654275093 0.6284403669724771\n",
            "0.6284403669724771\n",
            "100 2 0.5754189944134078 0.6284403669724771\n",
            "0.6284403669724771\n",
            "100 3 0.5852749301025164 0.6284403669724771\n",
            "0.6284403669724771\n",
            "100 4 0.6054158607350097 0.6284403669724771\n",
            "0.6284403669724771\n",
            "100 5 0.612807881773399 0.6284403669724771\n",
            "0.6284403669724771\n",
            "100 6 0.62217659137577 0.6284403669724771\n",
            "0.6284403669724771\n",
            "100 7 0.6232948583420777 0.6284403669724771\n",
            "0.6284403669724771\n",
            "100 8 0.6221248630887185 0.6284403669724771\n",
            "0.6284403669724771\n",
            "100 9 0.6189376443418014 0.6284403669724771\n",
            "0.6284403669724771\n",
            "100 10 0.6159420289855072 0.6284403669724771\n",
            "0.6284403669724771\n",
            "100 11 0.6097867001254705 0.6284403669724771\n",
            "0.6284403669724771\n",
            "100 12 0.6151797603195739 0.6284403669724771\n",
            "0.6284403669724771\n",
            "100 13 0.594142259414226 0.6284403669724771\n",
            "0.6284403669724771\n",
            "100 14 0.5960451977401131 0.6284403669724771\n",
            "0.6284403669724771\n",
            "100 15 0.5920471281296024 0.6284403669724771\n",
            "0.6284403669724771\n",
            "Best N estimators : 90 Best max_depth: 9 Best F1: 0.6284403669724771\n",
            "110 1 0.5432780847145487 0.6284403669724771\n",
            "0.6284403669724771\n",
            "110 2 0.5749063670411986 0.6284403669724771\n",
            "0.6284403669724771\n",
            "110 3 0.5913370998116761 0.6284403669724771\n",
            "0.6284403669724771\n",
            "110 4 0.6028985507246377 0.6284403669724771\n",
            "0.6284403669724771\n",
            "110 5 0.6107317073170732 0.6284403669724771\n",
            "0.6284403669724771\n",
            "110 6 0.624360286591607 0.6284403669724771\n",
            "0.6284403669724771\n",
            "110 7 0.6243386243386244 0.6284403669724771\n",
            "0.6284403669724771\n",
            "110 8 0.6192560175054704 0.6284403669724771\n",
            "0.6284403669724771\n",
            "110 9 0.6291618828932262 0.6284403669724771\n",
            "0.6291618828932262\n",
            "110 10 0.6172248803827751 0.6291618828932262\n",
            "0.6291618828932262\n",
            "110 11 0.6083650190114067 0.6291618828932262\n",
            "0.6291618828932262\n",
            "110 12 0.6198675496688741 0.6291618828932262\n",
            "0.6291618828932262\n",
            "110 13 0.5966850828729282 0.6291618828932262\n",
            "0.6291618828932262\n",
            "110 14 0.5997171145685998 0.6291618828932262\n",
            "0.6291618828932262\n",
            "110 15 0.5915080527086384 0.6291618828932262\n",
            "0.6291618828932262\n",
            "Best N estimators : 110 Best max_depth: 9 Best F1: 0.6291618828932262\n",
            "120 1 0.5436179981634527 0.6291618828932262\n",
            "0.6291618828932262\n",
            "120 2 0.5725118483412323 0.6291618828932262\n",
            "0.6291618828932262\n",
            "120 3 0.5902255639097744 0.6291618828932262\n",
            "0.6291618828932262\n",
            "120 4 0.6060019361084221 0.6291618828932262\n",
            "0.6291618828932262\n",
            "120 5 0.612966601178782 0.6291618828932262\n",
            "0.6291618828932262\n",
            "120 6 0.621900826446281 0.6291618828932262\n",
            "0.6291618828932262\n",
            "120 7 0.6210526315789473 0.6291618828932262\n",
            "0.6291618828932262\n",
            "120 8 0.6200873362445415 0.6291618828932262\n",
            "0.6291618828932262\n",
            "120 9 0.621403912543153 0.6291618828932262\n",
            "0.6291618828932262\n",
            "120 10 0.6196172248803827 0.6291618828932262\n",
            "0.6291618828932262\n",
            "120 11 0.6095717884130982 0.6291618828932262\n",
            "0.6291618828932262\n",
            "120 12 0.6135458167330677 0.6291618828932262\n",
            "0.6291618828932262\n",
            "120 13 0.5919778699861687 0.6291618828932262\n",
            "0.6291618828932262\n",
            "120 14 0.6002844950213371 0.6291618828932262\n",
            "0.6291618828932262\n",
            "120 15 0.5894428152492669 0.6291618828932262\n",
            "0.6291618828932262\n",
            "Best N estimators : 110 Best max_depth: 9 Best F1: 0.6291618828932262\n",
            "130 1 0.5422794117647058 0.6291618828932262\n",
            "0.6291618828932262\n",
            "130 2 0.5725047080979285 0.6291618828932262\n",
            "0.6291618828932262\n",
            "130 3 0.5933649289099526 0.6291618828932262\n",
            "0.6291618828932262\n",
            "130 4 0.605593056894889 0.6291618828932262\n",
            "0.6291618828932262\n",
            "130 5 0.6134122287968443 0.6291618828932262\n",
            "0.6291618828932262\n",
            "130 6 0.6220391349124613 0.6291618828932262\n",
            "0.6291618828932262\n",
            "130 7 0.6217070600632245 0.6291618828932262\n",
            "0.6291618828932262\n",
            "130 8 0.6228070175438596 0.6291618828932262\n",
            "0.6291618828932262\n",
            "130 9 0.6189376443418014 0.6291618828932262\n",
            "0.6291618828932262\n",
            "130 10 0.6187050359712231 0.6291618828932262\n",
            "0.6291618828932262\n",
            "130 11 0.6118836915297092 0.6291618828932262\n",
            "0.6291618828932262\n",
            "130 12 0.6162018592297477 0.6291618828932262\n",
            "0.6291618828932262\n",
            "130 13 0.5980528511821974 0.6291618828932262\n",
            "0.6291618828932262\n",
            "130 14 0.601418439716312 0.6291618828932262\n",
            "0.6291618828932262\n",
            "130 15 0.5915080527086384 0.6291618828932262\n",
            "0.6291618828932262\n",
            "Best N estimators : 110 Best max_depth: 9 Best F1: 0.6291618828932262\n",
            "140 1 0.5409383624655014 0.6291618828932262\n",
            "0.6291618828932262\n",
            "140 2 0.5682242990654205 0.6291618828932262\n",
            "0.6291618828932262\n",
            "140 3 0.592662276575729 0.6291618828932262\n",
            "0.6291618828932262\n",
            "140 4 0.6042471042471041 0.6291618828932262\n",
            "0.6291618828932262\n",
            "140 5 0.612966601178782 0.6291618828932262\n",
            "0.6291618828932262\n",
            "140 6 0.619979402677652 0.6291618828932262\n",
            "0.6291618828932262\n",
            "140 7 0.6184486373165619 0.6291618828932262\n",
            "0.6291618828932262\n",
            "140 8 0.62363238512035 0.6291618828932262\n",
            "0.6291618828932262\n",
            "140 9 0.6241299303944315 0.6291618828932262\n",
            "0.6291618828932262\n",
            "140 10 0.618531889290012 0.6291618828932262\n",
            "0.6291618828932262\n",
            "140 11 0.6113207547169811 0.6291618828932262\n",
            "0.6291618828932262\n",
            "140 12 0.6143617021276596 0.6291618828932262\n",
            "0.6291618828932262\n",
            "140 13 0.5952712100139083 0.6291618828932262\n",
            "0.6291618828932262\n",
            "140 14 0.5937499999999999 0.6291618828932262\n",
            "0.6291618828932262\n",
            "140 15 0.592375366568915 0.6291618828932262\n",
            "0.6291618828932262\n",
            "Best N estimators : 110 Best max_depth: 9 Best F1: 0.6291618828932262\n",
            "150 1 0.5436179981634527 0.6291618828932262\n",
            "0.6291618828932262\n",
            "150 2 0.5756731662024142 0.6291618828932262\n",
            "0.6291618828932262\n",
            "150 3 0.5924528301886793 0.6291618828932262\n",
            "0.6291618828932262\n",
            "150 4 0.6083576287657921 0.6291618828932262\n",
            "0.6291618828932262\n",
            "150 5 0.6111655239960823 0.6291618828932262\n",
            "0.6291618828932262\n",
            "150 6 0.6155419222903885 0.6291618828932262\n",
            "0.6291618828932262\n",
            "150 7 0.6169989506820568 0.6291618828932262\n",
            "0.6291618828932262\n",
            "150 8 0.6265060240963854 0.6291618828932262\n",
            "0.6291618828932262\n",
            "150 9 0.6257242178447278 0.6291618828932262\n",
            "0.6291618828932262\n",
            "150 10 0.6203592814371257 0.6291618828932262\n",
            "0.6291618828932262\n",
            "150 11 0.605296343001261 0.6291618828932262\n",
            "0.6291618828932262\n",
            "150 12 0.6153846153846154 0.6291618828932262\n",
            "0.6291618828932262\n",
            "150 13 0.5980528511821974 0.6291618828932262\n",
            "0.6291618828932262\n",
            "150 14 0.5991440798858773 0.6291618828932262\n",
            "0.6291618828932262\n",
            "150 15 0.5894428152492669 0.6291618828932262\n",
            "0.6291618828932262\n",
            "Best N estimators : 110 Best max_depth: 9 Best F1: 0.6291618828932262\n",
            "160 1 0.5482980680772769 0.6291618828932262\n",
            "0.6291618828932262\n",
            "160 2 0.5743494423791822 0.6291618828932262\n",
            "0.6291618828932262\n",
            "160 3 0.5930122757318225 0.6291618828932262\n",
            "0.6291618828932262\n",
            "160 4 0.6091173617846751 0.6291618828932262\n",
            "0.6291618828932262\n",
            "160 5 0.6052889324191969 0.6291618828932262\n",
            "0.6291618828932262\n",
            "160 6 0.6174358974358974 0.6291618828932262\n",
            "0.6291618828932262\n",
            "160 7 0.6232948583420777 0.6291618828932262\n",
            "0.6291618828932262\n",
            "160 8 0.62582056892779 0.6291618828932262\n",
            "0.6291618828932262\n",
            "160 9 0.6212471131639723 0.6291618828932262\n",
            "0.6291618828932262\n",
            "160 10 0.6113116726835138 0.6291618828932262\n",
            "0.6291618828932262\n",
            "160 11 0.6111111111111113 0.6291618828932262\n",
            "0.6291618828932262\n",
            "160 12 0.6117021276595744 0.6291618828932262\n",
            "0.6291618828932262\n",
            "160 13 0.603616133518776 0.6291618828932262\n",
            "0.6291618828932262\n",
            "160 14 0.6022727272727272 0.6291618828932262\n",
            "0.6291618828932262\n",
            "160 15 0.5897810218978101 0.6291618828932262\n",
            "0.6291618828932262\n",
            "Best N estimators : 110 Best max_depth: 9 Best F1: 0.6291618828932262\n",
            "170 1 0.5451197053406998 0.6291618828932262\n",
            "0.6291618828932262\n",
            "170 2 0.5783582089552238 0.6291618828932262\n",
            "0.6291618828932262\n",
            "170 3 0.5923809523809525 0.6291618828932262\n",
            "0.6291618828932262\n",
            "170 4 0.6071774975751697 0.6291618828932262\n",
            "0.6291618828932262\n",
            "170 5 0.6076696165191741 0.6291618828932262\n",
            "0.6291618828932262\n",
            "170 6 0.6180698151950719 0.6291618828932262\n",
            "0.6291618828932262\n",
            "170 7 0.6190975865687303 0.6291618828932262\n",
            "0.6291618828932262\n",
            "170 8 0.6280087527352297 0.6291618828932262\n",
            "0.6291618828932262\n",
            "170 9 0.6255813953488372 0.6291618828932262\n",
            "0.6291618828932262\n",
            "170 10 0.6144578313253013 0.6291618828932262\n",
            "0.6291618828932262\n",
            "170 11 0.6085858585858585 0.6291618828932262\n",
            "0.6291618828932262\n",
            "170 12 0.609271523178808 0.6291618828932262\n",
            "0.6291618828932262\n",
            "170 13 0.6027777777777777 0.6291618828932262\n",
            "0.6291618828932262\n",
            "170 14 0.6011396011396012 0.6291618828932262\n",
            "0.6291618828932262\n",
            "170 15 0.5856515373352854 0.6291618828932262\n",
            "0.6291618828932262\n",
            "Best N estimators : 110 Best max_depth: 9 Best F1: 0.6291618828932262\n",
            "180 1 0.5484764542936289 0.6291618828932262\n",
            "0.6291618828932262\n",
            "180 2 0.5746268656716417 0.6291618828932262\n",
            "0.6291618828932262\n",
            "180 3 0.5895734597156398 0.6291618828932262\n",
            "0.6291618828932262\n",
            "180 4 0.6093750000000001 0.6291618828932262\n",
            "0.6291618828932262\n",
            "180 5 0.6106719367588933 0.6291618828932262\n",
            "0.6291618828932262\n",
            "180 6 0.6174358974358974 0.6291618828932262\n",
            "0.6291618828932262\n",
            "180 7 0.6190975865687303 0.6291618828932262\n",
            "0.6291618828932262\n",
            "180 8 0.6293859649122807 0.6291618828932262\n",
            "0.6293859649122807\n",
            "180 9 0.627039627039627 0.6293859649122807\n",
            "0.6293859649122807\n",
            "180 10 0.6161251504211794 0.6293859649122807\n",
            "0.6293859649122807\n",
            "180 11 0.6120906801007556 0.6293859649122807\n",
            "0.6293859649122807\n",
            "180 12 0.6119205298013245 0.6293859649122807\n",
            "0.6293859649122807\n",
            "180 13 0.5986013986013986 0.6293859649122807\n",
            "0.6293859649122807\n",
            "180 14 0.5985815602836879 0.6293859649122807\n",
            "0.6293859649122807\n",
            "180 15 0.5897810218978101 0.6293859649122807\n",
            "0.6293859649122807\n",
            "Best N estimators : 180 Best max_depth: 8 Best F1: 0.6293859649122807\n",
            "190 1 0.5452865064695008 0.6293859649122807\n",
            "0.6293859649122807\n",
            "190 2 0.5784037558685446 0.6293859649122807\n",
            "0.6293859649122807\n",
            "190 3 0.5910390848427073 0.6293859649122807\n",
            "0.6293859649122807\n",
            "190 4 0.6095423563777994 0.6293859649122807\n",
            "0.6293859649122807\n",
            "190 5 0.6112759643916913 0.6293859649122807\n",
            "0.6293859649122807\n",
            "190 6 0.6156982670744139 0.6293859649122807\n",
            "0.6293859649122807\n",
            "190 7 0.6189473684210526 0.6293859649122807\n",
            "0.6293859649122807\n",
            "190 8 0.6285714285714286 0.6293859649122807\n",
            "0.6293859649122807\n",
            "190 9 0.6286379511059372 0.6293859649122807\n",
            "0.6293859649122807\n",
            "190 10 0.6153846153846154 0.6293859649122807\n",
            "0.6293859649122807\n",
            "190 11 0.6128625472887769 0.6293859649122807\n",
            "0.6293859649122807\n",
            "190 12 0.6137566137566137 0.6293859649122807\n",
            "0.6293859649122807\n",
            "190 13 0.5994397759103641 0.6293859649122807\n",
            "0.6293859649122807\n",
            "190 14 0.6019971469329528 0.6293859649122807\n",
            "0.6293859649122807\n",
            "190 15 0.5880640465793304 0.6293859649122807\n",
            "0.6293859649122807\n",
            "Best N estimators : 180 Best max_depth: 8 Best F1: 0.6293859649122807\n",
            "200 1 0.5563770794824399 0.6293859649122807\n",
            "0.6293859649122807\n",
            "200 2 0.5849952516619182 0.6293859649122807\n",
            "0.6293859649122807\n",
            "200 3 0.5910390848427073 0.6293859649122807\n",
            "0.6293859649122807\n",
            "200 4 0.6125244618395304 0.6293859649122807\n",
            "0.6293859649122807\n",
            "200 5 0.6118811881188119 0.6293859649122807\n",
            "0.6293859649122807\n",
            "200 6 0.6169560776302351 0.6293859649122807\n",
            "0.6293859649122807\n",
            "200 7 0.6209081309398099 0.6293859649122807\n",
            "0.6293859649122807\n",
            "200 8 0.6285714285714286 0.6293859649122807\n",
            "0.6293859649122807\n",
            "200 9 0.6293706293706294 0.6293859649122807\n",
            "0.6293859649122807\n",
            "200 10 0.6137184115523466 0.6293859649122807\n",
            "0.6293859649122807\n",
            "200 11 0.6122961104140527 0.6293859649122807\n",
            "0.6293859649122807\n",
            "200 12 0.614569536423841 0.6293859649122807\n",
            "0.6293859649122807\n",
            "200 13 0.5969316596931661 0.6293859649122807\n",
            "0.6293859649122807\n",
            "200 14 0.5942857142857143 0.6293859649122807\n",
            "0.6293859649122807\n",
            "200 15 0.5927007299270073 0.6293859649122807\n",
            "0.6293859649122807\n",
            "Best N estimators : 180 Best max_depth: 8 Best F1: 0.6293859649122807\n",
            "210 1 0.5641025641025641 0.6293859649122807\n",
            "0.6293859649122807\n",
            "210 2 0.5819209039548022 0.6293859649122807\n",
            "0.6293859649122807\n",
            "210 3 0.5904761904761905 0.6293859649122807\n",
            "0.6293859649122807\n",
            "210 4 0.6119257086999024 0.6293859649122807\n",
            "0.6293859649122807\n",
            "210 5 0.6144697720515361 0.6293859649122807\n",
            "0.6293859649122807\n",
            "210 6 0.6155419222903885 0.6293859649122807\n",
            "0.6293859649122807\n",
            "210 7 0.6244725738396624 0.6293859649122807\n",
            "0.6293859649122807\n",
            "210 8 0.627062706270627 0.6293859649122807\n",
            "0.6293859649122807\n",
            "210 9 0.6293706293706294 0.6293859649122807\n",
            "0.6293859649122807\n",
            "210 10 0.6203592814371257 0.6293859649122807\n",
            "0.6293859649122807\n",
            "210 11 0.6122961104140527 0.6293859649122807\n",
            "0.6293859649122807\n",
            "210 12 0.6164021164021164 0.6293859649122807\n",
            "0.6293859649122807\n",
            "210 13 0.5994397759103641 0.6293859649122807\n",
            "0.6293859649122807\n",
            "210 14 0.5971428571428571 0.6293859649122807\n",
            "0.6293859649122807\n",
            "210 15 0.5956204379562043 0.6293859649122807\n",
            "0.6293859649122807\n",
            "Best N estimators : 180 Best max_depth: 8 Best F1: 0.6293859649122807\n",
            "220 1 0.5656192236598891 0.6293859649122807\n",
            "0.6293859649122807\n",
            "220 2 0.5795454545454546 0.6293859649122807\n",
            "0.6293859649122807\n",
            "220 3 0.5900383141762452 0.6293859649122807\n",
            "0.6293859649122807\n",
            "220 4 0.6105675146771037 0.6293859649122807\n",
            "0.6293859649122807\n",
            "220 5 0.6126482213438735 0.6293859649122807\n",
            "0.6293859649122807\n",
            "220 6 0.6141248720573182 0.6293859649122807\n",
            "0.6293859649122807\n",
            "220 7 0.6203995793901156 0.6293859649122807\n",
            "0.6293859649122807\n",
            "220 8 0.6256860592755213 0.6293859649122807\n",
            "0.6293859649122807\n",
            "220 9 0.6287703016241298 0.6293859649122807\n",
            "0.6293859649122807\n",
            "220 10 0.6170468187274911 0.6293859649122807\n",
            "0.6293859649122807\n",
            "220 11 0.6155778894472361 0.6293859649122807\n",
            "0.6293859649122807\n",
            "220 12 0.6180371352785146 0.6293859649122807\n",
            "0.6293859649122807\n",
            "220 13 0.5949720670391062 0.6293859649122807\n",
            "0.6293859649122807\n",
            "220 14 0.5959885386819485 0.6293859649122807\n",
            "0.6293859649122807\n",
            "220 15 0.5956204379562043 0.6293859649122807\n",
            "0.6293859649122807\n",
            "Best N estimators : 180 Best max_depth: 8 Best F1: 0.6293859649122807\n",
            "230 1 0.5634328358208955 0.6293859649122807\n",
            "0.6293859649122807\n",
            "230 2 0.5844402277039848 0.6293859649122807\n",
            "0.6293859649122807\n",
            "230 3 0.5867689357622243 0.6293859649122807\n",
            "0.6293859649122807\n",
            "230 4 0.6099706744868036 0.6293859649122807\n",
            "0.6293859649122807\n",
            "230 5 0.6146245059288538 0.6293859649122807\n",
            "0.6293859649122807\n",
            "230 6 0.6141248720573182 0.6293859649122807\n",
            "0.6293859649122807\n",
            "230 7 0.6190975865687303 0.6293859649122807\n",
            "0.6293859649122807\n",
            "230 8 0.6271929824561404 0.6293859649122807\n",
            "0.6293859649122807\n",
            "230 9 0.6248548199767712 0.6293859649122807\n",
            "0.6293859649122807\n",
            "230 10 0.6153846153846154 0.6293859649122807\n",
            "0.6293859649122807\n",
            "230 11 0.6148055207026349 0.6293859649122807\n",
            "0.6293859649122807\n",
            "230 12 0.6172185430463577 0.6293859649122807\n",
            "0.6293859649122807\n",
            "230 13 0.5958041958041959 0.6293859649122807\n",
            "0.6293859649122807\n",
            "230 14 0.6025824964131995 0.6293859649122807\n",
            "0.6293859649122807\n",
            "230 15 0.5947521865889214 0.6293859649122807\n",
            "0.6293859649122807\n",
            "Best N estimators : 180 Best max_depth: 8 Best F1: 0.6293859649122807\n",
            "240 1 0.5647716682199441 0.6293859649122807\n",
            "0.6293859649122807\n",
            "240 2 0.5857819905213271 0.6293859649122807\n",
            "0.6293859649122807\n",
            "240 3 0.5864374403056352 0.6293859649122807\n",
            "0.6293859649122807\n",
            "240 4 0.6111655239960823 0.6293859649122807\n",
            "0.6293859649122807\n",
            "240 5 0.6126482213438735 0.6293859649122807\n",
            "0.6293859649122807\n",
            "240 6 0.616326530612245 0.6293859649122807\n",
            "0.6293859649122807\n",
            "240 7 0.6184486373165619 0.6293859649122807\n",
            "0.6293859649122807\n",
            "240 8 0.6263736263736264 0.6293859649122807\n",
            "0.6293859649122807\n",
            "240 9 0.630359212050985 0.6293859649122807\n",
            "0.630359212050985\n",
            "240 10 0.6144578313253013 0.630359212050985\n",
            "0.630359212050985\n",
            "240 11 0.6138364779874215 0.630359212050985\n",
            "0.630359212050985\n",
            "240 12 0.6162018592297477 0.630359212050985\n",
            "0.630359212050985\n",
            "240 13 0.5961002785515321 0.630359212050985\n",
            "0.630359212050985\n",
            "240 14 0.6045845272206303 0.630359212050985\n",
            "0.630359212050985\n",
            "240 15 0.5953079178885631 0.630359212050985\n",
            "0.630359212050985\n",
            "Best N estimators : 240 Best max_depth: 9 Best F1: 0.630359212050985\n",
            "250 1 0.5608170844939646 0.630359212050985\n",
            "0.630359212050985\n",
            "250 2 0.5822306238185254 0.630359212050985\n",
            "0.630359212050985\n",
            "250 3 0.5902578796561605 0.630359212050985\n",
            "0.630359212050985\n",
            "250 4 0.6111655239960823 0.630359212050985\n",
            "0.630359212050985\n",
            "250 5 0.6112759643916913 0.630359212050985\n",
            "0.630359212050985\n",
            "250 6 0.6161719549641761 0.630359212050985\n",
            "0.630359212050985\n",
            "250 7 0.620545073375262 0.630359212050985\n",
            "0.630359212050985\n",
            "250 8 0.6263736263736264 0.630359212050985\n",
            "0.630359212050985\n",
            "250 9 0.6273148148148147 0.630359212050985\n",
            "0.630359212050985\n",
            "250 10 0.6144578313253013 0.630359212050985\n",
            "0.630359212050985\n",
            "250 11 0.6095717884130982 0.630359212050985\n",
            "0.630359212050985\n",
            "250 12 0.6122994652406418 0.630359212050985\n",
            "0.630359212050985\n",
            "250 13 0.5977653631284916 0.630359212050985\n",
            "0.630359212050985\n",
            "250 14 0.6028571428571428 0.630359212050985\n",
            "0.630359212050985\n",
            "250 15 0.592375366568915 0.630359212050985\n",
            "0.630359212050985\n",
            "Best N estimators : 240 Best max_depth: 9 Best F1: 0.630359212050985\n",
            "CPU times: user 5min 47s, sys: 1.37 s, total: 5min 49s\n",
            "Wall time: 5min 52s\n"
          ]
        }
      ],
      "source": [
        "%%time\n",
        "\n",
        "# Случайный Лес: подбор оптимальных гиперпараметров после взвешивания.\n",
        "\n",
        "Max_f1 = 0\n",
        "nE = 0\n",
        "for estimator in range(10, 251, 10):\n",
        "    nE += 10\n",
        "    nD = 0\n",
        "    for depth in range(1, 16):\n",
        "        nD += 1\n",
        "        model = RandomForestClassifier(random_state=12345, n_estimators=estimator, max_depth=depth, class_weight='balanced')\n",
        "        model.fit(features_train, target_train)\n",
        "        predicted_valid = model.predict(features_valid)\n",
        "        F1 = f1_score(target_valid, predicted_valid)\n",
        "        print (nE, nD, F1, Max_f1)\n",
        "        if F1 > Max_f1:\n",
        "            Max_f1 = F1\n",
        "            Best_estimators = estimator\n",
        "            Best_max_depth = depth\n",
        "        print (Max_f1)\n",
        "\n",
        "    print('Best N estimators :', Best_estimators,'Best max_depth:', Best_max_depth,'Best F1:', Max_f1)\n"
      ]
    },
    {
      "cell_type": "markdown",
      "metadata": {
        "id": "g5zFeMaRnJCy"
      },
      "source": [
        "Наилучший показатель F1 в методе Случайный Лес достигается при колличестве деревьев 200 и глубине 9"
      ]
    },
    {
      "cell_type": "code",
      "execution_count": null,
      "metadata": {
        "scrolled": true,
        "colab": {
          "base_uri": "https://localhost:8080/"
        },
        "id": "qHh9eul2nJCz",
        "outputId": "a6f26da1-2c7d-4b2f-ad50-7979dbcea843"
      },
      "outputs": [
        {
          "output_type": "stream",
          "name": "stdout",
          "text": [
            "F1 0.4888507718696398\n",
            "CPU times: user 23.8 ms, sys: 9.79 ms, total: 33.6 ms\n",
            "Wall time: 31.1 ms\n"
          ]
        }
      ],
      "source": [
        "%%time\n",
        "\n",
        "model =  LogisticRegression(random_state=12345, solver='liblinear', class_weight='balanced')\n",
        "model.fit(features_train, target_train)\n",
        "predicted_valid = model.predict(features_valid)\n",
        "print('F1', f1_score(target_valid, predicted_valid))"
      ]
    },
    {
      "cell_type": "markdown",
      "metadata": {
        "id": "1_61GDQUnJC0"
      },
      "source": [
        "Результаты довольно низкие. Но выше чем до взвешивания.  "
      ]
    },
    {
      "cell_type": "markdown",
      "metadata": {
        "id": "N572PL5YnJC0"
      },
      "source": [
        "Проведем оценку accuracy, precision и recall, также покажем F-метрику после взвешивания."
      ]
    },
    {
      "cell_type": "code",
      "execution_count": null,
      "metadata": {
        "colab": {
          "base_uri": "https://localhost:8080/"
        },
        "id": "9mtexaILnJC1",
        "outputId": "881ae3df-c3c1-42f1-a6cb-5cfd4052e505"
      },
      "outputs": [
        {
          "output_type": "stream",
          "name": "stdout",
          "text": [
            "Решающее дерево\n",
            "Точность попадания по классам 0.8105\n",
            "Precision 0.5374280230326296\n",
            "Recall 0.6698564593301436\n",
            "F1 0.5963791267305644\n",
            "\n",
            "Случайный лес\n",
            "Точность попадания по классам 0.841\n",
            "Precision 0.6136363636363636\n",
            "Recall 0.645933014354067\n",
            "F1 0.6293706293706294\n",
            "\n",
            "Логистическая регрессия\n",
            "Точность попадания по классам 0.702\n",
            "Precision 0.3810160427807487\n",
            "Recall 0.6818181818181818\n",
            "F1 0.4888507718696398\n",
            "\n",
            "Гаусовская байсовая модель\n",
            "Точность попадания по классам 0.808\n",
            "Precision 0.5674603174603174\n",
            "Recall 0.34210526315789475\n",
            "F1 0.4268656716417911\n",
            "\n",
            "CPU times: user 1.91 s, sys: 42.8 ms, total: 1.96 s\n",
            "Wall time: 2.04 s\n"
          ]
        }
      ],
      "source": [
        "%%time\n",
        "\n",
        "model = DecisionTreeClassifier(random_state=12345, max_depth=5, class_weight='balanced')\n",
        "model.fit(features_train, target_train)\n",
        "predicted_valid = model.predict(features_valid)\n",
        "print('Решающее дерево')\n",
        "print('Точность попадания по классам', accuracy_score(target_valid, predicted_valid))\n",
        "print('Precision', precision_score(target_valid, predicted_valid))\n",
        "print('Recall', recall_score(target_valid, predicted_valid))\n",
        "print('F1', f1_score(target_valid, predicted_valid))\n",
        "print()\n",
        "\n",
        "model = RandomForestClassifier(random_state=12345, n_estimators=200, max_depth=9, class_weight='balanced')\n",
        "model.fit(features_train, target_train)\n",
        "predicted_valid = model.predict(features_valid)\n",
        "print('Случайный лес')\n",
        "print('Точность попадания по классам', accuracy_score(target_valid, predicted_valid))\n",
        "print('Precision', precision_score(target_valid, predicted_valid))\n",
        "print('Recall', recall_score(target_valid, predicted_valid))\n",
        "print('F1', f1_score(target_valid, predicted_valid))\n",
        "print()\n",
        "\n",
        "model = LogisticRegression(random_state=12345, solver='liblinear', class_weight='balanced')\n",
        "model.fit(features_train, target_train)\n",
        "predicted_valid = model.predict(features_valid)\n",
        "print('Логистическая регрессия')\n",
        "print('Точность попадания по классам', accuracy_score(target_valid, predicted_valid))\n",
        "print('Precision', precision_score(target_valid, predicted_valid))\n",
        "print('Recall', recall_score(target_valid, predicted_valid))\n",
        "print('F1', f1_score(target_valid, predicted_valid))\n",
        "print()\n",
        "\n",
        "\n",
        "model = GaussianNB()\n",
        "model.fit(features_train, target_train)\n",
        "predicted_valid = model.predict(features_valid)\n",
        "print('Гаусовская байсовая модель')\n",
        "print('Точность попадания по классам', accuracy_score(target_valid, predicted_valid))\n",
        "print('Precision', precision_score(target_valid, predicted_valid))\n",
        "print('Recall', recall_score(target_valid, predicted_valid))\n",
        "print('F1', f1_score(target_valid, predicted_valid))\n",
        "print()"
      ]
    },
    {
      "cell_type": "markdown",
      "metadata": {
        "id": "fYDh2QtknJC2"
      },
      "source": [
        "Проведем построение ROC-кривой для каждой модели после взвешивания. И выведем показатель AUC-ROC."
      ]
    },
    {
      "cell_type": "code",
      "execution_count": null,
      "metadata": {
        "scrolled": false,
        "colab": {
          "base_uri": "https://localhost:8080/",
          "height": 776
        },
        "id": "DvoB96mKnJC2",
        "outputId": "2ec2332b-7934-4e72-96bc-50d865970124"
      },
      "outputs": [
        {
          "output_type": "stream",
          "name": "stdout",
          "text": [
            "AUC-ROC DecisionTreeClassifier 0.8310244134068074\n",
            "AUC-ROC RandomForestClassifier 0.8560419552501526\n",
            "AUC-ROC LogisticRegression 0.7635692207187316\n",
            "AUC-ROC GaussianNB 0.7849430494982429\n"
          ]
        },
        {
          "output_type": "display_data",
          "data": {
            "text/plain": [
              "<Figure size 1200x900 with 1 Axes>"
            ],
            "image/png": "[encoded data removed]"
          },
          "metadata": {}
        }
      ],
      "source": [
        "plt.figure(figsize=[12,9])\n",
        "\n",
        "plt.plot([0, 1], [0, 1], linestyle='--', label='RandomModel')\n",
        "\n",
        "\n",
        "model = DecisionTreeClassifier(random_state=12345, max_depth=5, class_weight='balanced')\n",
        "model.fit(features_train, target_train)\n",
        "probabilities_valid = model.predict_proba(features_valid)\n",
        "probabilities_one_valid = probabilities_valid[:, 1]\n",
        "fpr, tpr, thresholds = roc_curve(target_valid, probabilities_one_valid)\n",
        "auc_roc = roc_auc_score(target_valid, probabilities_one_valid)\n",
        "print('AUC-ROC DecisionTreeClassifier',auc_roc)\n",
        "plt.plot(fpr, tpr, label='DecisionTreeClassifier')\n",
        "\n",
        "model = RandomForestClassifier(random_state=12345, n_estimators=200, max_depth=9, class_weight='balanced')\n",
        "model.fit(features_train, target_train)\n",
        "probabilities_valid = model.predict_proba(features_valid)\n",
        "probabilities_one_valid = probabilities_valid[:, 1]\n",
        "fpr, tpr, thresholds = roc_curve(target_valid, probabilities_one_valid)\n",
        "auc_roc = roc_auc_score(target_valid, probabilities_one_valid)\n",
        "print('AUC-ROC RandomForestClassifier',auc_roc)\n",
        "plt.plot(fpr, tpr, label='RandomForestClassifier')\n",
        "\n",
        "model = LogisticRegression(random_state=12345, solver='liblinear', class_weight='balanced')\n",
        "model.fit(features_train, target_train)\n",
        "probabilities_valid = model.predict_proba(features_valid)\n",
        "probabilities_one_valid = probabilities_valid[:, 1]\n",
        "fpr, tpr, thresholds = roc_curve(target_valid, probabilities_one_valid)\n",
        "auc_roc = roc_auc_score(target_valid, probabilities_one_valid)\n",
        "print('AUC-ROC LogisticRegression',auc_roc)\n",
        "plt.plot(fpr, tpr, label='LogisticRegression')\n",
        "\n",
        "model = GaussianNB()\n",
        "model.fit(features_train, target_train)\n",
        "probabilities_valid = model.predict_proba(features_valid)\n",
        "probabilities_one_valid = probabilities_valid[:, 1]\n",
        "fpr, tpr, thresholds = roc_curve(target_valid, probabilities_one_valid)\n",
        "auc_roc = roc_auc_score(target_valid, probabilities_one_valid)\n",
        "print('AUC-ROC GaussianNB',auc_roc)\n",
        "plt.plot(fpr, tpr, label='GaussianNB')\n",
        "\n",
        "plt.xlim([0,1])\n",
        "plt.ylim([0,1])\n",
        "\n",
        "plt.xlabel(\"False Positive Rate\")\n",
        "plt.ylabel(\"True Positive Rate\")\n",
        "\n",
        "plt.legend(loc='lower right', fontsize='x-large')\n",
        "\n",
        "plt.title(\"ROC-кривая\")\n",
        "plt.show()"
      ]
    },
    {
      "cell_type": "markdown",
      "metadata": {
        "id": "WDcr_L6rnJC3"
      },
      "source": [
        "По полученным результатам после взвешивания можно заменить, что метрика f1 и AUC-ROC лучшая на случаном лесе.\n"
      ]
    },
    {
      "cell_type": "markdown",
      "metadata": {
        "id": "2Ot-7hN2nJC4"
      },
      "source": [
        "F-мера выросла у решающего дерева и случайного леса и логистической регрессии.\n",
        "\n",
        "Исследуем другой способ: уменьшения значений класса 0."
      ]
    },
    {
      "cell_type": "code",
      "execution_count": null,
      "metadata": {
        "id": "GdwwxCgqnJC5"
      },
      "outputs": [],
      "source": [
        "features_train_new=pd.DataFrame(data = features_train, index = target_train.index)"
      ]
    },
    {
      "cell_type": "code",
      "execution_count": null,
      "metadata": {
        "colab": {
          "base_uri": "https://localhost:8080/"
        },
        "id": "K0gs7ilGnJC5",
        "outputId": "17b797ef-7641-4450-b1d7-a562dbcf7dd9"
      },
      "outputs": [
        {
          "output_type": "stream",
          "name": "stdout",
          "text": [
            "0    1201\n",
            "1    1196\n",
            "Name: Exited, dtype: int64\n"
          ]
        }
      ],
      "source": [
        "def downsample(features, target, fraction):\n",
        "    features_zeros = features[target == 0]\n",
        "    features_ones = features[target == 1]\n",
        "    target_zeros = target[target == 0]\n",
        "    target_ones = target[target == 1]\n",
        "\n",
        "    features_downsampled = pd.concat([features_zeros.sample(frac=fraction, random_state=12345)] + [features_ones])\n",
        "    target_downsampled = pd.concat([target_zeros.sample(frac=fraction, random_state=12345)] + [target_ones])\n",
        "\n",
        "    features_downsampled, target_downsampled = shuffle(features_downsampled, target_downsampled, random_state=12345)\n",
        "\n",
        "    return features_downsampled, target_downsampled\n",
        "\n",
        "features_downsampled, target_downsampled = downsample(features_train_new, target_train, 0.25)\n",
        "\n",
        "print(target_downsampled.value_counts())"
      ]
    },
    {
      "cell_type": "code",
      "execution_count": null,
      "metadata": {
        "colab": {
          "base_uri": "https://localhost:8080/"
        },
        "id": "sSKUTgtmnJC6",
        "outputId": "c0e5d1eb-e12a-427b-ac37-cbd684073b6a"
      },
      "outputs": [
        {
          "output_type": "stream",
          "name": "stdout",
          "text": [
            "Решающее дерево\n",
            "Точность попадания по классам 0.776\n",
            "Precision 0.47641509433962265\n",
            "Recall 0.7248803827751196\n",
            "F1 0.5749525616698292\n",
            "\n",
            "Случайный лес\n",
            "Точность попадания по классам 0.7765\n",
            "Precision 0.4778625954198473\n",
            "Recall 0.7488038277511961\n",
            "F1 0.5834109972041007\n",
            "\n",
            "Логистическая регрессия\n",
            "Точность попадания по классам 0.7005\n",
            "Precision 0.3785234899328859\n",
            "Recall 0.6746411483253588\n",
            "F1 0.4849527085124678\n",
            "\n",
            "Гаусовская байсовая модель\n",
            "Точность попадания по классам 0.7115\n",
            "Precision 0.39154160982264663\n",
            "Recall 0.6866028708133971\n",
            "F1 0.4986967854039965\n",
            "\n",
            "CPU times: user 1.71 s, sys: 36.9 ms, total: 1.75 s\n",
            "Wall time: 1.77 s\n"
          ]
        }
      ],
      "source": [
        "%%time\n",
        "\n",
        "model = DecisionTreeClassifier(random_state=12345, max_depth=6)\n",
        "model.fit(features_downsampled, target_downsampled)\n",
        "predicted_valid = model.predict(features_valid)\n",
        "print('Решающее дерево')\n",
        "print('Точность попадания по классам', accuracy_score(target_valid, predicted_valid))\n",
        "print('Precision', precision_score(target_valid, predicted_valid))\n",
        "print('Recall', recall_score(target_valid, predicted_valid))\n",
        "print('F1', f1_score(target_valid, predicted_valid))\n",
        "print()\n",
        "\n",
        "model = RandomForestClassifier(random_state=12345, n_estimators=250,max_depth=15)\n",
        "model.fit(features_downsampled, target_downsampled)\n",
        "predicted_valid = model.predict(features_valid)\n",
        "print('Случайный лес')\n",
        "print('Точность попадания по классам', accuracy_score(target_valid, predicted_valid))\n",
        "print('Precision', precision_score(target_valid, predicted_valid))\n",
        "print('Recall', recall_score(target_valid, predicted_valid))\n",
        "print('F1', f1_score(target_valid, predicted_valid))\n",
        "print()\n",
        "\n",
        "model = LogisticRegression(random_state=12345, solver='liblinear')\n",
        "model.fit(features_downsampled, target_downsampled)\n",
        "predicted_valid = model.predict(features_valid)\n",
        "print('Логистическая регрессия')\n",
        "print('Точность попадания по классам', accuracy_score(target_valid, predicted_valid))\n",
        "print('Precision', precision_score(target_valid, predicted_valid))\n",
        "print('Recall', recall_score(target_valid, predicted_valid))\n",
        "print('F1', f1_score(target_valid, predicted_valid))\n",
        "print()\n",
        "\n",
        "model = GaussianNB()\n",
        "model.fit(features_downsampled, target_downsampled)\n",
        "predicted_valid = model.predict(features_valid)\n",
        "print('Гаусовская байсовая модель')\n",
        "print('Точность попадания по классам', accuracy_score(target_valid, predicted_valid))\n",
        "print('Precision', precision_score(target_valid, predicted_valid))\n",
        "print('Recall', recall_score(target_valid, predicted_valid))\n",
        "print('F1', f1_score(target_valid, predicted_valid))\n",
        "print()"
      ]
    },
    {
      "cell_type": "markdown",
      "metadata": {
        "id": "h5D6tZCfnJC8"
      },
      "source": [
        "Показатели логистической регрессии и гаусовской модели выросли. Показатели у решающего дерева и случайного леса стали хуже.\n",
        "\n",
        "Исследуем методы увеличения класса 1."
      ]
    },
    {
      "cell_type": "code",
      "execution_count": null,
      "metadata": {
        "colab": {
          "base_uri": "https://localhost:8080/"
        },
        "id": "HWO8a2ITnJC8",
        "outputId": "45c2b4e0-f637-4a6e-9614-0d4135d8d288"
      },
      "outputs": [
        {
          "output_type": "stream",
          "name": "stdout",
          "text": [
            "0    4804\n",
            "1    4784\n",
            "Name: Exited, dtype: int64\n"
          ]
        }
      ],
      "source": [
        "def upsample(features, target, repeat):\n",
        "    features_zeros = features[target == 0]\n",
        "    features_ones = features[target == 1]\n",
        "    target_zeros = target[target == 0]\n",
        "    target_ones = target[target == 1]\n",
        "\n",
        "    features_upsampled = pd.concat([features_zeros] + [features_ones] * repeat)\n",
        "    target_upsampled = pd.concat([target_zeros] + [target_ones] * repeat)\n",
        "\n",
        "    features_upsampled, target_upsampled = shuffle(\n",
        "        features_upsampled, target_upsampled, random_state=12345)\n",
        "\n",
        "    return features_upsampled, target_upsampled\n",
        "\n",
        "features_upsampled, target_upsampled = upsample(features_train_new, target_train, 4)\n",
        "\n",
        "print(target_upsampled.value_counts())"
      ]
    },
    {
      "cell_type": "code",
      "execution_count": null,
      "metadata": {
        "colab": {
          "base_uri": "https://localhost:8080/"
        },
        "id": "HQPALhd0nJC-",
        "outputId": "2afc23f6-d55a-4ae2-e33b-ac965a50acb2"
      },
      "outputs": [
        {
          "output_type": "stream",
          "name": "stdout",
          "text": [
            "Решающее дерево\n",
            "Точность попадания по классам 0.7665\n",
            "Precision 0.4616588419405321\n",
            "Recall 0.7057416267942583\n",
            "F1 0.5581835383159887\n",
            "\n",
            "Случайный лес\n",
            "Точность попадания по классам 0.847\n",
            "Precision 0.6497326203208557\n",
            "Recall 0.5813397129186603\n",
            "F1 0.6136363636363636\n",
            "\n",
            "Логистическая регрессия\n",
            "Точность попадания по классам 0.702\n",
            "Precision 0.3810160427807487\n",
            "Recall 0.6818181818181818\n",
            "F1 0.4888507718696398\n",
            "\n",
            "Гаусовская байсовая модель\n",
            "Точность попадания по классам 0.714\n",
            "Precision 0.3956639566395664\n",
            "Recall 0.6985645933014354\n",
            "F1 0.5051903114186851\n",
            "\n",
            "CPU times: user 4.19 s, sys: 64.7 ms, total: 4.26 s\n",
            "Wall time: 4.33 s\n"
          ]
        }
      ],
      "source": [
        "%%time\n",
        "\n",
        "model = DecisionTreeClassifier(random_state=12345, max_depth=6)\n",
        "model.fit(features_upsampled, target_upsampled)\n",
        "predicted_valid = model.predict(features_valid)\n",
        "print('Решающее дерево')\n",
        "print('Точность попадания по классам', accuracy_score(target_valid, predicted_valid))\n",
        "print('Precision', precision_score(target_valid, predicted_valid))\n",
        "print('Recall', recall_score(target_valid, predicted_valid))\n",
        "print('F1', f1_score(target_valid, predicted_valid))\n",
        "print()\n",
        "\n",
        "model = RandomForestClassifier(random_state=12345, n_estimators=250, max_depth=15)\n",
        "model.fit(features_upsampled, target_upsampled)\n",
        "predicted_valid = model.predict(features_valid)\n",
        "print('Случайный лес')\n",
        "print('Точность попадания по классам', accuracy_score(target_valid, predicted_valid))\n",
        "print('Precision', precision_score(target_valid, predicted_valid))\n",
        "print('Recall', recall_score(target_valid, predicted_valid))\n",
        "print('F1', f1_score(target_valid, predicted_valid))\n",
        "print()\n",
        "\n",
        "model = LogisticRegression(random_state=12345, solver='liblinear')\n",
        "model.fit(features_upsampled, target_upsampled)\n",
        "predicted_valid = model.predict(features_valid)\n",
        "print('Логистическая регрессия')\n",
        "print('Точность попадания по классам', accuracy_score(target_valid, predicted_valid))\n",
        "print('Precision', precision_score(target_valid, predicted_valid))\n",
        "print('Recall', recall_score(target_valid, predicted_valid))\n",
        "print('F1', f1_score(target_valid, predicted_valid))\n",
        "print()\n",
        "\n",
        "model = GaussianNB()\n",
        "model.fit(features_upsampled, target_upsampled)\n",
        "predicted_valid = model.predict(features_valid)\n",
        "print('Гаусовская байсовая модель')\n",
        "print('Точность попадания по классам', accuracy_score(target_valid, predicted_valid))\n",
        "print('Precision', precision_score(target_valid, predicted_valid))\n",
        "print('Recall', recall_score(target_valid, predicted_valid))\n",
        "print('F1', f1_score(target_valid, predicted_valid))\n",
        "print()"
      ]
    },
    {
      "cell_type": "markdown",
      "metadata": {
        "id": "WBuhYX1ZnJC_"
      },
      "source": [
        "F-мера стала лучше у случайного леса, логистической регресии и гаусовской модели по сравнению с дисбалансными данными. Лучшей моделью по F-мера является  случайны лес с тренировочными данными, где увеличен класс 1.\n",
        "\n",
        "Выведем ROC-кривую и AUC-ROC для посленнего измененного баланса."
      ]
    },
    {
      "cell_type": "code",
      "execution_count": null,
      "metadata": {
        "colab": {
          "base_uri": "https://localhost:8080/",
          "height": 776
        },
        "id": "BIU9OnibnJDA",
        "outputId": "6dd36ead-c832-4fc0-9acb-ae0be2200ae7"
      },
      "outputs": [
        {
          "output_type": "stream",
          "name": "stdout",
          "text": [
            "AUC-ROC DecisionTreeClassifier 0.7999473744699641\n",
            "AUC-ROC RandomForestClassifier 0.8438276907070573\n",
            "AUC-ROC LogisticRegression 0.763567708490857\n",
            "AUC-ROC GaussianNB 0.7849430494982429\n"
          ]
        },
        {
          "output_type": "display_data",
          "data": {
            "text/plain": [
              "<Figure size 1200x900 with 1 Axes>"
            ],
            "image/png": "[encoded data removed]"
          },
          "metadata": {}
        }
      ],
      "source": [
        "plt.figure(figsize=[12,9])\n",
        "\n",
        "plt.plot([0, 1], [0, 1], linestyle='--', label='RandomModel')\n",
        "\n",
        "\n",
        "model = DecisionTreeClassifier(random_state=12345, max_depth=6)\n",
        "model.fit(features_upsampled, target_upsampled)\n",
        "probabilities_valid = model.predict_proba(features_valid)\n",
        "probabilities_one_valid = probabilities_valid[:, 1]\n",
        "fpr, tpr, thresholds = roc_curve(target_valid, probabilities_one_valid)\n",
        "auc_roc = roc_auc_score(target_valid, probabilities_one_valid)\n",
        "print('AUC-ROC DecisionTreeClassifier',auc_roc)\n",
        "plt.plot(fpr, tpr, label='DecisionTreeClassifier')\n",
        "\n",
        "model = RandomForestClassifier(random_state=12345, n_estimators=250, max_depth=15)\n",
        "model.fit(features_upsampled, target_upsampled)\n",
        "probabilities_valid = model.predict_proba(features_valid)\n",
        "probabilities_one_valid = probabilities_valid[:, 1]\n",
        "fpr, tpr, thresholds = roc_curve(target_valid, probabilities_one_valid)\n",
        "auc_roc = roc_auc_score(target_valid, probabilities_one_valid)\n",
        "print('AUC-ROC RandomForestClassifier',auc_roc)\n",
        "plt.plot(fpr, tpr, label='RandomForestClassifier')\n",
        "\n",
        "model = LogisticRegression(random_state=12345, solver='liblinear')\n",
        "model.fit(features_upsampled, target_upsampled)\n",
        "probabilities_valid = model.predict_proba(features_valid)\n",
        "probabilities_one_valid = probabilities_valid[:, 1]\n",
        "fpr, tpr, thresholds = roc_curve(target_valid, probabilities_one_valid)\n",
        "auc_roc = roc_auc_score(target_valid, probabilities_one_valid)\n",
        "print('AUC-ROC LogisticRegression',auc_roc)\n",
        "plt.plot(fpr, tpr, label='LogisticRegression')\n",
        "\n",
        "model = GaussianNB()\n",
        "model.fit(features_upsampled, target_upsampled)\n",
        "probabilities_valid = model.predict_proba(features_valid)\n",
        "probabilities_one_valid = probabilities_valid[:, 1]\n",
        "fpr, tpr, thresholds = roc_curve(target_valid, probabilities_one_valid)\n",
        "auc_roc = roc_auc_score(target_valid, probabilities_one_valid)\n",
        "print('AUC-ROC GaussianNB',auc_roc)\n",
        "plt.plot(fpr, tpr, label='GaussianNB')\n",
        "\n",
        "plt.xlim([0,1])\n",
        "plt.ylim([0,1])\n",
        "\n",
        "plt.xlabel(\"False Positive Rate\")\n",
        "plt.ylabel(\"True Positive Rate\")\n",
        "\n",
        "plt.legend(loc='lower right', fontsize='x-large')\n",
        "\n",
        "plt.title(\"ROC-кривая\")\n",
        "plt.show()"
      ]
    },
    {
      "cell_type": "markdown",
      "metadata": {
        "id": "I8Njs0IMnJDC"
      },
      "source": [
        "Вывод по шагу 3:\n",
        "\n",
        "- Дисбаланс повлиял на модели в худшую сторону.\n",
        "- Лучшим решением стало увеличение классов 1 в тренировочной выборке.\n",
        "\n",
        "Выравние классов в выборке привело к резкому росту параметра recall и небольшому понижению percison. Но в целом F-мера выросла."
      ]
    },
    {
      "cell_type": "markdown",
      "metadata": {
        "id": "YxdiImEvnJDE"
      },
      "source": [
        "## Тестирование модели"
      ]
    },
    {
      "cell_type": "markdown",
      "metadata": {
        "id": "co2XwOr-nJDE"
      },
      "source": [
        "К тестовой выборке примем модель случайного дерева.\n",
        "\n"
      ]
    },
    {
      "cell_type": "code",
      "execution_count": null,
      "metadata": {
        "colab": {
          "base_uri": "https://localhost:8080/"
        },
        "id": "M4AVJRGunJDG",
        "outputId": "43e8b7f2-3101-4b7f-e4eb-f75db69ddf5a"
      },
      "outputs": [
        {
          "output_type": "stream",
          "name": "stdout",
          "text": [
            "F1 0.6136363636363636\n",
            "CPU times: user 3.95 s, sys: 17.9 ms, total: 3.96 s\n",
            "Wall time: 4.05 s\n"
          ]
        }
      ],
      "source": [
        "%%time\n",
        "\n",
        "model =  RandomForestClassifier(random_state=12345, n_estimators=250, max_depth =15)\n",
        "model.fit(features_upsampled, target_upsampled)\n",
        "predicted_valid = model.predict(features_valid)\n",
        "print('F1', f1_score(target_valid, predicted_valid))"
      ]
    },
    {
      "cell_type": "code",
      "execution_count": null,
      "metadata": {
        "colab": {
          "base_uri": "https://localhost:8080/"
        },
        "id": "d9kuj2VenJDI",
        "outputId": "51def0dc-8325-4a0c-fca6-1617250b45d1"
      },
      "outputs": [
        {
          "output_type": "stream",
          "name": "stdout",
          "text": [
            "Случайный лес - дисбаланс классов\n",
            "Точность попадания по классам 0.846\n",
            "Precision 0.7426160337552743\n",
            "Recall 0.4160756501182033\n",
            "F1 0.5333333333333334\n",
            "\n",
            "Случайный лес - взвешенные классы\n",
            "Точность попадания по классам 0.8305\n",
            "Precision 0.5933333333333334\n",
            "Recall 0.6312056737588653\n",
            "F1 0.6116838487972509\n",
            "\n",
            "Случайный лес - уменьшенное количество классов 0\n",
            "Точность попадания по классам 0.775\n",
            "Precision 0.4795763993948563\n",
            "Recall 0.7494089834515366\n",
            "F1 0.584870848708487\n",
            "\n",
            "Случайный лес - увеличенное количество классов 1\n",
            "Точность попадания по классам 0.8435\n",
            "Precision 0.6510989010989011\n",
            "Recall 0.5602836879432624\n",
            "F1 0.602287166454892\n",
            "\n"
          ]
        }
      ],
      "source": [
        "model = RandomForestClassifier(random_state=12345, n_estimators=250, max_depth=15)\n",
        "model.fit(features_train, target_train)\n",
        "predicted_test = model.predict(features_test)\n",
        "print('Случайный лес - дисбаланс классов')\n",
        "print('Точность попадания по классам', accuracy_score(target_test, predicted_test))\n",
        "print('Precision', precision_score(target_test, predicted_test))\n",
        "print('Recall', recall_score(target_test, predicted_test))\n",
        "print('F1', f1_score(target_test, predicted_test))\n",
        "print()\n",
        "\n",
        "model = RandomForestClassifier(random_state=12345, n_estimators=200, max_depth=9, class_weight='balanced')\n",
        "model.fit(features_train, target_train)\n",
        "predicted_test = model.predict(features_test)\n",
        "print('Случайный лес - взвешенные классы')\n",
        "print('Точность попадания по классам', accuracy_score(target_test, predicted_test))\n",
        "print('Precision', precision_score(target_test, predicted_test))\n",
        "print('Recall', recall_score(target_test, predicted_test))\n",
        "print('F1', f1_score(target_test, predicted_test))\n",
        "print()\n",
        "\n",
        "model = RandomForestClassifier(random_state=12345, n_estimators=250, max_depth=15)\n",
        "model.fit(features_downsampled, target_downsampled)\n",
        "predicted_test = model.predict(features_test)\n",
        "print('Случайный лес - уменьшенное количество классов 0')\n",
        "print('Точность попадания по классам', accuracy_score(target_test, predicted_test))\n",
        "print('Precision', precision_score(target_test, predicted_test))\n",
        "print('Recall', recall_score(target_test, predicted_test))\n",
        "print('F1', f1_score(target_test, predicted_test))\n",
        "print()\n",
        "\n",
        "model = RandomForestClassifier(random_state=12345, n_estimators=250, max_depth=15)\n",
        "model.fit(features_upsampled, target_upsampled)\n",
        "predicted_test = model.predict(features_test)\n",
        "print('Случайный лес - увеличенное количество классов 1')\n",
        "print('Точность попадания по классам', accuracy_score(target_test, predicted_test))\n",
        "print('Precision', precision_score(target_test, predicted_test))\n",
        "print('Recall', recall_score(target_test, predicted_test))\n",
        "print('F1', f1_score(target_test, predicted_test))\n",
        "print()"
      ]
    },
    {
      "cell_type": "code",
      "execution_count": null,
      "metadata": {
        "colab": {
          "base_uri": "https://localhost:8080/",
          "height": 776
        },
        "id": "WvLv5CsonJDJ",
        "outputId": "0b959a36-7ed7-456c-d408-b007f1ef95fd"
      },
      "outputs": [
        {
          "output_type": "stream",
          "name": "stdout",
          "text": [
            "AUC-ROC RandomForestClassifier - disbalanced 0.8579386602025871\n",
            "AUC-ROC RandomForestClassifier - balanced by class weight 0.8569252748208214\n",
            "AUC-ROC RandomForestClassifier - balanced by reduce 0 class 0.8498900416897152\n",
            "AUC-ROC RandomForestClassifier - balanced by grow 1 class 0.8522001406147173\n"
          ]
        },
        {
          "output_type": "display_data",
          "data": {
            "text/plain": [
              "<Figure size 1200x900 with 1 Axes>"
            ],
            "image/png": "[encoded data removed]"
          },
          "metadata": {}
        }
      ],
      "source": [
        "plt.figure(figsize=[12,9])\n",
        "\n",
        "plt.plot([0, 1], [0, 1], linestyle='--', label='RandomModel')\n",
        "\n",
        "\n",
        "model = RandomForestClassifier(random_state=12345, n_estimators=250, max_depth=15)\n",
        "model.fit(features_train, target_train)\n",
        "predicted_test = model.predict(features_test)\n",
        "probabilities_test = model.predict_proba(features_test)\n",
        "probabilities_one_test = probabilities_test[:, 1]\n",
        "fpr, tpr, thresholds = roc_curve(target_test, probabilities_one_test)\n",
        "auc_roc = roc_auc_score(target_test, probabilities_one_test)\n",
        "print('AUC-ROC RandomForestClassifier - disbalanced',auc_roc)\n",
        "plt.plot(fpr, tpr, label='RandomForestClassifier - disbalanced')\n",
        "\n",
        "model = RandomForestClassifier(random_state=12345, n_estimators=200, max_depth=9, class_weight='balanced')\n",
        "model.fit(features_train, target_train)\n",
        "predicted_test = model.predict(features_test)\n",
        "probabilities_test = model.predict_proba(features_test)\n",
        "probabilities_one_test = probabilities_test[:, 1]\n",
        "fpr, tpr, thresholds = roc_curve(target_test, probabilities_one_test)\n",
        "auc_roc = roc_auc_score(target_test, probabilities_one_test)\n",
        "print('AUC-ROC RandomForestClassifier - balanced by class weight',auc_roc)\n",
        "plt.plot(fpr, tpr, label='RandomForestClassifier - balanced by class weight')\n",
        "\n",
        "model = RandomForestClassifier(random_state=12345, n_estimators=250, max_depth=15)\n",
        "model.fit(features_downsampled, target_downsampled)\n",
        "predicted_test = model.predict(features_test)\n",
        "probabilities_test = model.predict_proba(features_test)\n",
        "probabilities_one_test = probabilities_test[:, 1]\n",
        "fpr, tpr, thresholds = roc_curve(target_test, probabilities_one_test)\n",
        "auc_roc = roc_auc_score(target_test, probabilities_one_test)\n",
        "print('AUC-ROC RandomForestClassifier - balanced by reduce 0 class',auc_roc)\n",
        "plt.plot(fpr, tpr, label='RandomForestClassifier - balanced by reduce 0 class')\n",
        "\n",
        "model = RandomForestClassifier(random_state=12345, n_estimators=250, max_depth=15)\n",
        "model.fit(features_upsampled, target_upsampled)\n",
        "predicted_test = model.predict(features_test)\n",
        "probabilities_test = model.predict_proba(features_test)\n",
        "probabilities_one_test = probabilities_test[:, 1]\n",
        "fpr, tpr, thresholds = roc_curve(target_test, probabilities_one_test)\n",
        "auc_roc = roc_auc_score(target_test, probabilities_one_test)\n",
        "print('AUC-ROC RandomForestClassifier - balanced by grow 1 class',auc_roc)\n",
        "plt.plot(fpr, tpr, label='RandomForestClassifier - balanced')\n",
        "\n",
        "plt.xlim([0,1])\n",
        "plt.ylim([0,1])\n",
        "\n",
        "plt.xlabel(\"False Positive Rate\")\n",
        "plt.ylabel(\"True Positive Rate\")\n",
        "\n",
        "plt.legend(loc='lower right', fontsize='x-large')\n",
        "\n",
        "plt.title(\"ROC-кривая\")\n",
        "plt.show()"
      ]
    },
    {
      "cell_type": "markdown",
      "metadata": {
        "id": "2l1zH88JnJDL"
      },
      "source": [
        "Вывод по шагу 4:\n",
        "\n",
        "- 2 из 4 моделей достигли минимума F-меры на тестовых данных: модель случайного леса со взвешенными весами классов и модель с увеличенным количеством класса 1.\n",
        "\n",
        "- Видно, что взвешивание классов дает результат лучше для данного набора данных. Percision падает, recall растет, и в целом F-мера имеет небольшой прирост. Баланс классов повышает охват необходимых данных.\n",
        "\n",
        "- Оценивая адеватность модели можно заметить, что AUC-ROC дисбалансной модели и модели с весами примерно одинаково предсказывают вероятность ухода клиента.\n",
        "\n",
        "- В результате исследования была получена модель с лучшими показателями как по F1-мере, так и по AUC-ROC - Случайный лес: взвешенные классы.\n",
        "\n",
        "<div style=\"border:2px solid Black; padding:20px;\">\n",
        "\n",
        "# Итоговый вывод:\n",
        "\n",
        "При работе с проектом было выполнено:\n",
        "\n",
        "- Изучены данные. Разбиты данные на тренировочную, валидационную и тестовую выборку.\n",
        "- Исследована задача. Проверены модели на данных без изменений.\n",
        "- Скоректирован балланс класса. Изменен вес класса.\n",
        "- Получена улученная модель. Проведен поиск гиперпараметров.\n",
        "- Проведен финальный тест.\n",
        "\n",
        "Обученная модель случайного леса со взвешенными классами имеет достаточную адекватность, подтвержденная ее значением AUC-ROC = 0.8579.\n",
        "Это лучше, чем случайная модель предсказывания (AUC-ROC = 0.5).\n",
        "Точность попадания по классам 0.834, precision 0.6, recall 0.645 и f1 0.6218.\n",
        "Модель старается собрать больше данных, чем показать верную точность (recall > precision).\n",
        "Процент попадания в классы достаточно высокий.\n",
        "\n",
        "</div>"
      ]
    }
  ],
  "metadata": {
    "ExecuteTimeLog": [
      {
        "duration": 1513,
        "start_time": "2023-05-05T06:27:16.195Z"
      },
      {
        "duration": 3,
        "start_time": "2023-05-05T06:27:22.225Z"
      },
      {
        "duration": 3,
        "start_time": "2023-05-05T06:27:26.506Z"
      },
      {
        "duration": 91,
        "start_time": "2023-05-05T06:29:48.701Z"
      },
      {
        "duration": 44,
        "start_time": "2023-05-05T06:30:02.557Z"
      },
      {
        "duration": 43,
        "start_time": "2023-05-05T06:30:15.706Z"
      },
      {
        "duration": 47,
        "start_time": "2023-05-05T06:31:12.583Z"
      },
      {
        "duration": 45,
        "start_time": "2023-05-05T06:31:57.207Z"
      },
      {
        "duration": 51,
        "start_time": "2023-05-05T06:32:07.727Z"
      },
      {
        "duration": 885,
        "start_time": "2023-05-05T06:32:23.901Z"
      },
      {
        "duration": 963,
        "start_time": "2023-05-05T06:32:42.249Z"
      },
      {
        "duration": 71,
        "start_time": "2023-05-05T06:32:58.827Z"
      },
      {
        "duration": 96,
        "start_time": "2023-05-05T06:33:03.540Z"
      },
      {
        "duration": 95,
        "start_time": "2023-05-05T06:33:09.259Z"
      },
      {
        "duration": 928,
        "start_time": "2023-05-05T06:33:37.068Z"
      },
      {
        "duration": 864,
        "start_time": "2023-05-05T06:33:46.641Z"
      },
      {
        "duration": 854,
        "start_time": "2023-05-05T06:33:54.865Z"
      },
      {
        "duration": 1359,
        "start_time": "2023-05-05T06:34:05.684Z"
      },
      {
        "duration": 52,
        "start_time": "2023-05-05T06:34:34.095Z"
      },
      {
        "duration": 52,
        "start_time": "2023-05-05T06:34:47.502Z"
      },
      {
        "duration": 104,
        "start_time": "2023-05-05T06:36:05.598Z"
      },
      {
        "duration": 18,
        "start_time": "2023-05-05T06:37:14.869Z"
      },
      {
        "duration": 20,
        "start_time": "2023-05-05T06:37:44.442Z"
      },
      {
        "duration": 10,
        "start_time": "2023-05-05T06:48:23.236Z"
      },
      {
        "duration": 19,
        "start_time": "2023-05-05T06:48:53.048Z"
      },
      {
        "duration": 14,
        "start_time": "2023-05-05T06:49:04.147Z"
      },
      {
        "duration": 14,
        "start_time": "2023-05-05T06:49:12.887Z"
      },
      {
        "duration": 9,
        "start_time": "2023-05-05T06:49:38.798Z"
      },
      {
        "duration": 5,
        "start_time": "2023-05-05T06:51:30.876Z"
      },
      {
        "duration": 19,
        "start_time": "2023-05-05T06:53:21.928Z"
      },
      {
        "duration": 29,
        "start_time": "2023-05-05T06:53:33.358Z"
      },
      {
        "duration": 17,
        "start_time": "2023-05-05T06:55:27.754Z"
      },
      {
        "duration": 13,
        "start_time": "2023-05-05T07:00:20.228Z"
      },
      {
        "duration": 8,
        "start_time": "2023-05-05T07:01:15.578Z"
      },
      {
        "duration": 5,
        "start_time": "2023-05-05T07:02:02.257Z"
      },
      {
        "duration": 6,
        "start_time": "2023-05-05T07:02:06.509Z"
      },
      {
        "duration": 811,
        "start_time": "2023-05-05T07:03:18.891Z"
      },
      {
        "duration": 34780,
        "start_time": "2023-05-05T07:04:49.998Z"
      },
      {
        "duration": 10534,
        "start_time": "2023-05-05T07:07:46.809Z"
      },
      {
        "duration": 14748,
        "start_time": "2023-05-05T07:10:17.029Z"
      },
      {
        "duration": 57,
        "start_time": "2023-05-05T07:11:37.056Z"
      },
      {
        "duration": 15424,
        "start_time": "2023-05-05T07:11:57.156Z"
      },
      {
        "duration": 167,
        "start_time": "2023-05-05T07:12:48.050Z"
      },
      {
        "duration": 15,
        "start_time": "2023-05-05T07:14:02.608Z"
      },
      {
        "duration": 591,
        "start_time": "2023-05-05T07:20:13.607Z"
      },
      {
        "duration": 953,
        "start_time": "2023-05-05T07:22:31.541Z"
      },
      {
        "duration": 829,
        "start_time": "2023-05-05T07:28:37.372Z"
      },
      {
        "duration": 15,
        "start_time": "2023-05-05T07:31:33.160Z"
      },
      {
        "duration": 350,
        "start_time": "2023-05-05T07:32:53.953Z"
      },
      {
        "duration": 14,
        "start_time": "2023-05-05T07:33:55.084Z"
      },
      {
        "duration": 724,
        "start_time": "2023-05-05T07:35:11.972Z"
      },
      {
        "duration": 82,
        "start_time": "2023-05-05T07:35:56.480Z"
      },
      {
        "duration": 89,
        "start_time": "2023-05-05T07:36:06.964Z"
      },
      {
        "duration": 967,
        "start_time": "2023-05-05T07:37:47.011Z"
      },
      {
        "duration": 953,
        "start_time": "2023-05-05T07:38:20.639Z"
      },
      {
        "duration": 120641,
        "start_time": "2023-05-05T07:40:52.517Z"
      },
      {
        "duration": 85,
        "start_time": "2023-05-05T07:42:53.160Z"
      },
      {
        "duration": 146870,
        "start_time": "2023-05-05T07:44:30.159Z"
      },
      {
        "duration": 2403,
        "start_time": "2023-05-05T07:47:30.478Z"
      },
      {
        "duration": 25684,
        "start_time": "2023-05-05T07:49:06.240Z"
      },
      {
        "duration": 26225,
        "start_time": "2023-05-05T07:57:49.451Z"
      },
      {
        "duration": 4801,
        "start_time": "2023-05-05T08:01:36.892Z"
      },
      {
        "duration": 5105,
        "start_time": "2023-05-05T08:04:08.350Z"
      },
      {
        "duration": 1890,
        "start_time": "2023-05-05T08:35:56.733Z"
      },
      {
        "duration": 55,
        "start_time": "2023-05-05T08:35:58.625Z"
      },
      {
        "duration": 1232,
        "start_time": "2023-05-05T08:35:58.681Z"
      },
      {
        "duration": 16,
        "start_time": "2023-05-05T08:35:59.915Z"
      },
      {
        "duration": 8,
        "start_time": "2023-05-05T08:35:59.948Z"
      },
      {
        "duration": 25,
        "start_time": "2023-05-05T08:35:59.957Z"
      },
      {
        "duration": 26,
        "start_time": "2023-05-05T08:35:59.984Z"
      },
      {
        "duration": 49,
        "start_time": "2023-05-05T08:36:00.012Z"
      },
      {
        "duration": 30,
        "start_time": "2023-05-05T08:36:00.064Z"
      },
      {
        "duration": 428,
        "start_time": "2023-05-05T08:36:00.097Z"
      },
      {
        "duration": 0,
        "start_time": "2023-05-05T08:36:00.527Z"
      },
      {
        "duration": 0,
        "start_time": "2023-05-05T08:36:00.528Z"
      },
      {
        "duration": 0,
        "start_time": "2023-05-05T08:36:00.530Z"
      },
      {
        "duration": 0,
        "start_time": "2023-05-05T08:36:00.532Z"
      },
      {
        "duration": 0,
        "start_time": "2023-05-05T08:36:00.533Z"
      },
      {
        "duration": 0,
        "start_time": "2023-05-05T08:36:00.534Z"
      },
      {
        "duration": 0,
        "start_time": "2023-05-05T08:36:00.536Z"
      },
      {
        "duration": 0,
        "start_time": "2023-05-05T08:36:00.537Z"
      },
      {
        "duration": 0,
        "start_time": "2023-05-05T08:36:00.538Z"
      },
      {
        "duration": 0,
        "start_time": "2023-05-05T08:36:00.539Z"
      },
      {
        "duration": 0,
        "start_time": "2023-05-05T08:36:00.540Z"
      },
      {
        "duration": 0,
        "start_time": "2023-05-05T08:36:00.541Z"
      },
      {
        "duration": 0,
        "start_time": "2023-05-05T08:36:00.542Z"
      },
      {
        "duration": 0,
        "start_time": "2023-05-05T08:36:00.543Z"
      },
      {
        "duration": 0,
        "start_time": "2023-05-05T08:36:00.544Z"
      },
      {
        "duration": 0,
        "start_time": "2023-05-05T08:36:00.545Z"
      },
      {
        "duration": 0,
        "start_time": "2023-05-05T08:36:00.547Z"
      },
      {
        "duration": 0,
        "start_time": "2023-05-05T08:36:00.548Z"
      },
      {
        "duration": 0,
        "start_time": "2023-05-05T08:36:00.549Z"
      },
      {
        "duration": 0,
        "start_time": "2023-05-05T08:36:00.556Z"
      },
      {
        "duration": 0,
        "start_time": "2023-05-05T08:36:00.557Z"
      },
      {
        "duration": 9,
        "start_time": "2023-05-05T09:17:30.511Z"
      },
      {
        "duration": 1834,
        "start_time": "2023-05-05T09:17:30.522Z"
      },
      {
        "duration": 47357,
        "start_time": "2023-05-05T09:17:32.358Z"
      },
      {
        "duration": 14376,
        "start_time": "2023-05-05T09:18:19.717Z"
      },
      {
        "duration": 58,
        "start_time": "2023-05-05T09:18:34.094Z"
      },
      {
        "duration": 102,
        "start_time": "2023-05-05T09:18:34.154Z"
      },
      {
        "duration": 594,
        "start_time": "2023-05-05T09:18:34.257Z"
      },
      {
        "duration": 886,
        "start_time": "2023-05-05T09:18:34.853Z"
      },
      {
        "duration": 445,
        "start_time": "2023-05-05T09:18:35.741Z"
      },
      {
        "duration": 160,
        "start_time": "2023-05-05T09:18:36.189Z"
      },
      {
        "duration": 401,
        "start_time": "2023-05-05T09:18:36.351Z"
      },
      {
        "duration": 12,
        "start_time": "2023-05-05T09:18:36.753Z"
      },
      {
        "duration": 791,
        "start_time": "2023-05-05T09:18:36.767Z"
      },
      {
        "duration": 971,
        "start_time": "2023-05-05T09:18:37.559Z"
      },
      {
        "duration": 123777,
        "start_time": "2023-05-05T09:18:38.531Z"
      },
      {
        "duration": 141718,
        "start_time": "2023-05-05T09:20:42.310Z"
      },
      {
        "duration": 2054,
        "start_time": "2023-05-05T09:23:04.030Z"
      },
      {
        "duration": 22466,
        "start_time": "2023-05-05T09:23:06.085Z"
      },
      {
        "duration": 19901,
        "start_time": "2023-05-05T09:23:28.553Z"
      },
      {
        "duration": 4646,
        "start_time": "2023-05-05T09:23:48.455Z"
      },
      {
        "duration": 5051,
        "start_time": "2023-05-05T09:23:53.102Z"
      },
      {
        "duration": 55,
        "start_time": "2023-05-05T14:45:34.040Z"
      },
      {
        "duration": 1705,
        "start_time": "2023-05-05T14:45:42.492Z"
      },
      {
        "duration": 181,
        "start_time": "2023-05-05T14:45:44.198Z"
      },
      {
        "duration": 1264,
        "start_time": "2023-05-05T14:45:44.381Z"
      },
      {
        "duration": 19,
        "start_time": "2023-05-05T14:45:45.647Z"
      },
      {
        "duration": 11,
        "start_time": "2023-05-05T14:45:45.668Z"
      },
      {
        "duration": 12,
        "start_time": "2023-05-05T14:45:45.680Z"
      },
      {
        "duration": 12,
        "start_time": "2023-05-05T14:45:45.693Z"
      },
      {
        "duration": 46,
        "start_time": "2023-05-05T14:45:45.707Z"
      },
      {
        "duration": 10,
        "start_time": "2023-05-05T14:45:45.755Z"
      },
      {
        "duration": 242,
        "start_time": "2023-05-05T14:45:45.769Z"
      },
      {
        "duration": 0,
        "start_time": "2023-05-05T14:45:46.012Z"
      },
      {
        "duration": 0,
        "start_time": "2023-05-05T14:45:46.013Z"
      },
      {
        "duration": 0,
        "start_time": "2023-05-05T14:45:46.014Z"
      },
      {
        "duration": 0,
        "start_time": "2023-05-05T14:45:46.015Z"
      },
      {
        "duration": 0,
        "start_time": "2023-05-05T14:45:46.016Z"
      },
      {
        "duration": 0,
        "start_time": "2023-05-05T14:45:46.017Z"
      },
      {
        "duration": 0,
        "start_time": "2023-05-05T14:45:46.018Z"
      },
      {
        "duration": 0,
        "start_time": "2023-05-05T14:45:46.019Z"
      },
      {
        "duration": 0,
        "start_time": "2023-05-05T14:45:46.021Z"
      },
      {
        "duration": 0,
        "start_time": "2023-05-05T14:45:46.022Z"
      },
      {
        "duration": 0,
        "start_time": "2023-05-05T14:45:46.024Z"
      },
      {
        "duration": 0,
        "start_time": "2023-05-05T14:45:46.025Z"
      },
      {
        "duration": 0,
        "start_time": "2023-05-05T14:45:46.027Z"
      },
      {
        "duration": 0,
        "start_time": "2023-05-05T14:45:46.029Z"
      },
      {
        "duration": 0,
        "start_time": "2023-05-05T14:45:46.030Z"
      },
      {
        "duration": 0,
        "start_time": "2023-05-05T14:45:46.032Z"
      },
      {
        "duration": 0,
        "start_time": "2023-05-05T14:45:46.033Z"
      },
      {
        "duration": 0,
        "start_time": "2023-05-05T14:45:46.034Z"
      },
      {
        "duration": 0,
        "start_time": "2023-05-05T14:45:46.035Z"
      },
      {
        "duration": 0,
        "start_time": "2023-05-05T14:45:46.036Z"
      },
      {
        "duration": 0,
        "start_time": "2023-05-05T14:45:46.037Z"
      },
      {
        "duration": 6,
        "start_time": "2023-05-05T14:49:07.937Z"
      },
      {
        "duration": 7,
        "start_time": "2023-05-05T14:49:19.168Z"
      },
      {
        "duration": 5,
        "start_time": "2023-05-05T14:59:02.381Z"
      },
      {
        "duration": 3,
        "start_time": "2023-05-05T14:59:08.515Z"
      },
      {
        "duration": 65,
        "start_time": "2023-05-05T14:59:08.520Z"
      },
      {
        "duration": 1152,
        "start_time": "2023-05-05T14:59:08.586Z"
      },
      {
        "duration": 30,
        "start_time": "2023-05-05T14:59:09.740Z"
      },
      {
        "duration": 7,
        "start_time": "2023-05-05T14:59:09.773Z"
      },
      {
        "duration": 6,
        "start_time": "2023-05-05T14:59:09.782Z"
      },
      {
        "duration": 19,
        "start_time": "2023-05-05T14:59:09.789Z"
      },
      {
        "duration": 37,
        "start_time": "2023-05-05T14:59:09.810Z"
      },
      {
        "duration": 20,
        "start_time": "2023-05-05T14:59:09.862Z"
      },
      {
        "duration": 30,
        "start_time": "2023-05-05T14:59:09.884Z"
      },
      {
        "duration": 976,
        "start_time": "2023-05-05T14:59:09.917Z"
      },
      {
        "duration": 33490,
        "start_time": "2023-05-05T14:59:10.895Z"
      },
      {
        "duration": 16023,
        "start_time": "2023-05-05T14:59:44.386Z"
      },
      {
        "duration": 59,
        "start_time": "2023-05-05T15:00:00.412Z"
      },
      {
        "duration": 85,
        "start_time": "2023-05-05T15:00:00.472Z"
      },
      {
        "duration": 619,
        "start_time": "2023-05-05T15:00:00.561Z"
      },
      {
        "duration": 1096,
        "start_time": "2023-05-05T15:00:01.182Z"
      },
      {
        "duration": 680,
        "start_time": "2023-05-05T15:00:02.280Z"
      },
      {
        "duration": 111,
        "start_time": "2023-05-05T15:00:02.961Z"
      },
      {
        "duration": 390,
        "start_time": "2023-05-05T15:00:03.078Z"
      },
      {
        "duration": 94,
        "start_time": "2023-05-05T15:00:03.471Z"
      },
      {
        "duration": 803,
        "start_time": "2023-05-05T15:00:03.567Z"
      },
      {
        "duration": 1185,
        "start_time": "2023-05-05T15:00:04.373Z"
      },
      {
        "duration": 134897,
        "start_time": "2023-05-05T15:00:05.560Z"
      },
      {
        "duration": 149503,
        "start_time": "2023-05-05T15:02:20.461Z"
      },
      {
        "duration": 2233,
        "start_time": "2023-05-05T15:04:49.966Z"
      },
      {
        "duration": 23908,
        "start_time": "2023-05-05T15:04:52.200Z"
      },
      {
        "duration": 1491,
        "start_time": "2023-05-05T15:05:19.635Z"
      },
      {
        "duration": 78,
        "start_time": "2023-05-05T15:05:21.128Z"
      },
      {
        "duration": 1370,
        "start_time": "2023-05-05T15:05:21.208Z"
      },
      {
        "duration": 17,
        "start_time": "2023-05-05T15:05:22.580Z"
      },
      {
        "duration": 20,
        "start_time": "2023-05-05T15:05:22.598Z"
      },
      {
        "duration": 39,
        "start_time": "2023-05-05T15:05:22.619Z"
      },
      {
        "duration": 33,
        "start_time": "2023-05-05T15:05:22.664Z"
      },
      {
        "duration": 29,
        "start_time": "2023-05-05T15:05:22.699Z"
      },
      {
        "duration": 34,
        "start_time": "2023-05-05T15:05:22.729Z"
      },
      {
        "duration": 27,
        "start_time": "2023-05-05T15:05:22.766Z"
      },
      {
        "duration": 27,
        "start_time": "2023-05-05T15:05:22.794Z"
      },
      {
        "duration": 852,
        "start_time": "2023-05-05T15:05:22.822Z"
      },
      {
        "duration": 33461,
        "start_time": "2023-05-05T15:05:23.675Z"
      },
      {
        "duration": 15061,
        "start_time": "2023-05-05T15:05:57.137Z"
      },
      {
        "duration": 64,
        "start_time": "2023-05-05T15:06:12.200Z"
      },
      {
        "duration": 103,
        "start_time": "2023-05-05T15:06:12.265Z"
      },
      {
        "duration": 584,
        "start_time": "2023-05-05T15:06:12.370Z"
      },
      {
        "duration": 860,
        "start_time": "2023-05-05T15:06:12.956Z"
      },
      {
        "duration": 452,
        "start_time": "2023-05-05T15:06:13.818Z"
      },
      {
        "duration": 295,
        "start_time": "2023-05-05T15:06:14.273Z"
      },
      {
        "duration": 0,
        "start_time": "2023-05-05T15:06:14.570Z"
      },
      {
        "duration": 0,
        "start_time": "2023-05-05T15:06:14.572Z"
      },
      {
        "duration": 0,
        "start_time": "2023-05-05T15:06:14.573Z"
      },
      {
        "duration": 0,
        "start_time": "2023-05-05T15:06:14.573Z"
      },
      {
        "duration": 0,
        "start_time": "2023-05-05T15:06:14.575Z"
      },
      {
        "duration": 1,
        "start_time": "2023-05-05T15:06:14.576Z"
      },
      {
        "duration": 0,
        "start_time": "2023-05-05T15:06:14.578Z"
      },
      {
        "duration": 0,
        "start_time": "2023-05-05T15:06:14.579Z"
      },
      {
        "duration": 0,
        "start_time": "2023-05-05T15:06:14.581Z"
      },
      {
        "duration": 0,
        "start_time": "2023-05-05T15:06:14.582Z"
      },
      {
        "duration": 0,
        "start_time": "2023-05-05T15:06:14.584Z"
      },
      {
        "duration": 0,
        "start_time": "2023-05-05T15:06:14.586Z"
      },
      {
        "duration": 10,
        "start_time": "2023-05-05T15:06:35.491Z"
      },
      {
        "duration": 9,
        "start_time": "2023-05-05T15:06:39.112Z"
      },
      {
        "duration": 6,
        "start_time": "2023-05-05T15:06:42.541Z"
      },
      {
        "duration": 890,
        "start_time": "2023-05-05T15:06:54.498Z"
      },
      {
        "duration": 1532,
        "start_time": "2023-05-07T07:07:15.093Z"
      },
      {
        "duration": 95,
        "start_time": "2023-05-07T07:07:16.627Z"
      },
      {
        "duration": 1336,
        "start_time": "2023-05-07T07:07:16.724Z"
      },
      {
        "duration": 26,
        "start_time": "2023-05-07T07:07:18.062Z"
      },
      {
        "duration": 8,
        "start_time": "2023-05-07T07:07:18.090Z"
      },
      {
        "duration": 7,
        "start_time": "2023-05-07T07:07:18.101Z"
      },
      {
        "duration": 7,
        "start_time": "2023-05-07T07:07:18.110Z"
      },
      {
        "duration": 24,
        "start_time": "2023-05-07T07:07:18.118Z"
      },
      {
        "duration": 42,
        "start_time": "2023-05-07T07:07:18.143Z"
      },
      {
        "duration": 11,
        "start_time": "2023-05-07T07:07:18.189Z"
      },
      {
        "duration": 18,
        "start_time": "2023-05-07T07:07:18.202Z"
      },
      {
        "duration": 777,
        "start_time": "2023-05-07T07:07:18.222Z"
      },
      {
        "duration": 30348,
        "start_time": "2023-05-07T07:07:19.000Z"
      },
      {
        "duration": 14018,
        "start_time": "2023-05-07T07:07:49.349Z"
      },
      {
        "duration": 33,
        "start_time": "2023-05-07T07:08:03.369Z"
      },
      {
        "duration": 181,
        "start_time": "2023-05-07T07:08:03.405Z"
      },
      {
        "duration": 515,
        "start_time": "2023-05-07T07:08:03.588Z"
      },
      {
        "duration": 829,
        "start_time": "2023-05-07T07:08:04.184Z"
      },
      {
        "duration": 428,
        "start_time": "2023-05-07T07:08:05.015Z"
      },
      {
        "duration": 202,
        "start_time": "2023-05-07T07:08:05.494Z"
      },
      {
        "duration": 0,
        "start_time": "2023-05-07T07:08:05.698Z"
      },
      {
        "duration": 1,
        "start_time": "2023-05-07T07:08:05.700Z"
      },
      {
        "duration": 0,
        "start_time": "2023-05-07T07:08:05.702Z"
      },
      {
        "duration": 0,
        "start_time": "2023-05-07T07:08:05.704Z"
      },
      {
        "duration": 0,
        "start_time": "2023-05-07T07:08:05.705Z"
      },
      {
        "duration": 0,
        "start_time": "2023-05-07T07:08:05.706Z"
      },
      {
        "duration": 0,
        "start_time": "2023-05-07T07:08:05.708Z"
      },
      {
        "duration": 0,
        "start_time": "2023-05-07T07:08:05.709Z"
      },
      {
        "duration": 0,
        "start_time": "2023-05-07T07:08:05.710Z"
      },
      {
        "duration": 0,
        "start_time": "2023-05-07T07:08:05.711Z"
      },
      {
        "duration": 0,
        "start_time": "2023-05-07T07:08:05.713Z"
      },
      {
        "duration": 170608,
        "start_time": "2023-05-07T07:09:06.143Z"
      },
      {
        "duration": 22,
        "start_time": "2023-05-07T07:12:42.078Z"
      },
      {
        "duration": 254989,
        "start_time": "2023-05-07T07:15:06.240Z"
      },
      {
        "duration": 1620,
        "start_time": "2023-05-07T07:30:17.480Z"
      },
      {
        "duration": 54,
        "start_time": "2023-05-07T07:30:19.102Z"
      },
      {
        "duration": 1336,
        "start_time": "2023-05-07T07:30:19.159Z"
      },
      {
        "duration": 23,
        "start_time": "2023-05-07T07:30:20.497Z"
      },
      {
        "duration": 9,
        "start_time": "2023-05-07T07:30:20.523Z"
      },
      {
        "duration": 17,
        "start_time": "2023-05-07T07:30:20.534Z"
      },
      {
        "duration": 7,
        "start_time": "2023-05-07T07:30:20.553Z"
      },
      {
        "duration": 29,
        "start_time": "2023-05-07T07:30:20.586Z"
      },
      {
        "duration": 16,
        "start_time": "2023-05-07T07:30:20.618Z"
      },
      {
        "duration": 16,
        "start_time": "2023-05-07T07:30:20.638Z"
      },
      {
        "duration": 7,
        "start_time": "2023-05-07T07:30:20.686Z"
      },
      {
        "duration": 739,
        "start_time": "2023-05-07T07:30:20.696Z"
      },
      {
        "duration": 31744,
        "start_time": "2023-05-07T07:30:21.437Z"
      },
      {
        "duration": 13599,
        "start_time": "2023-05-07T07:30:53.184Z"
      },
      {
        "duration": 48865,
        "start_time": "2023-05-07T07:31:06.785Z"
      },
      {
        "duration": 53,
        "start_time": "2023-05-07T07:31:55.652Z"
      },
      {
        "duration": 16,
        "start_time": "2023-05-07T07:31:55.785Z"
      },
      {
        "duration": 688,
        "start_time": "2023-05-07T07:31:55.804Z"
      },
      {
        "duration": 966,
        "start_time": "2023-05-07T07:31:56.495Z"
      },
      {
        "duration": 625,
        "start_time": "2023-05-07T07:31:57.464Z"
      },
      {
        "duration": 26,
        "start_time": "2023-05-07T07:31:58.091Z"
      },
      {
        "duration": 0,
        "start_time": "2023-05-07T07:31:58.120Z"
      },
      {
        "duration": 0,
        "start_time": "2023-05-07T07:31:58.121Z"
      },
      {
        "duration": 0,
        "start_time": "2023-05-07T07:31:58.123Z"
      },
      {
        "duration": 0,
        "start_time": "2023-05-07T07:31:58.125Z"
      },
      {
        "duration": 0,
        "start_time": "2023-05-07T07:31:58.126Z"
      },
      {
        "duration": 0,
        "start_time": "2023-05-07T07:31:58.185Z"
      },
      {
        "duration": 0,
        "start_time": "2023-05-07T07:31:58.187Z"
      },
      {
        "duration": 0,
        "start_time": "2023-05-07T07:31:58.189Z"
      },
      {
        "duration": 0,
        "start_time": "2023-05-07T07:31:58.190Z"
      },
      {
        "duration": 0,
        "start_time": "2023-05-07T07:31:58.192Z"
      },
      {
        "duration": 0,
        "start_time": "2023-05-07T07:31:58.193Z"
      },
      {
        "duration": 38082,
        "start_time": "2023-05-07T07:31:59.212Z"
      },
      {
        "duration": 21614,
        "start_time": "2023-05-07T07:32:40.203Z"
      },
      {
        "duration": 253923,
        "start_time": "2023-05-07T07:41:10.578Z"
      },
      {
        "duration": 264848,
        "start_time": "2023-05-07T07:49:06.338Z"
      },
      {
        "duration": 202,
        "start_time": "2023-05-07T08:03:07.483Z"
      },
      {
        "duration": 13,
        "start_time": "2023-05-07T08:04:01.563Z"
      },
      {
        "duration": 531,
        "start_time": "2023-05-07T08:04:10.162Z"
      },
      {
        "duration": 2203,
        "start_time": "2023-05-07T08:07:10.483Z"
      },
      {
        "duration": 1498,
        "start_time": "2023-05-07T08:08:21.683Z"
      },
      {
        "duration": 22,
        "start_time": "2023-05-07T08:09:20.211Z"
      },
      {
        "duration": 6,
        "start_time": "2023-05-07T08:16:58.241Z"
      },
      {
        "duration": 740,
        "start_time": "2023-05-07T08:17:12.379Z"
      },
      {
        "duration": 256820,
        "start_time": "2023-05-07T08:20:18.227Z"
      },
      {
        "duration": 99,
        "start_time": "2023-05-07T08:24:51.769Z"
      },
      {
        "duration": 81,
        "start_time": "2023-05-07T08:25:00.198Z"
      },
      {
        "duration": 22,
        "start_time": "2023-05-07T08:27:02.338Z"
      },
      {
        "duration": 19,
        "start_time": "2023-05-07T08:27:22.898Z"
      },
      {
        "duration": 80,
        "start_time": "2023-05-07T08:28:26.378Z"
      },
      {
        "duration": 88,
        "start_time": "2023-05-07T08:29:05.850Z"
      },
      {
        "duration": 1200,
        "start_time": "2023-05-07T08:31:15.899Z"
      },
      {
        "duration": 1257,
        "start_time": "2023-05-07T08:32:07.637Z"
      },
      {
        "duration": 97,
        "start_time": "2023-05-07T08:33:28.312Z"
      },
      {
        "duration": 1547,
        "start_time": "2023-05-07T08:34:52.746Z"
      },
      {
        "duration": 18,
        "start_time": "2023-05-07T08:43:25.834Z"
      },
      {
        "duration": 15,
        "start_time": "2023-05-07T08:58:35.628Z"
      },
      {
        "duration": 16,
        "start_time": "2023-05-07T08:59:10.411Z"
      },
      {
        "duration": 65,
        "start_time": "2023-05-07T09:04:28.226Z"
      },
      {
        "duration": 1382,
        "start_time": "2023-05-07T09:04:39.151Z"
      },
      {
        "duration": 53,
        "start_time": "2023-05-07T09:04:40.535Z"
      },
      {
        "duration": 1304,
        "start_time": "2023-05-07T09:04:40.589Z"
      },
      {
        "duration": 20,
        "start_time": "2023-05-07T09:04:41.895Z"
      },
      {
        "duration": 7,
        "start_time": "2023-05-07T09:04:41.916Z"
      },
      {
        "duration": 11,
        "start_time": "2023-05-07T09:04:41.924Z"
      },
      {
        "duration": 19,
        "start_time": "2023-05-07T09:04:41.937Z"
      },
      {
        "duration": 41,
        "start_time": "2023-05-07T09:04:41.957Z"
      },
      {
        "duration": 13,
        "start_time": "2023-05-07T09:04:42.000Z"
      },
      {
        "duration": 12,
        "start_time": "2023-05-07T09:04:42.015Z"
      },
      {
        "duration": 6,
        "start_time": "2023-05-07T09:04:42.029Z"
      },
      {
        "duration": 738,
        "start_time": "2023-05-07T09:04:42.037Z"
      },
      {
        "duration": 21346,
        "start_time": "2023-05-07T09:04:42.777Z"
      },
      {
        "duration": 62,
        "start_time": "2023-05-07T09:05:04.125Z"
      },
      {
        "duration": 102,
        "start_time": "2023-05-07T09:05:04.190Z"
      },
      {
        "duration": 1893,
        "start_time": "2023-05-07T09:05:04.293Z"
      },
      {
        "duration": 1474,
        "start_time": "2023-05-07T09:05:06.190Z"
      },
      {
        "duration": 708,
        "start_time": "2023-05-07T09:05:07.665Z"
      },
      {
        "duration": 0,
        "start_time": "2023-05-07T09:09:03.598Z"
      },
      {
        "duration": 0,
        "start_time": "2023-05-07T09:09:03.599Z"
      },
      {
        "duration": 0,
        "start_time": "2023-05-07T09:09:03.601Z"
      },
      {
        "duration": 0,
        "start_time": "2023-05-07T09:09:03.602Z"
      },
      {
        "duration": 0,
        "start_time": "2023-05-07T09:09:03.603Z"
      },
      {
        "duration": 0,
        "start_time": "2023-05-07T09:09:03.604Z"
      },
      {
        "duration": 0,
        "start_time": "2023-05-07T09:09:03.605Z"
      },
      {
        "duration": 0,
        "start_time": "2023-05-07T09:09:03.606Z"
      },
      {
        "duration": 0,
        "start_time": "2023-05-07T09:09:03.607Z"
      },
      {
        "duration": 0,
        "start_time": "2023-05-07T09:09:03.609Z"
      },
      {
        "duration": 0,
        "start_time": "2023-05-07T09:09:03.609Z"
      },
      {
        "duration": 0,
        "start_time": "2023-05-07T09:09:03.610Z"
      },
      {
        "duration": 0,
        "start_time": "2023-05-07T09:09:03.611Z"
      },
      {
        "duration": 0,
        "start_time": "2023-05-07T09:09:03.612Z"
      },
      {
        "duration": 0,
        "start_time": "2023-05-07T09:09:03.613Z"
      },
      {
        "duration": 0,
        "start_time": "2023-05-07T09:09:03.614Z"
      },
      {
        "duration": 0,
        "start_time": "2023-05-07T09:09:03.615Z"
      },
      {
        "duration": 0,
        "start_time": "2023-05-07T09:09:03.616Z"
      },
      {
        "duration": 0,
        "start_time": "2023-05-07T09:09:03.618Z"
      },
      {
        "duration": 0,
        "start_time": "2023-05-07T09:09:03.619Z"
      },
      {
        "duration": 0,
        "start_time": "2023-05-07T09:09:03.620Z"
      },
      {
        "duration": 0,
        "start_time": "2023-05-07T09:09:03.621Z"
      },
      {
        "duration": 0,
        "start_time": "2023-05-07T09:09:03.622Z"
      },
      {
        "duration": 0,
        "start_time": "2023-05-07T09:09:03.622Z"
      },
      {
        "duration": 0,
        "start_time": "2023-05-07T09:09:03.623Z"
      },
      {
        "duration": 0,
        "start_time": "2023-05-07T09:09:03.624Z"
      },
      {
        "duration": 0,
        "start_time": "2023-05-07T09:09:03.625Z"
      },
      {
        "duration": 0,
        "start_time": "2023-05-07T09:09:03.626Z"
      },
      {
        "duration": 0,
        "start_time": "2023-05-07T09:09:03.627Z"
      },
      {
        "duration": 0,
        "start_time": "2023-05-07T09:09:03.628Z"
      },
      {
        "duration": 0,
        "start_time": "2023-05-07T09:09:03.629Z"
      },
      {
        "duration": 0,
        "start_time": "2023-05-07T09:09:03.686Z"
      },
      {
        "duration": 0,
        "start_time": "2023-05-07T09:09:03.687Z"
      },
      {
        "duration": 0,
        "start_time": "2023-05-07T09:09:03.688Z"
      },
      {
        "duration": 63,
        "start_time": "2023-05-07T09:13:56.193Z"
      },
      {
        "duration": 5,
        "start_time": "2023-05-07T09:14:05.853Z"
      },
      {
        "duration": 63,
        "start_time": "2023-05-07T09:14:05.860Z"
      },
      {
        "duration": 1267,
        "start_time": "2023-05-07T09:14:05.925Z"
      },
      {
        "duration": 16,
        "start_time": "2023-05-07T09:14:07.194Z"
      },
      {
        "duration": 7,
        "start_time": "2023-05-07T09:14:07.212Z"
      },
      {
        "duration": 7,
        "start_time": "2023-05-07T09:14:07.221Z"
      },
      {
        "duration": 13,
        "start_time": "2023-05-07T09:14:07.229Z"
      },
      {
        "duration": 48,
        "start_time": "2023-05-07T09:14:07.244Z"
      },
      {
        "duration": 11,
        "start_time": "2023-05-07T09:14:07.294Z"
      },
      {
        "duration": 10,
        "start_time": "2023-05-07T09:14:07.308Z"
      },
      {
        "duration": 5,
        "start_time": "2023-05-07T09:14:07.320Z"
      },
      {
        "duration": 745,
        "start_time": "2023-05-07T09:14:07.326Z"
      },
      {
        "duration": 232979,
        "start_time": "2023-05-07T09:14:08.072Z"
      },
      {
        "duration": 100,
        "start_time": "2023-05-07T09:18:01.097Z"
      },
      {
        "duration": 1891,
        "start_time": "2023-05-07T09:18:01.199Z"
      },
      {
        "duration": 1577,
        "start_time": "2023-05-07T09:18:03.093Z"
      },
      {
        "duration": 709,
        "start_time": "2023-05-07T09:18:04.672Z"
      },
      {
        "duration": 232717,
        "start_time": "2023-05-07T09:18:05.386Z"
      },
      {
        "duration": 83,
        "start_time": "2023-05-07T09:21:58.104Z"
      },
      {
        "duration": 1314,
        "start_time": "2023-05-07T09:21:58.189Z"
      },
      {
        "duration": 1577,
        "start_time": "2023-05-07T09:21:59.505Z"
      },
      {
        "duration": 15,
        "start_time": "2023-05-07T09:22:01.085Z"
      },
      {
        "duration": 0,
        "start_time": "2023-05-07T09:22:01.103Z"
      },
      {
        "duration": 0,
        "start_time": "2023-05-07T09:22:01.104Z"
      },
      {
        "duration": 0,
        "start_time": "2023-05-07T09:22:01.105Z"
      },
      {
        "duration": 0,
        "start_time": "2023-05-07T09:22:01.106Z"
      },
      {
        "duration": 0,
        "start_time": "2023-05-07T09:22:01.107Z"
      },
      {
        "duration": 0,
        "start_time": "2023-05-07T09:22:01.108Z"
      },
      {
        "duration": 0,
        "start_time": "2023-05-07T09:22:01.109Z"
      },
      {
        "duration": 0,
        "start_time": "2023-05-07T09:22:01.111Z"
      },
      {
        "duration": 0,
        "start_time": "2023-05-07T09:22:01.112Z"
      },
      {
        "duration": 0,
        "start_time": "2023-05-07T09:22:01.113Z"
      },
      {
        "duration": 0,
        "start_time": "2023-05-07T09:22:01.114Z"
      },
      {
        "duration": 0,
        "start_time": "2023-05-07T09:22:01.115Z"
      },
      {
        "duration": 101,
        "start_time": "2023-05-07T09:25:37.985Z"
      },
      {
        "duration": 19,
        "start_time": "2023-05-07T09:25:53.337Z"
      },
      {
        "duration": 19,
        "start_time": "2023-05-07T09:28:45.281Z"
      },
      {
        "duration": 4,
        "start_time": "2023-05-07T09:30:10.257Z"
      },
      {
        "duration": 18,
        "start_time": "2023-05-07T09:30:26.953Z"
      },
      {
        "duration": 19,
        "start_time": "2023-05-07T09:30:31.513Z"
      },
      {
        "duration": 17,
        "start_time": "2023-05-07T09:31:34.617Z"
      },
      {
        "duration": 16,
        "start_time": "2023-05-07T09:31:41.202Z"
      },
      {
        "duration": 4,
        "start_time": "2023-05-07T09:44:57.753Z"
      },
      {
        "duration": 20,
        "start_time": "2023-05-07T09:45:08.674Z"
      },
      {
        "duration": 6,
        "start_time": "2023-05-07T09:45:23.073Z"
      },
      {
        "duration": 3,
        "start_time": "2023-05-07T09:45:32.082Z"
      },
      {
        "duration": 79,
        "start_time": "2023-05-07T09:45:54.002Z"
      },
      {
        "duration": 129,
        "start_time": "2023-05-07T09:46:05.626Z"
      },
      {
        "duration": 93,
        "start_time": "2023-05-07T09:47:50.386Z"
      },
      {
        "duration": 91,
        "start_time": "2023-05-07T09:48:36.186Z"
      },
      {
        "duration": 84,
        "start_time": "2023-05-07T09:48:47.721Z"
      },
      {
        "duration": 19,
        "start_time": "2023-05-07T09:48:56.538Z"
      },
      {
        "duration": 84,
        "start_time": "2023-05-07T09:49:59.297Z"
      },
      {
        "duration": 83,
        "start_time": "2023-05-07T09:51:42.937Z"
      },
      {
        "duration": 83,
        "start_time": "2023-05-07T09:51:48.457Z"
      },
      {
        "duration": 4,
        "start_time": "2023-05-07T09:52:04.819Z"
      },
      {
        "duration": 83,
        "start_time": "2023-05-07T09:52:14.681Z"
      },
      {
        "duration": 14,
        "start_time": "2023-05-07T09:52:50.609Z"
      },
      {
        "duration": 10,
        "start_time": "2023-05-07T09:53:03.722Z"
      },
      {
        "duration": 13,
        "start_time": "2023-05-07T09:54:03.194Z"
      },
      {
        "duration": 14,
        "start_time": "2023-05-07T09:54:31.507Z"
      },
      {
        "duration": 9,
        "start_time": "2023-05-07T09:54:41.705Z"
      },
      {
        "duration": 12,
        "start_time": "2023-05-07T09:55:57.013Z"
      },
      {
        "duration": 11,
        "start_time": "2023-05-07T09:56:31.299Z"
      },
      {
        "duration": 17,
        "start_time": "2023-05-07T09:56:55.169Z"
      },
      {
        "duration": 9,
        "start_time": "2023-05-07T09:57:32.897Z"
      },
      {
        "duration": 21,
        "start_time": "2023-05-07T09:58:07.545Z"
      },
      {
        "duration": 24,
        "start_time": "2023-05-07T09:58:35.209Z"
      },
      {
        "duration": 16,
        "start_time": "2023-05-07T09:59:51.050Z"
      },
      {
        "duration": 10,
        "start_time": "2023-05-07T10:01:28.033Z"
      },
      {
        "duration": 8,
        "start_time": "2023-05-07T10:01:46.410Z"
      },
      {
        "duration": 15,
        "start_time": "2023-05-07T10:02:11.353Z"
      },
      {
        "duration": 9,
        "start_time": "2023-05-07T10:02:15.869Z"
      },
      {
        "duration": 11,
        "start_time": "2023-05-07T10:03:29.018Z"
      },
      {
        "duration": 7,
        "start_time": "2023-05-07T10:03:42.217Z"
      },
      {
        "duration": 3,
        "start_time": "2023-05-07T10:04:44.609Z"
      },
      {
        "duration": 21,
        "start_time": "2023-05-07T10:04:54.993Z"
      },
      {
        "duration": 15,
        "start_time": "2023-05-07T10:07:00.401Z"
      },
      {
        "duration": 5,
        "start_time": "2023-05-07T10:09:07.273Z"
      },
      {
        "duration": 6,
        "start_time": "2023-05-07T10:09:26.473Z"
      },
      {
        "duration": 6,
        "start_time": "2023-05-07T10:09:43.705Z"
      },
      {
        "duration": 4,
        "start_time": "2023-05-07T10:09:57.372Z"
      },
      {
        "duration": 68,
        "start_time": "2023-05-07T10:09:57.378Z"
      },
      {
        "duration": 1351,
        "start_time": "2023-05-07T10:09:57.448Z"
      },
      {
        "duration": 17,
        "start_time": "2023-05-07T10:09:58.801Z"
      },
      {
        "duration": 7,
        "start_time": "2023-05-07T10:09:58.820Z"
      },
      {
        "duration": 17,
        "start_time": "2023-05-07T10:09:58.828Z"
      },
      {
        "duration": 22,
        "start_time": "2023-05-07T10:09:58.846Z"
      },
      {
        "duration": 28,
        "start_time": "2023-05-07T10:09:58.869Z"
      },
      {
        "duration": 10,
        "start_time": "2023-05-07T10:09:58.898Z"
      },
      {
        "duration": 12,
        "start_time": "2023-05-07T10:10:02.272Z"
      },
      {
        "duration": 9,
        "start_time": "2023-05-07T10:10:34.290Z"
      },
      {
        "duration": 4,
        "start_time": "2023-05-07T10:10:36.097Z"
      },
      {
        "duration": 15,
        "start_time": "2023-05-07T10:10:53.592Z"
      },
      {
        "duration": 11,
        "start_time": "2023-05-07T10:11:11.945Z"
      },
      {
        "duration": 14,
        "start_time": "2023-05-07T10:11:36.673Z"
      },
      {
        "duration": 9,
        "start_time": "2023-05-07T10:11:40.801Z"
      },
      {
        "duration": 16,
        "start_time": "2023-05-07T10:12:29.564Z"
      },
      {
        "duration": 20,
        "start_time": "2023-05-07T10:12:52.450Z"
      },
      {
        "duration": 6,
        "start_time": "2023-05-07T10:17:03.681Z"
      },
      {
        "duration": 6,
        "start_time": "2023-05-07T10:17:09.633Z"
      },
      {
        "duration": 5,
        "start_time": "2023-05-07T10:17:17.985Z"
      },
      {
        "duration": 11,
        "start_time": "2023-05-07T10:37:40.753Z"
      },
      {
        "duration": 25,
        "start_time": "2023-05-07T10:37:46.313Z"
      },
      {
        "duration": 5,
        "start_time": "2023-05-07T10:38:28.737Z"
      },
      {
        "duration": 21,
        "start_time": "2023-05-07T10:38:33.481Z"
      },
      {
        "duration": 4,
        "start_time": "2023-05-07T10:38:52.418Z"
      },
      {
        "duration": 23,
        "start_time": "2023-05-07T10:38:54.825Z"
      },
      {
        "duration": 5,
        "start_time": "2023-05-07T10:39:11.066Z"
      },
      {
        "duration": 87,
        "start_time": "2023-05-07T10:39:47.665Z"
      },
      {
        "duration": 87,
        "start_time": "2023-05-07T10:39:50.698Z"
      },
      {
        "duration": 5,
        "start_time": "2023-05-07T10:40:14.036Z"
      },
      {
        "duration": 82,
        "start_time": "2023-05-07T10:40:16.841Z"
      },
      {
        "duration": 5,
        "start_time": "2023-05-07T10:40:27.673Z"
      },
      {
        "duration": 18,
        "start_time": "2023-05-07T10:40:30.977Z"
      },
      {
        "duration": 16,
        "start_time": "2023-05-07T10:40:35.385Z"
      },
      {
        "duration": 8,
        "start_time": "2023-05-07T10:40:41.585Z"
      },
      {
        "duration": 85,
        "start_time": "2023-05-07T10:40:46.153Z"
      },
      {
        "duration": 4,
        "start_time": "2023-05-07T10:41:46.624Z"
      },
      {
        "duration": 81,
        "start_time": "2023-05-07T10:41:49.497Z"
      },
      {
        "duration": 5,
        "start_time": "2023-05-07T10:41:52.585Z"
      },
      {
        "duration": 20,
        "start_time": "2023-05-07T10:41:54.930Z"
      },
      {
        "duration": 15,
        "start_time": "2023-05-07T10:42:04.945Z"
      },
      {
        "duration": 8,
        "start_time": "2023-05-07T10:42:18.473Z"
      },
      {
        "duration": 18,
        "start_time": "2023-05-07T10:42:27.977Z"
      },
      {
        "duration": 11,
        "start_time": "2023-05-07T10:42:57.497Z"
      },
      {
        "duration": 16,
        "start_time": "2023-05-07T10:43:03.761Z"
      },
      {
        "duration": 64,
        "start_time": "2023-05-07T10:43:10.153Z"
      },
      {
        "duration": 10,
        "start_time": "2023-05-07T10:43:16.721Z"
      },
      {
        "duration": 833,
        "start_time": "2023-05-07T10:43:30.906Z"
      },
      {
        "duration": 39,
        "start_time": "2023-05-07T10:43:48.465Z"
      },
      {
        "duration": 5,
        "start_time": "2023-05-07T11:14:55.880Z"
      },
      {
        "duration": 6,
        "start_time": "2023-05-07T11:15:11.682Z"
      },
      {
        "duration": 79,
        "start_time": "2023-05-07T11:15:14.833Z"
      },
      {
        "duration": 5,
        "start_time": "2023-05-07T11:15:17.594Z"
      },
      {
        "duration": 17,
        "start_time": "2023-05-07T11:15:20.706Z"
      },
      {
        "duration": 38,
        "start_time": "2023-05-07T11:15:25.153Z"
      },
      {
        "duration": 8,
        "start_time": "2023-05-07T11:15:28.321Z"
      },
      {
        "duration": 97,
        "start_time": "2023-05-07T11:15:33.785Z"
      },
      {
        "duration": 17,
        "start_time": "2023-05-07T11:15:53.825Z"
      },
      {
        "duration": 6,
        "start_time": "2023-05-07T11:16:13.553Z"
      },
      {
        "duration": 4,
        "start_time": "2023-05-07T11:16:18.265Z"
      },
      {
        "duration": 81,
        "start_time": "2023-05-07T11:16:21.713Z"
      },
      {
        "duration": 54,
        "start_time": "2023-05-07T11:18:08.378Z"
      },
      {
        "duration": 54,
        "start_time": "2023-05-07T11:18:12.392Z"
      },
      {
        "duration": 16,
        "start_time": "2023-05-07T11:18:19.145Z"
      },
      {
        "duration": 16,
        "start_time": "2023-05-07T11:18:22.337Z"
      },
      {
        "duration": 16,
        "start_time": "2023-05-07T11:18:28.369Z"
      },
      {
        "duration": 3,
        "start_time": "2023-05-07T11:18:38.480Z"
      },
      {
        "duration": 12,
        "start_time": "2023-05-07T11:18:40.337Z"
      },
      {
        "duration": 16,
        "start_time": "2023-05-07T11:18:43.361Z"
      },
      {
        "duration": 38,
        "start_time": "2023-05-07T11:18:47.490Z"
      },
      {
        "duration": 6,
        "start_time": "2023-05-07T11:18:49.793Z"
      },
      {
        "duration": 17,
        "start_time": "2023-05-07T11:18:54.057Z"
      },
      {
        "duration": 1068,
        "start_time": "2023-05-07T11:19:01.022Z"
      },
      {
        "duration": 11,
        "start_time": "2023-05-07T11:19:55.042Z"
      },
      {
        "duration": 2507,
        "start_time": "2023-05-07T11:20:20.785Z"
      },
      {
        "duration": 2763,
        "start_time": "2023-05-07T11:21:42.595Z"
      },
      {
        "duration": 2880,
        "start_time": "2023-05-07T11:30:43.385Z"
      },
      {
        "duration": 5728,
        "start_time": "2023-05-07T11:37:43.769Z"
      },
      {
        "duration": 5677,
        "start_time": "2023-05-07T11:38:46.290Z"
      },
      {
        "duration": 6751,
        "start_time": "2023-05-07T11:43:03.121Z"
      },
      {
        "duration": 10,
        "start_time": "2023-05-07T11:45:28.882Z"
      },
      {
        "duration": 4,
        "start_time": "2023-05-07T11:45:54.560Z"
      },
      {
        "duration": 49,
        "start_time": "2023-05-07T11:45:58.640Z"
      },
      {
        "duration": 18,
        "start_time": "2023-05-07T11:46:05.568Z"
      },
      {
        "duration": 9,
        "start_time": "2023-05-07T11:46:09.848Z"
      },
      {
        "duration": 7,
        "start_time": "2023-05-07T11:46:12.600Z"
      },
      {
        "duration": 6,
        "start_time": "2023-05-07T11:46:15.424Z"
      },
      {
        "duration": 25,
        "start_time": "2023-05-07T11:46:18.128Z"
      },
      {
        "duration": 13,
        "start_time": "2023-05-07T11:46:23.105Z"
      },
      {
        "duration": 14,
        "start_time": "2023-05-07T11:46:33.241Z"
      },
      {
        "duration": 10,
        "start_time": "2023-05-07T11:46:41.585Z"
      },
      {
        "duration": 9,
        "start_time": "2023-05-07T11:47:32.937Z"
      },
      {
        "duration": 5654,
        "start_time": "2023-05-07T11:47:44.754Z"
      },
      {
        "duration": 6544,
        "start_time": "2023-05-07T11:47:51.370Z"
      },
      {
        "duration": 2564,
        "start_time": "2023-05-07T11:49:34.249Z"
      },
      {
        "duration": 69,
        "start_time": "2023-05-07T11:50:11.944Z"
      },
      {
        "duration": 68,
        "start_time": "2023-05-07T11:50:19.160Z"
      },
      {
        "duration": 5,
        "start_time": "2023-05-07T11:52:21.041Z"
      },
      {
        "duration": 11,
        "start_time": "2023-05-07T11:53:57.085Z"
      },
      {
        "duration": 22,
        "start_time": "2023-05-07T11:54:04.496Z"
      },
      {
        "duration": 15,
        "start_time": "2023-05-07T11:54:59.857Z"
      },
      {
        "duration": 6,
        "start_time": "2023-05-07T11:55:03.537Z"
      },
      {
        "duration": 6024,
        "start_time": "2023-05-07T11:56:09.181Z"
      },
      {
        "duration": 64,
        "start_time": "2023-05-07T11:56:15.207Z"
      },
      {
        "duration": 6581,
        "start_time": "2023-05-07T11:57:15.969Z"
      }
    ],
    "kernelspec": {
      "display_name": "Python 3 (ipykernel)",
      "language": "python",
      "name": "python3"
    },
    "language_info": {
      "codemirror_mode": {
        "name": "ipython",
        "version": 3
      },
      "file_extension": ".py",
      "mimetype": "text/x-python",
      "name": "python",
      "nbconvert_exporter": "python",
      "pygments_lexer": "ipython3",
      "version": "3.9.5"
    },
    "toc": {
      "base_numbering": 1,
      "nav_menu": {},
      "number_sections": true,
      "sideBar": true,
      "skip_h1_title": true,
      "title_cell": "Содержание",
      "title_sidebar": "Contents",
      "toc_cell": true,
      "toc_position": {
        "height": "calc(100% - 180px)",
        "left": "10px",
        "top": "150px",
        "width": "165px"
      },
      "toc_section_display": true,
      "toc_window_display": false
    },
    "colab": {
      "provenance": []
    }
  },
  "nbformat": 4,
  "nbformat_minor": 0
}