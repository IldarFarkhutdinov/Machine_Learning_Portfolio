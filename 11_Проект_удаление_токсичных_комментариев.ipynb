{
  "cells": [
    {
      "cell_type": "markdown",
      "metadata": {
        "toc": true,
        "id": "jWHsxsIZJv6o"
      },
      "source": [
        "<h1>Содержание<span class=\"tocSkip\"></span></h1>\n",
        "<div class=\"toc\"><ul class=\"toc-item\"><li><span><a href=\"#Подготовка\" data-toc-modified-id=\"Подготовка-1\"><span class=\"toc-item-num\">1&nbsp;&nbsp;</span>Подготовка</a></span><ul class=\"toc-item\"><li><span><a href=\"#Изменение-баланса-классов\" data-toc-modified-id=\"Изменение-баланса-классов-1.1\"><span class=\"toc-item-num\">1.1&nbsp;&nbsp;</span>Изменение баланса классов</a></span><ul class=\"toc-item\"><li><span><a href=\"#Изменение-весов-классов\" data-toc-modified-id=\"Изменение-весов-классов-1.1.1\"><span class=\"toc-item-num\">1.1.1&nbsp;&nbsp;</span>Изменение весов классов</a></span></li><li><span><a href=\"#Ресемплирование-с-уменьшением-класса-0\" data-toc-modified-id=\"Ресемплирование-с-уменьшением-класса-0-1.1.2\"><span class=\"toc-item-num\">1.1.2&nbsp;&nbsp;</span>Ресемплирование с уменьшением класса 0</a></span></li></ul></li><li><span><a href=\"#Вывод-по-шагу-1\" data-toc-modified-id=\"Вывод-по-шагу-1-1.2\"><span class=\"toc-item-num\">1.2&nbsp;&nbsp;</span>Вывод по шагу 1</a></span></li></ul></li><li><span><a href=\"#Обучение\" data-toc-modified-id=\"Обучение-2\"><span class=\"toc-item-num\">2&nbsp;&nbsp;</span>Обучение</a></span><ul class=\"toc-item\"><li><span><a href=\"#Классификатор-LogisticRegression\" data-toc-modified-id=\"Классификатор-LogisticRegression-2.1\"><span class=\"toc-item-num\">2.1&nbsp;&nbsp;</span>Классификатор LogisticRegression</a></span></li><li><span><a href=\"#Классификатор-DecisionTreeClassifier\" data-toc-modified-id=\"Классификатор-DecisionTreeClassifier-2.2\"><span class=\"toc-item-num\">2.2&nbsp;&nbsp;</span>Классификатор DecisionTreeClassifier</a></span></li><li><span><a href=\"#Классификатор-SGDClassifier\" data-toc-modified-id=\"Классификатор-SGDClassifier-2.3\"><span class=\"toc-item-num\">2.3&nbsp;&nbsp;</span>Классификатор SGDClassifier</a></span></li><li><span><a href=\"#Вывод-по-шагу-2\" data-toc-modified-id=\"Вывод-по-шагу-2-2.4\"><span class=\"toc-item-num\">2.4&nbsp;&nbsp;</span>Вывод по шагу 2</a></span></li></ul></li><li><span><a href=\"#Выводы\" data-toc-modified-id=\"Выводы-3\"><span class=\"toc-item-num\">3&nbsp;&nbsp;</span>Выводы</a></span><ul class=\"toc-item\"><li><span><a href=\"#Итоговый-вывод\" data-toc-modified-id=\"Итоговый-вывод-3.1\"><span class=\"toc-item-num\">3.1&nbsp;&nbsp;</span>Итоговый вывод</a></span></li></ul></li></div>"
      ]
    },
    {
      "cell_type": "markdown",
      "metadata": {
        "id": "36pdbW1lJv7Q"
      },
      "source": [
        "<div style=\"border:2px solid Black; padding:20px;\">\n",
        "\n",
        "#Проект для \"Викишоп\"\n",
        "\n",
        "Интернет-магазин «Викишоп» запускает новый сервис. Теперь пользователи могут редактировать и дополнять описания товаров, как в вики-сообществах. То есть клиенты предлагают свои правки и комментируют изменения других. Магазину нужен инструмент, который будет искать токсичные комментарии и отправлять их на модерацию.\n",
        "\n",
        "Обучим модель классифицировать комментарии на позитивные и негативные. В нашем распоряжении набор данных с разметкой о токсичности правок.\n",
        "\n",
        "Построим модель со значением метрики качества *F1* не меньше 0.75.\n",
        "\n",
        "**Описание данных**\n",
        "\n",
        "Данные находятся в файле `toxic_comments.csv`. Столбец *text* в нём содержит текст комментария, а *toxic* — целевой признак.\n",
        "\n",
        "</div>"
      ]
    },
    {
      "cell_type": "markdown",
      "metadata": {
        "id": "_MD49H0lJv7R"
      },
      "source": [
        "## Подготовка"
      ]
    },
    {
      "cell_type": "code",
      "source": [
        "pip install catboost"
      ],
      "metadata": {
        "colab": {
          "base_uri": "https://localhost:8080/"
        },
        "id": "OWXbpLp2LiTr",
        "outputId": "388494c1-3310-41e4-946a-0f5d9362994a"
      },
      "execution_count": null,
      "outputs": [
        {
          "output_type": "stream",
          "name": "stdout",
          "text": [
            "Collecting catboost\n",
            "  Downloading catboost-1.2-cp310-cp310-manylinux2014_x86_64.whl (98.6 MB)\n",
            "\u001b[2K     \u001b[90m━━━━━━━━━━━━━━━━━━━━━━━━━━━━━━━━━━━━━━━━\u001b[0m \u001b[32m98.6/98.6 MB\u001b[0m \u001b[31m6.8 MB/s\u001b[0m eta \u001b[36m0:00:00\u001b[0m\n",
            "\u001b[?25hRequirement already satisfied: graphviz in /usr/local/lib/python3.10/dist-packages (from catboost) (0.20.1)\n",
            "Requirement already satisfied: matplotlib in /usr/local/lib/python3.10/dist-packages (from catboost) (3.7.1)\n",
            "Requirement already satisfied: numpy>=1.16.0 in /usr/local/lib/python3.10/dist-packages (from catboost) (1.22.4)\n",
            "Requirement already satisfied: pandas>=0.24 in /usr/local/lib/python3.10/dist-packages (from catboost) (1.5.3)\n",
            "Requirement already satisfied: scipy in /usr/local/lib/python3.10/dist-packages (from catboost) (1.10.1)\n",
            "Requirement already satisfied: plotly in /usr/local/lib/python3.10/dist-packages (from catboost) (5.13.1)\n",
            "Requirement already satisfied: six in /usr/local/lib/python3.10/dist-packages (from catboost) (1.16.0)\n",
            "Requirement already satisfied: python-dateutil>=2.8.1 in /usr/local/lib/python3.10/dist-packages (from pandas>=0.24->catboost) (2.8.2)\n",
            "Requirement already satisfied: pytz>=2020.1 in /usr/local/lib/python3.10/dist-packages (from pandas>=0.24->catboost) (2022.7.1)\n",
            "Requirement already satisfied: contourpy>=1.0.1 in /usr/local/lib/python3.10/dist-packages (from matplotlib->catboost) (1.1.0)\n",
            "Requirement already satisfied: cycler>=0.10 in /usr/local/lib/python3.10/dist-packages (from matplotlib->catboost) (0.11.0)\n",
            "Requirement already satisfied: fonttools>=4.22.0 in /usr/local/lib/python3.10/dist-packages (from matplotlib->catboost) (4.41.1)\n",
            "Requirement already satisfied: kiwisolver>=1.0.1 in /usr/local/lib/python3.10/dist-packages (from matplotlib->catboost) (1.4.4)\n",
            "Requirement already satisfied: packaging>=20.0 in /usr/local/lib/python3.10/dist-packages (from matplotlib->catboost) (23.1)\n",
            "Requirement already satisfied: pillow>=6.2.0 in /usr/local/lib/python3.10/dist-packages (from matplotlib->catboost) (9.4.0)\n",
            "Requirement already satisfied: pyparsing>=2.3.1 in /usr/local/lib/python3.10/dist-packages (from matplotlib->catboost) (3.1.0)\n",
            "Requirement already satisfied: tenacity>=6.2.0 in /usr/local/lib/python3.10/dist-packages (from plotly->catboost) (8.2.2)\n",
            "Installing collected packages: catboost\n",
            "Successfully installed catboost-1.2\n"
          ]
        }
      ]
    },
    {
      "cell_type": "code",
      "execution_count": null,
      "metadata": {
        "colab": {
          "base_uri": "https://localhost:8080/"
        },
        "id": "cwe16fjYJv7S",
        "outputId": "15b5ee2f-9609-489c-ff8c-8fd07a953143"
      },
      "outputs": [
        {
          "output_type": "stream",
          "name": "stderr",
          "text": [
            "[nltk_data] Downloading package punkt to /root/nltk_data...\n",
            "[nltk_data]   Package punkt is already up-to-date!\n",
            "[nltk_data] Downloading package stopwords to /root/nltk_data...\n",
            "[nltk_data]   Package stopwords is already up-to-date!\n",
            "[nltk_data] Downloading package wordnet to /root/nltk_data...\n",
            "[nltk_data]   Package wordnet is already up-to-date!\n",
            "[nltk_data] Downloading package averaged_perceptron_tagger to\n",
            "[nltk_data]     /root/nltk_data...\n",
            "[nltk_data]   Package averaged_perceptron_tagger is already up-to-\n",
            "[nltk_data]       date!\n"
          ]
        },
        {
          "output_type": "execute_result",
          "data": {
            "text/plain": [
              "True"
            ]
          },
          "metadata": {},
          "execution_count": 10
        }
      ],
      "source": [
        "import matplotlib.pyplot as plt\n",
        "import numpy as np\n",
        "import pandas as pd\n",
        "import re\n",
        "from pymystem3 import Mystem\n",
        "import nltk\n",
        "from nltk.corpus import wordnet\n",
        "from nltk.stem import WordNetLemmatizer\n",
        "\n",
        "from nltk.corpus import stopwords as nltk_stopwords\n",
        "from sklearn.feature_extraction.text import TfidfVectorizer\n",
        "from sklearn.model_selection import train_test_split, cross_val_score, GridSearchCV\n",
        "from sklearn.linear_model import LogisticRegression, SGDClassifier\n",
        "from sklearn.tree import DecisionTreeClassifier\n",
        "from catboost import CatBoostClassifier\n",
        "from sklearn.metrics import f1_score, precision_score, recall_score, accuracy_score, roc_auc_score, roc_curve\n",
        "from sklearn.utils import shuffle\n",
        "import warnings\n",
        "warnings.filterwarnings('ignore')\n",
        "nltk.download('punkt')\n",
        "nltk.download('stopwords')\n",
        "nltk.download('wordnet')\n",
        "nltk.download('averaged_perceptron_tagger')"
      ]
    },
    {
      "cell_type": "code",
      "execution_count": null,
      "metadata": {
        "colab": {
          "base_uri": "https://localhost:8080/"
        },
        "id": "fevx-LvvJv7Z",
        "outputId": "e16aa548-f1f1-4336-c953-8808dd47ffa5"
      },
      "outputs": [
        {
          "output_type": "stream",
          "name": "stdout",
          "text": [
            "<class 'pandas.core.frame.DataFrame'>\n",
            "RangeIndex: 159292 entries, 0 to 159291\n",
            "Data columns (total 3 columns):\n",
            " #   Column      Non-Null Count   Dtype \n",
            "---  ------      --------------   ----- \n",
            " 0   Unnamed: 0  159292 non-null  int64 \n",
            " 1   text        159292 non-null  object\n",
            " 2   toxic       159292 non-null  int64 \n",
            "dtypes: int64(2), object(1)\n",
            "memory usage: 3.6+ MB\n"
          ]
        }
      ],
      "source": [
        "toxic_comments = pd.read_csv('datasets/toxic_comments.csv')\n",
        "toxic_comments.info()"
      ]
    },
    {
      "cell_type": "code",
      "execution_count": null,
      "metadata": {
        "colab": {
          "base_uri": "https://localhost:8080/",
          "height": 206
        },
        "id": "Yn91kXiyJv7i",
        "outputId": "f86441bb-21d7-4034-94e4-ac0a618f8283"
      },
      "outputs": [
        {
          "output_type": "execute_result",
          "data": {
            "text/plain": [
              "   Unnamed: 0                                               text  toxic\n",
              "0           0  Explanation\\nWhy the edits made under my usern...      0\n",
              "1           1  D'aww! He matches this background colour I'm s...      0\n",
              "2           2  Hey man, I'm really not trying to edit war. It...      0\n",
              "3           3  \"\\nMore\\nI can't make any real suggestions on ...      0\n",
              "4           4  You, sir, are my hero. Any chance you remember...      0"
            ],
            "text/html": [
              "\n",
              "\n",
              "  <div id=\"df-5b7daf27-67cd-48e5-ae22-d86084e4c0a9\">\n",
              "    <div class=\"colab-df-container\">\n",
              "      <div>\n",
              "<style scoped>\n",
              "    .dataframe tbody tr th:only-of-type {\n",
              "        vertical-align: middle;\n",
              "    }\n",
              "\n",
              "    .dataframe tbody tr th {\n",
              "        vertical-align: top;\n",
              "    }\n",
              "\n",
              "    .dataframe thead th {\n",
              "        text-align: right;\n",
              "    }\n",
              "</style>\n",
              "<table border=\"1\" class=\"dataframe\">\n",
              "  <thead>\n",
              "    <tr style=\"text-align: right;\">\n",
              "      <th></th>\n",
              "      <th>Unnamed: 0</th>\n",
              "      <th>text</th>\n",
              "      <th>toxic</th>\n",
              "    </tr>\n",
              "  </thead>\n",
              "  <tbody>\n",
              "    <tr>\n",
              "      <th>0</th>\n",
              "      <td>0</td>\n",
              "      <td>Explanation\\nWhy the edits made under my usern...</td>\n",
              "      <td>0</td>\n",
              "    </tr>\n",
              "    <tr>\n",
              "      <th>1</th>\n",
              "      <td>1</td>\n",
              "      <td>D'aww! He matches this background colour I'm s...</td>\n",
              "      <td>0</td>\n",
              "    </tr>\n",
              "    <tr>\n",
              "      <th>2</th>\n",
              "      <td>2</td>\n",
              "      <td>Hey man, I'm really not trying to edit war. It...</td>\n",
              "      <td>0</td>\n",
              "    </tr>\n",
              "    <tr>\n",
              "      <th>3</th>\n",
              "      <td>3</td>\n",
              "      <td>\"\\nMore\\nI can't make any real suggestions on ...</td>\n",
              "      <td>0</td>\n",
              "    </tr>\n",
              "    <tr>\n",
              "      <th>4</th>\n",
              "      <td>4</td>\n",
              "      <td>You, sir, are my hero. Any chance you remember...</td>\n",
              "      <td>0</td>\n",
              "    </tr>\n",
              "  </tbody>\n",
              "</table>\n",
              "</div>\n",
              "      <button class=\"colab-df-convert\" onclick=\"convertToInteractive('df-5b7daf27-67cd-48e5-ae22-d86084e4c0a9')\"\n",
              "              title=\"Convert this dataframe to an interactive table.\"\n",
              "              style=\"display:none;\">\n",
              "\n",
              "  <svg xmlns=\"http://www.w3.org/2000/svg\" height=\"24px\"viewBox=\"0 0 24 24\"\n",
              "       width=\"24px\">\n",
              "    <path d=\"M0 0h24v24H0V0z\" fill=\"none\"/>\n",
              "    <path d=\"M18.56 5.44l.94 2.06.94-2.06 2.06-.94-2.06-.94-.94-2.06-.94 2.06-2.06.94zm-11 1L8.5 8.5l.94-2.06 2.06-.94-2.06-.94L8.5 2.5l-.94 2.06-2.06.94zm10 10l.94 2.06.94-2.06 2.06-.94-2.06-.94-.94-2.06-.94 2.06-2.06.94z\"/><path d=\"M17.41 7.96l-1.37-1.37c-.4-.4-.92-.59-1.43-.59-.52 0-1.04.2-1.43.59L10.3 9.45l-7.72 7.72c-.78.78-.78 2.05 0 2.83L4 21.41c.39.39.9.59 1.41.59.51 0 1.02-.2 1.41-.59l7.78-7.78 2.81-2.81c.8-.78.8-2.07 0-2.86zM5.41 20L4 18.59l7.72-7.72 1.47 1.35L5.41 20z\"/>\n",
              "  </svg>\n",
              "      </button>\n",
              "\n",
              "\n",
              "\n",
              "    <div id=\"df-9787ea55-18fc-498c-940e-5e04e08af53f\">\n",
              "      <button class=\"colab-df-quickchart\" onclick=\"quickchart('df-9787ea55-18fc-498c-940e-5e04e08af53f')\"\n",
              "              title=\"Suggest charts.\"\n",
              "              style=\"display:none;\">\n",
              "\n",
              "<svg xmlns=\"http://www.w3.org/2000/svg\" height=\"24px\"viewBox=\"0 0 24 24\"\n",
              "     width=\"24px\">\n",
              "    <g>\n",
              "        <path d=\"M19 3H5c-1.1 0-2 .9-2 2v14c0 1.1.9 2 2 2h14c1.1 0 2-.9 2-2V5c0-1.1-.9-2-2-2zM9 17H7v-7h2v7zm4 0h-2V7h2v10zm4 0h-2v-4h2v4z\"/>\n",
              "    </g>\n",
              "</svg>\n",
              "      </button>\n",
              "    </div>\n",
              "\n",
              "<style>\n",
              "  .colab-df-quickchart {\n",
              "    background-color: #E8F0FE;\n",
              "    border: none;\n",
              "    border-radius: 50%;\n",
              "    cursor: pointer;\n",
              "    display: none;\n",
              "    fill: #1967D2;\n",
              "    height: 32px;\n",
              "    padding: 0 0 0 0;\n",
              "    width: 32px;\n",
              "  }\n",
              "\n",
              "  .colab-df-quickchart:hover {\n",
              "    background-color: #E2EBFA;\n",
              "    box-shadow: 0px 1px 2px rgba(60, 64, 67, 0.3), 0px 1px 3px 1px rgba(60, 64, 67, 0.15);\n",
              "    fill: #174EA6;\n",
              "  }\n",
              "\n",
              "  [theme=dark] .colab-df-quickchart {\n",
              "    background-color: #3B4455;\n",
              "    fill: #D2E3FC;\n",
              "  }\n",
              "\n",
              "  [theme=dark] .colab-df-quickchart:hover {\n",
              "    background-color: #434B5C;\n",
              "    box-shadow: 0px 1px 3px 1px rgba(0, 0, 0, 0.15);\n",
              "    filter: drop-shadow(0px 1px 2px rgba(0, 0, 0, 0.3));\n",
              "    fill: #FFFFFF;\n",
              "  }\n",
              "</style>\n",
              "\n",
              "    <script>\n",
              "      async function quickchart(key) {\n",
              "        const containerElement = document.querySelector('#' + key);\n",
              "        const charts = await google.colab.kernel.invokeFunction(\n",
              "            'suggestCharts', [key], {});\n",
              "      }\n",
              "    </script>\n",
              "\n",
              "      <script>\n",
              "\n",
              "function displayQuickchartButton(domScope) {\n",
              "  let quickchartButtonEl =\n",
              "    domScope.querySelector('#df-9787ea55-18fc-498c-940e-5e04e08af53f button.colab-df-quickchart');\n",
              "  quickchartButtonEl.style.display =\n",
              "    google.colab.kernel.accessAllowed ? 'block' : 'none';\n",
              "}\n",
              "\n",
              "        displayQuickchartButton(document);\n",
              "      </script>\n",
              "      <style>\n",
              "    .colab-df-container {\n",
              "      display:flex;\n",
              "      flex-wrap:wrap;\n",
              "      gap: 12px;\n",
              "    }\n",
              "\n",
              "    .colab-df-convert {\n",
              "      background-color: #E8F0FE;\n",
              "      border: none;\n",
              "      border-radius: 50%;\n",
              "      cursor: pointer;\n",
              "      display: none;\n",
              "      fill: #1967D2;\n",
              "      height: 32px;\n",
              "      padding: 0 0 0 0;\n",
              "      width: 32px;\n",
              "    }\n",
              "\n",
              "    .colab-df-convert:hover {\n",
              "      background-color: #E2EBFA;\n",
              "      box-shadow: 0px 1px 2px rgba(60, 64, 67, 0.3), 0px 1px 3px 1px rgba(60, 64, 67, 0.15);\n",
              "      fill: #174EA6;\n",
              "    }\n",
              "\n",
              "    [theme=dark] .colab-df-convert {\n",
              "      background-color: #3B4455;\n",
              "      fill: #D2E3FC;\n",
              "    }\n",
              "\n",
              "    [theme=dark] .colab-df-convert:hover {\n",
              "      background-color: #434B5C;\n",
              "      box-shadow: 0px 1px 3px 1px rgba(0, 0, 0, 0.15);\n",
              "      filter: drop-shadow(0px 1px 2px rgba(0, 0, 0, 0.3));\n",
              "      fill: #FFFFFF;\n",
              "    }\n",
              "  </style>\n",
              "\n",
              "      <script>\n",
              "        const buttonEl =\n",
              "          document.querySelector('#df-5b7daf27-67cd-48e5-ae22-d86084e4c0a9 button.colab-df-convert');\n",
              "        buttonEl.style.display =\n",
              "          google.colab.kernel.accessAllowed ? 'block' : 'none';\n",
              "\n",
              "        async function convertToInteractive(key) {\n",
              "          const element = document.querySelector('#df-5b7daf27-67cd-48e5-ae22-d86084e4c0a9');\n",
              "          const dataTable =\n",
              "            await google.colab.kernel.invokeFunction('convertToInteractive',\n",
              "                                                     [key], {});\n",
              "          if (!dataTable) return;\n",
              "\n",
              "          const docLinkHtml = 'Like what you see? Visit the ' +\n",
              "            '<a target=\"_blank\" href=https://colab.research.google.com/notebooks/data_table.ipynb>data table notebook</a>'\n",
              "            + ' to learn more about interactive tables.';\n",
              "          element.innerHTML = '';\n",
              "          dataTable['output_type'] = 'display_data';\n",
              "          await google.colab.output.renderOutput(dataTable, element);\n",
              "          const docLink = document.createElement('div');\n",
              "          docLink.innerHTML = docLinkHtml;\n",
              "          element.appendChild(docLink);\n",
              "        }\n",
              "      </script>\n",
              "    </div>\n",
              "  </div>\n"
            ]
          },
          "metadata": {},
          "execution_count": 6
        }
      ],
      "source": [
        "toxic_comments.head()"
      ]
    },
    {
      "cell_type": "code",
      "execution_count": null,
      "metadata": {
        "colab": {
          "base_uri": "https://localhost:8080/",
          "height": 91
        },
        "id": "cd-QPaa0Jv7l",
        "outputId": "ed1f9d19-eb32-4e2a-b407-82f5f2e20fc9"
      },
      "outputs": [
        {
          "output_type": "display_data",
          "data": {
            "text/plain": [
              "0    143106\n",
              "1     16186\n",
              "Name: toxic, dtype: int64"
            ]
          },
          "metadata": {}
        },
        {
          "output_type": "execute_result",
          "data": {
            "text/plain": [
              "8.841344371679229"
            ]
          },
          "metadata": {},
          "execution_count": 7
        }
      ],
      "source": [
        "display(toxic_comments['toxic'].value_counts())\n",
        "class_ratio = toxic_comments['toxic'].value_counts()[0] / toxic_comments['toxic'].value_counts()[1]\n",
        "class_ratio"
      ]
    },
    {
      "cell_type": "markdown",
      "metadata": {
        "id": "1JuAtcGRJv7p"
      },
      "source": [
        "Классы несбалансированы. Отношение 1:8.84. Проведем поиск лучшего способа балансировки и сравним качество.\n",
        "\n",
        "1. Изменение весов в модели обучения\n",
        "2. Ресемплирование с уменьшением класса 0\n",
        "\n",
        "Ресемплирование с увеличением класса 1 не будем использовать из-за громоздкого набора данных."
      ]
    },
    {
      "cell_type": "markdown",
      "metadata": {
        "id": "Ui8sXMoaJv7s"
      },
      "source": [
        "Подготовим признаки и целевой признак перед обучением."
      ]
    },
    {
      "cell_type": "code",
      "execution_count": null,
      "metadata": {
        "scrolled": false,
        "colab": {
          "base_uri": "https://localhost:8080/",
          "height": 243
        },
        "id": "Het_jKjaJv7t",
        "outputId": "a7caccc4-870a-4ce1-ed29-625e6b3ad09e"
      },
      "outputs": [
        {
          "output_type": "stream",
          "name": "stdout",
          "text": [
            "CPU times: user 22min 3s, sys: 1min 35s, total: 23min 39s\n",
            "Wall time: 24min 17s\n"
          ]
        },
        {
          "output_type": "execute_result",
          "data": {
            "text/plain": [
              "   Unnamed: 0                                               text  toxic  \\\n",
              "0           0  Explanation\\nWhy the edits made under my usern...      0   \n",
              "1           1  D'aww! He matches this background colour I'm s...      0   \n",
              "2           2  Hey man, I'm really not trying to edit war. It...      0   \n",
              "3           3  \"\\nMore\\nI can't make any real suggestions on ...      0   \n",
              "4           4  You, sir, are my hero. Any chance you remember...      0   \n",
              "\n",
              "                                           lemm_text  \n",
              "0  Explanation Why the edits make under my userna...  \n",
              "1  D aww He match this background colour I m seem...  \n",
              "2  Hey man I m really not try to edit war It s ju...  \n",
              "3  More I can t make any real suggestion on impro...  \n",
              "4  You sir be my hero Any chance you remember wha...  "
            ],
            "text/html": [
              "\n",
              "\n",
              "  <div id=\"df-f913dc38-9737-4971-abeb-15d5c5bd8554\">\n",
              "    <div class=\"colab-df-container\">\n",
              "      <div>\n",
              "<style scoped>\n",
              "    .dataframe tbody tr th:only-of-type {\n",
              "        vertical-align: middle;\n",
              "    }\n",
              "\n",
              "    .dataframe tbody tr th {\n",
              "        vertical-align: top;\n",
              "    }\n",
              "\n",
              "    .dataframe thead th {\n",
              "        text-align: right;\n",
              "    }\n",
              "</style>\n",
              "<table border=\"1\" class=\"dataframe\">\n",
              "  <thead>\n",
              "    <tr style=\"text-align: right;\">\n",
              "      <th></th>\n",
              "      <th>Unnamed: 0</th>\n",
              "      <th>text</th>\n",
              "      <th>toxic</th>\n",
              "      <th>lemm_text</th>\n",
              "    </tr>\n",
              "  </thead>\n",
              "  <tbody>\n",
              "    <tr>\n",
              "      <th>0</th>\n",
              "      <td>0</td>\n",
              "      <td>Explanation\\nWhy the edits made under my usern...</td>\n",
              "      <td>0</td>\n",
              "      <td>Explanation Why the edits make under my userna...</td>\n",
              "    </tr>\n",
              "    <tr>\n",
              "      <th>1</th>\n",
              "      <td>1</td>\n",
              "      <td>D'aww! He matches this background colour I'm s...</td>\n",
              "      <td>0</td>\n",
              "      <td>D aww He match this background colour I m seem...</td>\n",
              "    </tr>\n",
              "    <tr>\n",
              "      <th>2</th>\n",
              "      <td>2</td>\n",
              "      <td>Hey man, I'm really not trying to edit war. It...</td>\n",
              "      <td>0</td>\n",
              "      <td>Hey man I m really not try to edit war It s ju...</td>\n",
              "    </tr>\n",
              "    <tr>\n",
              "      <th>3</th>\n",
              "      <td>3</td>\n",
              "      <td>\"\\nMore\\nI can't make any real suggestions on ...</td>\n",
              "      <td>0</td>\n",
              "      <td>More I can t make any real suggestion on impro...</td>\n",
              "    </tr>\n",
              "    <tr>\n",
              "      <th>4</th>\n",
              "      <td>4</td>\n",
              "      <td>You, sir, are my hero. Any chance you remember...</td>\n",
              "      <td>0</td>\n",
              "      <td>You sir be my hero Any chance you remember wha...</td>\n",
              "    </tr>\n",
              "  </tbody>\n",
              "</table>\n",
              "</div>\n",
              "      <button class=\"colab-df-convert\" onclick=\"convertToInteractive('df-f913dc38-9737-4971-abeb-15d5c5bd8554')\"\n",
              "              title=\"Convert this dataframe to an interactive table.\"\n",
              "              style=\"display:none;\">\n",
              "\n",
              "  <svg xmlns=\"http://www.w3.org/2000/svg\" height=\"24px\"viewBox=\"0 0 24 24\"\n",
              "       width=\"24px\">\n",
              "    <path d=\"M0 0h24v24H0V0z\" fill=\"none\"/>\n",
              "    <path d=\"M18.56 5.44l.94 2.06.94-2.06 2.06-.94-2.06-.94-.94-2.06-.94 2.06-2.06.94zm-11 1L8.5 8.5l.94-2.06 2.06-.94-2.06-.94L8.5 2.5l-.94 2.06-2.06.94zm10 10l.94 2.06.94-2.06 2.06-.94-2.06-.94-.94-2.06-.94 2.06-2.06.94z\"/><path d=\"M17.41 7.96l-1.37-1.37c-.4-.4-.92-.59-1.43-.59-.52 0-1.04.2-1.43.59L10.3 9.45l-7.72 7.72c-.78.78-.78 2.05 0 2.83L4 21.41c.39.39.9.59 1.41.59.51 0 1.02-.2 1.41-.59l7.78-7.78 2.81-2.81c.8-.78.8-2.07 0-2.86zM5.41 20L4 18.59l7.72-7.72 1.47 1.35L5.41 20z\"/>\n",
              "  </svg>\n",
              "      </button>\n",
              "\n",
              "\n",
              "\n",
              "    <div id=\"df-10d8f802-d16f-4d2f-ad08-0c797b683a64\">\n",
              "      <button class=\"colab-df-quickchart\" onclick=\"quickchart('df-10d8f802-d16f-4d2f-ad08-0c797b683a64')\"\n",
              "              title=\"Suggest charts.\"\n",
              "              style=\"display:none;\">\n",
              "\n",
              "<svg xmlns=\"http://www.w3.org/2000/svg\" height=\"24px\"viewBox=\"0 0 24 24\"\n",
              "     width=\"24px\">\n",
              "    <g>\n",
              "        <path d=\"M19 3H5c-1.1 0-2 .9-2 2v14c0 1.1.9 2 2 2h14c1.1 0 2-.9 2-2V5c0-1.1-.9-2-2-2zM9 17H7v-7h2v7zm4 0h-2V7h2v10zm4 0h-2v-4h2v4z\"/>\n",
              "    </g>\n",
              "</svg>\n",
              "      </button>\n",
              "    </div>\n",
              "\n",
              "<style>\n",
              "  .colab-df-quickchart {\n",
              "    background-color: #E8F0FE;\n",
              "    border: none;\n",
              "    border-radius: 50%;\n",
              "    cursor: pointer;\n",
              "    display: none;\n",
              "    fill: #1967D2;\n",
              "    height: 32px;\n",
              "    padding: 0 0 0 0;\n",
              "    width: 32px;\n",
              "  }\n",
              "\n",
              "  .colab-df-quickchart:hover {\n",
              "    background-color: #E2EBFA;\n",
              "    box-shadow: 0px 1px 2px rgba(60, 64, 67, 0.3), 0px 1px 3px 1px rgba(60, 64, 67, 0.15);\n",
              "    fill: #174EA6;\n",
              "  }\n",
              "\n",
              "  [theme=dark] .colab-df-quickchart {\n",
              "    background-color: #3B4455;\n",
              "    fill: #D2E3FC;\n",
              "  }\n",
              "\n",
              "  [theme=dark] .colab-df-quickchart:hover {\n",
              "    background-color: #434B5C;\n",
              "    box-shadow: 0px 1px 3px 1px rgba(0, 0, 0, 0.15);\n",
              "    filter: drop-shadow(0px 1px 2px rgba(0, 0, 0, 0.3));\n",
              "    fill: #FFFFFF;\n",
              "  }\n",
              "</style>\n",
              "\n",
              "    <script>\n",
              "      async function quickchart(key) {\n",
              "        const containerElement = document.querySelector('#' + key);\n",
              "        const charts = await google.colab.kernel.invokeFunction(\n",
              "            'suggestCharts', [key], {});\n",
              "      }\n",
              "    </script>\n",
              "\n",
              "      <script>\n",
              "\n",
              "function displayQuickchartButton(domScope) {\n",
              "  let quickchartButtonEl =\n",
              "    domScope.querySelector('#df-10d8f802-d16f-4d2f-ad08-0c797b683a64 button.colab-df-quickchart');\n",
              "  quickchartButtonEl.style.display =\n",
              "    google.colab.kernel.accessAllowed ? 'block' : 'none';\n",
              "}\n",
              "\n",
              "        displayQuickchartButton(document);\n",
              "      </script>\n",
              "      <style>\n",
              "    .colab-df-container {\n",
              "      display:flex;\n",
              "      flex-wrap:wrap;\n",
              "      gap: 12px;\n",
              "    }\n",
              "\n",
              "    .colab-df-convert {\n",
              "      background-color: #E8F0FE;\n",
              "      border: none;\n",
              "      border-radius: 50%;\n",
              "      cursor: pointer;\n",
              "      display: none;\n",
              "      fill: #1967D2;\n",
              "      height: 32px;\n",
              "      padding: 0 0 0 0;\n",
              "      width: 32px;\n",
              "    }\n",
              "\n",
              "    .colab-df-convert:hover {\n",
              "      background-color: #E2EBFA;\n",
              "      box-shadow: 0px 1px 2px rgba(60, 64, 67, 0.3), 0px 1px 3px 1px rgba(60, 64, 67, 0.15);\n",
              "      fill: #174EA6;\n",
              "    }\n",
              "\n",
              "    [theme=dark] .colab-df-convert {\n",
              "      background-color: #3B4455;\n",
              "      fill: #D2E3FC;\n",
              "    }\n",
              "\n",
              "    [theme=dark] .colab-df-convert:hover {\n",
              "      background-color: #434B5C;\n",
              "      box-shadow: 0px 1px 3px 1px rgba(0, 0, 0, 0.15);\n",
              "      filter: drop-shadow(0px 1px 2px rgba(0, 0, 0, 0.3));\n",
              "      fill: #FFFFFF;\n",
              "    }\n",
              "  </style>\n",
              "\n",
              "      <script>\n",
              "        const buttonEl =\n",
              "          document.querySelector('#df-f913dc38-9737-4971-abeb-15d5c5bd8554 button.colab-df-convert');\n",
              "        buttonEl.style.display =\n",
              "          google.colab.kernel.accessAllowed ? 'block' : 'none';\n",
              "\n",
              "        async function convertToInteractive(key) {\n",
              "          const element = document.querySelector('#df-f913dc38-9737-4971-abeb-15d5c5bd8554');\n",
              "          const dataTable =\n",
              "            await google.colab.kernel.invokeFunction('convertToInteractive',\n",
              "                                                     [key], {});\n",
              "          if (!dataTable) return;\n",
              "\n",
              "          const docLinkHtml = 'Like what you see? Visit the ' +\n",
              "            '<a target=\"_blank\" href=https://colab.research.google.com/notebooks/data_table.ipynb>data table notebook</a>'\n",
              "            + ' to learn more about interactive tables.';\n",
              "          element.innerHTML = '';\n",
              "          dataTable['output_type'] = 'display_data';\n",
              "          await google.colab.output.renderOutput(dataTable, element);\n",
              "          const docLink = document.createElement('div');\n",
              "          docLink.innerHTML = docLinkHtml;\n",
              "          element.appendChild(docLink);\n",
              "        }\n",
              "      </script>\n",
              "    </div>\n",
              "  </div>\n"
            ]
          },
          "metadata": {},
          "execution_count": 8
        }
      ],
      "source": [
        "%%time\n",
        "\n",
        "def get_wordnet_pos(word):\n",
        "    tag = nltk.pos_tag([word])[0][1][0].upper()\n",
        "    tag_dict = {\"J\": wordnet.ADJ,               #прилагательное\n",
        "                \"N\": wordnet.NOUN,              #существительное\n",
        "                \"V\": wordnet.VERB,              #глагол\n",
        "                \"R\": wordnet.ADV                #наречие\n",
        "               }\n",
        "    return tag_dict.get(tag, wordnet.NOUN)\n",
        "\n",
        "\n",
        "\n",
        "def lemmatize_text(text):\n",
        "\n",
        "    m = WordNetLemmatizer()\n",
        "\n",
        "    lemm_list = [m.lemmatize(w, get_wordnet_pos(w)) for w in nltk.word_tokenize(text)]\n",
        "    lemm_text = \" \".join(lemm_list)\n",
        "\n",
        "    return lemm_text\n",
        "\n",
        "def clear_text(text):\n",
        "\n",
        "    return \" \".join(re.sub(r'[^a-zA-Z]', ' ', text).split())\n",
        "\n",
        "\n",
        "toxic_comments['lemm_text']= toxic_comments['text'].apply(lambda x: lemmatize_text(clear_text(x)))\n",
        "\n",
        "toxic_comments.head()"
      ]
    },
    {
      "cell_type": "markdown",
      "metadata": {
        "id": "p1YseRHwJv72"
      },
      "source": [
        "Разобьем выборку по отношению 60/20/20. Уменьшим количество кроссвалидаций до 3 из-за размера выборки."
      ]
    },
    {
      "cell_type": "code",
      "source": [
        "nltk.download('stopwords')\n",
        "stopwords = list(nltk_stopwords.words('english'))"
      ],
      "metadata": {
        "colab": {
          "base_uri": "https://localhost:8080/"
        },
        "id": "r7kamxSvSTvG",
        "outputId": "c5696d40-e691-42b2-8f0f-351be782bc9c"
      },
      "execution_count": null,
      "outputs": [
        {
          "output_type": "stream",
          "name": "stderr",
          "text": [
            "[nltk_data] Downloading package stopwords to /root/nltk_data...\n",
            "[nltk_data]   Package stopwords is already up-to-date!\n"
          ]
        }
      ]
    },
    {
      "cell_type": "code",
      "execution_count": null,
      "metadata": {
        "colab": {
          "base_uri": "https://localhost:8080/"
        },
        "id": "AbKegDFZJv72",
        "outputId": "28bcb73b-9101-4fde-8ffc-f04803debd3a"
      },
      "outputs": [
        {
          "output_type": "stream",
          "name": "stdout",
          "text": [
            "(95575, 117958)\n",
            "(31858, 117958)\n",
            "(31859, 117958)\n"
          ]
        }
      ],
      "source": [
        "target = toxic_comments['toxic']\n",
        "features = toxic_comments.drop(['toxic'], axis=1)\n",
        "\n",
        "features_train, features_valid, target_train, target_valid = train_test_split(features,\n",
        "                                                                              target,\n",
        "                                                                              test_size=0.4,\n",
        "                                                                              random_state=12082020)\n",
        "features_valid, features_test, target_valid, target_test = train_test_split(features_valid,\n",
        "                                                                            target_valid,\n",
        "                                                                            test_size=0.5,\n",
        "                                                                            random_state=12082020)\n",
        "\n",
        "count_tf_idf = TfidfVectorizer(stop_words=stopwords)\n",
        "\n",
        "features_train = count_tf_idf.fit_transform(features_train['lemm_text'].values)\n",
        "features_valid = count_tf_idf.transform(features_valid['lemm_text'].values)\n",
        "features_test = count_tf_idf.transform(features_test['lemm_text'].values)\n",
        "print(features_train.shape)\n",
        "print(features_valid.shape)\n",
        "print(features_test.shape)\n",
        "cv_counts = 3"
      ]
    },
    {
      "cell_type": "code",
      "execution_count": null,
      "metadata": {
        "colab": {
          "base_uri": "https://localhost:8080/"
        },
        "id": "VtfctXEGJv76",
        "outputId": "51c01a8c-6fcd-4016-9430-c4e7d1bcbc97"
      },
      "outputs": [
        {
          "output_type": "stream",
          "name": "stdout",
          "text": [
            "F1 на CV 0.6800956984664874\n",
            "CPU times: user 13.3 s, sys: 15.4 s, total: 28.7 s\n",
            "Wall time: 16.5 s\n"
          ]
        }
      ],
      "source": [
        "%%time\n",
        "\n",
        "classificator = LogisticRegression(random_state = 12345)\n",
        "train_f1 = cross_val_score(classificator,\n",
        "                      features_train,\n",
        "                      target_train,\n",
        "                      cv=cv_counts,\n",
        "                      scoring='f1').mean()\n",
        "print('F1 на CV', train_f1)"
      ]
    },
    {
      "cell_type": "markdown",
      "metadata": {
        "id": "zliYICFwJv79"
      },
      "source": [
        "### Изменение баланса классов"
      ]
    },
    {
      "cell_type": "markdown",
      "metadata": {
        "id": "K4O34E1oJv7-"
      },
      "source": [
        "#### Изменение весов классов"
      ]
    },
    {
      "cell_type": "code",
      "execution_count": null,
      "metadata": {
        "colab": {
          "base_uri": "https://localhost:8080/"
        },
        "id": "zwzJ423QJv8D",
        "outputId": "12468bf5-4829-4257-b0e6-7f55dc112bed"
      },
      "outputs": [
        {
          "output_type": "stream",
          "name": "stdout",
          "text": [
            "F1 на CV с балансированными классами 0.7481004418846742\n",
            "CPU times: user 16.5 s, sys: 19.8 s, total: 36.2 s\n",
            "Wall time: 21.6 s\n"
          ]
        }
      ],
      "source": [
        "%%time\n",
        "\n",
        "dict_classes={0:1, 1:class_ratio}\n",
        "classificator = LogisticRegression(class_weight=dict_classes, random_state = 12345)\n",
        "train_f1_ballanced = cross_val_score(classificator,\n",
        "                                    features_train,\n",
        "                                    target_train,\n",
        "                                    cv=cv_counts,\n",
        "                                    scoring='f1').mean()\n",
        "print('F1 на CV с балансированными классами', train_f1_ballanced)"
      ]
    },
    {
      "cell_type": "code",
      "execution_count": null,
      "metadata": {
        "colab": {
          "base_uri": "https://localhost:8080/"
        },
        "id": "neeS2D40Jv8E",
        "outputId": "352ccd77-85d1-4fbe-8722-a8f31657fb26"
      },
      "outputs": [
        {
          "output_type": "stream",
          "name": "stdout",
          "text": [
            "F1 на CV с балансированными классами 0.7481004418846742\n",
            "CPU times: user 9.71 s, sys: 11.1 s, total: 20.8 s\n",
            "Wall time: 12.3 s\n"
          ]
        }
      ],
      "source": [
        "%%time\n",
        "\n",
        "classificator = LogisticRegression(class_weight='balanced', random_state = 12345)\n",
        "train_f1_balanced = cross_val_score(classificator,\n",
        "                                    features_train,\n",
        "                                    target_train,\n",
        "                                    cv=cv_counts,\n",
        "                                    scoring='f1').mean()\n",
        "print('F1 на CV с балансированными классами', train_f1_ballanced)"
      ]
    },
    {
      "cell_type": "markdown",
      "metadata": {
        "id": "UR5IPMLUJv8F"
      },
      "source": [
        "Как видно на обучающей выборке F1-мера увеличилась. Встроенный метод повторяет значение F1."
      ]
    },
    {
      "cell_type": "markdown",
      "metadata": {
        "id": "Cch6CAvQJv8G"
      },
      "source": [
        "#### Ресемплирование с уменьшением класса 0"
      ]
    },
    {
      "cell_type": "markdown",
      "metadata": {
        "id": "y02f9hXlJv8G"
      },
      "source": [
        "Сделаем количество записей с классом 0 таким же, как и количество записей с классом 1."
      ]
    },
    {
      "cell_type": "code",
      "execution_count": null,
      "metadata": {
        "id": "_MXLwUBoJv8H"
      },
      "outputs": [],
      "source": [
        "toxic_comments_train = toxic_comments.iloc[target_train.index]\n",
        "\n",
        "target_train_class_zero = toxic_comments_train[toxic_comments_train['toxic'] == 0]['toxic']\n",
        "target_train_class_one = toxic_comments_train[toxic_comments_train['toxic'] == 1]['toxic']"
      ]
    },
    {
      "cell_type": "code",
      "execution_count": null,
      "metadata": {
        "id": "b9xE_fSDJv8I"
      },
      "outputs": [],
      "source": [
        "target_train_class_zero_downsample = target_train_class_zero.sample(target_train_class_one.shape[0],\n",
        "                                                                    random_state=12082020)\n",
        "target_train_downsample = pd.concat([target_train_class_zero_downsample, target_train_class_one])\n",
        "\n",
        "features_train_downsample = toxic_comments.iloc[target_train_downsample.index]\n",
        "features_train_downsample, target_train_downsample = shuffle(features_train_downsample,\n",
        "                                                             target_train_downsample,\n",
        "                                                             random_state=12082020)\n",
        "features_train_downsample = count_tf_idf.transform(features_train_downsample['lemm_text']\n",
        "                                                   .values.astype('U'))\n",
        "del count_tf_idf\n",
        "del stopwords"
      ]
    },
    {
      "cell_type": "code",
      "execution_count": null,
      "metadata": {
        "colab": {
          "base_uri": "https://localhost:8080/"
        },
        "id": "wVdNMUyEJv8J",
        "outputId": "38dfb449-ba9b-4eac-baa8-2dfbea53b379"
      },
      "outputs": [
        {
          "output_type": "stream",
          "name": "stdout",
          "text": [
            "F1 на CV с уменьшением классов 0.8820067126091634\n"
          ]
        }
      ],
      "source": [
        "classificator = LogisticRegression()\n",
        "train_f1_downsampled = cross_val_score(classificator,\n",
        "                      features_train_downsample,\n",
        "                      target_train_downsample,\n",
        "                      cv=cv_counts,\n",
        "                      scoring='f1').mean()\n",
        "print('F1 на CV с уменьшением классов', train_f1_downsampled)"
      ]
    },
    {
      "cell_type": "markdown",
      "metadata": {
        "id": "kMSjB-e_Jv8K"
      },
      "source": [
        "Прирост F1-меры ощутимый."
      ]
    },
    {
      "cell_type": "markdown",
      "metadata": {
        "id": "FKiQWCw2Jv8L"
      },
      "source": [
        "Построим ROC-AUC графики и просмотрим таблицу результатов баллансирования."
      ]
    },
    {
      "cell_type": "code",
      "execution_count": null,
      "metadata": {
        "colab": {
          "base_uri": "https://localhost:8080/",
          "height": 795
        },
        "id": "ndg49L_gJv8M",
        "outputId": "da437bcf-ce61-4f08-9f36-c686e3c06a16"
      },
      "outputs": [
        {
          "output_type": "display_data",
          "data": {
            "text/plain": [
              "<Figure size 1200x900 with 1 Axes>"
            ],
            "image/png": "[encoded data removed]"
          },
          "metadata": {}
        }
      ],
      "source": [
        "plt.figure(figsize=[12,9])\n",
        "\n",
        "plt.plot([0, 1], [0, 1], linestyle='--', label='RandomModel')\n",
        "\n",
        "\n",
        "classificator = LogisticRegression(random_state = 12345)\n",
        "classificator.fit(features_train, target_train)\n",
        "probabilities_valid = classificator.predict_proba(features_valid)\n",
        "probabilities_one_valid = probabilities_valid[:, 1]\n",
        "fpr, tpr, thresholds = roc_curve(target_valid, probabilities_one_valid)\n",
        "auc_roc = roc_auc_score(target_valid, probabilities_one_valid)\n",
        "valid_f1 = f1_score(target_valid, classificator.predict(features_valid))\n",
        "plt.plot(fpr, tpr, label='LR')\n",
        "\n",
        "classificator = LogisticRegression(class_weight=dict_classes, random_state = 12345)\n",
        "classificator.fit(features_train, target_train)\n",
        "probabilities_valid = classificator.predict_proba(features_valid)\n",
        "probabilities_one_valid = probabilities_valid[:, 1]\n",
        "fpr, tpr, thresholds = roc_curve(target_valid, probabilities_one_valid)\n",
        "auc_roc_balanced = roc_auc_score(target_valid, probabilities_one_valid)\n",
        "valid_f1_balanced = f1_score(target_valid, classificator.predict(features_valid))\n",
        "plt.plot(fpr, tpr, label='LR balansed classes')\n",
        "\n",
        "classificator = LogisticRegression(random_state = 12345)\n",
        "classificator.fit(features_train_downsample,target_train_downsample)\n",
        "probabilities_valid = classificator.predict_proba(features_valid)\n",
        "probabilities_one_valid = probabilities_valid[:, 1]\n",
        "fpr, tpr, thresholds = roc_curve(target_valid, probabilities_one_valid)\n",
        "auc_roc_downsampled = roc_auc_score(target_valid, probabilities_one_valid)\n",
        "valid_f1_downsampled = f1_score(target_valid, classificator.predict(features_valid))\n",
        "plt.plot(fpr, tpr, label='LR downsampled classes')\n",
        "\n",
        "plt.xlim([0,1])\n",
        "plt.ylim([0,1])\n",
        "\n",
        "plt.xlabel(\"False Positive Rate\")\n",
        "plt.ylabel(\"True Positive Rate\")\n",
        "\n",
        "plt.legend(loc='lower right', fontsize='x-large')\n",
        "\n",
        "plt.title(\"ROC-кривая\")\n",
        "plt.show()"
      ]
    },
    {
      "cell_type": "code",
      "execution_count": null,
      "metadata": {
        "colab": {
          "base_uri": "https://localhost:8080/",
          "height": 143
        },
        "id": "mq24w3muJv8O",
        "outputId": "d620bd1f-6748-4115-a485-ebc9ab7b8602"
      },
      "outputs": [
        {
          "output_type": "execute_result",
          "data": {
            "text/plain": [
              "                        F1 на CV  F1 на валидации   AUC-ROC\n",
              "LogisticRegression      0.680096         0.719011  0.967503\n",
              "LR balansed classes     0.740004         0.741869  0.968922\n",
              "LR downsampled classes  0.882007         0.674083  0.960124"
            ],
            "text/html": [
              "\n",
              "\n",
              "  <div id=\"df-78a73215-05b7-4897-bdd5-ea6373c6f639\">\n",
              "    <div class=\"colab-df-container\">\n",
              "      <div>\n",
              "<style scoped>\n",
              "    .dataframe tbody tr th:only-of-type {\n",
              "        vertical-align: middle;\n",
              "    }\n",
              "\n",
              "    .dataframe tbody tr th {\n",
              "        vertical-align: top;\n",
              "    }\n",
              "\n",
              "    .dataframe thead th {\n",
              "        text-align: right;\n",
              "    }\n",
              "</style>\n",
              "<table border=\"1\" class=\"dataframe\">\n",
              "  <thead>\n",
              "    <tr style=\"text-align: right;\">\n",
              "      <th></th>\n",
              "      <th>F1 на CV</th>\n",
              "      <th>F1 на валидации</th>\n",
              "      <th>AUC-ROC</th>\n",
              "    </tr>\n",
              "  </thead>\n",
              "  <tbody>\n",
              "    <tr>\n",
              "      <th>LogisticRegression</th>\n",
              "      <td>0.680096</td>\n",
              "      <td>0.719011</td>\n",
              "      <td>0.967503</td>\n",
              "    </tr>\n",
              "    <tr>\n",
              "      <th>LR balansed classes</th>\n",
              "      <td>0.740004</td>\n",
              "      <td>0.741869</td>\n",
              "      <td>0.968922</td>\n",
              "    </tr>\n",
              "    <tr>\n",
              "      <th>LR downsampled classes</th>\n",
              "      <td>0.882007</td>\n",
              "      <td>0.674083</td>\n",
              "      <td>0.960124</td>\n",
              "    </tr>\n",
              "  </tbody>\n",
              "</table>\n",
              "</div>\n",
              "      <button class=\"colab-df-convert\" onclick=\"convertToInteractive('df-78a73215-05b7-4897-bdd5-ea6373c6f639')\"\n",
              "              title=\"Convert this dataframe to an interactive table.\"\n",
              "              style=\"display:none;\">\n",
              "\n",
              "  <svg xmlns=\"http://www.w3.org/2000/svg\" height=\"24px\"viewBox=\"0 0 24 24\"\n",
              "       width=\"24px\">\n",
              "    <path d=\"M0 0h24v24H0V0z\" fill=\"none\"/>\n",
              "    <path d=\"M18.56 5.44l.94 2.06.94-2.06 2.06-.94-2.06-.94-.94-2.06-.94 2.06-2.06.94zm-11 1L8.5 8.5l.94-2.06 2.06-.94-2.06-.94L8.5 2.5l-.94 2.06-2.06.94zm10 10l.94 2.06.94-2.06 2.06-.94-2.06-.94-.94-2.06-.94 2.06-2.06.94z\"/><path d=\"M17.41 7.96l-1.37-1.37c-.4-.4-.92-.59-1.43-.59-.52 0-1.04.2-1.43.59L10.3 9.45l-7.72 7.72c-.78.78-.78 2.05 0 2.83L4 21.41c.39.39.9.59 1.41.59.51 0 1.02-.2 1.41-.59l7.78-7.78 2.81-2.81c.8-.78.8-2.07 0-2.86zM5.41 20L4 18.59l7.72-7.72 1.47 1.35L5.41 20z\"/>\n",
              "  </svg>\n",
              "      </button>\n",
              "\n",
              "\n",
              "\n",
              "    <div id=\"df-24b4c628-93ad-4d79-b64a-9df08996eaec\">\n",
              "      <button class=\"colab-df-quickchart\" onclick=\"quickchart('df-24b4c628-93ad-4d79-b64a-9df08996eaec')\"\n",
              "              title=\"Suggest charts.\"\n",
              "              style=\"display:none;\">\n",
              "\n",
              "<svg xmlns=\"http://www.w3.org/2000/svg\" height=\"24px\"viewBox=\"0 0 24 24\"\n",
              "     width=\"24px\">\n",
              "    <g>\n",
              "        <path d=\"M19 3H5c-1.1 0-2 .9-2 2v14c0 1.1.9 2 2 2h14c1.1 0 2-.9 2-2V5c0-1.1-.9-2-2-2zM9 17H7v-7h2v7zm4 0h-2V7h2v10zm4 0h-2v-4h2v4z\"/>\n",
              "    </g>\n",
              "</svg>\n",
              "      </button>\n",
              "    </div>\n",
              "\n",
              "<style>\n",
              "  .colab-df-quickchart {\n",
              "    background-color: #E8F0FE;\n",
              "    border: none;\n",
              "    border-radius: 50%;\n",
              "    cursor: pointer;\n",
              "    display: none;\n",
              "    fill: #1967D2;\n",
              "    height: 32px;\n",
              "    padding: 0 0 0 0;\n",
              "    width: 32px;\n",
              "  }\n",
              "\n",
              "  .colab-df-quickchart:hover {\n",
              "    background-color: #E2EBFA;\n",
              "    box-shadow: 0px 1px 2px rgba(60, 64, 67, 0.3), 0px 1px 3px 1px rgba(60, 64, 67, 0.15);\n",
              "    fill: #174EA6;\n",
              "  }\n",
              "\n",
              "  [theme=dark] .colab-df-quickchart {\n",
              "    background-color: #3B4455;\n",
              "    fill: #D2E3FC;\n",
              "  }\n",
              "\n",
              "  [theme=dark] .colab-df-quickchart:hover {\n",
              "    background-color: #434B5C;\n",
              "    box-shadow: 0px 1px 3px 1px rgba(0, 0, 0, 0.15);\n",
              "    filter: drop-shadow(0px 1px 2px rgba(0, 0, 0, 0.3));\n",
              "    fill: #FFFFFF;\n",
              "  }\n",
              "</style>\n",
              "\n",
              "    <script>\n",
              "      async function quickchart(key) {\n",
              "        const containerElement = document.querySelector('#' + key);\n",
              "        const charts = await google.colab.kernel.invokeFunction(\n",
              "            'suggestCharts', [key], {});\n",
              "      }\n",
              "    </script>\n",
              "\n",
              "      <script>\n",
              "\n",
              "function displayQuickchartButton(domScope) {\n",
              "  let quickchartButtonEl =\n",
              "    domScope.querySelector('#df-24b4c628-93ad-4d79-b64a-9df08996eaec button.colab-df-quickchart');\n",
              "  quickchartButtonEl.style.display =\n",
              "    google.colab.kernel.accessAllowed ? 'block' : 'none';\n",
              "}\n",
              "\n",
              "        displayQuickchartButton(document);\n",
              "      </script>\n",
              "      <style>\n",
              "    .colab-df-container {\n",
              "      display:flex;\n",
              "      flex-wrap:wrap;\n",
              "      gap: 12px;\n",
              "    }\n",
              "\n",
              "    .colab-df-convert {\n",
              "      background-color: #E8F0FE;\n",
              "      border: none;\n",
              "      border-radius: 50%;\n",
              "      cursor: pointer;\n",
              "      display: none;\n",
              "      fill: #1967D2;\n",
              "      height: 32px;\n",
              "      padding: 0 0 0 0;\n",
              "      width: 32px;\n",
              "    }\n",
              "\n",
              "    .colab-df-convert:hover {\n",
              "      background-color: #E2EBFA;\n",
              "      box-shadow: 0px 1px 2px rgba(60, 64, 67, 0.3), 0px 1px 3px 1px rgba(60, 64, 67, 0.15);\n",
              "      fill: #174EA6;\n",
              "    }\n",
              "\n",
              "    [theme=dark] .colab-df-convert {\n",
              "      background-color: #3B4455;\n",
              "      fill: #D2E3FC;\n",
              "    }\n",
              "\n",
              "    [theme=dark] .colab-df-convert:hover {\n",
              "      background-color: #434B5C;\n",
              "      box-shadow: 0px 1px 3px 1px rgba(0, 0, 0, 0.15);\n",
              "      filter: drop-shadow(0px 1px 2px rgba(0, 0, 0, 0.3));\n",
              "      fill: #FFFFFF;\n",
              "    }\n",
              "  </style>\n",
              "\n",
              "      <script>\n",
              "        const buttonEl =\n",
              "          document.querySelector('#df-78a73215-05b7-4897-bdd5-ea6373c6f639 button.colab-df-convert');\n",
              "        buttonEl.style.display =\n",
              "          google.colab.kernel.accessAllowed ? 'block' : 'none';\n",
              "\n",
              "        async function convertToInteractive(key) {\n",
              "          const element = document.querySelector('#df-78a73215-05b7-4897-bdd5-ea6373c6f639');\n",
              "          const dataTable =\n",
              "            await google.colab.kernel.invokeFunction('convertToInteractive',\n",
              "                                                     [key], {});\n",
              "          if (!dataTable) return;\n",
              "\n",
              "          const docLinkHtml = 'Like what you see? Visit the ' +\n",
              "            '<a target=\"_blank\" href=https://colab.research.google.com/notebooks/data_table.ipynb>data table notebook</a>'\n",
              "            + ' to learn more about interactive tables.';\n",
              "          element.innerHTML = '';\n",
              "          dataTable['output_type'] = 'display_data';\n",
              "          await google.colab.output.renderOutput(dataTable, element);\n",
              "          const docLink = document.createElement('div');\n",
              "          docLink.innerHTML = docLinkHtml;\n",
              "          element.appendChild(docLink);\n",
              "        }\n",
              "      </script>\n",
              "    </div>\n",
              "  </div>\n"
            ]
          },
          "metadata": {},
          "execution_count": 27
        }
      ],
      "source": [
        "index = ['LogisticRegression',\n",
        "         'LR balansed classes',\n",
        "         'LR downsampled classes']\n",
        "data = {'F1 на CV':[train_f1,\n",
        "                    train_f1_balanced,\n",
        "                    train_f1_downsampled],\n",
        "        'F1 на валидации':[valid_f1,\n",
        "                           valid_f1_balanced,\n",
        "                           valid_f1_downsampled],\n",
        "        'AUC-ROC':[auc_roc,\n",
        "                   auc_roc_balanced,\n",
        "                   auc_roc_downsampled]}\n",
        "\n",
        "scores_data = pd.DataFrame(data=data, index=index)\n",
        "scores_data"
      ]
    },
    {
      "cell_type": "markdown",
      "metadata": {
        "id": "rK-V321PJv8U"
      },
      "source": [
        "Выберем метод балансировки по весу. Удалим ненужные переменные."
      ]
    },
    {
      "cell_type": "code",
      "execution_count": null,
      "metadata": {
        "id": "tBzsif-5Jv8V"
      },
      "outputs": [],
      "source": [
        "del toxic_comments_train\n",
        "del target_train_class_zero\n",
        "del target_train_class_one\n",
        "del target_train_class_zero_downsample\n",
        "del target_train_downsample\n",
        "del features_train_downsample"
      ]
    },
    {
      "cell_type": "markdown",
      "metadata": {
        "id": "5TYhns8bJv8W"
      },
      "source": [
        "### Вывод по шагу 1\n",
        "\n",
        "В ходе преподготовки были получены признаки для обучения и разделена выборка на обучающую, валидационную и тестовую.\n",
        "\n",
        "На тестировании оптимальными показателями F1 и AUC-ROC обладает классификатор, где учтен вес классов. В обучении мы будем использовать именно этот метод балансирования."
      ]
    },
    {
      "cell_type": "markdown",
      "metadata": {
        "id": "so5ekdEoJv8X"
      },
      "source": [
        "## Обучение"
      ]
    },
    {
      "cell_type": "markdown",
      "metadata": {
        "id": "1_ALYmTDJv8Y"
      },
      "source": [
        "Для обучения выберем следующие модели:\n",
        "\n",
        "1. LogisticRegression\n",
        "2. DecisionTreeClassifier\n",
        "3. CatBoostClassifier\n",
        "4. SGDClassifier"
      ]
    },
    {
      "cell_type": "markdown",
      "metadata": {
        "id": "oXunZ_w7Jv8Z"
      },
      "source": [
        "### Классификатор LogisticRegression"
      ]
    },
    {
      "cell_type": "code",
      "execution_count": null,
      "metadata": {
        "colab": {
          "base_uri": "https://localhost:8080/"
        },
        "id": "GdDxMyZZJv8a",
        "outputId": "1713ba40-2240-4ec6-9663-6e7be552b245"
      },
      "outputs": [
        {
          "output_type": "stream",
          "name": "stdout",
          "text": [
            "# Tuning hyper-parameters for f1_score\n",
            "\n",
            "Best parameters set found on development set:\n",
            "\n",
            "{'C': 10, 'class_weight': {0: 1, 1: 8.841344371679229}, 'solver': 'lbfgs'}\n",
            "\n",
            "Grid scores on development set:\n",
            "\n",
            "0.705859 for {'C': 0.1, 'class_weight': {0: 1, 1: 8.841344371679229}, 'solver': 'newton-cg'}\n",
            "0.705917 for {'C': 0.1, 'class_weight': {0: 1, 1: 8.841344371679229}, 'solver': 'lbfgs'}\n",
            "0.705942 for {'C': 0.1, 'class_weight': {0: 1, 1: 8.841344371679229}, 'solver': 'liblinear'}\n",
            "0.747925 for {'C': 1, 'class_weight': {0: 1, 1: 8.841344371679229}, 'solver': 'newton-cg'}\n",
            "0.748100 for {'C': 1, 'class_weight': {0: 1, 1: 8.841344371679229}, 'solver': 'lbfgs'}\n",
            "0.747890 for {'C': 1, 'class_weight': {0: 1, 1: 8.841344371679229}, 'solver': 'liblinear'}\n",
            "0.754327 for {'C': 10, 'class_weight': {0: 1, 1: 8.841344371679229}, 'solver': 'newton-cg'}\n",
            "0.755008 for {'C': 10, 'class_weight': {0: 1, 1: 8.841344371679229}, 'solver': 'lbfgs'}\n",
            "0.754289 for {'C': 10, 'class_weight': {0: 1, 1: 8.841344371679229}, 'solver': 'liblinear'}\n",
            "\n",
            "CPU times: user 1min 35s, sys: 1min 29s, total: 3min 4s\n",
            "Wall time: 1min 54s\n"
          ]
        }
      ],
      "source": [
        "%%time\n",
        "\n",
        "classificator = LogisticRegression(random_state = 12345)\n",
        "hyperparams = [{'solver':['newton-cg', 'lbfgs', 'liblinear'],\n",
        "                'C':[0.1, 1, 10],\n",
        "                'class_weight':[dict_classes]}]\n",
        "\n",
        "\n",
        "print('# Tuning hyper-parameters for f1_score')\n",
        "print()\n",
        "clf = GridSearchCV(classificator, hyperparams, scoring='f1',cv=cv_counts)\n",
        "clf.fit(features_train, target_train)\n",
        "print(\"Best parameters set found on development set:\")\n",
        "print()\n",
        "LR_best_params = clf.best_params_\n",
        "print(LR_best_params)\n",
        "print()\n",
        "print(\"Grid scores on development set:\")\n",
        "print()\n",
        "means = clf.cv_results_['mean_test_score']\n",
        "stds = clf.cv_results_['std_test_score']\n",
        "for mean, std, params in zip(means, stds, clf.cv_results_['params']):\n",
        "    print(\"%0.6f for %r\"% (mean, params))\n",
        "print()\n",
        "\n",
        "cv_f1_LR = max(means)"
      ]
    },
    {
      "cell_type": "markdown",
      "metadata": {
        "id": "SGiMthqfJv8b"
      },
      "source": [
        "\n"
      ]
    },
    {
      "cell_type": "code",
      "execution_count": null,
      "metadata": {
        "colab": {
          "base_uri": "https://localhost:8080/"
        },
        "id": "xwYH31CkJv8d",
        "outputId": "621714a8-0545-4d22-beab-bfadf8589ff1"
      },
      "outputs": [
        {
          "output_type": "stream",
          "name": "stdout",
          "text": [
            "F1 на cv 0.7550084981725297\n",
            "F1 на валидации 0.7538439010103968\n",
            "CPU times: user 7.68 s, sys: 9.04 s, total: 16.7 s\n",
            "Wall time: 11.7 s\n"
          ]
        }
      ],
      "source": [
        "%%time\n",
        "\n",
        "classificator = LogisticRegression()\n",
        "classificator.set_params(**LR_best_params)\n",
        "classificator.fit(features_train, target_train)\n",
        "target_predict = classificator.predict(features_valid)\n",
        "valid_f1_LR = f1_score(target_valid, target_predict)\n",
        "print('F1 на cv', cv_f1_LR)\n",
        "print('F1 на валидации', valid_f1_LR)"
      ]
    },
    {
      "cell_type": "markdown",
      "metadata": {
        "id": "UU8ZHd8lJv8f"
      },
      "source": [
        "### Классификатор DecisionTreeClassifier"
      ]
    },
    {
      "cell_type": "code",
      "execution_count": null,
      "metadata": {
        "colab": {
          "base_uri": "https://localhost:8080/"
        },
        "id": "aBz94bgUJv8k",
        "outputId": "a2702238-5bb8-451c-bda8-2db9b731505c"
      },
      "outputs": [
        {
          "output_type": "stream",
          "name": "stdout",
          "text": [
            "# Tuning hyper-parameters for f1_score\n",
            "\n",
            "Best parameters set found on development set:\n",
            "\n",
            "{'class_weight': {0: 1, 1: 8.841344371679229}, 'max_depth': 48, 'random_state': 12082020}\n",
            "\n",
            "Grid scores on development set:\n",
            "\n",
            "0.604490 for {'class_weight': {0: 1, 1: 8.841344371679229}, 'max_depth': 30, 'random_state': 12082020}\n",
            "0.608706 for {'class_weight': {0: 1, 1: 8.841344371679229}, 'max_depth': 32, 'random_state': 12082020}\n",
            "0.615073 for {'class_weight': {0: 1, 1: 8.841344371679229}, 'max_depth': 34, 'random_state': 12082020}\n",
            "0.592718 for {'class_weight': {0: 1, 1: 8.841344371679229}, 'max_depth': 36, 'random_state': 12082020}\n",
            "0.599792 for {'class_weight': {0: 1, 1: 8.841344371679229}, 'max_depth': 38, 'random_state': 12082020}\n",
            "0.601229 for {'class_weight': {0: 1, 1: 8.841344371679229}, 'max_depth': 40, 'random_state': 12082020}\n",
            "0.609520 for {'class_weight': {0: 1, 1: 8.841344371679229}, 'max_depth': 42, 'random_state': 12082020}\n",
            "0.614677 for {'class_weight': {0: 1, 1: 8.841344371679229}, 'max_depth': 44, 'random_state': 12082020}\n",
            "0.612649 for {'class_weight': {0: 1, 1: 8.841344371679229}, 'max_depth': 46, 'random_state': 12082020}\n",
            "0.615755 for {'class_weight': {0: 1, 1: 8.841344371679229}, 'max_depth': 48, 'random_state': 12082020}\n",
            "0.607827 for {'class_weight': {0: 1, 1: 8.841344371679229}, 'max_depth': 50, 'random_state': 12082020}\n",
            "\n",
            "CPU times: user 15min 56s, sys: 1.38 s, total: 15min 57s\n",
            "Wall time: 16min 4s\n"
          ]
        }
      ],
      "source": [
        "%%time\n",
        "\n",
        "classificator = DecisionTreeClassifier()\n",
        "hyperparams = [{'max_depth':[x for x in range(30,51,2)],\n",
        "                'random_state':[12082020],\n",
        "                'class_weight':[dict_classes]}]\n",
        "\n",
        "\n",
        "print('# Tuning hyper-parameters for f1_score')\n",
        "print()\n",
        "clf = GridSearchCV(classificator, hyperparams, scoring='f1',cv=cv_counts)\n",
        "clf.fit(features_train, target_train)\n",
        "print(\"Best parameters set found on development set:\")\n",
        "print()\n",
        "DTC_best_params = clf.best_params_\n",
        "print(DTC_best_params)\n",
        "print()\n",
        "print(\"Grid scores on development set:\")\n",
        "print()\n",
        "means = clf.cv_results_['mean_test_score']\n",
        "stds = clf.cv_results_['std_test_score']\n",
        "for mean, std, params in zip(means, stds, clf.cv_results_['params']):\n",
        "    print(\"%0.6f for %r\"% (mean, params))\n",
        "print()\n",
        "\n",
        "cv_f1_DTC = max(means)"
      ]
    },
    {
      "cell_type": "code",
      "execution_count": null,
      "metadata": {
        "colab": {
          "base_uri": "https://localhost:8080/"
        },
        "id": "pGi4bnKOJv8m",
        "outputId": "f7d8e38a-94cc-4d80-b84d-82524c46fdf3"
      },
      "outputs": [
        {
          "output_type": "stream",
          "name": "stdout",
          "text": [
            "F1 на cv 0.6157551844077654\n",
            "F1 на валидации 0.608945300695074\n",
            "CPU times: user 39.1 s, sys: 40.7 ms, total: 39.2 s\n",
            "Wall time: 39.2 s\n"
          ]
        }
      ],
      "source": [
        "%%time\n",
        "\n",
        "classificator = DecisionTreeClassifier()\n",
        "classificator.set_params(**DTC_best_params)\n",
        "classificator.fit(features_train, target_train)\n",
        "target_predict = classificator.predict(features_valid)\n",
        "valid_f1_DTC = f1_score(target_valid, target_predict)\n",
        "print('F1 на cv', cv_f1_DTC)\n",
        "print('F1 на валидации', valid_f1_DTC)"
      ]
    },
    {
      "cell_type": "markdown",
      "metadata": {
        "id": "p85o7XWTJv8n"
      },
      "source": [
        "### Классификатор SGDClassifier"
      ]
    },
    {
      "cell_type": "code",
      "execution_count": null,
      "metadata": {
        "scrolled": false,
        "colab": {
          "base_uri": "https://localhost:8080/"
        },
        "id": "gtUKL19gJv8o",
        "outputId": "1ccde40e-dfcc-4754-d53b-3c81541ad00f"
      },
      "outputs": [
        {
          "output_type": "stream",
          "name": "stdout",
          "text": [
            "# Tuning hyper-parameters for f1_score\n",
            "\n",
            "Best parameters set found on development set:\n",
            "\n",
            "{'class_weight': {0: 1, 1: 8.841344371679229}, 'eta0': 0.01, 'learning_rate': 'adaptive', 'loss': 'modified_huber', 'random_state': 12082020}\n",
            "\n",
            "Grid scores on development set:\n",
            "\n",
            "0.731894 for {'class_weight': {0: 1, 1: 8.841344371679229}, 'eta0': 0.01, 'learning_rate': 'constant', 'loss': 'hinge', 'random_state': 12082020}\n",
            "0.714827 for {'class_weight': {0: 1, 1: 8.841344371679229}, 'eta0': 0.01, 'learning_rate': 'constant', 'loss': 'log', 'random_state': 12082020}\n",
            "0.746699 for {'class_weight': {0: 1, 1: 8.841344371679229}, 'eta0': 0.01, 'learning_rate': 'constant', 'loss': 'modified_huber', 'random_state': 12082020}\n",
            "0.732846 for {'class_weight': {0: 1, 1: 8.841344371679229}, 'eta0': 0.01, 'learning_rate': 'optimal', 'loss': 'hinge', 'random_state': 12082020}\n",
            "0.716338 for {'class_weight': {0: 1, 1: 8.841344371679229}, 'eta0': 0.01, 'learning_rate': 'optimal', 'loss': 'log', 'random_state': 12082020}\n",
            "0.749082 for {'class_weight': {0: 1, 1: 8.841344371679229}, 'eta0': 0.01, 'learning_rate': 'optimal', 'loss': 'modified_huber', 'random_state': 12082020}\n",
            "0.669917 for {'class_weight': {0: 1, 1: 8.841344371679229}, 'eta0': 0.01, 'learning_rate': 'invscaling', 'loss': 'hinge', 'random_state': 12082020}\n",
            "0.647657 for {'class_weight': {0: 1, 1: 8.841344371679229}, 'eta0': 0.01, 'learning_rate': 'invscaling', 'loss': 'log', 'random_state': 12082020}\n",
            "0.660311 for {'class_weight': {0: 1, 1: 8.841344371679229}, 'eta0': 0.01, 'learning_rate': 'invscaling', 'loss': 'modified_huber', 'random_state': 12082020}\n",
            "0.735176 for {'class_weight': {0: 1, 1: 8.841344371679229}, 'eta0': 0.01, 'learning_rate': 'adaptive', 'loss': 'hinge', 'random_state': 12082020}\n",
            "0.715090 for {'class_weight': {0: 1, 1: 8.841344371679229}, 'eta0': 0.01, 'learning_rate': 'adaptive', 'loss': 'log', 'random_state': 12082020}\n",
            "0.751380 for {'class_weight': {0: 1, 1: 8.841344371679229}, 'eta0': 0.01, 'learning_rate': 'adaptive', 'loss': 'modified_huber', 'random_state': 12082020}\n",
            "0.714665 for {'class_weight': {0: 1, 1: 8.841344371679229}, 'eta0': 0.05, 'learning_rate': 'constant', 'loss': 'hinge', 'random_state': 12082020}\n",
            "0.714765 for {'class_weight': {0: 1, 1: 8.841344371679229}, 'eta0': 0.05, 'learning_rate': 'constant', 'loss': 'log', 'random_state': 12082020}\n",
            "0.732159 for {'class_weight': {0: 1, 1: 8.841344371679229}, 'eta0': 0.05, 'learning_rate': 'constant', 'loss': 'modified_huber', 'random_state': 12082020}\n",
            "0.732846 for {'class_weight': {0: 1, 1: 8.841344371679229}, 'eta0': 0.05, 'learning_rate': 'optimal', 'loss': 'hinge', 'random_state': 12082020}\n",
            "0.716338 for {'class_weight': {0: 1, 1: 8.841344371679229}, 'eta0': 0.05, 'learning_rate': 'optimal', 'loss': 'log', 'random_state': 12082020}\n",
            "0.749082 for {'class_weight': {0: 1, 1: 8.841344371679229}, 'eta0': 0.05, 'learning_rate': 'optimal', 'loss': 'modified_huber', 'random_state': 12082020}\n",
            "0.684787 for {'class_weight': {0: 1, 1: 8.841344371679229}, 'eta0': 0.05, 'learning_rate': 'invscaling', 'loss': 'hinge', 'random_state': 12082020}\n",
            "0.658792 for {'class_weight': {0: 1, 1: 8.841344371679229}, 'eta0': 0.05, 'learning_rate': 'invscaling', 'loss': 'log', 'random_state': 12082020}\n",
            "0.664259 for {'class_weight': {0: 1, 1: 8.841344371679229}, 'eta0': 0.05, 'learning_rate': 'invscaling', 'loss': 'modified_huber', 'random_state': 12082020}\n",
            "0.735351 for {'class_weight': {0: 1, 1: 8.841344371679229}, 'eta0': 0.05, 'learning_rate': 'adaptive', 'loss': 'hinge', 'random_state': 12082020}\n",
            "0.716873 for {'class_weight': {0: 1, 1: 8.841344371679229}, 'eta0': 0.05, 'learning_rate': 'adaptive', 'loss': 'log', 'random_state': 12082020}\n",
            "0.751131 for {'class_weight': {0: 1, 1: 8.841344371679229}, 'eta0': 0.05, 'learning_rate': 'adaptive', 'loss': 'modified_huber', 'random_state': 12082020}\n",
            "0.705984 for {'class_weight': {0: 1, 1: 8.841344371679229}, 'eta0': 0.1, 'learning_rate': 'constant', 'loss': 'hinge', 'random_state': 12082020}\n",
            "0.700811 for {'class_weight': {0: 1, 1: 8.841344371679229}, 'eta0': 0.1, 'learning_rate': 'constant', 'loss': 'log', 'random_state': 12082020}\n",
            "0.678225 for {'class_weight': {0: 1, 1: 8.841344371679229}, 'eta0': 0.1, 'learning_rate': 'constant', 'loss': 'modified_huber', 'random_state': 12082020}\n",
            "0.732846 for {'class_weight': {0: 1, 1: 8.841344371679229}, 'eta0': 0.1, 'learning_rate': 'optimal', 'loss': 'hinge', 'random_state': 12082020}\n",
            "0.716338 for {'class_weight': {0: 1, 1: 8.841344371679229}, 'eta0': 0.1, 'learning_rate': 'optimal', 'loss': 'log', 'random_state': 12082020}\n",
            "0.749082 for {'class_weight': {0: 1, 1: 8.841344371679229}, 'eta0': 0.1, 'learning_rate': 'optimal', 'loss': 'modified_huber', 'random_state': 12082020}\n",
            "0.674102 for {'class_weight': {0: 1, 1: 8.841344371679229}, 'eta0': 0.1, 'learning_rate': 'invscaling', 'loss': 'hinge', 'random_state': 12082020}\n",
            "0.656761 for {'class_weight': {0: 1, 1: 8.841344371679229}, 'eta0': 0.1, 'learning_rate': 'invscaling', 'loss': 'log', 'random_state': 12082020}\n",
            "0.681956 for {'class_weight': {0: 1, 1: 8.841344371679229}, 'eta0': 0.1, 'learning_rate': 'invscaling', 'loss': 'modified_huber', 'random_state': 12082020}\n",
            "0.735493 for {'class_weight': {0: 1, 1: 8.841344371679229}, 'eta0': 0.1, 'learning_rate': 'adaptive', 'loss': 'hinge', 'random_state': 12082020}\n",
            "0.717768 for {'class_weight': {0: 1, 1: 8.841344371679229}, 'eta0': 0.1, 'learning_rate': 'adaptive', 'loss': 'log', 'random_state': 12082020}\n",
            "0.750983 for {'class_weight': {0: 1, 1: 8.841344371679229}, 'eta0': 0.1, 'learning_rate': 'adaptive', 'loss': 'modified_huber', 'random_state': 12082020}\n",
            "0.691795 for {'class_weight': {0: 1, 1: 8.841344371679229}, 'eta0': 0.2, 'learning_rate': 'constant', 'loss': 'hinge', 'random_state': 12082020}\n",
            "0.695745 for {'class_weight': {0: 1, 1: 8.841344371679229}, 'eta0': 0.2, 'learning_rate': 'constant', 'loss': 'log', 'random_state': 12082020}\n",
            "0.603483 for {'class_weight': {0: 1, 1: 8.841344371679229}, 'eta0': 0.2, 'learning_rate': 'constant', 'loss': 'modified_huber', 'random_state': 12082020}\n",
            "0.732846 for {'class_weight': {0: 1, 1: 8.841344371679229}, 'eta0': 0.2, 'learning_rate': 'optimal', 'loss': 'hinge', 'random_state': 12082020}\n",
            "0.716338 for {'class_weight': {0: 1, 1: 8.841344371679229}, 'eta0': 0.2, 'learning_rate': 'optimal', 'loss': 'log', 'random_state': 12082020}\n",
            "0.749082 for {'class_weight': {0: 1, 1: 8.841344371679229}, 'eta0': 0.2, 'learning_rate': 'optimal', 'loss': 'modified_huber', 'random_state': 12082020}\n",
            "0.674542 for {'class_weight': {0: 1, 1: 8.841344371679229}, 'eta0': 0.2, 'learning_rate': 'invscaling', 'loss': 'hinge', 'random_state': 12082020}\n",
            "0.653552 for {'class_weight': {0: 1, 1: 8.841344371679229}, 'eta0': 0.2, 'learning_rate': 'invscaling', 'loss': 'log', 'random_state': 12082020}\n",
            "0.707353 for {'class_weight': {0: 1, 1: 8.841344371679229}, 'eta0': 0.2, 'learning_rate': 'invscaling', 'loss': 'modified_huber', 'random_state': 12082020}\n",
            "0.735818 for {'class_weight': {0: 1, 1: 8.841344371679229}, 'eta0': 0.2, 'learning_rate': 'adaptive', 'loss': 'hinge', 'random_state': 12082020}\n",
            "0.717546 for {'class_weight': {0: 1, 1: 8.841344371679229}, 'eta0': 0.2, 'learning_rate': 'adaptive', 'loss': 'log', 'random_state': 12082020}\n",
            "0.750939 for {'class_weight': {0: 1, 1: 8.841344371679229}, 'eta0': 0.2, 'learning_rate': 'adaptive', 'loss': 'modified_huber', 'random_state': 12082020}\n",
            "0.665994 for {'class_weight': {0: 1, 1: 8.841344371679229}, 'eta0': 0.3, 'learning_rate': 'constant', 'loss': 'hinge', 'random_state': 12082020}\n",
            "0.676560 for {'class_weight': {0: 1, 1: 8.841344371679229}, 'eta0': 0.3, 'learning_rate': 'constant', 'loss': 'log', 'random_state': 12082020}\n",
            "0.553440 for {'class_weight': {0: 1, 1: 8.841344371679229}, 'eta0': 0.3, 'learning_rate': 'constant', 'loss': 'modified_huber', 'random_state': 12082020}\n",
            "0.732846 for {'class_weight': {0: 1, 1: 8.841344371679229}, 'eta0': 0.3, 'learning_rate': 'optimal', 'loss': 'hinge', 'random_state': 12082020}\n",
            "0.716338 for {'class_weight': {0: 1, 1: 8.841344371679229}, 'eta0': 0.3, 'learning_rate': 'optimal', 'loss': 'log', 'random_state': 12082020}\n",
            "0.749082 for {'class_weight': {0: 1, 1: 8.841344371679229}, 'eta0': 0.3, 'learning_rate': 'optimal', 'loss': 'modified_huber', 'random_state': 12082020}\n",
            "0.683896 for {'class_weight': {0: 1, 1: 8.841344371679229}, 'eta0': 0.3, 'learning_rate': 'invscaling', 'loss': 'hinge', 'random_state': 12082020}\n",
            "0.655453 for {'class_weight': {0: 1, 1: 8.841344371679229}, 'eta0': 0.3, 'learning_rate': 'invscaling', 'loss': 'log', 'random_state': 12082020}\n",
            "0.718051 for {'class_weight': {0: 1, 1: 8.841344371679229}, 'eta0': 0.3, 'learning_rate': 'invscaling', 'loss': 'modified_huber', 'random_state': 12082020}\n",
            "0.736351 for {'class_weight': {0: 1, 1: 8.841344371679229}, 'eta0': 0.3, 'learning_rate': 'adaptive', 'loss': 'hinge', 'random_state': 12082020}\n",
            "0.717153 for {'class_weight': {0: 1, 1: 8.841344371679229}, 'eta0': 0.3, 'learning_rate': 'adaptive', 'loss': 'log', 'random_state': 12082020}\n",
            "0.751322 for {'class_weight': {0: 1, 1: 8.841344371679229}, 'eta0': 0.3, 'learning_rate': 'adaptive', 'loss': 'modified_huber', 'random_state': 12082020}\n",
            "0.624387 for {'class_weight': {0: 1, 1: 8.841344371679229}, 'eta0': 0.5, 'learning_rate': 'constant', 'loss': 'hinge', 'random_state': 12082020}\n",
            "0.654485 for {'class_weight': {0: 1, 1: 8.841344371679229}, 'eta0': 0.5, 'learning_rate': 'constant', 'loss': 'log', 'random_state': 12082020}\n",
            "0.504298 for {'class_weight': {0: 1, 1: 8.841344371679229}, 'eta0': 0.5, 'learning_rate': 'constant', 'loss': 'modified_huber', 'random_state': 12082020}\n",
            "0.732846 for {'class_weight': {0: 1, 1: 8.841344371679229}, 'eta0': 0.5, 'learning_rate': 'optimal', 'loss': 'hinge', 'random_state': 12082020}\n",
            "0.716338 for {'class_weight': {0: 1, 1: 8.841344371679229}, 'eta0': 0.5, 'learning_rate': 'optimal', 'loss': 'log', 'random_state': 12082020}\n",
            "0.749082 for {'class_weight': {0: 1, 1: 8.841344371679229}, 'eta0': 0.5, 'learning_rate': 'optimal', 'loss': 'modified_huber', 'random_state': 12082020}\n",
            "0.699060 for {'class_weight': {0: 1, 1: 8.841344371679229}, 'eta0': 0.5, 'learning_rate': 'invscaling', 'loss': 'hinge', 'random_state': 12082020}\n",
            "0.659092 for {'class_weight': {0: 1, 1: 8.841344371679229}, 'eta0': 0.5, 'learning_rate': 'invscaling', 'loss': 'log', 'random_state': 12082020}\n",
            "0.728722 for {'class_weight': {0: 1, 1: 8.841344371679229}, 'eta0': 0.5, 'learning_rate': 'invscaling', 'loss': 'modified_huber', 'random_state': 12082020}\n",
            "0.735818 for {'class_weight': {0: 1, 1: 8.841344371679229}, 'eta0': 0.5, 'learning_rate': 'adaptive', 'loss': 'hinge', 'random_state': 12082020}\n",
            "0.717484 for {'class_weight': {0: 1, 1: 8.841344371679229}, 'eta0': 0.5, 'learning_rate': 'adaptive', 'loss': 'log', 'random_state': 12082020}\n",
            "0.750494 for {'class_weight': {0: 1, 1: 8.841344371679229}, 'eta0': 0.5, 'learning_rate': 'adaptive', 'loss': 'modified_huber', 'random_state': 12082020}\n",
            "\n",
            "CPU times: user 3min, sys: 20.5 s, total: 3min 20s\n",
            "Wall time: 2min 58s\n"
          ]
        }
      ],
      "source": [
        "%%time\n",
        "\n",
        "classificator = SGDClassifier()\n",
        "hyperparams = [{'loss':['hinge', 'log', 'modified_huber'],\n",
        "                'learning_rate':['constant', 'optimal', 'invscaling', 'adaptive'],\n",
        "                'eta0':[0.01, 0.05, 0.1, 0.2, 0.3, 0.5],\n",
        "                'random_state':[12082020],\n",
        "                'class_weight':[dict_classes]}]\n",
        "\n",
        "\n",
        "print('# Tuning hyper-parameters for f1_score')\n",
        "print()\n",
        "clf = GridSearchCV(classificator, hyperparams, scoring='f1',cv=cv_counts)\n",
        "clf.fit(features_train, target_train)\n",
        "print(\"Best parameters set found on development set:\")\n",
        "print()\n",
        "SGDC_best_params = clf.best_params_\n",
        "print(SGDC_best_params)\n",
        "print()\n",
        "print(\"Grid scores on development set:\")\n",
        "print()\n",
        "means = clf.cv_results_['mean_test_score']\n",
        "stds = clf.cv_results_['std_test_score']\n",
        "for mean, std, params in zip(means, stds, clf.cv_results_['params']):\n",
        "    print(\"%0.6f for %r\"% (mean, params))\n",
        "print()\n",
        "\n",
        "cv_f1_SGDC = max(means)"
      ]
    },
    {
      "cell_type": "code",
      "execution_count": null,
      "metadata": {
        "colab": {
          "base_uri": "https://localhost:8080/"
        },
        "id": "Pxy4hcefJv8p",
        "outputId": "43a075f4-1995-4c02-be75-91bb2b48d4a5"
      },
      "outputs": [
        {
          "output_type": "stream",
          "name": "stdout",
          "text": [
            "F1 на cv 0.7513798716940142\n",
            "F1 на валидации 0.7459444597195491\n",
            "CPU times: user 2.12 s, sys: 97.2 ms, total: 2.22 s\n",
            "Wall time: 2.18 s\n"
          ]
        }
      ],
      "source": [
        "%%time\n",
        "\n",
        "classificator = SGDClassifier()\n",
        "classificator.set_params(**SGDC_best_params)\n",
        "classificator.fit(features_train, target_train)\n",
        "target_predict = classificator.predict(features_valid)\n",
        "valid_f1_SGDC = f1_score(target_valid, target_predict)\n",
        "print('F1 на cv', cv_f1_SGDC)\n",
        "print('F1 на валидации', valid_f1_SGDC)"
      ]
    },
    {
      "cell_type": "markdown",
      "metadata": {
        "id": "rYpdiFUlJv8q"
      },
      "source": [
        "Выведем таблицу валидации лучших моделей."
      ]
    },
    {
      "cell_type": "code",
      "execution_count": null,
      "metadata": {
        "colab": {
          "base_uri": "https://localhost:8080/",
          "height": 143
        },
        "id": "ZHnf0yCIJv8r",
        "outputId": "8ec2f39b-cc3c-4e75-8776-32bf6e6e5af6"
      },
      "outputs": [
        {
          "output_type": "execute_result",
          "data": {
            "text/plain": [
              "                        F1 на CV  F1 на валидации  Выполнение задачи\n",
              "LogisticRegression      0.755008         0.753844               True\n",
              "DecisionTreeClassifier  0.615755         0.608945              False\n",
              "SGDClassifier           0.751380         0.745944              False"
            ],
            "text/html": [
              "\n",
              "\n",
              "  <div id=\"df-1e92748a-a806-4a2c-ab5d-5c5a3782b863\">\n",
              "    <div class=\"colab-df-container\">\n",
              "      <div>\n",
              "<style scoped>\n",
              "    .dataframe tbody tr th:only-of-type {\n",
              "        vertical-align: middle;\n",
              "    }\n",
              "\n",
              "    .dataframe tbody tr th {\n",
              "        vertical-align: top;\n",
              "    }\n",
              "\n",
              "    .dataframe thead th {\n",
              "        text-align: right;\n",
              "    }\n",
              "</style>\n",
              "<table border=\"1\" class=\"dataframe\">\n",
              "  <thead>\n",
              "    <tr style=\"text-align: right;\">\n",
              "      <th></th>\n",
              "      <th>F1 на CV</th>\n",
              "      <th>F1 на валидации</th>\n",
              "      <th>Выполнение задачи</th>\n",
              "    </tr>\n",
              "  </thead>\n",
              "  <tbody>\n",
              "    <tr>\n",
              "      <th>LogisticRegression</th>\n",
              "      <td>0.755008</td>\n",
              "      <td>0.753844</td>\n",
              "      <td>True</td>\n",
              "    </tr>\n",
              "    <tr>\n",
              "      <th>DecisionTreeClassifier</th>\n",
              "      <td>0.615755</td>\n",
              "      <td>0.608945</td>\n",
              "      <td>False</td>\n",
              "    </tr>\n",
              "    <tr>\n",
              "      <th>SGDClassifier</th>\n",
              "      <td>0.751380</td>\n",
              "      <td>0.745944</td>\n",
              "      <td>False</td>\n",
              "    </tr>\n",
              "  </tbody>\n",
              "</table>\n",
              "</div>\n",
              "      <button class=\"colab-df-convert\" onclick=\"convertToInteractive('df-1e92748a-a806-4a2c-ab5d-5c5a3782b863')\"\n",
              "              title=\"Convert this dataframe to an interactive table.\"\n",
              "              style=\"display:none;\">\n",
              "\n",
              "  <svg xmlns=\"http://www.w3.org/2000/svg\" height=\"24px\"viewBox=\"0 0 24 24\"\n",
              "       width=\"24px\">\n",
              "    <path d=\"M0 0h24v24H0V0z\" fill=\"none\"/>\n",
              "    <path d=\"M18.56 5.44l.94 2.06.94-2.06 2.06-.94-2.06-.94-.94-2.06-.94 2.06-2.06.94zm-11 1L8.5 8.5l.94-2.06 2.06-.94-2.06-.94L8.5 2.5l-.94 2.06-2.06.94zm10 10l.94 2.06.94-2.06 2.06-.94-2.06-.94-.94-2.06-.94 2.06-2.06.94z\"/><path d=\"M17.41 7.96l-1.37-1.37c-.4-.4-.92-.59-1.43-.59-.52 0-1.04.2-1.43.59L10.3 9.45l-7.72 7.72c-.78.78-.78 2.05 0 2.83L4 21.41c.39.39.9.59 1.41.59.51 0 1.02-.2 1.41-.59l7.78-7.78 2.81-2.81c.8-.78.8-2.07 0-2.86zM5.41 20L4 18.59l7.72-7.72 1.47 1.35L5.41 20z\"/>\n",
              "  </svg>\n",
              "      </button>\n",
              "\n",
              "\n",
              "\n",
              "    <div id=\"df-3be9adb6-1224-4fac-8f8c-b32291fac82b\">\n",
              "      <button class=\"colab-df-quickchart\" onclick=\"quickchart('df-3be9adb6-1224-4fac-8f8c-b32291fac82b')\"\n",
              "              title=\"Suggest charts.\"\n",
              "              style=\"display:none;\">\n",
              "\n",
              "<svg xmlns=\"http://www.w3.org/2000/svg\" height=\"24px\"viewBox=\"0 0 24 24\"\n",
              "     width=\"24px\">\n",
              "    <g>\n",
              "        <path d=\"M19 3H5c-1.1 0-2 .9-2 2v14c0 1.1.9 2 2 2h14c1.1 0 2-.9 2-2V5c0-1.1-.9-2-2-2zM9 17H7v-7h2v7zm4 0h-2V7h2v10zm4 0h-2v-4h2v4z\"/>\n",
              "    </g>\n",
              "</svg>\n",
              "      </button>\n",
              "    </div>\n",
              "\n",
              "<style>\n",
              "  .colab-df-quickchart {\n",
              "    background-color: #E8F0FE;\n",
              "    border: none;\n",
              "    border-radius: 50%;\n",
              "    cursor: pointer;\n",
              "    display: none;\n",
              "    fill: #1967D2;\n",
              "    height: 32px;\n",
              "    padding: 0 0 0 0;\n",
              "    width: 32px;\n",
              "  }\n",
              "\n",
              "  .colab-df-quickchart:hover {\n",
              "    background-color: #E2EBFA;\n",
              "    box-shadow: 0px 1px 2px rgba(60, 64, 67, 0.3), 0px 1px 3px 1px rgba(60, 64, 67, 0.15);\n",
              "    fill: #174EA6;\n",
              "  }\n",
              "\n",
              "  [theme=dark] .colab-df-quickchart {\n",
              "    background-color: #3B4455;\n",
              "    fill: #D2E3FC;\n",
              "  }\n",
              "\n",
              "  [theme=dark] .colab-df-quickchart:hover {\n",
              "    background-color: #434B5C;\n",
              "    box-shadow: 0px 1px 3px 1px rgba(0, 0, 0, 0.15);\n",
              "    filter: drop-shadow(0px 1px 2px rgba(0, 0, 0, 0.3));\n",
              "    fill: #FFFFFF;\n",
              "  }\n",
              "</style>\n",
              "\n",
              "    <script>\n",
              "      async function quickchart(key) {\n",
              "        const containerElement = document.querySelector('#' + key);\n",
              "        const charts = await google.colab.kernel.invokeFunction(\n",
              "            'suggestCharts', [key], {});\n",
              "      }\n",
              "    </script>\n",
              "\n",
              "      <script>\n",
              "\n",
              "function displayQuickchartButton(domScope) {\n",
              "  let quickchartButtonEl =\n",
              "    domScope.querySelector('#df-3be9adb6-1224-4fac-8f8c-b32291fac82b button.colab-df-quickchart');\n",
              "  quickchartButtonEl.style.display =\n",
              "    google.colab.kernel.accessAllowed ? 'block' : 'none';\n",
              "}\n",
              "\n",
              "        displayQuickchartButton(document);\n",
              "      </script>\n",
              "      <style>\n",
              "    .colab-df-container {\n",
              "      display:flex;\n",
              "      flex-wrap:wrap;\n",
              "      gap: 12px;\n",
              "    }\n",
              "\n",
              "    .colab-df-convert {\n",
              "      background-color: #E8F0FE;\n",
              "      border: none;\n",
              "      border-radius: 50%;\n",
              "      cursor: pointer;\n",
              "      display: none;\n",
              "      fill: #1967D2;\n",
              "      height: 32px;\n",
              "      padding: 0 0 0 0;\n",
              "      width: 32px;\n",
              "    }\n",
              "\n",
              "    .colab-df-convert:hover {\n",
              "      background-color: #E2EBFA;\n",
              "      box-shadow: 0px 1px 2px rgba(60, 64, 67, 0.3), 0px 1px 3px 1px rgba(60, 64, 67, 0.15);\n",
              "      fill: #174EA6;\n",
              "    }\n",
              "\n",
              "    [theme=dark] .colab-df-convert {\n",
              "      background-color: #3B4455;\n",
              "      fill: #D2E3FC;\n",
              "    }\n",
              "\n",
              "    [theme=dark] .colab-df-convert:hover {\n",
              "      background-color: #434B5C;\n",
              "      box-shadow: 0px 1px 3px 1px rgba(0, 0, 0, 0.15);\n",
              "      filter: drop-shadow(0px 1px 2px rgba(0, 0, 0, 0.3));\n",
              "      fill: #FFFFFF;\n",
              "    }\n",
              "  </style>\n",
              "\n",
              "      <script>\n",
              "        const buttonEl =\n",
              "          document.querySelector('#df-1e92748a-a806-4a2c-ab5d-5c5a3782b863 button.colab-df-convert');\n",
              "        buttonEl.style.display =\n",
              "          google.colab.kernel.accessAllowed ? 'block' : 'none';\n",
              "\n",
              "        async function convertToInteractive(key) {\n",
              "          const element = document.querySelector('#df-1e92748a-a806-4a2c-ab5d-5c5a3782b863');\n",
              "          const dataTable =\n",
              "            await google.colab.kernel.invokeFunction('convertToInteractive',\n",
              "                                                     [key], {});\n",
              "          if (!dataTable) return;\n",
              "\n",
              "          const docLinkHtml = 'Like what you see? Visit the ' +\n",
              "            '<a target=\"_blank\" href=https://colab.research.google.com/notebooks/data_table.ipynb>data table notebook</a>'\n",
              "            + ' to learn more about interactive tables.';\n",
              "          element.innerHTML = '';\n",
              "          dataTable['output_type'] = 'display_data';\n",
              "          await google.colab.output.renderOutput(dataTable, element);\n",
              "          const docLink = document.createElement('div');\n",
              "          docLink.innerHTML = docLinkHtml;\n",
              "          element.appendChild(docLink);\n",
              "        }\n",
              "      </script>\n",
              "    </div>\n",
              "  </div>\n"
            ]
          },
          "metadata": {},
          "execution_count": 35
        }
      ],
      "source": [
        "index = ['LogisticRegression',\n",
        "         'DecisionTreeClassifier',\n",
        "         'SGDClassifier']\n",
        "data = {'F1 на CV':[cv_f1_LR,\n",
        "                    cv_f1_DTC,\n",
        "                    cv_f1_SGDC],\n",
        "        'F1 на валидации':[valid_f1_LR,\n",
        "                           valid_f1_DTC,\n",
        "                           valid_f1_SGDC]}\n",
        "\n",
        "scores_data = pd.DataFrame(data=data, index=index)\n",
        "scores_data['Выполнение задачи'] = scores_data['F1 на валидации'] > 0.75\n",
        "scores_data"
      ]
    },
    {
      "cell_type": "markdown",
      "metadata": {
        "id": "vmeKmG-SJv8s"
      },
      "source": [
        "### Вывод по шагу 2\n",
        "\n",
        "К тестовому набору данных перейдут LogisticRegression и SGDClassifier."
      ]
    },
    {
      "cell_type": "markdown",
      "metadata": {
        "id": "tVam2ZkYJv8t"
      },
      "source": [
        "## Выводы"
      ]
    },
    {
      "cell_type": "markdown",
      "metadata": {
        "id": "jNbctrQ7Jv8u"
      },
      "source": [
        "Проведем получение F1-меры, precision, recall, accuracy и roc_auc. Так же построим графики."
      ]
    },
    {
      "cell_type": "code",
      "execution_count": null,
      "metadata": {
        "colab": {
          "base_uri": "https://localhost:8080/",
          "height": 1000
        },
        "id": "zF8Yle8YJv8v",
        "outputId": "f98574a8-a5db-4e3d-9957-c84f50122dfc"
      },
      "outputs": [
        {
          "output_type": "stream",
          "name": "stdout",
          "text": [
            "Метрики LogisticRegression\n",
            "ROC AUC: 0.9632993566342172\n",
            "F1: 0.762450418686646\n",
            "Precision: 0.7216351501668521\n",
            "Recall: 0.8081594518841483\n",
            "Accuracy: 0.9492451112715402\n",
            "\n",
            "Метрики SGDClassifier\n",
            "ROC AUC: 0.9688392636541294\n",
            "F1: 0.7530744783750173\n",
            "Precision: 0.6768504719324392\n",
            "Recall: 0.8486452818436624\n",
            "Accuracy: 0.9439090994695376\n",
            "\n"
          ]
        },
        {
          "output_type": "display_data",
          "data": {
            "text/plain": [
              "<Figure size 1200x900 with 1 Axes>"
            ],
            "image/png": "[encoded data removed]"
          },
          "metadata": {}
        }
      ],
      "source": [
        "plt.figure(figsize=[12,9])\n",
        "\n",
        "plt.plot([0, 1], [0, 1], linestyle='--', label='RandomModel')\n",
        "\n",
        "\n",
        "classificator = LogisticRegression()\n",
        "classificator.set_params(**LR_best_params)\n",
        "classificator.fit(features_train, target_train)\n",
        "probabilities_test = classificator.predict_proba(features_test)\n",
        "probabilities_one_test = probabilities_test[:, 1]\n",
        "fpr, tpr, thresholds = roc_curve(target_test, probabilities_one_test)\n",
        "predict_test = classificator.predict(features_test)\n",
        "plt.plot(fpr, tpr, label='LogisticRegression')\n",
        "print('Метрики LogisticRegression')\n",
        "print('ROC AUC:', roc_auc_score(target_test, probabilities_one_test))\n",
        "print('F1:', f1_score(target_test, predict_test))\n",
        "print('Precision:', precision_score(target_test, predict_test))\n",
        "print('Recall:', recall_score(target_test, predict_test))\n",
        "print('Accuracy:', accuracy_score(target_test, predict_test))\n",
        "print()\n",
        "\n",
        "classificator = SGDClassifier()\n",
        "classificator.set_params(**SGDC_best_params)\n",
        "classificator.fit(features_train, target_train)\n",
        "probabilities_test = classificator.predict_proba(features_test)\n",
        "probabilities_one_test = probabilities_test[:, 1]\n",
        "fpr, tpr, thresholds = roc_curve(target_test, probabilities_one_test)\n",
        "predict_test = classificator.predict(features_test)\n",
        "plt.plot(fpr, tpr, label='SGDClassifier')\n",
        "print('Метрики SGDClassifier')\n",
        "print('ROC AUC:', roc_auc_score(target_test, probabilities_one_test))\n",
        "print('F1:', f1_score(target_test, predict_test))\n",
        "print('Precision:', precision_score(target_test, predict_test))\n",
        "print('Recall:', recall_score(target_test, predict_test))\n",
        "print('Accuracy:', accuracy_score(target_test, predict_test))\n",
        "print()\n",
        "\n",
        "plt.xlim([0,1])\n",
        "plt.ylim([0,1])\n",
        "\n",
        "plt.xlabel(\"False Positive Rate\")\n",
        "plt.ylabel(\"True Positive Rate\")\n",
        "\n",
        "plt.legend(loc='lower right', fontsize='x-large')\n",
        "\n",
        "plt.title(\"ROC-кривая\")\n",
        "plt.show()"
      ]
    }
  ],
  "metadata": {
    "ExecuteTimeLog": [
      {
        "duration": 2058,
        "start_time": "2023-07-20T05:16:29.193Z"
      },
      {
        "duration": 2231,
        "start_time": "2023-07-20T05:16:42.463Z"
      },
      {
        "duration": 11,
        "start_time": "2023-07-20T05:17:03.617Z"
      },
      {
        "duration": 11,
        "start_time": "2023-07-20T05:17:16.280Z"
      },
      {
        "duration": 88221,
        "start_time": "2023-07-20T05:26:18.872Z"
      },
      {
        "duration": 3,
        "start_time": "2023-07-20T05:27:47.095Z"
      },
      {
        "duration": 10944,
        "start_time": "2023-07-20T05:28:13.829Z"
      },
      {
        "duration": 106379,
        "start_time": "2023-07-20T05:28:24.775Z"
      },
      {
        "duration": 117006,
        "start_time": "2023-07-20T05:30:11.155Z"
      },
      {
        "duration": 63013,
        "start_time": "2023-07-20T05:32:08.163Z"
      },
      {
        "duration": 2,
        "start_time": "2023-07-20T05:33:11.178Z"
      },
      {
        "duration": 34,
        "start_time": "2023-07-20T05:33:15.319Z"
      },
      {
        "duration": 1221,
        "start_time": "2023-07-20T05:33:18.671Z"
      },
      {
        "duration": 41202,
        "start_time": "2023-07-20T05:33:32.953Z"
      },
      {
        "duration": 86508,
        "start_time": "2023-07-20T05:34:22.258Z"
      },
      {
        "duration": 10,
        "start_time": "2023-07-20T05:35:48.768Z"
      },
      {
        "duration": 14,
        "start_time": "2023-07-20T05:35:48.780Z"
      },
      {
        "duration": 609028,
        "start_time": "2023-07-20T05:37:34.824Z"
      },
      {
        "duration": 43107,
        "start_time": "2023-07-20T05:47:43.854Z"
      },
      {
        "duration": 117327,
        "start_time": "2023-07-20T05:48:26.963Z"
      },
      {
        "duration": 258,
        "start_time": "2023-07-20T05:50:24.292Z"
      },
      {
        "duration": 1654016,
        "start_time": "2023-07-20T05:50:24.552Z"
      },
      {
        "duration": 2,
        "start_time": "2023-07-20T06:17:58.570Z"
      },
      {
        "duration": 19,
        "start_time": "2023-07-20T06:17:58.574Z"
      },
      {
        "duration": 0,
        "start_time": "2023-07-20T06:17:58.600Z"
      },
      {
        "duration": 0,
        "start_time": "2023-07-20T06:17:58.601Z"
      },
      {
        "duration": 0,
        "start_time": "2023-07-20T06:17:58.603Z"
      },
      {
        "duration": 0,
        "start_time": "2023-07-20T06:17:58.603Z"
      },
      {
        "duration": 0,
        "start_time": "2023-07-20T06:17:58.605Z"
      },
      {
        "duration": 1901,
        "start_time": "2023-07-20T06:19:00.892Z"
      },
      {
        "duration": 775,
        "start_time": "2023-07-20T06:19:02.795Z"
      },
      {
        "duration": 11,
        "start_time": "2023-07-20T06:19:03.572Z"
      },
      {
        "duration": 48,
        "start_time": "2023-07-20T06:19:03.585Z"
      },
      {
        "duration": 89015,
        "start_time": "2023-07-20T06:19:03.634Z"
      },
      {
        "duration": 10816,
        "start_time": "2023-07-20T06:20:32.652Z"
      },
      {
        "duration": 104700,
        "start_time": "2023-07-20T06:20:43.470Z"
      },
      {
        "duration": 118088,
        "start_time": "2023-07-20T06:22:28.172Z"
      },
      {
        "duration": 68004,
        "start_time": "2023-07-20T06:24:26.262Z"
      },
      {
        "duration": 109,
        "start_time": "2023-07-20T06:25:34.269Z"
      },
      {
        "duration": 1266,
        "start_time": "2023-07-20T06:25:34.380Z"
      },
      {
        "duration": 36605,
        "start_time": "2023-07-20T06:25:35.648Z"
      },
      {
        "duration": 85387,
        "start_time": "2023-07-20T06:26:12.255Z"
      },
      {
        "duration": 15,
        "start_time": "2023-07-20T06:27:37.644Z"
      },
      {
        "duration": 22,
        "start_time": "2023-07-20T06:27:37.660Z"
      },
      {
        "duration": 188,
        "start_time": "2023-07-20T06:27:37.684Z"
      },
      {
        "duration": 0,
        "start_time": "2023-07-20T06:27:37.873Z"
      },
      {
        "duration": 0,
        "start_time": "2023-07-20T06:27:37.875Z"
      },
      {
        "duration": 0,
        "start_time": "2023-07-20T06:27:37.877Z"
      },
      {
        "duration": 0,
        "start_time": "2023-07-20T06:27:37.878Z"
      },
      {
        "duration": 0,
        "start_time": "2023-07-20T06:27:37.879Z"
      },
      {
        "duration": 0,
        "start_time": "2023-07-20T06:27:37.881Z"
      },
      {
        "duration": 0,
        "start_time": "2023-07-20T06:27:37.882Z"
      },
      {
        "duration": 0,
        "start_time": "2023-07-20T06:27:37.883Z"
      },
      {
        "duration": 1734,
        "start_time": "2023-07-20T06:43:48.195Z"
      },
      {
        "duration": 812,
        "start_time": "2023-07-20T06:43:49.932Z"
      },
      {
        "duration": 14,
        "start_time": "2023-07-20T06:43:50.746Z"
      },
      {
        "duration": 20,
        "start_time": "2023-07-20T06:43:50.761Z"
      },
      {
        "duration": 104975,
        "start_time": "2023-07-20T06:43:50.783Z"
      },
      {
        "duration": 11079,
        "start_time": "2023-07-20T06:45:35.760Z"
      },
      {
        "duration": 112516,
        "start_time": "2023-07-20T06:45:46.842Z"
      },
      {
        "duration": 122304,
        "start_time": "2023-07-20T06:47:39.360Z"
      },
      {
        "duration": 68688,
        "start_time": "2023-07-20T06:49:41.666Z"
      },
      {
        "duration": 35,
        "start_time": "2023-07-20T06:50:50.357Z"
      },
      {
        "duration": 1291,
        "start_time": "2023-07-20T06:50:50.394Z"
      },
      {
        "duration": 46366,
        "start_time": "2023-07-20T06:50:51.687Z"
      },
      {
        "duration": 96972,
        "start_time": "2023-07-20T06:51:38.056Z"
      },
      {
        "duration": 21,
        "start_time": "2023-07-20T06:53:15.030Z"
      },
      {
        "duration": 46,
        "start_time": "2023-07-20T06:53:15.054Z"
      },
      {
        "duration": 622262,
        "start_time": "2023-07-20T06:53:15.102Z"
      },
      {
        "duration": 47189,
        "start_time": "2023-07-20T07:03:37.366Z"
      },
      {
        "duration": 645208,
        "start_time": "2023-07-20T07:04:24.556Z"
      },
      {
        "duration": 30076,
        "start_time": "2023-07-20T07:15:09.766Z"
      },
      {
        "duration": 191926,
        "start_time": "2023-07-20T07:15:39.844Z"
      },
      {
        "duration": 1687,
        "start_time": "2023-07-20T07:18:51.772Z"
      },
      {
        "duration": 11,
        "start_time": "2023-07-20T07:18:53.461Z"
      },
      {
        "duration": 44860,
        "start_time": "2023-07-20T07:18:53.473Z"
      },
      {
        "duration": 208,
        "start_time": "2023-07-20T14:04:15.332Z"
      },
      {
        "duration": 137,
        "start_time": "2023-07-20T14:04:40.416Z"
      },
      {
        "duration": 3495,
        "start_time": "2023-07-20T14:04:45.473Z"
      },
      {
        "duration": 2415,
        "start_time": "2023-07-20T14:04:49.009Z"
      },
      {
        "duration": 9,
        "start_time": "2023-07-20T14:04:52.679Z"
      },
      {
        "duration": 11,
        "start_time": "2023-07-20T14:04:55.576Z"
      },
      {
        "duration": 5,
        "start_time": "2023-07-20T14:05:00.078Z"
      },
      {
        "duration": 2309,
        "start_time": "2023-07-20T14:06:17.178Z"
      },
      {
        "duration": 9,
        "start_time": "2023-07-20T14:08:09.385Z"
      },
      {
        "duration": 1254235,
        "start_time": "2023-07-20T14:09:30.856Z"
      },
      {
        "duration": 2191,
        "start_time": "2023-07-20T14:30:25.093Z"
      },
      {
        "duration": 0,
        "start_time": "2023-07-20T14:30:27.288Z"
      },
      {
        "duration": 1,
        "start_time": "2023-07-20T14:30:27.288Z"
      },
      {
        "duration": 1,
        "start_time": "2023-07-20T14:30:27.289Z"
      },
      {
        "duration": 0,
        "start_time": "2023-07-20T14:30:27.291Z"
      },
      {
        "duration": 0,
        "start_time": "2023-07-20T14:30:27.292Z"
      },
      {
        "duration": 0,
        "start_time": "2023-07-20T14:30:27.292Z"
      },
      {
        "duration": 0,
        "start_time": "2023-07-20T14:30:27.293Z"
      },
      {
        "duration": 0,
        "start_time": "2023-07-20T14:30:27.294Z"
      },
      {
        "duration": 0,
        "start_time": "2023-07-20T14:30:27.295Z"
      },
      {
        "duration": 0,
        "start_time": "2023-07-20T14:30:27.296Z"
      },
      {
        "duration": 0,
        "start_time": "2023-07-20T14:30:27.297Z"
      },
      {
        "duration": 0,
        "start_time": "2023-07-20T14:30:27.298Z"
      },
      {
        "duration": 0,
        "start_time": "2023-07-20T14:30:27.299Z"
      },
      {
        "duration": 0,
        "start_time": "2023-07-20T14:30:27.300Z"
      },
      {
        "duration": 0,
        "start_time": "2023-07-20T14:30:27.301Z"
      },
      {
        "duration": 0,
        "start_time": "2023-07-20T14:30:27.302Z"
      },
      {
        "duration": 0,
        "start_time": "2023-07-20T14:30:27.304Z"
      },
      {
        "duration": 1865,
        "start_time": "2023-07-20T14:50:04.623Z"
      },
      {
        "duration": 949,
        "start_time": "2023-07-20T14:50:06.490Z"
      },
      {
        "duration": 9,
        "start_time": "2023-07-20T14:50:07.441Z"
      },
      {
        "duration": 26,
        "start_time": "2023-07-20T14:50:07.452Z"
      },
      {
        "duration": 2378,
        "start_time": "2023-07-21T07:18:52.883Z"
      },
      {
        "duration": 2342,
        "start_time": "2023-07-21T07:18:55.263Z"
      },
      {
        "duration": 8,
        "start_time": "2023-07-21T07:18:57.607Z"
      },
      {
        "duration": 20,
        "start_time": "2023-07-21T07:18:57.617Z"
      },
      {
        "duration": 72,
        "start_time": "2023-07-21T07:18:57.639Z"
      },
      {
        "duration": 0,
        "start_time": "2023-07-21T07:18:57.713Z"
      },
      {
        "duration": 0,
        "start_time": "2023-07-21T07:18:57.714Z"
      },
      {
        "duration": 0,
        "start_time": "2023-07-21T07:18:57.715Z"
      },
      {
        "duration": 0,
        "start_time": "2023-07-21T07:18:57.716Z"
      },
      {
        "duration": 0,
        "start_time": "2023-07-21T07:18:57.717Z"
      },
      {
        "duration": 0,
        "start_time": "2023-07-21T07:18:57.718Z"
      },
      {
        "duration": 0,
        "start_time": "2023-07-21T07:18:57.719Z"
      },
      {
        "duration": 0,
        "start_time": "2023-07-21T07:18:57.720Z"
      },
      {
        "duration": 0,
        "start_time": "2023-07-21T07:18:57.721Z"
      },
      {
        "duration": 0,
        "start_time": "2023-07-21T07:18:57.722Z"
      },
      {
        "duration": 0,
        "start_time": "2023-07-21T07:18:57.723Z"
      },
      {
        "duration": 0,
        "start_time": "2023-07-21T07:18:57.724Z"
      },
      {
        "duration": 0,
        "start_time": "2023-07-21T07:18:57.725Z"
      },
      {
        "duration": 0,
        "start_time": "2023-07-21T07:18:57.726Z"
      },
      {
        "duration": 0,
        "start_time": "2023-07-21T07:18:57.727Z"
      },
      {
        "duration": 0,
        "start_time": "2023-07-21T07:18:57.728Z"
      },
      {
        "duration": 0,
        "start_time": "2023-07-21T07:18:57.729Z"
      },
      {
        "duration": 1,
        "start_time": "2023-07-21T07:18:57.729Z"
      },
      {
        "duration": 384,
        "start_time": "2023-07-21T07:42:15.169Z"
      },
      {
        "duration": 500,
        "start_time": "2023-07-21T07:43:03.623Z"
      },
      {
        "duration": 317,
        "start_time": "2023-07-21T07:43:13.548Z"
      },
      {
        "duration": 115,
        "start_time": "2023-07-21T07:43:52.625Z"
      },
      {
        "duration": 112,
        "start_time": "2023-07-21T07:44:29.688Z"
      },
      {
        "duration": 12,
        "start_time": "2023-07-21T07:44:55.133Z"
      },
      {
        "duration": 870,
        "start_time": "2023-07-21T07:45:03.866Z"
      },
      {
        "duration": 7,
        "start_time": "2023-07-21T07:45:13.653Z"
      },
      {
        "duration": 16,
        "start_time": "2023-07-21T07:45:22.989Z"
      },
      {
        "duration": 94,
        "start_time": "2023-07-21T07:46:10.819Z"
      },
      {
        "duration": 2655,
        "start_time": "2023-07-21T11:50:06.854Z"
      },
      {
        "duration": 2770,
        "start_time": "2023-07-21T11:50:09.512Z"
      },
      {
        "duration": 9,
        "start_time": "2023-07-21T11:50:12.283Z"
      },
      {
        "duration": 13,
        "start_time": "2023-07-21T11:50:12.294Z"
      },
      {
        "duration": 155,
        "start_time": "2023-07-21T11:50:12.308Z"
      },
      {
        "duration": 0,
        "start_time": "2023-07-21T11:50:12.465Z"
      },
      {
        "duration": 0,
        "start_time": "2023-07-21T11:50:12.466Z"
      },
      {
        "duration": 0,
        "start_time": "2023-07-21T11:50:12.467Z"
      },
      {
        "duration": 0,
        "start_time": "2023-07-21T11:50:12.468Z"
      },
      {
        "duration": 0,
        "start_time": "2023-07-21T11:50:12.468Z"
      },
      {
        "duration": 0,
        "start_time": "2023-07-21T11:50:12.469Z"
      },
      {
        "duration": 0,
        "start_time": "2023-07-21T11:50:12.470Z"
      },
      {
        "duration": 0,
        "start_time": "2023-07-21T11:50:12.471Z"
      },
      {
        "duration": 0,
        "start_time": "2023-07-21T11:50:12.472Z"
      },
      {
        "duration": 0,
        "start_time": "2023-07-21T11:50:12.473Z"
      },
      {
        "duration": 0,
        "start_time": "2023-07-21T11:50:12.474Z"
      },
      {
        "duration": 0,
        "start_time": "2023-07-21T11:50:12.475Z"
      },
      {
        "duration": 0,
        "start_time": "2023-07-21T11:50:12.476Z"
      },
      {
        "duration": 0,
        "start_time": "2023-07-21T11:50:12.477Z"
      },
      {
        "duration": 0,
        "start_time": "2023-07-21T11:50:12.479Z"
      },
      {
        "duration": 0,
        "start_time": "2023-07-21T11:50:12.480Z"
      },
      {
        "duration": 0,
        "start_time": "2023-07-21T11:50:12.481Z"
      },
      {
        "duration": 0,
        "start_time": "2023-07-21T11:50:12.482Z"
      },
      {
        "duration": 2728,
        "start_time": "2023-07-21T11:50:39.546Z"
      },
      {
        "duration": 1440,
        "start_time": "2023-07-21T11:51:25.648Z"
      },
      {
        "duration": 5,
        "start_time": "2023-07-21T11:52:25.917Z"
      },
      {
        "duration": 952,
        "start_time": "2023-07-21T11:52:44.852Z"
      },
      {
        "duration": 941,
        "start_time": "2023-07-21T11:53:27.049Z"
      },
      {
        "duration": 968,
        "start_time": "2023-07-21T11:56:01.747Z"
      },
      {
        "duration": 990,
        "start_time": "2023-07-21T11:56:07.256Z"
      },
      {
        "duration": 123,
        "start_time": "2023-07-21T12:04:52.783Z"
      },
      {
        "duration": 323,
        "start_time": "2023-07-21T12:05:28.543Z"
      },
      {
        "duration": 288,
        "start_time": "2023-07-21T12:12:22.919Z"
      },
      {
        "duration": 380,
        "start_time": "2023-07-21T12:13:10.685Z"
      },
      {
        "duration": 12,
        "start_time": "2023-07-21T12:13:49.139Z"
      },
      {
        "duration": 491,
        "start_time": "2023-07-21T12:14:32.672Z"
      },
      {
        "duration": 340,
        "start_time": "2023-07-21T12:16:38.145Z"
      },
      {
        "duration": 227,
        "start_time": "2023-07-21T12:20:16.093Z"
      },
      {
        "duration": 392,
        "start_time": "2023-07-21T12:20:26.601Z"
      },
      {
        "duration": 104,
        "start_time": "2023-07-21T12:29:45.145Z"
      },
      {
        "duration": 363,
        "start_time": "2023-07-21T12:30:00.285Z"
      },
      {
        "duration": 13,
        "start_time": "2023-07-21T12:31:10.802Z"
      },
      {
        "duration": 2269,
        "start_time": "2023-07-21T12:31:46.033Z"
      },
      {
        "duration": 826,
        "start_time": "2023-07-21T12:33:01.503Z"
      },
      {
        "duration": 264,
        "start_time": "2023-07-21T12:33:16.428Z"
      },
      {
        "duration": 911,
        "start_time": "2023-07-21T12:47:57.465Z"
      },
      {
        "duration": 108,
        "start_time": "2023-07-22T06:25:49.336Z"
      },
      {
        "duration": 2511,
        "start_time": "2023-07-22T06:26:04.012Z"
      },
      {
        "duration": 3208,
        "start_time": "2023-07-22T06:26:06.525Z"
      },
      {
        "duration": 10,
        "start_time": "2023-07-22T06:26:09.735Z"
      },
      {
        "duration": 21,
        "start_time": "2023-07-22T06:26:09.747Z"
      }
    ],
    "kernelspec": {
      "display_name": "Python 3 (ipykernel)",
      "language": "python",
      "name": "python3"
    },
    "language_info": {
      "codemirror_mode": {
        "name": "ipython",
        "version": 3
      },
      "file_extension": ".py",
      "mimetype": "text/x-python",
      "name": "python",
      "nbconvert_exporter": "python",
      "pygments_lexer": "ipython3",
      "version": "3.9.5"
    },
    "toc": {
      "base_numbering": 1,
      "nav_menu": {},
      "number_sections": true,
      "sideBar": true,
      "skip_h1_title": true,
      "title_cell": "Содержание",
      "title_sidebar": "Contents",
      "toc_cell": true,
      "toc_position": {
        "height": "calc(100% - 180px)",
        "left": "10px",
        "top": "150px",
        "width": "302.391px"
      },
      "toc_section_display": true,
      "toc_window_display": false
    },
    "colab": {
      "provenance": []
    }
  },
  "nbformat": 4,
  "nbformat_minor": 0
}