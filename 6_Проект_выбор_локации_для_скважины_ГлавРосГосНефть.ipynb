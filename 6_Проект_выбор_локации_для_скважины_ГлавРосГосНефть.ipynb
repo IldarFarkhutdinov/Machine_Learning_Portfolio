{
  "cells": [
    {
      "cell_type": "markdown",
      "metadata": {
        "id": "usbCUMxXvGI_"
      },
      "source": [
        "<div style=\"border:2px solid Black; padding:20px;\">\n",
        "\n",
        "#Выбор локации для скважины\n",
        "\n",
        "Допустим, вы работаете в добывающей компании «ГлавРосГосНефть». Нужно решить, где бурить новую скважину.\n",
        "\n",
        "Вам предоставлены пробы нефти в трёх регионах: в каждом 100 000 месторождений, где измерили качество нефти и объём её запасов. Постройте модель машинного обучения, которая поможет определить регион, где добыча принесёт наибольшую прибыль. Проанализируйте возможную прибыль и риски техникой *Bootstrap.*\n",
        "\n",
        "Шаги для выбора локации:\n",
        "\n",
        "- В избранном регионе ищут месторождения, для каждого определяют значения признаков;\n",
        "- Строят модель и оценивают объём запасов;\n",
        "- Выбирают месторождения с самымb высокими оценками значений. Количество месторождений зависит от бюджета компании и стоимости разработки одной скважины;\n",
        "- Прибыль равна суммарной прибыли отобранных месторождений.\n",
        "\n",
        "</div>"
      ]
    },
    {
      "cell_type": "markdown",
      "metadata": {
        "id": "iSJ5_5YkvGJA"
      },
      "source": [
        "Этапы работы над проектом:\n",
        "\n",
        "- Изучить данные.\n",
        "- Провести подготовку данных к моделированию.\n",
        "- Обучить модель для каждого региона geo_data_0, geo_data_1 и geo_data_2.\n",
        "- Составить функцию расчета прибыли в регионе.\n",
        "- Посчитать прибыль и риски за каждый регион и обосновать выбор региона.\n",
        "- Оформить проект и сделать выводы.\n"
      ]
    },
    {
      "cell_type": "markdown",
      "metadata": {
        "id": "E_MGmsPpvGJA"
      },
      "source": [
        "## Загрузка и подготовка данных"
      ]
    },
    {
      "cell_type": "code",
      "execution_count": null,
      "metadata": {
        "id": "X63C1gtFvGJB"
      },
      "outputs": [],
      "source": [
        "import matplotlib.pyplot as plt\n",
        "import numpy as np\n",
        "import pandas as pd\n",
        "from sklearn.model_selection import train_test_split\n",
        "from sklearn.linear_model import LinearRegression\n",
        "\n",
        "\n",
        "from sklearn.metrics import mean_squared_error\n",
        "from sklearn.preprocessing import StandardScaler\n",
        "from sklearn.utils import shuffle\n",
        "import warnings\n",
        "warnings.filterwarnings('ignore')\n",
        "\n",
        "from numpy.random import RandomState\n",
        "\n",
        "RANDOM_STATE = RandomState(12345)"
      ]
    },
    {
      "cell_type": "markdown",
      "metadata": {
        "id": "tjyoCPTwvGJH"
      },
      "source": [
        "Описание данных:\n",
        "\n",
        "- id — уникальный идентификатор скважины\n",
        "- f0, f1, f2 — три признака точек (неважно, что они означают, но сами признаки значимы);\n",
        "- product — объём запасов в скважине (тыс. баррелей)\n",
        "- Загрузим данные из 3-х датасетов"
      ]
    },
    {
      "cell_type": "markdown",
      "metadata": {
        "id": "bW9VYMBrvGJI"
      },
      "source": [
        "- Признаки для модели:\n",
        "\n",
        "f0;\n",
        "f1;\n",
        "f2.\n",
        "\n",
        "- Целевой признак:\n",
        "\n",
        "product."
      ]
    },
    {
      "cell_type": "markdown",
      "metadata": {
        "id": "iKs42q3uvGJI"
      },
      "source": [
        "\n",
        "Загрузим каждый регион в отдельный датафрейм."
      ]
    },
    {
      "cell_type": "code",
      "execution_count": null,
      "metadata": {
        "id": "WTqbZv2fvGJK"
      },
      "outputs": [],
      "source": [
        "geo_data_0 = pd.read_csv('datasets/geo_data_0.csv')\n",
        "geo_data_1 = pd.read_csv('datasets/geo_data_1.csv')\n",
        "geo_data_2 = pd.read_csv('datasets/geo_data_2.csv')"
      ]
    },
    {
      "cell_type": "code",
      "execution_count": null,
      "metadata": {
        "scrolled": false,
        "colab": {
          "base_uri": "https://localhost:8080/"
        },
        "id": "HX3mEUN5vGJK",
        "outputId": "960f12c3-8315-4a59-cc6e-4674f6f239b5"
      },
      "outputs": [
        {
          "output_type": "stream",
          "name": "stdout",
          "text": [
            "<class 'pandas.core.frame.DataFrame'>\n",
            "RangeIndex: 100000 entries, 0 to 99999\n",
            "Data columns (total 5 columns):\n",
            " #   Column   Non-Null Count   Dtype  \n",
            "---  ------   --------------   -----  \n",
            " 0   id       100000 non-null  object \n",
            " 1   f0       100000 non-null  float64\n",
            " 2   f1       100000 non-null  float64\n",
            " 3   f2       100000 non-null  float64\n",
            " 4   product  100000 non-null  float64\n",
            "dtypes: float64(4), object(1)\n",
            "memory usage: 3.8+ MB\n"
          ]
        },
        {
          "output_type": "execute_result",
          "data": {
            "text/plain": [
              "(      id        f0        f1        f2     product\n",
              " 0  txEyH  0.705745 -0.497823  1.221170  105.280062\n",
              " 1  2acmU  1.334711 -0.340164  4.365080   73.037750\n",
              " 2  409Wp  1.022732  0.151990  1.419926   85.265647\n",
              " 3  iJLyR -0.032172  0.139033  2.978566  168.620776\n",
              " 4  Xdl7t  1.988431  0.155413  4.751769  154.036647,\n",
              " None,\n",
              "                   f0             f1             f2        product\n",
              " count  100000.000000  100000.000000  100000.000000  100000.000000\n",
              " mean        0.500419       0.250143       2.502647      92.500000\n",
              " std         0.871832       0.504433       3.248248      44.288691\n",
              " min        -1.408605      -0.848218     -12.088328       0.000000\n",
              " 25%        -0.072580      -0.200881       0.287748      56.497507\n",
              " 50%         0.502360       0.250252       2.515969      91.849972\n",
              " 75%         1.073581       0.700646       4.715088     128.564089\n",
              " max         2.362331       1.343769      16.003790     185.364347)"
            ]
          },
          "metadata": {},
          "execution_count": 3
        }
      ],
      "source": [
        "geo_data_0.head() , geo_data_0.info(),  geo_data_0.describe()"
      ]
    },
    {
      "cell_type": "code",
      "execution_count": null,
      "metadata": {
        "colab": {
          "base_uri": "https://localhost:8080/"
        },
        "id": "gyui3P3ZvGJV",
        "outputId": "cd697c7d-d5ce-4690-f125-3e32f7f8a37c"
      },
      "outputs": [
        {
          "output_type": "stream",
          "name": "stdout",
          "text": [
            "<class 'pandas.core.frame.DataFrame'>\n",
            "RangeIndex: 100000 entries, 0 to 99999\n",
            "Data columns (total 5 columns):\n",
            " #   Column   Non-Null Count   Dtype  \n",
            "---  ------   --------------   -----  \n",
            " 0   id       100000 non-null  object \n",
            " 1   f0       100000 non-null  float64\n",
            " 2   f1       100000 non-null  float64\n",
            " 3   f2       100000 non-null  float64\n",
            " 4   product  100000 non-null  float64\n",
            "dtypes: float64(4), object(1)\n",
            "memory usage: 3.8+ MB\n"
          ]
        },
        {
          "output_type": "execute_result",
          "data": {
            "text/plain": [
              "(      id         f0         f1        f2     product\n",
              " 0  kBEdx -15.001348  -8.276000 -0.005876    3.179103\n",
              " 1  62mP7  14.272088  -3.475083  0.999183   26.953261\n",
              " 2  vyE1P   6.263187  -5.948386  5.001160  134.766305\n",
              " 3  KcrkZ -13.081196 -11.506057  4.999415  137.945408\n",
              " 4  AHL4O  12.702195  -8.147433  5.004363  134.766305,\n",
              " None,\n",
              "                   f0             f1             f2        product\n",
              " count  100000.000000  100000.000000  100000.000000  100000.000000\n",
              " mean        1.141296      -4.796579       2.494541      68.825000\n",
              " std         8.965932       5.119872       1.703572      45.944423\n",
              " min       -31.609576     -26.358598      -0.018144       0.000000\n",
              " 25%        -6.298551      -8.267985       1.000021      26.953261\n",
              " 50%         1.153055      -4.813172       2.011479      57.085625\n",
              " 75%         8.621015      -1.332816       3.999904     107.813044\n",
              " max        29.421755      18.734063       5.019721     137.945408)"
            ]
          },
          "metadata": {},
          "execution_count": 4
        }
      ],
      "source": [
        "geo_data_1.head() , geo_data_1.info(),  geo_data_1.describe()"
      ]
    },
    {
      "cell_type": "code",
      "execution_count": null,
      "metadata": {
        "colab": {
          "base_uri": "https://localhost:8080/"
        },
        "id": "l6pnIg6NvGJW",
        "outputId": "cabc62a4-b6e3-4b3f-c191-7e4a1ff97d4e"
      },
      "outputs": [
        {
          "output_type": "stream",
          "name": "stdout",
          "text": [
            "<class 'pandas.core.frame.DataFrame'>\n",
            "RangeIndex: 100000 entries, 0 to 99999\n",
            "Data columns (total 5 columns):\n",
            " #   Column   Non-Null Count   Dtype  \n",
            "---  ------   --------------   -----  \n",
            " 0   id       100000 non-null  object \n",
            " 1   f0       100000 non-null  float64\n",
            " 2   f1       100000 non-null  float64\n",
            " 3   f2       100000 non-null  float64\n",
            " 4   product  100000 non-null  float64\n",
            "dtypes: float64(4), object(1)\n",
            "memory usage: 3.8+ MB\n"
          ]
        },
        {
          "output_type": "execute_result",
          "data": {
            "text/plain": [
              "(      id        f0        f1        f2     product\n",
              " 0  fwXo0 -1.146987  0.963328 -0.828965   27.758673\n",
              " 1  WJtFt  0.262778  0.269839 -2.530187   56.069697\n",
              " 2  ovLUW  0.194587  0.289035 -5.586433   62.871910\n",
              " 3  q6cA6  2.236060 -0.553760  0.930038  114.572842\n",
              " 4  WPMUX -0.515993  1.716266  5.899011  149.600746,\n",
              " None,\n",
              "                   f0             f1             f2        product\n",
              " count  100000.000000  100000.000000  100000.000000  100000.000000\n",
              " mean        0.002023      -0.002081       2.495128      95.000000\n",
              " std         1.732045       1.730417       3.473445      44.749921\n",
              " min        -8.760004      -7.084020     -11.970335       0.000000\n",
              " 25%        -1.162288      -1.174820       0.130359      59.450441\n",
              " 50%         0.009424      -0.009482       2.484236      94.925613\n",
              " 75%         1.158535       1.163678       4.858794     130.595027\n",
              " max         7.238262       7.844801      16.739402     190.029838)"
            ]
          },
          "metadata": {},
          "execution_count": 5
        }
      ],
      "source": [
        "geo_data_2.head() , geo_data_2.info(),  geo_data_2.describe()"
      ]
    },
    {
      "cell_type": "code",
      "execution_count": null,
      "metadata": {
        "id": "QtGoTg0gvGJb"
      },
      "outputs": [],
      "source": [
        "def chkdata(data):\n",
        "    print(f\"Shape:    {data.shape}\")\n",
        "    print(\"Na's:         \", data.isna().sum().sum())\n",
        "    print(\"duplicates:   \", data.duplicated().sum())\n",
        "    print(\"\\nРаспределение признаков:\")\n",
        "    data[[\"f0\",\"f1\",\"f2\"]].hist()\n",
        "    plt.show()"
      ]
    },
    {
      "cell_type": "code",
      "execution_count": null,
      "metadata": {
        "colab": {
          "base_uri": "https://localhost:8080/",
          "height": 1000
        },
        "id": "6ialMOUdvGJc",
        "outputId": "b64433b7-e68d-4678-cd65-d688bb45b73e"
      },
      "outputs": [
        {
          "output_type": "stream",
          "name": "stdout",
          "text": [
            "Shape:    (100000, 5)\n",
            "Na's:          0\n",
            "duplicates:    0\n",
            "\n",
            "Распределение признаков:\n"
          ]
        },
        {
          "output_type": "display_data",
          "data": {
            "text/plain": [
              "<Figure size 640x480 with 4 Axes>"
            ],
            "image/png": "[encoded data removed]"
          },
          "metadata": {}
        },
        {
          "output_type": "stream",
          "name": "stdout",
          "text": [
            "Shape:    (100000, 5)\n",
            "Na's:          0\n",
            "duplicates:    0\n",
            "\n",
            "Распределение признаков:\n"
          ]
        },
        {
          "output_type": "display_data",
          "data": {
            "text/plain": [
              "<Figure size 640x480 with 4 Axes>"
            ],
            "image/png": "[encoded data removed]"
          },
          "metadata": {}
        },
        {
          "output_type": "stream",
          "name": "stdout",
          "text": [
            "Shape:    (100000, 5)\n",
            "Na's:          0\n",
            "duplicates:    0\n",
            "\n",
            "Распределение признаков:\n"
          ]
        },
        {
          "output_type": "display_data",
          "data": {
            "text/plain": [
              "<Figure size 640x480 with 4 Axes>"
            ],
            "image/png": "[encoded data removed]"
          },
          "metadata": {}
        },
        {
          "output_type": "execute_result",
          "data": {
            "text/plain": [
              "(None, None, None)"
            ]
          },
          "metadata": {},
          "execution_count": 7
        }
      ],
      "source": [
        "chkdata(geo_data_0) , chkdata(geo_data_1), chkdata(geo_data_2)"
      ]
    },
    {
      "cell_type": "markdown",
      "metadata": {
        "id": "85AhV8z8vGJc"
      },
      "source": [
        "В данных отсутствуют пропуски. Удалим из каждого датафрейма столбец id. Он не несет значимости для модели."
      ]
    },
    {
      "cell_type": "code",
      "execution_count": null,
      "metadata": {
        "id": "TBFxj8EmvGJd"
      },
      "outputs": [],
      "source": [
        "geo_data_0 = geo_data_0.drop(['id'], axis=1)\n",
        "geo_data_1 = geo_data_1.drop(['id'], axis=1)\n",
        "geo_data_2 = geo_data_2.drop(['id'], axis=1)"
      ]
    },
    {
      "cell_type": "code",
      "execution_count": null,
      "metadata": {
        "id": "qHrez1mNvGJe"
      },
      "outputs": [],
      "source": [
        "def check_zeros(df, target_name):\n",
        "    zeros = df[df[target_name] == 0][target_name].count()\n",
        "    percent = (zeros / df.shape[0]) *100\n",
        "    print('Количество нулевых значений -', zeros)\n",
        "    print('Процент нулевых значений -', percent)"
      ]
    },
    {
      "cell_type": "code",
      "execution_count": null,
      "metadata": {
        "colab": {
          "base_uri": "https://localhost:8080/"
        },
        "id": "zu6yfrHovGJf",
        "outputId": "06e5acb7-6086-46f0-fea4-ad8b78dd6bd7"
      },
      "outputs": [
        {
          "output_type": "stream",
          "name": "stdout",
          "text": [
            "Количество нулевых значений - 1\n",
            "Процент нулевых значений - 0.001\n"
          ]
        }
      ],
      "source": [
        "check_zeros(geo_data_0, 'product')"
      ]
    },
    {
      "cell_type": "code",
      "execution_count": null,
      "metadata": {
        "colab": {
          "base_uri": "https://localhost:8080/"
        },
        "id": "_c7_Kwc_vGJg",
        "outputId": "676f07da-ecbe-4b11-93be-be2d72478b9a"
      },
      "outputs": [
        {
          "output_type": "stream",
          "name": "stdout",
          "text": [
            "Количество нулевых значений - 8235\n",
            "Процент нулевых значений - 8.235000000000001\n"
          ]
        }
      ],
      "source": [
        "check_zeros(geo_data_1, 'product')"
      ]
    },
    {
      "cell_type": "code",
      "execution_count": null,
      "metadata": {
        "scrolled": true,
        "colab": {
          "base_uri": "https://localhost:8080/"
        },
        "id": "xkhI2OPvvGJh",
        "outputId": "49f08e0a-1308-40d5-a2a3-c343175c7c6b"
      },
      "outputs": [
        {
          "output_type": "stream",
          "name": "stdout",
          "text": [
            "Количество нулевых значений - 1\n",
            "Процент нулевых значений - 0.001\n"
          ]
        }
      ],
      "source": [
        "check_zeros(geo_data_2, 'product')"
      ]
    },
    {
      "cell_type": "code",
      "execution_count": null,
      "metadata": {
        "colab": {
          "base_uri": "https://localhost:8080/",
          "height": 81
        },
        "id": "5jFw3-wivGJh",
        "outputId": "7762fbc7-0b17-4266-f6b0-9d13ad3f24d7"
      },
      "outputs": [
        {
          "output_type": "execute_result",
          "data": {
            "text/plain": [
              "             f0        f1        f2  product\n",
              "57263 -0.702064  0.375992  0.236572      0.0"
            ],
            "text/html": [
              "\n",
              "\n",
              "  <div id=\"df-ecbf6552-6b94-4c39-824f-adff887d86e8\">\n",
              "    <div class=\"colab-df-container\">\n",
              "      <div>\n",
              "<style scoped>\n",
              "    .dataframe tbody tr th:only-of-type {\n",
              "        vertical-align: middle;\n",
              "    }\n",
              "\n",
              "    .dataframe tbody tr th {\n",
              "        vertical-align: top;\n",
              "    }\n",
              "\n",
              "    .dataframe thead th {\n",
              "        text-align: right;\n",
              "    }\n",
              "</style>\n",
              "<table border=\"1\" class=\"dataframe\">\n",
              "  <thead>\n",
              "    <tr style=\"text-align: right;\">\n",
              "      <th></th>\n",
              "      <th>f0</th>\n",
              "      <th>f1</th>\n",
              "      <th>f2</th>\n",
              "      <th>product</th>\n",
              "    </tr>\n",
              "  </thead>\n",
              "  <tbody>\n",
              "    <tr>\n",
              "      <th>57263</th>\n",
              "      <td>-0.702064</td>\n",
              "      <td>0.375992</td>\n",
              "      <td>0.236572</td>\n",
              "      <td>0.0</td>\n",
              "    </tr>\n",
              "  </tbody>\n",
              "</table>\n",
              "</div>\n",
              "      <button class=\"colab-df-convert\" onclick=\"convertToInteractive('df-ecbf6552-6b94-4c39-824f-adff887d86e8')\"\n",
              "              title=\"Convert this dataframe to an interactive table.\"\n",
              "              style=\"display:none;\">\n",
              "\n",
              "  <svg xmlns=\"http://www.w3.org/2000/svg\" height=\"24px\"viewBox=\"0 0 24 24\"\n",
              "       width=\"24px\">\n",
              "    <path d=\"M0 0h24v24H0V0z\" fill=\"none\"/>\n",
              "    <path d=\"M18.56 5.44l.94 2.06.94-2.06 2.06-.94-2.06-.94-.94-2.06-.94 2.06-2.06.94zm-11 1L8.5 8.5l.94-2.06 2.06-.94-2.06-.94L8.5 2.5l-.94 2.06-2.06.94zm10 10l.94 2.06.94-2.06 2.06-.94-2.06-.94-.94-2.06-.94 2.06-2.06.94z\"/><path d=\"M17.41 7.96l-1.37-1.37c-.4-.4-.92-.59-1.43-.59-.52 0-1.04.2-1.43.59L10.3 9.45l-7.72 7.72c-.78.78-.78 2.05 0 2.83L4 21.41c.39.39.9.59 1.41.59.51 0 1.02-.2 1.41-.59l7.78-7.78 2.81-2.81c.8-.78.8-2.07 0-2.86zM5.41 20L4 18.59l7.72-7.72 1.47 1.35L5.41 20z\"/>\n",
              "  </svg>\n",
              "      </button>\n",
              "\n",
              "\n",
              "\n",
              "    <div id=\"df-272b8559-5913-4c46-ac9d-15cf749c6435\">\n",
              "      <button class=\"colab-df-quickchart\" onclick=\"quickchart('df-272b8559-5913-4c46-ac9d-15cf749c6435')\"\n",
              "              title=\"Suggest charts.\"\n",
              "              style=\"display:none;\">\n",
              "\n",
              "<svg xmlns=\"http://www.w3.org/2000/svg\" height=\"24px\"viewBox=\"0 0 24 24\"\n",
              "     width=\"24px\">\n",
              "    <g>\n",
              "        <path d=\"M19 3H5c-1.1 0-2 .9-2 2v14c0 1.1.9 2 2 2h14c1.1 0 2-.9 2-2V5c0-1.1-.9-2-2-2zM9 17H7v-7h2v7zm4 0h-2V7h2v10zm4 0h-2v-4h2v4z\"/>\n",
              "    </g>\n",
              "</svg>\n",
              "      </button>\n",
              "    </div>\n",
              "\n",
              "<style>\n",
              "  .colab-df-quickchart {\n",
              "    background-color: #E8F0FE;\n",
              "    border: none;\n",
              "    border-radius: 50%;\n",
              "    cursor: pointer;\n",
              "    display: none;\n",
              "    fill: #1967D2;\n",
              "    height: 32px;\n",
              "    padding: 0 0 0 0;\n",
              "    width: 32px;\n",
              "  }\n",
              "\n",
              "  .colab-df-quickchart:hover {\n",
              "    background-color: #E2EBFA;\n",
              "    box-shadow: 0px 1px 2px rgba(60, 64, 67, 0.3), 0px 1px 3px 1px rgba(60, 64, 67, 0.15);\n",
              "    fill: #174EA6;\n",
              "  }\n",
              "\n",
              "  [theme=dark] .colab-df-quickchart {\n",
              "    background-color: #3B4455;\n",
              "    fill: #D2E3FC;\n",
              "  }\n",
              "\n",
              "  [theme=dark] .colab-df-quickchart:hover {\n",
              "    background-color: #434B5C;\n",
              "    box-shadow: 0px 1px 3px 1px rgba(0, 0, 0, 0.15);\n",
              "    filter: drop-shadow(0px 1px 2px rgba(0, 0, 0, 0.3));\n",
              "    fill: #FFFFFF;\n",
              "  }\n",
              "</style>\n",
              "\n",
              "    <script>\n",
              "      async function quickchart(key) {\n",
              "        const containerElement = document.querySelector('#' + key);\n",
              "        const charts = await google.colab.kernel.invokeFunction(\n",
              "            'suggestCharts', [key], {});\n",
              "      }\n",
              "    </script>\n",
              "\n",
              "      <script>\n",
              "\n",
              "function displayQuickchartButton(domScope) {\n",
              "  let quickchartButtonEl =\n",
              "    domScope.querySelector('#df-272b8559-5913-4c46-ac9d-15cf749c6435 button.colab-df-quickchart');\n",
              "  quickchartButtonEl.style.display =\n",
              "    google.colab.kernel.accessAllowed ? 'block' : 'none';\n",
              "}\n",
              "\n",
              "        displayQuickchartButton(document);\n",
              "      </script>\n",
              "      <style>\n",
              "    .colab-df-container {\n",
              "      display:flex;\n",
              "      flex-wrap:wrap;\n",
              "      gap: 12px;\n",
              "    }\n",
              "\n",
              "    .colab-df-convert {\n",
              "      background-color: #E8F0FE;\n",
              "      border: none;\n",
              "      border-radius: 50%;\n",
              "      cursor: pointer;\n",
              "      display: none;\n",
              "      fill: #1967D2;\n",
              "      height: 32px;\n",
              "      padding: 0 0 0 0;\n",
              "      width: 32px;\n",
              "    }\n",
              "\n",
              "    .colab-df-convert:hover {\n",
              "      background-color: #E2EBFA;\n",
              "      box-shadow: 0px 1px 2px rgba(60, 64, 67, 0.3), 0px 1px 3px 1px rgba(60, 64, 67, 0.15);\n",
              "      fill: #174EA6;\n",
              "    }\n",
              "\n",
              "    [theme=dark] .colab-df-convert {\n",
              "      background-color: #3B4455;\n",
              "      fill: #D2E3FC;\n",
              "    }\n",
              "\n",
              "    [theme=dark] .colab-df-convert:hover {\n",
              "      background-color: #434B5C;\n",
              "      box-shadow: 0px 1px 3px 1px rgba(0, 0, 0, 0.15);\n",
              "      filter: drop-shadow(0px 1px 2px rgba(0, 0, 0, 0.3));\n",
              "      fill: #FFFFFF;\n",
              "    }\n",
              "  </style>\n",
              "\n",
              "      <script>\n",
              "        const buttonEl =\n",
              "          document.querySelector('#df-ecbf6552-6b94-4c39-824f-adff887d86e8 button.colab-df-convert');\n",
              "        buttonEl.style.display =\n",
              "          google.colab.kernel.accessAllowed ? 'block' : 'none';\n",
              "\n",
              "        async function convertToInteractive(key) {\n",
              "          const element = document.querySelector('#df-ecbf6552-6b94-4c39-824f-adff887d86e8');\n",
              "          const dataTable =\n",
              "            await google.colab.kernel.invokeFunction('convertToInteractive',\n",
              "                                                     [key], {});\n",
              "          if (!dataTable) return;\n",
              "\n",
              "          const docLinkHtml = 'Like what you see? Visit the ' +\n",
              "            '<a target=\"_blank\" href=https://colab.research.google.com/notebooks/data_table.ipynb>data table notebook</a>'\n",
              "            + ' to learn more about interactive tables.';\n",
              "          element.innerHTML = '';\n",
              "          dataTable['output_type'] = 'display_data';\n",
              "          await google.colab.output.renderOutput(dataTable, element);\n",
              "          const docLink = document.createElement('div');\n",
              "          docLink.innerHTML = docLinkHtml;\n",
              "          element.appendChild(docLink);\n",
              "        }\n",
              "      </script>\n",
              "    </div>\n",
              "  </div>\n"
            ]
          },
          "metadata": {},
          "execution_count": 13
        }
      ],
      "source": [
        "geo_data_0[geo_data_0['product'] == 0]"
      ]
    },
    {
      "cell_type": "code",
      "execution_count": null,
      "metadata": {
        "colab": {
          "base_uri": "https://localhost:8080/",
          "height": 423
        },
        "id": "PwG8LBHNvGJi",
        "outputId": "1f8a2996-29dd-43e2-826f-b1cd871f8b9f"
      },
      "outputs": [
        {
          "output_type": "execute_result",
          "data": {
            "text/plain": [
              "              f0         f1        f2  product\n",
              "11     16.320755  -0.562946 -0.001783      0.0\n",
              "13      6.695604  -0.749449 -0.007630      0.0\n",
              "62     21.418478  -5.134490 -0.002836      0.0\n",
              "63      6.822701   3.104979 -0.000723      0.0\n",
              "77      6.750150 -11.893512 -0.001601      0.0\n",
              "...          ...        ...       ...      ...\n",
              "99936   5.085749  -3.980305  0.005063      0.0\n",
              "99948   8.277805  -9.178818  0.003275      0.0\n",
              "99956  13.343983  -1.290200  0.005980      0.0\n",
              "99961  13.854163 -11.528089 -0.005556      0.0\n",
              "99973  12.698645  -4.384673 -0.002600      0.0\n",
              "\n",
              "[8235 rows x 4 columns]"
            ],
            "text/html": [
              "\n",
              "\n",
              "  <div id=\"df-96ea200e-c980-47c5-b6a8-a2bc72b139b7\">\n",
              "    <div class=\"colab-df-container\">\n",
              "      <div>\n",
              "<style scoped>\n",
              "    .dataframe tbody tr th:only-of-type {\n",
              "        vertical-align: middle;\n",
              "    }\n",
              "\n",
              "    .dataframe tbody tr th {\n",
              "        vertical-align: top;\n",
              "    }\n",
              "\n",
              "    .dataframe thead th {\n",
              "        text-align: right;\n",
              "    }\n",
              "</style>\n",
              "<table border=\"1\" class=\"dataframe\">\n",
              "  <thead>\n",
              "    <tr style=\"text-align: right;\">\n",
              "      <th></th>\n",
              "      <th>f0</th>\n",
              "      <th>f1</th>\n",
              "      <th>f2</th>\n",
              "      <th>product</th>\n",
              "    </tr>\n",
              "  </thead>\n",
              "  <tbody>\n",
              "    <tr>\n",
              "      <th>11</th>\n",
              "      <td>16.320755</td>\n",
              "      <td>-0.562946</td>\n",
              "      <td>-0.001783</td>\n",
              "      <td>0.0</td>\n",
              "    </tr>\n",
              "    <tr>\n",
              "      <th>13</th>\n",
              "      <td>6.695604</td>\n",
              "      <td>-0.749449</td>\n",
              "      <td>-0.007630</td>\n",
              "      <td>0.0</td>\n",
              "    </tr>\n",
              "    <tr>\n",
              "      <th>62</th>\n",
              "      <td>21.418478</td>\n",
              "      <td>-5.134490</td>\n",
              "      <td>-0.002836</td>\n",
              "      <td>0.0</td>\n",
              "    </tr>\n",
              "    <tr>\n",
              "      <th>63</th>\n",
              "      <td>6.822701</td>\n",
              "      <td>3.104979</td>\n",
              "      <td>-0.000723</td>\n",
              "      <td>0.0</td>\n",
              "    </tr>\n",
              "    <tr>\n",
              "      <th>77</th>\n",
              "      <td>6.750150</td>\n",
              "      <td>-11.893512</td>\n",
              "      <td>-0.001601</td>\n",
              "      <td>0.0</td>\n",
              "    </tr>\n",
              "    <tr>\n",
              "      <th>...</th>\n",
              "      <td>...</td>\n",
              "      <td>...</td>\n",
              "      <td>...</td>\n",
              "      <td>...</td>\n",
              "    </tr>\n",
              "    <tr>\n",
              "      <th>99936</th>\n",
              "      <td>5.085749</td>\n",
              "      <td>-3.980305</td>\n",
              "      <td>0.005063</td>\n",
              "      <td>0.0</td>\n",
              "    </tr>\n",
              "    <tr>\n",
              "      <th>99948</th>\n",
              "      <td>8.277805</td>\n",
              "      <td>-9.178818</td>\n",
              "      <td>0.003275</td>\n",
              "      <td>0.0</td>\n",
              "    </tr>\n",
              "    <tr>\n",
              "      <th>99956</th>\n",
              "      <td>13.343983</td>\n",
              "      <td>-1.290200</td>\n",
              "      <td>0.005980</td>\n",
              "      <td>0.0</td>\n",
              "    </tr>\n",
              "    <tr>\n",
              "      <th>99961</th>\n",
              "      <td>13.854163</td>\n",
              "      <td>-11.528089</td>\n",
              "      <td>-0.005556</td>\n",
              "      <td>0.0</td>\n",
              "    </tr>\n",
              "    <tr>\n",
              "      <th>99973</th>\n",
              "      <td>12.698645</td>\n",
              "      <td>-4.384673</td>\n",
              "      <td>-0.002600</td>\n",
              "      <td>0.0</td>\n",
              "    </tr>\n",
              "  </tbody>\n",
              "</table>\n",
              "<p>8235 rows × 4 columns</p>\n",
              "</div>\n",
              "      <button class=\"colab-df-convert\" onclick=\"convertToInteractive('df-96ea200e-c980-47c5-b6a8-a2bc72b139b7')\"\n",
              "              title=\"Convert this dataframe to an interactive table.\"\n",
              "              style=\"display:none;\">\n",
              "\n",
              "  <svg xmlns=\"http://www.w3.org/2000/svg\" height=\"24px\"viewBox=\"0 0 24 24\"\n",
              "       width=\"24px\">\n",
              "    <path d=\"M0 0h24v24H0V0z\" fill=\"none\"/>\n",
              "    <path d=\"M18.56 5.44l.94 2.06.94-2.06 2.06-.94-2.06-.94-.94-2.06-.94 2.06-2.06.94zm-11 1L8.5 8.5l.94-2.06 2.06-.94-2.06-.94L8.5 2.5l-.94 2.06-2.06.94zm10 10l.94 2.06.94-2.06 2.06-.94-2.06-.94-.94-2.06-.94 2.06-2.06.94z\"/><path d=\"M17.41 7.96l-1.37-1.37c-.4-.4-.92-.59-1.43-.59-.52 0-1.04.2-1.43.59L10.3 9.45l-7.72 7.72c-.78.78-.78 2.05 0 2.83L4 21.41c.39.39.9.59 1.41.59.51 0 1.02-.2 1.41-.59l7.78-7.78 2.81-2.81c.8-.78.8-2.07 0-2.86zM5.41 20L4 18.59l7.72-7.72 1.47 1.35L5.41 20z\"/>\n",
              "  </svg>\n",
              "      </button>\n",
              "\n",
              "\n",
              "\n",
              "    <div id=\"df-48745cc2-64eb-4f4f-b2a6-a7955022077c\">\n",
              "      <button class=\"colab-df-quickchart\" onclick=\"quickchart('df-48745cc2-64eb-4f4f-b2a6-a7955022077c')\"\n",
              "              title=\"Suggest charts.\"\n",
              "              style=\"display:none;\">\n",
              "\n",
              "<svg xmlns=\"http://www.w3.org/2000/svg\" height=\"24px\"viewBox=\"0 0 24 24\"\n",
              "     width=\"24px\">\n",
              "    <g>\n",
              "        <path d=\"M19 3H5c-1.1 0-2 .9-2 2v14c0 1.1.9 2 2 2h14c1.1 0 2-.9 2-2V5c0-1.1-.9-2-2-2zM9 17H7v-7h2v7zm4 0h-2V7h2v10zm4 0h-2v-4h2v4z\"/>\n",
              "    </g>\n",
              "</svg>\n",
              "      </button>\n",
              "    </div>\n",
              "\n",
              "<style>\n",
              "  .colab-df-quickchart {\n",
              "    background-color: #E8F0FE;\n",
              "    border: none;\n",
              "    border-radius: 50%;\n",
              "    cursor: pointer;\n",
              "    display: none;\n",
              "    fill: #1967D2;\n",
              "    height: 32px;\n",
              "    padding: 0 0 0 0;\n",
              "    width: 32px;\n",
              "  }\n",
              "\n",
              "  .colab-df-quickchart:hover {\n",
              "    background-color: #E2EBFA;\n",
              "    box-shadow: 0px 1px 2px rgba(60, 64, 67, 0.3), 0px 1px 3px 1px rgba(60, 64, 67, 0.15);\n",
              "    fill: #174EA6;\n",
              "  }\n",
              "\n",
              "  [theme=dark] .colab-df-quickchart {\n",
              "    background-color: #3B4455;\n",
              "    fill: #D2E3FC;\n",
              "  }\n",
              "\n",
              "  [theme=dark] .colab-df-quickchart:hover {\n",
              "    background-color: #434B5C;\n",
              "    box-shadow: 0px 1px 3px 1px rgba(0, 0, 0, 0.15);\n",
              "    filter: drop-shadow(0px 1px 2px rgba(0, 0, 0, 0.3));\n",
              "    fill: #FFFFFF;\n",
              "  }\n",
              "</style>\n",
              "\n",
              "    <script>\n",
              "      async function quickchart(key) {\n",
              "        const containerElement = document.querySelector('#' + key);\n",
              "        const charts = await google.colab.kernel.invokeFunction(\n",
              "            'suggestCharts', [key], {});\n",
              "      }\n",
              "    </script>\n",
              "\n",
              "      <script>\n",
              "\n",
              "function displayQuickchartButton(domScope) {\n",
              "  let quickchartButtonEl =\n",
              "    domScope.querySelector('#df-48745cc2-64eb-4f4f-b2a6-a7955022077c button.colab-df-quickchart');\n",
              "  quickchartButtonEl.style.display =\n",
              "    google.colab.kernel.accessAllowed ? 'block' : 'none';\n",
              "}\n",
              "\n",
              "        displayQuickchartButton(document);\n",
              "      </script>\n",
              "      <style>\n",
              "    .colab-df-container {\n",
              "      display:flex;\n",
              "      flex-wrap:wrap;\n",
              "      gap: 12px;\n",
              "    }\n",
              "\n",
              "    .colab-df-convert {\n",
              "      background-color: #E8F0FE;\n",
              "      border: none;\n",
              "      border-radius: 50%;\n",
              "      cursor: pointer;\n",
              "      display: none;\n",
              "      fill: #1967D2;\n",
              "      height: 32px;\n",
              "      padding: 0 0 0 0;\n",
              "      width: 32px;\n",
              "    }\n",
              "\n",
              "    .colab-df-convert:hover {\n",
              "      background-color: #E2EBFA;\n",
              "      box-shadow: 0px 1px 2px rgba(60, 64, 67, 0.3), 0px 1px 3px 1px rgba(60, 64, 67, 0.15);\n",
              "      fill: #174EA6;\n",
              "    }\n",
              "\n",
              "    [theme=dark] .colab-df-convert {\n",
              "      background-color: #3B4455;\n",
              "      fill: #D2E3FC;\n",
              "    }\n",
              "\n",
              "    [theme=dark] .colab-df-convert:hover {\n",
              "      background-color: #434B5C;\n",
              "      box-shadow: 0px 1px 3px 1px rgba(0, 0, 0, 0.15);\n",
              "      filter: drop-shadow(0px 1px 2px rgba(0, 0, 0, 0.3));\n",
              "      fill: #FFFFFF;\n",
              "    }\n",
              "  </style>\n",
              "\n",
              "      <script>\n",
              "        const buttonEl =\n",
              "          document.querySelector('#df-96ea200e-c980-47c5-b6a8-a2bc72b139b7 button.colab-df-convert');\n",
              "        buttonEl.style.display =\n",
              "          google.colab.kernel.accessAllowed ? 'block' : 'none';\n",
              "\n",
              "        async function convertToInteractive(key) {\n",
              "          const element = document.querySelector('#df-96ea200e-c980-47c5-b6a8-a2bc72b139b7');\n",
              "          const dataTable =\n",
              "            await google.colab.kernel.invokeFunction('convertToInteractive',\n",
              "                                                     [key], {});\n",
              "          if (!dataTable) return;\n",
              "\n",
              "          const docLinkHtml = 'Like what you see? Visit the ' +\n",
              "            '<a target=\"_blank\" href=https://colab.research.google.com/notebooks/data_table.ipynb>data table notebook</a>'\n",
              "            + ' to learn more about interactive tables.';\n",
              "          element.innerHTML = '';\n",
              "          dataTable['output_type'] = 'display_data';\n",
              "          await google.colab.output.renderOutput(dataTable, element);\n",
              "          const docLink = document.createElement('div');\n",
              "          docLink.innerHTML = docLinkHtml;\n",
              "          element.appendChild(docLink);\n",
              "        }\n",
              "      </script>\n",
              "    </div>\n",
              "  </div>\n"
            ]
          },
          "metadata": {},
          "execution_count": 14
        }
      ],
      "source": [
        "geo_data_1[geo_data_1['product'] == 0]"
      ]
    },
    {
      "cell_type": "code",
      "execution_count": null,
      "metadata": {
        "scrolled": true,
        "colab": {
          "base_uri": "https://localhost:8080/",
          "height": 81
        },
        "id": "dAsSfSZVvGJj",
        "outputId": "039dad33-e9d8-432c-b7c6-8d60ebe4a287"
      },
      "outputs": [
        {
          "output_type": "execute_result",
          "data": {
            "text/plain": [
              "             f0        f1        f2  product\n",
              "68149 -0.865596 -1.615247 -4.126441      0.0"
            ],
            "text/html": [
              "\n",
              "\n",
              "  <div id=\"df-eda9abb0-b454-4ff2-9864-d80b6dc007b2\">\n",
              "    <div class=\"colab-df-container\">\n",
              "      <div>\n",
              "<style scoped>\n",
              "    .dataframe tbody tr th:only-of-type {\n",
              "        vertical-align: middle;\n",
              "    }\n",
              "\n",
              "    .dataframe tbody tr th {\n",
              "        vertical-align: top;\n",
              "    }\n",
              "\n",
              "    .dataframe thead th {\n",
              "        text-align: right;\n",
              "    }\n",
              "</style>\n",
              "<table border=\"1\" class=\"dataframe\">\n",
              "  <thead>\n",
              "    <tr style=\"text-align: right;\">\n",
              "      <th></th>\n",
              "      <th>f0</th>\n",
              "      <th>f1</th>\n",
              "      <th>f2</th>\n",
              "      <th>product</th>\n",
              "    </tr>\n",
              "  </thead>\n",
              "  <tbody>\n",
              "    <tr>\n",
              "      <th>68149</th>\n",
              "      <td>-0.865596</td>\n",
              "      <td>-1.615247</td>\n",
              "      <td>-4.126441</td>\n",
              "      <td>0.0</td>\n",
              "    </tr>\n",
              "  </tbody>\n",
              "</table>\n",
              "</div>\n",
              "      <button class=\"colab-df-convert\" onclick=\"convertToInteractive('df-eda9abb0-b454-4ff2-9864-d80b6dc007b2')\"\n",
              "              title=\"Convert this dataframe to an interactive table.\"\n",
              "              style=\"display:none;\">\n",
              "\n",
              "  <svg xmlns=\"http://www.w3.org/2000/svg\" height=\"24px\"viewBox=\"0 0 24 24\"\n",
              "       width=\"24px\">\n",
              "    <path d=\"M0 0h24v24H0V0z\" fill=\"none\"/>\n",
              "    <path d=\"M18.56 5.44l.94 2.06.94-2.06 2.06-.94-2.06-.94-.94-2.06-.94 2.06-2.06.94zm-11 1L8.5 8.5l.94-2.06 2.06-.94-2.06-.94L8.5 2.5l-.94 2.06-2.06.94zm10 10l.94 2.06.94-2.06 2.06-.94-2.06-.94-.94-2.06-.94 2.06-2.06.94z\"/><path d=\"M17.41 7.96l-1.37-1.37c-.4-.4-.92-.59-1.43-.59-.52 0-1.04.2-1.43.59L10.3 9.45l-7.72 7.72c-.78.78-.78 2.05 0 2.83L4 21.41c.39.39.9.59 1.41.59.51 0 1.02-.2 1.41-.59l7.78-7.78 2.81-2.81c.8-.78.8-2.07 0-2.86zM5.41 20L4 18.59l7.72-7.72 1.47 1.35L5.41 20z\"/>\n",
              "  </svg>\n",
              "      </button>\n",
              "\n",
              "\n",
              "\n",
              "    <div id=\"df-253e2c2e-565a-4764-8ea2-560358f704dc\">\n",
              "      <button class=\"colab-df-quickchart\" onclick=\"quickchart('df-253e2c2e-565a-4764-8ea2-560358f704dc')\"\n",
              "              title=\"Suggest charts.\"\n",
              "              style=\"display:none;\">\n",
              "\n",
              "<svg xmlns=\"http://www.w3.org/2000/svg\" height=\"24px\"viewBox=\"0 0 24 24\"\n",
              "     width=\"24px\">\n",
              "    <g>\n",
              "        <path d=\"M19 3H5c-1.1 0-2 .9-2 2v14c0 1.1.9 2 2 2h14c1.1 0 2-.9 2-2V5c0-1.1-.9-2-2-2zM9 17H7v-7h2v7zm4 0h-2V7h2v10zm4 0h-2v-4h2v4z\"/>\n",
              "    </g>\n",
              "</svg>\n",
              "      </button>\n",
              "    </div>\n",
              "\n",
              "<style>\n",
              "  .colab-df-quickchart {\n",
              "    background-color: #E8F0FE;\n",
              "    border: none;\n",
              "    border-radius: 50%;\n",
              "    cursor: pointer;\n",
              "    display: none;\n",
              "    fill: #1967D2;\n",
              "    height: 32px;\n",
              "    padding: 0 0 0 0;\n",
              "    width: 32px;\n",
              "  }\n",
              "\n",
              "  .colab-df-quickchart:hover {\n",
              "    background-color: #E2EBFA;\n",
              "    box-shadow: 0px 1px 2px rgba(60, 64, 67, 0.3), 0px 1px 3px 1px rgba(60, 64, 67, 0.15);\n",
              "    fill: #174EA6;\n",
              "  }\n",
              "\n",
              "  [theme=dark] .colab-df-quickchart {\n",
              "    background-color: #3B4455;\n",
              "    fill: #D2E3FC;\n",
              "  }\n",
              "\n",
              "  [theme=dark] .colab-df-quickchart:hover {\n",
              "    background-color: #434B5C;\n",
              "    box-shadow: 0px 1px 3px 1px rgba(0, 0, 0, 0.15);\n",
              "    filter: drop-shadow(0px 1px 2px rgba(0, 0, 0, 0.3));\n",
              "    fill: #FFFFFF;\n",
              "  }\n",
              "</style>\n",
              "\n",
              "    <script>\n",
              "      async function quickchart(key) {\n",
              "        const containerElement = document.querySelector('#' + key);\n",
              "        const charts = await google.colab.kernel.invokeFunction(\n",
              "            'suggestCharts', [key], {});\n",
              "      }\n",
              "    </script>\n",
              "\n",
              "      <script>\n",
              "\n",
              "function displayQuickchartButton(domScope) {\n",
              "  let quickchartButtonEl =\n",
              "    domScope.querySelector('#df-253e2c2e-565a-4764-8ea2-560358f704dc button.colab-df-quickchart');\n",
              "  quickchartButtonEl.style.display =\n",
              "    google.colab.kernel.accessAllowed ? 'block' : 'none';\n",
              "}\n",
              "\n",
              "        displayQuickchartButton(document);\n",
              "      </script>\n",
              "      <style>\n",
              "    .colab-df-container {\n",
              "      display:flex;\n",
              "      flex-wrap:wrap;\n",
              "      gap: 12px;\n",
              "    }\n",
              "\n",
              "    .colab-df-convert {\n",
              "      background-color: #E8F0FE;\n",
              "      border: none;\n",
              "      border-radius: 50%;\n",
              "      cursor: pointer;\n",
              "      display: none;\n",
              "      fill: #1967D2;\n",
              "      height: 32px;\n",
              "      padding: 0 0 0 0;\n",
              "      width: 32px;\n",
              "    }\n",
              "\n",
              "    .colab-df-convert:hover {\n",
              "      background-color: #E2EBFA;\n",
              "      box-shadow: 0px 1px 2px rgba(60, 64, 67, 0.3), 0px 1px 3px 1px rgba(60, 64, 67, 0.15);\n",
              "      fill: #174EA6;\n",
              "    }\n",
              "\n",
              "    [theme=dark] .colab-df-convert {\n",
              "      background-color: #3B4455;\n",
              "      fill: #D2E3FC;\n",
              "    }\n",
              "\n",
              "    [theme=dark] .colab-df-convert:hover {\n",
              "      background-color: #434B5C;\n",
              "      box-shadow: 0px 1px 3px 1px rgba(0, 0, 0, 0.15);\n",
              "      filter: drop-shadow(0px 1px 2px rgba(0, 0, 0, 0.3));\n",
              "      fill: #FFFFFF;\n",
              "    }\n",
              "  </style>\n",
              "\n",
              "      <script>\n",
              "        const buttonEl =\n",
              "          document.querySelector('#df-eda9abb0-b454-4ff2-9864-d80b6dc007b2 button.colab-df-convert');\n",
              "        buttonEl.style.display =\n",
              "          google.colab.kernel.accessAllowed ? 'block' : 'none';\n",
              "\n",
              "        async function convertToInteractive(key) {\n",
              "          const element = document.querySelector('#df-eda9abb0-b454-4ff2-9864-d80b6dc007b2');\n",
              "          const dataTable =\n",
              "            await google.colab.kernel.invokeFunction('convertToInteractive',\n",
              "                                                     [key], {});\n",
              "          if (!dataTable) return;\n",
              "\n",
              "          const docLinkHtml = 'Like what you see? Visit the ' +\n",
              "            '<a target=\"_blank\" href=https://colab.research.google.com/notebooks/data_table.ipynb>data table notebook</a>'\n",
              "            + ' to learn more about interactive tables.';\n",
              "          element.innerHTML = '';\n",
              "          dataTable['output_type'] = 'display_data';\n",
              "          await google.colab.output.renderOutput(dataTable, element);\n",
              "          const docLink = document.createElement('div');\n",
              "          docLink.innerHTML = docLinkHtml;\n",
              "          element.appendChild(docLink);\n",
              "        }\n",
              "      </script>\n",
              "    </div>\n",
              "  </div>\n"
            ]
          },
          "metadata": {},
          "execution_count": 15
        }
      ],
      "source": [
        "geo_data_2[geo_data_2['product'] == 0]"
      ]
    },
    {
      "cell_type": "markdown",
      "metadata": {
        "id": "7AAPnDOjvGJo"
      },
      "source": [
        "Изучим гистограммы по столбцу product."
      ]
    },
    {
      "cell_type": "code",
      "execution_count": null,
      "metadata": {
        "id": "IOUNih4evGJp"
      },
      "outputs": [],
      "source": [
        "def oil_hist(seria, bins, xlim_max, ylim_max):\n",
        "    plt.figure(figsize=[10,5])\n",
        "\n",
        "    plt.hist(seria, bins=bins)\n",
        "\n",
        "    plt.xlim([0,xlim_max])\n",
        "    plt.ylim([0,ylim_max])\n",
        "\n",
        "    plt.xlabel(\"Объем нефти на скважину, тыс. барелей\")\n",
        "    plt.ylabel(\"Количество скважин\")\n",
        "\n",
        "    plt.title(\"Гистограмма распределения по объему скважин\")\n",
        "    plt.show()"
      ]
    },
    {
      "cell_type": "code",
      "execution_count": null,
      "metadata": {
        "scrolled": false,
        "colab": {
          "base_uri": "https://localhost:8080/",
          "height": 487
        },
        "id": "t9UeWeuYvGJr",
        "outputId": "974e9be6-a020-4ebf-d5dc-0b5e63338621"
      },
      "outputs": [
        {
          "output_type": "display_data",
          "data": {
            "text/plain": [
              "<Figure size 1000x500 with 1 Axes>"
            ],
            "image/png": "[encoded data removed]"
          },
          "metadata": {}
        }
      ],
      "source": [
        "oil_hist(geo_data_0['product'], 200, 190, 1000)"
      ]
    },
    {
      "cell_type": "code",
      "execution_count": null,
      "metadata": {
        "colab": {
          "base_uri": "https://localhost:8080/",
          "height": 487
        },
        "id": "F3ijawp6vGJt",
        "outputId": "3e01e825-701f-44ca-f291-8b7d69843c11"
      },
      "outputs": [
        {
          "output_type": "display_data",
          "data": {
            "text/plain": [
              "<Figure size 1000x500 with 1 Axes>"
            ],
            "image/png": "[encoded data removed]"
          },
          "metadata": {}
        }
      ],
      "source": [
        "oil_hist(geo_data_1['product'], 200, 190, 10000)"
      ]
    },
    {
      "cell_type": "code",
      "execution_count": null,
      "metadata": {
        "scrolled": false,
        "colab": {
          "base_uri": "https://localhost:8080/",
          "height": 487
        },
        "id": "65bVMaTyvGJw",
        "outputId": "b64eee7e-a12b-4ae0-fd55-9b6e8659e6fc"
      },
      "outputs": [
        {
          "output_type": "display_data",
          "data": {
            "text/plain": [
              "<Figure size 1000x500 with 1 Axes>"
            ],
            "image/png": "[encoded data removed]"
          },
          "metadata": {}
        }
      ],
      "source": [
        "oil_hist(geo_data_2['product'], 200, 190, 1000)"
      ]
    },
    {
      "cell_type": "markdown",
      "metadata": {
        "id": "H_963tsYvGJy"
      },
      "source": [
        "# Вывод по шагу 1.\n",
        "Данные готовы к обучению.\n",
        "\n",
        "Во втором месторождении около 8,2% месторождений не имело значения в столбце product. При сравнении с такими же значениями из первого и третьего региона можно понять, что были утеряны данные или не было исследовано количество барелей нефти.\n",
        "\n",
        "По гистограммам можно понять, что у первого и третьего региона наспределение скважин близкое к нормальному. Во втором регионе данные имеют странное распределение: от 0 до 5 баррелей с шагом по 15-20 равномерно распределены 100000 значений. Данные не подчиняются закону больших чисел и скорей всего были введены искуственно"
      ]
    },
    {
      "cell_type": "markdown",
      "metadata": {
        "id": "oUeePAsgvGJz"
      },
      "source": [
        "## Обучение и проверка модели"
      ]
    },
    {
      "cell_type": "markdown",
      "metadata": {
        "id": "9aOJo21rvGJ0"
      },
      "source": [
        "Напишем функцию, которая разобъет датасет на обучающую и валидационную выборку"
      ]
    },
    {
      "cell_type": "code",
      "execution_count": null,
      "metadata": {
        "id": "3ka6CpWQvGJ0"
      },
      "outputs": [],
      "source": [
        "class PredictionData(object):\n",
        "    __slots__ = (\n",
        "        'features_train',\n",
        "        'target_train',\n",
        "        'features_valid',\n",
        "        'target_valid',\n",
        "    )\n",
        "\n",
        "    def __init__(\n",
        "        self, features_train, target_train,\n",
        "        features_valid, target_valid,\n",
        "    ):\n",
        "        self.features_train = features_train\n",
        "        self.target_train = target_train\n",
        "        self.features_valid = features_valid\n",
        "        self.target_valid = target_valid\n",
        "\n",
        "    def __str__(self):\n",
        "        return '\\n'.join('размер {}: {}'.format(name, data.shape) for name, data in (\n",
        "            ('features_train', self.features_train),\n",
        "            ('target_train', self.target_train),\n",
        "            ('features_valid', self.features_valid),\n",
        "            ('target_valid', self.target_valid),\n",
        "        ))\n",
        "\n",
        "    def __iter__(self):\n",
        "        return iter((\n",
        "            self.features_train,\n",
        "            self.target_train,\n",
        "            self.features_valid,\n",
        "            self.target_valid,\n",
        "        ))\n",
        "\n",
        "class ProfitAndVolume(object):\n",
        "    __slots__ = (\n",
        "        'profit',\n",
        "        'volume',\n",
        "    )\n",
        "\n",
        "    def __init__(self, profit, volume):\n",
        "        self.profit = profit\n",
        "        self.volume = volume\n",
        "\n",
        "    def __str__(self):\n",
        "        return '\\n'.join((\n",
        "            'Прибыль (млн. руб): {:.2f}'.format((self.profit)/1000000),\n",
        "            'Суммарный объем сырья (тыс. баррелей): {:.2f}'.format(self.volume/1000),\n",
        "        ))\n",
        "\n",
        "    def __iter__(self):\n",
        "        return iter((self.profit, self.volume))"
      ]
    },
    {
      "cell_type": "code",
      "execution_count": null,
      "metadata": {
        "id": "Rw0_9GqDvGJ2"
      },
      "outputs": [],
      "source": [
        "def split_df(df):\n",
        "    # Выделим фичи и целевой показатель product\n",
        "    features = df.drop(columns=['product'])\n",
        "    target = df['product']\n",
        "\n",
        "    # Данные нужно разбить на 2 части: обучающую и валидационную, в соотношении 75:25\n",
        "    features_train, features_valid, target_train, target_valid = train_test_split(features, target, test_size=0.25, random_state=RANDOM_STATE)\n",
        "\n",
        "    data = PredictionData(\n",
        "        features_train,\n",
        "        target_train,\n",
        "        features_valid,\n",
        "        target_valid,\n",
        "    )\n",
        "\n",
        "    print(data)\n",
        "\n",
        "    return data"
      ]
    },
    {
      "cell_type": "markdown",
      "metadata": {
        "id": "Hqj3iHL5vGJ3"
      },
      "source": [
        "Напишем функцию для обучения модели линейной регрессии и вычисления RMSE для каждого из датасетов."
      ]
    },
    {
      "cell_type": "code",
      "execution_count": null,
      "metadata": {
        "id": "iwkVTZk_vGJ4"
      },
      "outputs": [],
      "source": [
        "from sklearn.metrics.pairwise import normalize\n",
        "def train_model(df):\n",
        "    features_train, target_train, features_valid, target_valid = split_df(df)\n",
        "\n",
        "    model = LinearRegression()\n",
        "    model.fit(features_train, target_train)\n",
        "    predictions_valid = pd.Series(model.predict(features_valid), index=features_valid.index)\n",
        "\n",
        "    print('RMSE: {:.2f}'.format(mean_squared_error(target_valid, predictions_valid) ** 0.5))\n",
        "    print('Средний запас предсказанного сырья в регионе: {:.2f}'.format(predictions_valid.mean()))\n",
        "\n",
        "    return target_valid, predictions_valid"
      ]
    },
    {
      "cell_type": "markdown",
      "metadata": {
        "id": "dLdyyfbKvGJ5"
      },
      "source": [
        "Обучим модель на каждом из датасетов и сохраним предсказания и правильные ответы"
      ]
    },
    {
      "cell_type": "code",
      "execution_count": null,
      "metadata": {
        "colab": {
          "base_uri": "https://localhost:8080/"
        },
        "id": "7mvjr0z3vGJ6",
        "outputId": "eb1309f4-3ff7-4b37-ec49-c2ef31e4a781"
      },
      "outputs": [
        {
          "output_type": "stream",
          "name": "stdout",
          "text": [
            "размер features_train: (75000, 3)\n",
            "размер target_train: (75000,)\n",
            "размер features_valid: (25000, 3)\n",
            "размер target_valid: (25000,)\n",
            "RMSE: 37.62\n",
            "Средний запас предсказанного сырья в регионе: 92.44\n"
          ]
        }
      ],
      "source": [
        "target_valid_0, predictions_valid_0 = train_model(geo_data_0)"
      ]
    },
    {
      "cell_type": "code",
      "execution_count": null,
      "metadata": {
        "colab": {
          "base_uri": "https://localhost:8080/"
        },
        "id": "3IGOCh3tvGJ7",
        "outputId": "0110f3ef-57e2-4e70-ca80-705e09da552b"
      },
      "outputs": [
        {
          "output_type": "stream",
          "name": "stdout",
          "text": [
            "размер features_train: (75000, 3)\n",
            "размер target_train: (75000,)\n",
            "размер features_valid: (25000, 3)\n",
            "размер target_valid: (25000,)\n",
            "RMSE: 0.89\n",
            "Средний запас предсказанного сырья в регионе: 68.97\n"
          ]
        }
      ],
      "source": [
        "target_valid_1, predictions_valid_1 = train_model(geo_data_1)"
      ]
    },
    {
      "cell_type": "code",
      "execution_count": null,
      "metadata": {
        "colab": {
          "base_uri": "https://localhost:8080/"
        },
        "id": "0i10qRJhvGJ7",
        "outputId": "40e96b72-444a-42c3-a04a-c1ee87806ca9"
      },
      "outputs": [
        {
          "output_type": "stream",
          "name": "stdout",
          "text": [
            "размер features_train: (75000, 3)\n",
            "размер target_train: (75000,)\n",
            "размер features_valid: (25000, 3)\n",
            "размер target_valid: (25000,)\n",
            "RMSE: 40.26\n",
            "Средний запас предсказанного сырья в регионе: 94.83\n"
          ]
        }
      ],
      "source": [
        "target_valid_2, predictions_valid_2 = train_model(geo_data_2)"
      ]
    },
    {
      "cell_type": "markdown",
      "metadata": {
        "id": "EPe2SGHfvGJ8"
      },
      "source": [
        "Выводы:\n",
        "\n",
        "- исходя из значений RMSE погрешность модели меньше всего для 2 региона\n",
        "- среднее количество сырья примерно равно в 1 и 3 регионе (92.5 и 95.24 соотвественно), и больше в 1.4 раза, чем во 2\n",
        "\n",
        "\n",
        "Возможно утеряные данные из второго региона сказались на модели и она достаточно сильно переобучилась.\n",
        "\n",
        "Но из-за утери данных и малого запаса в среднем на меторождение не имеет смысла рассматривать второе месторождение как прибыльное.\n",
        "\n",
        "Изучим все регионы на риски и прибыль, но в конечном итоге будем выбирать между 1 и 3 регионом."
      ]
    },
    {
      "cell_type": "markdown",
      "metadata": {
        "id": "-xVbQ54ivGJ9"
      },
      "source": [
        "## Подготовка к расчёту прибыли"
      ]
    },
    {
      "cell_type": "markdown",
      "metadata": {
        "id": "YuW9riyIvGJ_"
      },
      "source": [
        "Сохраним все ключевые значения для расчетов в переменные"
      ]
    },
    {
      "cell_type": "code",
      "execution_count": null,
      "metadata": {
        "id": "TPW_jOZ1vGJ_"
      },
      "outputs": [],
      "source": [
        "# количество исследуемых точек при разведке\n",
        "RESEARCH_POINTS = 500\n",
        "\n",
        "# количество лучших исследуемых точек\n",
        "BEST_RESEARCH_POINTS = 200\n",
        "\n",
        "# бюджет на разработку скважин в регионе\n",
        "BUDGET = 10 * 1e9\n",
        "\n",
        "# цена за 1000 баррелей сырья\n",
        "PRODUCT_PRICE = 1000 * 450\n",
        "\n",
        "# максимальная вероятность убытков\n",
        "MAX_LOSS = 0.025\n",
        "\n",
        "# количество выборок для bootstrap\n",
        "BOOTSTRAP_SAMPLES = 1000\n",
        "\n",
        "# доверительный интервал\n",
        "CONF_INTERVAL = 0.95"
      ]
    },
    {
      "cell_type": "markdown",
      "metadata": {
        "id": "rtCHhtSivGKA"
      },
      "source": [
        "Рассчитаем достаточный объём сырья для безубыточной разработки новой скважины, перед этим надо рассчитать бюджет на разработку одной скважины."
      ]
    },
    {
      "cell_type": "code",
      "execution_count": null,
      "metadata": {
        "scrolled": false,
        "colab": {
          "base_uri": "https://localhost:8080/"
        },
        "id": "d5oYGtk_vGKB",
        "outputId": "70c91480-3156-4cd7-c5ac-f9f3bb8fbe78"
      },
      "outputs": [
        {
          "output_type": "stream",
          "name": "stdout",
          "text": [
            "Минимальный объём сырья для безубыточной разработки новой скважины: 111.11\n"
          ]
        }
      ],
      "source": [
        "budget_per_point = BUDGET / BEST_RESEARCH_POINTS\n",
        "min_product = budget_per_point / PRODUCT_PRICE\n",
        "print('Минимальный объём сырья для безубыточной разработки новой скважины: {:.2f}'.format(min_product))"
      ]
    },
    {
      "cell_type": "markdown",
      "metadata": {
        "id": "hLvWBeO9vGKC"
      },
      "source": [
        "Напишем функцию для расчёта прибыли по выбранным скважинам и предсказаниям модели"
      ]
    },
    {
      "cell_type": "code",
      "execution_count": null,
      "metadata": {
        "id": "pqbNL4kivGKD"
      },
      "outputs": [],
      "source": [
        "def calculate_profit(target_valid, predictions_valid):\n",
        "    research_points = predictions_valid.sample(RESEARCH_POINTS, replace=True, random_state=RANDOM_STATE)\n",
        "    best_research_points = research_points.sort_values(ascending = False)[:BEST_RESEARCH_POINTS]\n",
        "\n",
        "    product_volume = target_valid[best_research_points.index].sum()\n",
        "\n",
        "    profit = PRODUCT_PRICE * product_volume - BUDGET\n",
        "\n",
        "    return ProfitAndVolume(profit, product_volume)"
      ]
    },
    {
      "cell_type": "markdown",
      "metadata": {
        "id": "Hm5MSoUGvGKE"
      },
      "source": [
        "Выполним ее для каждого из 3-х регионов"
      ]
    },
    {
      "cell_type": "code",
      "execution_count": null,
      "metadata": {
        "colab": {
          "base_uri": "https://localhost:8080/"
        },
        "id": "kvYILnQ3vGKE",
        "outputId": "11e59172-81cf-4539-e11c-128811200855"
      },
      "outputs": [
        {
          "output_type": "stream",
          "name": "stdout",
          "text": [
            "Прибыль (млн. руб): 730.40\n",
            "Суммарный объем сырья (тыс. баррелей): 23.85\n"
          ]
        }
      ],
      "source": [
        "print(calculate_profit(target_valid_0, predictions_valid_0))"
      ]
    },
    {
      "cell_type": "code",
      "execution_count": null,
      "metadata": {
        "colab": {
          "base_uri": "https://localhost:8080/"
        },
        "id": "TAE4VSjDvGKG",
        "outputId": "7a178142-083c-44e2-d8e5-26dff2cb6e40"
      },
      "outputs": [
        {
          "output_type": "stream",
          "name": "stdout",
          "text": [
            "Прибыль (млн. руб): 297.18\n",
            "Суммарный объем сырья (тыс. баррелей): 22.88\n"
          ]
        }
      ],
      "source": [
        "print(calculate_profit(target_valid_1, predictions_valid_1))"
      ]
    },
    {
      "cell_type": "code",
      "execution_count": null,
      "metadata": {
        "colab": {
          "base_uri": "https://localhost:8080/"
        },
        "id": "dQeE_NaLvGKH",
        "outputId": "f10e4140-b0b6-4389-91ac-b6d3ac65f917"
      },
      "outputs": [
        {
          "output_type": "stream",
          "name": "stdout",
          "text": [
            "Прибыль (млн. руб): 288.69\n",
            "Суммарный объем сырья (тыс. баррелей): 22.86\n"
          ]
        }
      ],
      "source": [
        "print(calculate_profit(target_valid_2, predictions_valid_2))"
      ]
    },
    {
      "cell_type": "markdown",
      "metadata": {
        "id": "8gH-B9tUvGKI"
      },
      "source": [
        "**Выводы:**\n",
        "\n",
        "- Получили, что минимальный объем сырья для безубыточной разработки новой скважины - 111.11 тыс. бареллей.\n",
        "- Во всех 3-х регионах среднее предсказанное количество сырья меньше, следовательно не все скважины будут безубыточными.\n",
        "- Взяли 500 точек из предсказаний, из которых отобрали 200 лучших и получили для них суммарный объем сырья, а из него вычислили прибыль."
      ]
    },
    {
      "cell_type": "markdown",
      "metadata": {
        "id": "HMU20GYavGKJ"
      },
      "source": [
        "## Расчёт прибыли и рисков"
      ]
    },
    {
      "cell_type": "markdown",
      "metadata": {
        "id": "IudDRlbkvGKJ"
      },
      "source": [
        "Применим технику Bootstrap, чтобы найти распределение прибыли."
      ]
    },
    {
      "cell_type": "code",
      "execution_count": null,
      "metadata": {
        "id": "JsWCKSD6vGKK"
      },
      "outputs": [],
      "source": [
        "def calculate_profit_bootstrap(target_valid, predictions_valid):\n",
        "    values = []\n",
        "\n",
        "    for i in range(BOOTSTRAP_SAMPLES):\n",
        "        profit_and_volume = calculate_profit(target_valid, predictions_valid)\n",
        "        values.append(profit_and_volume.profit)\n",
        "\n",
        "    values = pd.Series(values)\n",
        "    profit_mean = values.mean()\n",
        "\n",
        "    conf_lower = values.quantile((1 - CONF_INTERVAL) / 2)\n",
        "    conf_upper = values.quantile((1 + CONF_INTERVAL) / 2)\n",
        "\n",
        "    loss_probability = (values < 0).sum() / BOOTSTRAP_SAMPLES\n",
        "\n",
        "    print('Средняя прибыль (млн. руб): {:.2f}'.format((profit_mean)/1000000))\n",
        "    print('95% доверительный интервал (млн. руб): ({:.2f}, {:.2f})'.format((conf_lower)/1000000, (conf_upper)/1000000))\n",
        "\n",
        "    if loss_probability < MAX_LOSS:\n",
        "        print('Вероятность убытков равна {}, что меньше чем максимальная допустимая вероятность {}'.format(loss_probability, MAX_LOSS))\n",
        "    else:\n",
        "        print('Вероятность убытков равна {}, что больше чем максимальная допустимая вероятность {}'.format(loss_probability, MAX_LOSS))\n",
        "\n",
        "    return profit_mean, conf_lower, conf_upper, loss_probability"
      ]
    },
    {
      "cell_type": "code",
      "execution_count": null,
      "metadata": {
        "id": "6dnX24-7vGKL"
      },
      "outputs": [],
      "source": [
        "profit_and_risks = []"
      ]
    },
    {
      "cell_type": "code",
      "execution_count": null,
      "metadata": {
        "colab": {
          "base_uri": "https://localhost:8080/"
        },
        "id": "toKV7pORvGKM",
        "outputId": "512637ee-dead-449d-a3c1-fe7e4cfb9cbd"
      },
      "outputs": [
        {
          "output_type": "stream",
          "name": "stdout",
          "text": [
            "Средняя прибыль (млн. руб): 446.99\n",
            "95% доверительный интервал (млн. руб): (-56.41, 939.11)\n",
            "Вероятность убытков равна 0.043, что больше чем максимальная допустимая вероятность 0.025\n"
          ]
        }
      ],
      "source": [
        "profit_and_risks.append(calculate_profit_bootstrap(target_valid_0, predictions_valid_0))"
      ]
    },
    {
      "cell_type": "code",
      "execution_count": null,
      "metadata": {
        "colab": {
          "base_uri": "https://localhost:8080/"
        },
        "id": "VLN8oReQvGKN",
        "outputId": "28c2bd71-bad2-45fc-f7bc-514e2b794a51"
      },
      "outputs": [
        {
          "output_type": "stream",
          "name": "stdout",
          "text": [
            "Средняя прибыль (млн. руб): 461.30\n",
            "95% доверительный интервал (млн. руб): (61.72, 862.95)\n",
            "Вероятность убытков равна 0.013, что меньше чем максимальная допустимая вероятность 0.025\n"
          ]
        }
      ],
      "source": [
        "profit_and_risks.append(calculate_profit_bootstrap(target_valid_1, predictions_valid_1))"
      ]
    },
    {
      "cell_type": "code",
      "execution_count": null,
      "metadata": {
        "colab": {
          "base_uri": "https://localhost:8080/"
        },
        "id": "PuvdXqz6vGKO",
        "outputId": "3d3738e9-7d43-4e29-cfbf-889f7ff15ab7"
      },
      "outputs": [
        {
          "output_type": "stream",
          "name": "stdout",
          "text": [
            "Средняя прибыль (млн. руб): 345.91\n",
            "95% доверительный интервал (млн. руб): (-168.44, 848.57)\n",
            "Вероятность убытков равна 0.099, что больше чем максимальная допустимая вероятность 0.025\n"
          ]
        }
      ],
      "source": [
        "\n",
        "profit_and_risks.append(calculate_profit_bootstrap(target_valid_2, predictions_valid_2))"
      ]
    },
    {
      "cell_type": "code",
      "execution_count": null,
      "metadata": {
        "colab": {
          "base_uri": "https://localhost:8080/",
          "height": 143
        },
        "id": "-6MWDsKXvGKP",
        "outputId": "ae97fb35-e1fd-491b-a587-fb20db5e02f7"
      },
      "outputs": [
        {
          "output_type": "execute_result",
          "data": {
            "text/plain": [
              "    profit_mean    conf_lower    conf_upper  loss_probability\n",
              "0  4.469891e+08 -5.641287e+07  9.391103e+08             0.043\n",
              "1  4.612971e+08  6.172024e+07  8.629536e+08             0.013\n",
              "2  3.459087e+08 -1.684392e+08  8.485704e+08             0.099"
            ],
            "text/html": [
              "\n",
              "\n",
              "  <div id=\"df-1c11dc4d-f5d8-45b5-91ea-eb75c2d7bb70\">\n",
              "    <div class=\"colab-df-container\">\n",
              "      <div>\n",
              "<style scoped>\n",
              "    .dataframe tbody tr th:only-of-type {\n",
              "        vertical-align: middle;\n",
              "    }\n",
              "\n",
              "    .dataframe tbody tr th {\n",
              "        vertical-align: top;\n",
              "    }\n",
              "\n",
              "    .dataframe thead th {\n",
              "        text-align: right;\n",
              "    }\n",
              "</style>\n",
              "<table border=\"1\" class=\"dataframe\">\n",
              "  <thead>\n",
              "    <tr style=\"text-align: right;\">\n",
              "      <th></th>\n",
              "      <th>profit_mean</th>\n",
              "      <th>conf_lower</th>\n",
              "      <th>conf_upper</th>\n",
              "      <th>loss_probability</th>\n",
              "    </tr>\n",
              "  </thead>\n",
              "  <tbody>\n",
              "    <tr>\n",
              "      <th>0</th>\n",
              "      <td>4.469891e+08</td>\n",
              "      <td>-5.641287e+07</td>\n",
              "      <td>9.391103e+08</td>\n",
              "      <td>0.043</td>\n",
              "    </tr>\n",
              "    <tr>\n",
              "      <th>1</th>\n",
              "      <td>4.612971e+08</td>\n",
              "      <td>6.172024e+07</td>\n",
              "      <td>8.629536e+08</td>\n",
              "      <td>0.013</td>\n",
              "    </tr>\n",
              "    <tr>\n",
              "      <th>2</th>\n",
              "      <td>3.459087e+08</td>\n",
              "      <td>-1.684392e+08</td>\n",
              "      <td>8.485704e+08</td>\n",
              "      <td>0.099</td>\n",
              "    </tr>\n",
              "  </tbody>\n",
              "</table>\n",
              "</div>\n",
              "      <button class=\"colab-df-convert\" onclick=\"convertToInteractive('df-1c11dc4d-f5d8-45b5-91ea-eb75c2d7bb70')\"\n",
              "              title=\"Convert this dataframe to an interactive table.\"\n",
              "              style=\"display:none;\">\n",
              "\n",
              "  <svg xmlns=\"http://www.w3.org/2000/svg\" height=\"24px\"viewBox=\"0 0 24 24\"\n",
              "       width=\"24px\">\n",
              "    <path d=\"M0 0h24v24H0V0z\" fill=\"none\"/>\n",
              "    <path d=\"M18.56 5.44l.94 2.06.94-2.06 2.06-.94-2.06-.94-.94-2.06-.94 2.06-2.06.94zm-11 1L8.5 8.5l.94-2.06 2.06-.94-2.06-.94L8.5 2.5l-.94 2.06-2.06.94zm10 10l.94 2.06.94-2.06 2.06-.94-2.06-.94-.94-2.06-.94 2.06-2.06.94z\"/><path d=\"M17.41 7.96l-1.37-1.37c-.4-.4-.92-.59-1.43-.59-.52 0-1.04.2-1.43.59L10.3 9.45l-7.72 7.72c-.78.78-.78 2.05 0 2.83L4 21.41c.39.39.9.59 1.41.59.51 0 1.02-.2 1.41-.59l7.78-7.78 2.81-2.81c.8-.78.8-2.07 0-2.86zM5.41 20L4 18.59l7.72-7.72 1.47 1.35L5.41 20z\"/>\n",
              "  </svg>\n",
              "      </button>\n",
              "\n",
              "\n",
              "\n",
              "    <div id=\"df-20718bff-2fab-4438-9aec-03fb3e68443c\">\n",
              "      <button class=\"colab-df-quickchart\" onclick=\"quickchart('df-20718bff-2fab-4438-9aec-03fb3e68443c')\"\n",
              "              title=\"Suggest charts.\"\n",
              "              style=\"display:none;\">\n",
              "\n",
              "<svg xmlns=\"http://www.w3.org/2000/svg\" height=\"24px\"viewBox=\"0 0 24 24\"\n",
              "     width=\"24px\">\n",
              "    <g>\n",
              "        <path d=\"M19 3H5c-1.1 0-2 .9-2 2v14c0 1.1.9 2 2 2h14c1.1 0 2-.9 2-2V5c0-1.1-.9-2-2-2zM9 17H7v-7h2v7zm4 0h-2V7h2v10zm4 0h-2v-4h2v4z\"/>\n",
              "    </g>\n",
              "</svg>\n",
              "      </button>\n",
              "    </div>\n",
              "\n",
              "<style>\n",
              "  .colab-df-quickchart {\n",
              "    background-color: #E8F0FE;\n",
              "    border: none;\n",
              "    border-radius: 50%;\n",
              "    cursor: pointer;\n",
              "    display: none;\n",
              "    fill: #1967D2;\n",
              "    height: 32px;\n",
              "    padding: 0 0 0 0;\n",
              "    width: 32px;\n",
              "  }\n",
              "\n",
              "  .colab-df-quickchart:hover {\n",
              "    background-color: #E2EBFA;\n",
              "    box-shadow: 0px 1px 2px rgba(60, 64, 67, 0.3), 0px 1px 3px 1px rgba(60, 64, 67, 0.15);\n",
              "    fill: #174EA6;\n",
              "  }\n",
              "\n",
              "  [theme=dark] .colab-df-quickchart {\n",
              "    background-color: #3B4455;\n",
              "    fill: #D2E3FC;\n",
              "  }\n",
              "\n",
              "  [theme=dark] .colab-df-quickchart:hover {\n",
              "    background-color: #434B5C;\n",
              "    box-shadow: 0px 1px 3px 1px rgba(0, 0, 0, 0.15);\n",
              "    filter: drop-shadow(0px 1px 2px rgba(0, 0, 0, 0.3));\n",
              "    fill: #FFFFFF;\n",
              "  }\n",
              "</style>\n",
              "\n",
              "    <script>\n",
              "      async function quickchart(key) {\n",
              "        const containerElement = document.querySelector('#' + key);\n",
              "        const charts = await google.colab.kernel.invokeFunction(\n",
              "            'suggestCharts', [key], {});\n",
              "      }\n",
              "    </script>\n",
              "\n",
              "      <script>\n",
              "\n",
              "function displayQuickchartButton(domScope) {\n",
              "  let quickchartButtonEl =\n",
              "    domScope.querySelector('#df-20718bff-2fab-4438-9aec-03fb3e68443c button.colab-df-quickchart');\n",
              "  quickchartButtonEl.style.display =\n",
              "    google.colab.kernel.accessAllowed ? 'block' : 'none';\n",
              "}\n",
              "\n",
              "        displayQuickchartButton(document);\n",
              "      </script>\n",
              "      <style>\n",
              "    .colab-df-container {\n",
              "      display:flex;\n",
              "      flex-wrap:wrap;\n",
              "      gap: 12px;\n",
              "    }\n",
              "\n",
              "    .colab-df-convert {\n",
              "      background-color: #E8F0FE;\n",
              "      border: none;\n",
              "      border-radius: 50%;\n",
              "      cursor: pointer;\n",
              "      display: none;\n",
              "      fill: #1967D2;\n",
              "      height: 32px;\n",
              "      padding: 0 0 0 0;\n",
              "      width: 32px;\n",
              "    }\n",
              "\n",
              "    .colab-df-convert:hover {\n",
              "      background-color: #E2EBFA;\n",
              "      box-shadow: 0px 1px 2px rgba(60, 64, 67, 0.3), 0px 1px 3px 1px rgba(60, 64, 67, 0.15);\n",
              "      fill: #174EA6;\n",
              "    }\n",
              "\n",
              "    [theme=dark] .colab-df-convert {\n",
              "      background-color: #3B4455;\n",
              "      fill: #D2E3FC;\n",
              "    }\n",
              "\n",
              "    [theme=dark] .colab-df-convert:hover {\n",
              "      background-color: #434B5C;\n",
              "      box-shadow: 0px 1px 3px 1px rgba(0, 0, 0, 0.15);\n",
              "      filter: drop-shadow(0px 1px 2px rgba(0, 0, 0, 0.3));\n",
              "      fill: #FFFFFF;\n",
              "    }\n",
              "  </style>\n",
              "\n",
              "      <script>\n",
              "        const buttonEl =\n",
              "          document.querySelector('#df-1c11dc4d-f5d8-45b5-91ea-eb75c2d7bb70 button.colab-df-convert');\n",
              "        buttonEl.style.display =\n",
              "          google.colab.kernel.accessAllowed ? 'block' : 'none';\n",
              "\n",
              "        async function convertToInteractive(key) {\n",
              "          const element = document.querySelector('#df-1c11dc4d-f5d8-45b5-91ea-eb75c2d7bb70');\n",
              "          const dataTable =\n",
              "            await google.colab.kernel.invokeFunction('convertToInteractive',\n",
              "                                                     [key], {});\n",
              "          if (!dataTable) return;\n",
              "\n",
              "          const docLinkHtml = 'Like what you see? Visit the ' +\n",
              "            '<a target=\"_blank\" href=https://colab.research.google.com/notebooks/data_table.ipynb>data table notebook</a>'\n",
              "            + ' to learn more about interactive tables.';\n",
              "          element.innerHTML = '';\n",
              "          dataTable['output_type'] = 'display_data';\n",
              "          await google.colab.output.renderOutput(dataTable, element);\n",
              "          const docLink = document.createElement('div');\n",
              "          docLink.innerHTML = docLinkHtml;\n",
              "          element.appendChild(docLink);\n",
              "        }\n",
              "      </script>\n",
              "    </div>\n",
              "  </div>\n"
            ]
          },
          "metadata": {},
          "execution_count": 47
        }
      ],
      "source": [
        "profit_and_risks_df = pd.DataFrame(profit_and_risks, columns = ['profit_mean', 'conf_lower', 'conf_upper', 'loss_probability'])\n",
        "profit_and_risks_df.head(3)"
      ]
    },
    {
      "cell_type": "markdown",
      "metadata": {
        "id": "AqX_AdENvGKQ"
      },
      "source": [
        "<div style=\"border:2px solid Black; padding:20px;\">\n",
        "\n",
        "# Выводы:\n",
        "\n",
        "- Из таблицы видно, что единственный регион, где вероятность убытков ниже, чем допустимое значение - второй (первый, если использовать индексацию с 0), поэтому для разработки скважин надо выбрать его.\n",
        "- Также у второго региона самый узкий доверительный интервал и самая выскокая средняя прибыль.\n",
        "\n",
        "</div>\n"
      ]
    }
  ],
  "metadata": {
    "ExecuteTimeLog": [
      {
        "duration": 1844,
        "start_time": "2023-05-19T07:14:10.087Z"
      },
      {
        "duration": 908,
        "start_time": "2023-05-19T07:20:07.188Z"
      },
      {
        "duration": 168,
        "start_time": "2023-05-19T07:20:14.616Z"
      },
      {
        "duration": 186,
        "start_time": "2023-05-19T07:24:40.339Z"
      },
      {
        "duration": 239,
        "start_time": "2023-05-19T07:25:12.590Z"
      },
      {
        "duration": 650,
        "start_time": "2023-05-19T07:26:15.910Z"
      },
      {
        "duration": 175,
        "start_time": "2023-05-19T07:31:26.514Z"
      },
      {
        "duration": 1471,
        "start_time": "2023-05-19T07:32:40.433Z"
      },
      {
        "duration": 1631,
        "start_time": "2023-05-19T07:33:03.494Z"
      },
      {
        "duration": 460,
        "start_time": "2023-05-19T07:33:48.490Z"
      },
      {
        "duration": 486,
        "start_time": "2023-05-19T07:34:18.110Z"
      },
      {
        "duration": 468,
        "start_time": "2023-05-19T07:34:38.048Z"
      },
      {
        "duration": 500,
        "start_time": "2023-05-19T07:34:52.434Z"
      },
      {
        "duration": 611,
        "start_time": "2023-05-19T07:35:04.283Z"
      },
      {
        "duration": 503,
        "start_time": "2023-05-19T07:35:23.738Z"
      },
      {
        "duration": 512,
        "start_time": "2023-05-19T07:36:05.387Z"
      },
      {
        "duration": 492,
        "start_time": "2023-05-19T07:36:09.534Z"
      },
      {
        "duration": 3,
        "start_time": "2023-05-19T07:42:06.281Z"
      },
      {
        "duration": 60,
        "start_time": "2023-05-19T07:42:56.230Z"
      },
      {
        "duration": 70,
        "start_time": "2023-05-19T08:09:53.890Z"
      },
      {
        "duration": 1485,
        "start_time": "2023-05-19T08:10:02.831Z"
      },
      {
        "duration": 421,
        "start_time": "2023-05-19T08:10:04.318Z"
      },
      {
        "duration": 456,
        "start_time": "2023-05-19T08:10:04.740Z"
      },
      {
        "duration": 439,
        "start_time": "2023-05-19T08:10:05.198Z"
      },
      {
        "duration": 464,
        "start_time": "2023-05-19T08:10:05.639Z"
      },
      {
        "duration": 4,
        "start_time": "2023-05-19T08:10:06.104Z"
      },
      {
        "duration": 469,
        "start_time": "2023-05-19T08:10:06.109Z"
      },
      {
        "duration": 49,
        "start_time": "2023-05-19T08:11:07.727Z"
      },
      {
        "duration": 49,
        "start_time": "2023-05-19T08:15:33.500Z"
      },
      {
        "duration": 64,
        "start_time": "2023-05-19T08:15:58.230Z"
      },
      {
        "duration": 46,
        "start_time": "2023-05-19T08:16:14.274Z"
      },
      {
        "duration": 1185,
        "start_time": "2023-05-19T08:16:59.459Z"
      },
      {
        "duration": 13,
        "start_time": "2023-05-19T08:18:29.620Z"
      },
      {
        "duration": 3,
        "start_time": "2023-05-19T08:19:53.413Z"
      },
      {
        "duration": 8,
        "start_time": "2023-05-19T08:20:14.753Z"
      },
      {
        "duration": 11,
        "start_time": "2023-05-19T08:20:46.340Z"
      },
      {
        "duration": 5,
        "start_time": "2023-05-19T08:21:34.796Z"
      },
      {
        "duration": 7,
        "start_time": "2023-05-19T08:21:37.293Z"
      },
      {
        "duration": 6,
        "start_time": "2023-05-19T08:21:42.795Z"
      },
      {
        "duration": 4,
        "start_time": "2023-05-19T08:22:24.780Z"
      },
      {
        "duration": 8,
        "start_time": "2023-05-19T08:22:26.662Z"
      },
      {
        "duration": 6,
        "start_time": "2023-05-19T08:22:29.232Z"
      },
      {
        "duration": 6,
        "start_time": "2023-05-19T08:22:35.545Z"
      },
      {
        "duration": 11,
        "start_time": "2023-05-19T08:31:55.578Z"
      },
      {
        "duration": 21,
        "start_time": "2023-05-19T08:32:21.751Z"
      },
      {
        "duration": 9,
        "start_time": "2023-05-19T08:32:25.700Z"
      },
      {
        "duration": 4,
        "start_time": "2023-05-19T08:33:28.831Z"
      },
      {
        "duration": 463,
        "start_time": "2023-05-19T08:34:07.154Z"
      },
      {
        "duration": 590,
        "start_time": "2023-05-19T08:34:23.376Z"
      },
      {
        "duration": 490,
        "start_time": "2023-05-19T08:34:35.655Z"
      },
      {
        "duration": 427,
        "start_time": "2023-05-19T08:35:17.689Z"
      },
      {
        "duration": 549,
        "start_time": "2023-05-19T08:35:29.344Z"
      },
      {
        "duration": 4,
        "start_time": "2023-05-19T08:35:46.802Z"
      },
      {
        "duration": 446,
        "start_time": "2023-05-19T08:35:51.851Z"
      },
      {
        "duration": 390,
        "start_time": "2023-05-19T08:35:56.473Z"
      },
      {
        "duration": 431,
        "start_time": "2023-05-19T08:36:01.580Z"
      },
      {
        "duration": 4,
        "start_time": "2023-05-19T08:36:17.924Z"
      },
      {
        "duration": 576,
        "start_time": "2023-05-19T08:36:20.089Z"
      },
      {
        "duration": 427,
        "start_time": "2023-05-19T08:36:24.072Z"
      },
      {
        "duration": 380,
        "start_time": "2023-05-19T08:36:27.880Z"
      },
      {
        "duration": 87,
        "start_time": "2023-05-19T08:37:16.589Z"
      },
      {
        "duration": 91,
        "start_time": "2023-05-19T08:37:22.429Z"
      },
      {
        "duration": 46,
        "start_time": "2023-05-19T12:49:34.832Z"
      },
      {
        "duration": 1371,
        "start_time": "2023-05-19T12:49:40.394Z"
      },
      {
        "duration": 1423,
        "start_time": "2023-05-19T12:49:41.768Z"
      },
      {
        "duration": 44,
        "start_time": "2023-05-19T12:49:43.193Z"
      },
      {
        "duration": 39,
        "start_time": "2023-05-19T12:49:43.238Z"
      },
      {
        "duration": 52,
        "start_time": "2023-05-19T12:49:43.279Z"
      },
      {
        "duration": 3,
        "start_time": "2023-05-19T12:49:43.333Z"
      },
      {
        "duration": 901,
        "start_time": "2023-05-19T12:49:43.337Z"
      },
      {
        "duration": 10,
        "start_time": "2023-05-19T12:49:44.239Z"
      },
      {
        "duration": 5,
        "start_time": "2023-05-19T12:49:44.251Z"
      },
      {
        "duration": 6,
        "start_time": "2023-05-19T12:49:44.258Z"
      },
      {
        "duration": 4,
        "start_time": "2023-05-19T12:49:44.266Z"
      },
      {
        "duration": 11,
        "start_time": "2023-05-19T12:49:44.272Z"
      },
      {
        "duration": 32,
        "start_time": "2023-05-19T12:49:44.285Z"
      },
      {
        "duration": 95,
        "start_time": "2023-05-19T12:49:44.318Z"
      },
      {
        "duration": 8,
        "start_time": "2023-05-19T12:49:44.415Z"
      },
      {
        "duration": 4,
        "start_time": "2023-05-19T12:49:44.425Z"
      },
      {
        "duration": 355,
        "start_time": "2023-05-19T12:49:44.430Z"
      },
      {
        "duration": 323,
        "start_time": "2023-05-19T12:49:44.786Z"
      },
      {
        "duration": 323,
        "start_time": "2023-05-19T12:49:45.111Z"
      },
      {
        "duration": 3,
        "start_time": "2023-05-19T12:51:24.946Z"
      },
      {
        "duration": 18,
        "start_time": "2023-05-19T12:52:16.081Z"
      },
      {
        "duration": 4,
        "start_time": "2023-05-19T12:53:33.215Z"
      },
      {
        "duration": 4,
        "start_time": "2023-05-19T12:53:37.352Z"
      },
      {
        "duration": 41,
        "start_time": "2023-05-19T12:57:23.977Z"
      },
      {
        "duration": 44,
        "start_time": "2023-05-19T12:57:47.972Z"
      },
      {
        "duration": 40,
        "start_time": "2023-05-19T12:58:05.236Z"
      },
      {
        "duration": 17,
        "start_time": "2023-05-19T12:59:53.176Z"
      },
      {
        "duration": 14,
        "start_time": "2023-05-19T13:00:30.347Z"
      },
      {
        "duration": 176,
        "start_time": "2023-05-19T13:01:30.341Z"
      },
      {
        "duration": 177,
        "start_time": "2023-05-19T13:02:12.553Z"
      },
      {
        "duration": 4,
        "start_time": "2023-05-19T13:10:51.087Z"
      },
      {
        "duration": 5,
        "start_time": "2023-05-19T13:11:14.439Z"
      },
      {
        "duration": 83,
        "start_time": "2023-05-19T13:13:44.076Z"
      },
      {
        "duration": 5,
        "start_time": "2023-05-19T13:13:49.845Z"
      },
      {
        "duration": 12,
        "start_time": "2023-05-19T13:13:52.055Z"
      },
      {
        "duration": 16,
        "start_time": "2023-05-19T13:14:28.077Z"
      },
      {
        "duration": 12,
        "start_time": "2023-05-19T13:15:10.048Z"
      },
      {
        "duration": 5,
        "start_time": "2023-05-19T13:15:28.352Z"
      },
      {
        "duration": 6,
        "start_time": "2023-05-19T13:15:30.111Z"
      },
      {
        "duration": 35,
        "start_time": "2023-05-19T13:15:38.005Z"
      },
      {
        "duration": 4,
        "start_time": "2023-05-19T13:16:02.155Z"
      },
      {
        "duration": 5,
        "start_time": "2023-05-19T13:16:04.572Z"
      },
      {
        "duration": 33,
        "start_time": "2023-05-19T13:16:06.871Z"
      },
      {
        "duration": 9,
        "start_time": "2023-05-19T13:18:15.213Z"
      },
      {
        "duration": 92,
        "start_time": "2023-05-19T13:18:21.631Z"
      },
      {
        "duration": 43,
        "start_time": "2023-05-19T13:21:51.476Z"
      },
      {
        "duration": 38,
        "start_time": "2023-05-19T13:21:53.871Z"
      },
      {
        "duration": 5,
        "start_time": "2023-05-19T13:24:45.839Z"
      },
      {
        "duration": 6,
        "start_time": "2023-05-19T13:25:01.256Z"
      },
      {
        "duration": 4,
        "start_time": "2023-05-19T13:25:05.300Z"
      },
      {
        "duration": 4,
        "start_time": "2023-05-19T13:25:11.210Z"
      },
      {
        "duration": 4,
        "start_time": "2023-05-19T13:25:16.191Z"
      },
      {
        "duration": 31,
        "start_time": "2023-05-19T13:25:19.407Z"
      },
      {
        "duration": 38,
        "start_time": "2023-05-19T13:25:23.138Z"
      },
      {
        "duration": 45,
        "start_time": "2023-05-19T13:25:31.473Z"
      },
      {
        "duration": 5,
        "start_time": "2023-05-19T13:39:22.707Z"
      },
      {
        "duration": 4,
        "start_time": "2023-05-19T13:50:25.479Z"
      },
      {
        "duration": 86,
        "start_time": "2023-05-19T13:55:34.900Z"
      },
      {
        "duration": 3,
        "start_time": "2023-05-19T13:58:48.449Z"
      },
      {
        "duration": 3,
        "start_time": "2023-05-19T13:58:53.377Z"
      },
      {
        "duration": 14,
        "start_time": "2023-05-19T13:59:25.279Z"
      },
      {
        "duration": 6,
        "start_time": "2023-05-19T14:02:21.646Z"
      },
      {
        "duration": 4,
        "start_time": "2023-05-19T14:02:30.939Z"
      },
      {
        "duration": 6,
        "start_time": "2023-05-19T14:12:59.225Z"
      },
      {
        "duration": 5,
        "start_time": "2023-05-19T14:13:14.542Z"
      },
      {
        "duration": 9,
        "start_time": "2023-05-19T14:16:50.853Z"
      },
      {
        "duration": 11,
        "start_time": "2023-05-19T14:20:31.925Z"
      },
      {
        "duration": 1606,
        "start_time": "2023-05-21T05:51:27.860Z"
      },
      {
        "duration": 1955,
        "start_time": "2023-05-21T05:51:29.469Z"
      },
      {
        "duration": 53,
        "start_time": "2023-05-21T05:51:31.426Z"
      },
      {
        "duration": 46,
        "start_time": "2023-05-21T05:51:31.481Z"
      },
      {
        "duration": 59,
        "start_time": "2023-05-21T05:51:31.529Z"
      },
      {
        "duration": 5,
        "start_time": "2023-05-21T05:51:31.590Z"
      },
      {
        "duration": 1023,
        "start_time": "2023-05-21T05:51:31.596Z"
      },
      {
        "duration": 12,
        "start_time": "2023-05-21T05:51:32.621Z"
      },
      {
        "duration": 4,
        "start_time": "2023-05-21T05:51:32.635Z"
      },
      {
        "duration": 5,
        "start_time": "2023-05-21T05:51:32.652Z"
      },
      {
        "duration": 5,
        "start_time": "2023-05-21T05:51:32.659Z"
      },
      {
        "duration": 5,
        "start_time": "2023-05-21T05:51:32.666Z"
      },
      {
        "duration": 111,
        "start_time": "2023-05-21T05:51:32.672Z"
      },
      {
        "duration": 12,
        "start_time": "2023-05-21T05:51:32.785Z"
      },
      {
        "duration": 9,
        "start_time": "2023-05-21T05:51:32.799Z"
      },
      {
        "duration": 4,
        "start_time": "2023-05-21T05:51:32.809Z"
      },
      {
        "duration": 380,
        "start_time": "2023-05-21T05:51:32.815Z"
      },
      {
        "duration": 377,
        "start_time": "2023-05-21T05:51:33.197Z"
      },
      {
        "duration": 364,
        "start_time": "2023-05-21T05:51:33.576Z"
      },
      {
        "duration": 9,
        "start_time": "2023-05-21T05:51:33.942Z"
      },
      {
        "duration": 7,
        "start_time": "2023-05-21T05:51:33.953Z"
      },
      {
        "duration": 5,
        "start_time": "2023-05-21T05:51:33.961Z"
      },
      {
        "duration": 83,
        "start_time": "2023-05-21T05:51:33.968Z"
      },
      {
        "duration": 108,
        "start_time": "2023-05-21T05:51:34.055Z"
      },
      {
        "duration": 189,
        "start_time": "2023-05-21T05:51:34.165Z"
      },
      {
        "duration": 4,
        "start_time": "2023-05-21T05:51:34.356Z"
      },
      {
        "duration": 6,
        "start_time": "2023-05-21T05:51:34.451Z"
      },
      {
        "duration": 209,
        "start_time": "2023-05-21T05:51:34.462Z"
      },
      {
        "duration": 0,
        "start_time": "2023-05-21T05:51:34.672Z"
      },
      {
        "duration": 0,
        "start_time": "2023-05-21T05:51:34.673Z"
      },
      {
        "duration": 0,
        "start_time": "2023-05-21T05:51:34.674Z"
      },
      {
        "duration": 0,
        "start_time": "2023-05-21T05:51:34.675Z"
      },
      {
        "duration": 4,
        "start_time": "2023-05-21T05:54:24.225Z"
      },
      {
        "duration": 6,
        "start_time": "2023-05-21T05:54:42.962Z"
      },
      {
        "duration": 5,
        "start_time": "2023-05-21T05:54:49.488Z"
      },
      {
        "duration": 5,
        "start_time": "2023-05-21T05:55:11.796Z"
      },
      {
        "duration": 7,
        "start_time": "2023-05-21T05:56:02.738Z"
      },
      {
        "duration": 3,
        "start_time": "2023-05-21T05:56:11.657Z"
      },
      {
        "duration": 14,
        "start_time": "2023-05-21T05:56:15.281Z"
      },
      {
        "duration": 6,
        "start_time": "2023-05-21T05:57:14.498Z"
      },
      {
        "duration": 3,
        "start_time": "2023-05-21T05:57:23.611Z"
      },
      {
        "duration": 5,
        "start_time": "2023-05-21T05:57:25.443Z"
      },
      {
        "duration": 6,
        "start_time": "2023-05-21T05:59:09.450Z"
      },
      {
        "duration": 3,
        "start_time": "2023-05-21T05:59:16.596Z"
      },
      {
        "duration": 6,
        "start_time": "2023-05-21T05:59:19.145Z"
      },
      {
        "duration": 5,
        "start_time": "2023-05-21T05:59:27.412Z"
      },
      {
        "duration": 5,
        "start_time": "2023-05-21T05:59:30.692Z"
      },
      {
        "duration": 7,
        "start_time": "2023-05-21T06:04:39.937Z"
      },
      {
        "duration": 3,
        "start_time": "2023-05-21T06:04:45.802Z"
      },
      {
        "duration": 4,
        "start_time": "2023-05-21T06:04:48.153Z"
      },
      {
        "duration": 5,
        "start_time": "2023-05-21T06:04:50.504Z"
      },
      {
        "duration": 5,
        "start_time": "2023-05-21T06:04:54.961Z"
      },
      {
        "duration": 5,
        "start_time": "2023-05-21T06:04:56.896Z"
      },
      {
        "duration": 5,
        "start_time": "2023-05-21T06:13:41.650Z"
      },
      {
        "duration": 2,
        "start_time": "2023-05-21T06:13:48.617Z"
      },
      {
        "duration": 683,
        "start_time": "2023-05-21T06:13:57.143Z"
      },
      {
        "duration": 613,
        "start_time": "2023-05-21T06:14:25.665Z"
      },
      {
        "duration": 642,
        "start_time": "2023-05-21T06:14:39.905Z"
      },
      {
        "duration": 10,
        "start_time": "2023-05-21T06:14:54.793Z"
      },
      {
        "duration": 62,
        "start_time": "2023-05-21T08:49:51.477Z"
      },
      {
        "duration": 1576,
        "start_time": "2023-05-21T08:49:55.510Z"
      },
      {
        "duration": 1552,
        "start_time": "2023-05-21T08:49:57.089Z"
      },
      {
        "duration": 51,
        "start_time": "2023-05-21T08:49:58.643Z"
      },
      {
        "duration": 58,
        "start_time": "2023-05-21T08:49:58.696Z"
      },
      {
        "duration": 47,
        "start_time": "2023-05-21T08:49:58.755Z"
      },
      {
        "duration": 4,
        "start_time": "2023-05-21T08:49:58.803Z"
      },
      {
        "duration": 1024,
        "start_time": "2023-05-21T08:49:58.808Z"
      },
      {
        "duration": 18,
        "start_time": "2023-05-21T08:49:59.834Z"
      },
      {
        "duration": 4,
        "start_time": "2023-05-21T08:49:59.854Z"
      },
      {
        "duration": 6,
        "start_time": "2023-05-21T08:49:59.860Z"
      },
      {
        "duration": 5,
        "start_time": "2023-05-21T08:49:59.867Z"
      },
      {
        "duration": 4,
        "start_time": "2023-05-21T08:49:59.874Z"
      },
      {
        "duration": 123,
        "start_time": "2023-05-21T08:49:59.879Z"
      },
      {
        "duration": 12,
        "start_time": "2023-05-21T08:50:00.004Z"
      },
      {
        "duration": 61,
        "start_time": "2023-05-21T08:50:00.018Z"
      },
      {
        "duration": 41,
        "start_time": "2023-05-21T08:50:00.081Z"
      },
      {
        "duration": 453,
        "start_time": "2023-05-21T08:50:00.124Z"
      },
      {
        "duration": 381,
        "start_time": "2023-05-21T08:50:00.579Z"
      },
      {
        "duration": 399,
        "start_time": "2023-05-21T08:50:00.963Z"
      },
      {
        "duration": 8,
        "start_time": "2023-05-21T08:50:01.364Z"
      },
      {
        "duration": 87,
        "start_time": "2023-05-21T08:50:01.374Z"
      },
      {
        "duration": 89,
        "start_time": "2023-05-21T08:50:01.462Z"
      },
      {
        "duration": 97,
        "start_time": "2023-05-21T08:50:01.553Z"
      },
      {
        "duration": 112,
        "start_time": "2023-05-21T08:50:01.652Z"
      },
      {
        "duration": 191,
        "start_time": "2023-05-21T08:50:01.766Z"
      },
      {
        "duration": 4,
        "start_time": "2023-05-21T08:50:01.959Z"
      },
      {
        "duration": 100,
        "start_time": "2023-05-21T08:50:01.965Z"
      },
      {
        "duration": 84,
        "start_time": "2023-05-21T08:50:02.068Z"
      },
      {
        "duration": 14,
        "start_time": "2023-05-21T08:50:02.154Z"
      },
      {
        "duration": 24,
        "start_time": "2023-05-21T08:50:02.169Z"
      },
      {
        "duration": 18,
        "start_time": "2023-05-21T08:50:02.195Z"
      },
      {
        "duration": 18,
        "start_time": "2023-05-21T08:50:02.215Z"
      },
      {
        "duration": 6,
        "start_time": "2023-05-21T08:50:02.235Z"
      },
      {
        "duration": 690,
        "start_time": "2023-05-21T08:50:02.243Z"
      },
      {
        "duration": 679,
        "start_time": "2023-05-21T08:50:02.936Z"
      },
      {
        "duration": 739,
        "start_time": "2023-05-21T08:50:03.617Z"
      },
      {
        "duration": 10,
        "start_time": "2023-05-21T08:50:04.359Z"
      }
    ],
    "kernelspec": {
      "display_name": "Python 3 (ipykernel)",
      "language": "python",
      "name": "python3"
    },
    "language_info": {
      "codemirror_mode": {
        "name": "ipython",
        "version": 3
      },
      "file_extension": ".py",
      "mimetype": "text/x-python",
      "name": "python",
      "nbconvert_exporter": "python",
      "pygments_lexer": "ipython3",
      "version": "3.9.5"
    },
    "toc": {
      "base_numbering": 1,
      "nav_menu": {},
      "number_sections": true,
      "sideBar": true,
      "skip_h1_title": true,
      "title_cell": "Table of Contents",
      "title_sidebar": "Contents",
      "toc_cell": false,
      "toc_position": {},
      "toc_section_display": true,
      "toc_window_display": false
    },
    "colab": {
      "provenance": []
    }
  },
  "nbformat": 4,
  "nbformat_minor": 0
}