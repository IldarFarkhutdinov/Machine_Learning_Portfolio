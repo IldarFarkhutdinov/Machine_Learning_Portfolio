{
  "cells": [
    {
      "cell_type": "markdown",
      "metadata": {
        "id": "ezqVSKVUV8UH"
      },
      "source": [
        "<div style=\"border:2px solid Black; padding:20px;\">\n",
        "\n",
        "#Определение стоимости автомобилей#\n",
        "\n",
        "Сервис по продаже автомобилей с пробегом «Не бит, не крашен» разрабатывает приложение для привлечения новых клиентов. В нём можно быстро узнать рыночную стоимость своего автомобиля. В вашем распоряжении исторические данные: технические характеристики, комплектации и цены автомобилей. Вам нужно построить модель для определения стоимости.\n",
        "\n",
        "Заказчику важны:\n",
        "\n",
        "- качество предсказания;\n",
        "- скорость предсказания;\n",
        "- время обучения."
      ]
    },
    {
      "cell_type": "markdown",
      "metadata": {
        "id": "8TkYZiZ3V8UI"
      },
      "source": [
        "# Примечания:\n",
        "\n",
        "- Для оценки качества моделей применяйте метрику RMSE.\n",
        "- Самостоятельно освойте библиотеку LightGBM и её средствами постройте модели градиентного бустинга.\n",
        "- Время выполнения ячейки кода Jupyter Notebook можно получить специальной командой. Найдите её.\n",
        "- Поскольку модель градиентного бустинга может обучаться долго, измените у неё только два-три параметра.\n",
        "- Если перестанет работать Jupyter Notebook, удалите лишние переменные оператором del: del features_train\n",
        "\n",
        "# Признаки:\n",
        "\n",
        "- DateCrawled — дата скачивания анкеты из базы\n",
        "- VehicleType — тип автомобильного кузова\n",
        "- RegistrationYear — год регистрации автомобиля\n",
        "- Gearbox — тип коробки передач\n",
        "- Power — мощность (л. с.)\n",
        "- Model — модель автомобиля\n",
        "- Kilometer — пробег (км)\n",
        "- RegistrationMonth — месяц регистрации автомобиля\n",
        "- FuelType — тип топлива\n",
        "- Brand — марка автомобиля\n",
        "- NotRepaired — была машина в ремонте или нет\n",
        "- DateCreated — дата создания анкеты\n",
        "- NumberOfPictures — количество фотографий автомобиля\n",
        "- PostalCode — почтовый индекс владельца анкеты (пользователя)\n",
        "- LastSeen — дата последней активности пользователя\n",
        "\n",
        "# Целевой признак:\n",
        "\n",
        "- Price — цена (евро)\n",
        "\n",
        "# План работы.\n",
        "\n",
        "1. Загрузить данные и провести предобработку.\n",
        "2. Выполнить сравнение моделей с использованием различных наборов гиперпараметров.\n",
        "3. Выбрать лучшую модель по результатам метрики RMSE и времени обучения.\n",
        "4. Оформить проект и написать выводы.\n",
        "\n",
        "</div>"
      ]
    },
    {
      "cell_type": "markdown",
      "metadata": {
        "id": "fyLfai-pV8UJ"
      },
      "source": [
        "## Подготовка данных"
      ]
    },
    {
      "cell_type": "markdown",
      "metadata": {
        "id": "cpwNbf3aV8UK"
      },
      "source": [
        "### Анализ данных"
      ]
    },
    {
      "cell_type": "code",
      "execution_count": null,
      "metadata": {
        "id": "lgT1VBphV8US"
      },
      "outputs": [],
      "source": [
        "import matplotlib.pyplot as plt\n",
        "import numpy as np\n",
        "import pandas as pd\n",
        "import warnings\n",
        "from sklearn.model_selection import train_test_split\n",
        "from sklearn.preprocessing import StandardScaler\n",
        "from sklearn.metrics import mean_squared_error\n",
        "from sklearn.preprocessing import PolynomialFeatures\n",
        "from sklearn.preprocessing import OrdinalEncoder\n",
        "from sklearn.linear_model import LinearRegression\n",
        "from sklearn.linear_model import Ridge\n",
        "from sklearn.tree import DecisionTreeRegressor\n",
        "from sklearn.ensemble import ExtraTreesRegressor\n",
        "from lightgbm import LGBMRegressor\n",
        "from sklearn.model_selection import cross_val_score\n",
        "from sklearn.model_selection import GridSearchCV\n",
        "from sklearn.pipeline import Pipeline\n",
        "import time"
      ]
    },
    {
      "cell_type": "markdown",
      "metadata": {
        "id": "a8Vm6l1pV8UY"
      },
      "source": [
        "Выгрузим данные из таблицы и изучим их."
      ]
    },
    {
      "cell_type": "code",
      "execution_count": null,
      "metadata": {
        "colab": {
          "base_uri": "https://localhost:8080/",
          "height": 886
        },
        "id": "77pxREHmV8UZ",
        "outputId": "fa7d479f-aea7-47b1-b40f-ea3c31c70ed9",
        "scrolled": false
      },
      "outputs": [
        {
          "output_type": "stream",
          "name": "stdout",
          "text": [
            "<class 'pandas.core.frame.DataFrame'>\n",
            "RangeIndex: 354369 entries, 0 to 354368\n",
            "Data columns (total 16 columns):\n",
            " #   Column             Non-Null Count   Dtype \n",
            "---  ------             --------------   ----- \n",
            " 0   DateCrawled        354369 non-null  object\n",
            " 1   Price              354369 non-null  int64 \n",
            " 2   VehicleType        316879 non-null  object\n",
            " 3   RegistrationYear   354369 non-null  int64 \n",
            " 4   Gearbox            334536 non-null  object\n",
            " 5   Power              354369 non-null  int64 \n",
            " 6   Model              334664 non-null  object\n",
            " 7   Kilometer          354369 non-null  int64 \n",
            " 8   RegistrationMonth  354369 non-null  int64 \n",
            " 9   FuelType           321474 non-null  object\n",
            " 10  Brand              354369 non-null  object\n",
            " 11  Repaired           283215 non-null  object\n",
            " 12  DateCreated        354369 non-null  object\n",
            " 13  NumberOfPictures   354369 non-null  int64 \n",
            " 14  PostalCode         354369 non-null  int64 \n",
            " 15  LastSeen           354369 non-null  object\n",
            "dtypes: int64(7), object(9)\n",
            "memory usage: 43.3+ MB\n"
          ]
        },
        {
          "output_type": "display_data",
          "data": {
            "text/plain": [
              "None"
            ]
          },
          "metadata": {}
        },
        {
          "output_type": "execute_result",
          "data": {
            "text/plain": [
              "           DateCrawled  Price VehicleType  RegistrationYear Gearbox  Power  \\\n",
              "0  2016-03-24 11:52:17    480         NaN              1993  manual      0   \n",
              "1  2016-03-24 10:58:45  18300       coupe              2011  manual    190   \n",
              "2  2016-03-14 12:52:21   9800         suv              2004    auto    163   \n",
              "3  2016-03-17 16:54:04   1500       small              2001  manual     75   \n",
              "4  2016-03-31 17:25:20   3600       small              2008  manual     69   \n",
              "\n",
              "   Model  Kilometer  RegistrationMonth  FuelType       Brand Repaired  \\\n",
              "0   golf     150000                  0    petrol  volkswagen      NaN   \n",
              "1    NaN     125000                  5  gasoline        audi      yes   \n",
              "2  grand     125000                  8  gasoline        jeep      NaN   \n",
              "3   golf     150000                  6    petrol  volkswagen       no   \n",
              "4  fabia      90000                  7  gasoline       skoda       no   \n",
              "\n",
              "           DateCreated  NumberOfPictures  PostalCode             LastSeen  \n",
              "0  2016-03-24 00:00:00                 0       70435  2016-04-07 03:16:57  \n",
              "1  2016-03-24 00:00:00                 0       66954  2016-04-07 01:46:50  \n",
              "2  2016-03-14 00:00:00                 0       90480  2016-04-05 12:47:46  \n",
              "3  2016-03-17 00:00:00                 0       91074  2016-03-17 17:40:17  \n",
              "4  2016-03-31 00:00:00                 0       60437  2016-04-06 10:17:21  "
            ],
            "text/html": [
              "\n",
              "\n",
              "  <div id=\"df-6d2d57fa-b271-484b-8553-439171c19f66\">\n",
              "    <div class=\"colab-df-container\">\n",
              "      <div>\n",
              "<style scoped>\n",
              "    .dataframe tbody tr th:only-of-type {\n",
              "        vertical-align: middle;\n",
              "    }\n",
              "\n",
              "    .dataframe tbody tr th {\n",
              "        vertical-align: top;\n",
              "    }\n",
              "\n",
              "    .dataframe thead th {\n",
              "        text-align: right;\n",
              "    }\n",
              "</style>\n",
              "<table border=\"1\" class=\"dataframe\">\n",
              "  <thead>\n",
              "    <tr style=\"text-align: right;\">\n",
              "      <th></th>\n",
              "      <th>DateCrawled</th>\n",
              "      <th>Price</th>\n",
              "      <th>VehicleType</th>\n",
              "      <th>RegistrationYear</th>\n",
              "      <th>Gearbox</th>\n",
              "      <th>Power</th>\n",
              "      <th>Model</th>\n",
              "      <th>Kilometer</th>\n",
              "      <th>RegistrationMonth</th>\n",
              "      <th>FuelType</th>\n",
              "      <th>Brand</th>\n",
              "      <th>Repaired</th>\n",
              "      <th>DateCreated</th>\n",
              "      <th>NumberOfPictures</th>\n",
              "      <th>PostalCode</th>\n",
              "      <th>LastSeen</th>\n",
              "    </tr>\n",
              "  </thead>\n",
              "  <tbody>\n",
              "    <tr>\n",
              "      <th>0</th>\n",
              "      <td>2016-03-24 11:52:17</td>\n",
              "      <td>480</td>\n",
              "      <td>NaN</td>\n",
              "      <td>1993</td>\n",
              "      <td>manual</td>\n",
              "      <td>0</td>\n",
              "      <td>golf</td>\n",
              "      <td>150000</td>\n",
              "      <td>0</td>\n",
              "      <td>petrol</td>\n",
              "      <td>volkswagen</td>\n",
              "      <td>NaN</td>\n",
              "      <td>2016-03-24 00:00:00</td>\n",
              "      <td>0</td>\n",
              "      <td>70435</td>\n",
              "      <td>2016-04-07 03:16:57</td>\n",
              "    </tr>\n",
              "    <tr>\n",
              "      <th>1</th>\n",
              "      <td>2016-03-24 10:58:45</td>\n",
              "      <td>18300</td>\n",
              "      <td>coupe</td>\n",
              "      <td>2011</td>\n",
              "      <td>manual</td>\n",
              "      <td>190</td>\n",
              "      <td>NaN</td>\n",
              "      <td>125000</td>\n",
              "      <td>5</td>\n",
              "      <td>gasoline</td>\n",
              "      <td>audi</td>\n",
              "      <td>yes</td>\n",
              "      <td>2016-03-24 00:00:00</td>\n",
              "      <td>0</td>\n",
              "      <td>66954</td>\n",
              "      <td>2016-04-07 01:46:50</td>\n",
              "    </tr>\n",
              "    <tr>\n",
              "      <th>2</th>\n",
              "      <td>2016-03-14 12:52:21</td>\n",
              "      <td>9800</td>\n",
              "      <td>suv</td>\n",
              "      <td>2004</td>\n",
              "      <td>auto</td>\n",
              "      <td>163</td>\n",
              "      <td>grand</td>\n",
              "      <td>125000</td>\n",
              "      <td>8</td>\n",
              "      <td>gasoline</td>\n",
              "      <td>jeep</td>\n",
              "      <td>NaN</td>\n",
              "      <td>2016-03-14 00:00:00</td>\n",
              "      <td>0</td>\n",
              "      <td>90480</td>\n",
              "      <td>2016-04-05 12:47:46</td>\n",
              "    </tr>\n",
              "    <tr>\n",
              "      <th>3</th>\n",
              "      <td>2016-03-17 16:54:04</td>\n",
              "      <td>1500</td>\n",
              "      <td>small</td>\n",
              "      <td>2001</td>\n",
              "      <td>manual</td>\n",
              "      <td>75</td>\n",
              "      <td>golf</td>\n",
              "      <td>150000</td>\n",
              "      <td>6</td>\n",
              "      <td>petrol</td>\n",
              "      <td>volkswagen</td>\n",
              "      <td>no</td>\n",
              "      <td>2016-03-17 00:00:00</td>\n",
              "      <td>0</td>\n",
              "      <td>91074</td>\n",
              "      <td>2016-03-17 17:40:17</td>\n",
              "    </tr>\n",
              "    <tr>\n",
              "      <th>4</th>\n",
              "      <td>2016-03-31 17:25:20</td>\n",
              "      <td>3600</td>\n",
              "      <td>small</td>\n",
              "      <td>2008</td>\n",
              "      <td>manual</td>\n",
              "      <td>69</td>\n",
              "      <td>fabia</td>\n",
              "      <td>90000</td>\n",
              "      <td>7</td>\n",
              "      <td>gasoline</td>\n",
              "      <td>skoda</td>\n",
              "      <td>no</td>\n",
              "      <td>2016-03-31 00:00:00</td>\n",
              "      <td>0</td>\n",
              "      <td>60437</td>\n",
              "      <td>2016-04-06 10:17:21</td>\n",
              "    </tr>\n",
              "  </tbody>\n",
              "</table>\n",
              "</div>\n",
              "      <button class=\"colab-df-convert\" onclick=\"convertToInteractive('df-6d2d57fa-b271-484b-8553-439171c19f66')\"\n",
              "              title=\"Convert this dataframe to an interactive table.\"\n",
              "              style=\"display:none;\">\n",
              "\n",
              "  <svg xmlns=\"http://www.w3.org/2000/svg\" height=\"24px\"viewBox=\"0 0 24 24\"\n",
              "       width=\"24px\">\n",
              "    <path d=\"M0 0h24v24H0V0z\" fill=\"none\"/>\n",
              "    <path d=\"M18.56 5.44l.94 2.06.94-2.06 2.06-.94-2.06-.94-.94-2.06-.94 2.06-2.06.94zm-11 1L8.5 8.5l.94-2.06 2.06-.94-2.06-.94L8.5 2.5l-.94 2.06-2.06.94zm10 10l.94 2.06.94-2.06 2.06-.94-2.06-.94-.94-2.06-.94 2.06-2.06.94z\"/><path d=\"M17.41 7.96l-1.37-1.37c-.4-.4-.92-.59-1.43-.59-.52 0-1.04.2-1.43.59L10.3 9.45l-7.72 7.72c-.78.78-.78 2.05 0 2.83L4 21.41c.39.39.9.59 1.41.59.51 0 1.02-.2 1.41-.59l7.78-7.78 2.81-2.81c.8-.78.8-2.07 0-2.86zM5.41 20L4 18.59l7.72-7.72 1.47 1.35L5.41 20z\"/>\n",
              "  </svg>\n",
              "      </button>\n",
              "\n",
              "\n",
              "\n",
              "    <div id=\"df-1076e4e2-efc0-494a-a898-676a60a51e50\">\n",
              "      <button class=\"colab-df-quickchart\" onclick=\"quickchart('df-1076e4e2-efc0-494a-a898-676a60a51e50')\"\n",
              "              title=\"Suggest charts.\"\n",
              "              style=\"display:none;\">\n",
              "\n",
              "<svg xmlns=\"http://www.w3.org/2000/svg\" height=\"24px\"viewBox=\"0 0 24 24\"\n",
              "     width=\"24px\">\n",
              "    <g>\n",
              "        <path d=\"M19 3H5c-1.1 0-2 .9-2 2v14c0 1.1.9 2 2 2h14c1.1 0 2-.9 2-2V5c0-1.1-.9-2-2-2zM9 17H7v-7h2v7zm4 0h-2V7h2v10zm4 0h-2v-4h2v4z\"/>\n",
              "    </g>\n",
              "</svg>\n",
              "      </button>\n",
              "    </div>\n",
              "\n",
              "<style>\n",
              "  .colab-df-quickchart {\n",
              "    background-color: #E8F0FE;\n",
              "    border: none;\n",
              "    border-radius: 50%;\n",
              "    cursor: pointer;\n",
              "    display: none;\n",
              "    fill: #1967D2;\n",
              "    height: 32px;\n",
              "    padding: 0 0 0 0;\n",
              "    width: 32px;\n",
              "  }\n",
              "\n",
              "  .colab-df-quickchart:hover {\n",
              "    background-color: #E2EBFA;\n",
              "    box-shadow: 0px 1px 2px rgba(60, 64, 67, 0.3), 0px 1px 3px 1px rgba(60, 64, 67, 0.15);\n",
              "    fill: #174EA6;\n",
              "  }\n",
              "\n",
              "  [theme=dark] .colab-df-quickchart {\n",
              "    background-color: #3B4455;\n",
              "    fill: #D2E3FC;\n",
              "  }\n",
              "\n",
              "  [theme=dark] .colab-df-quickchart:hover {\n",
              "    background-color: #434B5C;\n",
              "    box-shadow: 0px 1px 3px 1px rgba(0, 0, 0, 0.15);\n",
              "    filter: drop-shadow(0px 1px 2px rgba(0, 0, 0, 0.3));\n",
              "    fill: #FFFFFF;\n",
              "  }\n",
              "</style>\n",
              "\n",
              "    <script>\n",
              "      async function quickchart(key) {\n",
              "        const containerElement = document.querySelector('#' + key);\n",
              "        const charts = await google.colab.kernel.invokeFunction(\n",
              "            'suggestCharts', [key], {});\n",
              "      }\n",
              "    </script>\n",
              "\n",
              "      <script>\n",
              "\n",
              "function displayQuickchartButton(domScope) {\n",
              "  let quickchartButtonEl =\n",
              "    domScope.querySelector('#df-1076e4e2-efc0-494a-a898-676a60a51e50 button.colab-df-quickchart');\n",
              "  quickchartButtonEl.style.display =\n",
              "    google.colab.kernel.accessAllowed ? 'block' : 'none';\n",
              "}\n",
              "\n",
              "        displayQuickchartButton(document);\n",
              "      </script>\n",
              "      <style>\n",
              "    .colab-df-container {\n",
              "      display:flex;\n",
              "      flex-wrap:wrap;\n",
              "      gap: 12px;\n",
              "    }\n",
              "\n",
              "    .colab-df-convert {\n",
              "      background-color: #E8F0FE;\n",
              "      border: none;\n",
              "      border-radius: 50%;\n",
              "      cursor: pointer;\n",
              "      display: none;\n",
              "      fill: #1967D2;\n",
              "      height: 32px;\n",
              "      padding: 0 0 0 0;\n",
              "      width: 32px;\n",
              "    }\n",
              "\n",
              "    .colab-df-convert:hover {\n",
              "      background-color: #E2EBFA;\n",
              "      box-shadow: 0px 1px 2px rgba(60, 64, 67, 0.3), 0px 1px 3px 1px rgba(60, 64, 67, 0.15);\n",
              "      fill: #174EA6;\n",
              "    }\n",
              "\n",
              "    [theme=dark] .colab-df-convert {\n",
              "      background-color: #3B4455;\n",
              "      fill: #D2E3FC;\n",
              "    }\n",
              "\n",
              "    [theme=dark] .colab-df-convert:hover {\n",
              "      background-color: #434B5C;\n",
              "      box-shadow: 0px 1px 3px 1px rgba(0, 0, 0, 0.15);\n",
              "      filter: drop-shadow(0px 1px 2px rgba(0, 0, 0, 0.3));\n",
              "      fill: #FFFFFF;\n",
              "    }\n",
              "  </style>\n",
              "\n",
              "      <script>\n",
              "        const buttonEl =\n",
              "          document.querySelector('#df-6d2d57fa-b271-484b-8553-439171c19f66 button.colab-df-convert');\n",
              "        buttonEl.style.display =\n",
              "          google.colab.kernel.accessAllowed ? 'block' : 'none';\n",
              "\n",
              "        async function convertToInteractive(key) {\n",
              "          const element = document.querySelector('#df-6d2d57fa-b271-484b-8553-439171c19f66');\n",
              "          const dataTable =\n",
              "            await google.colab.kernel.invokeFunction('convertToInteractive',\n",
              "                                                     [key], {});\n",
              "          if (!dataTable) return;\n",
              "\n",
              "          const docLinkHtml = 'Like what you see? Visit the ' +\n",
              "            '<a target=\"_blank\" href=https://colab.research.google.com/notebooks/data_table.ipynb>data table notebook</a>'\n",
              "            + ' to learn more about interactive tables.';\n",
              "          element.innerHTML = '';\n",
              "          dataTable['output_type'] = 'display_data';\n",
              "          await google.colab.output.renderOutput(dataTable, element);\n",
              "          const docLink = document.createElement('div');\n",
              "          docLink.innerHTML = docLinkHtml;\n",
              "          element.appendChild(docLink);\n",
              "        }\n",
              "      </script>\n",
              "    </div>\n",
              "  </div>\n"
            ]
          },
          "metadata": {},
          "execution_count": 3
        }
      ],
      "source": [
        "autos_data = pd.read_csv('datasets/autos.csv')\n",
        "display(autos_data.info())\n",
        "autos_data.head()"
      ]
    },
    {
      "cell_type": "markdown",
      "metadata": {
        "id": "r0qzqpQ_V8Uf"
      },
      "source": [
        "Оценим количество пропусков по каждому критерию."
      ]
    },
    {
      "cell_type": "code",
      "execution_count": null,
      "metadata": {
        "colab": {
          "base_uri": "https://localhost:8080/"
        },
        "id": "gBnXKyREV8Ug",
        "outputId": "87114fc6-1f18-4e82-f42c-2f3ed1907a0d"
      },
      "outputs": [
        {
          "output_type": "execute_result",
          "data": {
            "text/plain": [
              "DateCrawled          0.000000\n",
              "Price                0.000000\n",
              "VehicleType          0.105794\n",
              "RegistrationYear     0.000000\n",
              "Gearbox              0.055967\n",
              "Power                0.000000\n",
              "Model                0.055606\n",
              "Kilometer            0.000000\n",
              "RegistrationMonth    0.000000\n",
              "FuelType             0.092827\n",
              "Brand                0.000000\n",
              "Repaired             0.200791\n",
              "DateCreated          0.000000\n",
              "NumberOfPictures     0.000000\n",
              "PostalCode           0.000000\n",
              "LastSeen             0.000000\n",
              "dtype: float64"
            ]
          },
          "metadata": {},
          "execution_count": 4
        }
      ],
      "source": [
        "autos_data.isna().mean()"
      ]
    },
    {
      "cell_type": "markdown",
      "metadata": {
        "id": "Fb_nug3FV8Uh"
      },
      "source": [
        "Столбцы VehicleType, Gearbox, FuelType и NotRepaired обладают пропусками. Изучим, какие данные есть в каждом столбце."
      ]
    },
    {
      "cell_type": "code",
      "execution_count": null,
      "metadata": {
        "id": "6rqcYkUDV8Ui"
      },
      "outputs": [],
      "source": [
        "def show_rows(data_frame):\n",
        "    for column in data_frame.columns:\n",
        "        print('Уникальные значения столбца', column)\n",
        "        print(data_frame[column].unique())"
      ]
    },
    {
      "cell_type": "code",
      "execution_count": null,
      "metadata": {
        "colab": {
          "base_uri": "https://localhost:8080/"
        },
        "id": "cZoqckA1V8Um",
        "outputId": "168a3062-703f-4157-e998-789bd63c7c1b",
        "scrolled": true
      },
      "outputs": [
        {
          "output_type": "stream",
          "name": "stdout",
          "text": [
            "Уникальные значения столбца DateCrawled\n",
            "['2016-03-24 11:52:17' '2016-03-24 10:58:45' '2016-03-14 12:52:21' ...\n",
            " '2016-03-21 09:50:58' '2016-03-14 17:48:27' '2016-03-19 18:57:12']\n",
            "Уникальные значения столбца Price\n",
            "[  480 18300  9800 ... 12395 18429 10985]\n",
            "Уникальные значения столбца VehicleType\n",
            "[nan 'coupe' 'suv' 'small' 'sedan' 'convertible' 'bus' 'wagon' 'other']\n",
            "Уникальные значения столбца RegistrationYear\n",
            "[1993 2011 2004 2001 2008 1995 1980 2014 1998 2005 1910 2016 2007 2009\n",
            " 2002 2018 1997 1990 2017 1981 2003 1994 1991 1984 2006 1999 2012 2010\n",
            " 2000 1992 2013 1996 1985 1989 2015 1982 1976 1983 1973 1111 1969 1971\n",
            " 1987 1986 1988 1970 1965 1945 1925 1974 1979 1955 1978 1972 1968 1977\n",
            " 1961 1960 1966 1975 1963 1964 5000 1954 1958 1967 1959 9999 1956 3200\n",
            " 1000 1941 8888 1500 2200 4100 1962 1929 1957 1940 3000 2066 1949 2019\n",
            " 1937 1951 1800 1953 1234 8000 5300 9000 2900 6000 5900 5911 1933 1400\n",
            " 1950 4000 1948 1952 1200 8500 1932 1255 3700 3800 4800 1942 7000 1935\n",
            " 1936 6500 1923 2290 2500 1930 1001 9450 1944 1943 1934 1938 1688 2800\n",
            " 1253 1928 1919 5555 5600 1600 2222 1039 9996 1300 8455 1931 1915 4500\n",
            " 1920 1602 7800 9229 1947 1927 7100 8200 1946 7500 3500]\n",
            "Уникальные значения столбца Gearbox\n",
            "['manual' 'auto' nan]\n",
            "Уникальные значения столбца Power\n",
            "[    0   190   163    75    69   102   109    50   125   101   105   140\n",
            "   115   131    60   136   160   231    90   118   193    99   113   218\n",
            "   122   129    70   306    95    61   177    80   170    55   143    64\n",
            "   286   232   150   156    82   155    54   185    87   180    86    84\n",
            "   224   235   200   178   265    77   110   144   120   116   184   126\n",
            "   204    88   194   305   197   179   250    45   313    41   165    98\n",
            "   130   114   211    56   201   213    58   107    83   174   100   220\n",
            "    85    73   192    68    66   299    74    52   147    65   310    71\n",
            "    97   239   203     5   300   103   258   320    63    81   148    44\n",
            "   145   230   280   260   104   188   333   186   117   141    59   132\n",
            "   234   158    39    92    51   135    53   209    43   146    67   106\n",
            "   166   276   344    72   249   237   245   111   326   279    23   138\n",
            "   175    96   226    26    37   301   334   128   133   124    33   219\n",
            "   241   167    94   182   196   238  1398   228   112    48   272   139\n",
            "  1799    40   240    79   256   360   243   375   252   396   340   108\n",
            "   121   345   187   289   222   198   284   450   233   387   152   347\n",
            "   172    57   137   212   476   314    30     7    47   173   290   207\n",
            "   205   171   750    78    91    89   349   325    76   151   350   953\n",
            "    93   142   500   343   199   119   164    16   264   367   208   210\n",
            "    46   435  1001   225   127   176   161   603   307   354    35   206\n",
            "   771   355   273   223   255   123   154   149  7515  1400   268   620\n",
            "   169   400   275    34     2   242  1779   285   162   328  1753   329\n",
            "   134   420   247   168 10317   215    18   330   283    62    10   214\n",
            "   183   254    15   321   322   315   952   600   181   426   599   379\n",
            "   999    22   157    42   195   553     4   309   507   381   271   440\n",
            "   189   401  1111  2729    21   236  1240  1704   521     1  1900   270\n",
            "    24   159   292   808   515  1200   303    29    38  1993    14   216\n",
            "   610   504    49   267   331   363   261   385  1011   253   696 10520\n",
            "   376   227   311    27   217    20  1999    11  1056    25   394    12\n",
            "   298   296  1659   294   551  6920   246    17  1800  1625   368   390\n",
            "   221  1367   259   606   327  2017  1597   266   374   392     9   405\n",
            "    13   262   601   430   295     8   411   900   541  7512   382 10218\n",
            "  7544  1102   287    19   751   297  1090   457   282   602   388     6\n",
            "  1000  5411   335  1360   202  3750   805  1062  1024 11530   364  1796\n",
            "  5000   269   460  1002   288  1780 12012 17932   316  2005  1399   191\n",
            "   278  1300   380   257   449  1256   153  1653   520   560   281 12510\n",
            "     3  1500   386    32  1202  2016  1436  1405   671   274  1288  1055\n",
            " 10912 15016  6226  1115   277  1105   341  1223  2340  8404  1968   338\n",
            "   445  1920   370   517  4400 10710 10522  9010   431  1164 11509   371\n",
            "  1501   428 11635    36   304   348  1703  1910  1995   579 10000   580\n",
            "   408    31  1005   358  1403   489  5575 19211   585   960   365   353\n",
            "   490   352  1801   346   550  3199   800  7508  1312   357  1937   950\n",
            "  4700  1600  3454 19208   251   850   337   700  8011  2331  2789   487\n",
            "   519  2461  6006  3500  5815  6018  1781  1503   612  1596   229  1506\n",
            "  5809 15020  5867  2172  1598 17410  1363   584  1054   851  1339   318\n",
            "   510   525  1700    28  1151   685  6011   317   703  1771 15001   514\n",
            "   362   332   324  6045   530   425   308  6010   475   903   640  2000\n",
            "   248   651  2799 17011   505  1103  1521   351 16051   398  9000  1998\n",
            " 10311   409  1230 17019 12684  8259  1895   901  1317   871   909  2201\n",
            "  1595   776 17700 11011  1199   459  1162  1120 15033  1896   339   361\n",
            "   574  6512   454   650 13616   604   607 16312  1082   336 20000   416\n",
            "   678  6012  1401  1021  1870 13636  1250  9710   323  1158  2009   902\n",
            "  6062  1275   572   244   399  1016   743  1221  2402 16011  1362   544\n",
            "   645   907   702 12512  1986  1003  1432  9013  9011   442  1017  1394\n",
            " 15017 10910  1992   540  2018 11025  1433  1701  2792  1502  1239  1390\n",
            " 14009  1160  1351 11111  1783  9007   923  1149   754  1988   402  2004\n",
            "  5420  1793  1324   356  7511  1299   293 19312  1079  1689   998  1100\n",
            "  9012  1933   508 16311   682  1252  1922  7529   732  2389  2200  1707\n",
            "  1416  8500  1012   485  3000 10110   421  4507  1631  7518   377  1004\n",
            "  2007  2598  1548  1241]\n",
            "Уникальные значения столбца Model\n",
            "['golf' nan 'grand' 'fabia' '3er' '2_reihe' 'other' 'c_max' '3_reihe'\n",
            " 'passat' 'navara' 'ka' 'polo' 'twingo' 'a_klasse' 'scirocco' '5er'\n",
            " 'meriva' 'arosa' 'c4' 'civic' 'transporter' 'punto' 'e_klasse' 'clio'\n",
            " 'kadett' 'kangoo' 'corsa' 'one' 'fortwo' '1er' 'b_klasse' 'signum'\n",
            " 'astra' 'a8' 'jetta' 'fiesta' 'c_klasse' 'micra' 'vito' 'sprinter' '156'\n",
            " 'escort' 'forester' 'xc_reihe' 'scenic' 'a4' 'a1' 'insignia' 'combo'\n",
            " 'focus' 'tt' 'a6' 'jazz' 'omega' 'slk' '7er' '80' '147' '100' 'z_reihe'\n",
            " 'sportage' 'sorento' 'v40' 'ibiza' 'mustang' 'eos' 'touran' 'getz' 'a3'\n",
            " 'almera' 'megane' 'lupo' 'r19' 'zafira' 'caddy' 'mondeo' 'cordoba' 'colt'\n",
            " 'impreza' 'vectra' 'berlingo' 'tiguan' 'i_reihe' 'espace' 'sharan'\n",
            " '6_reihe' 'panda' 'up' 'seicento' 'ceed' '5_reihe' 'yeti' 'octavia' 'mii'\n",
            " 'rx_reihe' '6er' 'modus' 'fox' 'matiz' 'beetle' 'c1' 'rio' 'touareg'\n",
            " 'logan' 'spider' 'cuore' 's_max' 'a2' 'galaxy' 'c3' 'viano' 's_klasse'\n",
            " '1_reihe' 'avensis' 'roomster' 'sl' 'kaefer' 'santa' 'cooper' 'leon'\n",
            " '4_reihe' 'a5' '500' 'laguna' 'ptcruiser' 'clk' 'primera' 'x_reihe'\n",
            " 'exeo' '159' 'transit' 'juke' 'qashqai' 'carisma' 'accord' 'corolla'\n",
            " 'lanos' 'phaeton' 'verso' 'swift' 'rav' 'picanto' 'boxster' 'kalos'\n",
            " 'superb' 'stilo' 'alhambra' 'mx_reihe' 'roadster' 'ypsilon' 'cayenne'\n",
            " 'galant' 'justy' '90' 'sirion' 'crossfire' 'agila' 'duster' 'cr_reihe'\n",
            " 'v50' 'c_reihe' 'v_klasse' 'm_klasse' 'yaris' 'c5' 'aygo' 'cc' 'carnival'\n",
            " 'fusion' '911' 'bora' 'forfour' 'm_reihe' 'cl' 'tigra' '300c' 'spark'\n",
            " 'v70' 'kuga' 'x_type' 'ducato' 's_type' 'x_trail' 'toledo' 'altea'\n",
            " 'voyager' 'calibra' 'bravo' 'antara' 'tucson' 'citigo' 'jimny' 'wrangler'\n",
            " 'lybra' 'q7' 'lancer' 'captiva' 'c2' 'discovery' 'freelander' 'sandero'\n",
            " 'note' '900' 'cherokee' 'clubman' 'samara' 'defender' '601' 'cx_reihe'\n",
            " 'legacy' 'pajero' 'auris' 'niva' 's60' 'nubira' 'vivaro' 'g_klasse'\n",
            " 'lodgy' '850' 'range_rover' 'q3' 'serie_2' 'glk' 'charade' 'croma'\n",
            " 'outlander' 'doblo' 'musa' 'move' '9000' 'v60' '145' 'aveo' '200' 'b_max'\n",
            " 'range_rover_sport' 'terios' 'rangerover' 'q5' 'range_rover_evoque'\n",
            " 'materia' 'delta' 'gl' 'kalina' 'amarok' 'elefantino' 'i3' 'kappa'\n",
            " 'serie_3' 'serie_1']\n",
            "Уникальные значения столбца Kilometer\n",
            "[150000 125000  90000  40000  30000  70000   5000 100000  60000  20000\n",
            "  80000  50000  10000]\n",
            "Уникальные значения столбца RegistrationMonth\n",
            "[ 0  5  8  6  7 10 12 11  2  3  1  4  9]\n",
            "Уникальные значения столбца FuelType\n",
            "['petrol' 'gasoline' nan 'lpg' 'other' 'hybrid' 'cng' 'electric']\n",
            "Уникальные значения столбца Brand\n",
            "['volkswagen' 'audi' 'jeep' 'skoda' 'bmw' 'peugeot' 'ford' 'mazda'\n",
            " 'nissan' 'renault' 'mercedes_benz' 'opel' 'seat' 'citroen' 'honda' 'fiat'\n",
            " 'mini' 'smart' 'hyundai' 'sonstige_autos' 'alfa_romeo' 'subaru' 'volvo'\n",
            " 'mitsubishi' 'kia' 'suzuki' 'lancia' 'toyota' 'chevrolet' 'dacia'\n",
            " 'daihatsu' 'trabant' 'saab' 'chrysler' 'jaguar' 'daewoo' 'porsche'\n",
            " 'rover' 'land_rover' 'lada']\n",
            "Уникальные значения столбца Repaired\n",
            "[nan 'yes' 'no']\n",
            "Уникальные значения столбца DateCreated\n",
            "['2016-03-24 00:00:00' '2016-03-14 00:00:00' '2016-03-17 00:00:00'\n",
            " '2016-03-31 00:00:00' '2016-04-04 00:00:00' '2016-04-01 00:00:00'\n",
            " '2016-03-21 00:00:00' '2016-03-26 00:00:00' '2016-04-07 00:00:00'\n",
            " '2016-03-15 00:00:00' '2016-03-11 00:00:00' '2016-03-20 00:00:00'\n",
            " '2016-03-23 00:00:00' '2016-03-27 00:00:00' '2016-03-12 00:00:00'\n",
            " '2016-03-13 00:00:00' '2016-03-18 00:00:00' '2016-03-10 00:00:00'\n",
            " '2016-03-07 00:00:00' '2016-03-09 00:00:00' '2016-03-08 00:00:00'\n",
            " '2016-04-03 00:00:00' '2016-03-29 00:00:00' '2016-03-25 00:00:00'\n",
            " '2016-03-28 00:00:00' '2016-03-30 00:00:00' '2016-03-22 00:00:00'\n",
            " '2016-02-09 00:00:00' '2016-03-05 00:00:00' '2016-04-02 00:00:00'\n",
            " '2016-03-16 00:00:00' '2016-03-19 00:00:00' '2016-04-05 00:00:00'\n",
            " '2016-03-06 00:00:00' '2016-02-12 00:00:00' '2016-03-03 00:00:00'\n",
            " '2016-03-01 00:00:00' '2016-03-04 00:00:00' '2016-04-06 00:00:00'\n",
            " '2016-02-15 00:00:00' '2016-02-24 00:00:00' '2016-02-27 00:00:00'\n",
            " '2015-03-20 00:00:00' '2016-02-28 00:00:00' '2016-02-17 00:00:00'\n",
            " '2016-01-27 00:00:00' '2016-02-20 00:00:00' '2016-02-29 00:00:00'\n",
            " '2016-02-10 00:00:00' '2016-02-23 00:00:00' '2016-02-21 00:00:00'\n",
            " '2015-11-02 00:00:00' '2016-02-19 00:00:00' '2016-02-26 00:00:00'\n",
            " '2016-02-11 00:00:00' '2016-01-10 00:00:00' '2016-02-06 00:00:00'\n",
            " '2016-02-18 00:00:00' '2016-01-29 00:00:00' '2016-03-02 00:00:00'\n",
            " '2015-12-06 00:00:00' '2016-01-24 00:00:00' '2016-01-30 00:00:00'\n",
            " '2016-02-02 00:00:00' '2016-02-16 00:00:00' '2016-02-13 00:00:00'\n",
            " '2016-02-05 00:00:00' '2016-02-22 00:00:00' '2015-11-17 00:00:00'\n",
            " '2014-03-10 00:00:00' '2016-02-07 00:00:00' '2016-01-23 00:00:00'\n",
            " '2016-02-25 00:00:00' '2016-02-14 00:00:00' '2016-01-02 00:00:00'\n",
            " '2015-09-04 00:00:00' '2015-11-12 00:00:00' '2015-12-27 00:00:00'\n",
            " '2015-11-24 00:00:00' '2016-01-20 00:00:00' '2016-02-03 00:00:00'\n",
            " '2015-12-05 00:00:00' '2015-08-07 00:00:00' '2016-01-28 00:00:00'\n",
            " '2016-01-31 00:00:00' '2016-02-08 00:00:00' '2016-01-07 00:00:00'\n",
            " '2016-01-22 00:00:00' '2016-01-18 00:00:00' '2016-01-08 00:00:00'\n",
            " '2015-11-23 00:00:00' '2016-01-13 00:00:00' '2016-01-17 00:00:00'\n",
            " '2016-01-15 00:00:00' '2015-11-08 00:00:00' '2016-01-26 00:00:00'\n",
            " '2016-02-04 00:00:00' '2016-01-25 00:00:00' '2016-01-16 00:00:00'\n",
            " '2015-08-10 00:00:00' '2016-01-03 00:00:00' '2016-01-19 00:00:00'\n",
            " '2015-12-30 00:00:00' '2016-02-01 00:00:00' '2015-12-17 00:00:00'\n",
            " '2015-11-10 00:00:00' '2016-01-06 00:00:00' '2015-09-09 00:00:00'\n",
            " '2015-06-18 00:00:00']\n",
            "Уникальные значения столбца NumberOfPictures\n",
            "[0]\n",
            "Уникальные значения столбца PostalCode\n",
            "[70435 66954 90480 ... 38528 38325 31096]\n",
            "Уникальные значения столбца LastSeen\n",
            "['2016-04-07 03:16:57' '2016-04-07 01:46:50' '2016-04-05 12:47:46' ...\n",
            " '2016-03-19 20:44:43' '2016-03-29 10:17:23' '2016-03-21 10:42:49']\n"
          ]
        }
      ],
      "source": [
        "show_rows(autos_data)"
      ]
    },
    {
      "cell_type": "markdown",
      "metadata": {
        "id": "fztOlxsbV8VK"
      },
      "source": [
        "В столбце RegistrationYear существуют некорректные значения года регистрации.<br>\n",
        "В столбце RegistrationMonth отсутсвует месяц регистрации.<br>\n",
        "В столбце Power присутвует некорректное значение мощности."
      ]
    },
    {
      "cell_type": "markdown",
      "metadata": {
        "id": "A78kGShtV8VN"
      },
      "source": [
        "Определим признаки, важные для модели.<br>\n",
        "\n",
        "К значимым признакам отнесем следующие столбцы:\n",
        "\n",
        "- VehicleType. Тип машины определяет ее функционал. Чем больше возможносей у машины, тем выше цена.\n",
        "- Gearbox. Наличие автоматической коробки передач повышает стоимость машины из-за сложности конструкции.\n",
        "- Power. Мощность в лоашдиных силах (далее л.с.) напрямую влияют на цену.\n",
        "- Kilometer. Имеет обратно пропорциональную зависиммость от цены. Чем больше километров проехала машина, тем меньше ее надежность и соответсвенно цена.\n",
        "- FuelType. Тип топлива определяет конструкцию двигателя внутреннего сгорания.\n",
        "- Brand. Концерн/компания, которая создала автомобиль показывает качество и надежность автомобиля.\n",
        "- Repaired. Машины, которые побывали в дорожно-транспортных проишествиях означает, что машина подвергалась изменениям и ее надежность ниже.\n",
        "- RegistrationYear. Год регистрации определяет сколько уже лет машина на ходу. соответвенно, чем больше возраст, тем меньше цена.\n",
        "- Model. В купе с типом машины и брендом може влиять на популярность у покупателей.\n",
        "\n",
        "Остальные столбцы для модели не требуются, так как не влияют на стоимость.<br>"
      ]
    },
    {
      "cell_type": "markdown",
      "metadata": {
        "id": "6AZJJhEIV8VR"
      },
      "source": [
        "### Преобрадотка данных"
      ]
    },
    {
      "cell_type": "markdown",
      "metadata": {
        "id": "bEdPR4MIV8VW"
      },
      "source": [
        "Сократим дата фрейм до нужных столбцов."
      ]
    },
    {
      "cell_type": "code",
      "execution_count": null,
      "metadata": {
        "colab": {
          "base_uri": "https://localhost:8080/"
        },
        "id": "mcORhb-hV8VZ",
        "outputId": "c8e11f9e-9594-4010-ce3a-7fd195b77e74"
      },
      "outputs": [
        {
          "output_type": "stream",
          "name": "stdout",
          "text": [
            "<class 'pandas.core.frame.DataFrame'>\n",
            "RangeIndex: 354369 entries, 0 to 354368\n",
            "Data columns (total 10 columns):\n",
            " #   Column            Non-Null Count   Dtype \n",
            "---  ------            --------------   ----- \n",
            " 0   VehicleType       316879 non-null  object\n",
            " 1   Gearbox           334536 non-null  object\n",
            " 2   Power             354369 non-null  int64 \n",
            " 3   Kilometer         354369 non-null  int64 \n",
            " 4   FuelType          321474 non-null  object\n",
            " 5   Brand             354369 non-null  object\n",
            " 6   Repaired          283215 non-null  object\n",
            " 7   RegistrationYear  354369 non-null  int64 \n",
            " 8   Model             334664 non-null  object\n",
            " 9   Price             354369 non-null  int64 \n",
            "dtypes: int64(4), object(6)\n",
            "memory usage: 27.0+ MB\n"
          ]
        }
      ],
      "source": [
        "filtred_autos_data = autos_data[['VehicleType',\n",
        "                         'Gearbox',\n",
        "                         'Power',\n",
        "                         'Kilometer',\n",
        "                         'FuelType',\n",
        "                         'Brand',\n",
        "                         'Repaired',\n",
        "                         'RegistrationYear',\n",
        "                         'Model',\n",
        "                         'Price']]\n",
        "filtred_autos_data.info()"
      ]
    },
    {
      "cell_type": "markdown",
      "metadata": {
        "id": "SBtNxzbgV8Vc"
      },
      "source": [
        "Столбцы, требующие обработки:\n",
        "- VehicleType. Восстановим пропущенные значения по популярному типу из столбца Brand.\n",
        "- Gearbox. Для всех NaN установим значение 'manual'.\n",
        "- Power. Скоректируем на основе реальных значений в машинах. Иметь 1 л.с. или 15000 л.с. для машины на данный момент нереально.\n",
        "- FuelType. Восстановим пропущенные значения по популярному типу из столбца Brand.\n",
        "- NotRepaired. Для всех NaN установим значение 'yes'.\n",
        "- RegistrationYear. Скоректируем на основе реальных значений в машинах.\n",
        "- Model. Для всех NaN установим значение 'unknown'."
      ]
    },
    {
      "cell_type": "markdown",
      "metadata": {
        "id": "GlIVQdV8V8Vg"
      },
      "source": [
        "Проверим наполнение целевого признака Price."
      ]
    },
    {
      "cell_type": "code",
      "execution_count": null,
      "metadata": {
        "colab": {
          "base_uri": "https://localhost:8080/"
        },
        "id": "bIQX0ni7V8Vh",
        "outputId": "0ad9e411-ca2e-4610-b7e6-995d11da66ae"
      },
      "outputs": [
        {
          "output_type": "execute_result",
          "data": {
            "text/plain": [
              "0        10772\n",
              "500       5670\n",
              "1500      5394\n",
              "1000      4649\n",
              "1200      4594\n",
              "         ...  \n",
              "1368         1\n",
              "233          1\n",
              "11080        1\n",
              "16340        1\n",
              "10985        1\n",
              "Name: Price, Length: 3731, dtype: int64"
            ]
          },
          "metadata": {},
          "execution_count": 8
        }
      ],
      "source": [
        "filtred_autos_data['Price'].value_counts()"
      ]
    },
    {
      "cell_type": "markdown",
      "metadata": {
        "id": "ZdInp_LOV8Vj"
      },
      "source": [
        "Видно, что существует 10772 записи без цены. Удалим их и проверим распределение цены на гистограмме."
      ]
    },
    {
      "cell_type": "code",
      "execution_count": null,
      "metadata": {
        "colab": {
          "base_uri": "https://localhost:8080/",
          "height": 884
        },
        "id": "fRF48yYxV8Vk",
        "outputId": "f2794425-e849-447f-e0fa-31e11d930aec"
      },
      "outputs": [
        {
          "output_type": "execute_result",
          "data": {
            "text/plain": [
              "count    343597.000000\n",
              "mean       4555.121974\n",
              "std        4515.058553\n",
              "min           1.000000\n",
              "25%        1200.000000\n",
              "50%        2890.000000\n",
              "75%        6500.000000\n",
              "max       20000.000000\n",
              "Name: Price, dtype: float64"
            ]
          },
          "metadata": {},
          "execution_count": 9
        },
        {
          "output_type": "display_data",
          "data": {
            "text/plain": [
              "<Figure size 1200x900 with 1 Axes>"
            ],
            "image/png": "[encoded data removed]"
          },
          "metadata": {}
        }
      ],
      "source": [
        "filtred_autos_data = filtred_autos_data.query('Price > 0')\n",
        "filtred_autos_data['Price'].hist(bins=100, figsize=(12,9))\n",
        "filtred_autos_data['Price'].describe()"
      ]
    },
    {
      "cell_type": "markdown",
      "metadata": {
        "id": "MANkcuwDV8Vu"
      },
      "source": [
        "Выделим квантили 5% и 100%."
      ]
    },
    {
      "cell_type": "code",
      "execution_count": null,
      "metadata": {
        "colab": {
          "base_uri": "https://localhost:8080/"
        },
        "id": "ms93g5toV8Wi",
        "outputId": "291c7871-6c84-45c9-87fa-23dad744b3c4"
      },
      "outputs": [
        {
          "output_type": "execute_result",
          "data": {
            "text/plain": [
              "0.05      350.0\n",
              "1.00    20000.0\n",
              "Name: Price, dtype: float64"
            ]
          },
          "metadata": {},
          "execution_count": 10
        }
      ],
      "source": [
        "filtred_autos_data['Price'].quantile([.05, 1])"
      ]
    },
    {
      "cell_type": "markdown",
      "metadata": {
        "id": "EI3TmJosV8Wk"
      },
      "source": [
        "Отсечем значения ближе 0 стоимотси. Установим за минимальную стоимость - стоимость авто 350 евро примерно равно 35000 рублей. Это минимальная цена для продажи поддержанного авто."
      ]
    },
    {
      "cell_type": "code",
      "execution_count": null,
      "metadata": {
        "colab": {
          "base_uri": "https://localhost:8080/"
        },
        "id": "UMPJ7128V8Wl",
        "outputId": "14e99718-4c24-4059-ec46-9372a77cf98c"
      },
      "outputs": [
        {
          "output_type": "stream",
          "name": "stdout",
          "text": [
            "<class 'pandas.core.frame.DataFrame'>\n",
            "Int64Index: 328028 entries, 0 to 354368\n",
            "Data columns (total 10 columns):\n",
            " #   Column            Non-Null Count   Dtype \n",
            "---  ------            --------------   ----- \n",
            " 0   VehicleType       298829 non-null  object\n",
            " 1   Gearbox           313649 non-null  object\n",
            " 2   Power             328028 non-null  int64 \n",
            " 3   Kilometer         328028 non-null  int64 \n",
            " 4   FuelType          302806 non-null  object\n",
            " 5   Brand             328028 non-null  object\n",
            " 6   Repaired          269394 non-null  object\n",
            " 7   RegistrationYear  328028 non-null  int64 \n",
            " 8   Model             312393 non-null  object\n",
            " 9   Price             328028 non-null  int64 \n",
            "dtypes: int64(4), object(6)\n",
            "memory usage: 27.5+ MB\n"
          ]
        }
      ],
      "source": [
        "filtred_autos_data = filtred_autos_data.query('350 <= Price <= 20000')\n",
        "filtred_autos_data.info()"
      ]
    },
    {
      "cell_type": "markdown",
      "metadata": {
        "id": "Eyk9nT0iV8Wo"
      },
      "source": [
        "Проверим значения столбца RegistrationYear на гистограмме."
      ]
    },
    {
      "cell_type": "code",
      "execution_count": null,
      "metadata": {
        "colab": {
          "base_uri": "https://localhost:8080/",
          "height": 878
        },
        "id": "8uo2Pc-qV8Wp",
        "outputId": "d54879bb-890b-4482-8f0f-090935b0dd35"
      },
      "outputs": [
        {
          "output_type": "execute_result",
          "data": {
            "text/plain": [
              "count    328028.000000\n",
              "mean       2004.055721\n",
              "std          67.546251\n",
              "min        1000.000000\n",
              "25%        1999.000000\n",
              "50%        2003.000000\n",
              "75%        2008.000000\n",
              "max        9999.000000\n",
              "Name: RegistrationYear, dtype: float64"
            ]
          },
          "metadata": {},
          "execution_count": 12
        },
        {
          "output_type": "display_data",
          "data": {
            "text/plain": [
              "<Figure size 1200x900 with 1 Axes>"
            ],
            "image/png": "[encoded data removed]"
          },
          "metadata": {}
        }
      ],
      "source": [
        "filtred_autos_data['RegistrationYear'].hist(bins=100, figsize=(12,9))\n",
        "filtred_autos_data['RegistrationYear'].describe()"
      ]
    },
    {
      "cell_type": "markdown",
      "metadata": {
        "id": "1hSKDNAzV8Wx"
      },
      "source": [
        "В годе регистрации наблюдаются выбросы. Отсечем правые выбросы, узнав максимальную дату скачивания анкеты автомобиля."
      ]
    },
    {
      "cell_type": "code",
      "execution_count": null,
      "metadata": {
        "colab": {
          "base_uri": "https://localhost:8080/"
        },
        "id": "uFK-jaeFV8Wz",
        "outputId": "d3b30751-e34e-4cf9-fea8-3c7c2da68307"
      },
      "outputs": [
        {
          "output_type": "execute_result",
          "data": {
            "text/plain": [
              "Timestamp('2016-04-07 14:36:58')"
            ]
          },
          "metadata": {},
          "execution_count": 13
        }
      ],
      "source": [
        "date = pd.to_datetime(autos_data['DateCrawled'])\n",
        "date.max()"
      ]
    },
    {
      "cell_type": "markdown",
      "metadata": {
        "id": "hCQ1O87VV8W0"
      },
      "source": [
        "Даты регистрации после 2016 года некорректны и машины появились не раньше 1900 года. Отсечем ненужные года и промотрим левые выбросы."
      ]
    },
    {
      "cell_type": "code",
      "execution_count": null,
      "metadata": {
        "colab": {
          "base_uri": "https://localhost:8080/",
          "height": 879
        },
        "id": "Ikm1TgsJV8W1",
        "outputId": "28abd78a-5bcc-433b-fdd4-87184df00c7b"
      },
      "outputs": [
        {
          "output_type": "execute_result",
          "data": {
            "text/plain": [
              "count    314603.000000\n",
              "mean       2002.783982\n",
              "std           6.791094\n",
              "min        1910.000000\n",
              "25%        1999.000000\n",
              "50%        2003.000000\n",
              "75%        2007.000000\n",
              "max        2016.000000\n",
              "Name: RegistrationYear, dtype: float64"
            ]
          },
          "metadata": {},
          "execution_count": 14
        },
        {
          "output_type": "display_data",
          "data": {
            "text/plain": [
              "<Figure size 1200x900 with 1 Axes>"
            ],
            "image/png": "[encoded data removed]"
          },
          "metadata": {}
        }
      ],
      "source": [
        "filtred_autos_data = filtred_autos_data.query('1899 < RegistrationYear < 2017')\n",
        "filtred_autos_data['RegistrationYear'].hist(bins=100, figsize=(12,9))\n",
        "filtred_autos_data['RegistrationYear'].describe()"
      ]
    },
    {
      "cell_type": "markdown",
      "metadata": {
        "id": "j7boTOKRV8W3"
      },
      "source": [
        "<div class=\"alert alert-success\">\n",
        "<b>ОТЛИЧНО! 👍</b>\n",
        "\n",
        "Да, молодец, верно. Актуальность базы - 7 апреля 2016 год. Объявления после этой даты - ошибки. Раритеты - также нас не интересуют (у этих моделей цена совершенно не подчиняющаяся здравой логике).\n",
        "</div>"
      ]
    },
    {
      "cell_type": "markdown",
      "metadata": {
        "id": "r0wzN4R2V8W9"
      },
      "source": [
        "По левой части гистограммы видно, что адекватно использовать левую границу в 1960 год, так как это старые, но возможно еще работающие машины."
      ]
    },
    {
      "cell_type": "code",
      "execution_count": null,
      "metadata": {
        "colab": {
          "base_uri": "https://localhost:8080/",
          "height": 884
        },
        "id": "5tfz66ZLV8W-",
        "outputId": "978aa82c-2d8c-4785-8f34-a8d0884f8767"
      },
      "outputs": [
        {
          "output_type": "execute_result",
          "data": {
            "text/plain": [
              "count    314361.000000\n",
              "mean       2002.827358\n",
              "std           6.599397\n",
              "min        1960.000000\n",
              "25%        1999.000000\n",
              "50%        2003.000000\n",
              "75%        2007.000000\n",
              "max        2016.000000\n",
              "Name: RegistrationYear, dtype: float64"
            ]
          },
          "metadata": {},
          "execution_count": 15
        },
        {
          "output_type": "display_data",
          "data": {
            "text/plain": [
              "<Figure size 1200x900 with 1 Axes>"
            ],
            "image/png": "[encoded data removed]"
          },
          "metadata": {}
        }
      ],
      "source": [
        "filtred_autos_data = filtred_autos_data.query('1959 < RegistrationYear < 2017')\n",
        "filtred_autos_data['RegistrationYear'].hist(bins=50, figsize=(12,9))\n",
        "filtred_autos_data['RegistrationYear'].describe()"
      ]
    },
    {
      "cell_type": "markdown",
      "metadata": {
        "id": "X9q9C5suV8XA"
      },
      "source": [
        "Проведем замену NaN в Gearbox, Repaired и Model."
      ]
    },
    {
      "cell_type": "code",
      "execution_count": null,
      "metadata": {
        "colab": {
          "base_uri": "https://localhost:8080/"
        },
        "id": "_zgASAqIV8XH",
        "outputId": "bcb9802a-7d98-43a4-b046-f264d0208a31"
      },
      "outputs": [
        {
          "output_type": "execute_result",
          "data": {
            "text/plain": [
              "VehicleType         0.050194\n",
              "Gearbox             0.000000\n",
              "Power               0.000000\n",
              "Kilometer           0.000000\n",
              "FuelType            0.063882\n",
              "Brand               0.000000\n",
              "Repaired            0.000000\n",
              "RegistrationYear    0.000000\n",
              "Model               0.000000\n",
              "Price               0.000000\n",
              "dtype: float64"
            ]
          },
          "metadata": {},
          "execution_count": 16
        }
      ],
      "source": [
        "filtred_autos_data.fillna({'Gearbox':'manual',\n",
        "                           'Repaired':'unknown',\n",
        "                           'Model':'unknown'},\n",
        "                          inplace=True)\n",
        "filtred_autos_data.isna().mean()"
      ]
    },
    {
      "cell_type": "code",
      "execution_count": null,
      "metadata": {
        "colab": {
          "base_uri": "https://localhost:8080/"
        },
        "id": "yUSnws3aV8XI",
        "outputId": "6d6e2d4f-143e-4c3d-a65a-3f04f838e49c"
      },
      "outputs": [
        {
          "output_type": "execute_result",
          "data": {
            "text/plain": [
              "array(['unknown', 'yes', 'no'], dtype=object)"
            ]
          },
          "metadata": {},
          "execution_count": 17
        }
      ],
      "source": [
        "filtred_autos_data['Repaired'].unique()"
      ]
    },
    {
      "cell_type": "markdown",
      "metadata": {
        "id": "u6RqCu6-V8XP"
      },
      "source": [
        "Оценим количество пропущенных значений относительно всех значений в столбце VehicleType"
      ]
    },
    {
      "cell_type": "code",
      "execution_count": null,
      "metadata": {
        "colab": {
          "base_uri": "https://localhost:8080/",
          "height": 202
        },
        "id": "XOe-E2JLV8XR",
        "outputId": "d636d8b8-f877-4ff2-ed0f-38c6b1cd79c6"
      },
      "outputs": [
        {
          "output_type": "display_data",
          "data": {
            "text/plain": [
              "sedan          87065\n",
              "small          71968\n",
              "wagon          62097\n",
              "bus            28059\n",
              "convertible    19674\n",
              "coupe          15153\n",
              "suv            11708\n",
              "other           2858\n",
              "Name: VehicleType, dtype: int64"
            ]
          },
          "metadata": {}
        },
        {
          "output_type": "execute_result",
          "data": {
            "text/plain": [
              "15779"
            ]
          },
          "metadata": {},
          "execution_count": 18
        }
      ],
      "source": [
        "display(filtred_autos_data['VehicleType'].value_counts())\n",
        "filtred_autos_data['VehicleType'].isna().sum()"
      ]
    },
    {
      "cell_type": "markdown",
      "metadata": {
        "id": "fAwxc3u5V8XT"
      },
      "source": [
        "Выполним замену NaN в соотвествии с популярным типом кузова для каждого бренда."
      ]
    },
    {
      "cell_type": "code",
      "execution_count": null,
      "metadata": {
        "colab": {
          "base_uri": "https://localhost:8080/",
          "height": 617
        },
        "id": "lFKrek7zV8Xa",
        "outputId": "3ddfda02-ae18-4c09-add0-8cf833d4a79f"
      },
      "outputs": [
        {
          "output_type": "display_data",
          "data": {
            "text/plain": [
              "                 count                                                      \\\n",
              "                 Price                                                       \n",
              "Brand       alfa_romeo     audi      bmw chevrolet chrysler citroen  dacia   \n",
              "VehicleType                                                                  \n",
              "bus                NaN     10.0      5.0     153.0    396.0  1242.0   50.0   \n",
              "convertible      177.0   1609.0   3182.0      16.0    226.0   110.0    NaN   \n",
              "coupe            225.0   1459.0   3595.0      88.0     46.0   141.0    NaN   \n",
              "other             11.0    101.0    207.0      41.0      9.0   107.0    6.0   \n",
              "sedan            866.0  10463.0  17025.0     220.0    263.0   652.0  100.0   \n",
              "small            228.0   1515.0    400.0     578.0     12.0  1472.0  221.0   \n",
              "suv                NaN    175.0    798.0     373.0     21.0    35.0  214.0   \n",
              "wagon            441.0  10741.0   7678.0     105.0    240.0   589.0  250.0   \n",
              "\n",
              "                                     ...                          \\\n",
              "                                     ...                           \n",
              "Brand       daewoo daihatsu    fiat  ...    seat   skoda   smart   \n",
              "VehicleType                          ...                           \n",
              "bus           26.0     31.0   798.0  ...   610.0   229.0     1.0   \n",
              "convertible    1.0     17.0   495.0  ...     NaN     4.0  1123.0   \n",
              "coupe          2.0      NaN   164.0  ...    80.0     7.0   336.0   \n",
              "other          5.0      9.0   170.0  ...    55.0    24.0     9.0   \n",
              "sedan         87.0     41.0   822.0  ...  1676.0   888.0    27.0   \n",
              "small        247.0    442.0  4756.0  ...  2902.0  1087.0  3220.0   \n",
              "suv            1.0     46.0    24.0  ...     4.0   173.0     NaN   \n",
              "wagon         36.0     16.0   390.0  ...   370.0  2672.0     9.0   \n",
              "\n",
              "                                                                             \n",
              "                                                                             \n",
              "Brand       sonstige_autos subaru suzuki  toyota trabant volkswagen   volvo  \n",
              "VehicleType                                                                  \n",
              "bus                  180.0   17.0   27.0   446.0     NaN     9345.0     NaN  \n",
              "convertible          311.0    1.0   33.0    63.0    36.0     2864.0    75.0  \n",
              "coupe                214.0    8.0    6.0   213.0     2.0     1624.0    66.0  \n",
              "other                191.0    5.0   12.0    18.0     5.0      679.0     5.0  \n",
              "sedan                413.0  157.0  166.0   882.0   171.0    18909.0   616.0  \n",
              "small                216.0  100.0  896.0  1569.0    49.0    16595.0     7.0  \n",
              "suv                  410.0   58.0  741.0   436.0     1.0     1303.0   218.0  \n",
              "wagon                120.0  276.0   84.0   568.0    66.0    12147.0  1866.0  \n",
              "\n",
              "[8 rows x 40 columns]"
            ],
            "text/html": [
              "\n",
              "\n",
              "  <div id=\"df-da619988-a6b6-4cd4-b261-afe4a863fee7\">\n",
              "    <div class=\"colab-df-container\">\n",
              "      <div>\n",
              "<style scoped>\n",
              "    .dataframe tbody tr th:only-of-type {\n",
              "        vertical-align: middle;\n",
              "    }\n",
              "\n",
              "    .dataframe tbody tr th {\n",
              "        vertical-align: top;\n",
              "    }\n",
              "\n",
              "    .dataframe thead tr th {\n",
              "        text-align: left;\n",
              "    }\n",
              "\n",
              "    .dataframe thead tr:last-of-type th {\n",
              "        text-align: right;\n",
              "    }\n",
              "</style>\n",
              "<table border=\"1\" class=\"dataframe\">\n",
              "  <thead>\n",
              "    <tr>\n",
              "      <th></th>\n",
              "      <th colspan=\"21\" halign=\"left\">count</th>\n",
              "    </tr>\n",
              "    <tr>\n",
              "      <th></th>\n",
              "      <th colspan=\"21\" halign=\"left\">Price</th>\n",
              "    </tr>\n",
              "    <tr>\n",
              "      <th>Brand</th>\n",
              "      <th>alfa_romeo</th>\n",
              "      <th>audi</th>\n",
              "      <th>bmw</th>\n",
              "      <th>chevrolet</th>\n",
              "      <th>chrysler</th>\n",
              "      <th>citroen</th>\n",
              "      <th>dacia</th>\n",
              "      <th>daewoo</th>\n",
              "      <th>daihatsu</th>\n",
              "      <th>fiat</th>\n",
              "      <th>...</th>\n",
              "      <th>seat</th>\n",
              "      <th>skoda</th>\n",
              "      <th>smart</th>\n",
              "      <th>sonstige_autos</th>\n",
              "      <th>subaru</th>\n",
              "      <th>suzuki</th>\n",
              "      <th>toyota</th>\n",
              "      <th>trabant</th>\n",
              "      <th>volkswagen</th>\n",
              "      <th>volvo</th>\n",
              "    </tr>\n",
              "    <tr>\n",
              "      <th>VehicleType</th>\n",
              "      <th></th>\n",
              "      <th></th>\n",
              "      <th></th>\n",
              "      <th></th>\n",
              "      <th></th>\n",
              "      <th></th>\n",
              "      <th></th>\n",
              "      <th></th>\n",
              "      <th></th>\n",
              "      <th></th>\n",
              "      <th></th>\n",
              "      <th></th>\n",
              "      <th></th>\n",
              "      <th></th>\n",
              "      <th></th>\n",
              "      <th></th>\n",
              "      <th></th>\n",
              "      <th></th>\n",
              "      <th></th>\n",
              "      <th></th>\n",
              "      <th></th>\n",
              "    </tr>\n",
              "  </thead>\n",
              "  <tbody>\n",
              "    <tr>\n",
              "      <th>bus</th>\n",
              "      <td>NaN</td>\n",
              "      <td>10.0</td>\n",
              "      <td>5.0</td>\n",
              "      <td>153.0</td>\n",
              "      <td>396.0</td>\n",
              "      <td>1242.0</td>\n",
              "      <td>50.0</td>\n",
              "      <td>26.0</td>\n",
              "      <td>31.0</td>\n",
              "      <td>798.0</td>\n",
              "      <td>...</td>\n",
              "      <td>610.0</td>\n",
              "      <td>229.0</td>\n",
              "      <td>1.0</td>\n",
              "      <td>180.0</td>\n",
              "      <td>17.0</td>\n",
              "      <td>27.0</td>\n",
              "      <td>446.0</td>\n",
              "      <td>NaN</td>\n",
              "      <td>9345.0</td>\n",
              "      <td>NaN</td>\n",
              "    </tr>\n",
              "    <tr>\n",
              "      <th>convertible</th>\n",
              "      <td>177.0</td>\n",
              "      <td>1609.0</td>\n",
              "      <td>3182.0</td>\n",
              "      <td>16.0</td>\n",
              "      <td>226.0</td>\n",
              "      <td>110.0</td>\n",
              "      <td>NaN</td>\n",
              "      <td>1.0</td>\n",
              "      <td>17.0</td>\n",
              "      <td>495.0</td>\n",
              "      <td>...</td>\n",
              "      <td>NaN</td>\n",
              "      <td>4.0</td>\n",
              "      <td>1123.0</td>\n",
              "      <td>311.0</td>\n",
              "      <td>1.0</td>\n",
              "      <td>33.0</td>\n",
              "      <td>63.0</td>\n",
              "      <td>36.0</td>\n",
              "      <td>2864.0</td>\n",
              "      <td>75.0</td>\n",
              "    </tr>\n",
              "    <tr>\n",
              "      <th>coupe</th>\n",
              "      <td>225.0</td>\n",
              "      <td>1459.0</td>\n",
              "      <td>3595.0</td>\n",
              "      <td>88.0</td>\n",
              "      <td>46.0</td>\n",
              "      <td>141.0</td>\n",
              "      <td>NaN</td>\n",
              "      <td>2.0</td>\n",
              "      <td>NaN</td>\n",
              "      <td>164.0</td>\n",
              "      <td>...</td>\n",
              "      <td>80.0</td>\n",
              "      <td>7.0</td>\n",
              "      <td>336.0</td>\n",
              "      <td>214.0</td>\n",
              "      <td>8.0</td>\n",
              "      <td>6.0</td>\n",
              "      <td>213.0</td>\n",
              "      <td>2.0</td>\n",
              "      <td>1624.0</td>\n",
              "      <td>66.0</td>\n",
              "    </tr>\n",
              "    <tr>\n",
              "      <th>other</th>\n",
              "      <td>11.0</td>\n",
              "      <td>101.0</td>\n",
              "      <td>207.0</td>\n",
              "      <td>41.0</td>\n",
              "      <td>9.0</td>\n",
              "      <td>107.0</td>\n",
              "      <td>6.0</td>\n",
              "      <td>5.0</td>\n",
              "      <td>9.0</td>\n",
              "      <td>170.0</td>\n",
              "      <td>...</td>\n",
              "      <td>55.0</td>\n",
              "      <td>24.0</td>\n",
              "      <td>9.0</td>\n",
              "      <td>191.0</td>\n",
              "      <td>5.0</td>\n",
              "      <td>12.0</td>\n",
              "      <td>18.0</td>\n",
              "      <td>5.0</td>\n",
              "      <td>679.0</td>\n",
              "      <td>5.0</td>\n",
              "    </tr>\n",
              "    <tr>\n",
              "      <th>sedan</th>\n",
              "      <td>866.0</td>\n",
              "      <td>10463.0</td>\n",
              "      <td>17025.0</td>\n",
              "      <td>220.0</td>\n",
              "      <td>263.0</td>\n",
              "      <td>652.0</td>\n",
              "      <td>100.0</td>\n",
              "      <td>87.0</td>\n",
              "      <td>41.0</td>\n",
              "      <td>822.0</td>\n",
              "      <td>...</td>\n",
              "      <td>1676.0</td>\n",
              "      <td>888.0</td>\n",
              "      <td>27.0</td>\n",
              "      <td>413.0</td>\n",
              "      <td>157.0</td>\n",
              "      <td>166.0</td>\n",
              "      <td>882.0</td>\n",
              "      <td>171.0</td>\n",
              "      <td>18909.0</td>\n",
              "      <td>616.0</td>\n",
              "    </tr>\n",
              "    <tr>\n",
              "      <th>small</th>\n",
              "      <td>228.0</td>\n",
              "      <td>1515.0</td>\n",
              "      <td>400.0</td>\n",
              "      <td>578.0</td>\n",
              "      <td>12.0</td>\n",
              "      <td>1472.0</td>\n",
              "      <td>221.0</td>\n",
              "      <td>247.0</td>\n",
              "      <td>442.0</td>\n",
              "      <td>4756.0</td>\n",
              "      <td>...</td>\n",
              "      <td>2902.0</td>\n",
              "      <td>1087.0</td>\n",
              "      <td>3220.0</td>\n",
              "      <td>216.0</td>\n",
              "      <td>100.0</td>\n",
              "      <td>896.0</td>\n",
              "      <td>1569.0</td>\n",
              "      <td>49.0</td>\n",
              "      <td>16595.0</td>\n",
              "      <td>7.0</td>\n",
              "    </tr>\n",
              "    <tr>\n",
              "      <th>suv</th>\n",
              "      <td>NaN</td>\n",
              "      <td>175.0</td>\n",
              "      <td>798.0</td>\n",
              "      <td>373.0</td>\n",
              "      <td>21.0</td>\n",
              "      <td>35.0</td>\n",
              "      <td>214.0</td>\n",
              "      <td>1.0</td>\n",
              "      <td>46.0</td>\n",
              "      <td>24.0</td>\n",
              "      <td>...</td>\n",
              "      <td>4.0</td>\n",
              "      <td>173.0</td>\n",
              "      <td>NaN</td>\n",
              "      <td>410.0</td>\n",
              "      <td>58.0</td>\n",
              "      <td>741.0</td>\n",
              "      <td>436.0</td>\n",
              "      <td>1.0</td>\n",
              "      <td>1303.0</td>\n",
              "      <td>218.0</td>\n",
              "    </tr>\n",
              "    <tr>\n",
              "      <th>wagon</th>\n",
              "      <td>441.0</td>\n",
              "      <td>10741.0</td>\n",
              "      <td>7678.0</td>\n",
              "      <td>105.0</td>\n",
              "      <td>240.0</td>\n",
              "      <td>589.0</td>\n",
              "      <td>250.0</td>\n",
              "      <td>36.0</td>\n",
              "      <td>16.0</td>\n",
              "      <td>390.0</td>\n",
              "      <td>...</td>\n",
              "      <td>370.0</td>\n",
              "      <td>2672.0</td>\n",
              "      <td>9.0</td>\n",
              "      <td>120.0</td>\n",
              "      <td>276.0</td>\n",
              "      <td>84.0</td>\n",
              "      <td>568.0</td>\n",
              "      <td>66.0</td>\n",
              "      <td>12147.0</td>\n",
              "      <td>1866.0</td>\n",
              "    </tr>\n",
              "  </tbody>\n",
              "</table>\n",
              "<p>8 rows × 40 columns</p>\n",
              "</div>\n",
              "      <button class=\"colab-df-convert\" onclick=\"convertToInteractive('df-da619988-a6b6-4cd4-b261-afe4a863fee7')\"\n",
              "              title=\"Convert this dataframe to an interactive table.\"\n",
              "              style=\"display:none;\">\n",
              "\n",
              "  <svg xmlns=\"http://www.w3.org/2000/svg\" height=\"24px\"viewBox=\"0 0 24 24\"\n",
              "       width=\"24px\">\n",
              "    <path d=\"M0 0h24v24H0V0z\" fill=\"none\"/>\n",
              "    <path d=\"M18.56 5.44l.94 2.06.94-2.06 2.06-.94-2.06-.94-.94-2.06-.94 2.06-2.06.94zm-11 1L8.5 8.5l.94-2.06 2.06-.94-2.06-.94L8.5 2.5l-.94 2.06-2.06.94zm10 10l.94 2.06.94-2.06 2.06-.94-2.06-.94-.94-2.06-.94 2.06-2.06.94z\"/><path d=\"M17.41 7.96l-1.37-1.37c-.4-.4-.92-.59-1.43-.59-.52 0-1.04.2-1.43.59L10.3 9.45l-7.72 7.72c-.78.78-.78 2.05 0 2.83L4 21.41c.39.39.9.59 1.41.59.51 0 1.02-.2 1.41-.59l7.78-7.78 2.81-2.81c.8-.78.8-2.07 0-2.86zM5.41 20L4 18.59l7.72-7.72 1.47 1.35L5.41 20z\"/>\n",
              "  </svg>\n",
              "      </button>\n",
              "\n",
              "\n",
              "\n",
              "    <div id=\"df-9744d8ff-d678-47f4-94d3-e7250244428d\">\n",
              "      <button class=\"colab-df-quickchart\" onclick=\"quickchart('df-9744d8ff-d678-47f4-94d3-e7250244428d')\"\n",
              "              title=\"Suggest charts.\"\n",
              "              style=\"display:none;\">\n",
              "\n",
              "<svg xmlns=\"http://www.w3.org/2000/svg\" height=\"24px\"viewBox=\"0 0 24 24\"\n",
              "     width=\"24px\">\n",
              "    <g>\n",
              "        <path d=\"M19 3H5c-1.1 0-2 .9-2 2v14c0 1.1.9 2 2 2h14c1.1 0 2-.9 2-2V5c0-1.1-.9-2-2-2zM9 17H7v-7h2v7zm4 0h-2V7h2v10zm4 0h-2v-4h2v4z\"/>\n",
              "    </g>\n",
              "</svg>\n",
              "      </button>\n",
              "    </div>\n",
              "\n",
              "<style>\n",
              "  .colab-df-quickchart {\n",
              "    background-color: #E8F0FE;\n",
              "    border: none;\n",
              "    border-radius: 50%;\n",
              "    cursor: pointer;\n",
              "    display: none;\n",
              "    fill: #1967D2;\n",
              "    height: 32px;\n",
              "    padding: 0 0 0 0;\n",
              "    width: 32px;\n",
              "  }\n",
              "\n",
              "  .colab-df-quickchart:hover {\n",
              "    background-color: #E2EBFA;\n",
              "    box-shadow: 0px 1px 2px rgba(60, 64, 67, 0.3), 0px 1px 3px 1px rgba(60, 64, 67, 0.15);\n",
              "    fill: #174EA6;\n",
              "  }\n",
              "\n",
              "  [theme=dark] .colab-df-quickchart {\n",
              "    background-color: #3B4455;\n",
              "    fill: #D2E3FC;\n",
              "  }\n",
              "\n",
              "  [theme=dark] .colab-df-quickchart:hover {\n",
              "    background-color: #434B5C;\n",
              "    box-shadow: 0px 1px 3px 1px rgba(0, 0, 0, 0.15);\n",
              "    filter: drop-shadow(0px 1px 2px rgba(0, 0, 0, 0.3));\n",
              "    fill: #FFFFFF;\n",
              "  }\n",
              "</style>\n",
              "\n",
              "    <script>\n",
              "      async function quickchart(key) {\n",
              "        const containerElement = document.querySelector('#' + key);\n",
              "        const charts = await google.colab.kernel.invokeFunction(\n",
              "            'suggestCharts', [key], {});\n",
              "      }\n",
              "    </script>\n",
              "\n",
              "      <script>\n",
              "\n",
              "function displayQuickchartButton(domScope) {\n",
              "  let quickchartButtonEl =\n",
              "    domScope.querySelector('#df-9744d8ff-d678-47f4-94d3-e7250244428d button.colab-df-quickchart');\n",
              "  quickchartButtonEl.style.display =\n",
              "    google.colab.kernel.accessAllowed ? 'block' : 'none';\n",
              "}\n",
              "\n",
              "        displayQuickchartButton(document);\n",
              "      </script>\n",
              "      <style>\n",
              "    .colab-df-container {\n",
              "      display:flex;\n",
              "      flex-wrap:wrap;\n",
              "      gap: 12px;\n",
              "    }\n",
              "\n",
              "    .colab-df-convert {\n",
              "      background-color: #E8F0FE;\n",
              "      border: none;\n",
              "      border-radius: 50%;\n",
              "      cursor: pointer;\n",
              "      display: none;\n",
              "      fill: #1967D2;\n",
              "      height: 32px;\n",
              "      padding: 0 0 0 0;\n",
              "      width: 32px;\n",
              "    }\n",
              "\n",
              "    .colab-df-convert:hover {\n",
              "      background-color: #E2EBFA;\n",
              "      box-shadow: 0px 1px 2px rgba(60, 64, 67, 0.3), 0px 1px 3px 1px rgba(60, 64, 67, 0.15);\n",
              "      fill: #174EA6;\n",
              "    }\n",
              "\n",
              "    [theme=dark] .colab-df-convert {\n",
              "      background-color: #3B4455;\n",
              "      fill: #D2E3FC;\n",
              "    }\n",
              "\n",
              "    [theme=dark] .colab-df-convert:hover {\n",
              "      background-color: #434B5C;\n",
              "      box-shadow: 0px 1px 3px 1px rgba(0, 0, 0, 0.15);\n",
              "      filter: drop-shadow(0px 1px 2px rgba(0, 0, 0, 0.3));\n",
              "      fill: #FFFFFF;\n",
              "    }\n",
              "  </style>\n",
              "\n",
              "      <script>\n",
              "        const buttonEl =\n",
              "          document.querySelector('#df-da619988-a6b6-4cd4-b261-afe4a863fee7 button.colab-df-convert');\n",
              "        buttonEl.style.display =\n",
              "          google.colab.kernel.accessAllowed ? 'block' : 'none';\n",
              "\n",
              "        async function convertToInteractive(key) {\n",
              "          const element = document.querySelector('#df-da619988-a6b6-4cd4-b261-afe4a863fee7');\n",
              "          const dataTable =\n",
              "            await google.colab.kernel.invokeFunction('convertToInteractive',\n",
              "                                                     [key], {});\n",
              "          if (!dataTable) return;\n",
              "\n",
              "          const docLinkHtml = 'Like what you see? Visit the ' +\n",
              "            '<a target=\"_blank\" href=https://colab.research.google.com/notebooks/data_table.ipynb>data table notebook</a>'\n",
              "            + ' to learn more about interactive tables.';\n",
              "          element.innerHTML = '';\n",
              "          dataTable['output_type'] = 'display_data';\n",
              "          await google.colab.output.renderOutput(dataTable, element);\n",
              "          const docLink = document.createElement('div');\n",
              "          docLink.innerHTML = docLinkHtml;\n",
              "          element.appendChild(docLink);\n",
              "        }\n",
              "      </script>\n",
              "    </div>\n",
              "  </div>\n"
            ]
          },
          "metadata": {}
        },
        {
          "output_type": "execute_result",
          "data": {
            "text/plain": [
              "sedan          866\n",
              "wagon          441\n",
              "small          228\n",
              "coupe          225\n",
              "convertible    177\n",
              "other           11\n",
              "Name: VehicleType, dtype: int64"
            ]
          },
          "metadata": {},
          "execution_count": 19
        }
      ],
      "source": [
        "vehicle_type_pivot_table = filtred_autos_data.pivot_table(index=['VehicleType'],\n",
        "                                                          columns=['Brand'],\n",
        "                                                          values=['Price'],\n",
        "                                                          aggfunc=['count'])\n",
        "display(vehicle_type_pivot_table)\n",
        "filtred_autos_data[filtred_autos_data['Brand'] == 'alfa_romeo']['VehicleType'].value_counts()"
      ]
    },
    {
      "cell_type": "code",
      "execution_count": null,
      "metadata": {
        "colab": {
          "base_uri": "https://localhost:8080/",
          "height": 425
        },
        "id": "YDmaZPD6V8Xc",
        "outputId": "108ecab3-666f-4fc7-d2a9-efd80ff418c3",
        "scrolled": true
      },
      "outputs": [
        {
          "output_type": "execute_result",
          "data": {
            "text/plain": [
              "Brand        alfa_romeo     audi      bmw  chevrolet  chrysler  citroen  \\\n",
              "VehicleType                                                               \n",
              "bus                 NaN     10.0      5.0      153.0     396.0   1242.0   \n",
              "convertible       177.0   1609.0   3182.0       16.0     226.0    110.0   \n",
              "coupe             225.0   1459.0   3595.0       88.0      46.0    141.0   \n",
              "other              11.0    101.0    207.0       41.0       9.0    107.0   \n",
              "sedan             866.0  10463.0  17025.0      220.0     263.0    652.0   \n",
              "small             228.0   1515.0    400.0      578.0      12.0   1472.0   \n",
              "suv                 NaN    175.0    798.0      373.0      21.0     35.0   \n",
              "wagon             441.0  10741.0   7678.0      105.0     240.0    589.0   \n",
              "\n",
              "Brand        dacia  daewoo  daihatsu    fiat  ...    seat   skoda   smart  \\\n",
              "VehicleType                                   ...                           \n",
              "bus           50.0    26.0      31.0   798.0  ...   610.0   229.0     1.0   \n",
              "convertible    NaN     1.0      17.0   495.0  ...     NaN     4.0  1123.0   \n",
              "coupe          NaN     2.0       NaN   164.0  ...    80.0     7.0   336.0   \n",
              "other          6.0     5.0       9.0   170.0  ...    55.0    24.0     9.0   \n",
              "sedan        100.0    87.0      41.0   822.0  ...  1676.0   888.0    27.0   \n",
              "small        221.0   247.0     442.0  4756.0  ...  2902.0  1087.0  3220.0   \n",
              "suv          214.0     1.0      46.0    24.0  ...     4.0   173.0     NaN   \n",
              "wagon        250.0    36.0      16.0   390.0  ...   370.0  2672.0     9.0   \n",
              "\n",
              "Brand        sonstige_autos  subaru  suzuki  toyota  trabant  volkswagen  \\\n",
              "VehicleType                                                                \n",
              "bus                   180.0    17.0    27.0   446.0      NaN      9345.0   \n",
              "convertible           311.0     1.0    33.0    63.0     36.0      2864.0   \n",
              "coupe                 214.0     8.0     6.0   213.0      2.0      1624.0   \n",
              "other                 191.0     5.0    12.0    18.0      5.0       679.0   \n",
              "sedan                 413.0   157.0   166.0   882.0    171.0     18909.0   \n",
              "small                 216.0   100.0   896.0  1569.0     49.0     16595.0   \n",
              "suv                   410.0    58.0   741.0   436.0      1.0      1303.0   \n",
              "wagon                 120.0   276.0    84.0   568.0     66.0     12147.0   \n",
              "\n",
              "Brand         volvo  \n",
              "VehicleType          \n",
              "bus             NaN  \n",
              "convertible    75.0  \n",
              "coupe          66.0  \n",
              "other           5.0  \n",
              "sedan         616.0  \n",
              "small           7.0  \n",
              "suv           218.0  \n",
              "wagon        1866.0  \n",
              "\n",
              "[8 rows x 40 columns]"
            ],
            "text/html": [
              "\n",
              "\n",
              "  <div id=\"df-26f5df94-181e-4ed7-937d-5e52592b092f\">\n",
              "    <div class=\"colab-df-container\">\n",
              "      <div>\n",
              "<style scoped>\n",
              "    .dataframe tbody tr th:only-of-type {\n",
              "        vertical-align: middle;\n",
              "    }\n",
              "\n",
              "    .dataframe tbody tr th {\n",
              "        vertical-align: top;\n",
              "    }\n",
              "\n",
              "    .dataframe thead th {\n",
              "        text-align: right;\n",
              "    }\n",
              "</style>\n",
              "<table border=\"1\" class=\"dataframe\">\n",
              "  <thead>\n",
              "    <tr style=\"text-align: right;\">\n",
              "      <th>Brand</th>\n",
              "      <th>alfa_romeo</th>\n",
              "      <th>audi</th>\n",
              "      <th>bmw</th>\n",
              "      <th>chevrolet</th>\n",
              "      <th>chrysler</th>\n",
              "      <th>citroen</th>\n",
              "      <th>dacia</th>\n",
              "      <th>daewoo</th>\n",
              "      <th>daihatsu</th>\n",
              "      <th>fiat</th>\n",
              "      <th>...</th>\n",
              "      <th>seat</th>\n",
              "      <th>skoda</th>\n",
              "      <th>smart</th>\n",
              "      <th>sonstige_autos</th>\n",
              "      <th>subaru</th>\n",
              "      <th>suzuki</th>\n",
              "      <th>toyota</th>\n",
              "      <th>trabant</th>\n",
              "      <th>volkswagen</th>\n",
              "      <th>volvo</th>\n",
              "    </tr>\n",
              "    <tr>\n",
              "      <th>VehicleType</th>\n",
              "      <th></th>\n",
              "      <th></th>\n",
              "      <th></th>\n",
              "      <th></th>\n",
              "      <th></th>\n",
              "      <th></th>\n",
              "      <th></th>\n",
              "      <th></th>\n",
              "      <th></th>\n",
              "      <th></th>\n",
              "      <th></th>\n",
              "      <th></th>\n",
              "      <th></th>\n",
              "      <th></th>\n",
              "      <th></th>\n",
              "      <th></th>\n",
              "      <th></th>\n",
              "      <th></th>\n",
              "      <th></th>\n",
              "      <th></th>\n",
              "      <th></th>\n",
              "    </tr>\n",
              "  </thead>\n",
              "  <tbody>\n",
              "    <tr>\n",
              "      <th>bus</th>\n",
              "      <td>NaN</td>\n",
              "      <td>10.0</td>\n",
              "      <td>5.0</td>\n",
              "      <td>153.0</td>\n",
              "      <td>396.0</td>\n",
              "      <td>1242.0</td>\n",
              "      <td>50.0</td>\n",
              "      <td>26.0</td>\n",
              "      <td>31.0</td>\n",
              "      <td>798.0</td>\n",
              "      <td>...</td>\n",
              "      <td>610.0</td>\n",
              "      <td>229.0</td>\n",
              "      <td>1.0</td>\n",
              "      <td>180.0</td>\n",
              "      <td>17.0</td>\n",
              "      <td>27.0</td>\n",
              "      <td>446.0</td>\n",
              "      <td>NaN</td>\n",
              "      <td>9345.0</td>\n",
              "      <td>NaN</td>\n",
              "    </tr>\n",
              "    <tr>\n",
              "      <th>convertible</th>\n",
              "      <td>177.0</td>\n",
              "      <td>1609.0</td>\n",
              "      <td>3182.0</td>\n",
              "      <td>16.0</td>\n",
              "      <td>226.0</td>\n",
              "      <td>110.0</td>\n",
              "      <td>NaN</td>\n",
              "      <td>1.0</td>\n",
              "      <td>17.0</td>\n",
              "      <td>495.0</td>\n",
              "      <td>...</td>\n",
              "      <td>NaN</td>\n",
              "      <td>4.0</td>\n",
              "      <td>1123.0</td>\n",
              "      <td>311.0</td>\n",
              "      <td>1.0</td>\n",
              "      <td>33.0</td>\n",
              "      <td>63.0</td>\n",
              "      <td>36.0</td>\n",
              "      <td>2864.0</td>\n",
              "      <td>75.0</td>\n",
              "    </tr>\n",
              "    <tr>\n",
              "      <th>coupe</th>\n",
              "      <td>225.0</td>\n",
              "      <td>1459.0</td>\n",
              "      <td>3595.0</td>\n",
              "      <td>88.0</td>\n",
              "      <td>46.0</td>\n",
              "      <td>141.0</td>\n",
              "      <td>NaN</td>\n",
              "      <td>2.0</td>\n",
              "      <td>NaN</td>\n",
              "      <td>164.0</td>\n",
              "      <td>...</td>\n",
              "      <td>80.0</td>\n",
              "      <td>7.0</td>\n",
              "      <td>336.0</td>\n",
              "      <td>214.0</td>\n",
              "      <td>8.0</td>\n",
              "      <td>6.0</td>\n",
              "      <td>213.0</td>\n",
              "      <td>2.0</td>\n",
              "      <td>1624.0</td>\n",
              "      <td>66.0</td>\n",
              "    </tr>\n",
              "    <tr>\n",
              "      <th>other</th>\n",
              "      <td>11.0</td>\n",
              "      <td>101.0</td>\n",
              "      <td>207.0</td>\n",
              "      <td>41.0</td>\n",
              "      <td>9.0</td>\n",
              "      <td>107.0</td>\n",
              "      <td>6.0</td>\n",
              "      <td>5.0</td>\n",
              "      <td>9.0</td>\n",
              "      <td>170.0</td>\n",
              "      <td>...</td>\n",
              "      <td>55.0</td>\n",
              "      <td>24.0</td>\n",
              "      <td>9.0</td>\n",
              "      <td>191.0</td>\n",
              "      <td>5.0</td>\n",
              "      <td>12.0</td>\n",
              "      <td>18.0</td>\n",
              "      <td>5.0</td>\n",
              "      <td>679.0</td>\n",
              "      <td>5.0</td>\n",
              "    </tr>\n",
              "    <tr>\n",
              "      <th>sedan</th>\n",
              "      <td>866.0</td>\n",
              "      <td>10463.0</td>\n",
              "      <td>17025.0</td>\n",
              "      <td>220.0</td>\n",
              "      <td>263.0</td>\n",
              "      <td>652.0</td>\n",
              "      <td>100.0</td>\n",
              "      <td>87.0</td>\n",
              "      <td>41.0</td>\n",
              "      <td>822.0</td>\n",
              "      <td>...</td>\n",
              "      <td>1676.0</td>\n",
              "      <td>888.0</td>\n",
              "      <td>27.0</td>\n",
              "      <td>413.0</td>\n",
              "      <td>157.0</td>\n",
              "      <td>166.0</td>\n",
              "      <td>882.0</td>\n",
              "      <td>171.0</td>\n",
              "      <td>18909.0</td>\n",
              "      <td>616.0</td>\n",
              "    </tr>\n",
              "    <tr>\n",
              "      <th>small</th>\n",
              "      <td>228.0</td>\n",
              "      <td>1515.0</td>\n",
              "      <td>400.0</td>\n",
              "      <td>578.0</td>\n",
              "      <td>12.0</td>\n",
              "      <td>1472.0</td>\n",
              "      <td>221.0</td>\n",
              "      <td>247.0</td>\n",
              "      <td>442.0</td>\n",
              "      <td>4756.0</td>\n",
              "      <td>...</td>\n",
              "      <td>2902.0</td>\n",
              "      <td>1087.0</td>\n",
              "      <td>3220.0</td>\n",
              "      <td>216.0</td>\n",
              "      <td>100.0</td>\n",
              "      <td>896.0</td>\n",
              "      <td>1569.0</td>\n",
              "      <td>49.0</td>\n",
              "      <td>16595.0</td>\n",
              "      <td>7.0</td>\n",
              "    </tr>\n",
              "    <tr>\n",
              "      <th>suv</th>\n",
              "      <td>NaN</td>\n",
              "      <td>175.0</td>\n",
              "      <td>798.0</td>\n",
              "      <td>373.0</td>\n",
              "      <td>21.0</td>\n",
              "      <td>35.0</td>\n",
              "      <td>214.0</td>\n",
              "      <td>1.0</td>\n",
              "      <td>46.0</td>\n",
              "      <td>24.0</td>\n",
              "      <td>...</td>\n",
              "      <td>4.0</td>\n",
              "      <td>173.0</td>\n",
              "      <td>NaN</td>\n",
              "      <td>410.0</td>\n",
              "      <td>58.0</td>\n",
              "      <td>741.0</td>\n",
              "      <td>436.0</td>\n",
              "      <td>1.0</td>\n",
              "      <td>1303.0</td>\n",
              "      <td>218.0</td>\n",
              "    </tr>\n",
              "    <tr>\n",
              "      <th>wagon</th>\n",
              "      <td>441.0</td>\n",
              "      <td>10741.0</td>\n",
              "      <td>7678.0</td>\n",
              "      <td>105.0</td>\n",
              "      <td>240.0</td>\n",
              "      <td>589.0</td>\n",
              "      <td>250.0</td>\n",
              "      <td>36.0</td>\n",
              "      <td>16.0</td>\n",
              "      <td>390.0</td>\n",
              "      <td>...</td>\n",
              "      <td>370.0</td>\n",
              "      <td>2672.0</td>\n",
              "      <td>9.0</td>\n",
              "      <td>120.0</td>\n",
              "      <td>276.0</td>\n",
              "      <td>84.0</td>\n",
              "      <td>568.0</td>\n",
              "      <td>66.0</td>\n",
              "      <td>12147.0</td>\n",
              "      <td>1866.0</td>\n",
              "    </tr>\n",
              "  </tbody>\n",
              "</table>\n",
              "<p>8 rows × 40 columns</p>\n",
              "</div>\n",
              "      <button class=\"colab-df-convert\" onclick=\"convertToInteractive('df-26f5df94-181e-4ed7-937d-5e52592b092f')\"\n",
              "              title=\"Convert this dataframe to an interactive table.\"\n",
              "              style=\"display:none;\">\n",
              "\n",
              "  <svg xmlns=\"http://www.w3.org/2000/svg\" height=\"24px\"viewBox=\"0 0 24 24\"\n",
              "       width=\"24px\">\n",
              "    <path d=\"M0 0h24v24H0V0z\" fill=\"none\"/>\n",
              "    <path d=\"M18.56 5.44l.94 2.06.94-2.06 2.06-.94-2.06-.94-.94-2.06-.94 2.06-2.06.94zm-11 1L8.5 8.5l.94-2.06 2.06-.94-2.06-.94L8.5 2.5l-.94 2.06-2.06.94zm10 10l.94 2.06.94-2.06 2.06-.94-2.06-.94-.94-2.06-.94 2.06-2.06.94z\"/><path d=\"M17.41 7.96l-1.37-1.37c-.4-.4-.92-.59-1.43-.59-.52 0-1.04.2-1.43.59L10.3 9.45l-7.72 7.72c-.78.78-.78 2.05 0 2.83L4 21.41c.39.39.9.59 1.41.59.51 0 1.02-.2 1.41-.59l7.78-7.78 2.81-2.81c.8-.78.8-2.07 0-2.86zM5.41 20L4 18.59l7.72-7.72 1.47 1.35L5.41 20z\"/>\n",
              "  </svg>\n",
              "      </button>\n",
              "\n",
              "\n",
              "\n",
              "    <div id=\"df-533d56d7-ebcc-4762-a7c0-36ead9f55120\">\n",
              "      <button class=\"colab-df-quickchart\" onclick=\"quickchart('df-533d56d7-ebcc-4762-a7c0-36ead9f55120')\"\n",
              "              title=\"Suggest charts.\"\n",
              "              style=\"display:none;\">\n",
              "\n",
              "<svg xmlns=\"http://www.w3.org/2000/svg\" height=\"24px\"viewBox=\"0 0 24 24\"\n",
              "     width=\"24px\">\n",
              "    <g>\n",
              "        <path d=\"M19 3H5c-1.1 0-2 .9-2 2v14c0 1.1.9 2 2 2h14c1.1 0 2-.9 2-2V5c0-1.1-.9-2-2-2zM9 17H7v-7h2v7zm4 0h-2V7h2v10zm4 0h-2v-4h2v4z\"/>\n",
              "    </g>\n",
              "</svg>\n",
              "      </button>\n",
              "    </div>\n",
              "\n",
              "<style>\n",
              "  .colab-df-quickchart {\n",
              "    background-color: #E8F0FE;\n",
              "    border: none;\n",
              "    border-radius: 50%;\n",
              "    cursor: pointer;\n",
              "    display: none;\n",
              "    fill: #1967D2;\n",
              "    height: 32px;\n",
              "    padding: 0 0 0 0;\n",
              "    width: 32px;\n",
              "  }\n",
              "\n",
              "  .colab-df-quickchart:hover {\n",
              "    background-color: #E2EBFA;\n",
              "    box-shadow: 0px 1px 2px rgba(60, 64, 67, 0.3), 0px 1px 3px 1px rgba(60, 64, 67, 0.15);\n",
              "    fill: #174EA6;\n",
              "  }\n",
              "\n",
              "  [theme=dark] .colab-df-quickchart {\n",
              "    background-color: #3B4455;\n",
              "    fill: #D2E3FC;\n",
              "  }\n",
              "\n",
              "  [theme=dark] .colab-df-quickchart:hover {\n",
              "    background-color: #434B5C;\n",
              "    box-shadow: 0px 1px 3px 1px rgba(0, 0, 0, 0.15);\n",
              "    filter: drop-shadow(0px 1px 2px rgba(0, 0, 0, 0.3));\n",
              "    fill: #FFFFFF;\n",
              "  }\n",
              "</style>\n",
              "\n",
              "    <script>\n",
              "      async function quickchart(key) {\n",
              "        const containerElement = document.querySelector('#' + key);\n",
              "        const charts = await google.colab.kernel.invokeFunction(\n",
              "            'suggestCharts', [key], {});\n",
              "      }\n",
              "    </script>\n",
              "\n",
              "      <script>\n",
              "\n",
              "function displayQuickchartButton(domScope) {\n",
              "  let quickchartButtonEl =\n",
              "    domScope.querySelector('#df-533d56d7-ebcc-4762-a7c0-36ead9f55120 button.colab-df-quickchart');\n",
              "  quickchartButtonEl.style.display =\n",
              "    google.colab.kernel.accessAllowed ? 'block' : 'none';\n",
              "}\n",
              "\n",
              "        displayQuickchartButton(document);\n",
              "      </script>\n",
              "      <style>\n",
              "    .colab-df-container {\n",
              "      display:flex;\n",
              "      flex-wrap:wrap;\n",
              "      gap: 12px;\n",
              "    }\n",
              "\n",
              "    .colab-df-convert {\n",
              "      background-color: #E8F0FE;\n",
              "      border: none;\n",
              "      border-radius: 50%;\n",
              "      cursor: pointer;\n",
              "      display: none;\n",
              "      fill: #1967D2;\n",
              "      height: 32px;\n",
              "      padding: 0 0 0 0;\n",
              "      width: 32px;\n",
              "    }\n",
              "\n",
              "    .colab-df-convert:hover {\n",
              "      background-color: #E2EBFA;\n",
              "      box-shadow: 0px 1px 2px rgba(60, 64, 67, 0.3), 0px 1px 3px 1px rgba(60, 64, 67, 0.15);\n",
              "      fill: #174EA6;\n",
              "    }\n",
              "\n",
              "    [theme=dark] .colab-df-convert {\n",
              "      background-color: #3B4455;\n",
              "      fill: #D2E3FC;\n",
              "    }\n",
              "\n",
              "    [theme=dark] .colab-df-convert:hover {\n",
              "      background-color: #434B5C;\n",
              "      box-shadow: 0px 1px 3px 1px rgba(0, 0, 0, 0.15);\n",
              "      filter: drop-shadow(0px 1px 2px rgba(0, 0, 0, 0.3));\n",
              "      fill: #FFFFFF;\n",
              "    }\n",
              "  </style>\n",
              "\n",
              "      <script>\n",
              "        const buttonEl =\n",
              "          document.querySelector('#df-26f5df94-181e-4ed7-937d-5e52592b092f button.colab-df-convert');\n",
              "        buttonEl.style.display =\n",
              "          google.colab.kernel.accessAllowed ? 'block' : 'none';\n",
              "\n",
              "        async function convertToInteractive(key) {\n",
              "          const element = document.querySelector('#df-26f5df94-181e-4ed7-937d-5e52592b092f');\n",
              "          const dataTable =\n",
              "            await google.colab.kernel.invokeFunction('convertToInteractive',\n",
              "                                                     [key], {});\n",
              "          if (!dataTable) return;\n",
              "\n",
              "          const docLinkHtml = 'Like what you see? Visit the ' +\n",
              "            '<a target=\"_blank\" href=https://colab.research.google.com/notebooks/data_table.ipynb>data table notebook</a>'\n",
              "            + ' to learn more about interactive tables.';\n",
              "          element.innerHTML = '';\n",
              "          dataTable['output_type'] = 'display_data';\n",
              "          await google.colab.output.renderOutput(dataTable, element);\n",
              "          const docLink = document.createElement('div');\n",
              "          docLink.innerHTML = docLinkHtml;\n",
              "          element.appendChild(docLink);\n",
              "        }\n",
              "      </script>\n",
              "    </div>\n",
              "  </div>\n"
            ]
          },
          "metadata": {},
          "execution_count": 20
        }
      ],
      "source": [
        "vehicle_type_pivot_table = vehicle_type_pivot_table['count']['Price']\n",
        "vehicle_type_pivot_table"
      ]
    },
    {
      "cell_type": "markdown",
      "metadata": {
        "id": "x3N36y1FV8Xi"
      },
      "source": [
        "Заполним словарь брендов и популярных типов машин и заполним пропуски по столбцу VehicleType."
      ]
    },
    {
      "cell_type": "code",
      "execution_count": null,
      "metadata": {
        "colab": {
          "base_uri": "https://localhost:8080/"
        },
        "id": "hFtazIpYV8Xk",
        "outputId": "d7796a84-3d4e-487b-fd34-7d1e241b8923"
      },
      "outputs": [
        {
          "output_type": "stream",
          "name": "stdout",
          "text": [
            "<class 'pandas.core.frame.DataFrame'>\n",
            "Int64Index: 314361 entries, 0 to 354368\n",
            "Data columns (total 10 columns):\n",
            " #   Column            Non-Null Count   Dtype \n",
            "---  ------            --------------   ----- \n",
            " 0   VehicleType       298582 non-null  object\n",
            " 1   Gearbox           314361 non-null  object\n",
            " 2   Power             314361 non-null  int64 \n",
            " 3   Kilometer         314361 non-null  int64 \n",
            " 4   FuelType          294279 non-null  object\n",
            " 5   Brand             314361 non-null  object\n",
            " 6   Repaired          314361 non-null  object\n",
            " 7   RegistrationYear  314361 non-null  int64 \n",
            " 8   Model             314361 non-null  object\n",
            " 9   Price             314361 non-null  int64 \n",
            "dtypes: int64(4), object(6)\n",
            "memory usage: 26.4+ MB\n"
          ]
        }
      ],
      "source": [
        "filtred_autos_data.info()"
      ]
    },
    {
      "cell_type": "code",
      "execution_count": null,
      "metadata": {
        "colab": {
          "base_uri": "https://localhost:8080/",
          "height": 202
        },
        "id": "LLKRTglVV8Xl",
        "outputId": "42a2ba0c-b1c0-4213-d112-f9fb2cc03497"
      },
      "outputs": [
        {
          "output_type": "display_data",
          "data": {
            "text/plain": [
              "0"
            ]
          },
          "metadata": {}
        },
        {
          "output_type": "execute_result",
          "data": {
            "text/plain": [
              "sedan          94805\n",
              "small          78403\n",
              "wagon          63473\n",
              "bus            28122\n",
              "convertible    19703\n",
              "coupe          15153\n",
              "suv            11844\n",
              "other           2858\n",
              "Name: VehicleType, dtype: int64"
            ]
          },
          "metadata": {},
          "execution_count": 22
        }
      ],
      "source": [
        "filtred_autos_data.fillna({'VehicleType':0},inplace=True)\n",
        "\n",
        "def fillna_by_brand(row, row_number, vehicle_type_pivot_table):\n",
        "    brand = row[5]\n",
        "    fill_value = row[row_number]\n",
        "    if row[row_number] == 0:\n",
        "        fill_value = vehicle_type_pivot_table[brand].idxmax()\n",
        "    return fill_value\n",
        "\n",
        "filtred_autos_data['VehicleType'] = filtred_autos_data.apply(\n",
        "                                fillna_by_brand,\n",
        "                                args=[0, vehicle_type_pivot_table],\n",
        "                                axis=1)\n",
        "display(filtred_autos_data['VehicleType'].isna().sum())\n",
        "filtred_autos_data['VehicleType'].value_counts()"
      ]
    },
    {
      "cell_type": "markdown",
      "metadata": {
        "id": "n3hIJwyCV8Xo"
      },
      "source": [
        "Заполним пропуски в FuelType по похожему принципу."
      ]
    },
    {
      "cell_type": "code",
      "execution_count": null,
      "metadata": {
        "colab": {
          "base_uri": "https://localhost:8080/",
          "height": 670
        },
        "id": "2UsxfM1yV8Xq",
        "outputId": "b1feaaa3-453c-44e3-ddf2-5e7aab682a4e"
      },
      "outputs": [
        {
          "output_type": "display_data",
          "data": {
            "text/plain": [
              "Brand     alfa_romeo     audi      bmw  chevrolet  chrysler  citroen  dacia  \\\n",
              "FuelType                                                                      \n",
              "cng              NaN      1.0      8.0        4.0       NaN      7.0    2.0   \n",
              "electric         NaN      2.0      3.0        NaN       NaN      1.0    NaN   \n",
              "gasoline       577.0  11981.0  11741.0      234.0     361.0   1523.0  204.0   \n",
              "hybrid           NaN      NaN      NaN        NaN       NaN      NaN    NaN   \n",
              "lpg             31.0    435.0    720.0      175.0      93.0     63.0   52.0   \n",
              "other            NaN      3.0      6.0        1.0       NaN      2.0    NaN   \n",
              "petrol        1323.0  13275.0  19690.0     1124.0     738.0   2713.0  561.0   \n",
              "\n",
              "Brand     daewoo  daihatsu    fiat  ...    seat   skoda   smart  \\\n",
              "FuelType                            ...                           \n",
              "cng          NaN       NaN    65.0  ...     2.0     6.0     2.0   \n",
              "electric     NaN       1.0     4.0  ...     NaN     NaN     7.0   \n",
              "gasoline     1.0       4.0  1386.0  ...  1595.0  1889.0   841.0   \n",
              "hybrid       NaN       NaN     3.0  ...     1.0     NaN     1.0   \n",
              "lpg         23.0       5.0    64.0  ...    60.0    51.0     3.0   \n",
              "other        1.0       NaN     3.0  ...     NaN     NaN     1.0   \n",
              "petrol     374.0     582.0  5995.0  ...  4006.0  3065.0  3837.0   \n",
              "\n",
              "Brand     sonstige_autos  subaru  suzuki  toyota  trabant  volkswagen   volvo  \n",
              "FuelType                                                                       \n",
              "cng                  7.0     2.0     NaN     NaN      NaN       174.0    20.0  \n",
              "electric            21.0     NaN     NaN     NaN      NaN         1.0     NaN  \n",
              "gasoline           423.0    41.0   226.0   963.0      1.0     24357.0  1030.0  \n",
              "hybrid              19.0     NaN     NaN   125.0      NaN         5.0     NaN  \n",
              "lpg                121.0    29.0    22.0    25.0      NaN       506.0   105.0  \n",
              "other               18.0     NaN     1.0     NaN     32.0        16.0     2.0  \n",
              "petrol            1332.0   532.0  1686.0  3058.0    249.0     38030.0  1639.0  \n",
              "\n",
              "[7 rows x 40 columns]"
            ],
            "text/html": [
              "\n",
              "\n",
              "  <div id=\"df-c6af4ed1-d44e-482d-b626-3a61273b09de\">\n",
              "    <div class=\"colab-df-container\">\n",
              "      <div>\n",
              "<style scoped>\n",
              "    .dataframe tbody tr th:only-of-type {\n",
              "        vertical-align: middle;\n",
              "    }\n",
              "\n",
              "    .dataframe tbody tr th {\n",
              "        vertical-align: top;\n",
              "    }\n",
              "\n",
              "    .dataframe thead th {\n",
              "        text-align: right;\n",
              "    }\n",
              "</style>\n",
              "<table border=\"1\" class=\"dataframe\">\n",
              "  <thead>\n",
              "    <tr style=\"text-align: right;\">\n",
              "      <th>Brand</th>\n",
              "      <th>alfa_romeo</th>\n",
              "      <th>audi</th>\n",
              "      <th>bmw</th>\n",
              "      <th>chevrolet</th>\n",
              "      <th>chrysler</th>\n",
              "      <th>citroen</th>\n",
              "      <th>dacia</th>\n",
              "      <th>daewoo</th>\n",
              "      <th>daihatsu</th>\n",
              "      <th>fiat</th>\n",
              "      <th>...</th>\n",
              "      <th>seat</th>\n",
              "      <th>skoda</th>\n",
              "      <th>smart</th>\n",
              "      <th>sonstige_autos</th>\n",
              "      <th>subaru</th>\n",
              "      <th>suzuki</th>\n",
              "      <th>toyota</th>\n",
              "      <th>trabant</th>\n",
              "      <th>volkswagen</th>\n",
              "      <th>volvo</th>\n",
              "    </tr>\n",
              "    <tr>\n",
              "      <th>FuelType</th>\n",
              "      <th></th>\n",
              "      <th></th>\n",
              "      <th></th>\n",
              "      <th></th>\n",
              "      <th></th>\n",
              "      <th></th>\n",
              "      <th></th>\n",
              "      <th></th>\n",
              "      <th></th>\n",
              "      <th></th>\n",
              "      <th></th>\n",
              "      <th></th>\n",
              "      <th></th>\n",
              "      <th></th>\n",
              "      <th></th>\n",
              "      <th></th>\n",
              "      <th></th>\n",
              "      <th></th>\n",
              "      <th></th>\n",
              "      <th></th>\n",
              "      <th></th>\n",
              "    </tr>\n",
              "  </thead>\n",
              "  <tbody>\n",
              "    <tr>\n",
              "      <th>cng</th>\n",
              "      <td>NaN</td>\n",
              "      <td>1.0</td>\n",
              "      <td>8.0</td>\n",
              "      <td>4.0</td>\n",
              "      <td>NaN</td>\n",
              "      <td>7.0</td>\n",
              "      <td>2.0</td>\n",
              "      <td>NaN</td>\n",
              "      <td>NaN</td>\n",
              "      <td>65.0</td>\n",
              "      <td>...</td>\n",
              "      <td>2.0</td>\n",
              "      <td>6.0</td>\n",
              "      <td>2.0</td>\n",
              "      <td>7.0</td>\n",
              "      <td>2.0</td>\n",
              "      <td>NaN</td>\n",
              "      <td>NaN</td>\n",
              "      <td>NaN</td>\n",
              "      <td>174.0</td>\n",
              "      <td>20.0</td>\n",
              "    </tr>\n",
              "    <tr>\n",
              "      <th>electric</th>\n",
              "      <td>NaN</td>\n",
              "      <td>2.0</td>\n",
              "      <td>3.0</td>\n",
              "      <td>NaN</td>\n",
              "      <td>NaN</td>\n",
              "      <td>1.0</td>\n",
              "      <td>NaN</td>\n",
              "      <td>NaN</td>\n",
              "      <td>1.0</td>\n",
              "      <td>4.0</td>\n",
              "      <td>...</td>\n",
              "      <td>NaN</td>\n",
              "      <td>NaN</td>\n",
              "      <td>7.0</td>\n",
              "      <td>21.0</td>\n",
              "      <td>NaN</td>\n",
              "      <td>NaN</td>\n",
              "      <td>NaN</td>\n",
              "      <td>NaN</td>\n",
              "      <td>1.0</td>\n",
              "      <td>NaN</td>\n",
              "    </tr>\n",
              "    <tr>\n",
              "      <th>gasoline</th>\n",
              "      <td>577.0</td>\n",
              "      <td>11981.0</td>\n",
              "      <td>11741.0</td>\n",
              "      <td>234.0</td>\n",
              "      <td>361.0</td>\n",
              "      <td>1523.0</td>\n",
              "      <td>204.0</td>\n",
              "      <td>1.0</td>\n",
              "      <td>4.0</td>\n",
              "      <td>1386.0</td>\n",
              "      <td>...</td>\n",
              "      <td>1595.0</td>\n",
              "      <td>1889.0</td>\n",
              "      <td>841.0</td>\n",
              "      <td>423.0</td>\n",
              "      <td>41.0</td>\n",
              "      <td>226.0</td>\n",
              "      <td>963.0</td>\n",
              "      <td>1.0</td>\n",
              "      <td>24357.0</td>\n",
              "      <td>1030.0</td>\n",
              "    </tr>\n",
              "    <tr>\n",
              "      <th>hybrid</th>\n",
              "      <td>NaN</td>\n",
              "      <td>NaN</td>\n",
              "      <td>NaN</td>\n",
              "      <td>NaN</td>\n",
              "      <td>NaN</td>\n",
              "      <td>NaN</td>\n",
              "      <td>NaN</td>\n",
              "      <td>NaN</td>\n",
              "      <td>NaN</td>\n",
              "      <td>3.0</td>\n",
              "      <td>...</td>\n",
              "      <td>1.0</td>\n",
              "      <td>NaN</td>\n",
              "      <td>1.0</td>\n",
              "      <td>19.0</td>\n",
              "      <td>NaN</td>\n",
              "      <td>NaN</td>\n",
              "      <td>125.0</td>\n",
              "      <td>NaN</td>\n",
              "      <td>5.0</td>\n",
              "      <td>NaN</td>\n",
              "    </tr>\n",
              "    <tr>\n",
              "      <th>lpg</th>\n",
              "      <td>31.0</td>\n",
              "      <td>435.0</td>\n",
              "      <td>720.0</td>\n",
              "      <td>175.0</td>\n",
              "      <td>93.0</td>\n",
              "      <td>63.0</td>\n",
              "      <td>52.0</td>\n",
              "      <td>23.0</td>\n",
              "      <td>5.0</td>\n",
              "      <td>64.0</td>\n",
              "      <td>...</td>\n",
              "      <td>60.0</td>\n",
              "      <td>51.0</td>\n",
              "      <td>3.0</td>\n",
              "      <td>121.0</td>\n",
              "      <td>29.0</td>\n",
              "      <td>22.0</td>\n",
              "      <td>25.0</td>\n",
              "      <td>NaN</td>\n",
              "      <td>506.0</td>\n",
              "      <td>105.0</td>\n",
              "    </tr>\n",
              "    <tr>\n",
              "      <th>other</th>\n",
              "      <td>NaN</td>\n",
              "      <td>3.0</td>\n",
              "      <td>6.0</td>\n",
              "      <td>1.0</td>\n",
              "      <td>NaN</td>\n",
              "      <td>2.0</td>\n",
              "      <td>NaN</td>\n",
              "      <td>1.0</td>\n",
              "      <td>NaN</td>\n",
              "      <td>3.0</td>\n",
              "      <td>...</td>\n",
              "      <td>NaN</td>\n",
              "      <td>NaN</td>\n",
              "      <td>1.0</td>\n",
              "      <td>18.0</td>\n",
              "      <td>NaN</td>\n",
              "      <td>1.0</td>\n",
              "      <td>NaN</td>\n",
              "      <td>32.0</td>\n",
              "      <td>16.0</td>\n",
              "      <td>2.0</td>\n",
              "    </tr>\n",
              "    <tr>\n",
              "      <th>petrol</th>\n",
              "      <td>1323.0</td>\n",
              "      <td>13275.0</td>\n",
              "      <td>19690.0</td>\n",
              "      <td>1124.0</td>\n",
              "      <td>738.0</td>\n",
              "      <td>2713.0</td>\n",
              "      <td>561.0</td>\n",
              "      <td>374.0</td>\n",
              "      <td>582.0</td>\n",
              "      <td>5995.0</td>\n",
              "      <td>...</td>\n",
              "      <td>4006.0</td>\n",
              "      <td>3065.0</td>\n",
              "      <td>3837.0</td>\n",
              "      <td>1332.0</td>\n",
              "      <td>532.0</td>\n",
              "      <td>1686.0</td>\n",
              "      <td>3058.0</td>\n",
              "      <td>249.0</td>\n",
              "      <td>38030.0</td>\n",
              "      <td>1639.0</td>\n",
              "    </tr>\n",
              "  </tbody>\n",
              "</table>\n",
              "<p>7 rows × 40 columns</p>\n",
              "</div>\n",
              "      <button class=\"colab-df-convert\" onclick=\"convertToInteractive('df-c6af4ed1-d44e-482d-b626-3a61273b09de')\"\n",
              "              title=\"Convert this dataframe to an interactive table.\"\n",
              "              style=\"display:none;\">\n",
              "\n",
              "  <svg xmlns=\"http://www.w3.org/2000/svg\" height=\"24px\"viewBox=\"0 0 24 24\"\n",
              "       width=\"24px\">\n",
              "    <path d=\"M0 0h24v24H0V0z\" fill=\"none\"/>\n",
              "    <path d=\"M18.56 5.44l.94 2.06.94-2.06 2.06-.94-2.06-.94-.94-2.06-.94 2.06-2.06.94zm-11 1L8.5 8.5l.94-2.06 2.06-.94-2.06-.94L8.5 2.5l-.94 2.06-2.06.94zm10 10l.94 2.06.94-2.06 2.06-.94-2.06-.94-.94-2.06-.94 2.06-2.06.94z\"/><path d=\"M17.41 7.96l-1.37-1.37c-.4-.4-.92-.59-1.43-.59-.52 0-1.04.2-1.43.59L10.3 9.45l-7.72 7.72c-.78.78-.78 2.05 0 2.83L4 21.41c.39.39.9.59 1.41.59.51 0 1.02-.2 1.41-.59l7.78-7.78 2.81-2.81c.8-.78.8-2.07 0-2.86zM5.41 20L4 18.59l7.72-7.72 1.47 1.35L5.41 20z\"/>\n",
              "  </svg>\n",
              "      </button>\n",
              "\n",
              "\n",
              "\n",
              "    <div id=\"df-485fa42c-229b-49da-8144-66fae98219ef\">\n",
              "      <button class=\"colab-df-quickchart\" onclick=\"quickchart('df-485fa42c-229b-49da-8144-66fae98219ef')\"\n",
              "              title=\"Suggest charts.\"\n",
              "              style=\"display:none;\">\n",
              "\n",
              "<svg xmlns=\"http://www.w3.org/2000/svg\" height=\"24px\"viewBox=\"0 0 24 24\"\n",
              "     width=\"24px\">\n",
              "    <g>\n",
              "        <path d=\"M19 3H5c-1.1 0-2 .9-2 2v14c0 1.1.9 2 2 2h14c1.1 0 2-.9 2-2V5c0-1.1-.9-2-2-2zM9 17H7v-7h2v7zm4 0h-2V7h2v10zm4 0h-2v-4h2v4z\"/>\n",
              "    </g>\n",
              "</svg>\n",
              "      </button>\n",
              "    </div>\n",
              "\n",
              "<style>\n",
              "  .colab-df-quickchart {\n",
              "    background-color: #E8F0FE;\n",
              "    border: none;\n",
              "    border-radius: 50%;\n",
              "    cursor: pointer;\n",
              "    display: none;\n",
              "    fill: #1967D2;\n",
              "    height: 32px;\n",
              "    padding: 0 0 0 0;\n",
              "    width: 32px;\n",
              "  }\n",
              "\n",
              "  .colab-df-quickchart:hover {\n",
              "    background-color: #E2EBFA;\n",
              "    box-shadow: 0px 1px 2px rgba(60, 64, 67, 0.3), 0px 1px 3px 1px rgba(60, 64, 67, 0.15);\n",
              "    fill: #174EA6;\n",
              "  }\n",
              "\n",
              "  [theme=dark] .colab-df-quickchart {\n",
              "    background-color: #3B4455;\n",
              "    fill: #D2E3FC;\n",
              "  }\n",
              "\n",
              "  [theme=dark] .colab-df-quickchart:hover {\n",
              "    background-color: #434B5C;\n",
              "    box-shadow: 0px 1px 3px 1px rgba(0, 0, 0, 0.15);\n",
              "    filter: drop-shadow(0px 1px 2px rgba(0, 0, 0, 0.3));\n",
              "    fill: #FFFFFF;\n",
              "  }\n",
              "</style>\n",
              "\n",
              "    <script>\n",
              "      async function quickchart(key) {\n",
              "        const containerElement = document.querySelector('#' + key);\n",
              "        const charts = await google.colab.kernel.invokeFunction(\n",
              "            'suggestCharts', [key], {});\n",
              "      }\n",
              "    </script>\n",
              "\n",
              "      <script>\n",
              "\n",
              "function displayQuickchartButton(domScope) {\n",
              "  let quickchartButtonEl =\n",
              "    domScope.querySelector('#df-485fa42c-229b-49da-8144-66fae98219ef button.colab-df-quickchart');\n",
              "  quickchartButtonEl.style.display =\n",
              "    google.colab.kernel.accessAllowed ? 'block' : 'none';\n",
              "}\n",
              "\n",
              "        displayQuickchartButton(document);\n",
              "      </script>\n",
              "      <style>\n",
              "    .colab-df-container {\n",
              "      display:flex;\n",
              "      flex-wrap:wrap;\n",
              "      gap: 12px;\n",
              "    }\n",
              "\n",
              "    .colab-df-convert {\n",
              "      background-color: #E8F0FE;\n",
              "      border: none;\n",
              "      border-radius: 50%;\n",
              "      cursor: pointer;\n",
              "      display: none;\n",
              "      fill: #1967D2;\n",
              "      height: 32px;\n",
              "      padding: 0 0 0 0;\n",
              "      width: 32px;\n",
              "    }\n",
              "\n",
              "    .colab-df-convert:hover {\n",
              "      background-color: #E2EBFA;\n",
              "      box-shadow: 0px 1px 2px rgba(60, 64, 67, 0.3), 0px 1px 3px 1px rgba(60, 64, 67, 0.15);\n",
              "      fill: #174EA6;\n",
              "    }\n",
              "\n",
              "    [theme=dark] .colab-df-convert {\n",
              "      background-color: #3B4455;\n",
              "      fill: #D2E3FC;\n",
              "    }\n",
              "\n",
              "    [theme=dark] .colab-df-convert:hover {\n",
              "      background-color: #434B5C;\n",
              "      box-shadow: 0px 1px 3px 1px rgba(0, 0, 0, 0.15);\n",
              "      filter: drop-shadow(0px 1px 2px rgba(0, 0, 0, 0.3));\n",
              "      fill: #FFFFFF;\n",
              "    }\n",
              "  </style>\n",
              "\n",
              "      <script>\n",
              "        const buttonEl =\n",
              "          document.querySelector('#df-c6af4ed1-d44e-482d-b626-3a61273b09de button.colab-df-convert');\n",
              "        buttonEl.style.display =\n",
              "          google.colab.kernel.accessAllowed ? 'block' : 'none';\n",
              "\n",
              "        async function convertToInteractive(key) {\n",
              "          const element = document.querySelector('#df-c6af4ed1-d44e-482d-b626-3a61273b09de');\n",
              "          const dataTable =\n",
              "            await google.colab.kernel.invokeFunction('convertToInteractive',\n",
              "                                                     [key], {});\n",
              "          if (!dataTable) return;\n",
              "\n",
              "          const docLinkHtml = 'Like what you see? Visit the ' +\n",
              "            '<a target=\"_blank\" href=https://colab.research.google.com/notebooks/data_table.ipynb>data table notebook</a>'\n",
              "            + ' to learn more about interactive tables.';\n",
              "          element.innerHTML = '';\n",
              "          dataTable['output_type'] = 'display_data';\n",
              "          await google.colab.output.renderOutput(dataTable, element);\n",
              "          const docLink = document.createElement('div');\n",
              "          docLink.innerHTML = docLinkHtml;\n",
              "          element.appendChild(docLink);\n",
              "        }\n",
              "      </script>\n",
              "    </div>\n",
              "  </div>\n"
            ]
          },
          "metadata": {}
        },
        {
          "output_type": "display_data",
          "data": {
            "text/plain": [
              "0"
            ]
          },
          "metadata": {}
        },
        {
          "output_type": "execute_result",
          "data": {
            "text/plain": [
              "petrol         194151\n",
              "gasoline        94230\n",
              "sedan            9539\n",
              "small            8309\n",
              "lpg              4949\n",
              "wagon            1922\n",
              "cng               519\n",
              "hybrid            218\n",
              "suv               185\n",
              "other             129\n",
              "bus                84\n",
              "electric           83\n",
              "convertible        43\n",
              "Name: FuelType, dtype: int64"
            ]
          },
          "metadata": {},
          "execution_count": 23
        }
      ],
      "source": [
        "filtred_autos_data['FuelType'].value_counts()\n",
        "fuel_type_pivot_table = filtred_autos_data.pivot_table(index=['FuelType'],\n",
        "                                                          columns=['Brand'],\n",
        "                                                          values=['Price'],\n",
        "                                                          aggfunc=['count'])\n",
        "fuel_type_pivot_table = fuel_type_pivot_table['count']['Price']\n",
        "display(fuel_type_pivot_table)\n",
        "\n",
        "filtred_autos_data.fillna({'FuelType':0},inplace=True)\n",
        "\n",
        "filtred_autos_data['FuelType'] = filtred_autos_data.apply(\n",
        "                                fillna_by_brand,\n",
        "                                args=[4, vehicle_type_pivot_table],\n",
        "                                axis=1)\n",
        "display(filtred_autos_data['FuelType'].isna().sum())\n",
        "filtred_autos_data['FuelType'].value_counts()"
      ]
    },
    {
      "cell_type": "code",
      "execution_count": null,
      "metadata": {
        "colab": {
          "base_uri": "https://localhost:8080/"
        },
        "id": "7qoiz6maV8Xz",
        "outputId": "643fcd2d-e479-4cb9-ab16-5d40fda53c06"
      },
      "outputs": [
        {
          "output_type": "execute_result",
          "data": {
            "text/plain": [
              "VehicleType         0.0\n",
              "Gearbox             0.0\n",
              "Power               0.0\n",
              "Kilometer           0.0\n",
              "FuelType            0.0\n",
              "Brand               0.0\n",
              "Repaired            0.0\n",
              "RegistrationYear    0.0\n",
              "Model               0.0\n",
              "Price               0.0\n",
              "dtype: float64"
            ]
          },
          "metadata": {},
          "execution_count": 24
        }
      ],
      "source": [
        "filtred_autos_data.isna().mean()"
      ]
    },
    {
      "cell_type": "markdown",
      "metadata": {
        "id": "rzaEojHrV8X1"
      },
      "source": [
        "Пропуски убраны. Осталось заняться некорректнымми значениями в столбце Power."
      ]
    },
    {
      "cell_type": "code",
      "execution_count": null,
      "metadata": {
        "colab": {
          "base_uri": "https://localhost:8080/",
          "height": 878
        },
        "id": "2ZO3jKV4V8X2",
        "outputId": "594c038d-3390-4b3e-f58c-cf19ec448984",
        "scrolled": false
      },
      "outputs": [
        {
          "output_type": "execute_result",
          "data": {
            "text/plain": [
              "count    314361.000000\n",
              "mean        114.570799\n",
              "std         185.324543\n",
              "min           0.000000\n",
              "25%          75.000000\n",
              "50%         107.000000\n",
              "75%         144.000000\n",
              "max       20000.000000\n",
              "Name: Power, dtype: float64"
            ]
          },
          "metadata": {},
          "execution_count": 25
        },
        {
          "output_type": "display_data",
          "data": {
            "text/plain": [
              "<Figure size 1200x900 with 1 Axes>"
            ],
            "image/png": "[encoded data removed]"
          },
          "metadata": {}
        }
      ],
      "source": [
        "filtred_autos_data['Power'].hist(bins=100, figsize=(12,9))\n",
        "filtred_autos_data['Power'].describe()"
      ]
    },
    {
      "cell_type": "markdown",
      "metadata": {
        "id": "MZS4ENejV8X3"
      },
      "source": [
        "Раброс очень сильный, усечем выбросы больше 1000 л.с."
      ]
    },
    {
      "cell_type": "code",
      "execution_count": null,
      "metadata": {
        "colab": {
          "base_uri": "https://localhost:8080/",
          "height": 884
        },
        "id": "BoeP6afAV8X4",
        "outputId": "9f16eed3-096d-4728-90a8-3e764ef868a9"
      },
      "outputs": [
        {
          "output_type": "execute_result",
          "data": {
            "text/plain": [
              "count    314117.000000\n",
              "mean        111.376121\n",
              "std          62.603099\n",
              "min           0.000000\n",
              "25%          75.000000\n",
              "50%         106.000000\n",
              "75%         144.000000\n",
              "max        1000.000000\n",
              "Name: Power, dtype: float64"
            ]
          },
          "metadata": {},
          "execution_count": 26
        },
        {
          "output_type": "display_data",
          "data": {
            "text/plain": [
              "<Figure size 1200x900 with 1 Axes>"
            ],
            "image/png": "[encoded data removed]"
          },
          "metadata": {}
        }
      ],
      "source": [
        "filtred_autos_data = filtred_autos_data.query('Power < 1001')\n",
        "filtred_autos_data['Power'].hist(bins=100, figsize=(12,9))\n",
        "filtred_autos_data['Power'].describe()"
      ]
    },
    {
      "cell_type": "markdown",
      "metadata": {
        "id": "J2KopBHMV8X5"
      },
      "source": [
        "Из графика видно, что многие машины имеют мощность 0. Эти строки не подлежат восстановлению и будут удалены. По правому отсечению выбреме границу в 400 л.с."
      ]
    },
    {
      "cell_type": "code",
      "execution_count": null,
      "metadata": {
        "colab": {
          "base_uri": "https://localhost:8080/",
          "height": 884
        },
        "id": "caW6viicV8X7",
        "outputId": "85e5f6f9-3255-4950-b697-daa99b29bd49"
      },
      "outputs": [
        {
          "output_type": "execute_result",
          "data": {
            "text/plain": [
              "count    286056.000000\n",
              "mean        121.628555\n",
              "std          52.598098\n",
              "min           1.000000\n",
              "25%          80.000000\n",
              "50%         115.000000\n",
              "75%         150.000000\n",
              "max         400.000000\n",
              "Name: Power, dtype: float64"
            ]
          },
          "metadata": {},
          "execution_count": 27
        },
        {
          "output_type": "display_data",
          "data": {
            "text/plain": [
              "<Figure size 1200x900 with 1 Axes>"
            ],
            "image/png": "[encoded data removed]"
          },
          "metadata": {}
        }
      ],
      "source": [
        "filtred_autos_data = filtred_autos_data.query('0 < Power < 401')\n",
        "filtred_autos_data['Power'].hist(bins=100, figsize=(12,9))\n",
        "filtred_autos_data['Power'].describe()"
      ]
    },
    {
      "cell_type": "markdown",
      "metadata": {
        "id": "a0pLSfZYV8X8"
      },
      "source": [
        "Следующими границами выберем 25 и 350 л.с."
      ]
    },
    {
      "cell_type": "code",
      "execution_count": null,
      "metadata": {
        "colab": {
          "base_uri": "https://localhost:8080/",
          "height": 884
        },
        "id": "D4Kjekc0V8X_",
        "outputId": "7f058886-a017-4cc5-b76e-6a7c5af8ab5f"
      },
      "outputs": [
        {
          "output_type": "execute_result",
          "data": {
            "text/plain": [
              "count    285179.000000\n",
              "mean        121.404956\n",
              "std          51.550854\n",
              "min          25.000000\n",
              "25%          80.000000\n",
              "50%         115.000000\n",
              "75%         150.000000\n",
              "max         350.000000\n",
              "Name: Power, dtype: float64"
            ]
          },
          "metadata": {},
          "execution_count": 28
        },
        {
          "output_type": "display_data",
          "data": {
            "text/plain": [
              "<Figure size 1200x900 with 1 Axes>"
            ],
            "image/png": "[encoded data removed]"
          },
          "metadata": {}
        }
      ],
      "source": [
        "good_autos_data = filtred_autos_data.query('24 < Power < 351')\n",
        "good_autos_data['Power'].hist(bins=100, figsize=(12,9))\n",
        "good_autos_data['Power'].describe()"
      ]
    },
    {
      "cell_type": "code",
      "execution_count": null,
      "metadata": {
        "colab": {
          "base_uri": "https://localhost:8080/"
        },
        "id": "r29GnvZHV8YA",
        "outputId": "faed41f9-cf18-4e10-b21e-05044dbeb92c"
      },
      "outputs": [
        {
          "output_type": "stream",
          "name": "stdout",
          "text": [
            "<class 'pandas.core.frame.DataFrame'>\n",
            "Int64Index: 285179 entries, 1 to 354368\n",
            "Data columns (total 10 columns):\n",
            " #   Column            Non-Null Count   Dtype \n",
            "---  ------            --------------   ----- \n",
            " 0   VehicleType       285179 non-null  object\n",
            " 1   Gearbox           285179 non-null  object\n",
            " 2   Power             285179 non-null  int64 \n",
            " 3   Kilometer         285179 non-null  int64 \n",
            " 4   FuelType          285179 non-null  object\n",
            " 5   Brand             285179 non-null  object\n",
            " 6   Repaired          285179 non-null  object\n",
            " 7   RegistrationYear  285179 non-null  int64 \n",
            " 8   Model             285179 non-null  object\n",
            " 9   Price             285179 non-null  int64 \n",
            "dtypes: int64(4), object(6)\n",
            "memory usage: 23.9+ MB\n"
          ]
        }
      ],
      "source": [
        "good_autos_data.info()"
      ]
    },
    {
      "cell_type": "markdown",
      "metadata": {
        "id": "Ls09cGnmV8YD"
      },
      "source": [
        "Проведем замену столбцов Gearbox и NotRepaired на булев тип.\n",
        "\n",
        "- IsManualGearbox. 1(manual) - означает механическую коробку передач. 0(auto) - автоматическую.\n",
        "- IsNotRepaired. 1(yes) - означает машину без ремонта. 0(no) - с ремонтом."
      ]
    },
    {
      "cell_type": "code",
      "execution_count": null,
      "metadata": {
        "colab": {
          "base_uri": "https://localhost:8080/",
          "height": 258
        },
        "id": "Ovif-cyQV8YE",
        "outputId": "10612362-e575-4ce1-906c-d6226bc86dfe"
      },
      "outputs": [
        {
          "output_type": "stream",
          "name": "stderr",
          "text": [
            "<ipython-input-30-ca14879b377f>:1: SettingWithCopyWarning: \n",
            "A value is trying to be set on a copy of a slice from a DataFrame.\n",
            "Try using .loc[row_indexer,col_indexer] = value instead\n",
            "\n",
            "See the caveats in the documentation: https://pandas.pydata.org/pandas-docs/stable/user_guide/indexing.html#returning-a-view-versus-a-copy\n",
            "  good_autos_data['IsManualGearbox'] = 0\n"
          ]
        },
        {
          "output_type": "display_data",
          "data": {
            "text/plain": [
              "1    227656\n",
              "0     57523\n",
              "Name: IsManualGearbox, dtype: int64"
            ]
          },
          "metadata": {}
        },
        {
          "output_type": "execute_result",
          "data": {
            "text/plain": [
              "manual    227656\n",
              "auto       57523\n",
              "Name: Gearbox, dtype: int64"
            ]
          },
          "metadata": {},
          "execution_count": 30
        }
      ],
      "source": [
        "good_autos_data['IsManualGearbox'] = 0\n",
        "good_autos_data.loc[good_autos_data['Gearbox'] == 'manual', 'IsManualGearbox'] = 1\n",
        "display(good_autos_data['IsManualGearbox'].value_counts())\n",
        "good_autos_data['Gearbox'].value_counts()"
      ]
    },
    {
      "cell_type": "code",
      "execution_count": null,
      "metadata": {
        "colab": {
          "base_uri": "https://localhost:8080/",
          "height": 277
        },
        "id": "eEwVgvMwV8YF",
        "outputId": "d461cf33-ec78-40b5-9dbe-9a0f0dee640d"
      },
      "outputs": [
        {
          "output_type": "stream",
          "name": "stderr",
          "text": [
            "<ipython-input-31-3bae79ac04a7>:1: SettingWithCopyWarning: \n",
            "A value is trying to be set on a copy of a slice from a DataFrame.\n",
            "Try using .loc[row_indexer,col_indexer] = value instead\n",
            "\n",
            "See the caveats in the documentation: https://pandas.pydata.org/pandas-docs/stable/user_guide/indexing.html#returning-a-view-versus-a-copy\n",
            "  good_autos_data['IsRepaired'] = 0\n"
          ]
        },
        {
          "output_type": "display_data",
          "data": {
            "text/plain": [
              "0    260097\n",
              "1     25082\n",
              "Name: IsRepaired, dtype: int64"
            ]
          },
          "metadata": {}
        },
        {
          "output_type": "execute_result",
          "data": {
            "text/plain": [
              "no         221006\n",
              "unknown     39091\n",
              "yes         25082\n",
              "Name: Repaired, dtype: int64"
            ]
          },
          "metadata": {},
          "execution_count": 31
        }
      ],
      "source": [
        "good_autos_data['IsRepaired'] = 0\n",
        "good_autos_data.loc[good_autos_data['Repaired'] == 'yes', 'IsRepaired'] = 1\n",
        "display(good_autos_data['IsRepaired'].value_counts())\n",
        "good_autos_data['Repaired'].value_counts()"
      ]
    },
    {
      "cell_type": "markdown",
      "metadata": {
        "id": "tCeLEb26V8YH"
      },
      "source": [
        "Удалим ненужные столбцы и уменьшим размерность хранения типа для ускорения работы с дата фреймом."
      ]
    },
    {
      "cell_type": "code",
      "execution_count": null,
      "metadata": {
        "colab": {
          "base_uri": "https://localhost:8080/"
        },
        "id": "xh9cA3nRV8YI",
        "outputId": "d5069b62-bf65-4dcc-d343-068818d14bf7"
      },
      "outputs": [
        {
          "output_type": "stream",
          "name": "stderr",
          "text": [
            "<ipython-input-32-c19751b9669a>:1: SettingWithCopyWarning: \n",
            "A value is trying to be set on a copy of a slice from a DataFrame\n",
            "\n",
            "See the caveats in the documentation: https://pandas.pydata.org/pandas-docs/stable/user_guide/indexing.html#returning-a-view-versus-a-copy\n",
            "  good_autos_data.drop(['Repaired','Gearbox'], inplace=True, axis=1)\n",
            "<ipython-input-32-c19751b9669a>:2: SettingWithCopyWarning: \n",
            "A value is trying to be set on a copy of a slice from a DataFrame.\n",
            "Try using .loc[row_indexer,col_indexer] = value instead\n",
            "\n",
            "See the caveats in the documentation: https://pandas.pydata.org/pandas-docs/stable/user_guide/indexing.html#returning-a-view-versus-a-copy\n",
            "  good_autos_data['IsRepaired'] = pd.to_numeric(good_autos_data['IsRepaired'], downcast='integer')\n",
            "<ipython-input-32-c19751b9669a>:3: SettingWithCopyWarning: \n",
            "A value is trying to be set on a copy of a slice from a DataFrame.\n",
            "Try using .loc[row_indexer,col_indexer] = value instead\n",
            "\n",
            "See the caveats in the documentation: https://pandas.pydata.org/pandas-docs/stable/user_guide/indexing.html#returning-a-view-versus-a-copy\n",
            "  good_autos_data['IsManualGearbox'] = pd.to_numeric(good_autos_data['IsManualGearbox'], downcast='integer')\n",
            "<ipython-input-32-c19751b9669a>:4: SettingWithCopyWarning: \n",
            "A value is trying to be set on a copy of a slice from a DataFrame.\n",
            "Try using .loc[row_indexer,col_indexer] = value instead\n",
            "\n",
            "See the caveats in the documentation: https://pandas.pydata.org/pandas-docs/stable/user_guide/indexing.html#returning-a-view-versus-a-copy\n",
            "  good_autos_data['RegistrationYear'] = pd.to_numeric(good_autos_data['RegistrationYear'], downcast='integer')\n",
            "<ipython-input-32-c19751b9669a>:5: SettingWithCopyWarning: \n",
            "A value is trying to be set on a copy of a slice from a DataFrame.\n",
            "Try using .loc[row_indexer,col_indexer] = value instead\n",
            "\n",
            "See the caveats in the documentation: https://pandas.pydata.org/pandas-docs/stable/user_guide/indexing.html#returning-a-view-versus-a-copy\n",
            "  good_autos_data['Power'] = pd.to_numeric(good_autos_data['Power'], downcast='integer')\n",
            "<ipython-input-32-c19751b9669a>:6: SettingWithCopyWarning: \n",
            "A value is trying to be set on a copy of a slice from a DataFrame.\n",
            "Try using .loc[row_indexer,col_indexer] = value instead\n",
            "\n",
            "See the caveats in the documentation: https://pandas.pydata.org/pandas-docs/stable/user_guide/indexing.html#returning-a-view-versus-a-copy\n",
            "  good_autos_data['Kilometer'] = pd.to_numeric(good_autos_data['Kilometer'], downcast='integer')\n",
            "<ipython-input-32-c19751b9669a>:7: SettingWithCopyWarning: \n",
            "A value is trying to be set on a copy of a slice from a DataFrame.\n",
            "Try using .loc[row_indexer,col_indexer] = value instead\n",
            "\n",
            "See the caveats in the documentation: https://pandas.pydata.org/pandas-docs/stable/user_guide/indexing.html#returning-a-view-versus-a-copy\n",
            "  good_autos_data['Price'] = pd.to_numeric(good_autos_data['Price'], downcast='integer')\n"
          ]
        },
        {
          "output_type": "stream",
          "name": "stdout",
          "text": [
            "<class 'pandas.core.frame.DataFrame'>\n",
            "Int64Index: 285179 entries, 1 to 354368\n",
            "Data columns (total 10 columns):\n",
            " #   Column            Non-Null Count   Dtype \n",
            "---  ------            --------------   ----- \n",
            " 0   VehicleType       285179 non-null  object\n",
            " 1   Power             285179 non-null  int16 \n",
            " 2   Kilometer         285179 non-null  int32 \n",
            " 3   FuelType          285179 non-null  object\n",
            " 4   Brand             285179 non-null  object\n",
            " 5   RegistrationYear  285179 non-null  int16 \n",
            " 6   Model             285179 non-null  object\n",
            " 7   Price             285179 non-null  int16 \n",
            " 8   IsManualGearbox   285179 non-null  int8  \n",
            " 9   IsRepaired        285179 non-null  int8  \n",
            "dtypes: int16(3), int32(1), int8(2), object(4)\n",
            "memory usage: 14.1+ MB\n"
          ]
        }
      ],
      "source": [
        "good_autos_data.drop(['Repaired','Gearbox'], inplace=True, axis=1)\n",
        "good_autos_data['IsRepaired'] = pd.to_numeric(good_autos_data['IsRepaired'], downcast='integer')\n",
        "good_autos_data['IsManualGearbox'] = pd.to_numeric(good_autos_data['IsManualGearbox'], downcast='integer')\n",
        "good_autos_data['RegistrationYear'] = pd.to_numeric(good_autos_data['RegistrationYear'], downcast='integer')\n",
        "good_autos_data['Power'] = pd.to_numeric(good_autos_data['Power'], downcast='integer')\n",
        "good_autos_data['Kilometer'] = pd.to_numeric(good_autos_data['Kilometer'], downcast='integer')\n",
        "good_autos_data['Price'] = pd.to_numeric(good_autos_data['Price'], downcast='integer')\n",
        "good_autos_data.info()"
      ]
    },
    {
      "cell_type": "code",
      "execution_count": null,
      "metadata": {
        "colab": {
          "base_uri": "https://localhost:8080/"
        },
        "id": "6DWmxjIeV8YK",
        "outputId": "66f44fb0-6aab-4bbc-8e97-1d966dc1dad8"
      },
      "outputs": [
        {
          "output_type": "stream",
          "name": "stdout",
          "text": [
            "Уменьшение использования памяти на 75.29%\n"
          ]
        }
      ],
      "source": [
        "print('Уменьшение использования памяти на {:.2%}'.format(1 - 10.7/43.3))"
      ]
    },
    {
      "cell_type": "markdown",
      "metadata": {
        "id": "DlWVnpJUV8YL"
      },
      "source": [
        "### Вывод по шагу 1.\n",
        "\n",
        "1. Была изучена таблица данных.\n",
        "2. Выведены аномальные и пропущенные значения.\n",
        "3. Отобраны небходимые столбцы для обучения модели.\n",
        "4. Заполнены пропуски в столбцах и удалены некорректные значения.\n",
        "5. Заменены два категориальных признака на численные.\n",
        "6. Выигрыш в памяти составляет 75%, что ускорит обращение к памяти при обучении модели."
      ]
    },
    {
      "cell_type": "markdown",
      "metadata": {
        "id": "Saa0YWtIV8YV"
      },
      "source": [
        "## Обучение моделей"
      ]
    },
    {
      "cell_type": "markdown",
      "metadata": {
        "id": "yd-K_31nV8YY"
      },
      "source": [
        "Выберем следующие регрессоры для обучения модели:\n",
        "\n",
        "1. LinearRegression\n",
        "2. DecisionTreeRegressor\n",
        "3. CatBoostRegressor\n",
        "4. LGBMRegressor\n",
        "\n",
        "В качестве метрики для всех моделей будем использовать MSE и в финальной таблице переведем в RMSE. Качество моделей будем проверять на кроссвалидации."
      ]
    },
    {
      "cell_type": "markdown",
      "metadata": {
        "id": "A19uI_7PV8Yb"
      },
      "source": [
        "# Разделим выборки"
      ]
    },
    {
      "cell_type": "code",
      "execution_count": null,
      "metadata": {
        "id": "RUXIRC8EV8Yb"
      },
      "outputs": [],
      "source": [
        "#выделяю признаки и целевой признак:\n",
        "features_orig = good_autos_data.drop(['Price'], axis = 1) #извлекаю признак\n",
        "target = good_autos_data['Price'] #целевой признак"
      ]
    },
    {
      "cell_type": "code",
      "execution_count": null,
      "metadata": {
        "id": "FY4vpl5zV8Yc"
      },
      "outputs": [],
      "source": [
        "#разделяю на выборки:\n",
        "features_train, features_test, target_train, target_test = train_test_split(features_orig,\n",
        "                                                                            target,\n",
        "                                                                            test_size=.25,\n",
        "                                                                            random_state=12345)"
      ]
    },
    {
      "cell_type": "code",
      "execution_count": null,
      "metadata": {
        "colab": {
          "base_uri": "https://localhost:8080/"
        },
        "id": "E1ZVCfwBxO8j",
        "outputId": "75489567-23e3-49f0-ad8e-3a72f2d08eef"
      },
      "outputs": [
        {
          "output_type": "stream",
          "name": "stdout",
          "text": [
            "Collecting category_encoders\n",
            "  Downloading category_encoders-2.6.1-py2.py3-none-any.whl (81 kB)\n",
            "\u001b[2K     \u001b[90m━━━━━━━━━━━━━━━━━━━━━━━━━━━━━━━━━━━━━━━━\u001b[0m \u001b[32m81.9/81.9 kB\u001b[0m \u001b[31m1.5 MB/s\u001b[0m eta \u001b[36m0:00:00\u001b[0m\n",
            "\u001b[?25hRequirement already satisfied: numpy>=1.14.0 in /usr/local/lib/python3.10/dist-packages (from category_encoders) (1.22.4)\n",
            "Requirement already satisfied: scikit-learn>=0.20.0 in /usr/local/lib/python3.10/dist-packages (from category_encoders) (1.2.2)\n",
            "Requirement already satisfied: scipy>=1.0.0 in /usr/local/lib/python3.10/dist-packages (from category_encoders) (1.10.1)\n",
            "Requirement already satisfied: statsmodels>=0.9.0 in /usr/local/lib/python3.10/dist-packages (from category_encoders) (0.13.5)\n",
            "Requirement already satisfied: pandas>=1.0.5 in /usr/local/lib/python3.10/dist-packages (from category_encoders) (1.5.3)\n",
            "Requirement already satisfied: patsy>=0.5.1 in /usr/local/lib/python3.10/dist-packages (from category_encoders) (0.5.3)\n",
            "Requirement already satisfied: python-dateutil>=2.8.1 in /usr/local/lib/python3.10/dist-packages (from pandas>=1.0.5->category_encoders) (2.8.2)\n",
            "Requirement already satisfied: pytz>=2020.1 in /usr/local/lib/python3.10/dist-packages (from pandas>=1.0.5->category_encoders) (2022.7.1)\n",
            "Requirement already satisfied: six in /usr/local/lib/python3.10/dist-packages (from patsy>=0.5.1->category_encoders) (1.16.0)\n",
            "Requirement already satisfied: joblib>=1.1.1 in /usr/local/lib/python3.10/dist-packages (from scikit-learn>=0.20.0->category_encoders) (1.3.1)\n",
            "Requirement already satisfied: threadpoolctl>=2.0.0 in /usr/local/lib/python3.10/dist-packages (from scikit-learn>=0.20.0->category_encoders) (3.2.0)\n",
            "Requirement already satisfied: packaging>=21.3 in /usr/local/lib/python3.10/dist-packages (from statsmodels>=0.9.0->category_encoders) (23.1)\n",
            "Installing collected packages: category_encoders\n",
            "Successfully installed category_encoders-2.6.1\n"
          ]
        }
      ],
      "source": [
        "!pip install category_encoders"
      ]
    },
    {
      "cell_type": "code",
      "execution_count": null,
      "metadata": {
        "id": "GZQO-kKuV8Ym"
      },
      "outputs": [],
      "source": [
        "from sklearn.preprocessing import OneHotEncoder\n",
        "from category_encoders.m_estimate import MEstimateEncoder\n",
        "\n",
        "\n",
        "\n",
        "#кодирую признаки через OHE:\n",
        "endcoder_1 = OneHotEncoder()\n",
        "endcoder_2 = MEstimateEncoder()\n",
        "\n",
        "endcoder_1.fit(features_orig[['VehicleType','FuelType']])\n",
        "endcoder_2.fit(features_orig[['Model','Brand']], y=target)\n",
        "\n",
        "features_train_oh = endcoder_1.transform(features_train[['VehicleType','FuelType']])\n",
        "features_train_m = endcoder_2.transform(X=features_train[['Model','Brand']])\n",
        "\n",
        "features_test_oh = endcoder_1.transform(features_test[['VehicleType','FuelType']])\n",
        "features_test_m = endcoder_2.transform(X=features_test[['Model','Brand']])\n",
        "\n",
        "features_train_cat = pd.concat([pd.DataFrame.sparse.from_spmatrix(features_train_oh).reset_index(), features_train_m.reset_index()], ignore_index = True, axis=1)\n",
        "features_test_cat = pd.concat([pd.DataFrame.sparse.from_spmatrix(features_test_oh).reset_index(), features_test_m.reset_index()], ignore_index = True, axis=1)\n"
      ]
    },
    {
      "cell_type": "code",
      "execution_count": null,
      "metadata": {
        "colab": {
          "base_uri": "https://localhost:8080/"
        },
        "id": "E8mAUCs4V8Yt",
        "outputId": "03e5d5cb-294a-4f86-b2f8-268609b63b81"
      },
      "outputs": [
        {
          "output_type": "stream",
          "name": "stdout",
          "text": [
            "(213884, 25)\n",
            "(71295, 25)\n",
            "(213884,)\n",
            "(71295,)\n",
            "\n",
            "(213884, 9)\n",
            "(71295, 9)\n",
            "(213884,)\n",
            "(71295,)\n"
          ]
        }
      ],
      "source": [
        "#смотрю размеры выборок:\n",
        "for i in [features_train_cat, features_test_cat, target_train, target_test]:\n",
        "    print(i.shape)\n",
        "\n",
        "print()\n",
        "\n",
        "for i in [features_train, features_test, target_train, target_test]:\n",
        "    print(i.shape)"
      ]
    },
    {
      "cell_type": "markdown",
      "metadata": {
        "id": "c1-LXOQRV8Y1"
      },
      "source": [
        "### Модель LinearRegression"
      ]
    },
    {
      "cell_type": "markdown",
      "metadata": {
        "id": "XZhT-UEFV8Y2"
      },
      "source": [
        "#### На выборках c OneHotEncoder\n"
      ]
    },
    {
      "cell_type": "code",
      "execution_count": null,
      "metadata": {
        "id": "3iYbMRFoPPrY"
      },
      "outputs": [],
      "source": [
        "scaler = StandardScaler()\n",
        "\n",
        "scaler.fit(features_orig[['Power', 'Kilometer', 'RegistrationYear']])\n",
        "\n",
        "features_train_numeric = pd.DataFrame(scaler.transform(features_train[['Power', 'Kilometer', 'RegistrationYear']]))\n",
        "features_test_numeric = pd.DataFrame(scaler.transform(features_test[['Power', 'Kilometer', 'RegistrationYear']]))\n",
        "\n",
        "features_train_con = pd.concat([features_train_numeric.reset_index(), features_train_cat.reset_index()], ignore_index = True, axis=1)\n",
        "features_test_con = pd.concat([features_test_numeric.reset_index(), features_test_cat.reset_index()], ignore_index = True, axis=1)"
      ]
    },
    {
      "cell_type": "code",
      "execution_count": null,
      "metadata": {
        "colab": {
          "base_uri": "https://localhost:8080/"
        },
        "id": "rLG82aVuV8Y2",
        "outputId": "53a2f798-02f6-4b79-a8e7-1ded13acc66d"
      },
      "outputs": [
        {
          "output_type": "stream",
          "name": "stderr",
          "text": [
            "/usr/local/lib/python3.10/dist-packages/sklearn/utils/validation.py:768: UserWarning: pandas.DataFrame with sparse columns found.It will be converted to a dense numpy array.\n",
            "  warnings.warn(\n"
          ]
        },
        {
          "output_type": "stream",
          "name": "stdout",
          "text": [
            "Время обучения LinearRegression OHE: 1.3285627365112305 секунд\n"
          ]
        }
      ],
      "source": [
        "start_time = time.time()\n",
        "\n",
        "model_lr = LinearRegression()\n",
        "model_lr.fit(features_train_con, target_train)\n",
        "\n",
        "end_time = time.time()\n",
        "\n",
        "training_time_lr = end_time - start_time\n",
        "\n",
        "print(\"Время обучения LinearRegression OHE: %s секунд\" % training_time_lr)"
      ]
    },
    {
      "cell_type": "code",
      "execution_count": null,
      "metadata": {
        "colab": {
          "base_uri": "https://localhost:8080/"
        },
        "id": "Q5W6N22V-fly",
        "outputId": "e29d4b4e-388a-4a11-fc35-879533b84813"
      },
      "outputs": [
        {
          "output_type": "stream",
          "name": "stdout",
          "text": [
            "RMSE LinearRegression OHE: 2771.89\n"
          ]
        },
        {
          "output_type": "stream",
          "name": "stderr",
          "text": [
            "/usr/local/lib/python3.10/dist-packages/sklearn/utils/validation.py:768: UserWarning: pandas.DataFrame with sparse columns found.It will be converted to a dense numpy array.\n",
            "  warnings.warn(\n"
          ]
        }
      ],
      "source": [
        "start_time_predict = time.time()\n",
        "\n",
        "target_predict = model_lr.predict(features_test_con)\n",
        "\n",
        "end_time_predict = time.time()\n",
        "\n",
        "prediction_time_lr = end_time_predict - start_time_predict\n",
        "\n",
        "rmse_lr = mean_squared_error(target_test, target_predict) ** .5\n",
        "rmse_lr\n",
        "\n",
        "print(\"RMSE LinearRegression OHE: %.2f\" % rmse_lr)"
      ]
    },
    {
      "cell_type": "markdown",
      "metadata": {
        "id": "jevVsIc1V8ZH"
      },
      "source": [
        "#### C использованием кроссвалидации"
      ]
    },
    {
      "cell_type": "code",
      "execution_count": null,
      "metadata": {
        "colab": {
          "base_uri": "https://localhost:8080/"
        },
        "id": "mlyFWwB1V8ZI",
        "outputId": "1ebd7850-b890-4f5d-d2be-7b9d5ff7129c"
      },
      "outputs": [
        {
          "output_type": "stream",
          "name": "stdout",
          "text": [
            "CPU times: user 3.51 s, sys: 1.75 s, total: 5.25 s\n",
            "Wall time: 6.56 s\n"
          ]
        },
        {
          "output_type": "execute_result",
          "data": {
            "text/plain": [
              "4593.536699111464"
            ]
          },
          "metadata": {},
          "execution_count": 42
        }
      ],
      "source": [
        "%%time\n",
        "from sklearn.model_selection import cross_validate\n",
        "\n",
        "model_lr = LinearRegression()\n",
        "\n",
        "#mse доступна только как neg_mean_squared_error, которая возвращает массив отрицательных значений\n",
        "#поэтому на -1 умножаю:\n",
        "\n",
        "dataset_full = pd.concat([features_train_con.reset_index(), features_test_con.reset_index()], ignore_index=True).to_numpy()\n",
        "history = cross_validate(model_lr,dataset_full,target.to_numpy(),cv=5, scoring=\"neg_mean_squared_error\")\n",
        "(history['test_score'].mean()*-1)**0.5"
      ]
    },
    {
      "cell_type": "markdown",
      "metadata": {
        "id": "3-C-fB8ZV8ZN"
      },
      "source": [
        "### Модель CatBoostRegressor"
      ]
    },
    {
      "cell_type": "markdown",
      "metadata": {
        "id": "EUHvpGSPV8ZO"
      },
      "source": [
        "#### На выборках c OneHotEncoder"
      ]
    },
    {
      "cell_type": "code",
      "execution_count": null,
      "metadata": {
        "colab": {
          "base_uri": "https://localhost:8080/"
        },
        "id": "tKlDPBPHo4kd",
        "outputId": "0b86c13a-b883-47ea-946a-5df4c9d78fe6"
      },
      "outputs": [
        {
          "output_type": "stream",
          "name": "stdout",
          "text": [
            "Collecting catboost\n",
            "  Downloading catboost-1.2-cp310-cp310-manylinux2014_x86_64.whl (98.6 MB)\n",
            "\u001b[2K     \u001b[90m━━━━━━━━━━━━━━━━━━━━━━━━━━━━━━━━━━━━━━━━\u001b[0m \u001b[32m98.6/98.6 MB\u001b[0m \u001b[31m2.5 MB/s\u001b[0m eta \u001b[36m0:00:00\u001b[0m\n",
            "\u001b[?25hRequirement already satisfied: graphviz in /usr/local/lib/python3.10/dist-packages (from catboost) (0.20.1)\n",
            "Requirement already satisfied: matplotlib in /usr/local/lib/python3.10/dist-packages (from catboost) (3.7.1)\n",
            "Requirement already satisfied: numpy>=1.16.0 in /usr/local/lib/python3.10/dist-packages (from catboost) (1.22.4)\n",
            "Requirement already satisfied: pandas>=0.24 in /usr/local/lib/python3.10/dist-packages (from catboost) (1.5.3)\n",
            "Requirement already satisfied: scipy in /usr/local/lib/python3.10/dist-packages (from catboost) (1.10.1)\n",
            "Requirement already satisfied: plotly in /usr/local/lib/python3.10/dist-packages (from catboost) (5.13.1)\n",
            "Requirement already satisfied: six in /usr/local/lib/python3.10/dist-packages (from catboost) (1.16.0)\n",
            "Requirement already satisfied: python-dateutil>=2.8.1 in /usr/local/lib/python3.10/dist-packages (from pandas>=0.24->catboost) (2.8.2)\n",
            "Requirement already satisfied: pytz>=2020.1 in /usr/local/lib/python3.10/dist-packages (from pandas>=0.24->catboost) (2022.7.1)\n",
            "Requirement already satisfied: contourpy>=1.0.1 in /usr/local/lib/python3.10/dist-packages (from matplotlib->catboost) (1.1.0)\n",
            "Requirement already satisfied: cycler>=0.10 in /usr/local/lib/python3.10/dist-packages (from matplotlib->catboost) (0.11.0)\n",
            "Requirement already satisfied: fonttools>=4.22.0 in /usr/local/lib/python3.10/dist-packages (from matplotlib->catboost) (4.41.1)\n",
            "Requirement already satisfied: kiwisolver>=1.0.1 in /usr/local/lib/python3.10/dist-packages (from matplotlib->catboost) (1.4.4)\n",
            "Requirement already satisfied: packaging>=20.0 in /usr/local/lib/python3.10/dist-packages (from matplotlib->catboost) (23.1)\n",
            "Requirement already satisfied: pillow>=6.2.0 in /usr/local/lib/python3.10/dist-packages (from matplotlib->catboost) (9.4.0)\n",
            "Requirement already satisfied: pyparsing>=2.3.1 in /usr/local/lib/python3.10/dist-packages (from matplotlib->catboost) (3.1.0)\n",
            "Requirement already satisfied: tenacity>=6.2.0 in /usr/local/lib/python3.10/dist-packages (from plotly->catboost) (8.2.2)\n",
            "Installing collected packages: catboost\n",
            "Successfully installed catboost-1.2\n"
          ]
        }
      ],
      "source": [
        "!pip install catboost"
      ]
    },
    {
      "cell_type": "code",
      "execution_count": null,
      "metadata": {
        "colab": {
          "base_uri": "https://localhost:8080/"
        },
        "id": "baavMzt9V8ZY",
        "outputId": "f251c258-569b-4770-b143-7502c34dbc67"
      },
      "outputs": [
        {
          "output_type": "stream",
          "name": "stdout",
          "text": [
            "{'learning_rate': 0.001, 'random_state': 12345, 'verbose': False}\n",
            "CPU times: user 12min 19s, sys: 16.2 s, total: 12min 36s\n",
            "Wall time: 8min 1s\n"
          ]
        },
        {
          "output_type": "execute_result",
          "data": {
            "text/plain": [
              "4585.900311939791"
            ]
          },
          "metadata": {},
          "execution_count": 44
        }
      ],
      "source": [
        "%%time\n",
        "from catboost import CatBoostRegressor\n",
        "\n",
        "model_cbr = CatBoostRegressor()\n",
        "parameters = [{'learning_rate':[.001, .05], 'random_state':[12345], 'verbose':[False]}]\n",
        "\n",
        "gscv = GridSearchCV(model_cbr, parameters, scoring='neg_mean_squared_error')\n",
        "gscv.fit(pd.concat([pd.concat([features_train_numeric.reset_index(), features_test_numeric.reset_index()], ignore_index=True).reset_index(), pd.concat([features_train_cat.reset_index(), features_test_cat.reset_index()], ignore_index=True).reset_index()], ignore_index=True, axis=1), target)\n",
        "\n",
        "print(gscv.best_params_)\n",
        "\n",
        "mts = gscv.cv_results_['mean_test_score']\n",
        "\n",
        "gscv_rsme_cbr = (max(mts) * -1) ** .5\n",
        "gscv_rsme_cbr"
      ]
    },
    {
      "cell_type": "code",
      "execution_count": null,
      "metadata": {
        "colab": {
          "base_uri": "https://localhost:8080/"
        },
        "id": "fmbKC7iHV8Ze",
        "outputId": "4ed41899-fb23-4619-bc59-c04386af849c"
      },
      "outputs": [
        {
          "output_type": "stream",
          "name": "stdout",
          "text": [
            "Время обучения CatBoostRegressor: 38.76447868347168 секунд\n"
          ]
        }
      ],
      "source": [
        "start_time = time.time()\n",
        "\n",
        "model_cbr = CatBoostRegressor(learning_rate=.001, random_state=12345, verbose=False) #подставил лучшие параметры\n",
        "model_cbr.fit(features_train_con, target_train)\n",
        "\n",
        "end_time = time.time()\n",
        "training_time_cbr = end_time - start_time\n",
        "\n",
        "# Время обучения модели CatBoostRegressor\n",
        "print(\"Время обучения CatBoostRegressor: %s секунд\" % training_time_cbr)"
      ]
    },
    {
      "cell_type": "code",
      "execution_count": null,
      "metadata": {
        "colab": {
          "base_uri": "https://localhost:8080/"
        },
        "id": "h6-8Kgn-V8Zg",
        "outputId": "c6319a17-e0f8-486f-aa83-12a0a9f203a1"
      },
      "outputs": [
        {
          "output_type": "stream",
          "name": "stdout",
          "text": [
            "Время обучения CatBoostRegressor: 39.22766661643982 секунд\n"
          ]
        }
      ],
      "source": [
        "start_time = time.time()\n",
        "\n",
        "model_cbr.fit(features_train_con, target_train)\n",
        "target_predict = model_cbr.predict(features_train_con)\n",
        "\n",
        "end_time = time.time()\n",
        "prediction_time_cbr = end_time - start_time\n",
        "\n",
        "# Время предсказания модели CatBoostRegressor\n",
        "print(\"Время обучения CatBoostRegressor: %s секунд\" % prediction_time_cbr)"
      ]
    },
    {
      "cell_type": "code",
      "execution_count": null,
      "metadata": {
        "colab": {
          "base_uri": "https://localhost:8080/"
        },
        "id": "mYi9E-JVV8Zh",
        "outputId": "967c3d27-5157-41a6-b9d6-7f8cdfab3515"
      },
      "outputs": [
        {
          "output_type": "stream",
          "name": "stdout",
          "text": [
            "RMSE CatBoostRegressor OHE: 2762.03\n"
          ]
        }
      ],
      "source": [
        "# Оценка качества модели CatBoostRegressor\n",
        "rmse_cbr = mean_squared_error(target_train, target_predict) ** .5\n",
        "rmse_cbr\n",
        "\n",
        "print(\"RMSE CatBoostRegressor OHE: %.2f\" % rmse_cbr)"
      ]
    },
    {
      "cell_type": "markdown",
      "metadata": {
        "id": "pnN2SsKQV8Zq"
      },
      "source": [
        "#### На выборках без кодировки"
      ]
    },
    {
      "cell_type": "code",
      "execution_count": null,
      "metadata": {
        "colab": {
          "base_uri": "https://localhost:8080/"
        },
        "id": "grwh6SA-V8Zq",
        "outputId": "260be709-7486-4065-b974-fcf5f470382c"
      },
      "outputs": [
        {
          "output_type": "stream",
          "name": "stdout",
          "text": [
            "Время обучения CatBoostRegressor Without: 39.0954647064209 секунд\n"
          ]
        }
      ],
      "source": [
        "start_time = time.time()\n",
        "\n",
        "model_cbr_ncd = CatBoostRegressor(learning_rate=.5, iterations=200, random_state=12345, verbose=False,\n",
        "                              cat_features=['VehicleType','FuelType','Brand','Model'])\n",
        "\n",
        "model_cbr_ncd.fit(features_train, target_train)\n",
        "\n",
        "end_time = time.time()\n",
        "training_time_cbr_ncd = end_time - start_time\n",
        "\n",
        "# Время обучения модели CatBoostRegressor Without\n",
        "print(\"Время обучения CatBoostRegressor Without: %s секунд\" % training_time_cbr_ncd)"
      ]
    },
    {
      "cell_type": "code",
      "execution_count": null,
      "metadata": {
        "colab": {
          "base_uri": "https://localhost:8080/"
        },
        "id": "Yjdu-H4rV8Zr",
        "outputId": "91541da7-c5cf-4ed6-df69-014182bcd603"
      },
      "outputs": [
        {
          "output_type": "stream",
          "name": "stdout",
          "text": [
            "Время обучения CatBoostRegressor Without: 0.08074808120727539 секунд\n"
          ]
        }
      ],
      "source": [
        "start_time = time.time()\n",
        "\n",
        "target_predict = model_cbr.predict(features_test_con)\n",
        "\n",
        "end_time = time.time()\n",
        "prediction_time_cbr_ncd = end_time - start_time\n",
        "\n",
        "# Время предсказания модели CatBoostRegressor without\n",
        "print(\"Время обучения CatBoostRegressor Without: %s секунд\" % prediction_time_cbr_ncd)"
      ]
    },
    {
      "cell_type": "code",
      "execution_count": null,
      "metadata": {
        "colab": {
          "base_uri": "https://localhost:8080/"
        },
        "id": "MlRmbmLbV8Zs",
        "outputId": "da294afe-68cb-4379-9b27-fbd314a9f5e7"
      },
      "outputs": [
        {
          "output_type": "stream",
          "name": "stdout",
          "text": [
            "RMSE CatBoostRegressor WT: 2766.62\n"
          ]
        }
      ],
      "source": [
        "# Оценка качества модели CatBoostRegressor without\n",
        "rmse_cbr_ncd = mean_squared_error(target_test, target_predict) ** .5\n",
        "rmse_cbr_ncd\n",
        "print(\"RMSE CatBoostRegressor WT: %.2f\" % rmse_cbr_ncd)"
      ]
    },
    {
      "cell_type": "markdown",
      "metadata": {
        "id": "lZccHK-WV8Zt"
      },
      "source": [
        "### Модель LightGBMRegressor"
      ]
    },
    {
      "cell_type": "markdown",
      "metadata": {
        "id": "zVguaGzbV8Zu"
      },
      "source": [
        "#### На выборках c OneHotEncoder"
      ]
    },
    {
      "cell_type": "code",
      "execution_count": null,
      "metadata": {
        "colab": {
          "base_uri": "https://localhost:8080/"
        },
        "id": "AeeqiehxV8Zw",
        "outputId": "990e0465-5ca2-479c-8ad6-05edcbf94faf"
      },
      "outputs": [
        {
          "output_type": "stream",
          "name": "stdout",
          "text": [
            "{'learning_rate': 0.03, 'num_leaves': 200, 'random_state': 12345}\n",
            "\n",
            "CPU times: user 4min 5s, sys: 2.78 s, total: 4min 8s\n",
            "Wall time: 2min 41s\n"
          ]
        },
        {
          "output_type": "execute_result",
          "data": {
            "text/plain": [
              "1698.4686164195798"
            ]
          },
          "metadata": {},
          "execution_count": 51
        }
      ],
      "source": [
        "%%time\n",
        "\n",
        "model_lgbmr = LGBMRegressor()\n",
        "parameters = [{'num_leaves':[25, 50, 100, 200], 'learning_rate':[.001, .03], 'random_state':[12345]}]\n",
        "\n",
        "clf = GridSearchCV(model_lgbmr, parameters, scoring='neg_mean_squared_error')\n",
        "clf.fit(features_train_con, target_train)\n",
        "\n",
        "print(clf.best_params_)\n",
        "print()\n",
        "\n",
        "mts = clf.cv_results_['mean_test_score']\n",
        "\n",
        "rsme_lgbmr = (max(mts) * -1) ** .5\n",
        "rsme_lgbmr"
      ]
    },
    {
      "cell_type": "code",
      "execution_count": null,
      "metadata": {
        "colab": {
          "base_uri": "https://localhost:8080/"
        },
        "id": "O_Ms74OGV8Zx",
        "outputId": "1b16ccd3-11ad-4fec-d7a6-c3b9025c7fca"
      },
      "outputs": [
        {
          "output_type": "stream",
          "name": "stdout",
          "text": [
            "Время обучения lgbmr OHE: 2.4601948261260986 секунд\n"
          ]
        }
      ],
      "source": [
        "start_time = time.time()\n",
        "\n",
        "model_lgbmr = LGBMRegressor(learning_rate=.3, num_leaves=200, random_state=12345)\n",
        "model_lgbmr.fit(features_train_con, target_train)\n",
        "\n",
        "end_time = time.time()\n",
        "training_time_lgbmr = end_time - start_time\n",
        "\n",
        "# Время обучения модели lgbmr OHE\n",
        "print(\"Время обучения lgbmr OHE: %s секунд\" % training_time_lgbmr)"
      ]
    },
    {
      "cell_type": "code",
      "execution_count": null,
      "metadata": {
        "colab": {
          "base_uri": "https://localhost:8080/"
        },
        "id": "XZ6Bl0GrV8Z1",
        "outputId": "f089c840-0e00-4f1a-ad67-ac0e5ffe6eba"
      },
      "outputs": [
        {
          "output_type": "stream",
          "name": "stdout",
          "text": [
            "Время предсказания lgbmr: 0.40732479095458984 секунд\n"
          ]
        }
      ],
      "source": [
        "start_time = time.time()\n",
        "\n",
        "target_predict = model_lgbmr.predict(features_test_con)\n",
        "\n",
        "end_time = time.time()\n",
        "prediction_time_lgbmr = end_time - start_time\n",
        "\n",
        "# Время предсказания модели lgbmr\n",
        "print(\"Время предсказания lgbmr: %s секунд\" % prediction_time_lgbmr)"
      ]
    },
    {
      "cell_type": "code",
      "execution_count": null,
      "metadata": {
        "colab": {
          "base_uri": "https://localhost:8080/"
        },
        "id": "CU140ZGYV8Z2",
        "outputId": "f147dc70-ecab-4db9-b8dc-bcdc8e96c41b"
      },
      "outputs": [
        {
          "output_type": "stream",
          "name": "stdout",
          "text": [
            "RMSE lgbmr: 1639.92\n"
          ]
        }
      ],
      "source": [
        "# Оценка качества модели lgbmr\n",
        "rsme_lgbmr = mean_squared_error(target_test, target_predict) ** .5\n",
        "rsme_lgbmr\n",
        "print(\"RMSE lgbmr: %.2f\" % rsme_lgbmr)"
      ]
    },
    {
      "cell_type": "markdown",
      "metadata": {
        "id": "YPdBHatfV8Z-"
      },
      "source": [
        "### Выводы:\n",
        "1. Обучил 3 модели - линейную регрессию, CatBoostRegressor и LGBMRegressor - со сменой гиперпараметров и на разных выборках - изначальные, с обычной кодировкой и OHE.\n",
        "2. Часть моделей дали RMSE > 2500, поэтому финальный вывод буду делать только на моделях, которые дали RMSE < 2500"
      ]
    },
    {
      "cell_type": "markdown",
      "metadata": {
        "id": "_DoMLVQSV8Z_"
      },
      "source": [
        "## Выбор лучшей модели и ее тестирование"
      ]
    },
    {
      "cell_type": "code",
      "execution_count": null,
      "metadata": {
        "colab": {
          "base_uri": "https://localhost:8080/",
          "height": 175
        },
        "id": "orA2XM8-V8aA",
        "outputId": "c8f2a610-1bf9-4d6f-c240-7c53bec0c83f"
      },
      "outputs": [
        {
          "output_type": "execute_result",
          "data": {
            "text/plain": [
              "                                        RMSE  Время обучения модели  \\\n",
              "LGBMRegressor                    1639.922072               2.460195   \n",
              "Линейная регрессия               2771.891920               1.328563   \n",
              "CatBoostRegressor без кодировки  2766.615046              39.095465   \n",
              "CatBoostRegressor                2762.034572              38.764479   \n",
              "\n",
              "                                 Время предсказания модели     Рейтинг  \n",
              "LGBMRegressor                                     0.407325  558.519786  \n",
              "Линейная регрессия                                0.059314  942.901252  \n",
              "CatBoostRegressor без кодировки                   0.080748  953.577266  \n",
              "CatBoostRegressor                                39.227667  964.829162  "
            ],
            "text/html": [
              "\n",
              "\n",
              "  <div id=\"df-8ee7d103-2309-4021-98a2-8b706ff8a473\">\n",
              "    <div class=\"colab-df-container\">\n",
              "      <div>\n",
              "<style scoped>\n",
              "    .dataframe tbody tr th:only-of-type {\n",
              "        vertical-align: middle;\n",
              "    }\n",
              "\n",
              "    .dataframe tbody tr th {\n",
              "        vertical-align: top;\n",
              "    }\n",
              "\n",
              "    .dataframe thead th {\n",
              "        text-align: right;\n",
              "    }\n",
              "</style>\n",
              "<table border=\"1\" class=\"dataframe\">\n",
              "  <thead>\n",
              "    <tr style=\"text-align: right;\">\n",
              "      <th></th>\n",
              "      <th>RMSE</th>\n",
              "      <th>Время обучения модели</th>\n",
              "      <th>Время предсказания модели</th>\n",
              "      <th>Рейтинг</th>\n",
              "    </tr>\n",
              "  </thead>\n",
              "  <tbody>\n",
              "    <tr>\n",
              "      <th>LGBMRegressor</th>\n",
              "      <td>1639.922072</td>\n",
              "      <td>2.460195</td>\n",
              "      <td>0.407325</td>\n",
              "      <td>558.519786</td>\n",
              "    </tr>\n",
              "    <tr>\n",
              "      <th>Линейная регрессия</th>\n",
              "      <td>2771.891920</td>\n",
              "      <td>1.328563</td>\n",
              "      <td>0.059314</td>\n",
              "      <td>942.901252</td>\n",
              "    </tr>\n",
              "    <tr>\n",
              "      <th>CatBoostRegressor без кодировки</th>\n",
              "      <td>2766.615046</td>\n",
              "      <td>39.095465</td>\n",
              "      <td>0.080748</td>\n",
              "      <td>953.577266</td>\n",
              "    </tr>\n",
              "    <tr>\n",
              "      <th>CatBoostRegressor</th>\n",
              "      <td>2762.034572</td>\n",
              "      <td>38.764479</td>\n",
              "      <td>39.227667</td>\n",
              "      <td>964.829162</td>\n",
              "    </tr>\n",
              "  </tbody>\n",
              "</table>\n",
              "</div>\n",
              "      <button class=\"colab-df-convert\" onclick=\"convertToInteractive('df-8ee7d103-2309-4021-98a2-8b706ff8a473')\"\n",
              "              title=\"Convert this dataframe to an interactive table.\"\n",
              "              style=\"display:none;\">\n",
              "\n",
              "  <svg xmlns=\"http://www.w3.org/2000/svg\" height=\"24px\"viewBox=\"0 0 24 24\"\n",
              "       width=\"24px\">\n",
              "    <path d=\"M0 0h24v24H0V0z\" fill=\"none\"/>\n",
              "    <path d=\"M18.56 5.44l.94 2.06.94-2.06 2.06-.94-2.06-.94-.94-2.06-.94 2.06-2.06.94zm-11 1L8.5 8.5l.94-2.06 2.06-.94-2.06-.94L8.5 2.5l-.94 2.06-2.06.94zm10 10l.94 2.06.94-2.06 2.06-.94-2.06-.94-.94-2.06-.94 2.06-2.06.94z\"/><path d=\"M17.41 7.96l-1.37-1.37c-.4-.4-.92-.59-1.43-.59-.52 0-1.04.2-1.43.59L10.3 9.45l-7.72 7.72c-.78.78-.78 2.05 0 2.83L4 21.41c.39.39.9.59 1.41.59.51 0 1.02-.2 1.41-.59l7.78-7.78 2.81-2.81c.8-.78.8-2.07 0-2.86zM5.41 20L4 18.59l7.72-7.72 1.47 1.35L5.41 20z\"/>\n",
              "  </svg>\n",
              "      </button>\n",
              "\n",
              "\n",
              "\n",
              "    <div id=\"df-7cdaf40b-1f5f-45f0-b19a-f4bcdb2c092d\">\n",
              "      <button class=\"colab-df-quickchart\" onclick=\"quickchart('df-7cdaf40b-1f5f-45f0-b19a-f4bcdb2c092d')\"\n",
              "              title=\"Suggest charts.\"\n",
              "              style=\"display:none;\">\n",
              "\n",
              "<svg xmlns=\"http://www.w3.org/2000/svg\" height=\"24px\"viewBox=\"0 0 24 24\"\n",
              "     width=\"24px\">\n",
              "    <g>\n",
              "        <path d=\"M19 3H5c-1.1 0-2 .9-2 2v14c0 1.1.9 2 2 2h14c1.1 0 2-.9 2-2V5c0-1.1-.9-2-2-2zM9 17H7v-7h2v7zm4 0h-2V7h2v10zm4 0h-2v-4h2v4z\"/>\n",
              "    </g>\n",
              "</svg>\n",
              "      </button>\n",
              "    </div>\n",
              "\n",
              "<style>\n",
              "  .colab-df-quickchart {\n",
              "    background-color: #E8F0FE;\n",
              "    border: none;\n",
              "    border-radius: 50%;\n",
              "    cursor: pointer;\n",
              "    display: none;\n",
              "    fill: #1967D2;\n",
              "    height: 32px;\n",
              "    padding: 0 0 0 0;\n",
              "    width: 32px;\n",
              "  }\n",
              "\n",
              "  .colab-df-quickchart:hover {\n",
              "    background-color: #E2EBFA;\n",
              "    box-shadow: 0px 1px 2px rgba(60, 64, 67, 0.3), 0px 1px 3px 1px rgba(60, 64, 67, 0.15);\n",
              "    fill: #174EA6;\n",
              "  }\n",
              "\n",
              "  [theme=dark] .colab-df-quickchart {\n",
              "    background-color: #3B4455;\n",
              "    fill: #D2E3FC;\n",
              "  }\n",
              "\n",
              "  [theme=dark] .colab-df-quickchart:hover {\n",
              "    background-color: #434B5C;\n",
              "    box-shadow: 0px 1px 3px 1px rgba(0, 0, 0, 0.15);\n",
              "    filter: drop-shadow(0px 1px 2px rgba(0, 0, 0, 0.3));\n",
              "    fill: #FFFFFF;\n",
              "  }\n",
              "</style>\n",
              "\n",
              "    <script>\n",
              "      async function quickchart(key) {\n",
              "        const containerElement = document.querySelector('#' + key);\n",
              "        const charts = await google.colab.kernel.invokeFunction(\n",
              "            'suggestCharts', [key], {});\n",
              "      }\n",
              "    </script>\n",
              "\n",
              "      <script>\n",
              "\n",
              "function displayQuickchartButton(domScope) {\n",
              "  let quickchartButtonEl =\n",
              "    domScope.querySelector('#df-7cdaf40b-1f5f-45f0-b19a-f4bcdb2c092d button.colab-df-quickchart');\n",
              "  quickchartButtonEl.style.display =\n",
              "    google.colab.kernel.accessAllowed ? 'block' : 'none';\n",
              "}\n",
              "\n",
              "        displayQuickchartButton(document);\n",
              "      </script>\n",
              "      <style>\n",
              "    .colab-df-container {\n",
              "      display:flex;\n",
              "      flex-wrap:wrap;\n",
              "      gap: 12px;\n",
              "    }\n",
              "\n",
              "    .colab-df-convert {\n",
              "      background-color: #E8F0FE;\n",
              "      border: none;\n",
              "      border-radius: 50%;\n",
              "      cursor: pointer;\n",
              "      display: none;\n",
              "      fill: #1967D2;\n",
              "      height: 32px;\n",
              "      padding: 0 0 0 0;\n",
              "      width: 32px;\n",
              "    }\n",
              "\n",
              "    .colab-df-convert:hover {\n",
              "      background-color: #E2EBFA;\n",
              "      box-shadow: 0px 1px 2px rgba(60, 64, 67, 0.3), 0px 1px 3px 1px rgba(60, 64, 67, 0.15);\n",
              "      fill: #174EA6;\n",
              "    }\n",
              "\n",
              "    [theme=dark] .colab-df-convert {\n",
              "      background-color: #3B4455;\n",
              "      fill: #D2E3FC;\n",
              "    }\n",
              "\n",
              "    [theme=dark] .colab-df-convert:hover {\n",
              "      background-color: #434B5C;\n",
              "      box-shadow: 0px 1px 3px 1px rgba(0, 0, 0, 0.15);\n",
              "      filter: drop-shadow(0px 1px 2px rgba(0, 0, 0, 0.3));\n",
              "      fill: #FFFFFF;\n",
              "    }\n",
              "  </style>\n",
              "\n",
              "      <script>\n",
              "        const buttonEl =\n",
              "          document.querySelector('#df-8ee7d103-2309-4021-98a2-8b706ff8a473 button.colab-df-convert');\n",
              "        buttonEl.style.display =\n",
              "          google.colab.kernel.accessAllowed ? 'block' : 'none';\n",
              "\n",
              "        async function convertToInteractive(key) {\n",
              "          const element = document.querySelector('#df-8ee7d103-2309-4021-98a2-8b706ff8a473');\n",
              "          const dataTable =\n",
              "            await google.colab.kernel.invokeFunction('convertToInteractive',\n",
              "                                                     [key], {});\n",
              "          if (!dataTable) return;\n",
              "\n",
              "          const docLinkHtml = 'Like what you see? Visit the ' +\n",
              "            '<a target=\"_blank\" href=https://colab.research.google.com/notebooks/data_table.ipynb>data table notebook</a>'\n",
              "            + ' to learn more about interactive tables.';\n",
              "          element.innerHTML = '';\n",
              "          dataTable['output_type'] = 'display_data';\n",
              "          await google.colab.output.renderOutput(dataTable, element);\n",
              "          const docLink = document.createElement('div');\n",
              "          docLink.innerHTML = docLinkHtml;\n",
              "          element.appendChild(docLink);\n",
              "        }\n",
              "      </script>\n",
              "    </div>\n",
              "  </div>\n"
            ]
          },
          "metadata": {},
          "execution_count": 55
        }
      ],
      "source": [
        "#создаю сводную таблицу по показателям RMSE < 2500, время обучения модели и время предсказания модели:\n",
        "index = ['Линейная регрессия',\n",
        "         'CatBoostRegressor',\n",
        "         'CatBoostRegressor без кодировки',\n",
        "         'LGBMRegressor',\n",
        "        ]\n",
        "\n",
        "data = {'RMSE':[rmse_lr,\n",
        "                rmse_cbr,\n",
        "                rmse_cbr_ncd,\n",
        "                rsme_lgbmr],\n",
        "\n",
        "        'Время обучения модели':[training_time_lr,\n",
        "                                 training_time_cbr,\n",
        "                                 training_time_cbr_ncd,\n",
        "                                 training_time_lgbmr],\n",
        "\n",
        "        'Время предсказания модели':[prediction_time_lr,\n",
        "                                     prediction_time_cbr,\n",
        "                                     prediction_time_cbr_ncd,\n",
        "                                     prediction_time_lgbmr]\n",
        "       }\n",
        "\n",
        "kpi_data = pd.DataFrame(data=data, index=index)\n",
        "\n",
        "#ввожу столбец Рейтинг с весами:\n",
        "kpi_data['Рейтинг'] = (kpi_data['RMSE'] * .34 \\\n",
        "                       + kpi_data['Время обучения модели'] * .33 \\\n",
        "                       + kpi_data['Время предсказания модели'] * .33)\n",
        "\n",
        "kpi_data.sort_values(by = 'Рейтинг', ascending=True)"
      ]
    },
    {
      "cell_type": "markdown",
      "metadata": {
        "id": "zMGZuRF6V8aB"
      },
      "source": [
        "Промежуточный вывод:\n",
        "\n",
        "Лучшей моделью по RMSE, времени обучения модели, времени предсказания модели, если считать эти параметры одинаково важными для принятия решения, является LGBMRegressor с выборками c OHE.\n",
        "Аутсайдер рейтинга - модель CatBoostRegressor."
      ]
    },
    {
      "cell_type": "code",
      "execution_count": null,
      "metadata": {
        "id": "yclcyT3EeIUX"
      },
      "outputs": [],
      "source": [
        "features_ohe = pd.concat([features_test_cat.reset_index(), features_train_cat.reset_index()], ignore_index=True)"
      ]
    },
    {
      "cell_type": "code",
      "execution_count": null,
      "metadata": {
        "colab": {
          "base_uri": "https://localhost:8080/",
          "height": 227
        },
        "id": "S_cbSVKCV8aG",
        "outputId": "859e4d02-06f5-4155-bebd-9b587f46ca53"
      },
      "outputs": [
        {
          "output_type": "error",
          "ename": "NameError",
          "evalue": "ignored",
          "traceback": [
            "\u001b[0;31m---------------------------------------------------------------------------\u001b[0m",
            "\u001b[0;31mNameError\u001b[0m                                 Traceback (most recent call last)",
            "\u001b[0;32m<ipython-input-58-1d2e0fe0d680>\u001b[0m in \u001b[0;36m<cell line: 2>\u001b[0;34m()\u001b[0m\n\u001b[1;32m      1\u001b[0m \u001b[0;31m#смотрю размеры получившихся выборок:\u001b[0m\u001b[0;34m\u001b[0m\u001b[0;34m\u001b[0m\u001b[0m\n\u001b[0;32m----> 2\u001b[0;31m \u001b[0;32mfor\u001b[0m \u001b[0mi\u001b[0m \u001b[0;32min\u001b[0m \u001b[0;34m[\u001b[0m\u001b[0mfeatures_train_ohe\u001b[0m\u001b[0;34m,\u001b[0m \u001b[0mfeatures_valid_ohe\u001b[0m\u001b[0;34m,\u001b[0m \u001b[0mfeatures_test_ohe\u001b[0m\u001b[0;34m,\u001b[0m \u001b[0mtarget_train_ohe\u001b[0m\u001b[0;34m,\u001b[0m \u001b[0mtarget_valid_ohe\u001b[0m\u001b[0;34m,\u001b[0m \u001b[0mtarget_test_ohe\u001b[0m\u001b[0;34m]\u001b[0m\u001b[0;34m:\u001b[0m\u001b[0;34m\u001b[0m\u001b[0;34m\u001b[0m\u001b[0m\n\u001b[0m\u001b[1;32m      3\u001b[0m     \u001b[0mprint\u001b[0m\u001b[0;34m(\u001b[0m\u001b[0mi\u001b[0m\u001b[0;34m.\u001b[0m\u001b[0mshape\u001b[0m\u001b[0;34m)\u001b[0m\u001b[0;34m\u001b[0m\u001b[0;34m\u001b[0m\u001b[0m\n",
            "\u001b[0;31mNameError\u001b[0m: name 'features_train_ohe' is not defined"
          ]
        }
      ],
      "source": [
        "#смотрю размеры получившихся выборок:\n",
        "for i in [features_train_ohe, features_valid_ohe, features_test_ohe, target_train_ohe, target_valid_ohe, target_test_ohe]:\n",
        "    print(i.shape)"
      ]
    },
    {
      "cell_type": "code",
      "execution_count": null,
      "metadata": {
        "id": "i26v3ZN7V8aJ"
      },
      "outputs": [],
      "source": [
        "%%time\n",
        "\n",
        "model_lgbmr = LGBMRegressor(learning_rate=.03, num_leaves=200, random_state=12345)\n",
        "model_lgbmr.fit(features_train_ohe, target_train_ohe)"
      ]
    },
    {
      "cell_type": "code",
      "execution_count": null,
      "metadata": {
        "colab": {
          "base_uri": "https://localhost:8080/"
        },
        "id": "9c2pCGwQV8aL",
        "outputId": "b0de9a2b-fe1f-4e65-ce58-7d0dab0d7b46"
      },
      "outputs": [
        {
          "name": "stdout",
          "output_type": "stream",
          "text": [
            "CPU times: user 525 ms, sys: 900 µs, total: 526 ms\n",
            "Wall time: 287 ms\n"
          ]
        }
      ],
      "source": [
        "%%time\n",
        "\n",
        "target_predict_ohe = model_lgbmr.predict(features_valid_ohe)"
      ]
    },
    {
      "cell_type": "code",
      "execution_count": null,
      "metadata": {
        "colab": {
          "base_uri": "https://localhost:8080/"
        },
        "id": "4JlofMeEV8aM",
        "outputId": "c70ab77c-8935-4d5f-b487-9ea43aa63662"
      },
      "outputs": [
        {
          "data": {
            "text/plain": [
              "4593.877901788923"
            ]
          },
          "execution_count": 139,
          "metadata": {},
          "output_type": "execute_result"
        }
      ],
      "source": [
        "rsme_lgbmr_ohe = mean_squared_error(target_valid_ohe, target_predict_ohe) ** .5\n",
        "rsme_lgbmr_ohe"
      ]
    },
    {
      "cell_type": "code",
      "execution_count": null,
      "metadata": {
        "colab": {
          "base_uri": "https://localhost:8080/",
          "height": 112
        },
        "id": "CoSh7rPWV8aN",
        "outputId": "2f7c1dc9-2547-429a-849e-e97aa22c6405"
      },
      "outputs": [
        {
          "name": "stdout",
          "output_type": "stream",
          "text": [
            "CPU times: user 7.95 s, sys: 64.9 ms, total: 8.02 s\n",
            "Wall time: 8.75 s\n"
          ]
        },
        {
          "data": {
            "text/html": [
              "<style>#sk-container-id-4 {color: black;background-color: white;}#sk-container-id-4 pre{padding: 0;}#sk-container-id-4 div.sk-toggleable {background-color: white;}#sk-container-id-4 label.sk-toggleable__label {cursor: pointer;display: block;width: 100%;margin-bottom: 0;padding: 0.3em;box-sizing: border-box;text-align: center;}#sk-container-id-4 label.sk-toggleable__label-arrow:before {content: \"▸\";float: left;margin-right: 0.25em;color: #696969;}#sk-container-id-4 label.sk-toggleable__label-arrow:hover:before {color: black;}#sk-container-id-4 div.sk-estimator:hover label.sk-toggleable__label-arrow:before {color: black;}#sk-container-id-4 div.sk-toggleable__content {max-height: 0;max-width: 0;overflow: hidden;text-align: left;background-color: #f0f8ff;}#sk-container-id-4 div.sk-toggleable__content pre {margin: 0.2em;color: black;border-radius: 0.25em;background-color: #f0f8ff;}#sk-container-id-4 input.sk-toggleable__control:checked~div.sk-toggleable__content {max-height: 200px;max-width: 100%;overflow: auto;}#sk-container-id-4 input.sk-toggleable__control:checked~label.sk-toggleable__label-arrow:before {content: \"▾\";}#sk-container-id-4 div.sk-estimator input.sk-toggleable__control:checked~label.sk-toggleable__label {background-color: #d4ebff;}#sk-container-id-4 div.sk-label input.sk-toggleable__control:checked~label.sk-toggleable__label {background-color: #d4ebff;}#sk-container-id-4 input.sk-hidden--visually {border: 0;clip: rect(1px 1px 1px 1px);clip: rect(1px, 1px, 1px, 1px);height: 1px;margin: -1px;overflow: hidden;padding: 0;position: absolute;width: 1px;}#sk-container-id-4 div.sk-estimator {font-family: monospace;background-color: #f0f8ff;border: 1px dotted black;border-radius: 0.25em;box-sizing: border-box;margin-bottom: 0.5em;}#sk-container-id-4 div.sk-estimator:hover {background-color: #d4ebff;}#sk-container-id-4 div.sk-parallel-item::after {content: \"\";width: 100%;border-bottom: 1px solid gray;flex-grow: 1;}#sk-container-id-4 div.sk-label:hover label.sk-toggleable__label {background-color: #d4ebff;}#sk-container-id-4 div.sk-serial::before {content: \"\";position: absolute;border-left: 1px solid gray;box-sizing: border-box;top: 0;bottom: 0;left: 50%;z-index: 0;}#sk-container-id-4 div.sk-serial {display: flex;flex-direction: column;align-items: center;background-color: white;padding-right: 0.2em;padding-left: 0.2em;position: relative;}#sk-container-id-4 div.sk-item {position: relative;z-index: 1;}#sk-container-id-4 div.sk-parallel {display: flex;align-items: stretch;justify-content: center;background-color: white;position: relative;}#sk-container-id-4 div.sk-item::before, #sk-container-id-4 div.sk-parallel-item::before {content: \"\";position: absolute;border-left: 1px solid gray;box-sizing: border-box;top: 0;bottom: 0;left: 50%;z-index: -1;}#sk-container-id-4 div.sk-parallel-item {display: flex;flex-direction: column;z-index: 1;position: relative;background-color: white;}#sk-container-id-4 div.sk-parallel-item:first-child::after {align-self: flex-end;width: 50%;}#sk-container-id-4 div.sk-parallel-item:last-child::after {align-self: flex-start;width: 50%;}#sk-container-id-4 div.sk-parallel-item:only-child::after {width: 0;}#sk-container-id-4 div.sk-dashed-wrapped {border: 1px dashed gray;margin: 0 0.4em 0.5em 0.4em;box-sizing: border-box;padding-bottom: 0.4em;background-color: white;}#sk-container-id-4 div.sk-label label {font-family: monospace;font-weight: bold;display: inline-block;line-height: 1.2em;}#sk-container-id-4 div.sk-label-container {text-align: center;}#sk-container-id-4 div.sk-container {/* jupyter's `normalize.less` sets `[hidden] { display: none; }` but bootstrap.min.css set `[hidden] { display: none !important; }` so we also need the `!important` here to be able to override the default hidden behavior on the sphinx rendered scikit-learn.org. See: https://github.com/scikit-learn/scikit-learn/issues/21755 */display: inline-block !important;position: relative;}#sk-container-id-4 div.sk-text-repr-fallback {display: none;}</style><div id=\"sk-container-id-4\" class=\"sk-top-container\"><div class=\"sk-text-repr-fallback\"><pre>LGBMRegressor(learning_rate=0.03, num_leaves=200, random_state=12345)</pre><b>In a Jupyter environment, please rerun this cell to show the HTML representation or trust the notebook. <br />On GitHub, the HTML representation is unable to render, please try loading this page with nbviewer.org.</b></div><div class=\"sk-container\" hidden><div class=\"sk-item\"><div class=\"sk-estimator sk-toggleable\"><input class=\"sk-toggleable__control sk-hidden--visually\" id=\"sk-estimator-id-4\" type=\"checkbox\" checked><label for=\"sk-estimator-id-4\" class=\"sk-toggleable__label sk-toggleable__label-arrow\">LGBMRegressor</label><div class=\"sk-toggleable__content\"><pre>LGBMRegressor(learning_rate=0.03, num_leaves=200, random_state=12345)</pre></div></div></div></div></div>"
            ],
            "text/plain": [
              "LGBMRegressor(learning_rate=0.03, num_leaves=200, random_state=12345)"
            ]
          },
          "execution_count": 134,
          "metadata": {},
          "output_type": "execute_result"
        }
      ],
      "source": [
        "%%time\n",
        "\n",
        "#проверяю качество модели на тестовой выборке:\n",
        "model_lgbmr = LGBMRegressor(learning_rate=.03, num_leaves=200, random_state=12345)\n",
        "model_lgbmr.fit(features_train_ohe, target_train_ohe)"
      ]
    },
    {
      "cell_type": "code",
      "execution_count": null,
      "metadata": {
        "colab": {
          "base_uri": "https://localhost:8080/"
        },
        "id": "z01Kt_bBV8aO",
        "outputId": "72abdff1-ee1b-4f92-b5ad-31d58a5afbde"
      },
      "outputs": [
        {
          "name": "stdout",
          "output_type": "stream",
          "text": [
            "CPU times: user 523 ms, sys: 0 ns, total: 523 ms\n",
            "Wall time: 278 ms\n"
          ]
        }
      ],
      "source": [
        "%%time\n",
        "\n",
        "target_predict_ohe = model_lgbmr.predict(features_test_ohe)"
      ]
    },
    {
      "cell_type": "code",
      "execution_count": null,
      "metadata": {
        "colab": {
          "base_uri": "https://localhost:8080/"
        },
        "id": "AnxcpD46V8aP",
        "outputId": "5fbbbaae-622c-4061-a790-f9d86c57d61a"
      },
      "outputs": [
        {
          "data": {
            "text/plain": [
              "4611.421556453172"
            ]
          },
          "execution_count": 136,
          "metadata": {},
          "output_type": "execute_result"
        }
      ],
      "source": [
        "final_rsme_lgbmr_ohe = mean_squared_error(target_test_ohe, target_predict_ohe) ** .5\n",
        "final_rsme_lgbmr_ohe"
      ]
    },
    {
      "cell_type": "code",
      "execution_count": null,
      "metadata": {
        "colab": {
          "base_uri": "https://localhost:8080/",
          "height": 206
        },
        "id": "9voSShtFV8aR",
        "outputId": "5391fde3-48ad-4dd3-9ce9-44947c8f0fef"
      },
      "outputs": [
        {
          "data": {
            "text/html": [
              "\n",
              "\n",
              "  <div id=\"df-f5bd7707-c905-4087-af6e-b8a158ba47aa\">\n",
              "    <div class=\"colab-df-container\">\n",
              "      <div>\n",
              "<style scoped>\n",
              "    .dataframe tbody tr th:only-of-type {\n",
              "        vertical-align: middle;\n",
              "    }\n",
              "\n",
              "    .dataframe tbody tr th {\n",
              "        vertical-align: top;\n",
              "    }\n",
              "\n",
              "    .dataframe thead th {\n",
              "        text-align: right;\n",
              "    }\n",
              "</style>\n",
              "<table border=\"1\" class=\"dataframe\">\n",
              "  <thead>\n",
              "    <tr style=\"text-align: right;\">\n",
              "      <th></th>\n",
              "      <th>RMSE</th>\n",
              "      <th>Время обучения модели</th>\n",
              "      <th>Время предсказания модели</th>\n",
              "      <th>Рейтинг</th>\n",
              "    </tr>\n",
              "  </thead>\n",
              "  <tbody>\n",
              "    <tr>\n",
              "      <th>LGBMRegressor</th>\n",
              "      <td>1639.922072</td>\n",
              "      <td>2.485982</td>\n",
              "      <td>1.176027</td>\n",
              "      <td>558.781968</td>\n",
              "    </tr>\n",
              "    <tr>\n",
              "      <th>Линейная регрессия</th>\n",
              "      <td>2771.891920</td>\n",
              "      <td>0.696456</td>\n",
              "      <td>0.019191</td>\n",
              "      <td>942.679416</td>\n",
              "    </tr>\n",
              "    <tr>\n",
              "      <th>CatBoostRegressor без кодировки</th>\n",
              "      <td>2766.615046</td>\n",
              "      <td>38.285247</td>\n",
              "      <td>0.077595</td>\n",
              "      <td>953.308854</td>\n",
              "    </tr>\n",
              "    <tr>\n",
              "      <th>CatBoostRegressor</th>\n",
              "      <td>2766.615046</td>\n",
              "      <td>42.498507</td>\n",
              "      <td>0.192667</td>\n",
              "      <td>954.737203</td>\n",
              "    </tr>\n",
              "    <tr>\n",
              "      <th>Финальные данные на лучшей модели</th>\n",
              "      <td>4611.421556</td>\n",
              "      <td>9.340000</td>\n",
              "      <td>1.500000</td>\n",
              "      <td>1571.734429</td>\n",
              "    </tr>\n",
              "  </tbody>\n",
              "</table>\n",
              "</div>\n",
              "      <button class=\"colab-df-convert\" onclick=\"convertToInteractive('df-f5bd7707-c905-4087-af6e-b8a158ba47aa')\"\n",
              "              title=\"Convert this dataframe to an interactive table.\"\n",
              "              style=\"display:none;\">\n",
              "\n",
              "  <svg xmlns=\"http://www.w3.org/2000/svg\" height=\"24px\"viewBox=\"0 0 24 24\"\n",
              "       width=\"24px\">\n",
              "    <path d=\"M0 0h24v24H0V0z\" fill=\"none\"/>\n",
              "    <path d=\"M18.56 5.44l.94 2.06.94-2.06 2.06-.94-2.06-.94-.94-2.06-.94 2.06-2.06.94zm-11 1L8.5 8.5l.94-2.06 2.06-.94-2.06-.94L8.5 2.5l-.94 2.06-2.06.94zm10 10l.94 2.06.94-2.06 2.06-.94-2.06-.94-.94-2.06-.94 2.06-2.06.94z\"/><path d=\"M17.41 7.96l-1.37-1.37c-.4-.4-.92-.59-1.43-.59-.52 0-1.04.2-1.43.59L10.3 9.45l-7.72 7.72c-.78.78-.78 2.05 0 2.83L4 21.41c.39.39.9.59 1.41.59.51 0 1.02-.2 1.41-.59l7.78-7.78 2.81-2.81c.8-.78.8-2.07 0-2.86zM5.41 20L4 18.59l7.72-7.72 1.47 1.35L5.41 20z\"/>\n",
              "  </svg>\n",
              "      </button>\n",
              "\n",
              "\n",
              "\n",
              "    <div id=\"df-3f131f54-2cad-441e-907f-2f953b0dbf76\">\n",
              "      <button class=\"colab-df-quickchart\" onclick=\"quickchart('df-3f131f54-2cad-441e-907f-2f953b0dbf76')\"\n",
              "              title=\"Suggest charts.\"\n",
              "              style=\"display:none;\">\n",
              "\n",
              "<svg xmlns=\"http://www.w3.org/2000/svg\" height=\"24px\"viewBox=\"0 0 24 24\"\n",
              "     width=\"24px\">\n",
              "    <g>\n",
              "        <path d=\"M19 3H5c-1.1 0-2 .9-2 2v14c0 1.1.9 2 2 2h14c1.1 0 2-.9 2-2V5c0-1.1-.9-2-2-2zM9 17H7v-7h2v7zm4 0h-2V7h2v10zm4 0h-2v-4h2v4z\"/>\n",
              "    </g>\n",
              "</svg>\n",
              "      </button>\n",
              "    </div>\n",
              "\n",
              "<style>\n",
              "  .colab-df-quickchart {\n",
              "    background-color: #E8F0FE;\n",
              "    border: none;\n",
              "    border-radius: 50%;\n",
              "    cursor: pointer;\n",
              "    display: none;\n",
              "    fill: #1967D2;\n",
              "    height: 32px;\n",
              "    padding: 0 0 0 0;\n",
              "    width: 32px;\n",
              "  }\n",
              "\n",
              "  .colab-df-quickchart:hover {\n",
              "    background-color: #E2EBFA;\n",
              "    box-shadow: 0px 1px 2px rgba(60, 64, 67, 0.3), 0px 1px 3px 1px rgba(60, 64, 67, 0.15);\n",
              "    fill: #174EA6;\n",
              "  }\n",
              "\n",
              "  [theme=dark] .colab-df-quickchart {\n",
              "    background-color: #3B4455;\n",
              "    fill: #D2E3FC;\n",
              "  }\n",
              "\n",
              "  [theme=dark] .colab-df-quickchart:hover {\n",
              "    background-color: #434B5C;\n",
              "    box-shadow: 0px 1px 3px 1px rgba(0, 0, 0, 0.15);\n",
              "    filter: drop-shadow(0px 1px 2px rgba(0, 0, 0, 0.3));\n",
              "    fill: #FFFFFF;\n",
              "  }\n",
              "</style>\n",
              "\n",
              "    <script>\n",
              "      async function quickchart(key) {\n",
              "        const containerElement = document.querySelector('#' + key);\n",
              "        const charts = await google.colab.kernel.invokeFunction(\n",
              "            'suggestCharts', [key], {});\n",
              "      }\n",
              "    </script>\n",
              "\n",
              "      <script>\n",
              "\n",
              "function displayQuickchartButton(domScope) {\n",
              "  let quickchartButtonEl =\n",
              "    domScope.querySelector('#df-3f131f54-2cad-441e-907f-2f953b0dbf76 button.colab-df-quickchart');\n",
              "  quickchartButtonEl.style.display =\n",
              "    google.colab.kernel.accessAllowed ? 'block' : 'none';\n",
              "}\n",
              "\n",
              "        displayQuickchartButton(document);\n",
              "      </script>\n",
              "      <style>\n",
              "    .colab-df-container {\n",
              "      display:flex;\n",
              "      flex-wrap:wrap;\n",
              "      gap: 12px;\n",
              "    }\n",
              "\n",
              "    .colab-df-convert {\n",
              "      background-color: #E8F0FE;\n",
              "      border: none;\n",
              "      border-radius: 50%;\n",
              "      cursor: pointer;\n",
              "      display: none;\n",
              "      fill: #1967D2;\n",
              "      height: 32px;\n",
              "      padding: 0 0 0 0;\n",
              "      width: 32px;\n",
              "    }\n",
              "\n",
              "    .colab-df-convert:hover {\n",
              "      background-color: #E2EBFA;\n",
              "      box-shadow: 0px 1px 2px rgba(60, 64, 67, 0.3), 0px 1px 3px 1px rgba(60, 64, 67, 0.15);\n",
              "      fill: #174EA6;\n",
              "    }\n",
              "\n",
              "    [theme=dark] .colab-df-convert {\n",
              "      background-color: #3B4455;\n",
              "      fill: #D2E3FC;\n",
              "    }\n",
              "\n",
              "    [theme=dark] .colab-df-convert:hover {\n",
              "      background-color: #434B5C;\n",
              "      box-shadow: 0px 1px 3px 1px rgba(0, 0, 0, 0.15);\n",
              "      filter: drop-shadow(0px 1px 2px rgba(0, 0, 0, 0.3));\n",
              "      fill: #FFFFFF;\n",
              "    }\n",
              "  </style>\n",
              "\n",
              "      <script>\n",
              "        const buttonEl =\n",
              "          document.querySelector('#df-f5bd7707-c905-4087-af6e-b8a158ba47aa button.colab-df-convert');\n",
              "        buttonEl.style.display =\n",
              "          google.colab.kernel.accessAllowed ? 'block' : 'none';\n",
              "\n",
              "        async function convertToInteractive(key) {\n",
              "          const element = document.querySelector('#df-f5bd7707-c905-4087-af6e-b8a158ba47aa');\n",
              "          const dataTable =\n",
              "            await google.colab.kernel.invokeFunction('convertToInteractive',\n",
              "                                                     [key], {});\n",
              "          if (!dataTable) return;\n",
              "\n",
              "          const docLinkHtml = 'Like what you see? Visit the ' +\n",
              "            '<a target=\"_blank\" href=https://colab.research.google.com/notebooks/data_table.ipynb>data table notebook</a>'\n",
              "            + ' to learn more about interactive tables.';\n",
              "          element.innerHTML = '';\n",
              "          dataTable['output_type'] = 'display_data';\n",
              "          await google.colab.output.renderOutput(dataTable, element);\n",
              "          const docLink = document.createElement('div');\n",
              "          docLink.innerHTML = docLinkHtml;\n",
              "          element.appendChild(docLink);\n",
              "        }\n",
              "      </script>\n",
              "    </div>\n",
              "  </div>\n"
            ],
            "text/plain": [
              "                                          RMSE  Время обучения модели  \\\n",
              "LGBMRegressor                      1639.922072               2.485982   \n",
              "Линейная регрессия                 2771.891920               0.696456   \n",
              "CatBoostRegressor без кодировки    2766.615046              38.285247   \n",
              "CatBoostRegressor                  2766.615046              42.498507   \n",
              "Финальные данные на лучшей модели  4611.421556               9.340000   \n",
              "\n",
              "                                   Время предсказания модели      Рейтинг  \n",
              "LGBMRegressor                                       1.176027   558.781968  \n",
              "Линейная регрессия                                  0.019191   942.679416  \n",
              "CatBoostRegressor без кодировки                     0.077595   953.308854  \n",
              "CatBoostRegressor                                   0.192667   954.737203  \n",
              "Финальные данные на лучшей модели                   1.500000  1571.734429  "
            ]
          },
          "execution_count": 133,
          "metadata": {},
          "output_type": "execute_result"
        }
      ],
      "source": [
        "#добавляю в сравнительную таблицу финальные данные:\n",
        "kpi_data.loc['Финальные данные на лучшей модели'] = [final_rsme_lgbmr_ohe, 9.34, 1.5, final_rsme_lgbmr_ohe * .34 + 10.1 * .33 + 1.57 * .33]\n",
        "kpi_data.sort_values(by = 'Рейтинг', ascending=True)"
      ]
    },
    {
      "cell_type": "markdown",
      "metadata": {
        "id": "A8jkmmf8V8aS"
      },
      "source": [
        "Промежуточный вывод: финальная проверка на лучшей модели - LGBMRegressor с выборками c OHE - дала RMSE 1302, общее место в рейтинге - 1."
      ]
    },
    {
      "cell_type": "markdown",
      "metadata": {
        "id": "Cz-5pnIbV8aT"
      },
      "source": [
        "<div style=\"border:2px solid Black; padding:20px;\">\n",
        "\n",
        "## Вывод\n",
        "\n",
        "В проекте:\n",
        "- загрузил  данные и провел их предобработку - очистку, заполнение, удаление лишних данных\n",
        "- сравнил 3 модели с разными гиперпараметрами и выборками\n",
        "- выбрал лучшую модель по 3 показателям - RMSE, время обучения и время предскзания - и проверила ее на тестовой выборке\n",
        "\n",
        "Итог - наилучшей моделью стала LGBMRegressor с OHE, которая на финальном тестировании показала RMSE 1302, несмотря на требуемое бОльшее время на обучение и предсказание. То есть если есть время, то лучше пользоваться данной моделью\n",
        "\n",
        "</div>"
      ]
    }
  ],
  "metadata": {
    "ExecuteTimeLog": [
      {
        "duration": 1558,
        "start_time": "2023-07-08T14:15:09.846Z"
      },
      {
        "duration": 1337,
        "start_time": "2023-07-08T14:15:38.950Z"
      },
      {
        "duration": 132,
        "start_time": "2023-07-08T14:16:07.695Z"
      },
      {
        "duration": 3,
        "start_time": "2023-07-08T14:16:27.239Z"
      },
      {
        "duration": 323,
        "start_time": "2023-07-08T14:16:33.091Z"
      },
      {
        "duration": 299,
        "start_time": "2023-07-08T14:16:39.857Z"
      },
      {
        "duration": 354,
        "start_time": "2023-07-08T14:16:48.106Z"
      },
      {
        "duration": 116,
        "start_time": "2023-07-08T14:19:07.492Z"
      },
      {
        "duration": 117,
        "start_time": "2023-07-08T14:20:40.920Z"
      },
      {
        "duration": 11,
        "start_time": "2023-07-08T14:21:18.133Z"
      },
      {
        "duration": 361,
        "start_time": "2023-07-08T14:21:54.897Z"
      },
      {
        "duration": 78,
        "start_time": "2023-07-08T14:22:06.987Z"
      },
      {
        "duration": 15,
        "start_time": "2023-07-08T14:22:21.818Z"
      },
      {
        "duration": 141,
        "start_time": "2023-07-08T14:22:44.594Z"
      },
      {
        "duration": 355,
        "start_time": "2023-07-08T14:23:06.841Z"
      },
      {
        "duration": 74,
        "start_time": "2023-07-08T14:23:29.788Z"
      },
      {
        "duration": 314,
        "start_time": "2023-07-08T14:23:51.945Z"
      },
      {
        "duration": 264,
        "start_time": "2023-07-08T14:24:17.192Z"
      },
      {
        "duration": 92,
        "start_time": "2023-07-08T14:24:42.962Z"
      },
      {
        "duration": 173,
        "start_time": "2023-07-08T14:24:59.490Z"
      },
      {
        "duration": 44,
        "start_time": "2023-07-08T14:25:18.753Z"
      },
      {
        "duration": 105,
        "start_time": "2023-07-08T14:25:38.292Z"
      },
      {
        "duration": 28,
        "start_time": "2023-07-08T14:25:46.284Z"
      },
      {
        "duration": 127,
        "start_time": "2023-07-08T14:26:00.132Z"
      },
      {
        "duration": 61,
        "start_time": "2023-07-08T14:26:13.059Z"
      },
      {
        "duration": 2318,
        "start_time": "2023-07-08T14:26:25.027Z"
      },
      {
        "duration": 3792,
        "start_time": "2023-07-08T14:26:53.200Z"
      },
      {
        "duration": 70,
        "start_time": "2023-07-08T14:27:09.900Z"
      },
      {
        "duration": 375,
        "start_time": "2023-07-08T14:27:27.723Z"
      },
      {
        "duration": 329,
        "start_time": "2023-07-08T14:27:56.596Z"
      },
      {
        "duration": 391,
        "start_time": "2023-07-08T14:28:25.800Z"
      },
      {
        "duration": 438,
        "start_time": "2023-07-08T14:28:50.459Z"
      },
      {
        "duration": 72,
        "start_time": "2023-07-08T14:29:15.699Z"
      },
      {
        "duration": 59,
        "start_time": "2023-07-08T14:29:33.655Z"
      },
      {
        "duration": 1302,
        "start_time": "2023-07-08T14:29:41.829Z"
      },
      {
        "duration": 42,
        "start_time": "2023-07-08T14:29:57.891Z"
      },
      {
        "duration": 99,
        "start_time": "2023-07-08T14:30:31.493Z"
      },
      {
        "duration": 3,
        "start_time": "2023-07-08T14:30:42.549Z"
      },
      {
        "duration": 108,
        "start_time": "2023-07-08T14:31:32.604Z"
      },
      {
        "duration": 639,
        "start_time": "2023-07-08T14:31:47.323Z"
      },
      {
        "duration": 329,
        "start_time": "2023-07-08T14:31:57.252Z"
      },
      {
        "duration": 136618,
        "start_time": "2023-07-08T14:32:19.415Z"
      },
      {
        "duration": 118701,
        "start_time": "2023-07-08T14:36:46.638Z"
      },
      {
        "duration": 1980,
        "start_time": "2023-07-08T14:42:28.469Z"
      },
      {
        "duration": 1234,
        "start_time": "2023-07-08T14:42:30.451Z"
      },
      {
        "duration": 133,
        "start_time": "2023-07-08T14:42:31.687Z"
      },
      {
        "duration": 8,
        "start_time": "2023-07-08T14:42:31.823Z"
      },
      {
        "duration": 323,
        "start_time": "2023-07-08T14:42:31.833Z"
      },
      {
        "duration": 116,
        "start_time": "2023-07-08T14:42:32.158Z"
      },
      {
        "duration": 11,
        "start_time": "2023-07-08T14:42:32.276Z"
      },
      {
        "duration": 360,
        "start_time": "2023-07-08T14:42:32.289Z"
      },
      {
        "duration": 12,
        "start_time": "2023-07-08T14:42:32.651Z"
      },
      {
        "duration": 138,
        "start_time": "2023-07-08T14:42:32.666Z"
      },
      {
        "duration": 372,
        "start_time": "2023-07-08T14:42:32.806Z"
      },
      {
        "duration": 69,
        "start_time": "2023-07-08T14:42:33.179Z"
      },
      {
        "duration": 322,
        "start_time": "2023-07-08T14:42:33.250Z"
      },
      {
        "duration": 229,
        "start_time": "2023-07-08T14:42:33.574Z"
      },
      {
        "duration": 98,
        "start_time": "2023-07-08T14:42:33.804Z"
      },
      {
        "duration": 121,
        "start_time": "2023-07-08T14:42:33.904Z"
      },
      {
        "duration": 93,
        "start_time": "2023-07-08T14:42:34.026Z"
      },
      {
        "duration": 35,
        "start_time": "2023-07-08T14:42:34.120Z"
      },
      {
        "duration": 58,
        "start_time": "2023-07-08T14:42:34.157Z"
      },
      {
        "duration": 2821,
        "start_time": "2023-07-08T14:42:34.217Z"
      },
      {
        "duration": 3029,
        "start_time": "2023-07-08T14:42:37.040Z"
      },
      {
        "duration": 64,
        "start_time": "2023-07-08T14:42:40.070Z"
      },
      {
        "duration": 272,
        "start_time": "2023-07-08T14:42:40.136Z"
      },
      {
        "duration": 269,
        "start_time": "2023-07-08T14:42:40.410Z"
      },
      {
        "duration": 282,
        "start_time": "2023-07-08T14:42:40.681Z"
      },
      {
        "duration": 375,
        "start_time": "2023-07-08T14:42:40.964Z"
      },
      {
        "duration": 53,
        "start_time": "2023-07-08T14:42:41.341Z"
      },
      {
        "duration": 56,
        "start_time": "2023-07-08T14:42:41.397Z"
      },
      {
        "duration": 40,
        "start_time": "2023-07-08T14:42:41.454Z"
      },
      {
        "duration": 106,
        "start_time": "2023-07-08T14:42:41.495Z"
      },
      {
        "duration": 3,
        "start_time": "2023-07-08T14:42:41.603Z"
      },
      {
        "duration": 570,
        "start_time": "2023-07-08T14:42:41.607Z"
      },
      {
        "duration": 317,
        "start_time": "2023-07-08T14:42:42.179Z"
      },
      {
        "duration": 60351,
        "start_time": "2023-07-08T14:42:42.498Z"
      },
      {
        "duration": 65681,
        "start_time": "2023-07-08T14:43:42.851Z"
      },
      {
        "duration": 93,
        "start_time": "2023-07-08T14:46:44.505Z"
      },
      {
        "duration": 1396,
        "start_time": "2023-07-08T14:46:51.124Z"
      },
      {
        "duration": 931,
        "start_time": "2023-07-08T14:46:52.521Z"
      },
      {
        "duration": 132,
        "start_time": "2023-07-08T14:46:53.453Z"
      },
      {
        "duration": 2,
        "start_time": "2023-07-08T14:46:53.587Z"
      },
      {
        "duration": 311,
        "start_time": "2023-07-08T14:46:53.591Z"
      },
      {
        "duration": 108,
        "start_time": "2023-07-08T14:46:53.904Z"
      },
      {
        "duration": 19,
        "start_time": "2023-07-08T14:46:54.013Z"
      },
      {
        "duration": 324,
        "start_time": "2023-07-08T14:46:54.033Z"
      },
      {
        "duration": 14,
        "start_time": "2023-07-08T14:46:54.359Z"
      },
      {
        "duration": 134,
        "start_time": "2023-07-08T14:46:54.375Z"
      },
      {
        "duration": 365,
        "start_time": "2023-07-08T14:46:54.511Z"
      },
      {
        "duration": 60,
        "start_time": "2023-07-08T14:46:54.877Z"
      },
      {
        "duration": 296,
        "start_time": "2023-07-08T14:46:54.938Z"
      },
      {
        "duration": 210,
        "start_time": "2023-07-08T14:46:55.236Z"
      },
      {
        "duration": 93,
        "start_time": "2023-07-08T14:46:55.448Z"
      },
      {
        "duration": 33,
        "start_time": "2023-07-08T14:46:55.543Z"
      },
      {
        "duration": 108,
        "start_time": "2023-07-08T14:46:55.578Z"
      },
      {
        "duration": 25,
        "start_time": "2023-07-08T14:46:55.688Z"
      },
      {
        "duration": 71,
        "start_time": "2023-07-08T14:46:55.715Z"
      },
      {
        "duration": 2722,
        "start_time": "2023-07-08T14:46:55.787Z"
      },
      {
        "duration": 3400,
        "start_time": "2023-07-08T14:46:58.511Z"
      },
      {
        "duration": 63,
        "start_time": "2023-07-08T14:47:01.912Z"
      },
      {
        "duration": 302,
        "start_time": "2023-07-08T14:47:01.976Z"
      },
      {
        "duration": 296,
        "start_time": "2023-07-08T14:47:02.280Z"
      },
      {
        "duration": 304,
        "start_time": "2023-07-08T14:47:02.578Z"
      },
      {
        "duration": 372,
        "start_time": "2023-07-08T14:47:02.884Z"
      },
      {
        "duration": 54,
        "start_time": "2023-07-08T14:47:03.257Z"
      },
      {
        "duration": 64,
        "start_time": "2023-07-08T14:47:03.314Z"
      },
      {
        "duration": 63,
        "start_time": "2023-07-08T14:47:03.380Z"
      },
      {
        "duration": 96,
        "start_time": "2023-07-08T14:47:03.445Z"
      },
      {
        "duration": 4,
        "start_time": "2023-07-08T14:47:03.543Z"
      },
      {
        "duration": 586,
        "start_time": "2023-07-08T14:47:03.548Z"
      },
      {
        "duration": 328,
        "start_time": "2023-07-08T14:47:04.135Z"
      },
      {
        "duration": 61672,
        "start_time": "2023-07-08T14:48:02.160Z"
      },
      {
        "duration": 1294,
        "start_time": "2023-07-08T14:49:25.992Z"
      },
      {
        "duration": 914,
        "start_time": "2023-07-08T14:49:27.288Z"
      },
      {
        "duration": 120,
        "start_time": "2023-07-08T14:49:28.203Z"
      },
      {
        "duration": 3,
        "start_time": "2023-07-08T14:49:28.332Z"
      },
      {
        "duration": 297,
        "start_time": "2023-07-08T14:49:28.337Z"
      },
      {
        "duration": 110,
        "start_time": "2023-07-08T14:49:28.635Z"
      },
      {
        "duration": 18,
        "start_time": "2023-07-08T14:49:28.747Z"
      },
      {
        "duration": 322,
        "start_time": "2023-07-08T14:49:28.767Z"
      },
      {
        "duration": 11,
        "start_time": "2023-07-08T14:49:29.091Z"
      },
      {
        "duration": 96,
        "start_time": "2023-07-08T14:49:29.105Z"
      },
      {
        "duration": 313,
        "start_time": "2023-07-08T14:49:29.203Z"
      },
      {
        "duration": 61,
        "start_time": "2023-07-08T14:49:29.517Z"
      },
      {
        "duration": 294,
        "start_time": "2023-07-08T14:49:29.579Z"
      },
      {
        "duration": 218,
        "start_time": "2023-07-08T14:49:29.874Z"
      },
      {
        "duration": 94,
        "start_time": "2023-07-08T14:49:30.094Z"
      },
      {
        "duration": 42,
        "start_time": "2023-07-08T14:49:30.190Z"
      },
      {
        "duration": 99,
        "start_time": "2023-07-08T14:49:30.234Z"
      },
      {
        "duration": 28,
        "start_time": "2023-07-08T14:49:30.334Z"
      },
      {
        "duration": 83,
        "start_time": "2023-07-08T14:49:30.363Z"
      },
      {
        "duration": 2839,
        "start_time": "2023-07-08T14:49:30.447Z"
      },
      {
        "duration": 3058,
        "start_time": "2023-07-08T14:49:33.288Z"
      },
      {
        "duration": 54,
        "start_time": "2023-07-08T14:49:36.347Z"
      },
      {
        "duration": 273,
        "start_time": "2023-07-08T14:49:36.402Z"
      },
      {
        "duration": 302,
        "start_time": "2023-07-08T14:49:36.676Z"
      },
      {
        "duration": 309,
        "start_time": "2023-07-08T14:49:36.980Z"
      },
      {
        "duration": 382,
        "start_time": "2023-07-08T14:49:37.291Z"
      },
      {
        "duration": 63,
        "start_time": "2023-07-08T14:49:37.675Z"
      },
      {
        "duration": 42,
        "start_time": "2023-07-08T14:49:37.742Z"
      },
      {
        "duration": 59,
        "start_time": "2023-07-08T14:49:37.785Z"
      },
      {
        "duration": 92,
        "start_time": "2023-07-08T14:49:37.846Z"
      },
      {
        "duration": 3,
        "start_time": "2023-07-08T14:49:37.940Z"
      },
      {
        "duration": 589,
        "start_time": "2023-07-08T14:49:37.945Z"
      },
      {
        "duration": 315,
        "start_time": "2023-07-08T14:49:38.536Z"
      },
      {
        "duration": 57885,
        "start_time": "2023-07-08T14:49:38.853Z"
      },
      {
        "duration": 67202,
        "start_time": "2023-07-08T14:50:36.832Z"
      },
      {
        "duration": 116,
        "start_time": "2023-07-08T14:54:29.106Z"
      },
      {
        "duration": 55,
        "start_time": "2023-07-08T14:54:55.799Z"
      },
      {
        "duration": 277,
        "start_time": "2023-07-08T14:55:11.218Z"
      },
      {
        "duration": 1907,
        "start_time": "2023-07-08T14:55:17.655Z"
      },
      {
        "duration": 1290,
        "start_time": "2023-07-08T14:55:19.564Z"
      },
      {
        "duration": 140,
        "start_time": "2023-07-08T14:55:20.855Z"
      },
      {
        "duration": 3,
        "start_time": "2023-07-08T14:55:20.997Z"
      },
      {
        "duration": 330,
        "start_time": "2023-07-08T14:55:21.002Z"
      },
      {
        "duration": 134,
        "start_time": "2023-07-08T14:55:21.334Z"
      },
      {
        "duration": 10,
        "start_time": "2023-07-08T14:55:21.470Z"
      },
      {
        "duration": 376,
        "start_time": "2023-07-08T14:55:21.481Z"
      },
      {
        "duration": 12,
        "start_time": "2023-07-08T14:55:21.859Z"
      },
      {
        "duration": 109,
        "start_time": "2023-07-08T14:55:21.873Z"
      },
      {
        "duration": 337,
        "start_time": "2023-07-08T14:55:21.984Z"
      },
      {
        "duration": 72,
        "start_time": "2023-07-08T14:55:22.323Z"
      },
      {
        "duration": 316,
        "start_time": "2023-07-08T14:55:22.397Z"
      },
      {
        "duration": 250,
        "start_time": "2023-07-08T14:55:22.714Z"
      },
      {
        "duration": 104,
        "start_time": "2023-07-08T14:55:22.966Z"
      },
      {
        "duration": 38,
        "start_time": "2023-07-08T14:55:23.072Z"
      },
      {
        "duration": 119,
        "start_time": "2023-07-08T14:55:23.112Z"
      },
      {
        "duration": 29,
        "start_time": "2023-07-08T14:55:23.233Z"
      },
      {
        "duration": 75,
        "start_time": "2023-07-08T14:55:23.264Z"
      },
      {
        "duration": 2869,
        "start_time": "2023-07-08T14:55:23.340Z"
      },
      {
        "duration": 2983,
        "start_time": "2023-07-08T14:55:26.211Z"
      },
      {
        "duration": 62,
        "start_time": "2023-07-08T14:55:29.196Z"
      },
      {
        "duration": 264,
        "start_time": "2023-07-08T14:55:29.260Z"
      },
      {
        "duration": 274,
        "start_time": "2023-07-08T14:55:29.526Z"
      },
      {
        "duration": 287,
        "start_time": "2023-07-08T14:55:29.802Z"
      },
      {
        "duration": 387,
        "start_time": "2023-07-08T14:55:30.091Z"
      },
      {
        "duration": 61,
        "start_time": "2023-07-08T14:55:30.479Z"
      },
      {
        "duration": 52,
        "start_time": "2023-07-08T14:55:30.543Z"
      },
      {
        "duration": 51,
        "start_time": "2023-07-08T14:55:30.597Z"
      },
      {
        "duration": 94,
        "start_time": "2023-07-08T14:55:30.650Z"
      },
      {
        "duration": 3,
        "start_time": "2023-07-08T14:55:30.746Z"
      },
      {
        "duration": 595,
        "start_time": "2023-07-08T14:55:30.751Z"
      },
      {
        "duration": 310,
        "start_time": "2023-07-08T14:55:31.347Z"
      },
      {
        "duration": 57094,
        "start_time": "2023-07-08T14:55:31.658Z"
      },
      {
        "duration": 65331,
        "start_time": "2023-07-08T14:56:28.832Z"
      },
      {
        "duration": 105,
        "start_time": "2023-07-08T15:02:06.763Z"
      },
      {
        "duration": 1687,
        "start_time": "2023-07-08T15:02:21.863Z"
      },
      {
        "duration": 122,
        "start_time": "2023-07-08T15:02:37.203Z"
      },
      {
        "duration": 1336,
        "start_time": "2023-07-08T15:02:52.653Z"
      },
      {
        "duration": 1205,
        "start_time": "2023-07-08T15:02:53.991Z"
      },
      {
        "duration": 113,
        "start_time": "2023-07-08T15:02:55.197Z"
      },
      {
        "duration": 3,
        "start_time": "2023-07-08T15:02:55.312Z"
      },
      {
        "duration": 303,
        "start_time": "2023-07-08T15:02:55.316Z"
      },
      {
        "duration": 126,
        "start_time": "2023-07-08T15:02:55.621Z"
      },
      {
        "duration": 29,
        "start_time": "2023-07-08T15:02:55.748Z"
      },
      {
        "duration": 339,
        "start_time": "2023-07-08T15:02:55.779Z"
      },
      {
        "duration": 20,
        "start_time": "2023-07-08T15:02:56.119Z"
      },
      {
        "duration": 94,
        "start_time": "2023-07-08T15:02:56.141Z"
      },
      {
        "duration": 332,
        "start_time": "2023-07-08T15:02:56.236Z"
      },
      {
        "duration": 67,
        "start_time": "2023-07-08T15:02:56.569Z"
      },
      {
        "duration": 381,
        "start_time": "2023-07-08T15:02:56.637Z"
      },
      {
        "duration": 246,
        "start_time": "2023-07-08T15:02:57.020Z"
      },
      {
        "duration": 106,
        "start_time": "2023-07-08T15:02:57.267Z"
      },
      {
        "duration": 41,
        "start_time": "2023-07-08T15:02:57.375Z"
      },
      {
        "duration": 124,
        "start_time": "2023-07-08T15:02:57.417Z"
      },
      {
        "duration": 28,
        "start_time": "2023-07-08T15:02:57.543Z"
      },
      {
        "duration": 71,
        "start_time": "2023-07-08T15:02:57.573Z"
      },
      {
        "duration": 2957,
        "start_time": "2023-07-08T15:02:57.645Z"
      },
      {
        "duration": 3241,
        "start_time": "2023-07-08T15:03:00.603Z"
      },
      {
        "duration": 57,
        "start_time": "2023-07-08T15:03:03.845Z"
      },
      {
        "duration": 294,
        "start_time": "2023-07-08T15:03:03.903Z"
      },
      {
        "duration": 271,
        "start_time": "2023-07-08T15:03:04.199Z"
      },
      {
        "duration": 361,
        "start_time": "2023-07-08T15:03:04.472Z"
      },
      {
        "duration": 384,
        "start_time": "2023-07-08T15:03:04.835Z"
      },
      {
        "duration": 73,
        "start_time": "2023-07-08T15:03:05.221Z"
      },
      {
        "duration": 52,
        "start_time": "2023-07-08T15:03:05.297Z"
      },
      {
        "duration": 38,
        "start_time": "2023-07-08T15:03:05.351Z"
      },
      {
        "duration": 101,
        "start_time": "2023-07-08T15:03:05.390Z"
      },
      {
        "duration": 4,
        "start_time": "2023-07-08T15:03:05.493Z"
      },
      {
        "duration": 641,
        "start_time": "2023-07-08T15:03:05.498Z"
      },
      {
        "duration": 316,
        "start_time": "2023-07-08T15:03:06.141Z"
      },
      {
        "duration": 63273,
        "start_time": "2023-07-08T15:03:06.458Z"
      },
      {
        "duration": 63821,
        "start_time": "2023-07-08T15:04:09.734Z"
      },
      {
        "duration": 118,
        "start_time": "2023-07-08T15:08:28.359Z"
      },
      {
        "duration": 3806,
        "start_time": "2023-07-08T18:50:50.835Z"
      },
      {
        "duration": 4165,
        "start_time": "2023-07-08T18:50:54.643Z"
      },
      {
        "duration": 145,
        "start_time": "2023-07-08T18:50:58.810Z"
      },
      {
        "duration": 4,
        "start_time": "2023-07-08T18:50:58.957Z"
      },
      {
        "duration": 363,
        "start_time": "2023-07-08T18:50:58.964Z"
      },
      {
        "duration": 112,
        "start_time": "2023-07-08T18:50:59.337Z"
      },
      {
        "duration": 12,
        "start_time": "2023-07-08T18:50:59.451Z"
      },
      {
        "duration": 478,
        "start_time": "2023-07-08T18:50:59.465Z"
      },
      {
        "duration": 20,
        "start_time": "2023-07-08T18:50:59.957Z"
      },
      {
        "duration": 121,
        "start_time": "2023-07-08T18:50:59.979Z"
      },
      {
        "duration": 421,
        "start_time": "2023-07-08T18:51:00.102Z"
      },
      {
        "duration": 101,
        "start_time": "2023-07-08T18:51:00.524Z"
      },
      {
        "duration": 471,
        "start_time": "2023-07-08T18:51:00.631Z"
      },
      {
        "duration": 342,
        "start_time": "2023-07-08T18:51:01.105Z"
      },
      {
        "duration": 105,
        "start_time": "2023-07-08T18:51:01.449Z"
      },
      {
        "duration": 34,
        "start_time": "2023-07-08T18:51:01.556Z"
      },
      {
        "duration": 260,
        "start_time": "2023-07-08T18:51:01.593Z"
      },
      {
        "duration": 37,
        "start_time": "2023-07-08T18:51:01.856Z"
      },
      {
        "duration": 108,
        "start_time": "2023-07-08T18:51:01.895Z"
      },
      {
        "duration": 3764,
        "start_time": "2023-07-08T18:51:02.005Z"
      },
      {
        "duration": 4022,
        "start_time": "2023-07-08T18:51:05.771Z"
      },
      {
        "duration": 78,
        "start_time": "2023-07-08T18:51:09.795Z"
      },
      {
        "duration": 403,
        "start_time": "2023-07-08T18:51:09.875Z"
      },
      {
        "duration": 397,
        "start_time": "2023-07-08T18:51:10.280Z"
      },
      {
        "duration": 374,
        "start_time": "2023-07-08T18:51:10.679Z"
      },
      {
        "duration": 491,
        "start_time": "2023-07-08T18:51:11.055Z"
      },
      {
        "duration": 54,
        "start_time": "2023-07-08T18:51:11.548Z"
      },
      {
        "duration": 75,
        "start_time": "2023-07-08T18:51:11.603Z"
      },
      {
        "duration": 55,
        "start_time": "2023-07-08T18:51:11.680Z"
      },
      {
        "duration": 107,
        "start_time": "2023-07-08T18:51:11.741Z"
      },
      {
        "duration": 3,
        "start_time": "2023-07-08T18:51:11.850Z"
      },
      {
        "duration": 692,
        "start_time": "2023-07-08T18:51:11.855Z"
      },
      {
        "duration": 367,
        "start_time": "2023-07-08T18:51:12.552Z"
      },
      {
        "duration": 279001,
        "start_time": "2023-07-08T18:51:12.934Z"
      },
      {
        "duration": 314539,
        "start_time": "2023-07-08T18:55:51.937Z"
      },
      {
        "duration": 55,
        "start_time": "2023-07-09T05:45:00.214Z"
      },
      {
        "duration": 1743,
        "start_time": "2023-07-09T05:45:03.816Z"
      },
      {
        "duration": 2951,
        "start_time": "2023-07-09T05:45:05.562Z"
      },
      {
        "duration": 114,
        "start_time": "2023-07-09T05:45:08.514Z"
      },
      {
        "duration": 3,
        "start_time": "2023-07-09T05:45:08.630Z"
      },
      {
        "duration": 352,
        "start_time": "2023-07-09T05:45:08.636Z"
      },
      {
        "duration": 120,
        "start_time": "2023-07-09T05:45:08.990Z"
      },
      {
        "duration": 11,
        "start_time": "2023-07-09T05:45:09.112Z"
      },
      {
        "duration": 424,
        "start_time": "2023-07-09T05:45:09.125Z"
      },
      {
        "duration": 18,
        "start_time": "2023-07-09T05:45:09.551Z"
      },
      {
        "duration": 15,
        "start_time": "2023-07-09T05:45:18.693Z"
      },
      {
        "duration": 101,
        "start_time": "2023-07-09T05:45:33.699Z"
      },
      {
        "duration": 351,
        "start_time": "2023-07-09T05:48:57.379Z"
      },
      {
        "duration": 66,
        "start_time": "2023-07-09T05:49:02.435Z"
      },
      {
        "duration": 360,
        "start_time": "2023-07-09T05:49:05.259Z"
      },
      {
        "duration": 281,
        "start_time": "2023-07-09T05:49:33.891Z"
      },
      {
        "duration": 99,
        "start_time": "2023-07-09T05:49:38.244Z"
      },
      {
        "duration": 4,
        "start_time": "2023-07-09T05:53:58.794Z"
      },
      {
        "duration": 907,
        "start_time": "2023-07-09T05:53:58.800Z"
      },
      {
        "duration": 115,
        "start_time": "2023-07-09T05:53:59.709Z"
      },
      {
        "duration": 11,
        "start_time": "2023-07-09T05:53:59.826Z"
      },
      {
        "duration": 336,
        "start_time": "2023-07-09T05:53:59.839Z"
      },
      {
        "duration": 114,
        "start_time": "2023-07-09T05:54:00.177Z"
      },
      {
        "duration": 11,
        "start_time": "2023-07-09T05:54:00.293Z"
      },
      {
        "duration": 358,
        "start_time": "2023-07-09T05:54:00.306Z"
      },
      {
        "duration": 13,
        "start_time": "2023-07-09T05:54:00.667Z"
      },
      {
        "duration": 120,
        "start_time": "2023-07-09T05:54:00.681Z"
      },
      {
        "duration": 292,
        "start_time": "2023-07-09T05:54:00.803Z"
      },
      {
        "duration": 69,
        "start_time": "2023-07-09T05:54:01.096Z"
      },
      {
        "duration": 394,
        "start_time": "2023-07-09T05:54:01.167Z"
      },
      {
        "duration": 265,
        "start_time": "2023-07-09T05:54:01.563Z"
      },
      {
        "duration": 97,
        "start_time": "2023-07-09T05:54:07.763Z"
      },
      {
        "duration": 6,
        "start_time": "2023-07-09T05:54:51.643Z"
      },
      {
        "duration": 89,
        "start_time": "2023-07-09T05:55:01.236Z"
      },
      {
        "duration": 23,
        "start_time": "2023-07-09T05:55:04.948Z"
      },
      {
        "duration": 42,
        "start_time": "2023-07-09T05:55:16.586Z"
      },
      {
        "duration": 241,
        "start_time": "2023-07-09T06:00:20.609Z"
      },
      {
        "duration": 33,
        "start_time": "2023-07-09T06:00:26.221Z"
      },
      {
        "duration": 73,
        "start_time": "2023-07-09T06:00:30.563Z"
      },
      {
        "duration": 4494,
        "start_time": "2023-07-09T06:00:33.652Z"
      },
      {
        "duration": 4248,
        "start_time": "2023-07-09T06:01:32.576Z"
      },
      {
        "duration": 61,
        "start_time": "2023-07-09T06:01:37.296Z"
      },
      {
        "duration": 294,
        "start_time": "2023-07-09T06:01:41.573Z"
      },
      {
        "duration": 294,
        "start_time": "2023-07-09T06:01:47.652Z"
      },
      {
        "duration": 296,
        "start_time": "2023-07-09T06:02:02.596Z"
      },
      {
        "duration": 311,
        "start_time": "2023-07-09T06:02:07.797Z"
      },
      {
        "duration": 60,
        "start_time": "2023-07-09T06:02:11.139Z"
      },
      {
        "duration": 48,
        "start_time": "2023-07-09T06:02:29.325Z"
      },
      {
        "duration": 59,
        "start_time": "2023-07-09T06:02:34.082Z"
      },
      {
        "duration": 114,
        "start_time": "2023-07-09T06:02:39.004Z"
      },
      {
        "duration": 4,
        "start_time": "2023-07-09T06:03:25.461Z"
      },
      {
        "duration": 63,
        "start_time": "2023-07-09T07:18:35.179Z"
      },
      {
        "duration": 64,
        "start_time": "2023-07-09T07:19:17.149Z"
      },
      {
        "duration": 63,
        "start_time": "2023-07-09T07:19:25.770Z"
      },
      {
        "duration": 124,
        "start_time": "2023-07-09T07:20:49.658Z"
      },
      {
        "duration": 411,
        "start_time": "2023-07-09T07:21:32.043Z"
      },
      {
        "duration": 415,
        "start_time": "2023-07-09T07:22:29.307Z"
      },
      {
        "duration": 150,
        "start_time": "2023-07-09T08:06:55.552Z"
      },
      {
        "duration": 14,
        "start_time": "2023-07-09T08:09:28.952Z"
      },
      {
        "duration": 52,
        "start_time": "2023-07-09T08:10:38.947Z"
      },
      {
        "duration": 48,
        "start_time": "2023-07-09T08:15:21.035Z"
      },
      {
        "duration": 9,
        "start_time": "2023-07-09T08:15:44.256Z"
      },
      {
        "duration": 1802,
        "start_time": "2023-07-09T08:15:53.704Z"
      },
      {
        "duration": 3149,
        "start_time": "2023-07-09T08:15:57.473Z"
      },
      {
        "duration": 1762,
        "start_time": "2023-07-09T08:17:53.441Z"
      },
      {
        "duration": 3455,
        "start_time": "2023-07-09T08:17:55.206Z"
      },
      {
        "duration": 132,
        "start_time": "2023-07-09T08:17:58.663Z"
      },
      {
        "duration": 4,
        "start_time": "2023-07-09T08:17:58.798Z"
      },
      {
        "duration": 395,
        "start_time": "2023-07-09T08:17:58.804Z"
      },
      {
        "duration": 114,
        "start_time": "2023-07-09T08:17:59.201Z"
      },
      {
        "duration": 13,
        "start_time": "2023-07-09T08:17:59.317Z"
      },
      {
        "duration": 436,
        "start_time": "2023-07-09T08:17:59.332Z"
      },
      {
        "duration": 16,
        "start_time": "2023-07-09T08:17:59.771Z"
      },
      {
        "duration": 196,
        "start_time": "2023-07-09T08:17:59.791Z"
      },
      {
        "duration": 473,
        "start_time": "2023-07-09T08:17:59.990Z"
      },
      {
        "duration": 73,
        "start_time": "2023-07-09T08:18:00.465Z"
      },
      {
        "duration": 429,
        "start_time": "2023-07-09T08:18:00.541Z"
      },
      {
        "duration": 311,
        "start_time": "2023-07-09T08:18:00.973Z"
      },
      {
        "duration": 186,
        "start_time": "2023-07-09T08:18:01.286Z"
      },
      {
        "duration": 34,
        "start_time": "2023-07-09T08:18:01.476Z"
      },
      {
        "duration": 109,
        "start_time": "2023-07-09T08:18:01.512Z"
      },
      {
        "duration": 180,
        "start_time": "2023-07-09T08:18:01.623Z"
      },
      {
        "duration": 32,
        "start_time": "2023-07-09T08:18:01.805Z"
      },
      {
        "duration": 94,
        "start_time": "2023-07-09T08:18:01.839Z"
      },
      {
        "duration": 5112,
        "start_time": "2023-07-09T08:18:01.935Z"
      },
      {
        "duration": 5619,
        "start_time": "2023-07-09T08:18:07.058Z"
      },
      {
        "duration": 114,
        "start_time": "2023-07-09T08:18:12.680Z"
      },
      {
        "duration": 368,
        "start_time": "2023-07-09T08:18:12.795Z"
      },
      {
        "duration": 435,
        "start_time": "2023-07-09T08:18:13.166Z"
      },
      {
        "duration": 355,
        "start_time": "2023-07-09T08:18:13.604Z"
      },
      {
        "duration": 736,
        "start_time": "2023-07-09T08:18:13.963Z"
      },
      {
        "duration": 74,
        "start_time": "2023-07-09T08:18:14.704Z"
      },
      {
        "duration": 82,
        "start_time": "2023-07-09T08:18:14.779Z"
      },
      {
        "duration": 54,
        "start_time": "2023-07-09T08:18:14.862Z"
      },
      {
        "duration": 185,
        "start_time": "2023-07-09T08:18:14.918Z"
      },
      {
        "duration": 5,
        "start_time": "2023-07-09T08:18:15.106Z"
      },
      {
        "duration": 233,
        "start_time": "2023-07-09T08:18:15.114Z"
      },
      {
        "duration": 0,
        "start_time": "2023-07-09T08:18:15.350Z"
      },
      {
        "duration": 0,
        "start_time": "2023-07-09T08:18:15.352Z"
      },
      {
        "duration": 0,
        "start_time": "2023-07-09T08:18:15.353Z"
      },
      {
        "duration": 0,
        "start_time": "2023-07-09T08:18:15.354Z"
      },
      {
        "duration": 0,
        "start_time": "2023-07-09T08:18:15.359Z"
      },
      {
        "duration": 0,
        "start_time": "2023-07-09T08:18:15.362Z"
      },
      {
        "duration": 0,
        "start_time": "2023-07-09T08:18:15.364Z"
      },
      {
        "duration": 0,
        "start_time": "2023-07-09T08:18:15.365Z"
      },
      {
        "duration": 0,
        "start_time": "2023-07-09T08:18:15.367Z"
      },
      {
        "duration": 0,
        "start_time": "2023-07-09T08:18:15.369Z"
      },
      {
        "duration": 0,
        "start_time": "2023-07-09T08:18:15.371Z"
      },
      {
        "duration": 0,
        "start_time": "2023-07-09T08:18:15.372Z"
      },
      {
        "duration": 0,
        "start_time": "2023-07-09T08:18:15.374Z"
      },
      {
        "duration": 0,
        "start_time": "2023-07-09T08:18:15.375Z"
      },
      {
        "duration": 0,
        "start_time": "2023-07-09T08:18:15.376Z"
      },
      {
        "duration": 0,
        "start_time": "2023-07-09T08:18:15.384Z"
      },
      {
        "duration": 0,
        "start_time": "2023-07-09T08:18:15.386Z"
      },
      {
        "duration": 0,
        "start_time": "2023-07-09T08:18:15.388Z"
      },
      {
        "duration": 0,
        "start_time": "2023-07-09T08:18:15.390Z"
      },
      {
        "duration": 0,
        "start_time": "2023-07-09T08:18:15.391Z"
      },
      {
        "duration": 0,
        "start_time": "2023-07-09T08:18:15.393Z"
      },
      {
        "duration": 0,
        "start_time": "2023-07-09T08:18:15.393Z"
      },
      {
        "duration": 0,
        "start_time": "2023-07-09T08:18:15.395Z"
      },
      {
        "duration": 0,
        "start_time": "2023-07-09T08:18:15.396Z"
      },
      {
        "duration": 0,
        "start_time": "2023-07-09T08:18:15.400Z"
      },
      {
        "duration": 0,
        "start_time": "2023-07-09T08:18:15.401Z"
      },
      {
        "duration": 0,
        "start_time": "2023-07-09T08:18:15.402Z"
      },
      {
        "duration": 0,
        "start_time": "2023-07-09T08:18:15.404Z"
      },
      {
        "duration": 0,
        "start_time": "2023-07-09T08:18:15.460Z"
      },
      {
        "duration": 0,
        "start_time": "2023-07-09T08:18:15.463Z"
      },
      {
        "duration": 85,
        "start_time": "2023-07-09T08:19:53.703Z"
      },
      {
        "duration": 1831,
        "start_time": "2023-07-09T08:19:59.454Z"
      },
      {
        "duration": 3331,
        "start_time": "2023-07-09T08:20:01.287Z"
      },
      {
        "duration": 160,
        "start_time": "2023-07-09T08:20:04.621Z"
      },
      {
        "duration": 4,
        "start_time": "2023-07-09T08:20:04.784Z"
      },
      {
        "duration": 412,
        "start_time": "2023-07-09T08:20:04.791Z"
      },
      {
        "duration": 123,
        "start_time": "2023-07-09T08:20:05.205Z"
      },
      {
        "duration": 30,
        "start_time": "2023-07-09T08:20:05.331Z"
      },
      {
        "duration": 420,
        "start_time": "2023-07-09T08:20:05.363Z"
      },
      {
        "duration": 14,
        "start_time": "2023-07-09T08:20:05.786Z"
      },
      {
        "duration": 152,
        "start_time": "2023-07-09T08:20:05.803Z"
      },
      {
        "duration": 494,
        "start_time": "2023-07-09T08:20:05.959Z"
      },
      {
        "duration": 74,
        "start_time": "2023-07-09T08:20:06.456Z"
      },
      {
        "duration": 442,
        "start_time": "2023-07-09T08:20:06.533Z"
      },
      {
        "duration": 289,
        "start_time": "2023-07-09T08:20:06.978Z"
      },
      {
        "duration": 119,
        "start_time": "2023-07-09T08:20:07.269Z"
      },
      {
        "duration": 27,
        "start_time": "2023-07-09T08:20:07.390Z"
      },
      {
        "duration": 90,
        "start_time": "2023-07-09T08:20:07.419Z"
      },
      {
        "duration": 153,
        "start_time": "2023-07-09T08:20:07.511Z"
      },
      {
        "duration": 47,
        "start_time": "2023-07-09T08:20:07.667Z"
      },
      {
        "duration": 90,
        "start_time": "2023-07-09T08:20:07.717Z"
      },
      {
        "duration": 4852,
        "start_time": "2023-07-09T08:20:07.810Z"
      },
      {
        "duration": 5094,
        "start_time": "2023-07-09T08:20:12.667Z"
      },
      {
        "duration": 105,
        "start_time": "2023-07-09T08:20:17.763Z"
      },
      {
        "duration": 462,
        "start_time": "2023-07-09T08:20:17.871Z"
      },
      {
        "duration": 398,
        "start_time": "2023-07-09T08:20:18.336Z"
      },
      {
        "duration": 354,
        "start_time": "2023-07-09T08:20:18.736Z"
      },
      {
        "duration": 498,
        "start_time": "2023-07-09T08:20:19.092Z"
      },
      {
        "duration": 90,
        "start_time": "2023-07-09T08:20:19.595Z"
      },
      {
        "duration": 87,
        "start_time": "2023-07-09T08:20:19.687Z"
      },
      {
        "duration": 82,
        "start_time": "2023-07-09T08:20:19.777Z"
      },
      {
        "duration": 158,
        "start_time": "2023-07-09T08:20:19.862Z"
      },
      {
        "duration": 8,
        "start_time": "2023-07-09T08:20:20.023Z"
      },
      {
        "duration": 1730,
        "start_time": "2023-07-09T08:20:50.747Z"
      },
      {
        "duration": 3336,
        "start_time": "2023-07-09T08:20:52.479Z"
      },
      {
        "duration": 127,
        "start_time": "2023-07-09T08:20:55.817Z"
      },
      {
        "duration": 3,
        "start_time": "2023-07-09T08:20:55.947Z"
      },
      {
        "duration": 457,
        "start_time": "2023-07-09T08:20:55.960Z"
      },
      {
        "duration": 112,
        "start_time": "2023-07-09T08:20:56.419Z"
      },
      {
        "duration": 28,
        "start_time": "2023-07-09T08:20:56.533Z"
      },
      {
        "duration": 429,
        "start_time": "2023-07-09T08:20:56.563Z"
      },
      {
        "duration": 14,
        "start_time": "2023-07-09T08:20:56.994Z"
      },
      {
        "duration": 176,
        "start_time": "2023-07-09T08:20:57.011Z"
      },
      {
        "duration": 473,
        "start_time": "2023-07-09T08:20:57.190Z"
      },
      {
        "duration": 76,
        "start_time": "2023-07-09T08:20:57.665Z"
      },
      {
        "duration": 415,
        "start_time": "2023-07-09T08:20:57.761Z"
      },
      {
        "duration": 315,
        "start_time": "2023-07-09T08:20:58.178Z"
      },
      {
        "duration": 128,
        "start_time": "2023-07-09T08:20:58.497Z"
      },
      {
        "duration": 37,
        "start_time": "2023-07-09T08:20:58.627Z"
      },
      {
        "duration": 51,
        "start_time": "2023-07-09T08:20:58.667Z"
      },
      {
        "duration": 158,
        "start_time": "2023-07-09T08:20:58.720Z"
      },
      {
        "duration": 41,
        "start_time": "2023-07-09T08:20:58.880Z"
      },
      {
        "duration": 101,
        "start_time": "2023-07-09T08:20:58.923Z"
      },
      {
        "duration": 4424,
        "start_time": "2023-07-09T08:20:59.027Z"
      },
      {
        "duration": 4814,
        "start_time": "2023-07-09T08:21:03.460Z"
      },
      {
        "duration": 90,
        "start_time": "2023-07-09T08:21:08.277Z"
      },
      {
        "duration": 339,
        "start_time": "2023-07-09T08:21:08.369Z"
      },
      {
        "duration": 348,
        "start_time": "2023-07-09T08:21:08.711Z"
      },
      {
        "duration": 352,
        "start_time": "2023-07-09T08:21:09.061Z"
      },
      {
        "duration": 516,
        "start_time": "2023-07-09T08:21:09.416Z"
      },
      {
        "duration": 73,
        "start_time": "2023-07-09T08:21:09.937Z"
      },
      {
        "duration": 101,
        "start_time": "2023-07-09T08:21:10.012Z"
      },
      {
        "duration": 99,
        "start_time": "2023-07-09T08:21:10.115Z"
      },
      {
        "duration": 149,
        "start_time": "2023-07-09T08:21:10.217Z"
      },
      {
        "duration": 4,
        "start_time": "2023-07-09T08:21:10.369Z"
      },
      {
        "duration": 85,
        "start_time": "2023-07-09T08:22:20.468Z"
      },
      {
        "duration": 8,
        "start_time": "2023-07-09T08:22:55.205Z"
      },
      {
        "duration": 1675,
        "start_time": "2023-07-09T08:22:59.027Z"
      },
      {
        "duration": 3176,
        "start_time": "2023-07-09T08:23:02.719Z"
      },
      {
        "duration": 25,
        "start_time": "2023-07-09T08:23:18.146Z"
      },
      {
        "duration": 50,
        "start_time": "2023-07-09T08:23:34.755Z"
      },
      {
        "duration": 1899,
        "start_time": "2023-07-09T08:23:42.010Z"
      },
      {
        "duration": 3249,
        "start_time": "2023-07-09T08:23:43.912Z"
      },
      {
        "duration": 134,
        "start_time": "2023-07-09T08:23:47.164Z"
      },
      {
        "duration": 3,
        "start_time": "2023-07-09T08:23:47.300Z"
      },
      {
        "duration": 405,
        "start_time": "2023-07-09T08:23:47.307Z"
      },
      {
        "duration": 104,
        "start_time": "2023-07-09T08:23:47.714Z"
      },
      {
        "duration": 11,
        "start_time": "2023-07-09T08:23:47.820Z"
      },
      {
        "duration": 387,
        "start_time": "2023-07-09T08:23:47.833Z"
      },
      {
        "duration": 14,
        "start_time": "2023-07-09T08:23:48.222Z"
      },
      {
        "duration": 149,
        "start_time": "2023-07-09T08:23:48.237Z"
      },
      {
        "duration": 389,
        "start_time": "2023-07-09T08:23:48.388Z"
      },
      {
        "duration": 63,
        "start_time": "2023-07-09T08:23:48.779Z"
      },
      {
        "duration": 368,
        "start_time": "2023-07-09T08:23:48.858Z"
      },
      {
        "duration": 290,
        "start_time": "2023-07-09T08:23:49.229Z"
      },
      {
        "duration": 115,
        "start_time": "2023-07-09T08:23:49.521Z"
      },
      {
        "duration": 35,
        "start_time": "2023-07-09T08:23:49.638Z"
      },
      {
        "duration": 84,
        "start_time": "2023-07-09T08:23:49.676Z"
      },
      {
        "duration": 147,
        "start_time": "2023-07-09T08:23:49.762Z"
      },
      {
        "duration": 33,
        "start_time": "2023-07-09T08:23:49.911Z"
      },
      {
        "duration": 80,
        "start_time": "2023-07-09T08:23:49.945Z"
      },
      {
        "duration": 3993,
        "start_time": "2023-07-09T08:23:50.028Z"
      },
      {
        "duration": 4458,
        "start_time": "2023-07-09T08:23:54.023Z"
      },
      {
        "duration": 81,
        "start_time": "2023-07-09T08:23:58.483Z"
      },
      {
        "duration": 320,
        "start_time": "2023-07-09T08:23:58.565Z"
      },
      {
        "duration": 354,
        "start_time": "2023-07-09T08:23:58.887Z"
      },
      {
        "duration": 329,
        "start_time": "2023-07-09T08:23:59.242Z"
      },
      {
        "duration": 489,
        "start_time": "2023-07-09T08:23:59.573Z"
      },
      {
        "duration": 86,
        "start_time": "2023-07-09T08:24:00.064Z"
      },
      {
        "duration": 66,
        "start_time": "2023-07-09T08:24:00.152Z"
      },
      {
        "duration": 85,
        "start_time": "2023-07-09T08:24:00.221Z"
      },
      {
        "duration": 152,
        "start_time": "2023-07-09T08:24:00.308Z"
      },
      {
        "duration": 5,
        "start_time": "2023-07-09T08:24:00.463Z"
      },
      {
        "duration": 1737,
        "start_time": "2023-07-09T08:24:38.261Z"
      },
      {
        "duration": 3024,
        "start_time": "2023-07-09T08:24:40.000Z"
      },
      {
        "duration": 140,
        "start_time": "2023-07-09T08:24:43.026Z"
      },
      {
        "duration": 3,
        "start_time": "2023-07-09T08:24:43.168Z"
      },
      {
        "duration": 373,
        "start_time": "2023-07-09T08:24:43.176Z"
      },
      {
        "duration": 119,
        "start_time": "2023-07-09T08:24:43.559Z"
      },
      {
        "duration": 16,
        "start_time": "2023-07-09T08:24:43.680Z"
      },
      {
        "duration": 412,
        "start_time": "2023-07-09T08:24:43.698Z"
      },
      {
        "duration": 14,
        "start_time": "2023-07-09T08:24:44.112Z"
      },
      {
        "duration": 161,
        "start_time": "2023-07-09T08:24:44.128Z"
      },
      {
        "duration": 430,
        "start_time": "2023-07-09T08:24:44.291Z"
      },
      {
        "duration": 69,
        "start_time": "2023-07-09T08:24:44.723Z"
      },
      {
        "duration": 357,
        "start_time": "2023-07-09T08:24:44.793Z"
      },
      {
        "duration": 291,
        "start_time": "2023-07-09T08:24:45.161Z"
      },
      {
        "duration": 109,
        "start_time": "2023-07-09T08:24:45.458Z"
      },
      {
        "duration": 21,
        "start_time": "2023-07-09T08:24:45.568Z"
      },
      {
        "duration": 44,
        "start_time": "2023-07-09T08:24:45.590Z"
      },
      {
        "duration": 133,
        "start_time": "2023-07-09T08:24:45.660Z"
      },
      {
        "duration": 33,
        "start_time": "2023-07-09T08:24:45.794Z"
      },
      {
        "duration": 91,
        "start_time": "2023-07-09T08:24:45.829Z"
      },
      {
        "duration": 3965,
        "start_time": "2023-07-09T08:24:45.923Z"
      },
      {
        "duration": 4121,
        "start_time": "2023-07-09T08:24:49.890Z"
      },
      {
        "duration": 74,
        "start_time": "2023-07-09T08:24:54.013Z"
      },
      {
        "duration": 426,
        "start_time": "2023-07-09T08:24:54.088Z"
      },
      {
        "duration": 335,
        "start_time": "2023-07-09T08:24:54.516Z"
      },
      {
        "duration": 316,
        "start_time": "2023-07-09T08:24:54.859Z"
      },
      {
        "duration": 448,
        "start_time": "2023-07-09T08:24:55.177Z"
      },
      {
        "duration": 68,
        "start_time": "2023-07-09T08:24:55.626Z"
      },
      {
        "duration": 65,
        "start_time": "2023-07-09T08:24:55.696Z"
      },
      {
        "duration": 61,
        "start_time": "2023-07-09T08:24:55.762Z"
      },
      {
        "duration": 173,
        "start_time": "2023-07-09T08:24:55.825Z"
      },
      {
        "duration": 4,
        "start_time": "2023-07-09T08:24:56.000Z"
      },
      {
        "duration": 28,
        "start_time": "2023-07-09T08:24:56.005Z"
      },
      {
        "duration": 139,
        "start_time": "2023-07-09T08:24:56.058Z"
      },
      {
        "duration": 0,
        "start_time": "2023-07-09T08:24:56.199Z"
      },
      {
        "duration": 0,
        "start_time": "2023-07-09T08:24:56.201Z"
      },
      {
        "duration": 0,
        "start_time": "2023-07-09T08:24:56.202Z"
      },
      {
        "duration": 0,
        "start_time": "2023-07-09T08:24:56.204Z"
      },
      {
        "duration": 0,
        "start_time": "2023-07-09T08:24:56.205Z"
      },
      {
        "duration": 0,
        "start_time": "2023-07-09T08:24:56.206Z"
      },
      {
        "duration": 0,
        "start_time": "2023-07-09T08:24:56.207Z"
      },
      {
        "duration": 0,
        "start_time": "2023-07-09T08:24:56.208Z"
      },
      {
        "duration": 0,
        "start_time": "2023-07-09T08:24:56.209Z"
      },
      {
        "duration": 0,
        "start_time": "2023-07-09T08:24:56.210Z"
      },
      {
        "duration": 0,
        "start_time": "2023-07-09T08:24:56.212Z"
      },
      {
        "duration": 0,
        "start_time": "2023-07-09T08:24:56.213Z"
      },
      {
        "duration": 0,
        "start_time": "2023-07-09T08:24:56.214Z"
      },
      {
        "duration": 0,
        "start_time": "2023-07-09T08:24:56.215Z"
      },
      {
        "duration": 0,
        "start_time": "2023-07-09T08:24:56.216Z"
      },
      {
        "duration": 0,
        "start_time": "2023-07-09T08:24:56.218Z"
      },
      {
        "duration": 0,
        "start_time": "2023-07-09T08:24:56.220Z"
      },
      {
        "duration": 0,
        "start_time": "2023-07-09T08:24:56.221Z"
      },
      {
        "duration": 0,
        "start_time": "2023-07-09T08:24:56.222Z"
      },
      {
        "duration": 0,
        "start_time": "2023-07-09T08:24:56.260Z"
      },
      {
        "duration": 0,
        "start_time": "2023-07-09T08:24:56.261Z"
      },
      {
        "duration": 0,
        "start_time": "2023-07-09T08:24:56.261Z"
      },
      {
        "duration": 0,
        "start_time": "2023-07-09T08:24:56.263Z"
      },
      {
        "duration": 0,
        "start_time": "2023-07-09T08:24:56.264Z"
      },
      {
        "duration": 0,
        "start_time": "2023-07-09T08:24:56.265Z"
      },
      {
        "duration": 0,
        "start_time": "2023-07-09T08:24:56.266Z"
      },
      {
        "duration": 0,
        "start_time": "2023-07-09T08:24:56.267Z"
      },
      {
        "duration": 0,
        "start_time": "2023-07-09T08:24:56.268Z"
      },
      {
        "duration": 0,
        "start_time": "2023-07-09T08:24:56.270Z"
      },
      {
        "duration": 1600,
        "start_time": "2023-07-09T08:26:40.326Z"
      },
      {
        "duration": 3105,
        "start_time": "2023-07-09T08:26:41.928Z"
      },
      {
        "duration": 133,
        "start_time": "2023-07-09T08:26:45.035Z"
      },
      {
        "duration": 4,
        "start_time": "2023-07-09T08:26:45.170Z"
      },
      {
        "duration": 393,
        "start_time": "2023-07-09T08:26:45.175Z"
      },
      {
        "duration": 121,
        "start_time": "2023-07-09T08:26:45.570Z"
      },
      {
        "duration": 14,
        "start_time": "2023-07-09T08:26:45.693Z"
      },
      {
        "duration": 434,
        "start_time": "2023-07-09T08:26:45.708Z"
      },
      {
        "duration": 22,
        "start_time": "2023-07-09T08:26:46.143Z"
      },
      {
        "duration": 138,
        "start_time": "2023-07-09T08:26:46.167Z"
      },
      {
        "duration": 403,
        "start_time": "2023-07-09T08:26:46.307Z"
      },
      {
        "duration": 82,
        "start_time": "2023-07-09T08:26:46.712Z"
      },
      {
        "duration": 393,
        "start_time": "2023-07-09T08:26:46.797Z"
      },
      {
        "duration": 289,
        "start_time": "2023-07-09T08:26:47.191Z"
      },
      {
        "duration": 121,
        "start_time": "2023-07-09T08:26:47.482Z"
      },
      {
        "duration": 20,
        "start_time": "2023-07-09T08:26:47.605Z"
      },
      {
        "duration": 69,
        "start_time": "2023-07-09T08:26:47.628Z"
      },
      {
        "duration": 161,
        "start_time": "2023-07-09T08:26:47.700Z"
      },
      {
        "duration": 33,
        "start_time": "2023-07-09T08:26:47.862Z"
      },
      {
        "duration": 100,
        "start_time": "2023-07-09T08:26:47.897Z"
      },
      {
        "duration": 4115,
        "start_time": "2023-07-09T08:26:47.999Z"
      },
      {
        "duration": 4426,
        "start_time": "2023-07-09T08:26:52.116Z"
      },
      {
        "duration": 70,
        "start_time": "2023-07-09T08:26:56.544Z"
      },
      {
        "duration": 345,
        "start_time": "2023-07-09T08:26:56.616Z"
      },
      {
        "duration": 367,
        "start_time": "2023-07-09T08:26:56.963Z"
      },
      {
        "duration": 337,
        "start_time": "2023-07-09T08:26:57.332Z"
      },
      {
        "duration": 473,
        "start_time": "2023-07-09T08:26:57.671Z"
      },
      {
        "duration": 86,
        "start_time": "2023-07-09T08:26:58.148Z"
      },
      {
        "duration": 63,
        "start_time": "2023-07-09T08:26:58.236Z"
      },
      {
        "duration": 77,
        "start_time": "2023-07-09T08:26:58.301Z"
      },
      {
        "duration": 147,
        "start_time": "2023-07-09T08:26:58.380Z"
      },
      {
        "duration": 3,
        "start_time": "2023-07-09T08:26:58.529Z"
      },
      {
        "duration": 38,
        "start_time": "2023-07-09T08:28:20.628Z"
      },
      {
        "duration": 268,
        "start_time": "2023-07-09T08:28:42.851Z"
      },
      {
        "duration": 5,
        "start_time": "2023-07-09T08:28:58.888Z"
      },
      {
        "duration": 2677,
        "start_time": "2023-07-09T08:50:13.547Z"
      },
      {
        "duration": 3609,
        "start_time": "2023-07-09T08:50:16.227Z"
      },
      {
        "duration": 135,
        "start_time": "2023-07-09T08:50:19.838Z"
      },
      {
        "duration": 3,
        "start_time": "2023-07-09T08:50:19.975Z"
      },
      {
        "duration": 430,
        "start_time": "2023-07-09T08:50:19.980Z"
      },
      {
        "duration": 127,
        "start_time": "2023-07-09T08:50:20.412Z"
      },
      {
        "duration": 25,
        "start_time": "2023-07-09T08:50:20.541Z"
      },
      {
        "duration": 425,
        "start_time": "2023-07-09T08:50:20.569Z"
      },
      {
        "duration": 22,
        "start_time": "2023-07-09T08:50:20.997Z"
      },
      {
        "duration": 136,
        "start_time": "2023-07-09T08:50:21.024Z"
      },
      {
        "duration": 523,
        "start_time": "2023-07-09T08:50:21.162Z"
      },
      {
        "duration": 79,
        "start_time": "2023-07-09T08:50:21.687Z"
      },
      {
        "duration": 387,
        "start_time": "2023-07-09T08:50:21.768Z"
      },
      {
        "duration": 402,
        "start_time": "2023-07-09T08:50:22.160Z"
      },
      {
        "duration": 117,
        "start_time": "2023-07-09T08:50:22.565Z"
      },
      {
        "duration": 28,
        "start_time": "2023-07-09T08:50:22.684Z"
      },
      {
        "duration": 70,
        "start_time": "2023-07-09T08:50:22.714Z"
      },
      {
        "duration": 142,
        "start_time": "2023-07-09T08:50:22.786Z"
      },
      {
        "duration": 53,
        "start_time": "2023-07-09T08:50:22.929Z"
      },
      {
        "duration": 104,
        "start_time": "2023-07-09T08:50:22.984Z"
      },
      {
        "duration": 4586,
        "start_time": "2023-07-09T08:50:23.096Z"
      },
      {
        "duration": 4621,
        "start_time": "2023-07-09T08:50:27.684Z"
      },
      {
        "duration": 122,
        "start_time": "2023-07-09T08:50:32.307Z"
      },
      {
        "duration": 406,
        "start_time": "2023-07-09T08:50:32.433Z"
      },
      {
        "duration": 406,
        "start_time": "2023-07-09T08:50:32.842Z"
      },
      {
        "duration": 364,
        "start_time": "2023-07-09T08:50:33.250Z"
      },
      {
        "duration": 589,
        "start_time": "2023-07-09T08:50:33.618Z"
      },
      {
        "duration": 105,
        "start_time": "2023-07-09T08:50:34.213Z"
      },
      {
        "duration": 77,
        "start_time": "2023-07-09T08:50:34.320Z"
      },
      {
        "duration": 79,
        "start_time": "2023-07-09T08:50:34.398Z"
      },
      {
        "duration": 206,
        "start_time": "2023-07-09T08:50:34.480Z"
      },
      {
        "duration": 4,
        "start_time": "2023-07-09T08:50:34.688Z"
      },
      {
        "duration": 43,
        "start_time": "2023-07-09T08:50:34.693Z"
      },
      {
        "duration": 406,
        "start_time": "2023-07-09T08:50:34.739Z"
      },
      {
        "duration": 12,
        "start_time": "2023-07-09T08:50:35.149Z"
      },
      {
        "duration": 55,
        "start_time": "2023-07-09T08:50:57.833Z"
      },
      {
        "duration": 2300,
        "start_time": "2023-07-09T08:51:03.578Z"
      },
      {
        "duration": 3361,
        "start_time": "2023-07-09T08:51:05.881Z"
      },
      {
        "duration": 165,
        "start_time": "2023-07-09T08:51:09.244Z"
      },
      {
        "duration": 4,
        "start_time": "2023-07-09T08:51:09.413Z"
      },
      {
        "duration": 450,
        "start_time": "2023-07-09T08:51:09.419Z"
      },
      {
        "duration": 115,
        "start_time": "2023-07-09T08:51:09.872Z"
      },
      {
        "duration": 14,
        "start_time": "2023-07-09T08:51:09.989Z"
      },
      {
        "duration": 418,
        "start_time": "2023-07-09T08:51:10.005Z"
      },
      {
        "duration": 16,
        "start_time": "2023-07-09T08:51:10.425Z"
      },
      {
        "duration": 146,
        "start_time": "2023-07-09T08:51:10.461Z"
      },
      {
        "duration": 459,
        "start_time": "2023-07-09T08:51:10.610Z"
      },
      {
        "duration": 73,
        "start_time": "2023-07-09T08:51:11.072Z"
      },
      {
        "duration": 451,
        "start_time": "2023-07-09T08:51:11.161Z"
      },
      {
        "duration": 328,
        "start_time": "2023-07-09T08:51:11.614Z"
      },
      {
        "duration": 152,
        "start_time": "2023-07-09T08:51:11.945Z"
      },
      {
        "duration": 32,
        "start_time": "2023-07-09T08:51:12.100Z"
      },
      {
        "duration": 72,
        "start_time": "2023-07-09T08:51:12.134Z"
      },
      {
        "duration": 137,
        "start_time": "2023-07-09T08:51:12.209Z"
      },
      {
        "duration": 61,
        "start_time": "2023-07-09T08:51:12.348Z"
      },
      {
        "duration": 97,
        "start_time": "2023-07-09T08:51:12.412Z"
      },
      {
        "duration": 4560,
        "start_time": "2023-07-09T08:51:12.511Z"
      },
      {
        "duration": 4500,
        "start_time": "2023-07-09T08:51:17.073Z"
      },
      {
        "duration": 88,
        "start_time": "2023-07-09T08:51:21.575Z"
      },
      {
        "duration": 346,
        "start_time": "2023-07-09T08:51:21.665Z"
      },
      {
        "duration": 354,
        "start_time": "2023-07-09T08:51:22.013Z"
      },
      {
        "duration": 352,
        "start_time": "2023-07-09T08:51:22.369Z"
      },
      {
        "duration": 507,
        "start_time": "2023-07-09T08:51:22.723Z"
      },
      {
        "duration": 67,
        "start_time": "2023-07-09T08:51:23.234Z"
      },
      {
        "duration": 87,
        "start_time": "2023-07-09T08:51:23.304Z"
      },
      {
        "duration": 74,
        "start_time": "2023-07-09T08:51:23.394Z"
      },
      {
        "duration": 155,
        "start_time": "2023-07-09T08:51:23.469Z"
      },
      {
        "duration": 5,
        "start_time": "2023-07-09T08:51:23.627Z"
      },
      {
        "duration": 56,
        "start_time": "2023-07-09T08:51:23.634Z"
      },
      {
        "duration": 316,
        "start_time": "2023-07-09T08:51:23.692Z"
      },
      {
        "duration": 6,
        "start_time": "2023-07-09T08:51:24.010Z"
      },
      {
        "duration": 80,
        "start_time": "2023-07-09T08:51:46.808Z"
      },
      {
        "duration": 2511,
        "start_time": "2023-07-09T08:51:51.457Z"
      },
      {
        "duration": 3810,
        "start_time": "2023-07-09T08:51:53.971Z"
      },
      {
        "duration": 187,
        "start_time": "2023-07-09T08:51:57.783Z"
      },
      {
        "duration": 4,
        "start_time": "2023-07-09T08:51:57.973Z"
      },
      {
        "duration": 392,
        "start_time": "2023-07-09T08:51:57.979Z"
      },
      {
        "duration": 116,
        "start_time": "2023-07-09T08:51:58.373Z"
      },
      {
        "duration": 24,
        "start_time": "2023-07-09T08:51:58.490Z"
      },
      {
        "duration": 447,
        "start_time": "2023-07-09T08:51:58.517Z"
      },
      {
        "duration": 17,
        "start_time": "2023-07-09T08:51:58.966Z"
      },
      {
        "duration": 145,
        "start_time": "2023-07-09T08:51:58.988Z"
      },
      {
        "duration": 448,
        "start_time": "2023-07-09T08:51:59.136Z"
      },
      {
        "duration": 86,
        "start_time": "2023-07-09T08:51:59.588Z"
      },
      {
        "duration": 399,
        "start_time": "2023-07-09T08:51:59.677Z"
      },
      {
        "duration": 311,
        "start_time": "2023-07-09T08:52:00.079Z"
      },
      {
        "duration": 126,
        "start_time": "2023-07-09T08:52:00.392Z"
      },
      {
        "duration": 21,
        "start_time": "2023-07-09T08:52:00.521Z"
      },
      {
        "duration": 59,
        "start_time": "2023-07-09T08:52:00.561Z"
      },
      {
        "duration": 159,
        "start_time": "2023-07-09T08:52:00.623Z"
      },
      {
        "duration": 50,
        "start_time": "2023-07-09T08:52:00.784Z"
      },
      {
        "duration": 134,
        "start_time": "2023-07-09T08:52:00.836Z"
      },
      {
        "duration": 4535,
        "start_time": "2023-07-09T08:52:00.972Z"
      },
      {
        "duration": 4618,
        "start_time": "2023-07-09T08:52:05.510Z"
      },
      {
        "duration": 137,
        "start_time": "2023-07-09T08:52:10.131Z"
      },
      {
        "duration": 355,
        "start_time": "2023-07-09T08:52:10.271Z"
      },
      {
        "duration": 418,
        "start_time": "2023-07-09T08:52:10.628Z"
      },
      {
        "duration": 379,
        "start_time": "2023-07-09T08:52:11.048Z"
      },
      {
        "duration": 603,
        "start_time": "2023-07-09T08:52:11.430Z"
      },
      {
        "duration": 80,
        "start_time": "2023-07-09T08:52:12.037Z"
      },
      {
        "duration": 86,
        "start_time": "2023-07-09T08:52:12.120Z"
      },
      {
        "duration": 91,
        "start_time": "2023-07-09T08:52:12.208Z"
      },
      {
        "duration": 162,
        "start_time": "2023-07-09T08:52:12.301Z"
      },
      {
        "duration": 4,
        "start_time": "2023-07-09T08:52:12.465Z"
      },
      {
        "duration": 41,
        "start_time": "2023-07-09T08:52:12.471Z"
      },
      {
        "duration": 93,
        "start_time": "2023-07-09T08:54:05.675Z"
      },
      {
        "duration": 72,
        "start_time": "2023-07-09T08:54:14.962Z"
      },
      {
        "duration": 295,
        "start_time": "2023-07-09T08:54:17.969Z"
      },
      {
        "duration": 5,
        "start_time": "2023-07-09T08:54:20.253Z"
      },
      {
        "duration": 21,
        "start_time": "2023-07-09T08:54:23.180Z"
      },
      {
        "duration": 44,
        "start_time": "2023-07-09T08:54:56.328Z"
      },
      {
        "duration": 40,
        "start_time": "2023-07-09T08:55:56.626Z"
      },
      {
        "duration": 31,
        "start_time": "2023-07-09T08:56:45.801Z"
      },
      {
        "duration": 102,
        "start_time": "2023-07-09T08:56:48.865Z"
      },
      {
        "duration": 7,
        "start_time": "2023-07-09T08:56:51.137Z"
      },
      {
        "duration": 1022,
        "start_time": "2023-07-09T08:56:55.361Z"
      },
      {
        "duration": 396,
        "start_time": "2023-07-09T09:00:30.195Z"
      },
      {
        "duration": 5,
        "start_time": "2023-07-09T09:08:45.746Z"
      },
      {
        "duration": 962,
        "start_time": "2023-07-09T09:08:45.753Z"
      },
      {
        "duration": 118,
        "start_time": "2023-07-09T09:08:46.718Z"
      },
      {
        "duration": 5,
        "start_time": "2023-07-09T09:08:46.838Z"
      },
      {
        "duration": 349,
        "start_time": "2023-07-09T09:08:46.860Z"
      },
      {
        "duration": 107,
        "start_time": "2023-07-09T09:08:47.211Z"
      },
      {
        "duration": 10,
        "start_time": "2023-07-09T09:08:47.320Z"
      },
      {
        "duration": 380,
        "start_time": "2023-07-09T09:08:47.331Z"
      },
      {
        "duration": 14,
        "start_time": "2023-07-09T09:08:47.714Z"
      },
      {
        "duration": 116,
        "start_time": "2023-07-09T09:08:47.730Z"
      },
      {
        "duration": 1511,
        "start_time": "2023-07-09T09:10:24.716Z"
      },
      {
        "duration": 995,
        "start_time": "2023-07-09T09:10:26.229Z"
      },
      {
        "duration": 140,
        "start_time": "2023-07-09T09:10:27.225Z"
      },
      {
        "duration": 4,
        "start_time": "2023-07-09T09:10:27.369Z"
      },
      {
        "duration": 346,
        "start_time": "2023-07-09T09:10:27.376Z"
      },
      {
        "duration": 119,
        "start_time": "2023-07-09T09:10:27.724Z"
      },
      {
        "duration": 18,
        "start_time": "2023-07-09T09:10:27.845Z"
      },
      {
        "duration": 389,
        "start_time": "2023-07-09T09:10:27.865Z"
      },
      {
        "duration": 18,
        "start_time": "2023-07-09T09:10:28.258Z"
      },
      {
        "duration": 137,
        "start_time": "2023-07-09T09:10:28.280Z"
      },
      {
        "duration": 392,
        "start_time": "2023-07-09T09:10:28.419Z"
      },
      {
        "duration": 79,
        "start_time": "2023-07-09T09:10:28.814Z"
      },
      {
        "duration": 352,
        "start_time": "2023-07-09T09:10:28.895Z"
      },
      {
        "duration": 277,
        "start_time": "2023-07-09T09:10:29.249Z"
      },
      {
        "duration": 143,
        "start_time": "2023-07-09T09:10:29.527Z"
      },
      {
        "duration": 19,
        "start_time": "2023-07-09T09:10:29.672Z"
      },
      {
        "duration": 40,
        "start_time": "2023-07-09T09:10:29.693Z"
      },
      {
        "duration": 164,
        "start_time": "2023-07-09T09:10:29.735Z"
      },
      {
        "duration": 30,
        "start_time": "2023-07-09T09:10:29.901Z"
      },
      {
        "duration": 94,
        "start_time": "2023-07-09T09:10:29.933Z"
      },
      {
        "duration": 4215,
        "start_time": "2023-07-09T09:10:30.029Z"
      },
      {
        "duration": 4768,
        "start_time": "2023-07-09T09:10:34.246Z"
      },
      {
        "duration": 87,
        "start_time": "2023-07-09T09:10:39.016Z"
      },
      {
        "duration": 354,
        "start_time": "2023-07-09T09:10:39.105Z"
      },
      {
        "duration": 371,
        "start_time": "2023-07-09T09:10:39.461Z"
      },
      {
        "duration": 373,
        "start_time": "2023-07-09T09:10:39.834Z"
      },
      {
        "duration": 475,
        "start_time": "2023-07-09T09:10:40.209Z"
      },
      {
        "duration": 81,
        "start_time": "2023-07-09T09:10:40.688Z"
      },
      {
        "duration": 55,
        "start_time": "2023-07-09T09:10:40.772Z"
      },
      {
        "duration": 72,
        "start_time": "2023-07-09T09:10:40.829Z"
      },
      {
        "duration": 166,
        "start_time": "2023-07-09T09:10:40.903Z"
      },
      {
        "duration": 4,
        "start_time": "2023-07-09T09:10:47.319Z"
      },
      {
        "duration": 136,
        "start_time": "2023-07-09T09:11:08.899Z"
      },
      {
        "duration": 15,
        "start_time": "2023-07-09T09:11:30.029Z"
      },
      {
        "duration": 12,
        "start_time": "2023-07-09T09:11:40.323Z"
      },
      {
        "duration": 702,
        "start_time": "2023-07-09T09:12:05.325Z"
      },
      {
        "duration": 1537,
        "start_time": "2023-07-09T09:12:22.193Z"
      },
      {
        "duration": 488,
        "start_time": "2023-07-09T09:13:11.517Z"
      },
      {
        "duration": 7,
        "start_time": "2023-07-09T09:13:30.177Z"
      },
      {
        "duration": 10,
        "start_time": "2023-07-09T09:13:54.919Z"
      },
      {
        "duration": 3,
        "start_time": "2023-07-09T09:14:05.125Z"
      },
      {
        "duration": 68,
        "start_time": "2023-07-09T09:15:06.133Z"
      },
      {
        "duration": 1815,
        "start_time": "2023-07-09T09:15:12.289Z"
      },
      {
        "duration": 3349,
        "start_time": "2023-07-09T09:15:14.111Z"
      },
      {
        "duration": 139,
        "start_time": "2023-07-09T09:15:17.463Z"
      },
      {
        "duration": 3,
        "start_time": "2023-07-09T09:15:17.604Z"
      },
      {
        "duration": 388,
        "start_time": "2023-07-09T09:15:17.609Z"
      },
      {
        "duration": 108,
        "start_time": "2023-07-09T09:15:17.999Z"
      },
      {
        "duration": 9,
        "start_time": "2023-07-09T09:15:18.108Z"
      },
      {
        "duration": 419,
        "start_time": "2023-07-09T09:15:18.119Z"
      },
      {
        "duration": 21,
        "start_time": "2023-07-09T09:15:18.540Z"
      },
      {
        "duration": 129,
        "start_time": "2023-07-09T09:15:18.566Z"
      },
      {
        "duration": 427,
        "start_time": "2023-07-09T09:15:18.697Z"
      },
      {
        "duration": 78,
        "start_time": "2023-07-09T09:15:19.126Z"
      },
      {
        "duration": 395,
        "start_time": "2023-07-09T09:15:19.206Z"
      },
      {
        "duration": 320,
        "start_time": "2023-07-09T09:15:19.603Z"
      },
      {
        "duration": 124,
        "start_time": "2023-07-09T09:15:19.925Z"
      },
      {
        "duration": 28,
        "start_time": "2023-07-09T09:15:20.064Z"
      },
      {
        "duration": 60,
        "start_time": "2023-07-09T09:15:20.094Z"
      },
      {
        "duration": 139,
        "start_time": "2023-07-09T09:15:20.155Z"
      },
      {
        "duration": 31,
        "start_time": "2023-07-09T09:15:20.295Z"
      },
      {
        "duration": 88,
        "start_time": "2023-07-09T09:15:20.328Z"
      },
      {
        "duration": 4104,
        "start_time": "2023-07-09T09:15:20.418Z"
      },
      {
        "duration": 4242,
        "start_time": "2023-07-09T09:15:24.524Z"
      },
      {
        "duration": 62,
        "start_time": "2023-07-09T09:15:28.768Z"
      },
      {
        "duration": 309,
        "start_time": "2023-07-09T09:15:28.831Z"
      },
      {
        "duration": 328,
        "start_time": "2023-07-09T09:15:29.141Z"
      },
      {
        "duration": 335,
        "start_time": "2023-07-09T09:15:29.477Z"
      },
      {
        "duration": 513,
        "start_time": "2023-07-09T09:15:29.813Z"
      },
      {
        "duration": 66,
        "start_time": "2023-07-09T09:15:30.329Z"
      },
      {
        "duration": 100,
        "start_time": "2023-07-09T09:15:30.397Z"
      },
      {
        "duration": 47,
        "start_time": "2023-07-09T09:15:30.499Z"
      },
      {
        "duration": 162,
        "start_time": "2023-07-09T09:15:30.559Z"
      },
      {
        "duration": 4,
        "start_time": "2023-07-09T09:15:30.723Z"
      },
      {
        "duration": 922,
        "start_time": "2023-07-09T09:15:30.729Z"
      },
      {
        "duration": 497,
        "start_time": "2023-07-09T09:15:31.654Z"
      },
      {
        "duration": 13,
        "start_time": "2023-07-09T09:15:32.159Z"
      },
      {
        "duration": 57,
        "start_time": "2023-07-09T09:15:32.174Z"
      },
      {
        "duration": 60,
        "start_time": "2023-07-09T09:15:55.469Z"
      },
      {
        "duration": 7,
        "start_time": "2023-07-09T09:16:01.902Z"
      },
      {
        "duration": 1543,
        "start_time": "2023-07-09T09:17:16.003Z"
      },
      {
        "duration": 3088,
        "start_time": "2023-07-09T09:17:17.548Z"
      },
      {
        "duration": 139,
        "start_time": "2023-07-09T09:17:20.638Z"
      },
      {
        "duration": 5,
        "start_time": "2023-07-09T09:17:20.779Z"
      },
      {
        "duration": 343,
        "start_time": "2023-07-09T09:17:20.785Z"
      },
      {
        "duration": 111,
        "start_time": "2023-07-09T09:17:21.130Z"
      },
      {
        "duration": 25,
        "start_time": "2023-07-09T09:17:21.243Z"
      },
      {
        "duration": 415,
        "start_time": "2023-07-09T09:17:21.271Z"
      },
      {
        "duration": 15,
        "start_time": "2023-07-09T09:17:21.688Z"
      },
      {
        "duration": 162,
        "start_time": "2023-07-09T09:17:21.705Z"
      },
      {
        "duration": 411,
        "start_time": "2023-07-09T09:17:21.875Z"
      },
      {
        "duration": 84,
        "start_time": "2023-07-09T09:17:22.289Z"
      },
      {
        "duration": 376,
        "start_time": "2023-07-09T09:17:22.376Z"
      },
      {
        "duration": 280,
        "start_time": "2023-07-09T09:17:22.754Z"
      },
      {
        "duration": 135,
        "start_time": "2023-07-09T09:17:23.036Z"
      },
      {
        "duration": 22,
        "start_time": "2023-07-09T09:17:23.174Z"
      },
      {
        "duration": 67,
        "start_time": "2023-07-09T09:17:23.198Z"
      },
      {
        "duration": 144,
        "start_time": "2023-07-09T09:17:23.268Z"
      },
      {
        "duration": 46,
        "start_time": "2023-07-09T09:17:23.414Z"
      },
      {
        "duration": 70,
        "start_time": "2023-07-09T09:17:23.465Z"
      },
      {
        "duration": 4556,
        "start_time": "2023-07-09T09:17:23.537Z"
      },
      {
        "duration": 4634,
        "start_time": "2023-07-09T09:17:28.095Z"
      },
      {
        "duration": 79,
        "start_time": "2023-07-09T09:17:32.731Z"
      },
      {
        "duration": 343,
        "start_time": "2023-07-09T09:17:32.811Z"
      },
      {
        "duration": 329,
        "start_time": "2023-07-09T09:17:33.159Z"
      },
      {
        "duration": 342,
        "start_time": "2023-07-09T09:17:33.490Z"
      },
      {
        "duration": 586,
        "start_time": "2023-07-09T09:17:33.833Z"
      },
      {
        "duration": 82,
        "start_time": "2023-07-09T09:17:34.423Z"
      },
      {
        "duration": 73,
        "start_time": "2023-07-09T09:17:34.507Z"
      },
      {
        "duration": 50,
        "start_time": "2023-07-09T09:17:34.582Z"
      },
      {
        "duration": 168,
        "start_time": "2023-07-09T09:17:34.634Z"
      },
      {
        "duration": 4,
        "start_time": "2023-07-09T09:17:34.803Z"
      },
      {
        "duration": 824,
        "start_time": "2023-07-09T09:17:34.808Z"
      },
      {
        "duration": 514,
        "start_time": "2023-07-09T09:17:35.634Z"
      },
      {
        "duration": 23,
        "start_time": "2023-07-09T09:17:36.149Z"
      },
      {
        "duration": 7,
        "start_time": "2023-07-09T09:17:36.175Z"
      },
      {
        "duration": 66,
        "start_time": "2023-07-09T09:23:08.132Z"
      },
      {
        "duration": 1668,
        "start_time": "2023-07-09T09:23:14.012Z"
      },
      {
        "duration": 3224,
        "start_time": "2023-07-09T09:23:15.684Z"
      },
      {
        "duration": 140,
        "start_time": "2023-07-09T09:23:18.910Z"
      },
      {
        "duration": 3,
        "start_time": "2023-07-09T09:23:19.052Z"
      },
      {
        "duration": 412,
        "start_time": "2023-07-09T09:23:19.056Z"
      },
      {
        "duration": 118,
        "start_time": "2023-07-09T09:23:19.471Z"
      },
      {
        "duration": 21,
        "start_time": "2023-07-09T09:23:19.591Z"
      },
      {
        "duration": 421,
        "start_time": "2023-07-09T09:23:19.614Z"
      },
      {
        "duration": 26,
        "start_time": "2023-07-09T09:23:20.038Z"
      },
      {
        "duration": 143,
        "start_time": "2023-07-09T09:23:20.066Z"
      },
      {
        "duration": 421,
        "start_time": "2023-07-09T09:23:20.212Z"
      },
      {
        "duration": 78,
        "start_time": "2023-07-09T09:23:20.635Z"
      },
      {
        "duration": 378,
        "start_time": "2023-07-09T09:23:20.714Z"
      },
      {
        "duration": 303,
        "start_time": "2023-07-09T09:23:21.095Z"
      },
      {
        "duration": 909,
        "start_time": "2023-07-09T09:23:21.399Z"
      },
      {
        "duration": 525,
        "start_time": "2023-07-09T09:23:22.309Z"
      },
      {
        "duration": 74,
        "start_time": "2023-07-09T09:23:22.836Z"
      },
      {
        "duration": 162,
        "start_time": "2023-07-09T09:23:22.913Z"
      },
      {
        "duration": 41,
        "start_time": "2023-07-09T09:23:23.077Z"
      },
      {
        "duration": 87,
        "start_time": "2023-07-09T09:23:23.120Z"
      },
      {
        "duration": 4287,
        "start_time": "2023-07-09T09:23:23.208Z"
      },
      {
        "duration": 4516,
        "start_time": "2023-07-09T09:23:27.497Z"
      },
      {
        "duration": 81,
        "start_time": "2023-07-09T09:23:32.015Z"
      },
      {
        "duration": 368,
        "start_time": "2023-07-09T09:23:32.098Z"
      },
      {
        "duration": 359,
        "start_time": "2023-07-09T09:23:32.470Z"
      },
      {
        "duration": 365,
        "start_time": "2023-07-09T09:23:32.831Z"
      },
      {
        "duration": 485,
        "start_time": "2023-07-09T09:23:33.198Z"
      },
      {
        "duration": 76,
        "start_time": "2023-07-09T09:23:33.685Z"
      },
      {
        "duration": 61,
        "start_time": "2023-07-09T09:23:33.764Z"
      },
      {
        "duration": 73,
        "start_time": "2023-07-09T09:23:33.826Z"
      },
      {
        "duration": 177,
        "start_time": "2023-07-09T09:23:33.900Z"
      },
      {
        "duration": 4,
        "start_time": "2023-07-09T09:23:34.079Z"
      },
      {
        "duration": 26,
        "start_time": "2023-07-09T09:23:34.086Z"
      },
      {
        "duration": 110,
        "start_time": "2023-07-09T09:23:34.115Z"
      },
      {
        "duration": 6,
        "start_time": "2023-07-09T09:23:34.227Z"
      },
      {
        "duration": 974,
        "start_time": "2023-07-09T09:23:34.235Z"
      },
      {
        "duration": 383,
        "start_time": "2023-07-09T09:23:35.211Z"
      },
      {
        "duration": 4,
        "start_time": "2023-07-09T09:24:55.506Z"
      },
      {
        "duration": 1170,
        "start_time": "2023-07-09T09:24:55.512Z"
      },
      {
        "duration": 142,
        "start_time": "2023-07-09T09:24:56.688Z"
      },
      {
        "duration": 4,
        "start_time": "2023-07-09T09:24:56.832Z"
      },
      {
        "duration": 393,
        "start_time": "2023-07-09T09:24:56.837Z"
      },
      {
        "duration": 114,
        "start_time": "2023-07-09T09:24:57.231Z"
      },
      {
        "duration": 30,
        "start_time": "2023-07-09T09:24:57.347Z"
      },
      {
        "duration": 389,
        "start_time": "2023-07-09T09:24:57.385Z"
      },
      {
        "duration": 16,
        "start_time": "2023-07-09T09:24:57.778Z"
      },
      {
        "duration": 119,
        "start_time": "2023-07-09T09:24:57.796Z"
      },
      {
        "duration": 338,
        "start_time": "2023-07-09T09:24:57.916Z"
      },
      {
        "duration": 80,
        "start_time": "2023-07-09T09:24:58.255Z"
      },
      {
        "duration": 384,
        "start_time": "2023-07-09T09:24:58.337Z"
      },
      {
        "duration": 286,
        "start_time": "2023-07-09T09:24:58.723Z"
      },
      {
        "duration": 116,
        "start_time": "2023-07-09T09:24:59.010Z"
      },
      {
        "duration": 36,
        "start_time": "2023-07-09T09:24:59.128Z"
      },
      {
        "duration": 54,
        "start_time": "2023-07-09T09:24:59.165Z"
      },
      {
        "duration": 147,
        "start_time": "2023-07-09T09:24:59.220Z"
      },
      {
        "duration": 36,
        "start_time": "2023-07-09T09:24:59.370Z"
      },
      {
        "duration": 95,
        "start_time": "2023-07-09T09:24:59.407Z"
      },
      {
        "duration": 4461,
        "start_time": "2023-07-09T09:24:59.503Z"
      },
      {
        "duration": 4941,
        "start_time": "2023-07-09T09:25:03.967Z"
      },
      {
        "duration": 82,
        "start_time": "2023-07-09T09:25:08.910Z"
      },
      {
        "duration": 363,
        "start_time": "2023-07-09T09:25:08.996Z"
      },
      {
        "duration": 521,
        "start_time": "2023-07-09T09:25:09.362Z"
      },
      {
        "duration": 351,
        "start_time": "2023-07-09T09:25:09.886Z"
      },
      {
        "duration": 373,
        "start_time": "2023-07-09T09:25:10.239Z"
      },
      {
        "duration": 75,
        "start_time": "2023-07-09T09:25:10.613Z"
      },
      {
        "duration": 76,
        "start_time": "2023-07-09T09:25:10.691Z"
      },
      {
        "duration": 57,
        "start_time": "2023-07-09T09:25:10.770Z"
      },
      {
        "duration": 163,
        "start_time": "2023-07-09T09:25:10.829Z"
      },
      {
        "duration": 3,
        "start_time": "2023-07-09T09:25:10.994Z"
      },
      {
        "duration": 22,
        "start_time": "2023-07-09T09:25:10.999Z"
      },
      {
        "duration": 99,
        "start_time": "2023-07-09T09:25:11.023Z"
      },
      {
        "duration": 5,
        "start_time": "2023-07-09T09:25:11.124Z"
      },
      {
        "duration": 1029,
        "start_time": "2023-07-09T09:25:11.131Z"
      },
      {
        "duration": 401,
        "start_time": "2023-07-09T09:25:12.162Z"
      },
      {
        "duration": 188704,
        "start_time": "2023-07-09T09:25:12.565Z"
      },
      {
        "duration": 2433,
        "start_time": "2023-07-09T10:58:49.761Z"
      },
      {
        "duration": 889,
        "start_time": "2023-07-09T10:58:52.196Z"
      },
      {
        "duration": 128,
        "start_time": "2023-07-09T10:58:53.087Z"
      },
      {
        "duration": 3,
        "start_time": "2023-07-09T10:58:53.216Z"
      },
      {
        "duration": 305,
        "start_time": "2023-07-09T10:58:53.220Z"
      },
      {
        "duration": 113,
        "start_time": "2023-07-09T10:58:53.526Z"
      },
      {
        "duration": 10,
        "start_time": "2023-07-09T10:58:53.640Z"
      },
      {
        "duration": 358,
        "start_time": "2023-07-09T10:58:53.652Z"
      },
      {
        "duration": 14,
        "start_time": "2023-07-09T10:58:54.012Z"
      },
      {
        "duration": 140,
        "start_time": "2023-07-09T10:58:54.029Z"
      },
      {
        "duration": 319,
        "start_time": "2023-07-09T10:58:54.170Z"
      },
      {
        "duration": 60,
        "start_time": "2023-07-09T10:58:54.491Z"
      },
      {
        "duration": 297,
        "start_time": "2023-07-09T10:58:54.553Z"
      },
      {
        "duration": 238,
        "start_time": "2023-07-09T10:58:54.851Z"
      },
      {
        "duration": 120,
        "start_time": "2023-07-09T10:58:55.090Z"
      },
      {
        "duration": 17,
        "start_time": "2023-07-09T10:58:55.211Z"
      },
      {
        "duration": 53,
        "start_time": "2023-07-09T10:58:55.229Z"
      },
      {
        "duration": 118,
        "start_time": "2023-07-09T10:58:55.283Z"
      },
      {
        "duration": 27,
        "start_time": "2023-07-09T10:58:55.403Z"
      },
      {
        "duration": 91,
        "start_time": "2023-07-09T10:58:55.432Z"
      },
      {
        "duration": 3886,
        "start_time": "2023-07-09T10:58:55.524Z"
      },
      {
        "duration": 3984,
        "start_time": "2023-07-09T10:58:59.412Z"
      },
      {
        "duration": 75,
        "start_time": "2023-07-09T10:59:03.398Z"
      },
      {
        "duration": 265,
        "start_time": "2023-07-09T10:59:03.475Z"
      },
      {
        "duration": 308,
        "start_time": "2023-07-09T10:59:03.742Z"
      },
      {
        "duration": 308,
        "start_time": "2023-07-09T10:59:04.051Z"
      },
      {
        "duration": 373,
        "start_time": "2023-07-09T10:59:04.361Z"
      },
      {
        "duration": 74,
        "start_time": "2023-07-09T10:59:04.738Z"
      },
      {
        "duration": 63,
        "start_time": "2023-07-09T10:59:04.814Z"
      },
      {
        "duration": 49,
        "start_time": "2023-07-09T10:59:04.879Z"
      },
      {
        "duration": 140,
        "start_time": "2023-07-09T10:59:04.930Z"
      },
      {
        "duration": 4,
        "start_time": "2023-07-09T10:59:05.072Z"
      },
      {
        "duration": 34,
        "start_time": "2023-07-09T10:59:05.077Z"
      },
      {
        "duration": 59,
        "start_time": "2023-07-09T10:59:05.112Z"
      },
      {
        "duration": 3,
        "start_time": "2023-07-09T10:59:05.173Z"
      },
      {
        "duration": 718,
        "start_time": "2023-07-09T10:59:05.178Z"
      },
      {
        "duration": 310,
        "start_time": "2023-07-09T10:59:05.898Z"
      },
      {
        "duration": 78864,
        "start_time": "2023-07-09T10:59:06.210Z"
      },
      {
        "duration": 73693,
        "start_time": "2023-07-09T11:00:25.078Z"
      },
      {
        "duration": 401360,
        "start_time": "2023-07-09T11:01:38.773Z"
      },
      {
        "duration": 213,
        "start_time": "2023-07-09T11:08:20.135Z"
      },
      {
        "duration": 115,
        "start_time": "2023-07-09T11:08:20.349Z"
      },
      {
        "duration": 123,
        "start_time": "2023-07-09T11:08:20.466Z"
      },
      {
        "duration": 433,
        "start_time": "2023-07-09T11:08:20.590Z"
      },
      {
        "duration": 16044,
        "start_time": "2023-07-09T11:08:21.025Z"
      },
      {
        "duration": 198,
        "start_time": "2023-07-09T11:08:37.071Z"
      },
      {
        "duration": 96,
        "start_time": "2023-07-09T11:08:37.272Z"
      },
      {
        "duration": 3599,
        "start_time": "2023-07-09T11:08:37.370Z"
      },
      {
        "duration": 78,
        "start_time": "2023-07-09T11:08:40.970Z"
      },
      {
        "duration": 3,
        "start_time": "2023-07-09T11:08:41.050Z"
      },
      {
        "duration": 220,
        "start_time": "2023-07-09T11:08:41.068Z"
      },
      {
        "duration": 243,
        "start_time": "2023-07-09T11:08:41.290Z"
      },
      {
        "duration": 3,
        "start_time": "2023-07-09T11:08:41.535Z"
      },
      {
        "duration": 124,
        "start_time": "2023-07-09T11:08:41.539Z"
      },
      {
        "duration": 128,
        "start_time": "2023-07-09T11:08:41.664Z"
      },
      {
        "duration": 4,
        "start_time": "2023-07-09T11:08:41.793Z"
      },
      {
        "duration": 190,
        "start_time": "2023-07-09T11:08:41.798Z"
      },
      {
        "duration": 118,
        "start_time": "2023-07-09T11:08:41.989Z"
      },
      {
        "duration": 115,
        "start_time": "2023-07-09T11:08:42.109Z"
      },
      {
        "duration": 116,
        "start_time": "2023-07-09T11:08:42.225Z"
      },
      {
        "duration": 3,
        "start_time": "2023-07-09T11:08:42.343Z"
      },
      {
        "duration": 20,
        "start_time": "2023-07-09T11:08:42.348Z"
      },
      {
        "duration": 1953,
        "start_time": "2023-07-09T13:10:09.137Z"
      },
      {
        "duration": 3614,
        "start_time": "2023-07-09T13:10:11.092Z"
      },
      {
        "duration": 175,
        "start_time": "2023-07-09T13:10:14.709Z"
      },
      {
        "duration": 5,
        "start_time": "2023-07-09T13:10:14.887Z"
      },
      {
        "duration": 374,
        "start_time": "2023-07-09T13:10:14.894Z"
      },
      {
        "duration": 143,
        "start_time": "2023-07-09T13:10:15.271Z"
      },
      {
        "duration": 13,
        "start_time": "2023-07-09T13:10:15.416Z"
      },
      {
        "duration": 446,
        "start_time": "2023-07-09T13:10:15.431Z"
      },
      {
        "duration": 14,
        "start_time": "2023-07-09T13:10:15.880Z"
      },
      {
        "duration": 143,
        "start_time": "2023-07-09T13:10:15.897Z"
      },
      {
        "duration": 427,
        "start_time": "2023-07-09T13:10:16.042Z"
      },
      {
        "duration": 77,
        "start_time": "2023-07-09T13:10:16.472Z"
      },
      {
        "duration": 410,
        "start_time": "2023-07-09T13:10:16.551Z"
      },
      {
        "duration": 294,
        "start_time": "2023-07-09T13:10:16.964Z"
      },
      {
        "duration": 176,
        "start_time": "2023-07-09T13:10:17.259Z"
      },
      {
        "duration": 33,
        "start_time": "2023-07-09T13:10:17.436Z"
      },
      {
        "duration": 49,
        "start_time": "2023-07-09T13:10:17.476Z"
      },
      {
        "duration": 161,
        "start_time": "2023-07-09T13:10:17.526Z"
      },
      {
        "duration": 30,
        "start_time": "2023-07-09T13:10:17.689Z"
      },
      {
        "duration": 181,
        "start_time": "2023-07-09T13:10:17.721Z"
      },
      {
        "duration": 4765,
        "start_time": "2023-07-09T13:10:17.904Z"
      },
      {
        "duration": 5266,
        "start_time": "2023-07-09T13:10:22.672Z"
      },
      {
        "duration": 118,
        "start_time": "2023-07-09T13:10:27.940Z"
      },
      {
        "duration": 384,
        "start_time": "2023-07-09T13:10:28.064Z"
      },
      {
        "duration": 375,
        "start_time": "2023-07-09T13:10:28.450Z"
      },
      {
        "duration": 373,
        "start_time": "2023-07-09T13:10:28.827Z"
      },
      {
        "duration": 492,
        "start_time": "2023-07-09T13:10:29.201Z"
      },
      {
        "duration": 96,
        "start_time": "2023-07-09T13:10:29.696Z"
      },
      {
        "duration": 87,
        "start_time": "2023-07-09T13:10:29.794Z"
      },
      {
        "duration": 55,
        "start_time": "2023-07-09T13:10:29.887Z"
      },
      {
        "duration": 166,
        "start_time": "2023-07-09T13:10:29.944Z"
      },
      {
        "duration": 3,
        "start_time": "2023-07-09T13:10:30.112Z"
      },
      {
        "duration": 17,
        "start_time": "2023-07-09T13:10:30.116Z"
      },
      {
        "duration": 94,
        "start_time": "2023-07-09T13:10:30.135Z"
      },
      {
        "duration": 4,
        "start_time": "2023-07-09T13:10:30.231Z"
      },
      {
        "duration": 705,
        "start_time": "2023-07-09T13:10:34.252Z"
      },
      {
        "duration": 878,
        "start_time": "2023-07-09T13:12:02.221Z"
      },
      {
        "duration": 135,
        "start_time": "2023-07-09T13:15:02.213Z"
      },
      {
        "duration": 800,
        "start_time": "2023-07-09T13:15:06.901Z"
      },
      {
        "duration": 309,
        "start_time": "2023-07-09T13:15:56.308Z"
      },
      {
        "duration": 422,
        "start_time": "2023-07-09T13:17:06.094Z"
      },
      {
        "duration": 538,
        "start_time": "2023-07-09T13:19:10.198Z"
      },
      {
        "duration": 397,
        "start_time": "2023-07-09T13:19:40.477Z"
      },
      {
        "duration": 394,
        "start_time": "2023-07-09T13:20:09.621Z"
      },
      {
        "duration": 19,
        "start_time": "2023-07-09T13:25:38.646Z"
      },
      {
        "duration": 11,
        "start_time": "2023-07-09T13:26:17.837Z"
      },
      {
        "duration": 75,
        "start_time": "2023-07-09T13:26:19.991Z"
      },
      {
        "duration": 978,
        "start_time": "2023-07-09T13:26:37.414Z"
      },
      {
        "duration": 15,
        "start_time": "2023-07-09T13:26:51.030Z"
      },
      {
        "duration": 17,
        "start_time": "2023-07-09T13:27:57.457Z"
      },
      {
        "duration": 409,
        "start_time": "2023-07-09T13:28:58.638Z"
      },
      {
        "duration": 514,
        "start_time": "2023-07-09T13:29:06.414Z"
      },
      {
        "duration": 5,
        "start_time": "2023-07-09T13:29:24.606Z"
      },
      {
        "duration": 40572,
        "start_time": "2023-07-09T13:30:34.095Z"
      },
      {
        "duration": 498,
        "start_time": "2023-07-09T13:32:20.867Z"
      },
      {
        "duration": 6,
        "start_time": "2023-07-09T13:32:31.942Z"
      },
      {
        "duration": 69,
        "start_time": "2023-07-09T13:33:15.102Z"
      },
      {
        "duration": 75,
        "start_time": "2023-07-09T13:33:55.686Z"
      },
      {
        "duration": 5,
        "start_time": "2023-07-09T13:34:02.307Z"
      },
      {
        "duration": 2,
        "start_time": "2023-07-09T13:34:19.814Z"
      },
      {
        "duration": 1062,
        "start_time": "2023-07-09T13:36:17.403Z"
      },
      {
        "duration": 159510,
        "start_time": "2023-07-09T13:39:03.963Z"
      },
      {
        "duration": 102,
        "start_time": "2023-07-09T13:51:12.009Z"
      },
      {
        "duration": 4,
        "start_time": "2023-07-09T13:51:42.337Z"
      },
      {
        "duration": 40631,
        "start_time": "2023-07-09T13:52:22.032Z"
      },
      {
        "duration": 39635,
        "start_time": "2023-07-09T13:59:24.538Z"
      },
      {
        "duration": 68083,
        "start_time": "2023-07-09T14:01:15.695Z"
      },
      {
        "duration": 68242,
        "start_time": "2023-07-09T14:02:43.023Z"
      },
      {
        "duration": 482,
        "start_time": "2023-07-09T14:04:20.779Z"
      },
      {
        "duration": 84812,
        "start_time": "2023-07-09T14:04:30.881Z"
      },
      {
        "duration": 5,
        "start_time": "2023-07-09T14:06:45.091Z"
      },
      {
        "duration": 75800,
        "start_time": "2023-07-09T14:08:38.978Z"
      },
      {
        "duration": 597,
        "start_time": "2023-07-09T14:09:55.362Z"
      },
      {
        "duration": 157,
        "start_time": "2023-07-09T14:09:55.961Z"
      },
      {
        "duration": 11,
        "start_time": "2023-07-09T14:10:09.088Z"
      },
      {
        "duration": 4,
        "start_time": "2023-07-09T14:10:38.780Z"
      },
      {
        "duration": 324601,
        "start_time": "2023-07-09T14:12:24.186Z"
      },
      {
        "duration": 934,
        "start_time": "2023-07-09T14:17:48.859Z"
      },
      {
        "duration": 450191,
        "start_time": "2023-07-09T14:17:49.795Z"
      },
      {
        "duration": 33498,
        "start_time": "2023-07-09T14:25:19.988Z"
      },
      {
        "duration": 33856,
        "start_time": "2023-07-09T14:29:48.376Z"
      },
      {
        "duration": 201,
        "start_time": "2023-07-09T14:31:00.030Z"
      },
      {
        "duration": 11,
        "start_time": "2023-07-09T14:31:50.466Z"
      },
      {
        "duration": 435257,
        "start_time": "2023-07-09T14:32:00.925Z"
      },
      {
        "duration": 34087,
        "start_time": "2023-07-09T14:40:14.392Z"
      },
      {
        "duration": 96,
        "start_time": "2023-07-09T14:40:48.481Z"
      },
      {
        "duration": 5,
        "start_time": "2023-07-09T14:40:48.580Z"
      },
      {
        "duration": 21,
        "start_time": "2023-07-09T14:43:18.601Z"
      },
      {
        "duration": 35059,
        "start_time": "2023-07-09T14:44:12.993Z"
      },
      {
        "duration": 177,
        "start_time": "2023-07-09T14:46:17.316Z"
      },
      {
        "duration": 5,
        "start_time": "2023-07-09T14:46:19.685Z"
      },
      {
        "duration": 1424002,
        "start_time": "2023-07-09T14:46:28.717Z"
      },
      {
        "duration": 158653,
        "start_time": "2023-07-09T15:10:12.721Z"
      },
      {
        "duration": 1177,
        "start_time": "2023-07-09T15:12:51.379Z"
      },
      {
        "duration": 4,
        "start_time": "2023-07-09T15:12:52.569Z"
      },
      {
        "duration": 3089,
        "start_time": "2023-07-09T16:40:03.593Z"
      },
      {
        "duration": 3301,
        "start_time": "2023-07-09T16:40:06.685Z"
      },
      {
        "duration": 156,
        "start_time": "2023-07-09T16:40:09.987Z"
      },
      {
        "duration": 12,
        "start_time": "2023-07-09T16:40:10.146Z"
      },
      {
        "duration": 378,
        "start_time": "2023-07-09T16:40:10.160Z"
      },
      {
        "duration": 150,
        "start_time": "2023-07-09T16:40:10.540Z"
      },
      {
        "duration": 12,
        "start_time": "2023-07-09T16:40:10.692Z"
      },
      {
        "duration": 410,
        "start_time": "2023-07-09T16:40:10.705Z"
      },
      {
        "duration": 14,
        "start_time": "2023-07-09T16:40:11.116Z"
      },
      {
        "duration": 151,
        "start_time": "2023-07-09T16:40:11.132Z"
      },
      {
        "duration": 387,
        "start_time": "2023-07-09T16:40:11.285Z"
      },
      {
        "duration": 66,
        "start_time": "2023-07-09T16:40:11.674Z"
      },
      {
        "duration": 351,
        "start_time": "2023-07-09T16:40:11.755Z"
      },
      {
        "duration": 294,
        "start_time": "2023-07-09T16:40:12.107Z"
      },
      {
        "duration": 158,
        "start_time": "2023-07-09T16:40:12.403Z"
      },
      {
        "duration": 25,
        "start_time": "2023-07-09T16:40:12.562Z"
      },
      {
        "duration": 48,
        "start_time": "2023-07-09T16:40:12.589Z"
      },
      {
        "duration": 137,
        "start_time": "2023-07-09T16:40:12.655Z"
      },
      {
        "duration": 31,
        "start_time": "2023-07-09T16:40:12.794Z"
      },
      {
        "duration": 109,
        "start_time": "2023-07-09T16:40:12.826Z"
      },
      {
        "duration": 4372,
        "start_time": "2023-07-09T16:40:12.937Z"
      },
      {
        "duration": 4496,
        "start_time": "2023-07-09T16:40:17.310Z"
      },
      {
        "duration": 96,
        "start_time": "2023-07-09T16:40:21.808Z"
      },
      {
        "duration": 318,
        "start_time": "2023-07-09T16:40:21.906Z"
      },
      {
        "duration": 359,
        "start_time": "2023-07-09T16:40:22.225Z"
      },
      {
        "duration": 333,
        "start_time": "2023-07-09T16:40:22.586Z"
      },
      {
        "duration": 452,
        "start_time": "2023-07-09T16:40:22.921Z"
      },
      {
        "duration": 93,
        "start_time": "2023-07-09T16:40:23.377Z"
      },
      {
        "duration": 56,
        "start_time": "2023-07-09T16:40:23.472Z"
      },
      {
        "duration": 84,
        "start_time": "2023-07-09T16:40:23.529Z"
      },
      {
        "duration": 156,
        "start_time": "2023-07-09T16:40:23.615Z"
      },
      {
        "duration": 3,
        "start_time": "2023-07-09T16:40:23.774Z"
      },
      {
        "duration": 21,
        "start_time": "2023-07-09T16:40:23.779Z"
      },
      {
        "duration": 56,
        "start_time": "2023-07-09T16:40:23.802Z"
      },
      {
        "duration": 949,
        "start_time": "2023-07-09T16:40:23.865Z"
      },
      {
        "duration": 474,
        "start_time": "2023-07-09T16:40:24.816Z"
      },
      {
        "duration": 6,
        "start_time": "2023-07-09T16:40:25.291Z"
      },
      {
        "duration": 48375,
        "start_time": "2023-07-09T16:40:25.299Z"
      },
      {
        "duration": 591,
        "start_time": "2023-07-09T16:41:13.677Z"
      },
      {
        "duration": 88,
        "start_time": "2023-07-09T16:41:14.270Z"
      },
      {
        "duration": 138,
        "start_time": "2023-07-09T16:41:14.366Z"
      },
      {
        "duration": 66,
        "start_time": "2023-07-09T16:41:14.506Z"
      },
      {
        "duration": 89,
        "start_time": "2023-07-09T16:41:14.576Z"
      },
      {
        "duration": 203388,
        "start_time": "2023-07-09T16:41:14.667Z"
      },
      {
        "duration": 1296,
        "start_time": "2023-07-09T16:44:38.064Z"
      },
      {
        "duration": 365732,
        "start_time": "2023-07-09T16:44:39.362Z"
      },
      {
        "duration": 4002,
        "start_time": "2023-07-09T16:50:45.097Z"
      },
      {
        "duration": 0,
        "start_time": "2023-07-09T16:50:49.101Z"
      },
      {
        "duration": 0,
        "start_time": "2023-07-09T16:50:49.102Z"
      },
      {
        "duration": 0,
        "start_time": "2023-07-09T16:50:49.103Z"
      },
      {
        "duration": 0,
        "start_time": "2023-07-09T16:50:49.104Z"
      },
      {
        "duration": 0,
        "start_time": "2023-07-09T16:50:49.105Z"
      },
      {
        "duration": 0,
        "start_time": "2023-07-09T16:50:49.107Z"
      },
      {
        "duration": 0,
        "start_time": "2023-07-09T16:50:49.108Z"
      },
      {
        "duration": 0,
        "start_time": "2023-07-09T16:50:49.109Z"
      },
      {
        "duration": 0,
        "start_time": "2023-07-09T16:50:49.110Z"
      },
      {
        "duration": 0,
        "start_time": "2023-07-09T16:50:49.111Z"
      },
      {
        "duration": 0,
        "start_time": "2023-07-09T16:50:49.112Z"
      },
      {
        "duration": 0,
        "start_time": "2023-07-09T16:50:49.113Z"
      },
      {
        "duration": 0,
        "start_time": "2023-07-09T16:50:49.114Z"
      },
      {
        "duration": 0,
        "start_time": "2023-07-09T16:50:49.115Z"
      },
      {
        "duration": 0,
        "start_time": "2023-07-09T16:50:49.117Z"
      },
      {
        "duration": 0,
        "start_time": "2023-07-09T16:50:49.118Z"
      },
      {
        "duration": 0,
        "start_time": "2023-07-09T16:50:49.119Z"
      },
      {
        "duration": 0,
        "start_time": "2023-07-09T16:50:49.120Z"
      },
      {
        "duration": 0,
        "start_time": "2023-07-09T16:50:49.122Z"
      },
      {
        "duration": 0,
        "start_time": "2023-07-09T16:50:49.123Z"
      },
      {
        "duration": 0,
        "start_time": "2023-07-09T16:50:49.125Z"
      },
      {
        "duration": 0,
        "start_time": "2023-07-09T16:50:49.126Z"
      },
      {
        "duration": 0,
        "start_time": "2023-07-09T16:50:49.127Z"
      },
      {
        "duration": 0,
        "start_time": "2023-07-09T16:50:49.129Z"
      },
      {
        "duration": 0,
        "start_time": "2023-07-09T16:50:49.131Z"
      },
      {
        "duration": 0,
        "start_time": "2023-07-09T16:50:49.132Z"
      },
      {
        "duration": 0,
        "start_time": "2023-07-09T16:50:49.133Z"
      }
    ],
    "colab": {
      "provenance": []
    },
    "kernelspec": {
      "display_name": "Python 3 (ipykernel)",
      "language": "python",
      "name": "python3"
    },
    "language_info": {
      "codemirror_mode": {
        "name": "ipython",
        "version": 3
      },
      "file_extension": ".py",
      "mimetype": "text/x-python",
      "name": "python",
      "nbconvert_exporter": "python",
      "pygments_lexer": "ipython3",
      "version": "3.9.5"
    },
    "toc": {
      "base_numbering": 1,
      "nav_menu": {},
      "number_sections": true,
      "sideBar": true,
      "skip_h1_title": true,
      "title_cell": "Table of Contents",
      "title_sidebar": "Contents",
      "toc_cell": false,
      "toc_position": {
        "height": "calc(100% - 180px)",
        "left": "10px",
        "top": "150px",
        "width": "399.391px"
      },
      "toc_section_display": true,
      "toc_window_display": true
    }
  },
  "nbformat": 4,
  "nbformat_minor": 0
}