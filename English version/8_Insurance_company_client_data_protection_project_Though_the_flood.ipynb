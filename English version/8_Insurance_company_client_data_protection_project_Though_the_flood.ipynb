{
  "cells": [
    {
      "cell_type": "markdown",
      "metadata": {
        "id": "zeVbx-jA-Jo5",
        "toc": true
      },
      "source": [
        "<h1>Contents<span class=\"tocSkip\"></span></h1>\n",
        "<div class=\"toc\"><ul class=\"toc-item\"><li><span><a href=\"#Loading-data\" data-toc-modified-id=\"Loading-data-1\"><span class=\"toc-item-num\">1</span>Data loading</a></span></li><li><span><a href=\"#Matrix multiplication\" data-toc-modified-id=\"Matrix multiplication-2\"><span class=\"toc-item-num\">2</span>Matrix multiplication</a></span></li><li><span><a href=\"#Transformation algorithm\" data-toc-modified-id=\"Transformation algorithm-3\"><span class=\"toc-item-num\">3</span>Conversion algorithm</a></span></li><li><span><a href=\"#Verification of the algorithm\" data-toc-modified-id=\"Algorithm-check-4\"><span class=\"toc-item-num\">4</span>Checking the algorithm</a></span></li><li><span><a href=\"#Final-output\" data-toc-modified-id=\"Final-output-5\"><span class=\"toc-item-num\">5</span>Final output</a></span></li></div>"
      ]
    },
    {
      "cell_type": "markdown",
      "metadata": {
        "id": "78uaE27a-Jo_"
      },
      "source": [
        "<div style=\"border:2px solid Black; padding:20px;\">\n",
        "\n",
        "<h1> Personal data protection </h1>\n",
        "\n",
        "We need to protect the customer data of the insurance company \"Though the flood\". We will develop such a method of data transformation so that it would be difficult to recover personal information from them.\n",
        "\n",
        "It is necessary to protect the data so that the quality of machine learning models does not deteriorate during the conversion."
      ]
    },
    {
      "cell_type": "markdown",
      "metadata": {
        "id": "0yXfegNx-JpA"
      },
      "source": [
        "Project execution plan:\n",
        "1. Download and examine the data.\n",
        "2. Answer the question and justify the decision. The signs are multiplied by a reversible matrix.\n",
        "Will the quality of linear regression change:\n",
        "- It will change. Give examples of matrices.\n",
        "- It won't change. Specify how the linear regression parameters are related in the original\n",
        "problem and in the transformed one.\n",
        "3. Propose a data transformation algorithm to solve the problem. Justify why\n",
        "the quality of linear regression will not change.\n",
        "4. Program this algorithm using matrix operations. Check that\n",
        "the quality of linear regression from sklearn does not differ before and after the transformation.\n",
        "Apply the R2 metric."
      ]
    },
    {
      "cell_type": "markdown",
      "metadata": {
        "id": "-55LvAMw-JpC"
      },
      "source": [
        "## Loading data"
      ]
    },
    {
      "cell_type": "code",
      "execution_count": 6,
      "metadata": {
        "id": "qLmdZfCU-JpI"
      },
      "outputs": [],
      "source": [
        "import pandas as pd\n",
        "import numpy as np\n",
        "from sklearn.model_selection import train_test_split\n",
        "from sklearn.preprocessing import StandardScaler\n",
        "from sklearn.pipeline import Pipeline\n",
        "from sklearn.linear_model import LinearRegression\n",
        "from sklearn.metrics import r2_score"
      ]
    },
    {
      "cell_type": "code",
      "execution_count": null,
      "metadata": {
        "colab": {
          "base_uri": "https://localhost:8080/"
        },
        "id": "8CfF0Rf--JpM",
        "outputId": "93e76fc0-e968-4410-c451-1221a2b08c77"
      },
      "outputs": [
        {
          "name": "stdout",
          "output_type": "stream",
          "text": [
            "<class 'pandas.core.frame.DataFrame'>\n",
            "RangeIndex: 5000 entries, 0 to 4999\n",
            "Data columns (total 5 columns):\n",
            " #   Column             Non-Null Count  Dtype  \n",
            "---  ------             --------------  -----  \n",
            " 0   Пол                5000 non-null   int64  \n",
            " 1   Возраст            5000 non-null   float64\n",
            " 2   Зарплата           5000 non-null   float64\n",
            " 3   Члены семьи        5000 non-null   int64  \n",
            " 4   Страховые выплаты  5000 non-null   int64  \n",
            "dtypes: float64(2), int64(3)\n",
            "memory usage: 195.4 KB\n"
          ]
        }
      ],
      "source": [
        "insurance_data = pd.read_csv('datasets/insurance.csv')\n",
        "insurance_data.info()"
      ]
    },
    {
      "cell_type": "code",
      "execution_count": null,
      "metadata": {
        "colab": {
          "base_uri": "https://localhost:8080/",
          "height": 206
        },
        "id": "9_-9OEsA-JpO",
        "outputId": "7dd867da-f846-4977-fd7d-5e7389c51aa3",
        "scrolled": true
      },
      "outputs": [
        {
          "data": {
            "text/html": [
              "\n",
              "\n",
              "  <div id=\"df-37861dd7-a702-494f-b31e-4a8c913fa72c\">\n",
              "    <div class=\"colab-df-container\">\n",
              "      <div>\n",
              "<style scoped>\n",
              "    .dataframe tbody tr th:only-of-type {\n",
              "        vertical-align: middle;\n",
              "    }\n",
              "\n",
              "    .dataframe tbody tr th {\n",
              "        vertical-align: top;\n",
              "    }\n",
              "\n",
              "    .dataframe thead th {\n",
              "        text-align: right;\n",
              "    }\n",
              "</style>\n",
              "<table border=\"1\" class=\"dataframe\">\n",
              "  <thead>\n",
              "    <tr style=\"text-align: right;\">\n",
              "      <th></th>\n",
              "      <th>Пол</th>\n",
              "      <th>Возраст</th>\n",
              "      <th>Зарплата</th>\n",
              "      <th>Члены семьи</th>\n",
              "      <th>Страховые выплаты</th>\n",
              "    </tr>\n",
              "  </thead>\n",
              "  <tbody>\n",
              "    <tr>\n",
              "      <th>0</th>\n",
              "      <td>1</td>\n",
              "      <td>41.0</td>\n",
              "      <td>49600.0</td>\n",
              "      <td>1</td>\n",
              "      <td>0</td>\n",
              "    </tr>\n",
              "    <tr>\n",
              "      <th>1</th>\n",
              "      <td>0</td>\n",
              "      <td>46.0</td>\n",
              "      <td>38000.0</td>\n",
              "      <td>1</td>\n",
              "      <td>1</td>\n",
              "    </tr>\n",
              "    <tr>\n",
              "      <th>2</th>\n",
              "      <td>0</td>\n",
              "      <td>29.0</td>\n",
              "      <td>21000.0</td>\n",
              "      <td>0</td>\n",
              "      <td>0</td>\n",
              "    </tr>\n",
              "    <tr>\n",
              "      <th>3</th>\n",
              "      <td>0</td>\n",
              "      <td>21.0</td>\n",
              "      <td>41700.0</td>\n",
              "      <td>2</td>\n",
              "      <td>0</td>\n",
              "    </tr>\n",
              "    <tr>\n",
              "      <th>4</th>\n",
              "      <td>1</td>\n",
              "      <td>28.0</td>\n",
              "      <td>26100.0</td>\n",
              "      <td>0</td>\n",
              "      <td>0</td>\n",
              "    </tr>\n",
              "  </tbody>\n",
              "</table>\n",
              "</div>\n",
              "      <button class=\"colab-df-convert\" onclick=\"convertToInteractive('df-37861dd7-a702-494f-b31e-4a8c913fa72c')\"\n",
              "              title=\"Convert this dataframe to an interactive table.\"\n",
              "              style=\"display:none;\">\n",
              "\n",
              "  <svg xmlns=\"http://www.w3.org/2000/svg\" height=\"24px\"viewBox=\"0 0 24 24\"\n",
              "       width=\"24px\">\n",
              "    <path d=\"M0 0h24v24H0V0z\" fill=\"none\"/>\n",
              "    <path d=\"M18.56 5.44l.94 2.06.94-2.06 2.06-.94-2.06-.94-.94-2.06-.94 2.06-2.06.94zm-11 1L8.5 8.5l.94-2.06 2.06-.94-2.06-.94L8.5 2.5l-.94 2.06-2.06.94zm10 10l.94 2.06.94-2.06 2.06-.94-2.06-.94-.94-2.06-.94 2.06-2.06.94z\"/><path d=\"M17.41 7.96l-1.37-1.37c-.4-.4-.92-.59-1.43-.59-.52 0-1.04.2-1.43.59L10.3 9.45l-7.72 7.72c-.78.78-.78 2.05 0 2.83L4 21.41c.39.39.9.59 1.41.59.51 0 1.02-.2 1.41-.59l7.78-7.78 2.81-2.81c.8-.78.8-2.07 0-2.86zM5.41 20L4 18.59l7.72-7.72 1.47 1.35L5.41 20z\"/>\n",
              "  </svg>\n",
              "      </button>\n",
              "\n",
              "\n",
              "\n",
              "    <div id=\"df-e397193f-a226-4a6d-876a-3e14e9833e93\">\n",
              "      <button class=\"colab-df-quickchart\" onclick=\"quickchart('df-e397193f-a226-4a6d-876a-3e14e9833e93')\"\n",
              "              title=\"Suggest charts.\"\n",
              "              style=\"display:none;\">\n",
              "\n",
              "<svg xmlns=\"http://www.w3.org/2000/svg\" height=\"24px\"viewBox=\"0 0 24 24\"\n",
              "     width=\"24px\">\n",
              "    <g>\n",
              "        <path d=\"M19 3H5c-1.1 0-2 .9-2 2v14c0 1.1.9 2 2 2h14c1.1 0 2-.9 2-2V5c0-1.1-.9-2-2-2zM9 17H7v-7h2v7zm4 0h-2V7h2v10zm4 0h-2v-4h2v4z\"/>\n",
              "    </g>\n",
              "</svg>\n",
              "      </button>\n",
              "    </div>\n",
              "\n",
              "<style>\n",
              "  .colab-df-quickchart {\n",
              "    background-color: #E8F0FE;\n",
              "    border: none;\n",
              "    border-radius: 50%;\n",
              "    cursor: pointer;\n",
              "    display: none;\n",
              "    fill: #1967D2;\n",
              "    height: 32px;\n",
              "    padding: 0 0 0 0;\n",
              "    width: 32px;\n",
              "  }\n",
              "\n",
              "  .colab-df-quickchart:hover {\n",
              "    background-color: #E2EBFA;\n",
              "    box-shadow: 0px 1px 2px rgba(60, 64, 67, 0.3), 0px 1px 3px 1px rgba(60, 64, 67, 0.15);\n",
              "    fill: #174EA6;\n",
              "  }\n",
              "\n",
              "  [theme=dark] .colab-df-quickchart {\n",
              "    background-color: #3B4455;\n",
              "    fill: #D2E3FC;\n",
              "  }\n",
              "\n",
              "  [theme=dark] .colab-df-quickchart:hover {\n",
              "    background-color: #434B5C;\n",
              "    box-shadow: 0px 1px 3px 1px rgba(0, 0, 0, 0.15);\n",
              "    filter: drop-shadow(0px 1px 2px rgba(0, 0, 0, 0.3));\n",
              "    fill: #FFFFFF;\n",
              "  }\n",
              "</style>\n",
              "\n",
              "    <script>\n",
              "      async function quickchart(key) {\n",
              "        const containerElement = document.querySelector('#' + key);\n",
              "        const charts = await google.colab.kernel.invokeFunction(\n",
              "            'suggestCharts', [key], {});\n",
              "      }\n",
              "    </script>\n",
              "\n",
              "      <script>\n",
              "\n",
              "function displayQuickchartButton(domScope) {\n",
              "  let quickchartButtonEl =\n",
              "    domScope.querySelector('#df-e397193f-a226-4a6d-876a-3e14e9833e93 button.colab-df-quickchart');\n",
              "  quickchartButtonEl.style.display =\n",
              "    google.colab.kernel.accessAllowed ? 'block' : 'none';\n",
              "}\n",
              "\n",
              "        displayQuickchartButton(document);\n",
              "      </script>\n",
              "      <style>\n",
              "    .colab-df-container {\n",
              "      display:flex;\n",
              "      flex-wrap:wrap;\n",
              "      gap: 12px;\n",
              "    }\n",
              "\n",
              "    .colab-df-convert {\n",
              "      background-color: #E8F0FE;\n",
              "      border: none;\n",
              "      border-radius: 50%;\n",
              "      cursor: pointer;\n",
              "      display: none;\n",
              "      fill: #1967D2;\n",
              "      height: 32px;\n",
              "      padding: 0 0 0 0;\n",
              "      width: 32px;\n",
              "    }\n",
              "\n",
              "    .colab-df-convert:hover {\n",
              "      background-color: #E2EBFA;\n",
              "      box-shadow: 0px 1px 2px rgba(60, 64, 67, 0.3), 0px 1px 3px 1px rgba(60, 64, 67, 0.15);\n",
              "      fill: #174EA6;\n",
              "    }\n",
              "\n",
              "    [theme=dark] .colab-df-convert {\n",
              "      background-color: #3B4455;\n",
              "      fill: #D2E3FC;\n",
              "    }\n",
              "\n",
              "    [theme=dark] .colab-df-convert:hover {\n",
              "      background-color: #434B5C;\n",
              "      box-shadow: 0px 1px 3px 1px rgba(0, 0, 0, 0.15);\n",
              "      filter: drop-shadow(0px 1px 2px rgba(0, 0, 0, 0.3));\n",
              "      fill: #FFFFFF;\n",
              "    }\n",
              "  </style>\n",
              "\n",
              "      <script>\n",
              "        const buttonEl =\n",
              "          document.querySelector('#df-37861dd7-a702-494f-b31e-4a8c913fa72c button.colab-df-convert');\n",
              "        buttonEl.style.display =\n",
              "          google.colab.kernel.accessAllowed ? 'block' : 'none';\n",
              "\n",
              "        async function convertToInteractive(key) {\n",
              "          const element = document.querySelector('#df-37861dd7-a702-494f-b31e-4a8c913fa72c');\n",
              "          const dataTable =\n",
              "            await google.colab.kernel.invokeFunction('convertToInteractive',\n",
              "                                                     [key], {});\n",
              "          if (!dataTable) return;\n",
              "\n",
              "          const docLinkHtml = 'Like what you see? Visit the ' +\n",
              "            '<a target=\"_blank\" href=https://colab.research.google.com/notebooks/data_table.ipynb>data table notebook</a>'\n",
              "            + ' to learn more about interactive tables.';\n",
              "          element.innerHTML = '';\n",
              "          dataTable['output_type'] = 'display_data';\n",
              "          await google.colab.output.renderOutput(dataTable, element);\n",
              "          const docLink = document.createElement('div');\n",
              "          docLink.innerHTML = docLinkHtml;\n",
              "          element.appendChild(docLink);\n",
              "        }\n",
              "      </script>\n",
              "    </div>\n",
              "  </div>\n"
            ],
            "text/plain": [
              "   Пол  Возраст  Зарплата  Члены семьи  Страховые выплаты\n",
              "0    1     41.0   49600.0            1                  0\n",
              "1    0     46.0   38000.0            1                  1\n",
              "2    0     29.0   21000.0            0                  0\n",
              "3    0     21.0   41700.0            2                  0\n",
              "4    1     28.0   26100.0            0                  0"
            ]
          },
          "execution_count": 3,
          "metadata": {},
          "output_type": "execute_result"
        }
      ],
      "source": [
        "insurance_data.head()"
      ]
    },
    {
      "cell_type": "code",
      "execution_count": null,
      "metadata": {
        "id": "WpectWy_-JpR"
      },
      "outputs": [],
      "source": [
        "def show_rows(data_frame):\n",
        "    for column in data_frame.columns:\n",
        "        print('Unique column values', column)\n",
        "        print(data_frame[column].unique())\n",
        "    print('Number of gaps in each column')\n",
        "    print(data_frame.isna().mean())"
      ]
    },
    {
      "cell_type": "code",
      "execution_count": null,
      "metadata": {
        "colab": {
          "base_uri": "https://localhost:8080/"
        },
        "id": "B2wqidG_-Jpa",
        "outputId": "3a4ec80a-71ce-4528-ec6d-2fdb729cd54b"
      },
      "outputs": [
        {
          "name": "stdout",
          "output_type": "stream",
          "text": [
            "Уникальные значения столбца Пол\n",
            "[1 0]\n",
            "Уникальные значения столбца Возраст\n",
            "[41. 46. 29. 21. 28. 43. 39. 25. 36. 32. 38. 23. 40. 34. 26. 42. 27. 33.\n",
            " 47. 30. 19. 31. 22. 20. 24. 18. 37. 48. 45. 44. 52. 49. 35. 56. 65. 55.\n",
            " 57. 54. 50. 53. 51. 58. 59. 60. 61. 62.]\n",
            "Уникальные значения столбца Зарплата\n",
            "[49600. 38000. 21000. 41700. 26100. 41000. 39700. 38600. 49700. 51700.\n",
            " 36600. 29300. 39500. 55000. 43700. 23300. 48900. 33200. 36900. 43500.\n",
            " 36100. 26600. 48700. 40400. 38400. 34600. 34800. 36800. 42200. 46300.\n",
            " 30300. 51000. 28100. 64800. 30400. 45300. 38300. 49500. 19400. 40200.\n",
            " 31700. 69200. 33100. 31600. 34500. 38700. 39600. 42400. 34900. 30500.\n",
            " 24200. 49900. 14300. 47000. 44800. 43800. 42700. 35400. 57200. 29600.\n",
            " 37400. 48100. 33700. 61800. 39400. 15600. 52600. 37600. 52500. 32700.\n",
            " 51600. 60900. 41800. 47400. 26500. 45900. 35700. 34300. 26700. 25700.\n",
            " 33300. 31100. 31500. 42100. 37300. 42500. 27300. 46800. 33500. 44300.\n",
            " 41600. 53900. 40100. 44600. 45000. 32000. 38200. 33000. 38500. 51800.\n",
            " 33800. 46400. 43200. 31800. 50200. 35100. 30700. 45800. 49300. 42800.\n",
            " 33600. 50300. 34000. 36400. 44900. 43600. 54600. 52800. 29700. 39000.\n",
            " 44100. 31900. 37700. 35200. 43100. 51300. 47500. 40800. 26800. 64900.\n",
            " 35900. 31200. 39900. 43300. 33900. 40700. 44700. 53400. 30600. 56000.\n",
            " 35600. 55200. 40600. 48300. 50800. 41200. 44200. 44400. 40500. 39800.\n",
            " 16600. 48400. 25100. 23100. 32100. 31000. 42900. 46700. 26000. 55900.\n",
            " 52000. 41500. 49400. 60300. 45600. 49000. 37500. 21900. 45100. 47900.\n",
            " 54300. 32400. 41300. 44500. 23200. 37900. 48000. 52100. 45700. 29900.\n",
            " 42600. 45200. 36000. 46500. 23800. 30200. 24400. 32800. 29000. 43400.\n",
            " 51500. 61700. 45400. 50700. 36200. 41900. 27900. 47200. 48800. 55100.\n",
            " 48200. 35500. 35000. 43900. 40000. 22000. 40300. 36300. 49800. 25600.\n",
            " 42300. 54900. 25500. 32900. 36700. 38900. 24700. 28800. 22900. 47300.\n",
            " 14500. 28700. 44000. 34100. 53000. 59300. 28500. 47100. 41400. 58900.\n",
            " 17500. 54200. 43000. 29800. 20000. 13800. 27500. 67700. 28000. 37100.\n",
            "  8900. 14600. 56200. 38800. 27700. 50500. 58400. 34700. 34400. 49100.\n",
            " 50900. 28200. 61500. 32500. 25900.  9800. 28300. 41100. 62000. 32600.\n",
            " 37200. 53800. 24000. 53600. 54800. 59600. 20200. 21700. 29200. 38100.\n",
            " 20700. 32300. 21200. 62100. 54000. 24500. 51900. 47800. 56100. 55300.\n",
            " 58100. 28900. 39100. 58000. 27200. 24600. 30100. 57100. 60100. 22200.\n",
            " 47700. 24900. 37800. 52700. 34200. 18700. 42000. 26300. 22600. 30900.\n",
            " 35800. 30800. 51100. 53300. 46200. 24100. 54700. 51200. 62300. 51400.\n",
            " 40900. 23400. 35300. 55800. 33400. 21300. 30000. 56700. 46900.  5300.\n",
            " 39200. 57500. 31300. 53700. 21600. 50000. 36500. 16400. 15900. 65100.\n",
            " 59900. 63200. 26200. 61200. 48500. 32200. 29100. 50100. 22700. 28600.\n",
            " 23500. 23700. 19600. 17800. 50600. 57900. 22500. 22100. 58300. 64100.\n",
            " 25000. 60400. 59100. 37000. 62400. 29500. 25800. 25400. 26900. 21500.\n",
            " 52200. 46600. 57300. 46100. 19300. 18900. 31400. 28400. 29400. 17600.\n",
            " 13900. 52400. 11300. 46000. 60500. 58700. 58200. 24800. 63700. 60600.\n",
            " 20400. 26400. 55600. 57000. 45500. 48600. 57600. 52900. 62800. 17000.\n",
            " 56500. 52300. 18400. 63300. 12900. 27000. 55700. 39300. 27800. 18300.\n",
            " 56300. 59800. 24300. 14400. 13400. 17900. 47600. 54500. 54400. 23900.\n",
            " 13000. 19900. 55400. 22800. 61000. 57400. 23000. 20500. 53200. 18100.\n",
            " 25300. 59500. 18200. 50400. 21100. 20900. 27400. 17300. 60700. 70600.\n",
            " 17700. 19700. 49200. 63100. 59200. 14700. 53100. 21800. 68000. 16500.\n",
            " 71400. 10000. 55500. 54100. 56400. 20600. 66300. 18800. 11000. 66100.\n",
            " 27100. 57800. 53500. 19200. 58500. 64000. 63600. 23600. 25200. 19100.\n",
            " 18600. 57700. 62700. 56600. 21400. 58800. 68400. 17100. 13300. 68500.\n",
            " 56900. 64400. 27600. 67200. 16200. 58600. 62200. 16000. 79000. 22300.\n",
            " 11200. 71600. 61300. 70500. 67100. 59000. 13500. 16700. 15700. 60000.\n",
            " 17400. 63400. 61900. 65200. 62600. 14100. 20100. 63800. 15100. 70000.\n",
            " 60200. 20300. 65900. 15200. 63500. 13200. 68900. 12200.  6000. 74800.\n",
            " 59700. 10800. 19000. 10600. 69400. 15000. 75200. 62500. 16300. 20800.\n",
            "  7400. 65300. 61400. 56800.]\n",
            "Уникальные значения столбца Члены семьи\n",
            "[1 0 2 4 3 5 6]\n",
            "Уникальные значения столбца Страховые выплаты\n",
            "[0 1 2 3 5 4]\n",
            "Количество пропусков в каждом столбце\n",
            "Пол                  0.0\n",
            "Возраст              0.0\n",
            "Зарплата             0.0\n",
            "Члены семьи          0.0\n",
            "Страховые выплаты    0.0\n",
            "dtype: float64\n"
          ]
        }
      ],
      "source": [
        "show_rows(insurance_data)"
      ]
    },
    {
      "cell_type": "markdown",
      "metadata": {
        "id": "LcB63x3E-Jpb"
      },
      "source": [
        "Let's change the data type in the Age and Salary columns to integer due to the absence\n",
        "of fractional parts. We will also reduce the memory access for the remaining columns."
      ]
    },
    {
      "cell_type": "code",
      "execution_count": null,
      "metadata": {
        "colab": {
          "base_uri": "https://localhost:8080/"
        },
        "id": "rNXqNe6R-Jpc",
        "outputId": "02c16e07-5a79-40fb-ede0-cd45b7ee195b"
      },
      "outputs": [
        {
          "name": "stdout",
          "output_type": "stream",
          "text": [
            "<class 'pandas.core.frame.DataFrame'>\n",
            "RangeIndex: 5000 entries, 0 to 4999\n",
            "Data columns (total 5 columns):\n",
            " #   Column             Non-Null Count  Dtype  \n",
            "---  ------             --------------  -----  \n",
            " 0   Пол                5000 non-null   int8   \n",
            " 1   Возраст            5000 non-null   int8   \n",
            " 2   Зарплата           5000 non-null   float64\n",
            " 3   Члены семьи        5000 non-null   int8   \n",
            " 4   Страховые выплаты  5000 non-null   int8   \n",
            "dtypes: float64(1), int8(4)\n",
            "memory usage: 58.7 KB\n"
          ]
        }
      ],
      "source": [
        "insurance_data['Пол'] = pd.to_numeric(insurance_data['Пол'], downcast='integer')\n",
        "insurance_data['Возраст'] = pd.to_numeric(insurance_data['Возраст'], downcast='integer')\n",
        "insurance_data['Зарплата'] = pd.to_numeric(insurance_data['Зарплата'], downcast='integer')\n",
        "insurance_data['Члены семьи'] = pd.to_numeric(insurance_data['Члены семьи'], downcast='integer')\n",
        "insurance_data['Страховые выплаты'] = pd.to_numeric(insurance_data['Страховые выплаты'], downcast='integer')\n",
        "insurance_data.info()"
      ]
    },
    {
      "cell_type": "markdown",
      "metadata": {
        "id": "Sfr1Wr_0-Jpd"
      },
      "source": [
        "Gain in file size: 195.4 KB - 58.7 KB = 136.7 KB"
      ]
    },
    {
      "cell_type": "markdown",
      "metadata": {
        "id": "xorjnbiA-Jpe"
      },
      "source": [
        "# Conclusion on step 1\n",
        "The data is loaded and has no anomalies. Casting types will allow you to access data more quickly."
      ]
    },
    {
      "cell_type": "code",
      "execution_count": null,
      "metadata": {
        "id": "o8bPLXzN-Jpg"
      },
      "outputs": [],
      "source": [
        "features = insurance_data.drop('Страховые выплаты',axis=1)\n",
        "target = insurance_data['Страховые выплаты']"
      ]
    },
    {
      "cell_type": "code",
      "execution_count": null,
      "metadata": {
        "colab": {
          "base_uri": "https://localhost:8080/",
          "height": 54
        },
        "id": "_uGwSHic-Jpg",
        "outputId": "e91b2f64-a7d8-4cb4-d8d7-b9a32d4a97c4"
      },
      "outputs": [
        {
          "data": {
            "text/plain": [
              "array([ 7.92580543e-03,  3.57083050e-02, -1.70080492e-07, -1.35676623e-02])"
            ]
          },
          "metadata": {},
          "output_type": "display_data"
        },
        {
          "data": {
            "text/plain": [
              "array([ 7.92580543e-03,  3.57083050e-02, -1.70080492e-07, -1.35676623e-02])"
            ]
          },
          "execution_count": 8,
          "metadata": {},
          "output_type": "execute_result"
        }
      ],
      "source": [
        "X = np.concatenate((np.ones((features.shape[0], 1)), features), axis=1)\n",
        "y = target\n",
        "w = np.linalg.inv(X.T @ X) @ X.T @ y\n",
        "display(w[1:])\n",
        "model = LinearRegression()\n",
        "model.fit(features, target)\n",
        "model.coef_"
      ]
    },
    {
      "cell_type": "markdown",
      "metadata": {
        "id": "dZKwfIof-Jph"
      },
      "source": [
        "The regression coefficients match 100%. Now let's move on to the theoretical part.\n",
        "\n",
        "Notation for working with linear regression levels:\n",
        "\n",
        "Designations:\n",
        "\n",
        "- $X$ — feature matrix (the zero column consists of units)\n",
        "\n",
        "- $y$ — vector of the target feature\n",
        "\n",
        "- $P$ is the matrix by which the signs are multiplied\n",
        "\n",
        "- $w$ is a vector of linear regression weights (the zero element is equal to the shift)"
      ]
    },
    {
      "cell_type": "markdown",
      "metadata": {
        "id": "1JJg2F_q-Jpi"
      },
      "source": [
        "Predictions:\n",
        "\n",
        "$$\n",
        "a = Xw\n",
        "$$\n",
        "\n",
        "The task of training:\n",
        "\n",
        "$$\n",
        "w = \\arg\\min_w MSE(Xw, y)\n",
        "$$\n",
        "\n",
        "Learning formula:\n",
        "\n",
        "$$\n",
        "w = (X^T X)^{-1} X^T y\n",
        "$$"
      ]
    },
    {
      "cell_type": "markdown",
      "metadata": {
        "id": "d5gTVxWq-Jpi"
      },
      "source": [
        "**question:** Features are multiplied by a reversible matrix. Will the quality of linear regression change?\n",
        "(if not, how are the linear regression parameters related in the original problem and in the transformed one )\n",
        "\n",
        "**Response:** Won't change.\n",
        "\n",
        "**Justification:** Replace the matrix $X$ with the matrix $Z$ :\n",
        "\n",
        "$$\n",
        "Z = XP \\qquad ( 2.1)\n",
        "$$\n",
        "\n",
        "where $P$ is an invertible matrix with some values, by which the matrix $X$ can be multiplied.\n",
        "\n",
        "\n",
        "\n"
      ]
    },
    {
      "cell_type": "markdown",
      "metadata": {
        "id": "-di_FoX5-Jpj"
      },
      "source": [
        "Replace $X$ with $Z$ and calculate what the prediction and the vector of weights will be equal to.\n",
        "\n",
        "$$\n",
        "a_1 = Zw_1 \\qquad (2.2)\n",
        "$$\n",
        "$$\n",
        "w_1 = (Z^T Z)^{-1} Z^T y \\qquad (2.3)\n",
        "$$\n",
        "\n",
        "Substitute equation 2.2 for the right side of equation 2.3 and get the following:\n",
        "\n",
        "$$\n",
        "a_1 = Z (Z^T Z)^{-1} Z^T y \\qquad (2.4)\n",
        "$$\n",
        "\n",
        "Replace all $Z$ with the right side of equation 2.1:\n",
        "\n",
        "$$\n",
        "a_1 = XP ((XP)^T (XP))^{-1} (XP)^T y \\qquad (2.5)\n",
        "$$\n",
        "\n",
        "For the next step, you will need the following property of the inverse matrix:\n",
        "\n",
        "$$\n",
        "(AB)^{-1} = B^{-1} A^{-1}\n",
        "$$\n",
        "\n",
        "Let's open $((XP)^T(XP))^{-1}$ in two steps:\n",
        "\n",
        "$$\n",
        "a_1 = XP ((XP)^T (XP))^{-1} (XP)^T y = XP(XP)^{-1}((XP)^T)^{-1} (XP)^T y = XPP^{-1}X^{-1}((XP)^T)^{-1} (XP)^T y  \\qquad (2.6)\n",
        "$$\n",
        "\n",
        "Multiplication will result in $PP^{-1} = E$. For the next step, we will use the property of the transposed matrix:\n",
        "\n",
        "$$\n",
        "(AB)^T = B^T A^T\n",
        "$$\n",
        "\n",
        "Multiplying by the unit matrix does not change anything. Let's open $((XP)^T)^{-1} (XP)^T$ in three steps:\n",
        "\n",
        "$$\n",
        "a_1 = XEX^{-1}((XP)^T)^{-1} (XP)^T y = XX^{-1}(P^T X^T)^{-1} P^T X^T y = XX^{-1} (X^T)^{-1} (P^T)^{-1}  P^T X^T y   \\qquad (2.7)\n",
        "$$\n",
        "\n",
        "Multiplication will result in $(P^T)^{-1} P^T = E$. Let's see what's left of Equation 2.7:\n",
        "\n",
        "$$\n",
        "a_1 = XX^{-1} (X^T)^{-1} E X^T y = X(X^T X)^{-1} X^T y = Xw = a  \\qquad (2.8)\n",
        "$$\n",
        "\n",
        "As you can see, the value of the prediction $a$ does not change if you multiply the feature matrix by an invertible matrix."
      ]
    },
    {
      "cell_type": "markdown",
      "metadata": {
        "id": "mt_LUHLJ-Jpl"
      },
      "source": [
        "What is the relationship between $w$ and $w_p$?\n",
        "    \n",
        "    \n",
        "Where\n",
        "\n",
        "\n",
        "\n",
        "$$\n",
        "w = (X^T X)^{-1} X^T y\n",
        "$$\n",
        "    \n",
        "    \n",
        "$$\n",
        "w_P = ((XP)^T XP)^{-1} (XP)^T y\n",
        "$$   \n",
        "\n"
      ]
    },
    {
      "cell_type": "markdown",
      "metadata": {
        "id": "Ty8cL9XI-Jpl"
      },
      "source": [
        "$ w_P = ((XP)^T XP)^{-1} (XP)^Ty = (P^T X^T X P)^{-1} (P^T X^T) y = (P^T (X^T X) P)^{-1} (P^T X^T) y = P^{-1} (P^T (X^T X))^{-1} P^T X^T y = P^{-1} (X^T X)^{-1} (P^T)^{-1} P^T X^T y = \\{(P^T)^{-1} P^T = E\\} = P^{-1} (X^T X)^{-1} E X^Ty = P^{-1} (X^T X)^{-1} X^Ty = \\{(X^T X)^{-1} X^Ty = w\\} $\n",
        "\n",
        "hence we get $w_P= P^{-1} w$"
      ]
    },
    {
      "cell_type": "markdown",
      "metadata": {
        "id": "YUjQzvJs-Jpm"
      },
      "source": [
        "Here we had to prove that the predictions would not change, that is, $a = a'$, i.e. $a = Xw = XEw = XPP^{-1}w = (XP)P^{-1}w = (XP)w' = a'$, It turns out that if we proved that $w' = P^{-1}w$, then this means that $a=a'$ and the predictions have not changed\n",
        "    "
      ]
    },
    {
      "cell_type": "markdown",
      "metadata": {
        "id": "dhWDceyk-Jpp"
      },
      "source": [
        "## Conversion algorithm"
      ]
    },
    {
      "cell_type": "markdown",
      "metadata": {
        "id": "zcrYROYm-Jps"
      },
      "source": [
        "**Algorithm**\n",
        "\n",
        "\n",
        "To protect the information at the stage of searching for regression coefficients and regression predictions, we will multiply the feature matrix by the reversible matrix $Y$, which will be generated randomly.\n",
        "\n",
        "Algorithm stages:\n",
        "1. Compilation of the matrix $Y$.\n",
        "2. Checking the matrix for reversibility. Calculation of the determinant of the matrix $Y$.\n",
        "3. Obtaining a matrix of transformed features $Z = X Y$.\n",
        "4. Application of the algorithm on the transformed features of $Z$."
      ]
    },
    {
      "cell_type": "markdown",
      "metadata": {
        "id": "sBBK-mty-Jpt"
      },
      "source": [
        "**Justification**\n",
        "\n",
        "The matrix $Y$ must have the required dimension $(nxn)$, where n is the number of features for regression.\n",
        "Thus, the matrix $Z$ will have the same dimension as the matrix $X$. The inverse matrix $Y$ exists only for square non-degenerate matrices (whose determinant is not zero).\n",
        "\n",
        "Example:\n",
        "\n",
        "$\n",
        "X = \\begin{pmatrix}\n",
        "1 & 2 \\\\\n",
        "2 & 3 \\\\\n",
        "4 & 5  \n",
        "\\end{pmatrix}\n",
        "\\qquad\n",
        "Y = \\begin{pmatrix}\n",
        "1 & 0 \\\\\n",
        "2 & 3 \\\\  \n",
        "\\end{pmatrix}\n",
        "\\qquad det  Y = 3 $\n",
        "\n",
        "Find the value of Z:\n",
        "\n",
        "$\n",
        "Z = \\begin{pmatrix}\n",
        "1 & 2 \\\\\n",
        "2 & 3 \\\\\n",
        "4 & 5  \n",
        "\\end{pmatrix} \\begin{pmatrix}\n",
        "1 & 0 \\\\\n",
        "2 & 3 \\\\  \n",
        "\\end{pmatrix} = \\begin{pmatrix}\n",
        "1*1+2*2 & 1*0+2*3  \\\\\n",
        "2*1+3*2 & 2*0+3*3  \\\\\n",
        "4*1+5*2 & 4*0+5*3   \n",
        "\\end{pmatrix} = \\begin{pmatrix}\n",
        "5 & 6 \\\\\n",
        "8 & 9 \\\\\n",
        "14 & 15  \n",
        "\\end{pmatrix}$\n",
        "\n",
        "After that, we add the zero column and enter the data into the linear regression."
      ]
    },
    {
      "cell_type": "markdown",
      "metadata": {
        "id": "DU-QQ_lx-Jpu"
      },
      "source": [
        "## Checking the algorithm"
      ]
    },
    {
      "cell_type": "markdown",
      "metadata": {
        "id": "nXi0OPyP-Jpv"
      },
      "source": [
        "We will conduct a study of the model in two directions:\n",
        "1. We investigate the quality of the model without transformation.\n",
        "         1.1 With the initial signs\n",
        "         1.2 With scaled features\n",
        "2. We investigate the quality of the model with transformation.\n",
        "         2.1 With the initial signs\n",
        "         2.2 With scaled features\n",
        "\n",
        "Let's divide the data into training and test data."
      ]
    },
    {
      "cell_type": "code",
      "execution_count": null,
      "metadata": {
        "id": "Qq1ceRdC-Jpv"
      },
      "outputs": [],
      "source": [
        "features_train, features_test, target_train, target_test = train_test_split(\n",
        "    features, target, test_size=0.25, random_state=12345)"
      ]
    },
    {
      "cell_type": "code",
      "execution_count": null,
      "metadata": {
        "colab": {
          "base_uri": "https://localhost:8080/"
        },
        "id": "pt-IireL-Jpw",
        "outputId": "913a208f-37f3-4401-a0f5-126482f59ee0"
      },
      "outputs": [
        {
          "name": "stdout",
          "output_type": "stream",
          "text": [
            "w-vector coef [ 1.79258369e-02  3.57228278e-02 -5.46000708e-07 -1.26186590e-02]\n",
            "R2 = 0.435227571270266\n"
          ]
        }
      ],
      "source": [
        "model = LinearRegression()\n",
        "model.fit(features_train, target_train)\n",
        "R2_LR_origin_data = r2_score(target_test, model.predict(features_test))\n",
        "print(\"w-vector coef\",model.coef_)\n",
        "print(\"R2 =\", R2_LR_origin_data)"
      ]
    },
    {
      "cell_type": "code",
      "execution_count": null,
      "metadata": {
        "colab": {
          "base_uri": "https://localhost:8080/"
        },
        "id": "_KQhVu0c-Jpx",
        "outputId": "c89d7bf0-1272-4567-b5fa-61c8540c1d75"
      },
      "outputs": [
        {
          "name": "stdout",
          "output_type": "stream",
          "text": [
            "R2 = 0.4352275712702667\n"
          ]
        }
      ],
      "source": [
        "regressor = LinearRegression()\n",
        "scaller = StandardScaler()\n",
        "pipeline = Pipeline([(\"standard_scaller\", scaller),(\"linear_regression\", regressor)])\n",
        "pipeline.fit(features_train, target_train)\n",
        "R2_LR_origin_data_scaled = r2_score(target_test, pipeline.predict(features_test))\n",
        "#print(\"w-vector coef\",pipeline.coef_) при использовании pipeline невозможно получить коэффициенты регрессии\n",
        "print(\"R2 =\", R2_LR_origin_data_scaled)"
      ]
    },
    {
      "cell_type": "markdown",
      "metadata": {
        "id": "PZzL-S7W-Jp0"
      },
      "source": [
        "The model behaves the same both on the source data and on the scaled ones. Fluctuations of 15 digits and further after the decimal point are associated with the accuracy of storing fractional numbers in python 3."
      ]
    },
    {
      "cell_type": "markdown",
      "metadata": {
        "id": "FWFj0L7Y-Jp0"
      },
      "source": [
        "Let's create a feature matrix transformation function."
      ]
    },
    {
      "cell_type": "code",
      "execution_count": null,
      "metadata": {
        "id": "avKHS0D7-Jp1"
      },
      "outputs": [],
      "source": [
        "def cipher_features(features):\n",
        "    crypted_features = features\n",
        "    n = features.shape[1]\n",
        "    np.random.seed(12345)\n",
        "    cipher_matrix = np.random.randint(1, 10, (n,n))\n",
        "    det = np.linalg.det(cipher_matrix)\n",
        "    while det == 0:\n",
        "        np.random.seed(12345)\n",
        "        cipher_matrix = np.random.randint(1, 10, (n,n))\n",
        "        det = np.linalg.det(cipher_matrix)\n",
        "    crypted_features = crypted_features @ cipher_matrix\n",
        "    return crypted_features, cipher_matrix"
      ]
    },
    {
      "cell_type": "markdown",
      "metadata": {
        "id": "o-vBARYL-Jp3"
      },
      "source": [
        "We will output the data before the conversion and after."
      ]
    },
    {
      "cell_type": "code",
      "execution_count": null,
      "metadata": {
        "colab": {
          "base_uri": "https://localhost:8080/",
          "height": 469
        },
        "id": "u45hSdfT-Jp3",
        "outputId": "886c59be-076e-46aa-fe57-bebd298256b0"
      },
      "outputs": [
        {
          "data": {
            "text/html": [
              "\n",
              "\n",
              "  <div id=\"df-840106de-43ac-45ff-8425-62a5e506f21c\">\n",
              "    <div class=\"colab-df-container\">\n",
              "      <div>\n",
              "<style scoped>\n",
              "    .dataframe tbody tr th:only-of-type {\n",
              "        vertical-align: middle;\n",
              "    }\n",
              "\n",
              "    .dataframe tbody tr th {\n",
              "        vertical-align: top;\n",
              "    }\n",
              "\n",
              "    .dataframe thead th {\n",
              "        text-align: right;\n",
              "    }\n",
              "</style>\n",
              "<table border=\"1\" class=\"dataframe\">\n",
              "  <thead>\n",
              "    <tr style=\"text-align: right;\">\n",
              "      <th></th>\n",
              "      <th>Пол</th>\n",
              "      <th>Возраст</th>\n",
              "      <th>Зарплата</th>\n",
              "      <th>Члены семьи</th>\n",
              "    </tr>\n",
              "  </thead>\n",
              "  <tbody>\n",
              "    <tr>\n",
              "      <th>0</th>\n",
              "      <td>1</td>\n",
              "      <td>41</td>\n",
              "      <td>49600.0</td>\n",
              "      <td>1</td>\n",
              "    </tr>\n",
              "    <tr>\n",
              "      <th>1</th>\n",
              "      <td>0</td>\n",
              "      <td>46</td>\n",
              "      <td>38000.0</td>\n",
              "      <td>1</td>\n",
              "    </tr>\n",
              "    <tr>\n",
              "      <th>2</th>\n",
              "      <td>0</td>\n",
              "      <td>29</td>\n",
              "      <td>21000.0</td>\n",
              "      <td>0</td>\n",
              "    </tr>\n",
              "    <tr>\n",
              "      <th>3</th>\n",
              "      <td>0</td>\n",
              "      <td>21</td>\n",
              "      <td>41700.0</td>\n",
              "      <td>2</td>\n",
              "    </tr>\n",
              "    <tr>\n",
              "      <th>4</th>\n",
              "      <td>1</td>\n",
              "      <td>28</td>\n",
              "      <td>26100.0</td>\n",
              "      <td>0</td>\n",
              "    </tr>\n",
              "  </tbody>\n",
              "</table>\n",
              "</div>\n",
              "      <button class=\"colab-df-convert\" onclick=\"convertToInteractive('df-840106de-43ac-45ff-8425-62a5e506f21c')\"\n",
              "              title=\"Convert this dataframe to an interactive table.\"\n",
              "              style=\"display:none;\">\n",
              "\n",
              "  <svg xmlns=\"http://www.w3.org/2000/svg\" height=\"24px\"viewBox=\"0 0 24 24\"\n",
              "       width=\"24px\">\n",
              "    <path d=\"M0 0h24v24H0V0z\" fill=\"none\"/>\n",
              "    <path d=\"M18.56 5.44l.94 2.06.94-2.06 2.06-.94-2.06-.94-.94-2.06-.94 2.06-2.06.94zm-11 1L8.5 8.5l.94-2.06 2.06-.94-2.06-.94L8.5 2.5l-.94 2.06-2.06.94zm10 10l.94 2.06.94-2.06 2.06-.94-2.06-.94-.94-2.06-.94 2.06-2.06.94z\"/><path d=\"M17.41 7.96l-1.37-1.37c-.4-.4-.92-.59-1.43-.59-.52 0-1.04.2-1.43.59L10.3 9.45l-7.72 7.72c-.78.78-.78 2.05 0 2.83L4 21.41c.39.39.9.59 1.41.59.51 0 1.02-.2 1.41-.59l7.78-7.78 2.81-2.81c.8-.78.8-2.07 0-2.86zM5.41 20L4 18.59l7.72-7.72 1.47 1.35L5.41 20z\"/>\n",
              "  </svg>\n",
              "      </button>\n",
              "\n",
              "\n",
              "\n",
              "    <div id=\"df-282dc697-1c9e-4e78-b911-4a5c1ad2bfd5\">\n",
              "      <button class=\"colab-df-quickchart\" onclick=\"quickchart('df-282dc697-1c9e-4e78-b911-4a5c1ad2bfd5')\"\n",
              "              title=\"Suggest charts.\"\n",
              "              style=\"display:none;\">\n",
              "\n",
              "<svg xmlns=\"http://www.w3.org/2000/svg\" height=\"24px\"viewBox=\"0 0 24 24\"\n",
              "     width=\"24px\">\n",
              "    <g>\n",
              "        <path d=\"M19 3H5c-1.1 0-2 .9-2 2v14c0 1.1.9 2 2 2h14c1.1 0 2-.9 2-2V5c0-1.1-.9-2-2-2zM9 17H7v-7h2v7zm4 0h-2V7h2v10zm4 0h-2v-4h2v4z\"/>\n",
              "    </g>\n",
              "</svg>\n",
              "      </button>\n",
              "    </div>\n",
              "\n",
              "<style>\n",
              "  .colab-df-quickchart {\n",
              "    background-color: #E8F0FE;\n",
              "    border: none;\n",
              "    border-radius: 50%;\n",
              "    cursor: pointer;\n",
              "    display: none;\n",
              "    fill: #1967D2;\n",
              "    height: 32px;\n",
              "    padding: 0 0 0 0;\n",
              "    width: 32px;\n",
              "  }\n",
              "\n",
              "  .colab-df-quickchart:hover {\n",
              "    background-color: #E2EBFA;\n",
              "    box-shadow: 0px 1px 2px rgba(60, 64, 67, 0.3), 0px 1px 3px 1px rgba(60, 64, 67, 0.15);\n",
              "    fill: #174EA6;\n",
              "  }\n",
              "\n",
              "  [theme=dark] .colab-df-quickchart {\n",
              "    background-color: #3B4455;\n",
              "    fill: #D2E3FC;\n",
              "  }\n",
              "\n",
              "  [theme=dark] .colab-df-quickchart:hover {\n",
              "    background-color: #434B5C;\n",
              "    box-shadow: 0px 1px 3px 1px rgba(0, 0, 0, 0.15);\n",
              "    filter: drop-shadow(0px 1px 2px rgba(0, 0, 0, 0.3));\n",
              "    fill: #FFFFFF;\n",
              "  }\n",
              "</style>\n",
              "\n",
              "    <script>\n",
              "      async function quickchart(key) {\n",
              "        const containerElement = document.querySelector('#' + key);\n",
              "        const charts = await google.colab.kernel.invokeFunction(\n",
              "            'suggestCharts', [key], {});\n",
              "      }\n",
              "    </script>\n",
              "\n",
              "      <script>\n",
              "\n",
              "function displayQuickchartButton(domScope) {\n",
              "  let quickchartButtonEl =\n",
              "    domScope.querySelector('#df-282dc697-1c9e-4e78-b911-4a5c1ad2bfd5 button.colab-df-quickchart');\n",
              "  quickchartButtonEl.style.display =\n",
              "    google.colab.kernel.accessAllowed ? 'block' : 'none';\n",
              "}\n",
              "\n",
              "        displayQuickchartButton(document);\n",
              "      </script>\n",
              "      <style>\n",
              "    .colab-df-container {\n",
              "      display:flex;\n",
              "      flex-wrap:wrap;\n",
              "      gap: 12px;\n",
              "    }\n",
              "\n",
              "    .colab-df-convert {\n",
              "      background-color: #E8F0FE;\n",
              "      border: none;\n",
              "      border-radius: 50%;\n",
              "      cursor: pointer;\n",
              "      display: none;\n",
              "      fill: #1967D2;\n",
              "      height: 32px;\n",
              "      padding: 0 0 0 0;\n",
              "      width: 32px;\n",
              "    }\n",
              "\n",
              "    .colab-df-convert:hover {\n",
              "      background-color: #E2EBFA;\n",
              "      box-shadow: 0px 1px 2px rgba(60, 64, 67, 0.3), 0px 1px 3px 1px rgba(60, 64, 67, 0.15);\n",
              "      fill: #174EA6;\n",
              "    }\n",
              "\n",
              "    [theme=dark] .colab-df-convert {\n",
              "      background-color: #3B4455;\n",
              "      fill: #D2E3FC;\n",
              "    }\n",
              "\n",
              "    [theme=dark] .colab-df-convert:hover {\n",
              "      background-color: #434B5C;\n",
              "      box-shadow: 0px 1px 3px 1px rgba(0, 0, 0, 0.15);\n",
              "      filter: drop-shadow(0px 1px 2px rgba(0, 0, 0, 0.3));\n",
              "      fill: #FFFFFF;\n",
              "    }\n",
              "  </style>\n",
              "\n",
              "      <script>\n",
              "        const buttonEl =\n",
              "          document.querySelector('#df-840106de-43ac-45ff-8425-62a5e506f21c button.colab-df-convert');\n",
              "        buttonEl.style.display =\n",
              "          google.colab.kernel.accessAllowed ? 'block' : 'none';\n",
              "\n",
              "        async function convertToInteractive(key) {\n",
              "          const element = document.querySelector('#df-840106de-43ac-45ff-8425-62a5e506f21c');\n",
              "          const dataTable =\n",
              "            await google.colab.kernel.invokeFunction('convertToInteractive',\n",
              "                                                     [key], {});\n",
              "          if (!dataTable) return;\n",
              "\n",
              "          const docLinkHtml = 'Like what you see? Visit the ' +\n",
              "            '<a target=\"_blank\" href=https://colab.research.google.com/notebooks/data_table.ipynb>data table notebook</a>'\n",
              "            + ' to learn more about interactive tables.';\n",
              "          element.innerHTML = '';\n",
              "          dataTable['output_type'] = 'display_data';\n",
              "          await google.colab.output.renderOutput(dataTable, element);\n",
              "          const docLink = document.createElement('div');\n",
              "          docLink.innerHTML = docLinkHtml;\n",
              "          element.appendChild(docLink);\n",
              "        }\n",
              "      </script>\n",
              "    </div>\n",
              "  </div>\n"
            ],
            "text/plain": [
              "   Пол  Возраст  Зарплата  Члены семьи\n",
              "0    1       41   49600.0            1\n",
              "1    0       46   38000.0            1\n",
              "2    0       29   21000.0            0\n",
              "3    0       21   41700.0            2\n",
              "4    1       28   26100.0            0"
            ]
          },
          "metadata": {},
          "output_type": "display_data"
        },
        {
          "data": {
            "text/html": [
              "\n",
              "\n",
              "  <div id=\"df-dcf3fca4-0512-4b8a-a979-de1bd7325457\">\n",
              "    <div class=\"colab-df-container\">\n",
              "      <div>\n",
              "<style scoped>\n",
              "    .dataframe tbody tr th:only-of-type {\n",
              "        vertical-align: middle;\n",
              "    }\n",
              "\n",
              "    .dataframe tbody tr th {\n",
              "        vertical-align: top;\n",
              "    }\n",
              "\n",
              "    .dataframe thead th {\n",
              "        text-align: right;\n",
              "    }\n",
              "</style>\n",
              "<table border=\"1\" class=\"dataframe\">\n",
              "  <thead>\n",
              "    <tr style=\"text-align: right;\">\n",
              "      <th></th>\n",
              "      <th>0</th>\n",
              "      <th>1</th>\n",
              "      <th>2</th>\n",
              "      <th>3</th>\n",
              "    </tr>\n",
              "  </thead>\n",
              "  <tbody>\n",
              "    <tr>\n",
              "      <th>0</th>\n",
              "      <td>99452.0</td>\n",
              "      <td>396931.0</td>\n",
              "      <td>347287.0</td>\n",
              "      <td>49899.0</td>\n",
              "    </tr>\n",
              "    <tr>\n",
              "      <th>1</th>\n",
              "      <td>76279.0</td>\n",
              "      <td>304140.0</td>\n",
              "      <td>266095.0</td>\n",
              "      <td>38329.0</td>\n",
              "    </tr>\n",
              "    <tr>\n",
              "      <th>2</th>\n",
              "      <td>42174.0</td>\n",
              "      <td>168087.0</td>\n",
              "      <td>147058.0</td>\n",
              "      <td>21203.0</td>\n",
              "    </tr>\n",
              "    <tr>\n",
              "      <th>3</th>\n",
              "      <td>83532.0</td>\n",
              "      <td>333667.0</td>\n",
              "      <td>291948.0</td>\n",
              "      <td>41861.0</td>\n",
              "    </tr>\n",
              "    <tr>\n",
              "      <th>4</th>\n",
              "      <td>52371.0</td>\n",
              "      <td>208890.0</td>\n",
              "      <td>182758.0</td>\n",
              "      <td>26301.0</td>\n",
              "    </tr>\n",
              "  </tbody>\n",
              "</table>\n",
              "</div>\n",
              "      <button class=\"colab-df-convert\" onclick=\"convertToInteractive('df-dcf3fca4-0512-4b8a-a979-de1bd7325457')\"\n",
              "              title=\"Convert this dataframe to an interactive table.\"\n",
              "              style=\"display:none;\">\n",
              "\n",
              "  <svg xmlns=\"http://www.w3.org/2000/svg\" height=\"24px\"viewBox=\"0 0 24 24\"\n",
              "       width=\"24px\">\n",
              "    <path d=\"M0 0h24v24H0V0z\" fill=\"none\"/>\n",
              "    <path d=\"M18.56 5.44l.94 2.06.94-2.06 2.06-.94-2.06-.94-.94-2.06-.94 2.06-2.06.94zm-11 1L8.5 8.5l.94-2.06 2.06-.94-2.06-.94L8.5 2.5l-.94 2.06-2.06.94zm10 10l.94 2.06.94-2.06 2.06-.94-2.06-.94-.94-2.06-.94 2.06-2.06.94z\"/><path d=\"M17.41 7.96l-1.37-1.37c-.4-.4-.92-.59-1.43-.59-.52 0-1.04.2-1.43.59L10.3 9.45l-7.72 7.72c-.78.78-.78 2.05 0 2.83L4 21.41c.39.39.9.59 1.41.59.51 0 1.02-.2 1.41-.59l7.78-7.78 2.81-2.81c.8-.78.8-2.07 0-2.86zM5.41 20L4 18.59l7.72-7.72 1.47 1.35L5.41 20z\"/>\n",
              "  </svg>\n",
              "      </button>\n",
              "\n",
              "\n",
              "\n",
              "    <div id=\"df-3eb47aaa-dccb-422d-a804-053a6a4236e5\">\n",
              "      <button class=\"colab-df-quickchart\" onclick=\"quickchart('df-3eb47aaa-dccb-422d-a804-053a6a4236e5')\"\n",
              "              title=\"Suggest charts.\"\n",
              "              style=\"display:none;\">\n",
              "\n",
              "<svg xmlns=\"http://www.w3.org/2000/svg\" height=\"24px\"viewBox=\"0 0 24 24\"\n",
              "     width=\"24px\">\n",
              "    <g>\n",
              "        <path d=\"M19 3H5c-1.1 0-2 .9-2 2v14c0 1.1.9 2 2 2h14c1.1 0 2-.9 2-2V5c0-1.1-.9-2-2-2zM9 17H7v-7h2v7zm4 0h-2V7h2v10zm4 0h-2v-4h2v4z\"/>\n",
              "    </g>\n",
              "</svg>\n",
              "      </button>\n",
              "    </div>\n",
              "\n",
              "<style>\n",
              "  .colab-df-quickchart {\n",
              "    background-color: #E8F0FE;\n",
              "    border: none;\n",
              "    border-radius: 50%;\n",
              "    cursor: pointer;\n",
              "    display: none;\n",
              "    fill: #1967D2;\n",
              "    height: 32px;\n",
              "    padding: 0 0 0 0;\n",
              "    width: 32px;\n",
              "  }\n",
              "\n",
              "  .colab-df-quickchart:hover {\n",
              "    background-color: #E2EBFA;\n",
              "    box-shadow: 0px 1px 2px rgba(60, 64, 67, 0.3), 0px 1px 3px 1px rgba(60, 64, 67, 0.15);\n",
              "    fill: #174EA6;\n",
              "  }\n",
              "\n",
              "  [theme=dark] .colab-df-quickchart {\n",
              "    background-color: #3B4455;\n",
              "    fill: #D2E3FC;\n",
              "  }\n",
              "\n",
              "  [theme=dark] .colab-df-quickchart:hover {\n",
              "    background-color: #434B5C;\n",
              "    box-shadow: 0px 1px 3px 1px rgba(0, 0, 0, 0.15);\n",
              "    filter: drop-shadow(0px 1px 2px rgba(0, 0, 0, 0.3));\n",
              "    fill: #FFFFFF;\n",
              "  }\n",
              "</style>\n",
              "\n",
              "    <script>\n",
              "      async function quickchart(key) {\n",
              "        const containerElement = document.querySelector('#' + key);\n",
              "        const charts = await google.colab.kernel.invokeFunction(\n",
              "            'suggestCharts', [key], {});\n",
              "      }\n",
              "    </script>\n",
              "\n",
              "      <script>\n",
              "\n",
              "function displayQuickchartButton(domScope) {\n",
              "  let quickchartButtonEl =\n",
              "    domScope.querySelector('#df-3eb47aaa-dccb-422d-a804-053a6a4236e5 button.colab-df-quickchart');\n",
              "  quickchartButtonEl.style.display =\n",
              "    google.colab.kernel.accessAllowed ? 'block' : 'none';\n",
              "}\n",
              "\n",
              "        displayQuickchartButton(document);\n",
              "      </script>\n",
              "      <style>\n",
              "    .colab-df-container {\n",
              "      display:flex;\n",
              "      flex-wrap:wrap;\n",
              "      gap: 12px;\n",
              "    }\n",
              "\n",
              "    .colab-df-convert {\n",
              "      background-color: #E8F0FE;\n",
              "      border: none;\n",
              "      border-radius: 50%;\n",
              "      cursor: pointer;\n",
              "      display: none;\n",
              "      fill: #1967D2;\n",
              "      height: 32px;\n",
              "      padding: 0 0 0 0;\n",
              "      width: 32px;\n",
              "    }\n",
              "\n",
              "    .colab-df-convert:hover {\n",
              "      background-color: #E2EBFA;\n",
              "      box-shadow: 0px 1px 2px rgba(60, 64, 67, 0.3), 0px 1px 3px 1px rgba(60, 64, 67, 0.15);\n",
              "      fill: #174EA6;\n",
              "    }\n",
              "\n",
              "    [theme=dark] .colab-df-convert {\n",
              "      background-color: #3B4455;\n",
              "      fill: #D2E3FC;\n",
              "    }\n",
              "\n",
              "    [theme=dark] .colab-df-convert:hover {\n",
              "      background-color: #434B5C;\n",
              "      box-shadow: 0px 1px 3px 1px rgba(0, 0, 0, 0.15);\n",
              "      filter: drop-shadow(0px 1px 2px rgba(0, 0, 0, 0.3));\n",
              "      fill: #FFFFFF;\n",
              "    }\n",
              "  </style>\n",
              "\n",
              "      <script>\n",
              "        const buttonEl =\n",
              "          document.querySelector('#df-dcf3fca4-0512-4b8a-a979-de1bd7325457 button.colab-df-convert');\n",
              "        buttonEl.style.display =\n",
              "          google.colab.kernel.accessAllowed ? 'block' : 'none';\n",
              "\n",
              "        async function convertToInteractive(key) {\n",
              "          const element = document.querySelector('#df-dcf3fca4-0512-4b8a-a979-de1bd7325457');\n",
              "          const dataTable =\n",
              "            await google.colab.kernel.invokeFunction('convertToInteractive',\n",
              "                                                     [key], {});\n",
              "          if (!dataTable) return;\n",
              "\n",
              "          const docLinkHtml = 'Like what you see? Visit the ' +\n",
              "            '<a target=\"_blank\" href=https://colab.research.google.com/notebooks/data_table.ipynb>data table notebook</a>'\n",
              "            + ' to learn more about interactive tables.';\n",
              "          element.innerHTML = '';\n",
              "          dataTable['output_type'] = 'display_data';\n",
              "          await google.colab.output.renderOutput(dataTable, element);\n",
              "          const docLink = document.createElement('div');\n",
              "          docLink.innerHTML = docLinkHtml;\n",
              "          element.appendChild(docLink);\n",
              "        }\n",
              "      </script>\n",
              "    </div>\n",
              "  </div>\n"
            ],
            "text/plain": [
              "         0         1         2        3\n",
              "0  99452.0  396931.0  347287.0  49899.0\n",
              "1  76279.0  304140.0  266095.0  38329.0\n",
              "2  42174.0  168087.0  147058.0  21203.0\n",
              "3  83532.0  333667.0  291948.0  41861.0\n",
              "4  52371.0  208890.0  182758.0  26301.0"
            ]
          },
          "metadata": {},
          "output_type": "display_data"
        },
        {
          "data": {
            "text/plain": [
              "array([[3, 6, 2, 5],\n",
              "       [6, 3, 2, 7],\n",
              "       [2, 8, 7, 1],\n",
              "       [3, 2, 3, 7]])"
            ]
          },
          "execution_count": 13,
          "metadata": {},
          "output_type": "execute_result"
        }
      ],
      "source": [
        "display(features.head())\n",
        "features, cipher_matrix = cipher_features(features)\n",
        "display(features.head())\n",
        "cipher_matrix"
      ]
    },
    {
      "cell_type": "markdown",
      "metadata": {
        "id": "_MvxKajb-Jp5"
      },
      "source": [
        "As you can see, the data has lost its original values, now an incomprehensible number is stored in them. Let's split the data into training and training samples and check the R2 value."
      ]
    },
    {
      "cell_type": "code",
      "execution_count": null,
      "metadata": {
        "id": "TvqnG2Gm-Jp5"
      },
      "outputs": [],
      "source": [
        "features_train, features_test, target_train, target_test = train_test_split(\n",
        "    features, target, test_size=0.25, random_state=12345)"
      ]
    },
    {
      "cell_type": "code",
      "execution_count": null,
      "metadata": {
        "colab": {
          "base_uri": "https://localhost:8080/"
        },
        "id": "fBizJIR--Jp6",
        "outputId": "b111d428-2016-4745-e9b1-d45342e096a7"
      },
      "outputs": [
        {
          "name": "stdout",
          "output_type": "stream",
          "text": [
            "w-vector coef [ 0.01280453  0.00328449 -0.00664342 -0.00538157]\n",
            "R2 = 0.4352275712703063\n"
          ]
        }
      ],
      "source": [
        "model = LinearRegression()\n",
        "model.fit(features_train, target_train)\n",
        "R2_LR_cipher_data = r2_score(target_test, model.predict(features_test))\n",
        "print(\"w-vector coef\",model.coef_)\n",
        "print(\"R2 =\", R2_LR_cipher_data)"
      ]
    },
    {
      "cell_type": "code",
      "execution_count": null,
      "metadata": {
        "colab": {
          "base_uri": "https://localhost:8080/"
        },
        "id": "y1NEGTZ_-Jp7",
        "outputId": "69cedf65-eb46-48f6-deab-43b22a9d8ca7"
      },
      "outputs": [
        {
          "name": "stdout",
          "output_type": "stream",
          "text": [
            "R2 = 0.4352275712702772\n"
          ]
        }
      ],
      "source": [
        "regressor = LinearRegression()\n",
        "scaller = StandardScaler()\n",
        "pipeline = Pipeline([(\"standard_scaller\", scaller),(\"linear_regression\", regressor)])\n",
        "pipeline.fit(features_train, target_train)\n",
        "R2_LR_cipher_data_scaled = r2_score(target_test, pipeline.predict(features_test))\n",
        "#print(\"w-vector coef\",pipeline.coef_) при использовании pipeline невозможно получить коэффициенты регрессии\n",
        "print(\"R2 =\", R2_LR_cipher_data_scaled)"
      ]
    },
    {
      "cell_type": "markdown",
      "metadata": {
        "id": "Gksio0_1-Jp9"
      },
      "source": [
        "Let's compare the quality indicators of the models."
      ]
    },
    {
      "cell_type": "code",
      "execution_count": null,
      "metadata": {
        "colab": {
          "base_uri": "https://localhost:8080/",
          "height": 175
        },
        "id": "_VuQPZfq-Jp9",
        "outputId": "fea23b66-b90a-4b8d-8ce8-76d1e897991d"
      },
      "outputs": [
        {
          "data": {
            "text/html": [
              "\n",
              "\n",
              "  <div id=\"df-1b559d8b-05f5-4ce6-976c-f1c9518141bc\">\n",
              "    <div class=\"colab-df-container\">\n",
              "      <div>\n",
              "<style scoped>\n",
              "    .dataframe tbody tr th:only-of-type {\n",
              "        vertical-align: middle;\n",
              "    }\n",
              "\n",
              "    .dataframe tbody tr th {\n",
              "        vertical-align: top;\n",
              "    }\n",
              "\n",
              "    .dataframe thead th {\n",
              "        text-align: right;\n",
              "    }\n",
              "</style>\n",
              "<table border=\"1\" class=\"dataframe\">\n",
              "  <thead>\n",
              "    <tr style=\"text-align: right;\">\n",
              "      <th></th>\n",
              "      <th>R2</th>\n",
              "    </tr>\n",
              "  </thead>\n",
              "  <tbody>\n",
              "    <tr>\n",
              "      <th>Линейная регрессия</th>\n",
              "      <td>0.435228</td>\n",
              "    </tr>\n",
              "    <tr>\n",
              "      <th>Линейная регрессия c масштабом</th>\n",
              "      <td>0.435228</td>\n",
              "    </tr>\n",
              "    <tr>\n",
              "      <th>Линейная регрессия на преобразованных признаках</th>\n",
              "      <td>0.435228</td>\n",
              "    </tr>\n",
              "    <tr>\n",
              "      <th>Линейная регрессия на преобразованных признаках c масштабом</th>\n",
              "      <td>0.435228</td>\n",
              "    </tr>\n",
              "  </tbody>\n",
              "</table>\n",
              "</div>\n",
              "      <button class=\"colab-df-convert\" onclick=\"convertToInteractive('df-1b559d8b-05f5-4ce6-976c-f1c9518141bc')\"\n",
              "              title=\"Convert this dataframe to an interactive table.\"\n",
              "              style=\"display:none;\">\n",
              "\n",
              "  <svg xmlns=\"http://www.w3.org/2000/svg\" height=\"24px\"viewBox=\"0 0 24 24\"\n",
              "       width=\"24px\">\n",
              "    <path d=\"M0 0h24v24H0V0z\" fill=\"none\"/>\n",
              "    <path d=\"M18.56 5.44l.94 2.06.94-2.06 2.06-.94-2.06-.94-.94-2.06-.94 2.06-2.06.94zm-11 1L8.5 8.5l.94-2.06 2.06-.94-2.06-.94L8.5 2.5l-.94 2.06-2.06.94zm10 10l.94 2.06.94-2.06 2.06-.94-2.06-.94-.94-2.06-.94 2.06-2.06.94z\"/><path d=\"M17.41 7.96l-1.37-1.37c-.4-.4-.92-.59-1.43-.59-.52 0-1.04.2-1.43.59L10.3 9.45l-7.72 7.72c-.78.78-.78 2.05 0 2.83L4 21.41c.39.39.9.59 1.41.59.51 0 1.02-.2 1.41-.59l7.78-7.78 2.81-2.81c.8-.78.8-2.07 0-2.86zM5.41 20L4 18.59l7.72-7.72 1.47 1.35L5.41 20z\"/>\n",
              "  </svg>\n",
              "      </button>\n",
              "\n",
              "\n",
              "\n",
              "    <div id=\"df-80e11cfb-64e4-4c4d-a3df-59e7462f662d\">\n",
              "      <button class=\"colab-df-quickchart\" onclick=\"quickchart('df-80e11cfb-64e4-4c4d-a3df-59e7462f662d')\"\n",
              "              title=\"Suggest charts.\"\n",
              "              style=\"display:none;\">\n",
              "\n",
              "<svg xmlns=\"http://www.w3.org/2000/svg\" height=\"24px\"viewBox=\"0 0 24 24\"\n",
              "     width=\"24px\">\n",
              "    <g>\n",
              "        <path d=\"M19 3H5c-1.1 0-2 .9-2 2v14c0 1.1.9 2 2 2h14c1.1 0 2-.9 2-2V5c0-1.1-.9-2-2-2zM9 17H7v-7h2v7zm4 0h-2V7h2v10zm4 0h-2v-4h2v4z\"/>\n",
              "    </g>\n",
              "</svg>\n",
              "      </button>\n",
              "    </div>\n",
              "\n",
              "<style>\n",
              "  .colab-df-quickchart {\n",
              "    background-color: #E8F0FE;\n",
              "    border: none;\n",
              "    border-radius: 50%;\n",
              "    cursor: pointer;\n",
              "    display: none;\n",
              "    fill: #1967D2;\n",
              "    height: 32px;\n",
              "    padding: 0 0 0 0;\n",
              "    width: 32px;\n",
              "  }\n",
              "\n",
              "  .colab-df-quickchart:hover {\n",
              "    background-color: #E2EBFA;\n",
              "    box-shadow: 0px 1px 2px rgba(60, 64, 67, 0.3), 0px 1px 3px 1px rgba(60, 64, 67, 0.15);\n",
              "    fill: #174EA6;\n",
              "  }\n",
              "\n",
              "  [theme=dark] .colab-df-quickchart {\n",
              "    background-color: #3B4455;\n",
              "    fill: #D2E3FC;\n",
              "  }\n",
              "\n",
              "  [theme=dark] .colab-df-quickchart:hover {\n",
              "    background-color: #434B5C;\n",
              "    box-shadow: 0px 1px 3px 1px rgba(0, 0, 0, 0.15);\n",
              "    filter: drop-shadow(0px 1px 2px rgba(0, 0, 0, 0.3));\n",
              "    fill: #FFFFFF;\n",
              "  }\n",
              "</style>\n",
              "\n",
              "    <script>\n",
              "      async function quickchart(key) {\n",
              "        const containerElement = document.querySelector('#' + key);\n",
              "        const charts = await google.colab.kernel.invokeFunction(\n",
              "            'suggestCharts', [key], {});\n",
              "      }\n",
              "    </script>\n",
              "\n",
              "      <script>\n",
              "\n",
              "function displayQuickchartButton(domScope) {\n",
              "  let quickchartButtonEl =\n",
              "    domScope.querySelector('#df-80e11cfb-64e4-4c4d-a3df-59e7462f662d button.colab-df-quickchart');\n",
              "  quickchartButtonEl.style.display =\n",
              "    google.colab.kernel.accessAllowed ? 'block' : 'none';\n",
              "}\n",
              "\n",
              "        displayQuickchartButton(document);\n",
              "      </script>\n",
              "      <style>\n",
              "    .colab-df-container {\n",
              "      display:flex;\n",
              "      flex-wrap:wrap;\n",
              "      gap: 12px;\n",
              "    }\n",
              "\n",
              "    .colab-df-convert {\n",
              "      background-color: #E8F0FE;\n",
              "      border: none;\n",
              "      border-radius: 50%;\n",
              "      cursor: pointer;\n",
              "      display: none;\n",
              "      fill: #1967D2;\n",
              "      height: 32px;\n",
              "      padding: 0 0 0 0;\n",
              "      width: 32px;\n",
              "    }\n",
              "\n",
              "    .colab-df-convert:hover {\n",
              "      background-color: #E2EBFA;\n",
              "      box-shadow: 0px 1px 2px rgba(60, 64, 67, 0.3), 0px 1px 3px 1px rgba(60, 64, 67, 0.15);\n",
              "      fill: #174EA6;\n",
              "    }\n",
              "\n",
              "    [theme=dark] .colab-df-convert {\n",
              "      background-color: #3B4455;\n",
              "      fill: #D2E3FC;\n",
              "    }\n",
              "\n",
              "    [theme=dark] .colab-df-convert:hover {\n",
              "      background-color: #434B5C;\n",
              "      box-shadow: 0px 1px 3px 1px rgba(0, 0, 0, 0.15);\n",
              "      filter: drop-shadow(0px 1px 2px rgba(0, 0, 0, 0.3));\n",
              "      fill: #FFFFFF;\n",
              "    }\n",
              "  </style>\n",
              "\n",
              "      <script>\n",
              "        const buttonEl =\n",
              "          document.querySelector('#df-1b559d8b-05f5-4ce6-976c-f1c9518141bc button.colab-df-convert');\n",
              "        buttonEl.style.display =\n",
              "          google.colab.kernel.accessAllowed ? 'block' : 'none';\n",
              "\n",
              "        async function convertToInteractive(key) {\n",
              "          const element = document.querySelector('#df-1b559d8b-05f5-4ce6-976c-f1c9518141bc');\n",
              "          const dataTable =\n",
              "            await google.colab.kernel.invokeFunction('convertToInteractive',\n",
              "                                                     [key], {});\n",
              "          if (!dataTable) return;\n",
              "\n",
              "          const docLinkHtml = 'Like what you see? Visit the ' +\n",
              "            '<a target=\"_blank\" href=https://colab.research.google.com/notebooks/data_table.ipynb>data table notebook</a>'\n",
              "            + ' to learn more about interactive tables.';\n",
              "          element.innerHTML = '';\n",
              "          dataTable['output_type'] = 'display_data';\n",
              "          await google.colab.output.renderOutput(dataTable, element);\n",
              "          const docLink = document.createElement('div');\n",
              "          docLink.innerHTML = docLinkHtml;\n",
              "          element.appendChild(docLink);\n",
              "        }\n",
              "      </script>\n",
              "    </div>\n",
              "  </div>\n"
            ],
            "text/plain": [
              "                                                          R2\n",
              "Линейная регрессия                                  0.435228\n",
              "Линейная регрессия c масштабом                      0.435228\n",
              "Линейная регрессия на преобразованных признаках     0.435228\n",
              "Линейная регрессия на преобразованных признаках...  0.435228"
            ]
          },
          "execution_count": 17,
          "metadata": {},
          "output_type": "execute_result"
        }
      ],
      "source": [
        "result = pd.DataFrame(data= [R2_LR_origin_data_scaled,\n",
        "                      R2_LR_origin_data,\n",
        "                      R2_LR_cipher_data,\n",
        "                      R2_LR_cipher_data_scaled],\n",
        "                     columns=['R2'],\n",
        "                     index=['Linear regression',\n",
        "                            'Linear regression with scale',\n",
        "                            'Linear regression on transformed features',\n",
        "                            'Linear regression on transformed features with scale',])\n",
        "result"
      ]
    },
    {
      "cell_type": "markdown",
      "metadata": {
        "id": "GVgv2vgx-JqA"
      },
      "source": [
        "<div style=\"border:2px solid Black; padding:20px;\">\n",
        "\n",
        "## Final conclusion\n",
        "In the course of the work , the following was done:\n",
        "\n",
        "1. Data has been downloaded and studied.\n",
        "2. The quality of linear regression has not changed from the use of the original matrix and the matrix multiplied by the reversible one.\n",
        "3. A data transformation algorithm has been created.\n",
        "4. The algorithm of data transformation is investigated and the K2 metric for data without transformation and with it is checked.\n",
        "\n",
        "Based on the results of using matrix operations, you can see that it is very easy to encrypt data from recognition, having the correct matrix.\n",
        "\n",
        "</div>"
      ]
    }
  ],
  "metadata": {
    "ExecuteTimeLog": [
      {
        "duration": 1154,
        "start_time": "2023-07-03T09:35:39.149Z"
      },
      {
        "duration": 96,
        "start_time": "2023-07-03T09:35:50.972Z"
      },
      {
        "duration": 17,
        "start_time": "2023-07-03T09:36:07.891Z"
      },
      {
        "duration": 3,
        "start_time": "2023-07-03T09:37:28.749Z"
      },
      {
        "duration": 12,
        "start_time": "2023-07-03T09:37:38.034Z"
      },
      {
        "duration": 77,
        "start_time": "2023-07-03T09:39:24.547Z"
      },
      {
        "duration": 17,
        "start_time": "2023-07-03T09:40:28.670Z"
      },
      {
        "duration": 5,
        "start_time": "2023-07-03T09:42:47.131Z"
      },
      {
        "duration": 16,
        "start_time": "2023-07-03T09:43:00.726Z"
      },
      {
        "duration": 15,
        "start_time": "2023-07-03T09:44:15.325Z"
      },
      {
        "duration": 15,
        "start_time": "2023-07-03T09:44:31.732Z"
      },
      {
        "duration": 95,
        "start_time": "2023-07-03T09:59:21.793Z"
      },
      {
        "duration": 6,
        "start_time": "2023-07-03T10:03:27.695Z"
      },
      {
        "duration": 6,
        "start_time": "2023-07-03T10:03:31.972Z"
      },
      {
        "duration": 11,
        "start_time": "2023-07-03T10:03:42.973Z"
      },
      {
        "duration": 13,
        "start_time": "2023-07-03T10:03:57.711Z"
      },
      {
        "duration": 4,
        "start_time": "2023-07-03T10:04:35.097Z"
      },
      {
        "duration": 29,
        "start_time": "2023-07-03T10:04:55.255Z"
      },
      {
        "duration": 5,
        "start_time": "2023-07-03T10:05:24.567Z"
      },
      {
        "duration": 10,
        "start_time": "2023-07-03T10:05:31.715Z"
      },
      {
        "duration": 13,
        "start_time": "2023-07-03T10:05:38.877Z"
      },
      {
        "duration": 9,
        "start_time": "2023-07-03T10:06:02.314Z"
      },
      {
        "duration": 4,
        "start_time": "2023-07-03T10:08:31.629Z"
      },
      {
        "duration": 90,
        "start_time": "2023-07-03T10:08:31.635Z"
      },
      {
        "duration": 9,
        "start_time": "2023-07-03T10:08:31.727Z"
      },
      {
        "duration": 6,
        "start_time": "2023-07-03T10:08:31.738Z"
      },
      {
        "duration": 44,
        "start_time": "2023-07-03T10:08:31.745Z"
      },
      {
        "duration": 21,
        "start_time": "2023-07-03T10:08:31.792Z"
      },
      {
        "duration": 21,
        "start_time": "2023-07-03T10:08:31.816Z"
      },
      {
        "duration": 29,
        "start_time": "2023-07-03T10:08:31.839Z"
      },
      {
        "duration": 95,
        "start_time": "2023-07-03T10:08:31.872Z"
      },
      {
        "duration": 45,
        "start_time": "2023-07-03T10:08:31.969Z"
      },
      {
        "duration": 52,
        "start_time": "2023-07-03T10:08:32.016Z"
      },
      {
        "duration": 8,
        "start_time": "2023-07-03T10:08:32.071Z"
      },
      {
        "duration": 60,
        "start_time": "2023-07-03T10:08:32.080Z"
      },
      {
        "duration": 16,
        "start_time": "2023-07-03T10:08:32.141Z"
      },
      {
        "duration": 45,
        "start_time": "2023-07-03T10:08:32.160Z"
      },
      {
        "duration": 31,
        "start_time": "2023-07-03T10:08:32.207Z"
      },
      {
        "duration": 38,
        "start_time": "2023-07-03T10:08:32.240Z"
      },
      {
        "duration": 2855,
        "start_time": "2023-07-03T10:28:53.593Z"
      },
      {
        "duration": 35,
        "start_time": "2023-07-03T10:28:56.450Z"
      },
      {
        "duration": 13,
        "start_time": "2023-07-03T10:28:56.487Z"
      },
      {
        "duration": 6,
        "start_time": "2023-07-03T10:28:56.501Z"
      },
      {
        "duration": 12,
        "start_time": "2023-07-03T10:28:56.509Z"
      },
      {
        "duration": 15,
        "start_time": "2023-07-03T10:28:56.523Z"
      },
      {
        "duration": 4,
        "start_time": "2023-07-03T10:28:56.540Z"
      },
      {
        "duration": 19,
        "start_time": "2023-07-03T10:28:56.567Z"
      },
      {
        "duration": 84,
        "start_time": "2023-07-03T10:28:56.587Z"
      },
      {
        "duration": 12,
        "start_time": "2023-07-03T10:28:56.673Z"
      },
      {
        "duration": 84,
        "start_time": "2023-07-03T10:28:56.686Z"
      },
      {
        "duration": 4,
        "start_time": "2023-07-03T10:28:56.771Z"
      },
      {
        "duration": 19,
        "start_time": "2023-07-03T10:28:56.776Z"
      },
      {
        "duration": 3,
        "start_time": "2023-07-03T10:28:56.797Z"
      },
      {
        "duration": 9,
        "start_time": "2023-07-03T10:28:56.802Z"
      },
      {
        "duration": 10,
        "start_time": "2023-07-03T10:28:56.812Z"
      },
      {
        "duration": 49,
        "start_time": "2023-07-03T10:28:56.823Z"
      },
      {
        "duration": 111,
        "start_time": "2023-07-04T05:51:15.255Z"
      }
    ],
    "colab": {
      "provenance": []
    },
    "kernelspec": {
      "display_name": "Python 3 (ipykernel)",
      "language": "python",
      "name": "python3"
    },
    "language_info": {
      "codemirror_mode": {
        "name": "ipython",
        "version": 3
      },
      "file_extension": ".py",
      "mimetype": "text/x-python",
      "name": "python",
      "nbconvert_exporter": "python",
      "pygments_lexer": "ipython3",
      "version": "3.11.4"
    },
    "toc": {
      "base_numbering": 1,
      "nav_menu": {},
      "number_sections": true,
      "sideBar": true,
      "skip_h1_title": true,
      "title_cell": "Содержание",
      "title_sidebar": "Contents",
      "toc_cell": true,
      "toc_position": {},
      "toc_section_display": true,
      "toc_window_display": false
    }
  },
  "nbformat": 4,
  "nbformat_minor": 0
}
