{
  "cells": [
    {
      "cell_type": "markdown",
      "metadata": {
        "id": "CFxV-7YmCIdF"
      },
      "source": [
        "# Content\n",
        "\n",
        "\n",
        "\n",
        " * 1 Study file\n",
        " * 2 Splitting data into samples\n",
        " * 3 Model study\n",
        " * Intermediate conclusions\n",
        " * 4 Checking the best model on the test set\n",
        " * 5 Checking the best model for adequacy\n",
        " * Conclusion\n"
      ]
    },
    {
      "cell_type": "markdown",
      "metadata": {
        "id": "i8xCnDg3JV7N"
      },
      "source": [
        "<div style=\"border:2px solid Black; padding:20px;\">\n",
        "<h1> Fare Recommendations</h1>\n",
        "We have at our disposal data on the behavior of customers who have already switched to these tariffs. You need to build a model for the classification problem that will select the appropriate rate. Data preprocessing is not required - it is already done.\n",
        "\n",
        "Let's build a model with the largest *accuracy* value. \n",
        "</div>\n"
      ]
    },
    {
      "cell_type": "markdown",
      "metadata": {
        "id": "7bsu4m0MJV7Q"
      },
      "source": [
        "## Откройте и изучите файл"
      ]
    },
    {
      "cell_type": "code",
      "execution_count": 1,
      "metadata": {
        "id": "osQHpD79JV7T"
      },
      "outputs": [],
      "source": [
        "import pandas as pd\n",
        "import numpy as np\n",
        "from sklearn.tree import DecisionTreeClassifier\n",
        "from sklearn.ensemble import RandomForestClassifier\n",
        "from sklearn.linear_model import LogisticRegression\n",
        "from sklearn.metrics import accuracy_score\n",
        "from sklearn.model_selection import train_test_split\n",
        "from sklearn.metrics import mean_squared_error"
      ]
    },
    {
      "cell_type": "code",
      "execution_count": 2,
      "metadata": {
        "colab": {
          "base_uri": "https://localhost:8080/",
          "height": 1000
        },
        "id": "i7o7yF-yJV7e",
        "outputId": "8f9e3599-02e4-4d1a-f35d-65b046860256"
      },
      "outputs": [
        {
          "ename": "FileNotFoundError",
          "evalue": "[Errno 2] No such file or directory: 'datasets/users_behavior.csv'",
          "output_type": "error",
          "traceback": [
            "\u001b[1;31m---------------------------------------------------------------------------\u001b[0m",
            "\u001b[1;31mFileNotFoundError\u001b[0m                         Traceback (most recent call last)",
            "Cell \u001b[1;32mIn[2], line 1\u001b[0m\n\u001b[1;32m----> 1\u001b[0m df \u001b[39m=\u001b[39m pd\u001b[39m.\u001b[39;49mread_csv(\u001b[39m'\u001b[39;49m\u001b[39mdatasets/users_behavior.csv\u001b[39;49m\u001b[39m'\u001b[39;49m)\n\u001b[0;32m      3\u001b[0m \u001b[39mprint\u001b[39m(df\u001b[39m.\u001b[39minfo());\n\u001b[0;32m      5\u001b[0m \u001b[39mprint\u001b[39m(df\u001b[39m.\u001b[39mhead());\n",
            "File \u001b[1;32mc:\\Users\\Пользователь\\AppData\\Local\\Programs\\Python\\Python311\\Lib\\site-packages\\pandas\\io\\parsers\\readers.py:912\u001b[0m, in \u001b[0;36mread_csv\u001b[1;34m(filepath_or_buffer, sep, delimiter, header, names, index_col, usecols, dtype, engine, converters, true_values, false_values, skipinitialspace, skiprows, skipfooter, nrows, na_values, keep_default_na, na_filter, verbose, skip_blank_lines, parse_dates, infer_datetime_format, keep_date_col, date_parser, date_format, dayfirst, cache_dates, iterator, chunksize, compression, thousands, decimal, lineterminator, quotechar, quoting, doublequote, escapechar, comment, encoding, encoding_errors, dialect, on_bad_lines, delim_whitespace, low_memory, memory_map, float_precision, storage_options, dtype_backend)\u001b[0m\n\u001b[0;32m    899\u001b[0m kwds_defaults \u001b[39m=\u001b[39m _refine_defaults_read(\n\u001b[0;32m    900\u001b[0m     dialect,\n\u001b[0;32m    901\u001b[0m     delimiter,\n\u001b[1;32m   (...)\u001b[0m\n\u001b[0;32m    908\u001b[0m     dtype_backend\u001b[39m=\u001b[39mdtype_backend,\n\u001b[0;32m    909\u001b[0m )\n\u001b[0;32m    910\u001b[0m kwds\u001b[39m.\u001b[39mupdate(kwds_defaults)\n\u001b[1;32m--> 912\u001b[0m \u001b[39mreturn\u001b[39;00m _read(filepath_or_buffer, kwds)\n",
            "File \u001b[1;32mc:\\Users\\Пользователь\\AppData\\Local\\Programs\\Python\\Python311\\Lib\\site-packages\\pandas\\io\\parsers\\readers.py:577\u001b[0m, in \u001b[0;36m_read\u001b[1;34m(filepath_or_buffer, kwds)\u001b[0m\n\u001b[0;32m    574\u001b[0m _validate_names(kwds\u001b[39m.\u001b[39mget(\u001b[39m\"\u001b[39m\u001b[39mnames\u001b[39m\u001b[39m\"\u001b[39m, \u001b[39mNone\u001b[39;00m))\n\u001b[0;32m    576\u001b[0m \u001b[39m# Create the parser.\u001b[39;00m\n\u001b[1;32m--> 577\u001b[0m parser \u001b[39m=\u001b[39m TextFileReader(filepath_or_buffer, \u001b[39m*\u001b[39;49m\u001b[39m*\u001b[39;49mkwds)\n\u001b[0;32m    579\u001b[0m \u001b[39mif\u001b[39;00m chunksize \u001b[39mor\u001b[39;00m iterator:\n\u001b[0;32m    580\u001b[0m     \u001b[39mreturn\u001b[39;00m parser\n",
            "File \u001b[1;32mc:\\Users\\Пользователь\\AppData\\Local\\Programs\\Python\\Python311\\Lib\\site-packages\\pandas\\io\\parsers\\readers.py:1407\u001b[0m, in \u001b[0;36mTextFileReader.__init__\u001b[1;34m(self, f, engine, **kwds)\u001b[0m\n\u001b[0;32m   1404\u001b[0m     \u001b[39mself\u001b[39m\u001b[39m.\u001b[39moptions[\u001b[39m\"\u001b[39m\u001b[39mhas_index_names\u001b[39m\u001b[39m\"\u001b[39m] \u001b[39m=\u001b[39m kwds[\u001b[39m\"\u001b[39m\u001b[39mhas_index_names\u001b[39m\u001b[39m\"\u001b[39m]\n\u001b[0;32m   1406\u001b[0m \u001b[39mself\u001b[39m\u001b[39m.\u001b[39mhandles: IOHandles \u001b[39m|\u001b[39m \u001b[39mNone\u001b[39;00m \u001b[39m=\u001b[39m \u001b[39mNone\u001b[39;00m\n\u001b[1;32m-> 1407\u001b[0m \u001b[39mself\u001b[39m\u001b[39m.\u001b[39m_engine \u001b[39m=\u001b[39m \u001b[39mself\u001b[39;49m\u001b[39m.\u001b[39;49m_make_engine(f, \u001b[39mself\u001b[39;49m\u001b[39m.\u001b[39;49mengine)\n",
            "File \u001b[1;32mc:\\Users\\Пользователь\\AppData\\Local\\Programs\\Python\\Python311\\Lib\\site-packages\\pandas\\io\\parsers\\readers.py:1661\u001b[0m, in \u001b[0;36mTextFileReader._make_engine\u001b[1;34m(self, f, engine)\u001b[0m\n\u001b[0;32m   1659\u001b[0m     \u001b[39mif\u001b[39;00m \u001b[39m\"\u001b[39m\u001b[39mb\u001b[39m\u001b[39m\"\u001b[39m \u001b[39mnot\u001b[39;00m \u001b[39min\u001b[39;00m mode:\n\u001b[0;32m   1660\u001b[0m         mode \u001b[39m+\u001b[39m\u001b[39m=\u001b[39m \u001b[39m\"\u001b[39m\u001b[39mb\u001b[39m\u001b[39m\"\u001b[39m\n\u001b[1;32m-> 1661\u001b[0m \u001b[39mself\u001b[39m\u001b[39m.\u001b[39mhandles \u001b[39m=\u001b[39m get_handle(\n\u001b[0;32m   1662\u001b[0m     f,\n\u001b[0;32m   1663\u001b[0m     mode,\n\u001b[0;32m   1664\u001b[0m     encoding\u001b[39m=\u001b[39;49m\u001b[39mself\u001b[39;49m\u001b[39m.\u001b[39;49moptions\u001b[39m.\u001b[39;49mget(\u001b[39m\"\u001b[39;49m\u001b[39mencoding\u001b[39;49m\u001b[39m\"\u001b[39;49m, \u001b[39mNone\u001b[39;49;00m),\n\u001b[0;32m   1665\u001b[0m     compression\u001b[39m=\u001b[39;49m\u001b[39mself\u001b[39;49m\u001b[39m.\u001b[39;49moptions\u001b[39m.\u001b[39;49mget(\u001b[39m\"\u001b[39;49m\u001b[39mcompression\u001b[39;49m\u001b[39m\"\u001b[39;49m, \u001b[39mNone\u001b[39;49;00m),\n\u001b[0;32m   1666\u001b[0m     memory_map\u001b[39m=\u001b[39;49m\u001b[39mself\u001b[39;49m\u001b[39m.\u001b[39;49moptions\u001b[39m.\u001b[39;49mget(\u001b[39m\"\u001b[39;49m\u001b[39mmemory_map\u001b[39;49m\u001b[39m\"\u001b[39;49m, \u001b[39mFalse\u001b[39;49;00m),\n\u001b[0;32m   1667\u001b[0m     is_text\u001b[39m=\u001b[39;49mis_text,\n\u001b[0;32m   1668\u001b[0m     errors\u001b[39m=\u001b[39;49m\u001b[39mself\u001b[39;49m\u001b[39m.\u001b[39;49moptions\u001b[39m.\u001b[39;49mget(\u001b[39m\"\u001b[39;49m\u001b[39mencoding_errors\u001b[39;49m\u001b[39m\"\u001b[39;49m, \u001b[39m\"\u001b[39;49m\u001b[39mstrict\u001b[39;49m\u001b[39m\"\u001b[39;49m),\n\u001b[0;32m   1669\u001b[0m     storage_options\u001b[39m=\u001b[39;49m\u001b[39mself\u001b[39;49m\u001b[39m.\u001b[39;49moptions\u001b[39m.\u001b[39;49mget(\u001b[39m\"\u001b[39;49m\u001b[39mstorage_options\u001b[39;49m\u001b[39m\"\u001b[39;49m, \u001b[39mNone\u001b[39;49;00m),\n\u001b[0;32m   1670\u001b[0m )\n\u001b[0;32m   1671\u001b[0m \u001b[39massert\u001b[39;00m \u001b[39mself\u001b[39m\u001b[39m.\u001b[39mhandles \u001b[39mis\u001b[39;00m \u001b[39mnot\u001b[39;00m \u001b[39mNone\u001b[39;00m\n\u001b[0;32m   1672\u001b[0m f \u001b[39m=\u001b[39m \u001b[39mself\u001b[39m\u001b[39m.\u001b[39mhandles\u001b[39m.\u001b[39mhandle\n",
            "File \u001b[1;32mc:\\Users\\Пользователь\\AppData\\Local\\Programs\\Python\\Python311\\Lib\\site-packages\\pandas\\io\\common.py:859\u001b[0m, in \u001b[0;36mget_handle\u001b[1;34m(path_or_buf, mode, encoding, compression, memory_map, is_text, errors, storage_options)\u001b[0m\n\u001b[0;32m    854\u001b[0m \u001b[39melif\u001b[39;00m \u001b[39misinstance\u001b[39m(handle, \u001b[39mstr\u001b[39m):\n\u001b[0;32m    855\u001b[0m     \u001b[39m# Check whether the filename is to be opened in binary mode.\u001b[39;00m\n\u001b[0;32m    856\u001b[0m     \u001b[39m# Binary mode does not support 'encoding' and 'newline'.\u001b[39;00m\n\u001b[0;32m    857\u001b[0m     \u001b[39mif\u001b[39;00m ioargs\u001b[39m.\u001b[39mencoding \u001b[39mand\u001b[39;00m \u001b[39m\"\u001b[39m\u001b[39mb\u001b[39m\u001b[39m\"\u001b[39m \u001b[39mnot\u001b[39;00m \u001b[39min\u001b[39;00m ioargs\u001b[39m.\u001b[39mmode:\n\u001b[0;32m    858\u001b[0m         \u001b[39m# Encoding\u001b[39;00m\n\u001b[1;32m--> 859\u001b[0m         handle \u001b[39m=\u001b[39m \u001b[39mopen\u001b[39;49m(\n\u001b[0;32m    860\u001b[0m             handle,\n\u001b[0;32m    861\u001b[0m             ioargs\u001b[39m.\u001b[39;49mmode,\n\u001b[0;32m    862\u001b[0m             encoding\u001b[39m=\u001b[39;49mioargs\u001b[39m.\u001b[39;49mencoding,\n\u001b[0;32m    863\u001b[0m             errors\u001b[39m=\u001b[39;49merrors,\n\u001b[0;32m    864\u001b[0m             newline\u001b[39m=\u001b[39;49m\u001b[39m\"\u001b[39;49m\u001b[39m\"\u001b[39;49m,\n\u001b[0;32m    865\u001b[0m         )\n\u001b[0;32m    866\u001b[0m     \u001b[39melse\u001b[39;00m:\n\u001b[0;32m    867\u001b[0m         \u001b[39m# Binary mode\u001b[39;00m\n\u001b[0;32m    868\u001b[0m         handle \u001b[39m=\u001b[39m \u001b[39mopen\u001b[39m(handle, ioargs\u001b[39m.\u001b[39mmode)\n",
            "\u001b[1;31mFileNotFoundError\u001b[0m: [Errno 2] No such file or directory: 'datasets/users_behavior.csv'"
          ]
        }
      ],
      "source": [
        "df = pd.read_csv('datasets/users_behavior.csv')\n",
        "\n",
        "print(df.info());\n",
        "\n",
        "print(df.head());\n",
        "\n",
        "print(df.describe());\n",
        "\n",
        "print(df.value_counts());\n",
        "\n",
        "print(df.duplicated());\n",
        "\n",
        "df.hist(figsize=(15,10));"
      ]
    },
    {
      "cell_type": "markdown",
      "metadata": {
        "id": "VJDIpZUPJV7v"
      },
      "source": [
        "\n",
        "## Divide data into samples"
      ]
    },
    {
      "cell_type": "markdown",
      "metadata": {
        "id": "GLaE38FdLaNF"
      },
      "source": [
        "We split the data into 3 parts in proportions 3:1:1\n",
        "\n",
        "Training set - 60%, Validation set - 20%, Test set - 20%"
      ]
    },
    {
      "cell_type": "code",
      "execution_count": null,
      "metadata": {
        "colab": {
          "base_uri": "https://localhost:8080/"
        },
        "id": "IplJgKo-JV7x",
        "outputId": "4ed7c7e7-388f-42c9-cc86-37a4e8d929ac"
      },
      "outputs": [
        {
          "name": "stdout",
          "output_type": "stream",
          "text": [
            "      calls  minutes  messages   mb_used  is_ultra\n",
            "3027   60.0   431.56      26.0  14751.26         0\n",
            "434    33.0   265.17      59.0  17398.02         0\n",
            "1226   52.0   341.83      68.0  15462.38         0\n",
            "1054   42.0   226.18      21.0  13243.48         0\n",
            "1842   30.0   198.42       0.0   8189.53         0\n",
            "...     ...      ...       ...       ...       ...\n",
            "2817   12.0    86.62      22.0  36628.85         1\n",
            "546    65.0   458.46       0.0  15214.25         1\n",
            "382   144.0   906.18       0.0  25002.44         1\n",
            "2177   38.0   301.27      37.0  28914.24         1\n",
            "482   160.0  1084.05      95.0  36843.92         1\n",
            "\n",
            "[1928 rows x 5 columns]\n",
            "      calls  minutes  messages   mb_used  is_ultra\n",
            "1386   92.0   536.96      18.0  20193.90         0\n",
            "3124   40.0   286.57      17.0  17918.75         0\n",
            "1956   81.0   531.22      56.0  17755.06         0\n",
            "2286   67.0   460.76      27.0  16626.26         0\n",
            "3077   22.0   120.09      16.0   9039.57         0\n",
            "...     ...      ...       ...       ...       ...\n",
            "1999   56.0   398.45       4.0  23682.94         0\n",
            "1023   76.0   601.10       0.0  17104.36         0\n",
            "748    81.0   525.97      15.0  18878.91         0\n",
            "1667   10.0    63.03       0.0   2568.00         1\n",
            "3197   89.0   660.72      68.0  11711.54         0\n",
            "\n",
            "[643 rows x 5 columns]\n",
            "      calls  minutes  messages   mb_used  is_ultra\n",
            "160    61.0   495.11       8.0  10891.23         0\n",
            "2498   80.0   555.04      28.0  28083.58         0\n",
            "1748   87.0   697.23       0.0   8335.70         0\n",
            "1816   41.0   275.80       9.0  10032.39         0\n",
            "1077   60.0   428.49      20.0  29389.52         1\n",
            "...     ...      ...       ...       ...       ...\n",
            "2401   55.0   446.06      79.0  26526.28         0\n",
            "2928  102.0   742.65      58.0  16089.24         1\n",
            "1985   52.0   349.94      42.0  12150.72         0\n",
            "357    39.0   221.18      59.0  17865.23         0\n",
            "2313   40.0   301.03     102.0   6057.63         0\n",
            "\n",
            "[643 rows x 5 columns]\n"
          ]
        }
      ],
      "source": [
        "df_train, df_test_plus_valid = train_test_split(df, test_size=0.4, random_state=12345)\n",
        "df_test, df_valid = train_test_split(df_test_plus_valid, test_size=0.5, random_state=12345)\n",
        "print(df_train)\n",
        "print(df_test)\n",
        "print(df_valid)"
      ]
    },
    {
      "cell_type": "code",
      "execution_count": null,
      "metadata": {
        "colab": {
          "base_uri": "https://localhost:8080/"
        },
        "id": "mNCYzXKUJV7z",
        "outputId": "1442d42c-aa05-424e-836d-996fd7d927d7"
      },
      "outputs": [
        {
          "name": "stdout",
          "output_type": "stream",
          "text": [
            "      calls  minutes  messages   mb_used  is_ultra\n",
            "1415   82.0   507.89      88.0  17543.37         1\n",
            "916    50.0   375.91      35.0  12388.40         0\n",
            "1670   83.0   540.49      41.0   9127.74         0\n",
            "686    79.0   562.99      19.0  25508.19         1\n",
            "2951   78.0   531.29      20.0   9217.25         0\n",
            "...     ...      ...       ...       ...       ...\n",
            "2104  118.0   844.52      64.0  19459.08         1\n",
            "2442   93.0   639.07      29.0  26770.62         1\n",
            "1265   66.0   437.75      22.0  25108.55         0\n",
            "1635   68.0   464.62       6.0   5810.80         0\n",
            "848    61.0   398.63      76.0  12230.87         0\n",
            "\n",
            "[1928 rows x 5 columns]\n",
            "      calls  minutes  messages   mb_used  is_ultra\n",
            "3116   83.0   509.32      69.0  19355.79         0\n",
            "3018   49.0   302.43      38.0  20974.22         0\n",
            "2443   91.0   549.56      41.0  26788.18         1\n",
            "757    81.0   531.28     109.0  19496.93         1\n",
            "752    79.0   577.11      46.0  30981.68         0\n",
            "...     ...      ...       ...       ...       ...\n",
            "824    54.0   395.09      33.0  19088.31         0\n",
            "2086   88.0   628.31      62.0  15611.90         0\n",
            "2281   34.0   258.97     107.0  10294.77         0\n",
            "2382  155.0  1005.94      84.0  23426.77         1\n",
            "2967   80.0   583.37      58.0  20898.57         1\n",
            "\n",
            "[643 rows x 5 columns]\n",
            "      calls  minutes  messages   mb_used  is_ultra\n",
            "481   158.0  1168.06     103.0  20018.79         1\n",
            "2619   37.0   229.12       0.0  27782.77         1\n",
            "1943   85.0   570.68      85.0  13052.67         0\n",
            "2338    7.0    64.53      10.0   1455.51         0\n",
            "1165   35.0   244.43      42.0   8583.78         0\n",
            "...     ...      ...       ...       ...       ...\n",
            "2817   12.0    86.62      22.0  36628.85         1\n",
            "546    65.0   458.46       0.0  15214.25         1\n",
            "382   144.0   906.18       0.0  25002.44         1\n",
            "2177   38.0   301.27      37.0  28914.24         1\n",
            "482   160.0  1084.05      95.0  36843.92         1\n",
            "\n",
            "[643 rows x 5 columns]\n"
          ]
        }
      ],
      "source": [
        "train, valid, test = np.split(df.sample(frac=1, random_state=12345),\n",
        "                              [int(.6*len(df)), int(.8*len(df))])\n",
        "print(train)\n",
        "print(valid)\n",
        "print(test)"
      ]
    },
    {
      "cell_type": "markdown",
      "metadata": {
        "id": "7zJJwdcbJV7-"
      },
      "source": [
        "## Exploring models "
      ]
    },
    {
      "cell_type": "code",
      "execution_count": null,
      "metadata": {
        "colab": {
          "base_uri": "https://localhost:8080/"
        },
        "id": "c7qN5sG3JV8A",
        "outputId": "e6d92e1c-9b34-41f2-b27d-4fa622694527"
      },
      "outputs": [
        {
          "name": "stdout",
          "output_type": "stream",
          "text": [
            "max_depth = 1 : 0.7356143079315708\n",
            "max_depth = 2 : 0.7744945567651633\n",
            "max_depth = 3 : 0.7791601866251944\n",
            "max_depth = 4 : 0.7744945567651633\n",
            "max_depth = 5 : 0.7838258164852255\n",
            "max_depth = 6 : 0.776049766718507\n",
            "max_depth = 7 : 0.7993779160186625\n",
            "max_depth = 8 : 0.7931570762052877\n",
            "max_depth = 9 : 0.7807153965785381\n",
            "max_depth = 10 : 0.7884914463452566\n",
            "max_depth = 11 : 0.7744945567651633\n",
            "max_depth = 12 : 0.7807153965785381\n",
            "max_depth = 13 : 0.7713841368584758\n",
            "max_depth = 14 : 0.76049766718507\n",
            "max_depth = 15 : 0.7713841368584758\n",
            "max_depth = 16 : 0.749611197511664\n",
            "max_depth = 17 : 0.7480559875583204\n",
            "max_depth = 18 : 0.749611197511664\n",
            "max_depth = 19 : 0.7433903576982893\n",
            "max_depth = 20 : 0.7325038880248833\n"
          ]
        }
      ],
      "source": [
        "features_train = df_train.drop(['is_ultra'], axis=1)\n",
        "target_train = df_train['is_ultra']\n",
        "features_valid = df_valid.drop(['is_ultra'], axis=1)\n",
        "target_valid = df_valid['is_ultra']\n",
        "features_test = df_test.drop(['is_ultra'], axis=1)\n",
        "target_test = df_test['is_ultra']\n",
        "\n",
        "# Decision tree model\n",
        "\n",
        "# <make a loop for max_depth from 1 to 20>\n",
        "for depth in range(1,21):\n",
        "    model =DecisionTreeClassifier(random_state=12345,max_depth=depth)\n",
        "    model.fit(features_train, target_train)\n",
        "    predictions_valid = model.predict(features_valid)\n",
        "\n",
        "    print(\"max_depth =\", depth, \": \", end='')\n",
        "    print(accuracy_score(target_valid, predictions_valid))\n"
      ]
    },
    {
      "cell_type": "markdown",
      "metadata": {
        "id": "lVfEN31jJV8F"
      },
      "source": [
        "- В данном примере видно как  модель \"дерево решений2 переобучилась, после глубины дерева - 7 точность начнает падать."
      ]
    },
    {
      "cell_type": "code",
      "execution_count": null,
      "metadata": {
        "colab": {
          "base_uri": "https://localhost:8080/"
        },
        "id": "doK9NnRuJV8G",
        "outputId": "745fefc0-104d-4c2e-d354-4ec55e601a8d"
      },
      "outputs": [
        {
          "name": "stdout",
          "output_type": "stream",
          "text": [
            "Accuracy наилучшей модели на валидационной выборке: 0.7729393468118196\n",
            "количество деревьев: 1 Accuracy: 0.7402799377916018\n",
            "количество деревьев: 2 Accuracy: 0.7589424572317263\n",
            "количество деревьев: 3 Accuracy: 0.7573872472783826\n",
            "количество деревьев: 4 Accuracy: 0.7729393468118196\n",
            "количество деревьев: 5 Accuracy: 0.7667185069984448\n",
            "количество деревьев: 6 Accuracy: 0.7791601866251944\n",
            "количество деревьев: 7 Accuracy: 0.7807153965785381\n",
            "количество деревьев: 8 Accuracy: 0.7869362363919129\n",
            "количество деревьев: 9 Accuracy: 0.7838258164852255\n",
            "количество деревьев: 10 Accuracy: 0.7807153965785381\n",
            "Accuracy наилучшей модели на валидационной выборке: 0.7869362363919129\n",
            "количество деревьев: 1 Accuracy: 0.7402799377916018\n",
            "количество деревьев: 2 Accuracy: 0.7589424572317263\n",
            "количество деревьев: 3 Accuracy: 0.7573872472783826\n",
            "количество деревьев: 4 Accuracy: 0.7729393468118196\n",
            "количество деревьев: 5 Accuracy: 0.7667185069984448\n",
            "количество деревьев: 6 Accuracy: 0.7791601866251944\n",
            "количество деревьев: 7 Accuracy: 0.7807153965785381\n",
            "количество деревьев: 8 Accuracy: 0.7869362363919129\n",
            "количество деревьев: 9 Accuracy: 0.7838258164852255\n",
            "количество деревьев: 10 Accuracy: 0.7807153965785381\n",
            "количество деревьев: 11 Accuracy: 0.7729393468118196\n",
            "количество деревьев: 12 Accuracy: 0.7869362363919129\n",
            "количество деревьев: 13 Accuracy: 0.7838258164852255\n",
            "количество деревьев: 14 Accuracy: 0.7807153965785381\n",
            "количество деревьев: 15 Accuracy: 0.7807153965785381\n",
            "количество деревьев: 16 Accuracy: 0.7838258164852255\n",
            "количество деревьев: 17 Accuracy: 0.7822706065318819\n",
            "количество деревьев: 18 Accuracy: 0.7853810264385692\n",
            "количество деревьев: 19 Accuracy: 0.7744945567651633\n",
            "количество деревьев: 20 Accuracy: 0.7822706065318819\n",
            "количество деревьев: 21 Accuracy: 0.776049766718507\n",
            "количество деревьев: 22 Accuracy: 0.7807153965785381\n",
            "количество деревьев: 23 Accuracy: 0.7807153965785381\n",
            "количество деревьев: 24 Accuracy: 0.7822706065318819\n",
            "количество деревьев: 25 Accuracy: 0.7776049766718507\n",
            "количество деревьев: 26 Accuracy: 0.7838258164852255\n",
            "количество деревьев: 27 Accuracy: 0.7807153965785381\n",
            "количество деревьев: 28 Accuracy: 0.7869362363919129\n",
            "количество деревьев: 29 Accuracy: 0.7822706065318819\n",
            "количество деревьев: 30 Accuracy: 0.7853810264385692\n",
            "количество деревьев: 31 Accuracy: 0.7869362363919129\n",
            "количество деревьев: 32 Accuracy: 0.7807153965785381\n",
            "количество деревьев: 33 Accuracy: 0.7869362363919129\n",
            "количество деревьев: 34 Accuracy: 0.7900466562986003\n",
            "количество деревьев: 35 Accuracy: 0.7916018662519441\n",
            "количество деревьев: 36 Accuracy: 0.7916018662519441\n",
            "количество деревьев: 37 Accuracy: 0.7916018662519441\n",
            "количество деревьев: 38 Accuracy: 0.7947122861586314\n",
            "количество деревьев: 39 Accuracy: 0.7931570762052877\n",
            "количество деревьев: 40 Accuracy: 0.7931570762052877\n",
            "количество деревьев: 41 Accuracy: 0.7916018662519441\n",
            "количество деревьев: 42 Accuracy: 0.7900466562986003\n",
            "количество деревьев: 43 Accuracy: 0.7853810264385692\n",
            "количество деревьев: 44 Accuracy: 0.7900466562986003\n",
            "количество деревьев: 45 Accuracy: 0.7931570762052877\n",
            "количество деревьев: 46 Accuracy: 0.7947122861586314\n",
            "количество деревьев: 47 Accuracy: 0.7931570762052877\n",
            "количество деревьев: 48 Accuracy: 0.7962674961119751\n",
            "количество деревьев: 49 Accuracy: 0.7962674961119751\n",
            "количество деревьев: 50 Accuracy: 0.7931570762052877\n",
            "количество деревьев: 51 Accuracy: 0.7916018662519441\n",
            "количество деревьев: 52 Accuracy: 0.7931570762052877\n",
            "количество деревьев: 53 Accuracy: 0.7916018662519441\n",
            "количество деревьев: 54 Accuracy: 0.7916018662519441\n",
            "количество деревьев: 55 Accuracy: 0.7931570762052877\n",
            "количество деревьев: 56 Accuracy: 0.7900466562986003\n",
            "количество деревьев: 57 Accuracy: 0.7869362363919129\n",
            "количество деревьев: 58 Accuracy: 0.7962674961119751\n",
            "количество деревьев: 59 Accuracy: 0.7869362363919129\n",
            "количество деревьев: 60 Accuracy: 0.7947122861586314\n",
            "количество деревьев: 61 Accuracy: 0.7916018662519441\n",
            "количество деревьев: 62 Accuracy: 0.7916018662519441\n",
            "количество деревьев: 63 Accuracy: 0.7916018662519441\n",
            "количество деревьев: 64 Accuracy: 0.7931570762052877\n",
            "количество деревьев: 65 Accuracy: 0.7900466562986003\n",
            "количество деревьев: 66 Accuracy: 0.7916018662519441\n",
            "количество деревьев: 67 Accuracy: 0.7900466562986003\n",
            "количество деревьев: 68 Accuracy: 0.7962674961119751\n",
            "количество деревьев: 69 Accuracy: 0.7916018662519441\n",
            "количество деревьев: 70 Accuracy: 0.7931570762052877\n",
            "количество деревьев: 71 Accuracy: 0.7931570762052877\n",
            "количество деревьев: 72 Accuracy: 0.7962674961119751\n",
            "количество деревьев: 73 Accuracy: 0.7916018662519441\n",
            "количество деревьев: 74 Accuracy: 0.7931570762052877\n",
            "количество деревьев: 75 Accuracy: 0.7931570762052877\n",
            "количество деревьев: 76 Accuracy: 0.7947122861586314\n",
            "количество деревьев: 77 Accuracy: 0.7931570762052877\n",
            "количество деревьев: 78 Accuracy: 0.7962674961119751\n",
            "количество деревьев: 79 Accuracy: 0.7962674961119751\n",
            "количество деревьев: 80 Accuracy: 0.7962674961119751\n",
            "количество деревьев: 81 Accuracy: 0.7947122861586314\n",
            "количество деревьев: 82 Accuracy: 0.7962674961119751\n",
            "количество деревьев: 83 Accuracy: 0.7947122861586314\n",
            "количество деревьев: 84 Accuracy: 0.7931570762052877\n",
            "количество деревьев: 85 Accuracy: 0.7947122861586314\n",
            "количество деревьев: 86 Accuracy: 0.7947122861586314\n",
            "количество деревьев: 87 Accuracy: 0.7947122861586314\n",
            "количество деревьев: 88 Accuracy: 0.7931570762052877\n",
            "количество деревьев: 89 Accuracy: 0.7931570762052877\n",
            "количество деревьев: 90 Accuracy: 0.7916018662519441\n",
            "количество деревьев: 91 Accuracy: 0.7900466562986003\n",
            "количество деревьев: 92 Accuracy: 0.7916018662519441\n",
            "количество деревьев: 93 Accuracy: 0.7884914463452566\n",
            "количество деревьев: 94 Accuracy: 0.7916018662519441\n",
            "количество деревьев: 95 Accuracy: 0.7884914463452566\n",
            "количество деревьев: 96 Accuracy: 0.7869362363919129\n",
            "количество деревьев: 97 Accuracy: 0.7869362363919129\n",
            "количество деревьев: 98 Accuracy: 0.7869362363919129\n",
            "количество деревьев: 99 Accuracy: 0.7869362363919129\n",
            "количество деревьев: 100 Accuracy: 0.7853810264385692\n",
            "Accuracy наилучшей модели на валидационной выборке: 0.7962674961119751\n"
          ]
        }
      ],
      "source": [
        "# Random forest model\n",
        "\n",
        "#Calculate the accuracy for a model consisting of 5 trees:\n",
        "best_model = None\n",
        "best_result = 0\n",
        "for est in range(1, 6):\n",
        "    model = RandomForestClassifier(random_state=12345, n_estimators= est) # train the model with the given number of trees\n",
        "    model.fit(features_train,target_train) # train the model on the training set\n",
        "    result = model.score(features_valid, target_valid) # calculate the quality of the model on the validation set\n",
        "    if result > best_result:\n",
        "        best_model = model\n",
        "        best_result = result # store the best value of the accuracy metric on the validation data\n",
        "# print('number of trees:', est, 'Accuracy:', result)\n",
        "\n",
        "print(\"Accuracy of the best model on the validation set:\", best_result)\n",
        "\n",
        "\n",
        "#Calculate the accuracy for a model consisting of 10 trees:\n",
        "best_model = None\n",
        "best_result = 0\n",
        "for est in range(1, 11):\n",
        "    model = RandomForestClassifier(random_state=12345, n_estimators= est) # train the model with the given number of trees\n",
        "    model.fit(features_train,target_train) # train the model on the training set\n",
        "    result = model.score(features_valid, target_valid) # calculate the quality of the model on the validation set\n",
        "    if result > best_result:\n",
        "        best_model = model\n",
        "        best_result = result # store the best value of the accuracy metric on the validation data\n",
        "    print('number of trees:', est, 'Accuracy:', result)\n",
        "\n",
        "print(\"Accuracy of the best model on the validation set:\", best_result)\n",
        "\n",
        "#Calculate the accuracy for a model consisting of 100 trees:\n",
        "best_model = None\n",
        "best_result = 0\n",
        "for est in range(1, 101):\n",
        "    model = RandomForestClassifier(random_state=12345, n_estimators= est) # train the model with the given number of trees\n",
        "    model.fit(features_train,target_train) # train the model on the training set\n",
        "    result = model.score(features_valid, target_valid) # calculate the quality of the model on the validation set\n",
        "    if result > best_result:\n",
        "        best_model = model\n",
        "        best_result = result # store the best value of the accuracy metric on the validation data\n",
        "    print('number of trees :', est, 'Accuracy:', result)\n",
        "\n",
        "print(\"Accuracy of the best model on the validation set:\", best_result)\n"
      ]
    },
    {
      "cell_type": "markdown",
      "metadata": {
        "id": "HDdck82TJV8K"
      },
      "source": [
        "- In this example, you can see how this model does not retrain with an increase in trees, the accuracy increases with the number of trees, but the model becomes heavier."
      ]
    },
    {
      "cell_type": "code",
      "execution_count": null,
      "metadata": {
        "colab": {
          "base_uri": "https://localhost:8080/"
        },
        "id": "LzJRMSC8JV8L",
        "outputId": "bcb885ba-02d1-4fd6-97e3-1c9b566597e2"
      },
      "outputs": [
        {
          "data": {
            "text/plain": [
              "0.6842923794712286"
            ]
          },
          "execution_count": 13,
          "metadata": {},
          "output_type": "execute_result"
        }
      ],
      "source": [
        "# Logistic regression model\n",
        "model = LogisticRegression(random_state=12345, solver='lbfgs', max_iter=100)\n",
        "model.fit(features_train,target_train) # train the model on the training set\n",
        "result = model.score(features_valid, target_valid) # calculate the quality of the model on the validation\n",
        "result"
      ]
    },
    {
      "cell_type": "markdown",
      "metadata": {
        "id": "7y9eMKHlJV8O"
      },
      "source": [
        "### Brief interim conclusions:\n",
        "At this stage, the following models were trained:\n",
        "- decision tree,\n",
        "- random forest,\n",
        "- logistic regression.\n",
        "\n",
        "\n",
        "Each has its own merits and demerits. After evaluating the models, we can draw the following conclusions on the quality (accuracy) and speed of each:\n",
        "\n",
        "1. Quality (accuracy). This is the most important criterion for business: the higher the quality, the more profit the product brings.\n",
        "Random forest has the highest quality: instead of one decision tree, the whole ensemble is used.\n",
        "In second place is the decision tree. If the depth is less than seven, it is undertrained, when it is more, it is retrained. Logistic regression has the lowest prediction quality. The model is simple, which means that retraining does not threaten it.\n",
        "\n",
        "\n",
        "2. Speed ​​of work. An equally significant criterion: if the service is slow, the outflow of users cannot be avoided.\n",
        "Logistic regression has a high speed of work: it has the fewest parameters.\n",
        "The speed of the decision tree is also high and depends on the depth. Remember, in experiments, the best quality of the model was obtained at a depth equal to 7. The model received the answer to the question in just seven checks of feature values ​​- and this is very fast!\n",
        "The random forest is the slowest of all: the more trees, the slower the model works."
      ]
    },
    {
      "cell_type": "markdown",
      "metadata": {
        "id": "sOhEvEKvJV8S"
      },
      "source": [
        "## Check the model on the test set"
      ]
    },
    {
      "cell_type": "code",
      "execution_count": null,
      "metadata": {
        "colab": {
          "base_uri": "https://localhost:8080/"
        },
        "id": "UfbmJ3V5JV8T",
        "outputId": "3f974cd5-36e7-4ba6-aa15-6fa4f1b8d764"
      },
      "outputs": [
        {
          "name": "stdout",
          "output_type": "stream",
          "text": [
            "количество деревьев: 1 Accuracy: 0.7107309486780715\n",
            "количество деревьев: 2 Accuracy: 0.7636080870917574\n",
            "количество деревьев: 3 Accuracy: 0.7387247278382582\n",
            "количество деревьев: 4 Accuracy: 0.7713841368584758\n",
            "количество деревьев: 5 Accuracy: 0.749611197511664\n",
            "количество деревьев: 6 Accuracy: 0.7807153965785381\n",
            "количество деревьев: 7 Accuracy: 0.7682737169517885\n",
            "количество деревьев: 8 Accuracy: 0.7822706065318819\n",
            "количество деревьев: 9 Accuracy: 0.7729393468118196\n",
            "количество деревьев: 10 Accuracy: 0.7853810264385692\n",
            "количество деревьев: 11 Accuracy: 0.7838258164852255\n",
            "количество деревьев: 12 Accuracy: 0.7869362363919129\n",
            "количество деревьев: 13 Accuracy: 0.7822706065318819\n",
            "количество деревьев: 14 Accuracy: 0.7838258164852255\n",
            "количество деревьев: 15 Accuracy: 0.7838258164852255\n",
            "количество деревьев: 16 Accuracy: 0.7869362363919129\n",
            "количество деревьев: 17 Accuracy: 0.7869362363919129\n",
            "количество деревьев: 18 Accuracy: 0.7931570762052877\n",
            "количество деревьев: 19 Accuracy: 0.7884914463452566\n",
            "количество деревьев: 20 Accuracy: 0.7869362363919129\n",
            "количество деревьев: 21 Accuracy: 0.7931570762052877\n",
            "количество деревьев: 22 Accuracy: 0.7884914463452566\n",
            "количество деревьев: 23 Accuracy: 0.7947122861586314\n",
            "количество деревьев: 24 Accuracy: 0.7900466562986003\n",
            "количество деревьев: 25 Accuracy: 0.7838258164852255\n",
            "количество деревьев: 26 Accuracy: 0.7853810264385692\n",
            "количество деревьев: 27 Accuracy: 0.7853810264385692\n",
            "количество деревьев: 28 Accuracy: 0.7838258164852255\n",
            "количество деревьев: 29 Accuracy: 0.7791601866251944\n",
            "количество деревьев: 30 Accuracy: 0.7838258164852255\n",
            "количество деревьев: 31 Accuracy: 0.7822706065318819\n",
            "количество деревьев: 32 Accuracy: 0.7822706065318819\n",
            "количество деревьев: 33 Accuracy: 0.7807153965785381\n",
            "количество деревьев: 34 Accuracy: 0.7807153965785381\n",
            "количество деревьев: 35 Accuracy: 0.7776049766718507\n",
            "количество деревьев: 36 Accuracy: 0.7807153965785381\n",
            "количество деревьев: 37 Accuracy: 0.7776049766718507\n",
            "количество деревьев: 38 Accuracy: 0.7838258164852255\n",
            "количество деревьев: 39 Accuracy: 0.7807153965785381\n",
            "количество деревьев: 40 Accuracy: 0.7838258164852255\n",
            "количество деревьев: 41 Accuracy: 0.7869362363919129\n",
            "количество деревьев: 42 Accuracy: 0.7900466562986003\n",
            "количество деревьев: 43 Accuracy: 0.7853810264385692\n",
            "количество деревьев: 44 Accuracy: 0.7900466562986003\n",
            "количество деревьев: 45 Accuracy: 0.7884914463452566\n",
            "количество деревьев: 46 Accuracy: 0.7884914463452566\n",
            "количество деревьев: 47 Accuracy: 0.7869362363919129\n",
            "количество деревьев: 48 Accuracy: 0.7916018662519441\n",
            "количество деревьев: 49 Accuracy: 0.7884914463452566\n",
            "количество деревьев: 50 Accuracy: 0.7916018662519441\n",
            "количество деревьев: 51 Accuracy: 0.7916018662519441\n",
            "количество деревьев: 52 Accuracy: 0.7900466562986003\n",
            "количество деревьев: 53 Accuracy: 0.7853810264385692\n",
            "количество деревьев: 54 Accuracy: 0.7853810264385692\n",
            "количество деревьев: 55 Accuracy: 0.7853810264385692\n",
            "количество деревьев: 56 Accuracy: 0.7853810264385692\n",
            "количество деревьев: 57 Accuracy: 0.7822706065318819\n",
            "количество деревьев: 58 Accuracy: 0.7838258164852255\n",
            "количество деревьев: 59 Accuracy: 0.7838258164852255\n",
            "количество деревьев: 60 Accuracy: 0.7853810264385692\n",
            "количество деревьев: 61 Accuracy: 0.7807153965785381\n",
            "количество деревьев: 62 Accuracy: 0.7838258164852255\n",
            "количество деревьев: 63 Accuracy: 0.7807153965785381\n",
            "количество деревьев: 64 Accuracy: 0.7807153965785381\n",
            "количество деревьев: 65 Accuracy: 0.7838258164852255\n",
            "количество деревьев: 66 Accuracy: 0.7822706065318819\n",
            "количество деревьев: 67 Accuracy: 0.7807153965785381\n",
            "количество деревьев: 68 Accuracy: 0.7807153965785381\n",
            "количество деревьев: 69 Accuracy: 0.7791601866251944\n",
            "количество деревьев: 70 Accuracy: 0.7791601866251944\n",
            "количество деревьев: 71 Accuracy: 0.7807153965785381\n",
            "количество деревьев: 72 Accuracy: 0.7791601866251944\n",
            "количество деревьев: 73 Accuracy: 0.7807153965785381\n",
            "количество деревьев: 74 Accuracy: 0.7822706065318819\n",
            "количество деревьев: 75 Accuracy: 0.7822706065318819\n",
            "количество деревьев: 76 Accuracy: 0.7838258164852255\n",
            "количество деревьев: 77 Accuracy: 0.7822706065318819\n",
            "количество деревьев: 78 Accuracy: 0.7822706065318819\n",
            "количество деревьев: 79 Accuracy: 0.7807153965785381\n",
            "количество деревьев: 80 Accuracy: 0.7822706065318819\n",
            "количество деревьев: 81 Accuracy: 0.7807153965785381\n",
            "количество деревьев: 82 Accuracy: 0.7807153965785381\n",
            "количество деревьев: 83 Accuracy: 0.7807153965785381\n",
            "количество деревьев: 84 Accuracy: 0.7822706065318819\n",
            "количество деревьев: 85 Accuracy: 0.7822706065318819\n",
            "количество деревьев: 86 Accuracy: 0.7853810264385692\n",
            "количество деревьев: 87 Accuracy: 0.7838258164852255\n",
            "количество деревьев: 88 Accuracy: 0.7838258164852255\n",
            "количество деревьев: 89 Accuracy: 0.7838258164852255\n",
            "количество деревьев: 90 Accuracy: 0.7838258164852255\n",
            "количество деревьев: 91 Accuracy: 0.7838258164852255\n",
            "количество деревьев: 92 Accuracy: 0.7838258164852255\n",
            "количество деревьев: 93 Accuracy: 0.7853810264385692\n",
            "количество деревьев: 94 Accuracy: 0.7869362363919129\n",
            "количество деревьев: 95 Accuracy: 0.7822706065318819\n",
            "количество деревьев: 96 Accuracy: 0.7838258164852255\n",
            "количество деревьев: 97 Accuracy: 0.7822706065318819\n",
            "количество деревьев: 98 Accuracy: 0.7853810264385692\n",
            "количество деревьев: 99 Accuracy: 0.7853810264385692\n",
            "количество деревьев: 100 Accuracy: 0.7853810264385692\n",
            "Accuracy наилучшей модели на тестовой выборке: 0.7947122861586314\n"
          ]
        }
      ],
      "source": [
        "#Calculate the accuracy for a model consisting of 100 trees on a test set:\n",
        "best_model = None\n",
        "best_result = 0\n",
        "for est in range(1, 101):\n",
        "    model = RandomForestClassifier(random_state=12345, n_estimators= est) # train the model with the given number of trees\n",
        "    model.fit(features_train,target_train) # train the model on the training set\n",
        "    result = model.score(features_test, target_test) # calculate the quality of the model on the validation set\n",
        "    if result > best_result:\n",
        "        best_model = model\n",
        "        best_result = result # store the best value of the accuracy metric on the validation data\n",
        "    print('number of trees: ', est, 'Accuracy: ', result)\n",
        "\n",
        "print(\"Accuracy of the best model on the test set: \", best_result)"
      ]
    },
    {
      "cell_type": "markdown",
      "metadata": {
        "id": "wYMFY6m4JV8Y"
      },
      "source": [
        "\n",
        "- \"Accuracy\" of the best model on the test set is slightly lower than \"Accuracy\" of the best model on the validation set, but at the same time quite high above 0.75."
      ]
    },
    {
      "cell_type": "markdown",
      "metadata": {
        "id": "8g6sVfkwJV8a"
      },
      "source": [
        "## Check the models for adequacy"
      ]
    },
    {
      "cell_type": "code",
      "execution_count": null,
      "metadata": {
        "colab": {
          "base_uri": "https://localhost:8080/"
        },
        "id": "Uiomb__fJV8c",
        "outputId": "092ec33a-5e6f-4c4b-c2fc-4e84557d3221"
      },
      "outputs": [
        {
          "name": "stdout",
          "output_type": "stream",
          "text": [
            "0.69353\n"
          ]
        }
      ],
      "source": [
        "relation= ((df['is_ultra'].loc[df['is_ultra'] == 0].count())/\n",
        "(df['is_ultra'].count()))\n",
        "\n",
        "print('%.5f'%relation)\n"
      ]
    },
    {
      "cell_type": "code",
      "execution_count": null,
      "metadata": {
        "colab": {
          "base_uri": "https://localhost:8080/"
        },
        "id": "qu1TdCNRJV8e",
        "outputId": "2de2237d-413f-4dd7-c930-d9fa28e9ba8c"
      },
      "outputs": [
        {
          "data": {
            "text/plain": [
              "0.693528313627878"
            ]
          },
          "execution_count": 16,
          "metadata": {},
          "output_type": "execute_result"
        }
      ],
      "source": [
        "from sklearn.dummy import DummyClassifier\n",
        "\n",
        "dummy_clf = DummyClassifier(strategy=\"most_frequent\", random_state=0)\n",
        "\n",
        "dummy_clf.fit(df['is_ultra'], df['is_ultra'])\n",
        "\n",
        "dummy_clf.score(df['is_ultra'], df['is_ultra'])\n",
        "\n",
        "\n"
      ]
    },
    {
      "cell_type": "markdown",
      "metadata": {
        "id": "hhfCAKzRJV8u"
      },
      "source": [
        "- We can conclude that the model is adequate because the most common class \"occupies\" 69% (2229 / 3214 == 0.693528313627878). This is the control data for a comparative assessment of the \"best\" model we have built. Our best model exceeds this score."
      ]
    },
    {
      "cell_type": "markdown",
      "metadata": {
        "id": "XHUS_03xJV82"
      },
      "source": [
        "<div style=\"border:2px solid Black; padding:20px;\">\n",
        "<h1> Conclusion </h1>\n",
        "- We had at our disposal data on the behavior of customers who had already switched to these tariffs (from the draft course \"Statistical Data Analysis\").\n",
        "\n",
        "- In the project, models were built for the classification task, which will select the appropriate tariff. The preprocessing has already been done.\n",
        "\n",
        "- A model was built with the largest *accuracy* value, the proportion of correct answers exceeds 0.75.\n",
        "\n",
        "- In this example, you can see how the \"decision tree2\" model was retrained, after the depth of the tree - 7, the accuracy starts to fall.\n",
        "\n",
        "- Accuracy of the best \"Random Forest\" model consisting of 100 trees on the validation set: 0.7962674961119751\n",
        "\n",
        "- \"Accuracy\" of the best model consisting of 100 trees on the test set: 0.7947122861586314 (slightly lower than the \"Accuracy\" of the best model on the validation set, but at the same time quite high above 0.75).\n",
        "\n",
        "- We can conclude that the model is adequate because the most common class \"occupies\" 69% (2229 / 3214 == 0.693528313627878). This is the control data for a comparative assessment of the \"best\" model we have built. Our best model exceeds this speed.\n",
        "</div>"
      ]
    }
  ],
  "metadata": {
    "ExecuteTimeLog": [
      {
        "duration": 50,
        "start_time": "2023-04-15T10:33:42.460Z"
      },
      {
        "duration": 6,
        "start_time": "2023-04-15T10:33:52.706Z"
      },
      {
        "duration": 8,
        "start_time": "2023-04-15T10:34:19.957Z"
      },
      {
        "duration": 419,
        "start_time": "2023-04-15T10:34:25.594Z"
      },
      {
        "duration": 130,
        "start_time": "2023-04-15T10:34:27.803Z"
      },
      {
        "duration": 35,
        "start_time": "2023-04-15T10:34:33.597Z"
      },
      {
        "duration": 64,
        "start_time": "2023-04-15T10:34:40.722Z"
      },
      {
        "duration": 34,
        "start_time": "2023-04-15T10:46:26.779Z"
      },
      {
        "duration": 46,
        "start_time": "2023-04-15T11:00:04.593Z"
      },
      {
        "duration": 26,
        "start_time": "2023-04-15T11:02:13.059Z"
      },
      {
        "duration": 8,
        "start_time": "2023-04-15T11:02:17.400Z"
      },
      {
        "duration": 722,
        "start_time": "2023-04-15T11:02:35.552Z"
      },
      {
        "duration": 43,
        "start_time": "2023-04-15T11:02:37.832Z"
      },
      {
        "duration": 8,
        "start_time": "2023-04-15T11:02:41.280Z"
      },
      {
        "duration": 20,
        "start_time": "2023-04-15T11:02:44.445Z"
      },
      {
        "duration": 24,
        "start_time": "2023-04-15T11:06:29.156Z"
      },
      {
        "duration": 58,
        "start_time": "2023-04-15T11:09:35.866Z"
      },
      {
        "duration": 41,
        "start_time": "2023-04-15T11:09:53.357Z"
      },
      {
        "duration": 3,
        "start_time": "2023-04-15T11:09:55.726Z"
      },
      {
        "duration": 23,
        "start_time": "2023-04-15T11:10:00.195Z"
      },
      {
        "duration": 26,
        "start_time": "2023-04-15T11:10:19.429Z"
      },
      {
        "duration": 25,
        "start_time": "2023-04-15T11:10:39.397Z"
      },
      {
        "duration": 19,
        "start_time": "2023-04-15T11:10:43.495Z"
      },
      {
        "duration": 13,
        "start_time": "2023-04-15T11:17:21.793Z"
      },
      {
        "duration": 47,
        "start_time": "2023-04-15T11:18:03.392Z"
      },
      {
        "duration": 34,
        "start_time": "2023-04-15T11:18:12.148Z"
      },
      {
        "duration": 83,
        "start_time": "2023-04-15T11:18:35.264Z"
      },
      {
        "duration": 1042,
        "start_time": "2023-04-15T11:18:49.948Z"
      },
      {
        "duration": 192,
        "start_time": "2023-04-15T11:19:31.172Z"
      },
      {
        "duration": 14,
        "start_time": "2023-04-15T11:25:28.201Z"
      },
      {
        "duration": 11,
        "start_time": "2023-04-15T11:25:36.353Z"
      },
      {
        "duration": 256,
        "start_time": "2023-04-15T11:25:42.474Z"
      },
      {
        "duration": 255,
        "start_time": "2023-04-15T11:29:09.263Z"
      },
      {
        "duration": 259,
        "start_time": "2023-04-15T11:29:41.419Z"
      },
      {
        "duration": 53,
        "start_time": "2023-04-15T11:32:09.213Z"
      },
      {
        "duration": 257,
        "start_time": "2023-04-15T11:32:23.284Z"
      },
      {
        "duration": 871,
        "start_time": "2023-04-15T11:32:43.325Z"
      },
      {
        "duration": 65,
        "start_time": "2023-04-15T11:35:47.701Z"
      },
      {
        "duration": 28172,
        "start_time": "2023-04-15T11:36:01.149Z"
      },
      {
        "duration": 18936,
        "start_time": "2023-04-15T11:37:05.375Z"
      },
      {
        "duration": 2,
        "start_time": "2023-04-15T11:39:26.429Z"
      },
      {
        "duration": 3,
        "start_time": "2023-04-15T11:39:50.939Z"
      },
      {
        "duration": 65,
        "start_time": "2023-04-15T11:41:55.017Z"
      },
      {
        "duration": 25,
        "start_time": "2023-04-15T11:42:24.950Z"
      },
      {
        "duration": 25,
        "start_time": "2023-04-15T11:42:39.632Z"
      },
      {
        "duration": 20,
        "start_time": "2023-04-15T11:42:44.339Z"
      },
      {
        "duration": 33,
        "start_time": "2023-04-15T11:42:49.583Z"
      },
      {
        "duration": 25,
        "start_time": "2023-04-15T11:43:43.696Z"
      },
      {
        "duration": 164,
        "start_time": "2023-04-15T11:54:23.962Z"
      },
      {
        "duration": 44,
        "start_time": "2023-04-15T12:11:26.965Z"
      },
      {
        "duration": 1383,
        "start_time": "2023-04-15T12:11:29.741Z"
      },
      {
        "duration": 41,
        "start_time": "2023-04-15T12:11:32.142Z"
      },
      {
        "duration": 21,
        "start_time": "2023-04-15T12:11:37.318Z"
      },
      {
        "duration": 175,
        "start_time": "2023-04-15T12:11:44.314Z"
      },
      {
        "duration": 39530,
        "start_time": "2023-04-15T12:11:51.948Z"
      },
      {
        "duration": 19311,
        "start_time": "2023-04-15T12:13:11.117Z"
      },
      {
        "duration": 19376,
        "start_time": "2023-04-15T12:16:28.210Z"
      },
      {
        "duration": 19039,
        "start_time": "2023-04-15T12:17:51.954Z"
      },
      {
        "duration": 68,
        "start_time": "2023-04-15T12:36:43.162Z"
      },
      {
        "duration": 9,
        "start_time": "2023-04-15T12:37:02.023Z"
      },
      {
        "duration": 9,
        "start_time": "2023-04-15T12:37:27.917Z"
      },
      {
        "duration": 3,
        "start_time": "2023-04-15T12:37:57.017Z"
      },
      {
        "duration": 9,
        "start_time": "2023-04-15T12:38:03.063Z"
      },
      {
        "duration": 4,
        "start_time": "2023-04-15T12:38:13.647Z"
      },
      {
        "duration": 8,
        "start_time": "2023-04-15T12:41:42.191Z"
      },
      {
        "duration": 8,
        "start_time": "2023-04-15T12:41:51.172Z"
      },
      {
        "duration": 276,
        "start_time": "2023-04-15T12:41:55.719Z"
      },
      {
        "duration": 175,
        "start_time": "2023-04-15T12:42:01.846Z"
      },
      {
        "duration": 7,
        "start_time": "2023-04-15T12:42:09.444Z"
      },
      {
        "duration": 186,
        "start_time": "2023-04-15T12:50:06.345Z"
      },
      {
        "duration": 163,
        "start_time": "2023-04-15T12:50:43.749Z"
      },
      {
        "duration": 9,
        "start_time": "2023-04-15T12:51:33.502Z"
      },
      {
        "duration": 4220,
        "start_time": "2023-04-15T13:02:32.941Z"
      },
      {
        "duration": 103,
        "start_time": "2023-04-15T13:02:37.163Z"
      },
      {
        "duration": 19,
        "start_time": "2023-04-15T13:02:37.268Z"
      },
      {
        "duration": 405,
        "start_time": "2023-04-15T13:02:37.336Z"
      },
      {
        "duration": 47803,
        "start_time": "2023-04-15T13:02:37.745Z"
      },
      {
        "duration": 29,
        "start_time": "2023-04-15T13:03:25.552Z"
      },
      {
        "duration": 44879,
        "start_time": "2023-04-15T13:03:25.584Z"
      },
      {
        "duration": 12,
        "start_time": "2023-04-15T13:04:10.466Z"
      },
      {
        "duration": 71,
        "start_time": "2023-04-16T06:55:34.779Z"
      },
      {
        "duration": 1128,
        "start_time": "2023-04-16T06:55:39.720Z"
      },
      {
        "duration": 131,
        "start_time": "2023-04-16T06:55:40.849Z"
      },
      {
        "duration": 22,
        "start_time": "2023-04-16T06:55:40.981Z"
      },
      {
        "duration": 226,
        "start_time": "2023-04-16T06:55:41.005Z"
      },
      {
        "duration": 20369,
        "start_time": "2023-04-16T06:55:41.233Z"
      },
      {
        "duration": 30,
        "start_time": "2023-04-16T06:56:01.604Z"
      },
      {
        "duration": 20254,
        "start_time": "2023-04-16T06:56:01.637Z"
      },
      {
        "duration": 106,
        "start_time": "2023-04-16T06:56:21.893Z"
      },
      {
        "duration": 8,
        "start_time": "2023-04-16T06:58:05.419Z"
      },
      {
        "duration": 21,
        "start_time": "2023-04-16T06:58:15.863Z"
      },
      {
        "duration": 14,
        "start_time": "2023-04-16T06:58:57.608Z"
      },
      {
        "duration": 29,
        "start_time": "2023-04-16T06:59:38.069Z"
      },
      {
        "duration": 8,
        "start_time": "2023-04-16T06:59:49.147Z"
      },
      {
        "duration": 15,
        "start_time": "2023-04-16T06:59:56.169Z"
      },
      {
        "duration": 11,
        "start_time": "2023-04-16T07:01:17.176Z"
      },
      {
        "duration": 42,
        "start_time": "2023-04-16T07:02:25.529Z"
      },
      {
        "duration": 27,
        "start_time": "2023-04-16T07:02:57.448Z"
      },
      {
        "duration": 108,
        "start_time": "2023-04-16T07:03:45.080Z"
      },
      {
        "duration": 23,
        "start_time": "2023-04-16T07:04:08.613Z"
      },
      {
        "duration": 12,
        "start_time": "2023-04-16T07:04:23.268Z"
      },
      {
        "duration": 18,
        "start_time": "2023-04-16T07:04:37.878Z"
      },
      {
        "duration": 17,
        "start_time": "2023-04-16T07:04:43.931Z"
      },
      {
        "duration": 23,
        "start_time": "2023-04-16T07:08:16.839Z"
      },
      {
        "duration": 25,
        "start_time": "2023-04-16T07:08:26.768Z"
      },
      {
        "duration": 23,
        "start_time": "2023-04-16T07:08:58.759Z"
      },
      {
        "duration": 10,
        "start_time": "2023-04-16T07:10:31.358Z"
      },
      {
        "duration": 5,
        "start_time": "2023-04-16T07:11:10.200Z"
      },
      {
        "duration": 143,
        "start_time": "2023-04-16T07:11:21.950Z"
      },
      {
        "duration": 7,
        "start_time": "2023-04-16T07:11:28.715Z"
      },
      {
        "duration": 73,
        "start_time": "2023-04-16T07:11:37.172Z"
      },
      {
        "duration": 6,
        "start_time": "2023-04-16T07:11:56.349Z"
      },
      {
        "duration": 11,
        "start_time": "2023-04-16T07:12:08.064Z"
      },
      {
        "duration": 10,
        "start_time": "2023-04-16T07:12:25.639Z"
      },
      {
        "duration": 78,
        "start_time": "2023-04-16T07:13:00.161Z"
      },
      {
        "duration": 103,
        "start_time": "2023-04-16T07:13:08.786Z"
      },
      {
        "duration": 10,
        "start_time": "2023-04-16T07:15:33.221Z"
      },
      {
        "duration": 67,
        "start_time": "2023-04-16T07:15:47.268Z"
      },
      {
        "duration": 8,
        "start_time": "2023-04-16T07:15:58.881Z"
      },
      {
        "duration": 11,
        "start_time": "2023-04-16T07:16:09.521Z"
      },
      {
        "duration": 10,
        "start_time": "2023-04-16T07:16:19.240Z"
      },
      {
        "duration": 8,
        "start_time": "2023-04-16T07:16:24.500Z"
      },
      {
        "duration": 10,
        "start_time": "2023-04-16T07:16:31.016Z"
      },
      {
        "duration": 57,
        "start_time": "2023-04-16T07:16:41.113Z"
      },
      {
        "duration": 11,
        "start_time": "2023-04-16T07:16:49.416Z"
      },
      {
        "duration": 8,
        "start_time": "2023-04-16T07:17:12.828Z"
      },
      {
        "duration": 12,
        "start_time": "2023-04-16T07:17:36.515Z"
      },
      {
        "duration": 11,
        "start_time": "2023-04-16T07:19:12.841Z"
      },
      {
        "duration": 13,
        "start_time": "2023-04-16T07:25:24.257Z"
      },
      {
        "duration": 12,
        "start_time": "2023-04-16T07:26:42.925Z"
      },
      {
        "duration": 12,
        "start_time": "2023-04-16T07:30:27.109Z"
      },
      {
        "duration": 12,
        "start_time": "2023-04-16T07:30:31.269Z"
      },
      {
        "duration": 15,
        "start_time": "2023-04-16T07:30:52.059Z"
      },
      {
        "duration": 16,
        "start_time": "2023-04-16T07:32:19.558Z"
      },
      {
        "duration": 9,
        "start_time": "2023-04-16T07:33:03.358Z"
      },
      {
        "duration": 8,
        "start_time": "2023-04-16T07:33:24.376Z"
      },
      {
        "duration": 6,
        "start_time": "2023-04-16T07:35:01.210Z"
      },
      {
        "duration": 53,
        "start_time": "2023-04-16T07:37:54.490Z"
      },
      {
        "duration": 51,
        "start_time": "2023-04-16T07:38:00.581Z"
      },
      {
        "duration": 49,
        "start_time": "2023-04-16T07:38:23.578Z"
      },
      {
        "duration": 96,
        "start_time": "2023-04-16T07:39:35.202Z"
      },
      {
        "duration": 97,
        "start_time": "2023-04-16T07:40:07.104Z"
      },
      {
        "duration": 69,
        "start_time": "2023-04-16T07:40:52.577Z"
      },
      {
        "duration": 71,
        "start_time": "2023-04-16T07:41:04.667Z"
      },
      {
        "duration": 81,
        "start_time": "2023-04-16T07:41:14.808Z"
      },
      {
        "duration": 69,
        "start_time": "2023-04-16T07:41:18.488Z"
      },
      {
        "duration": 89,
        "start_time": "2023-04-16T07:41:52.421Z"
      },
      {
        "duration": 63,
        "start_time": "2023-04-16T07:43:23.978Z"
      },
      {
        "duration": 932,
        "start_time": "2023-04-16T07:43:48.608Z"
      },
      {
        "duration": 463,
        "start_time": "2023-04-16T07:44:06.799Z"
      },
      {
        "duration": 501,
        "start_time": "2023-04-16T07:44:27.321Z"
      },
      {
        "duration": 609,
        "start_time": "2023-04-16T07:44:37.757Z"
      },
      {
        "duration": 55,
        "start_time": "2023-04-16T07:45:44.211Z"
      },
      {
        "duration": 59,
        "start_time": "2023-04-16T07:45:50.978Z"
      },
      {
        "duration": 6,
        "start_time": "2023-04-16T07:46:05.537Z"
      },
      {
        "duration": 16,
        "start_time": "2023-04-16T07:46:19.006Z"
      },
      {
        "duration": 15,
        "start_time": "2023-04-16T07:46:35.228Z"
      },
      {
        "duration": 15,
        "start_time": "2023-04-16T07:46:47.228Z"
      },
      {
        "duration": 18,
        "start_time": "2023-04-16T07:47:19.078Z"
      },
      {
        "duration": 15,
        "start_time": "2023-04-16T07:48:21.488Z"
      },
      {
        "duration": 27,
        "start_time": "2023-04-16T07:48:38.289Z"
      },
      {
        "duration": 16,
        "start_time": "2023-04-16T07:48:58.888Z"
      },
      {
        "duration": 15,
        "start_time": "2023-04-16T07:49:10.908Z"
      },
      {
        "duration": 14,
        "start_time": "2023-04-16T07:49:22.658Z"
      },
      {
        "duration": 17,
        "start_time": "2023-04-16T07:49:29.128Z"
      },
      {
        "duration": 18,
        "start_time": "2023-04-16T07:49:39.418Z"
      },
      {
        "duration": 21,
        "start_time": "2023-04-16T07:53:00.520Z"
      },
      {
        "duration": 19,
        "start_time": "2023-04-16T07:54:28.372Z"
      }
    ],
    "colab": {
      "provenance": []
    },
    "kernelspec": {
      "display_name": "Python 3 (ipykernel)",
      "language": "python",
      "name": "python3"
    },
    "language_info": {
      "codemirror_mode": {
        "name": "ipython",
        "version": 3
      },
      "file_extension": ".py",
      "mimetype": "text/x-python",
      "name": "python",
      "nbconvert_exporter": "python",
      "pygments_lexer": "ipython3",
      "version": "3.11.4"
    },
    "toc": {
      "base_numbering": 1,
      "nav_menu": {},
      "number_sections": true,
      "sideBar": true,
      "skip_h1_title": true,
      "title_cell": "Table of Contents",
      "title_sidebar": "Contents",
      "toc_cell": false,
      "toc_position": {},
      "toc_section_display": true,
      "toc_window_display": true
    }
  },
  "nbformat": 4,
  "nbformat_minor": 0
}
